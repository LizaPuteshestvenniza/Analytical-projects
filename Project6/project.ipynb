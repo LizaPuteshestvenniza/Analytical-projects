{
 "cells": [
  {
   "cell_type": "markdown",
   "metadata": {},
   "source": [
    "# Аналитика крупного интернет магазина\n",
    "\n",
    "Крупному интернет-магазину необходимо провести аналитику своей деятельности. Вместе с отделом маркетинга был подготовлен список гипотез для увеличения выручки.\n",
    "\n",
    "Следует приоритизировать гипотезы, запустить A/B-тест и проанализировать результаты.\n",
    "\n",
    "## Часть 1:  Приоритизация гипотез.\n",
    "### Предобработка данных\n",
    "\n",
    "Изучим данные из файла, который содержит в себе 9 гипотез по увеличению выручки интернет-магазина с указанными параметрами *Reach*, *Impact*, *Confidence*, *Effort*"
   ]
  },
  {
   "cell_type": "code",
   "execution_count": 1,
   "metadata": {},
   "outputs": [],
   "source": [
    "import pandas as pd \n",
    "from IPython.display import display\n",
    "import numpy as np\n",
    "import warnings \n",
    "warnings.filterwarnings('ignore')\n",
    "import matplotlib.pyplot as plt\n",
    "import scipy.stats as stats\n",
    "\n",
    "df = pd.read_csv('/datasets/hypothesis.csv')"
   ]
  },
  {
   "cell_type": "markdown",
   "metadata": {},
   "source": [
    "Проверим таблицу на наличие пропусков и дубликатов, а также выведем основную информацию по ней. Для этого создадим функцию *df_info*, которую можно будет использовать и во второй части проекта. "
   ]
  },
  {
   "cell_type": "code",
   "execution_count": 2,
   "metadata": {
    "scrolled": false
   },
   "outputs": [
    {
     "name": "stdout",
     "output_type": "stream",
     "text": [
      "Количесвто пропусков:\n",
      "Hypothesis    0\n",
      "Reach         0\n",
      "Impact        0\n",
      "Confidence    0\n",
      "Efforts       0\n",
      "dtype: int64\n",
      "\n",
      "Количество дубликатов:\n",
      "0\n",
      "\n",
      "информация о таблице:\n",
      "<class 'pandas.core.frame.DataFrame'>\n",
      "RangeIndex: 9 entries, 0 to 8\n",
      "Data columns (total 5 columns):\n",
      "Hypothesis    9 non-null object\n",
      "Reach         9 non-null int64\n",
      "Impact        9 non-null int64\n",
      "Confidence    9 non-null int64\n",
      "Efforts       9 non-null int64\n",
      "dtypes: int64(4), object(1)\n",
      "memory usage: 488.0+ bytes\n",
      "None\n"
     ]
    }
   ],
   "source": [
    "def df_info(df):\n",
    "    print('Количесвто пропусков:')\n",
    "    print(df.isnull().sum())\n",
    "    print('')\n",
    "    print('Количество дубликатов:')\n",
    "    print(df.duplicated().sum())\n",
    "    print('')\n",
    "    print('информация о таблице:')\n",
    "    print(df.info())\n",
    "    \n",
    "df_info(df)"
   ]
  },
  {
   "cell_type": "markdown",
   "metadata": {},
   "source": [
    "Данные готовы к анализу.\n",
    "\n",
    "### Применение фреймворков ICE и RICE\n",
    "\n",
    "Создадим столбец *ICE*, который будем заполнять для каждой гипотезы согласно формуле: *ICE = (Impact * Confidence) / Efforts*"
   ]
  },
  {
   "cell_type": "code",
   "execution_count": 3,
   "metadata": {},
   "outputs": [
    {
     "data": {
      "text/html": [
       "<div>\n",
       "<style scoped>\n",
       "    .dataframe tbody tr th:only-of-type {\n",
       "        vertical-align: middle;\n",
       "    }\n",
       "\n",
       "    .dataframe tbody tr th {\n",
       "        vertical-align: top;\n",
       "    }\n",
       "\n",
       "    .dataframe thead th {\n",
       "        text-align: right;\n",
       "    }\n",
       "</style>\n",
       "<table border=\"1\" class=\"dataframe\">\n",
       "  <thead>\n",
       "    <tr style=\"text-align: right;\">\n",
       "      <th></th>\n",
       "      <th>Hypothesis</th>\n",
       "      <th>ICE</th>\n",
       "    </tr>\n",
       "  </thead>\n",
       "  <tbody>\n",
       "    <tr>\n",
       "      <td>8</td>\n",
       "      <td>Запустить акцию, дающую скидку на товар в день рождения</td>\n",
       "      <td>16.0</td>\n",
       "    </tr>\n",
       "    <tr>\n",
       "      <td>0</td>\n",
       "      <td>Добавить два новых канала привлечения трафика, что позволит привлекать на 30% больше пользователей</td>\n",
       "      <td>13.0</td>\n",
       "    </tr>\n",
       "    <tr>\n",
       "      <td>7</td>\n",
       "      <td>Добавить форму подписки на все основные страницы, чтобы собрать базу клиентов для email-рассылок</td>\n",
       "      <td>11.0</td>\n",
       "    </tr>\n",
       "    <tr>\n",
       "      <td>6</td>\n",
       "      <td>Показать на главной странице баннеры с актуальными акциями и распродажами, чтобы увеличить конверсию</td>\n",
       "      <td>8.0</td>\n",
       "    </tr>\n",
       "    <tr>\n",
       "      <td>2</td>\n",
       "      <td>Добавить блоки рекомендаций товаров на сайт интернет магазина, чтобы повысить конверсию и средний чек заказа</td>\n",
       "      <td>7.0</td>\n",
       "    </tr>\n",
       "    <tr>\n",
       "      <td>1</td>\n",
       "      <td>Запустить собственную службу доставки, что сократит срок доставки заказов</td>\n",
       "      <td>2.0</td>\n",
       "    </tr>\n",
       "    <tr>\n",
       "      <td>3</td>\n",
       "      <td>Изменить структура категорий, что увеличит конверсию, т.к. пользователи быстрее найдут нужный товар</td>\n",
       "      <td>1.0</td>\n",
       "    </tr>\n",
       "    <tr>\n",
       "      <td>4</td>\n",
       "      <td>Изменить цвет фона главной страницы, чтобы увеличить вовлеченность пользователей</td>\n",
       "      <td>1.0</td>\n",
       "    </tr>\n",
       "    <tr>\n",
       "      <td>5</td>\n",
       "      <td>Добавить страницу отзывов клиентов о магазине, что позволит увеличить количество заказов</td>\n",
       "      <td>1.0</td>\n",
       "    </tr>\n",
       "  </tbody>\n",
       "</table>\n",
       "</div>"
      ],
      "text/plain": [
       "                                                                                                     Hypothesis  \\\n",
       "8                                                       Запустить акцию, дающую скидку на товар в день рождения   \n",
       "0            Добавить два новых канала привлечения трафика, что позволит привлекать на 30% больше пользователей   \n",
       "7              Добавить форму подписки на все основные страницы, чтобы собрать базу клиентов для email-рассылок   \n",
       "6          Показать на главной странице баннеры с актуальными акциями и распродажами, чтобы увеличить конверсию   \n",
       "2  Добавить блоки рекомендаций товаров на сайт интернет магазина, чтобы повысить конверсию и средний чек заказа   \n",
       "1                                     Запустить собственную службу доставки, что сократит срок доставки заказов   \n",
       "3           Изменить структура категорий, что увеличит конверсию, т.к. пользователи быстрее найдут нужный товар   \n",
       "4                              Изменить цвет фона главной страницы, чтобы увеличить вовлеченность пользователей   \n",
       "5                      Добавить страницу отзывов клиентов о магазине, что позволит увеличить количество заказов   \n",
       "\n",
       "    ICE  \n",
       "8  16.0  \n",
       "0  13.0  \n",
       "7  11.0  \n",
       "6   8.0  \n",
       "2   7.0  \n",
       "1   2.0  \n",
       "3   1.0  \n",
       "4   1.0  \n",
       "5   1.0  "
      ]
     },
     "execution_count": 3,
     "metadata": {},
     "output_type": "execute_result"
    }
   ],
   "source": [
    "df['ICE'] = (df['Impact'] * df['Confidence'] / df['Efforts'])\n",
    "df['ICE'] = np.round(df['ICE'])\n",
    "df = df.sort_values(by='ICE', ascending=False)\n",
    "pd.set_option('display.max_columns', None)\n",
    "pd.options.display.max_colwidth = 150\n",
    "df[['Hypothesis', 'ICE']]"
   ]
  },
  {
   "cell_type": "markdown",
   "metadata": {},
   "source": [
    "**Вывод:**\n",
    "\n",
    "Наиболее перспективными оказались следующие гипотезы: \"Запустить акцию, дающую скидку на товар в день рождения\" с индексом 8, \"Добавить два новых канала привлечения трафика, что позволит привлекать на 30% больше пользователей\" с индексом 0, \"Добавить форму подписки на все основные страницы, чтобы собрать базу клиентов для email-рассылок\" с индексом 7. \n",
    "\n",
    "Проверим теперь фреймворк *RICE*, который посчитаем по формуле: *RICE = (Reach * Impact * Confidence) / Efforts*"
   ]
  },
  {
   "cell_type": "code",
   "execution_count": 4,
   "metadata": {},
   "outputs": [
    {
     "data": {
      "text/html": [
       "<div>\n",
       "<style scoped>\n",
       "    .dataframe tbody tr th:only-of-type {\n",
       "        vertical-align: middle;\n",
       "    }\n",
       "\n",
       "    .dataframe tbody tr th {\n",
       "        vertical-align: top;\n",
       "    }\n",
       "\n",
       "    .dataframe thead th {\n",
       "        text-align: right;\n",
       "    }\n",
       "</style>\n",
       "<table border=\"1\" class=\"dataframe\">\n",
       "  <thead>\n",
       "    <tr style=\"text-align: right;\">\n",
       "      <th></th>\n",
       "      <th>Hypothesis</th>\n",
       "      <th>RICE</th>\n",
       "    </tr>\n",
       "  </thead>\n",
       "  <tbody>\n",
       "    <tr>\n",
       "      <td>7</td>\n",
       "      <td>Добавить форму подписки на все основные страницы, чтобы собрать базу клиентов для email-рассылок</td>\n",
       "      <td>112.0</td>\n",
       "    </tr>\n",
       "    <tr>\n",
       "      <td>2</td>\n",
       "      <td>Добавить блоки рекомендаций товаров на сайт интернет магазина, чтобы повысить конверсию и средний чек заказа</td>\n",
       "      <td>56.0</td>\n",
       "    </tr>\n",
       "    <tr>\n",
       "      <td>0</td>\n",
       "      <td>Добавить два новых канала привлечения трафика, что позволит привлекать на 30% больше пользователей</td>\n",
       "      <td>40.0</td>\n",
       "    </tr>\n",
       "    <tr>\n",
       "      <td>6</td>\n",
       "      <td>Показать на главной странице баннеры с актуальными акциями и распродажами, чтобы увеличить конверсию</td>\n",
       "      <td>40.0</td>\n",
       "    </tr>\n",
       "    <tr>\n",
       "      <td>8</td>\n",
       "      <td>Запустить акцию, дающую скидку на товар в день рождения</td>\n",
       "      <td>16.0</td>\n",
       "    </tr>\n",
       "    <tr>\n",
       "      <td>3</td>\n",
       "      <td>Изменить структура категорий, что увеличит конверсию, т.к. пользователи быстрее найдут нужный товар</td>\n",
       "      <td>9.0</td>\n",
       "    </tr>\n",
       "    <tr>\n",
       "      <td>1</td>\n",
       "      <td>Запустить собственную службу доставки, что сократит срок доставки заказов</td>\n",
       "      <td>4.0</td>\n",
       "    </tr>\n",
       "    <tr>\n",
       "      <td>5</td>\n",
       "      <td>Добавить страницу отзывов клиентов о магазине, что позволит увеличить количество заказов</td>\n",
       "      <td>4.0</td>\n",
       "    </tr>\n",
       "    <tr>\n",
       "      <td>4</td>\n",
       "      <td>Изменить цвет фона главной страницы, чтобы увеличить вовлеченность пользователей</td>\n",
       "      <td>3.0</td>\n",
       "    </tr>\n",
       "  </tbody>\n",
       "</table>\n",
       "</div>"
      ],
      "text/plain": [
       "                                                                                                     Hypothesis  \\\n",
       "7              Добавить форму подписки на все основные страницы, чтобы собрать базу клиентов для email-рассылок   \n",
       "2  Добавить блоки рекомендаций товаров на сайт интернет магазина, чтобы повысить конверсию и средний чек заказа   \n",
       "0            Добавить два новых канала привлечения трафика, что позволит привлекать на 30% больше пользователей   \n",
       "6          Показать на главной странице баннеры с актуальными акциями и распродажами, чтобы увеличить конверсию   \n",
       "8                                                       Запустить акцию, дающую скидку на товар в день рождения   \n",
       "3           Изменить структура категорий, что увеличит конверсию, т.к. пользователи быстрее найдут нужный товар   \n",
       "1                                     Запустить собственную службу доставки, что сократит срок доставки заказов   \n",
       "5                      Добавить страницу отзывов клиентов о магазине, что позволит увеличить количество заказов   \n",
       "4                              Изменить цвет фона главной страницы, чтобы увеличить вовлеченность пользователей   \n",
       "\n",
       "    RICE  \n",
       "7  112.0  \n",
       "2   56.0  \n",
       "0   40.0  \n",
       "6   40.0  \n",
       "8   16.0  \n",
       "3    9.0  \n",
       "1    4.0  \n",
       "5    4.0  \n",
       "4    3.0  "
      ]
     },
     "execution_count": 4,
     "metadata": {},
     "output_type": "execute_result"
    }
   ],
   "source": [
    "df['RICE'] = (df['Reach'] * df['Impact'] * df['Confidence'] / df['Efforts'])\n",
    "df['RICE'] = np.round(df['RICE'])\n",
    "df = df.sort_values(by='RICE', ascending=False)\n",
    "pd.set_option('display.max_columns', None)\n",
    "pd.options.display.max_colwidth = 150\n",
    "df[['Hypothesis', 'RICE']]"
   ]
  },
  {
   "cell_type": "markdown",
   "metadata": {},
   "source": [
    "**Вывод:**\n",
    "\n",
    "С учетом добавления параметра *Reach* в формулу, наиболее перспективными оказались следующие гипотезы: \"Добавить форму подписки на все основные страницы, чтобы собрать базу клиентов для email-рассылок\" с индексом 7, \"Добавить блоки рекомендаций товаров на сайт интернет магазина, чтобы повысить конверсию и средний чек заказа\"с индексом 2, \"Добавить два новых канала привлечения трафика, что позволит привлекать на 30% больше пользователей\" с индексом 0."
   ]
  },
  {
   "cell_type": "markdown",
   "metadata": {},
   "source": [
    "### Общий вывод\n",
    "\n",
    "Объедеим результат в общую таблицу и проранжируем по фреймворку RICE. "
   ]
  },
  {
   "cell_type": "code",
   "execution_count": 5,
   "metadata": {},
   "outputs": [
    {
     "data": {
      "text/html": [
       "<div>\n",
       "<style scoped>\n",
       "    .dataframe tbody tr th:only-of-type {\n",
       "        vertical-align: middle;\n",
       "    }\n",
       "\n",
       "    .dataframe tbody tr th {\n",
       "        vertical-align: top;\n",
       "    }\n",
       "\n",
       "    .dataframe thead th {\n",
       "        text-align: right;\n",
       "    }\n",
       "</style>\n",
       "<table border=\"1\" class=\"dataframe\">\n",
       "  <thead>\n",
       "    <tr style=\"text-align: right;\">\n",
       "      <th></th>\n",
       "      <th>Hypothesis</th>\n",
       "      <th>RICE</th>\n",
       "      <th>ICE</th>\n",
       "    </tr>\n",
       "  </thead>\n",
       "  <tbody>\n",
       "    <tr>\n",
       "      <td>7</td>\n",
       "      <td>Добавить форму подписки на все основные страницы, чтобы собрать базу клиентов для email-рассылок</td>\n",
       "      <td>112.0</td>\n",
       "      <td>11.0</td>\n",
       "    </tr>\n",
       "    <tr>\n",
       "      <td>2</td>\n",
       "      <td>Добавить блоки рекомендаций товаров на сайт интернет магазина, чтобы повысить конверсию и средний чек заказа</td>\n",
       "      <td>56.0</td>\n",
       "      <td>7.0</td>\n",
       "    </tr>\n",
       "    <tr>\n",
       "      <td>0</td>\n",
       "      <td>Добавить два новых канала привлечения трафика, что позволит привлекать на 30% больше пользователей</td>\n",
       "      <td>40.0</td>\n",
       "      <td>13.0</td>\n",
       "    </tr>\n",
       "    <tr>\n",
       "      <td>6</td>\n",
       "      <td>Показать на главной странице баннеры с актуальными акциями и распродажами, чтобы увеличить конверсию</td>\n",
       "      <td>40.0</td>\n",
       "      <td>8.0</td>\n",
       "    </tr>\n",
       "    <tr>\n",
       "      <td>8</td>\n",
       "      <td>Запустить акцию, дающую скидку на товар в день рождения</td>\n",
       "      <td>16.0</td>\n",
       "      <td>16.0</td>\n",
       "    </tr>\n",
       "    <tr>\n",
       "      <td>3</td>\n",
       "      <td>Изменить структура категорий, что увеличит конверсию, т.к. пользователи быстрее найдут нужный товар</td>\n",
       "      <td>9.0</td>\n",
       "      <td>1.0</td>\n",
       "    </tr>\n",
       "    <tr>\n",
       "      <td>1</td>\n",
       "      <td>Запустить собственную службу доставки, что сократит срок доставки заказов</td>\n",
       "      <td>4.0</td>\n",
       "      <td>2.0</td>\n",
       "    </tr>\n",
       "    <tr>\n",
       "      <td>5</td>\n",
       "      <td>Добавить страницу отзывов клиентов о магазине, что позволит увеличить количество заказов</td>\n",
       "      <td>4.0</td>\n",
       "      <td>1.0</td>\n",
       "    </tr>\n",
       "    <tr>\n",
       "      <td>4</td>\n",
       "      <td>Изменить цвет фона главной страницы, чтобы увеличить вовлеченность пользователей</td>\n",
       "      <td>3.0</td>\n",
       "      <td>1.0</td>\n",
       "    </tr>\n",
       "  </tbody>\n",
       "</table>\n",
       "</div>"
      ],
      "text/plain": [
       "                                                                                                     Hypothesis  \\\n",
       "7              Добавить форму подписки на все основные страницы, чтобы собрать базу клиентов для email-рассылок   \n",
       "2  Добавить блоки рекомендаций товаров на сайт интернет магазина, чтобы повысить конверсию и средний чек заказа   \n",
       "0            Добавить два новых канала привлечения трафика, что позволит привлекать на 30% больше пользователей   \n",
       "6          Показать на главной странице баннеры с актуальными акциями и распродажами, чтобы увеличить конверсию   \n",
       "8                                                       Запустить акцию, дающую скидку на товар в день рождения   \n",
       "3           Изменить структура категорий, что увеличит конверсию, т.к. пользователи быстрее найдут нужный товар   \n",
       "1                                     Запустить собственную службу доставки, что сократит срок доставки заказов   \n",
       "5                      Добавить страницу отзывов клиентов о магазине, что позволит увеличить количество заказов   \n",
       "4                              Изменить цвет фона главной страницы, чтобы увеличить вовлеченность пользователей   \n",
       "\n",
       "    RICE   ICE  \n",
       "7  112.0  11.0  \n",
       "2   56.0   7.0  \n",
       "0   40.0  13.0  \n",
       "6   40.0   8.0  \n",
       "8   16.0  16.0  \n",
       "3    9.0   1.0  \n",
       "1    4.0   2.0  \n",
       "5    4.0   1.0  \n",
       "4    3.0   1.0  "
      ]
     },
     "execution_count": 5,
     "metadata": {},
     "output_type": "execute_result"
    }
   ],
   "source": [
    "df[['Hypothesis', 'RICE', 'ICE']]"
   ]
  },
  {
   "cell_type": "markdown",
   "metadata": {},
   "source": [
    "При проведении приоритизаций гипотез фреймворки показали разные результаты, и если гипотезы \"Добавить форму подписки на все основные страницы, чтобы собрать базу клиентов для email-рассылок\" и \"Добавить два новых канала привлечения трафика, что позволит привлекать на 30% больше пользователей\" встречаются в обоих вариантах, но на разных местах, то гипотезы \"Добавить блоки рекомендаций товаров на сайт интернет магазина, чтобы повысить конверсию и средний чек заказа\" и \"Запустить акцию, дающую скидку на товар в день рождения\" исключительно по одному разу, причем что, там где они не входят в ТОП-3, они занимают низкие позиции. \n",
    "\n",
    "Скорее всего это произошло в связи с тем, что добавился параметр *Reach*, который отвечает за охват пользователей, следовательно, вероятно, что у гипотезы \"Запустить акцию, дающую скидку на товар в день рождения\" слишком маленький охват, а у \"Добавить блоки рекомендаций товаров на сайт интернет магазина, чтобы повысить конверсию и средний чек заказа\" напротив, большой. \n",
    "\n",
    "## Часть 2: Анализ A/B-теста\n",
    "\n",
    "### Предобработка данных\n",
    "\n",
    "Изучим данные из файлов, которые содержат в себе результаты проведенного A/B - теста, а также проверим таблицы на наличие пропусков и дубликатов по уже полученной ранее функции *df_info*:"
   ]
  },
  {
   "cell_type": "code",
   "execution_count": 6,
   "metadata": {},
   "outputs": [
    {
     "name": "stdout",
     "output_type": "stream",
     "text": [
      "таблица с заказами\n",
      "\n",
      "Количесвто пропусков:\n",
      "transactionId    0\n",
      "visitorId        0\n",
      "date             0\n",
      "revenue          0\n",
      "group            0\n",
      "dtype: int64\n",
      "\n",
      "Количество дубликатов:\n",
      "0\n",
      "\n",
      "информация о таблице:\n",
      "<class 'pandas.core.frame.DataFrame'>\n",
      "RangeIndex: 1197 entries, 0 to 1196\n",
      "Data columns (total 5 columns):\n",
      "transactionId    1197 non-null int64\n",
      "visitorId        1197 non-null int64\n",
      "date             1197 non-null object\n",
      "revenue          1197 non-null int64\n",
      "group            1197 non-null object\n",
      "dtypes: int64(3), object(2)\n",
      "memory usage: 46.9+ KB\n",
      "None\n",
      "\n",
      "таблица с визитами\n",
      "\n",
      "Количесвто пропусков:\n",
      "date        0\n",
      "group       0\n",
      "visitors    0\n",
      "dtype: int64\n",
      "\n",
      "Количество дубликатов:\n",
      "0\n",
      "\n",
      "информация о таблице:\n",
      "<class 'pandas.core.frame.DataFrame'>\n",
      "RangeIndex: 62 entries, 0 to 61\n",
      "Data columns (total 3 columns):\n",
      "date        62 non-null object\n",
      "group       62 non-null object\n",
      "visitors    62 non-null int64\n",
      "dtypes: int64(1), object(2)\n",
      "memory usage: 1.6+ KB\n",
      "None\n",
      "\n"
     ]
    }
   ],
   "source": [
    "df_orders = pd.read_csv('/datasets/orders.csv')\n",
    "df_visits = pd.read_csv('/datasets/visitors.csv')\n",
    "\n",
    "datas = [df_orders, df_visits]\n",
    "names = ['таблица с заказами', 'таблица с визитами']\n",
    "\n",
    "for i,j in zip(datas, names):\n",
    "    print(j)\n",
    "    print('')\n",
    "    df_info(i)\n",
    "    print('')"
   ]
  },
  {
   "cell_type": "markdown",
   "metadata": {},
   "source": [
    "Единственная проблема, которая встретилась - неправильный формат даты у обоих таблиц, исправим это. "
   ]
  },
  {
   "cell_type": "code",
   "execution_count": 7,
   "metadata": {},
   "outputs": [],
   "source": [
    "for i in datas:\n",
    "    i['date'] = pd.to_datetime(i['date'], format='%Y-%m-%d')"
   ]
  },
  {
   "cell_type": "markdown",
   "metadata": {},
   "source": [
    "Однако также необходимо проверить, не попали ли пользователи одновременно в обе группы: сгрупируем пользователей по их айди и выведем соответствующие им количество групп, данный столбец должен содержать одно уникальное значение: \"1\", потому что каждому пользователю должна соответствовать всего одна группа. "
   ]
  },
  {
   "cell_type": "code",
   "execution_count": 8,
   "metadata": {},
   "outputs": [],
   "source": [
    "cheking = df_orders.groupby('visitorId')['group'].nunique()\n",
    "cheking = cheking.reset_index()\n",
    "cheking.columns = ['visitorId', 'amount_of_group']"
   ]
  },
  {
   "cell_type": "markdown",
   "metadata": {},
   "source": [
    "Как оказалось, есть пользователи, которые попали в обе группы, исключим из таблицы *df_orders* таких пользователей"
   ]
  },
  {
   "cell_type": "code",
   "execution_count": 9,
   "metadata": {},
   "outputs": [],
   "source": [
    "df_orders = df_orders.merge(cheking, on='visitorId')\n",
    "df_orders = df_orders[df_orders['amount_of_group'] == 1]"
   ]
  },
  {
   "cell_type": "markdown",
   "metadata": {},
   "source": [
    "Данные готовы к анализу. \n",
    "\n",
    "### График кумулятивной выручки по группам\n",
    "\n",
    "Чтобы построить графики, нужно собрать кумулятивные данные. Объявим датафрейм *cumulativeData*"
   ]
  },
  {
   "cell_type": "code",
   "execution_count": 10,
   "metadata": {},
   "outputs": [],
   "source": [
    "datesGroups = df_orders[['date','group']].drop_duplicates()\n",
    "\n",
    "ordersAggregated = datesGroups.apply(lambda x: df_orders[np.logical_and(df_orders['date'] <= x['date'], df_orders['group'] == x['group'])].agg({'date' : 'max', \n",
    "                                                                                                                                                'group' : 'max', \n",
    "                                                                                                                                                'transactionId' : 'nunique', \n",
    "                                                                                                                                                'visitorId' : 'nunique', \n",
    "                                                                                                                                                'revenue' : 'sum'}), axis=1).sort_values(by=['date','group'])\n",
    "\n",
    "visitorsAggregated = datesGroups.apply(lambda x: df_visits[np.logical_and(df_visits['date'] <= x['date'],df_visits['group'] == x['group'])].agg({'date' : 'max', \n",
    "                                                                                                                                                 'group' : 'max', \n",
    "                                                                                                                                                 'visitors' : 'sum'}), axis=1).sort_values(by=['date','group'])\n",
    "\n",
    "cumulativeData = ordersAggregated.merge(visitorsAggregated, left_on=['date', 'group'], right_on=['date', 'group'])\n",
    "cumulativeData.columns = ['date', \n",
    "                          'group', \n",
    "                          'orders', \n",
    "                          'buyers', \n",
    "                          'revenue', \n",
    "                          'visitors']\n",
    "\n",
    "cumulativeRevenueA = cumulativeData[cumulativeData['group']=='A'][['date','revenue', 'orders']]\n",
    "cumulativeRevenueB = cumulativeData[cumulativeData['group']=='B'][['date','revenue', 'orders']]\n",
    "\n",
    "plt.rcParams['figure.figsize'] = (15, 10)"
   ]
  },
  {
   "cell_type": "code",
   "execution_count": 11,
   "metadata": {},
   "outputs": [
    {
     "data": {
      "image/png": "[encoded data removed]",
      "text/plain": [
       "<Figure size 1080x720 with 1 Axes>"
      ]
     },
     "metadata": {
      "needs_background": "light"
     },
     "output_type": "display_data"
    }
   ],
   "source": [
    "plt.plot(cumulativeRevenueA['date'], cumulativeRevenueA['revenue'], label='A')\n",
    "plt.plot(cumulativeRevenueB['date'], cumulativeRevenueB['revenue'], label='B')\n",
    "\n",
    "plt.title('cumulative revenue')\n",
    "plt.xlabel('date')\n",
    "plt.ylabel('revenue, rub')\n",
    "plt.legend() \n",
    "\n",
    "plt.annotate('скачок', xy=('2019-08-17', 2800000), xytext=('2019-08-10', 3500000),\n",
    "            arrowprops=dict(facecolor='g'))\n",
    "plt.annotate('отрыв', xy=('2019-08-05', 800000), xytext=('2019-08-05', 2000000),\n",
    "            arrowprops=dict(facecolor='g'))\n",
    "plt.show()"
   ]
  },
  {
   "cell_type": "markdown",
   "metadata": {},
   "source": [
    "**Вывод:**\n",
    "\n",
    "Выручка почти равномерно увеличивается в течение всего теста.\n",
    "\n",
    "Однако график выручки группы B в одной точке резко растет. Это может сигнализировать о всплесках числа заказов, либо о появлении очень дорогих заказов в выборке.\n",
    "\n",
    "###  График кумулятивного среднего чека по группам"
   ]
  },
  {
   "cell_type": "code",
   "execution_count": 12,
   "metadata": {},
   "outputs": [
    {
     "data": {
      "text/plain": [
       "Text(2019-08-10, 8000, 'скачок')"
      ]
     },
     "execution_count": 12,
     "metadata": {},
     "output_type": "execute_result"
    },
    {
     "data": {
      "image/png": "[encoded data removed]",
      "text/plain": [
       "<Figure size 1080x720 with 1 Axes>"
      ]
     },
     "metadata": {
      "needs_background": "light"
     },
     "output_type": "display_data"
    }
   ],
   "source": [
    "plt.plot(cumulativeRevenueA['date'], cumulativeRevenueA['revenue']/cumulativeRevenueA['orders'], label='A')\n",
    "plt.plot(cumulativeRevenueB['date'], cumulativeRevenueB['revenue']/cumulativeRevenueB['orders'], label='B')\n",
    "plt.title('cumulative average check')\n",
    "plt.xlabel('date')\n",
    "plt.ylabel('average check, rub')\n",
    "plt.legend() \n",
    "plt.annotate('скачок', xy=('2019-08-17', 9000), xytext=('2019-08-10', 8000),\n",
    "            arrowprops=dict(facecolor='g'))"
   ]
  },
  {
   "cell_type": "markdown",
   "metadata": {},
   "source": [
    "**Вывод:**\n",
    "\n",
    "Средний чек для группы А становится равномерным ближе к концу теста, а для группы наблюдается спад. Возможно, в группу B в середине теста попали крупные заказы, о чем сигнализирует резкий всплеск на графике, тогда ей нужно больше данных, чтобы прийти к реальному среднему чеку и установиться на его уровне.\n",
    "\n",
    "### График относительного изменения кумулятивного среднего чека"
   ]
  },
  {
   "cell_type": "code",
   "execution_count": 13,
   "metadata": {},
   "outputs": [
    {
     "data": {
      "image/png": "[encoded data removed]",
      "text/plain": [
       "<Figure size 1080x720 with 1 Axes>"
      ]
     },
     "metadata": {
      "needs_background": "light"
     },
     "output_type": "display_data"
    }
   ],
   "source": [
    "mergedCumulativeRevenue = cumulativeRevenueA.merge(cumulativeRevenueB, \n",
    "                                                   left_on='date',\n",
    "                                                   right_on='date', \n",
    "                                                   how='left', \n",
    "                                                   suffixes=['A', 'B'])\n",
    "plt.plot(mergedCumulativeRevenue['date'], \n",
    "         (mergedCumulativeRevenue['revenueB']/mergedCumulativeRevenue['ordersB'])/(mergedCumulativeRevenue['revenueA']/mergedCumulativeRevenue['ordersA'])-1)\n",
    "plt.axhline(y=0, color='black', linestyle='--')\n",
    "plt.title('change of cumulative average check')\n",
    "plt.xlabel('date')\n",
    "plt.ylabel('change of average check')\n",
    "plt.show()"
   ]
  },
  {
   "cell_type": "markdown",
   "metadata": {},
   "source": [
    "**Вывод:**\n",
    "\n",
    "Есть точки, в которых график различия между сегментами резко скачет, это означает наличие крупных заказов и выбросов.\n",
    "\n",
    "###  График кумулятивной конверсии по группам"
   ]
  },
  {
   "cell_type": "code",
   "execution_count": 14,
   "metadata": {},
   "outputs": [
    {
     "data": {
      "image/png": "[encoded data removed]",
      "text/plain": [
       "<Figure size 1080x720 with 1 Axes>"
      ]
     },
     "metadata": {
      "needs_background": "light"
     },
     "output_type": "display_data"
    }
   ],
   "source": [
    "cumulativeData['conversion'] = cumulativeData['orders']/cumulativeData['visitors']\n",
    "\n",
    "cumulativeDataA = cumulativeData[cumulativeData['group']=='A']\n",
    "cumulativeDataB = cumulativeData[cumulativeData['group']=='B']\n",
    "\n",
    "plt.plot(cumulativeDataA['date'], cumulativeDataA['conversion'], label='A')\n",
    "plt.plot(cumulativeDataB['date'], cumulativeDataB['conversion'], label='B')\n",
    "plt.title('cumulative conversion')\n",
    "plt.xlabel('date')\n",
    "plt.ylabel('average conversion')\n",
    "plt.legend()\n",
    "plt.annotate('отрыв', xy=('2019-08-06', 0.029), xytext=('2019-08-05', 0.031),\n",
    "            arrowprops=dict(facecolor='g'))\n",
    "plt.show()"
   ]
  },
  {
   "cell_type": "markdown",
   "metadata": {},
   "source": [
    "**Вывод:**\n",
    "\n",
    "Полученный график симметричен. Kонверсия группы B сильно вырвалась вперёд и зафиксировалась, а конверсия группы A просела, но тоже зафиксировалась.\n",
    "\n",
    "### График относительного изменения кумулятивной конверсии"
   ]
  },
  {
   "cell_type": "code",
   "execution_count": 15,
   "metadata": {},
   "outputs": [
    {
     "data": {
      "image/png": "[encoded data removed]",
      "text/plain": [
       "<Figure size 1080x720 with 1 Axes>"
      ]
     },
     "metadata": {
      "needs_background": "light"
     },
     "output_type": "display_data"
    }
   ],
   "source": [
    "mergedCumulativeConversions = cumulativeDataA[['date','conversion']].merge(cumulativeDataB[['date','conversion']], \n",
    "                                                                           left_on='date',\n",
    "                                                                           right_on='date', \n",
    "                                                                           how='left',\n",
    "                                                                           suffixes=['A', 'B'])\n",
    "\n",
    "plt.plot(mergedCumulativeConversions['date'], \n",
    "         mergedCumulativeConversions['conversionB']/mergedCumulativeConversions['conversionA']-1, label=\"Относительный прирост конверсии группы B относительно группы A\")\n",
    "\n",
    "plt.axhline(y=0, color='black', linestyle='--')\n",
    "plt.axhline(y=0.029, color='grey', linestyle='--')\n",
    "plt.title('change of cumulative conversion')\n",
    "plt.xlabel('date')\n",
    "plt.ylabel('change of conversion')\n",
    "#plt.axis([\"2019-04-01\", '2019-04-23', -0.6, 0.6]) \n",
    "plt.show()"
   ]
  },
  {
   "cell_type": "markdown",
   "metadata": {},
   "source": [
    "В целом отношение конверсии ещё не установилось, и сейчас делать какие-либо выводы по тесту нельзя, поэтому сперва стоит проанализировать аномалии, возможно, они изменят картину\n",
    "\n",
    "### Точечный график количества заказов по пользователям"
   ]
  },
  {
   "cell_type": "code",
   "execution_count": 16,
   "metadata": {},
   "outputs": [
    {
     "data": {
      "image/png": "[encoded data removed]",
      "text/plain": [
       "<Figure size 1080x720 with 1 Axes>"
      ]
     },
     "metadata": {
      "needs_background": "light"
     },
     "output_type": "display_data"
    }
   ],
   "source": [
    "orders_count = df_orders.groupby('visitorId')['transactionId'].count()\n",
    "orders_count = orders_count.reset_index()\n",
    "orders_count.columns = ['visitor', \n",
    "                        'numper_of_orders']\n",
    "\n",
    "x_values = pd.Series(range(0,len(orders_count['numper_of_orders'])))\n",
    "plt.scatter(x_values, orders_count['numper_of_orders'])\n",
    "plt.title('amount of orders per user')\n",
    "plt.xlabel('userId')\n",
    "plt.ylabel('amount of orders')\n",
    "plt.show()"
   ]
  },
  {
   "cell_type": "markdown",
   "metadata": {},
   "source": [
    "**Вывод:**\n",
    "\n",
    "С учетом удаления пользователей, которые входили в обе группы, получили, что количесвто всех заказов лежит в пределах 1-2 заказов на пользователя, однако есть и такие пользователи, кто имеет больше заказов. \n",
    "\n",
    "###  95-й и 99-й перцентили количества заказов на пользователя"
   ]
  },
  {
   "cell_type": "code",
   "execution_count": 17,
   "metadata": {},
   "outputs": [
    {
     "name": "stdout",
     "output_type": "stream",
     "text": [
      "[1. 2.]\n"
     ]
    }
   ],
   "source": [
    "print(np.percentile(orders_count['numper_of_orders'], [95, 99])) "
   ]
  },
  {
   "cell_type": "markdown",
   "metadata": {},
   "source": [
    "**Вывод:**\n",
    "\n",
    "Не более 5% пользователей имеют 1 заказ и не более 1% имеют 2. Определим границей аномальных заказов количество заказов равное двум. \n",
    "\n",
    "### Точечный график стоимостей заказов"
   ]
  },
  {
   "cell_type": "code",
   "execution_count": 18,
   "metadata": {},
   "outputs": [
    {
     "data": {
      "image/png": "[encoded data removed]",
      "text/plain": [
       "<Figure size 1080x720 with 1 Axes>"
      ]
     },
     "metadata": {
      "needs_background": "light"
     },
     "output_type": "display_data"
    }
   ],
   "source": [
    "x_values = pd.Series(range(0,len(df_orders['revenue'])))\n",
    "plt.scatter(x_values, df_orders['revenue'])\n",
    "plt.title('income per user')\n",
    "plt.xlabel('userId')\n",
    "plt.ylabel('income')\n",
    "plt.show()"
   ]
  },
  {
   "cell_type": "markdown",
   "metadata": {},
   "source": [
    "**Вывод:**\n",
    "\n",
    "В основном все заказы дешевле 200 тысяч, однако есть два заказа, сильно выбивающихся из общей картины, один из которых по своей стоимости может покрыть несколько обычных заказов вместе взятых. \n",
    "\n",
    "### 95-й и 99-й перцентили стоимости заказов"
   ]
  },
  {
   "cell_type": "code",
   "execution_count": 19,
   "metadata": {
    "scrolled": true
   },
   "outputs": [
    {
     "name": "stdout",
     "output_type": "stream",
     "text": [
      "[26785. 53904.]\n"
     ]
    }
   ],
   "source": [
    "print(np.percentile(df_orders['revenue'], [95, 99])) "
   ]
  },
  {
   "cell_type": "markdown",
   "metadata": {},
   "source": [
    "**Вывод:**\n",
    "\n",
    "Не более 5% заказов по стоимости составляют 28000 и не более 1% составляю 58233.2. Определим границей аномальных заказов стоимость заказа равную 58233.2\n",
    "\n",
    "### Статистическая значимость различий в конверсии между группами по «сырым» данным\n",
    "\n",
    "Для начала подготовим таблицу *data*, которую будем использовать для анализа показателей"
   ]
  },
  {
   "cell_type": "code",
   "execution_count": 20,
   "metadata": {},
   "outputs": [
    {
     "data": {
      "text/html": [
       "<div>\n",
       "<style scoped>\n",
       "    .dataframe tbody tr th:only-of-type {\n",
       "        vertical-align: middle;\n",
       "    }\n",
       "\n",
       "    .dataframe tbody tr th {\n",
       "        vertical-align: top;\n",
       "    }\n",
       "\n",
       "    .dataframe thead th {\n",
       "        text-align: right;\n",
       "    }\n",
       "</style>\n",
       "<table border=\"1\" class=\"dataframe\">\n",
       "  <thead>\n",
       "    <tr style=\"text-align: right;\">\n",
       "      <th></th>\n",
       "      <th>date</th>\n",
       "      <th>ordersPerDateA</th>\n",
       "      <th>revenuePerDateA</th>\n",
       "      <th>ordersPerDateB</th>\n",
       "      <th>revenuePerDateB</th>\n",
       "      <th>ordersCummulativeA</th>\n",
       "      <th>revenueCummulativeA</th>\n",
       "      <th>ordersCummulativeB</th>\n",
       "      <th>revenueCummulativeB</th>\n",
       "      <th>visitorsPerDateA</th>\n",
       "      <th>visitorsPerDateB</th>\n",
       "      <th>visitorsCummulativeA</th>\n",
       "      <th>visitorsCummulativeB</th>\n",
       "    </tr>\n",
       "  </thead>\n",
       "  <tbody>\n",
       "    <tr>\n",
       "      <td>0</td>\n",
       "      <td>2019-08-01</td>\n",
       "      <td>23</td>\n",
       "      <td>142779</td>\n",
       "      <td>17</td>\n",
       "      <td>59758</td>\n",
       "      <td>23</td>\n",
       "      <td>142779</td>\n",
       "      <td>17</td>\n",
       "      <td>59758</td>\n",
       "      <td>719</td>\n",
       "      <td>713</td>\n",
       "      <td>719</td>\n",
       "      <td>713</td>\n",
       "    </tr>\n",
       "    <tr>\n",
       "      <td>1</td>\n",
       "      <td>2019-08-02</td>\n",
       "      <td>19</td>\n",
       "      <td>91602</td>\n",
       "      <td>23</td>\n",
       "      <td>162043</td>\n",
       "      <td>42</td>\n",
       "      <td>234381</td>\n",
       "      <td>40</td>\n",
       "      <td>221801</td>\n",
       "      <td>619</td>\n",
       "      <td>581</td>\n",
       "      <td>1338</td>\n",
       "      <td>1294</td>\n",
       "    </tr>\n",
       "    <tr>\n",
       "      <td>2</td>\n",
       "      <td>2019-08-03</td>\n",
       "      <td>24</td>\n",
       "      <td>112473</td>\n",
       "      <td>14</td>\n",
       "      <td>67049</td>\n",
       "      <td>66</td>\n",
       "      <td>346854</td>\n",
       "      <td>54</td>\n",
       "      <td>288850</td>\n",
       "      <td>507</td>\n",
       "      <td>509</td>\n",
       "      <td>1845</td>\n",
       "      <td>1803</td>\n",
       "    </tr>\n",
       "    <tr>\n",
       "      <td>3</td>\n",
       "      <td>2019-08-04</td>\n",
       "      <td>11</td>\n",
       "      <td>41176</td>\n",
       "      <td>14</td>\n",
       "      <td>96890</td>\n",
       "      <td>77</td>\n",
       "      <td>388030</td>\n",
       "      <td>68</td>\n",
       "      <td>385740</td>\n",
       "      <td>717</td>\n",
       "      <td>770</td>\n",
       "      <td>2562</td>\n",
       "      <td>2573</td>\n",
       "    </tr>\n",
       "    <tr>\n",
       "      <td>4</td>\n",
       "      <td>2019-08-05</td>\n",
       "      <td>22</td>\n",
       "      <td>86383</td>\n",
       "      <td>21</td>\n",
       "      <td>89908</td>\n",
       "      <td>99</td>\n",
       "      <td>474413</td>\n",
       "      <td>89</td>\n",
       "      <td>475648</td>\n",
       "      <td>756</td>\n",
       "      <td>707</td>\n",
       "      <td>3318</td>\n",
       "      <td>3280</td>\n",
       "    </tr>\n",
       "  </tbody>\n",
       "</table>\n",
       "</div>"
      ],
      "text/plain": [
       "        date  ordersPerDateA  revenuePerDateA  ordersPerDateB  \\\n",
       "0 2019-08-01              23           142779              17   \n",
       "1 2019-08-02              19            91602              23   \n",
       "2 2019-08-03              24           112473              14   \n",
       "3 2019-08-04              11            41176              14   \n",
       "4 2019-08-05              22            86383              21   \n",
       "\n",
       "   revenuePerDateB  ordersCummulativeA  revenueCummulativeA  \\\n",
       "0            59758                  23               142779   \n",
       "1           162043                  42               234381   \n",
       "2            67049                  66               346854   \n",
       "3            96890                  77               388030   \n",
       "4            89908                  99               474413   \n",
       "\n",
       "   ordersCummulativeB  revenueCummulativeB  visitorsPerDateA  \\\n",
       "0                  17                59758               719   \n",
       "1                  40               221801               619   \n",
       "2                  54               288850               507   \n",
       "3                  68               385740               717   \n",
       "4                  89               475648               756   \n",
       "\n",
       "   visitorsPerDateB  visitorsCummulativeA  visitorsCummulativeB  \n",
       "0               713                   719                   713  \n",
       "1               581                  1338                  1294  \n",
       "2               509                  1845                  1803  \n",
       "3               770                  2562                  2573  \n",
       "4               707                  3318                  3280  "
      ]
     },
     "execution_count": 20,
     "metadata": {},
     "output_type": "execute_result"
    }
   ],
   "source": [
    "visitorsADaily = df_visits[df_visits['group'] == 'A'][['date', 'visitors']]\n",
    "visitorsADaily.columns = ['date', 'visitorsPerDateA']\n",
    "\n",
    "visitorsACummulative = visitorsADaily.apply(\n",
    "    lambda x: visitorsADaily[visitorsADaily['date'] <= x['date']].agg(\n",
    "        {'date': 'max', 'visitorsPerDateA': 'sum'}\n",
    "    ),\n",
    "    axis=1,\n",
    ")\n",
    "visitorsACummulative.columns = ['date', 'visitorsCummulativeA']\n",
    "\n",
    "visitorsBDaily = df_visits[df_visits['group'] == 'B'][['date', 'visitors']]\n",
    "visitorsBDaily.columns = ['date', 'visitorsPerDateB']\n",
    "\n",
    "visitorsBCummulative = visitorsBDaily.apply(\n",
    "    lambda x: visitorsBDaily[visitorsBDaily['date'] <= x['date']].agg(\n",
    "        {'date': 'max', 'visitorsPerDateB': 'sum'}\n",
    "    ),\n",
    "    axis=1,\n",
    ")\n",
    "visitorsBCummulative.columns = ['date', 'visitorsCummulativeB']\n",
    "\n",
    "ordersADaily = (\n",
    "    df_orders[df_orders['group'] == 'A'][['date', 'transactionId', 'visitorId', 'revenue']]\n",
    "    .groupby('date', as_index=False)\n",
    "    .agg({'transactionId': pd.Series.nunique, 'revenue': 'sum'})\n",
    ")\n",
    "ordersADaily.columns = ['date', 'ordersPerDateA', 'revenuePerDateA']\n",
    "\n",
    "ordersACummulative = ordersADaily.apply(\n",
    "    lambda x: ordersADaily[ordersADaily['date'] <= x['date']].agg(\n",
    "        {'date': 'max', 'ordersPerDateA': 'sum', 'revenuePerDateA': 'sum'}\n",
    "    ),\n",
    "    axis=1,\n",
    ").sort_values(by=['date'])\n",
    "ordersACummulative.columns = [\n",
    "    'date',\n",
    "    'ordersCummulativeA',\n",
    "    'revenueCummulativeA',\n",
    "]\n",
    "\n",
    "ordersBDaily = (\n",
    "    df_orders[df_orders['group'] == 'B'][['date', 'transactionId', 'visitorId', 'revenue']]\n",
    "    .groupby('date', as_index=False)\n",
    "    .agg({'transactionId': pd.Series.nunique, 'revenue': 'sum'})\n",
    ")\n",
    "ordersBDaily.columns = ['date', 'ordersPerDateB', 'revenuePerDateB']\n",
    "\n",
    "ordersBCummulative = ordersBDaily.apply(\n",
    "    lambda x: ordersBDaily[ordersBDaily['date'] <= x['date']].agg(\n",
    "        {'date': 'max', 'ordersPerDateB': 'sum', 'revenuePerDateB': 'sum'}\n",
    "    ),\n",
    "    axis=1,\n",
    ").sort_values(by=['date'])\n",
    "ordersBCummulative.columns = [\n",
    "    'date',\n",
    "    'ordersCummulativeB',\n",
    "    'revenueCummulativeB',\n",
    "]\n",
    "\n",
    "data = (\n",
    "    ordersADaily.merge(\n",
    "        ordersBDaily, left_on='date', right_on='date', how='left'\n",
    "    )\n",
    "    .merge(ordersACummulative, left_on='date', right_on='date', how='left')\n",
    "    .merge(ordersBCummulative, left_on='date', right_on='date', how='left')\n",
    "    .merge(visitorsADaily, left_on='date', right_on='date', how='left')\n",
    "    .merge(visitorsBDaily, left_on='date', right_on='date', how='left')\n",
    "    .merge(visitorsACummulative, left_on='date', right_on='date', how='left')\n",
    "    .merge(visitorsBCummulative, left_on='date', right_on='date', how='left')\n",
    ")\n",
    "\n",
    "data.head(5) "
   ]
  },
  {
   "cell_type": "markdown",
   "metadata": {},
   "source": [
    "Теперь можно перейти к подсчету статистической значимости различия в конверсии между группами.\n",
    "\n",
    "Определим нулевую гипотезу: Конверсии между группами равны\n",
    "\n",
    "Определим альтернативнуб гипотезу: Конверсии между группами не равны"
   ]
  },
  {
   "cell_type": "code",
   "execution_count": 21,
   "metadata": {},
   "outputs": [
    {
     "name": "stdout",
     "output_type": "stream",
     "text": [
      "0.011\n",
      "0.160\n"
     ]
    }
   ],
   "source": [
    "ordersByUsersA = (\n",
    "    df_orders[df_orders['group'] == 'A']\n",
    "    .groupby('visitorId', as_index=False)\n",
    "    .agg({'transactionId': pd.Series.nunique})\n",
    ")\n",
    "ordersByUsersA.columns = ['userId', 'orders']\n",
    "\n",
    "ordersByUsersB = (\n",
    "    df_orders[df_orders['group'] == 'B']\n",
    "    .groupby('visitorId', as_index=False)\n",
    "    .agg({'transactionId': pd.Series.nunique})\n",
    ")\n",
    "ordersByUsersB.columns = ['userId', 'orders']\n",
    "\n",
    "sampleA = pd.concat(\n",
    "    [\n",
    "        ordersByUsersA['orders'],\n",
    "        pd.Series(\n",
    "            0,\n",
    "            index=np.arange(\n",
    "                data['visitorsPerDateA'].sum() - len(ordersByUsersA['orders'])\n",
    "            ),\n",
    "            name='orders',\n",
    "        ),\n",
    "    ],\n",
    "    axis=0,\n",
    ")\n",
    "\n",
    "sampleB = pd.concat(\n",
    "    [\n",
    "        ordersByUsersB['orders'],\n",
    "        pd.Series(\n",
    "            0,\n",
    "            index=np.arange(\n",
    "                data['visitorsPerDateB'].sum() - len(ordersByUsersB['orders'])\n",
    "            ),\n",
    "            name='orders',\n",
    "        ),\n",
    "    ],\n",
    "    axis=0,\n",
    ")\n",
    "\n",
    "print(\"{0:.3f}\".format(stats.mannwhitneyu(sampleA, sampleB, alternative = 'two-sided')[1]))\n",
    "\n",
    "print(\"{0:.3f}\".format(sampleB.mean() / sampleA.mean() - 1))"
   ]
  },
  {
   "cell_type": "markdown",
   "metadata": {},
   "source": [
    "**Вывод:**\n",
    "\n",
    "По «сырым» данным есть различия в конверсии групп A и B, так как p-value меньше, чем 0,05. Значит, нулевую гипотезу о том, что статистически значимых различий в конверсии между группами нет, отвергаем. Относительный выигрыш группы B равен 16%.\n",
    "\n",
    "### Статистическая значимость различий среднего чека между группами по «сырым» данным\n",
    "\n",
    "Определим нулевую гипотезу: средние чеки по группам равны\n",
    "\n",
    "Определим альтернативную гипотезу: средние чеки по группам не равны"
   ]
  },
  {
   "cell_type": "code",
   "execution_count": 22,
   "metadata": {},
   "outputs": [
    {
     "name": "stdout",
     "output_type": "stream",
     "text": [
      "0.829\n",
      "0.287\n"
     ]
    }
   ],
   "source": [
    "print('{0:.3f}'.format(stats.mannwhitneyu(df_orders[df_orders['group']=='A']['revenue'], \n",
    "                                          df_orders[df_orders['group']=='B']['revenue'], alternative = 'two-sided')[1]))\n",
    "print('{0:.3f}'.format(df_orders[df_orders['group']=='B']['revenue'].mean()/df_orders[df_orders['group']=='A']['revenue'].mean()-1)) "
   ]
  },
  {
   "cell_type": "markdown",
   "metadata": {},
   "source": [
    "**Вывод:**\n",
    "\n",
    "P-value значительно больше 0.05. Значит, причин отвергать нулевую гипотезу и считать, что в среднем чеке есть различия, нет. \n",
    "\n",
    "### Cтатистическая значимость различий в конверсии между группами по «очищенным» данным\n",
    "\n",
    "Сначала узнаем сколько всего аномальных пользователей. "
   ]
  },
  {
   "cell_type": "code",
   "execution_count": 23,
   "metadata": {},
   "outputs": [
    {
     "name": "stdout",
     "output_type": "stream",
     "text": [
      "(16,)\n"
     ]
    }
   ],
   "source": [
    "usersWithManyOrders = pd.concat(\n",
    "    [\n",
    "        ordersByUsersA[ordersByUsersA['orders'] > 2]['userId'],\n",
    "        ordersByUsersB[ordersByUsersB['orders'] > 2]['userId'],\n",
    "    ],\n",
    "    axis=0,\n",
    ")\n",
    "usersWithExpensiveOrders = df_orders[df_orders['revenue'] > 58233.2]['visitorId']\n",
    "abnormalUsers = (\n",
    "    pd.concat([usersWithManyOrders, usersWithExpensiveOrders], axis=0)\n",
    "    .drop_duplicates()\n",
    "    .sort_values()\n",
    ")\n",
    "print(abnormalUsers.shape) "
   ]
  },
  {
   "cell_type": "markdown",
   "metadata": {},
   "source": [
    "Всего таких пользователей 16, теперь можно перейти к подсчету разницы конверсий уже по отчищенным данным.\n",
    "\n",
    "Нулевая и альтернативная гипотезы остаются прежними. "
   ]
  },
  {
   "cell_type": "code",
   "execution_count": 24,
   "metadata": {},
   "outputs": [
    {
     "name": "stdout",
     "output_type": "stream",
     "text": [
      "0.007\n",
      "0.189\n"
     ]
    }
   ],
   "source": [
    "sampleAFiltered = pd.concat(\n",
    "    [\n",
    "        ordersByUsersA[\n",
    "            np.logical_not(ordersByUsersA['userId'].isin(abnormalUsers))\n",
    "        ]['orders'],\n",
    "        pd.Series(\n",
    "            0,\n",
    "            index=np.arange(\n",
    "                data['visitorsPerDateA'].sum() - len(ordersByUsersA['orders'])\n",
    "            ),\n",
    "            name='orders',\n",
    "        ),\n",
    "    ],\n",
    "    axis=0,\n",
    ")\n",
    "\n",
    "sampleBFiltered = pd.concat(\n",
    "    [\n",
    "        ordersByUsersB[\n",
    "            np.logical_not(ordersByUsersB['userId'].isin(abnormalUsers))\n",
    "        ]['orders'],\n",
    "        pd.Series(\n",
    "            0,\n",
    "            index=np.arange(\n",
    "                data['visitorsPerDateB'].sum() - len(ordersByUsersB['orders'])\n",
    "            ),\n",
    "            name='orders',\n",
    "        ),\n",
    "    ],\n",
    "    axis=0,\n",
    ") \n",
    "\n",
    "print('{0:.3f}'.format(stats.mannwhitneyu(sampleAFiltered, sampleBFiltered, alternative = 'two-sided')[1]))\n",
    "print('{0:.3f}'.format(sampleBFiltered.mean()/sampleAFiltered.mean()-1)) "
   ]
  },
  {
   "cell_type": "markdown",
   "metadata": {},
   "source": [
    "Результаты по конверсии практически не изменились.\n",
    "\n",
    "### Статистическая значимость различий в среднем чеке заказа между группами по «очищенным» данным\n",
    "\n",
    "Нулевая и альтернативная гипотезы остаются прежними."
   ]
  },
  {
   "cell_type": "code",
   "execution_count": 25,
   "metadata": {},
   "outputs": [
    {
     "name": "stdout",
     "output_type": "stream",
     "text": [
      "0.788\n",
      "-0.032\n"
     ]
    }
   ],
   "source": [
    "print(\n",
    "    '{0:.3f}'.format(\n",
    "        stats.mannwhitneyu(\n",
    "            df_orders[\n",
    "                np.logical_and(\n",
    "                    df_orders['group'] == 'A',\n",
    "                    np.logical_not(df_orders['visitorId'].isin(abnormalUsers))\n",
    "                )\n",
    "            ]['revenue'],\n",
    "            df_orders[\n",
    "                np.logical_and(\n",
    "                    df_orders['group'] == 'B',\n",
    "                    np.logical_not(df_orders['visitorId'].isin(abnormalUsers)),\n",
    "                )\n",
    "            ]['revenue'], alternative = 'two-sided'\n",
    "        )[1]\n",
    "    )\n",
    ")\n",
    "\n",
    "print(\n",
    "    \"{0:.3f}\".format(\n",
    "        df_orders[\n",
    "            np.logical_and(\n",
    "                df_orders['group'] == 'B',\n",
    "                np.logical_not(df_orders['visitorId'].isin(abnormalUsers)),\n",
    "            )\n",
    "        ]['revenue'].mean()\n",
    "        / df_orders[\n",
    "            np.logical_and(\n",
    "                df_orders['group'] == 'A',\n",
    "                np.logical_not(df_orders['visitorId'].isin(abnormalUsers)),\n",
    "            )\n",
    "        ]['revenue'].mean()\n",
    "        - 1\n",
    "    )\n",
    ") "
   ]
  },
  {
   "cell_type": "markdown",
   "metadata": {},
   "source": [
    "**Вывод:**\n",
    "\n",
    "P-value уменьшился, но это никак не повлияло на результат. \n",
    "\n",
    "В целом общие выводы по результатам теста не изменились\n",
    "\n",
    "### Вывод:\n",
    "\n",
    "Имеющиеся факты:\n",
    "- Есть статистически значимые различия по конверсии между группами и по «сырым», и по данным после фильтрации аномалий;\n",
    "- Нет статистически значимого различия по среднему чеку между группами ни по «сырым», ни по данным после фильтрации аномалий;\n",
    "- График различия конверсии между группами сообщает, что результаты группы B лучше группы A;\n",
    "- График различия среднего чека говорит о том, что результаты группы B в целом сильно увеличились, но потом начали ухудшаться день ото дня:\n",
    "\n",
    "Группа B почти по всем показателям лучше группы А, особенно если говорить о конверсии. В целом показатели кумулятивных метрик установились и вряд ли сильно изменятся, поэтому рекомендуется остановить тест и признать группу B лучше, чем A. "
   ]
  },
  {
   "cell_type": "markdown",
   "metadata": {},
   "source": [
    "## Общий вывод:\n",
    "\n",
    "По итогам предобработки было обнаружено, что есть пользователи, которые попали сразу в две группы, это недопустимо, и следуют проработать это проблему более детально, чтоб не нарушалась чистота эксперемента. \n",
    "\n",
    "После приоритизации гипотез выяснелось, что наиболее важными гипотезами по фреймворку *RICE* оказались \"Добавить форму подписки на все основные страницы, чтобы собрать базу клиентов для email-рассылок\" с индексом 7, \"Добавить блоки рекомендаций товаров на сайт интернет магазина, чтобы повысить конверсию и средний чек заказа\"с индексом 2, \"Добавить два новых канала привлечения трафика, что позволит привлекать на 30% больше пользователей\" с индексом 0, а по *ICE*: \"Запустить акцию, дающую скидку на товар в день рождения\" с индексом 8, \"Добавить два новых канала привлечения трафика, что позволит привлекать на 30% больше пользователей\" с индексом 0, \"Добавить форму подписки на все основные страницы, чтобы собрать базу клиентов для email-рассылок\" с индексом 7. Как мне кажется, лучше опираться на *RICE*, потому что он включает параметр *Reach*, который отвечает за охват, что несомненно очень важно. \n",
    "\n",
    "Результаты A/B-теста показали, что по конверсии группа B лучше группы A, в средних чеках особой разницы не наблюдается, рекомендуется: остановаить тест, так как вряд ли произойдут какие либо еще изменения, а также признать группу B победителем. \n",
    "\n",
    "Можно предположить, что победа группы B означает рост числа заказов, потому что средний чек не упал, а конверсия выросла. "
   ]
  }
 ],
 "metadata": {
  "ExecuteTimeLog": [
   {
    "duration": 922,
    "start_time": "2021-12-09T07:01:10.789Z"
   },
   {
    "duration": 23,
    "start_time": "2021-12-09T07:01:24.832Z"
   },
   {
    "duration": 17,
    "start_time": "2021-12-09T07:01:37.488Z"
   },
   {
    "duration": 13,
    "start_time": "2021-12-09T07:05:33.334Z"
   },
   {
    "duration": 15,
    "start_time": "2021-12-09T07:05:55.215Z"
   },
   {
    "duration": 13,
    "start_time": "2021-12-09T07:06:14.350Z"
   },
   {
    "duration": 18,
    "start_time": "2021-12-09T07:12:53.746Z"
   },
   {
    "duration": 18,
    "start_time": "2021-12-09T07:18:05.159Z"
   },
   {
    "duration": 4099,
    "start_time": "2021-12-09T07:30:59.212Z"
   },
   {
    "duration": 69,
    "start_time": "2021-12-09T07:32:36.762Z"
   },
   {
    "duration": 68,
    "start_time": "2021-12-09T07:33:25.730Z"
   },
   {
    "duration": 69,
    "start_time": "2021-12-09T07:34:08.615Z"
   },
   {
    "duration": 733,
    "start_time": "2021-12-09T08:00:06.403Z"
   },
   {
    "duration": 16,
    "start_time": "2021-12-09T08:00:07.139Z"
   },
   {
    "duration": 13,
    "start_time": "2021-12-09T08:00:07.161Z"
   },
   {
    "duration": 12,
    "start_time": "2021-12-09T08:00:07.176Z"
   },
   {
    "duration": 91,
    "start_time": "2021-12-09T08:00:07.191Z"
   },
   {
    "duration": 135,
    "start_time": "2021-12-09T08:00:07.284Z"
   },
   {
    "duration": 9,
    "start_time": "2021-12-09T08:02:44.921Z"
   },
   {
    "duration": 32,
    "start_time": "2021-12-09T08:02:54.358Z"
   },
   {
    "duration": 13,
    "start_time": "2021-12-09T08:03:03.410Z"
   },
   {
    "duration": 13,
    "start_time": "2021-12-09T08:03:17.069Z"
   },
   {
    "duration": 20,
    "start_time": "2021-12-09T08:03:21.344Z"
   },
   {
    "duration": 8,
    "start_time": "2021-12-09T08:03:26.518Z"
   },
   {
    "duration": 20,
    "start_time": "2021-12-09T08:15:08.866Z"
   },
   {
    "duration": 492,
    "start_time": "2021-12-09T08:15:54.800Z"
   },
   {
    "duration": 778,
    "start_time": "2021-12-09T08:17:53.978Z"
   },
   {
    "duration": 868,
    "start_time": "2021-12-09T08:18:42.136Z"
   },
   {
    "duration": 18,
    "start_time": "2021-12-09T08:18:43.007Z"
   },
   {
    "duration": 14,
    "start_time": "2021-12-09T08:18:43.028Z"
   },
   {
    "duration": 22,
    "start_time": "2021-12-09T08:18:43.044Z"
   },
   {
    "duration": 103,
    "start_time": "2021-12-09T08:18:43.069Z"
   },
   {
    "duration": 10,
    "start_time": "2021-12-09T08:18:43.174Z"
   },
   {
    "duration": 897,
    "start_time": "2021-12-09T08:18:43.186Z"
   },
   {
    "duration": 891,
    "start_time": "2021-12-09T08:19:55.496Z"
   },
   {
    "duration": 15,
    "start_time": "2021-12-09T08:19:56.390Z"
   },
   {
    "duration": 15,
    "start_time": "2021-12-09T08:19:56.408Z"
   },
   {
    "duration": 14,
    "start_time": "2021-12-09T08:19:56.425Z"
   },
   {
    "duration": 93,
    "start_time": "2021-12-09T08:19:56.442Z"
   },
   {
    "duration": 8,
    "start_time": "2021-12-09T08:19:56.537Z"
   },
   {
    "duration": 894,
    "start_time": "2021-12-09T08:19:56.547Z"
   },
   {
    "duration": 718,
    "start_time": "2021-12-09T08:22:50.207Z"
   },
   {
    "duration": 838,
    "start_time": "2021-12-09T08:23:04.981Z"
   },
   {
    "duration": 14,
    "start_time": "2021-12-09T08:23:05.822Z"
   },
   {
    "duration": 23,
    "start_time": "2021-12-09T08:23:05.840Z"
   },
   {
    "duration": 15,
    "start_time": "2021-12-09T08:23:05.867Z"
   },
   {
    "duration": 71,
    "start_time": "2021-12-09T08:23:05.885Z"
   },
   {
    "duration": 20,
    "start_time": "2021-12-09T08:23:05.958Z"
   },
   {
    "duration": 864,
    "start_time": "2021-12-09T08:23:05.982Z"
   },
   {
    "duration": 12402,
    "start_time": "2021-12-09T08:23:40.931Z"
   },
   {
    "duration": 868,
    "start_time": "2021-12-09T08:24:25.417Z"
   },
   {
    "duration": 18,
    "start_time": "2021-12-09T08:24:26.288Z"
   },
   {
    "duration": 19,
    "start_time": "2021-12-09T08:24:26.314Z"
   },
   {
    "duration": 29,
    "start_time": "2021-12-09T08:24:26.336Z"
   },
   {
    "duration": 82,
    "start_time": "2021-12-09T08:24:26.368Z"
   },
   {
    "duration": 9,
    "start_time": "2021-12-09T08:24:26.453Z"
   },
   {
    "duration": 817,
    "start_time": "2021-12-09T08:24:26.467Z"
   },
   {
    "duration": 18,
    "start_time": "2021-12-09T08:25:59.972Z"
   },
   {
    "duration": 891,
    "start_time": "2021-12-09T08:26:04.882Z"
   },
   {
    "duration": 17,
    "start_time": "2021-12-09T08:26:05.777Z"
   },
   {
    "duration": 35,
    "start_time": "2021-12-09T08:26:05.798Z"
   },
   {
    "duration": 13,
    "start_time": "2021-12-09T08:26:05.836Z"
   },
   {
    "duration": 80,
    "start_time": "2021-12-09T08:26:05.851Z"
   },
   {
    "duration": 9,
    "start_time": "2021-12-09T08:26:05.933Z"
   },
   {
    "duration": 15932,
    "start_time": "2021-12-09T08:26:05.945Z"
   },
   {
    "duration": 660,
    "start_time": "2021-12-09T08:27:50.671Z"
   },
   {
    "duration": 1548,
    "start_time": "2021-12-09T08:28:09.178Z"
   },
   {
    "duration": 1242,
    "start_time": "2021-12-09T08:28:50.228Z"
   },
   {
    "duration": 18,
    "start_time": "2021-12-09T08:28:51.474Z"
   },
   {
    "duration": 13,
    "start_time": "2021-12-09T08:28:51.494Z"
   },
   {
    "duration": 12,
    "start_time": "2021-12-09T08:28:51.510Z"
   },
   {
    "duration": 77,
    "start_time": "2021-12-09T08:28:51.525Z"
   },
   {
    "duration": 9,
    "start_time": "2021-12-09T08:28:51.604Z"
   },
   {
    "duration": 1018,
    "start_time": "2021-12-09T08:28:51.615Z"
   },
   {
    "duration": 1479,
    "start_time": "2021-12-09T08:30:10.572Z"
   },
   {
    "duration": 20,
    "start_time": "2021-12-09T08:30:12.054Z"
   },
   {
    "duration": 12,
    "start_time": "2021-12-09T08:30:12.082Z"
   },
   {
    "duration": 11,
    "start_time": "2021-12-09T08:30:12.097Z"
   },
   {
    "duration": 90,
    "start_time": "2021-12-09T08:30:12.110Z"
   },
   {
    "duration": 9,
    "start_time": "2021-12-09T08:30:12.203Z"
   },
   {
    "duration": 944,
    "start_time": "2021-12-09T08:30:12.215Z"
   },
   {
    "duration": 343,
    "start_time": "2021-12-09T08:32:34.710Z"
   },
   {
    "duration": 449,
    "start_time": "2021-12-09T08:43:49.927Z"
   },
   {
    "duration": 146,
    "start_time": "2021-12-09T08:46:05.520Z"
   },
   {
    "duration": 6,
    "start_time": "2021-12-09T08:49:31.342Z"
   },
   {
    "duration": 6,
    "start_time": "2021-12-09T08:49:46.550Z"
   },
   {
    "duration": 900,
    "start_time": "2021-12-09T08:49:59.365Z"
   },
   {
    "duration": 710,
    "start_time": "2021-12-09T08:50:24.868Z"
   },
   {
    "duration": 733,
    "start_time": "2021-12-09T08:51:48.523Z"
   },
   {
    "duration": 787,
    "start_time": "2021-12-09T08:52:05.914Z"
   },
   {
    "duration": 304,
    "start_time": "2021-12-09T08:52:22.592Z"
   },
   {
    "duration": 377,
    "start_time": "2021-12-09T08:52:32.129Z"
   },
   {
    "duration": 723,
    "start_time": "2021-12-09T08:52:49.620Z"
   },
   {
    "duration": 1607,
    "start_time": "2021-12-09T08:54:52.372Z"
   },
   {
    "duration": 18,
    "start_time": "2021-12-09T08:54:53.982Z"
   },
   {
    "duration": 14,
    "start_time": "2021-12-09T08:54:54.004Z"
   },
   {
    "duration": 38,
    "start_time": "2021-12-09T08:54:54.021Z"
   },
   {
    "duration": 73,
    "start_time": "2021-12-09T08:54:54.062Z"
   },
   {
    "duration": 10,
    "start_time": "2021-12-09T08:54:54.138Z"
   },
   {
    "duration": 861,
    "start_time": "2021-12-09T08:54:54.151Z"
   },
   {
    "duration": 321,
    "start_time": "2021-12-09T08:54:55.015Z"
   },
   {
    "duration": 593,
    "start_time": "2021-12-09T08:54:55.341Z"
   },
   {
    "duration": 558,
    "start_time": "2021-12-09T08:54:55.937Z"
   },
   {
    "duration": 364,
    "start_time": "2021-12-09T08:57:19.908Z"
   },
   {
    "duration": 463,
    "start_time": "2021-12-09T09:03:12.048Z"
   },
   {
    "duration": 418,
    "start_time": "2021-12-09T09:03:49.797Z"
   },
   {
    "duration": 420,
    "start_time": "2021-12-09T09:05:05.061Z"
   },
   {
    "duration": 613,
    "start_time": "2021-12-09T09:12:55.187Z"
   },
   {
    "duration": 475,
    "start_time": "2021-12-09T09:13:04.192Z"
   },
   {
    "duration": 23,
    "start_time": "2021-12-09T09:18:40.047Z"
   },
   {
    "duration": 11,
    "start_time": "2021-12-09T09:19:40.946Z"
   },
   {
    "duration": 5,
    "start_time": "2021-12-09T09:20:25.363Z"
   },
   {
    "duration": 11,
    "start_time": "2021-12-09T09:20:31.881Z"
   },
   {
    "duration": 9,
    "start_time": "2021-12-09T09:20:36.686Z"
   },
   {
    "duration": 10,
    "start_time": "2021-12-09T09:20:43.227Z"
   },
   {
    "duration": 7,
    "start_time": "2021-12-09T09:20:57.368Z"
   },
   {
    "duration": 6876,
    "start_time": "2021-12-09T09:21:48.786Z"
   },
   {
    "duration": 7135,
    "start_time": "2021-12-09T09:22:18.895Z"
   },
   {
    "duration": 6634,
    "start_time": "2021-12-09T09:22:55.647Z"
   },
   {
    "duration": 351,
    "start_time": "2021-12-09T09:23:26.681Z"
   },
   {
    "duration": 6,
    "start_time": "2021-12-09T09:24:58.417Z"
   },
   {
    "duration": 429,
    "start_time": "2021-12-09T09:29:50.701Z"
   },
   {
    "duration": 6,
    "start_time": "2021-12-09T09:33:03.076Z"
   },
   {
    "duration": 647,
    "start_time": "2021-12-09T09:39:32.505Z"
   },
   {
    "duration": 10316,
    "start_time": "2021-12-09T09:41:05.765Z"
   },
   {
    "duration": 466,
    "start_time": "2021-12-09T09:41:47.426Z"
   },
   {
    "duration": 482,
    "start_time": "2021-12-09T09:41:54.758Z"
   },
   {
    "duration": 492,
    "start_time": "2021-12-09T09:44:47.210Z"
   },
   {
    "duration": 611,
    "start_time": "2021-12-09T09:44:58.987Z"
   },
   {
    "duration": 1354,
    "start_time": "2021-12-09T09:45:41.484Z"
   },
   {
    "duration": 17,
    "start_time": "2021-12-09T09:45:42.841Z"
   },
   {
    "duration": 13,
    "start_time": "2021-12-09T09:45:42.861Z"
   },
   {
    "duration": 13,
    "start_time": "2021-12-09T09:45:42.877Z"
   },
   {
    "duration": 115,
    "start_time": "2021-12-09T09:45:42.892Z"
   },
   {
    "duration": 13,
    "start_time": "2021-12-09T09:45:43.019Z"
   },
   {
    "duration": 1076,
    "start_time": "2021-12-09T09:45:43.036Z"
   },
   {
    "duration": 312,
    "start_time": "2021-12-09T09:45:44.116Z"
   },
   {
    "duration": 433,
    "start_time": "2021-12-09T09:45:44.431Z"
   },
   {
    "duration": 349,
    "start_time": "2021-12-09T09:45:44.866Z"
   },
   {
    "duration": 424,
    "start_time": "2021-12-09T09:45:45.218Z"
   },
   {
    "duration": 387,
    "start_time": "2021-12-09T09:45:45.644Z"
   },
   {
    "duration": 6,
    "start_time": "2021-12-09T09:45:46.033Z"
   },
   {
    "duration": 422,
    "start_time": "2021-12-09T09:45:46.041Z"
   },
   {
    "duration": 7,
    "start_time": "2021-12-09T09:45:46.466Z"
   },
   {
    "duration": 504,
    "start_time": "2021-12-09T09:45:46.477Z"
   },
   {
    "duration": 257,
    "start_time": "2021-12-09T09:45:46.984Z"
   },
   {
    "duration": 15,
    "start_time": "2021-12-09T09:50:54.796Z"
   },
   {
    "duration": 1346,
    "start_time": "2021-12-09T09:52:41.991Z"
   },
   {
    "duration": 17,
    "start_time": "2021-12-09T09:52:43.340Z"
   },
   {
    "duration": 14,
    "start_time": "2021-12-09T09:52:43.363Z"
   },
   {
    "duration": 13,
    "start_time": "2021-12-09T09:52:43.379Z"
   },
   {
    "duration": 70,
    "start_time": "2021-12-09T09:52:43.394Z"
   },
   {
    "duration": 9,
    "start_time": "2021-12-09T09:52:43.466Z"
   },
   {
    "duration": 917,
    "start_time": "2021-12-09T09:52:43.478Z"
   },
   {
    "duration": 313,
    "start_time": "2021-12-09T09:52:44.398Z"
   },
   {
    "duration": 440,
    "start_time": "2021-12-09T09:52:44.713Z"
   },
   {
    "duration": 341,
    "start_time": "2021-12-09T09:52:45.158Z"
   },
   {
    "duration": 444,
    "start_time": "2021-12-09T09:52:45.502Z"
   },
   {
    "duration": 407,
    "start_time": "2021-12-09T09:52:45.948Z"
   },
   {
    "duration": 7,
    "start_time": "2021-12-09T09:52:46.358Z"
   },
   {
    "duration": 401,
    "start_time": "2021-12-09T09:52:46.367Z"
   },
   {
    "duration": 7,
    "start_time": "2021-12-09T09:52:46.771Z"
   },
   {
    "duration": 519,
    "start_time": "2021-12-09T09:52:46.781Z"
   },
   {
    "duration": 264,
    "start_time": "2021-12-09T09:52:47.302Z"
   },
   {
    "duration": 16,
    "start_time": "2021-12-09T09:52:47.569Z"
   },
   {
    "duration": 1685,
    "start_time": "2021-12-09T09:58:27.203Z"
   },
   {
    "duration": 13,
    "start_time": "2021-12-09T09:58:48.643Z"
   },
   {
    "duration": 14,
    "start_time": "2021-12-09T10:00:05.108Z"
   },
   {
    "duration": 12,
    "start_time": "2021-12-09T10:00:06.714Z"
   },
   {
    "duration": 19,
    "start_time": "2021-12-09T10:00:31.866Z"
   },
   {
    "duration": 384,
    "start_time": "2021-12-09T10:02:32.076Z"
   },
   {
    "duration": 22,
    "start_time": "2021-12-09T10:02:38.671Z"
   },
   {
    "duration": 1004,
    "start_time": "2021-12-09T20:13:55.609Z"
   },
   {
    "duration": 9,
    "start_time": "2021-12-09T20:13:56.615Z"
   },
   {
    "duration": 18,
    "start_time": "2021-12-09T20:13:56.628Z"
   },
   {
    "duration": 24,
    "start_time": "2021-12-09T20:13:56.647Z"
   },
   {
    "duration": 73,
    "start_time": "2021-12-09T20:13:56.673Z"
   },
   {
    "duration": 5,
    "start_time": "2021-12-09T20:13:56.748Z"
   },
   {
    "duration": 501,
    "start_time": "2021-12-09T20:13:56.755Z"
   },
   {
    "duration": 176,
    "start_time": "2021-12-09T20:13:57.258Z"
   },
   {
    "duration": 265,
    "start_time": "2021-12-09T20:13:57.436Z"
   },
   {
    "duration": 194,
    "start_time": "2021-12-09T20:13:57.703Z"
   },
   {
    "duration": 290,
    "start_time": "2021-12-09T20:13:57.899Z"
   },
   {
    "duration": 260,
    "start_time": "2021-12-09T20:13:58.191Z"
   },
   {
    "duration": 4,
    "start_time": "2021-12-09T20:13:58.452Z"
   },
   {
    "duration": 303,
    "start_time": "2021-12-09T20:13:58.458Z"
   },
   {
    "duration": 3,
    "start_time": "2021-12-09T20:13:58.763Z"
   },
   {
    "duration": 260,
    "start_time": "2021-12-09T20:13:58.768Z"
   },
   {
    "duration": 132,
    "start_time": "2021-12-09T20:13:59.030Z"
   },
   {
    "duration": 25,
    "start_time": "2021-12-09T20:13:59.163Z"
   },
   {
    "duration": 8,
    "start_time": "2021-12-09T20:13:59.189Z"
   },
   {
    "duration": 20,
    "start_time": "2021-12-09T20:13:59.198Z"
   },
   {
    "duration": 32,
    "start_time": "2021-12-09T20:13:59.220Z"
   },
   {
    "duration": 1068,
    "start_time": "2021-12-10T08:21:59.539Z"
   },
   {
    "duration": 12,
    "start_time": "2021-12-10T08:22:03.140Z"
   },
   {
    "duration": 18,
    "start_time": "2021-12-10T08:22:40.414Z"
   },
   {
    "duration": 420,
    "start_time": "2021-12-10T08:23:26.100Z"
   },
   {
    "duration": 6,
    "start_time": "2021-12-10T08:23:36.721Z"
   },
   {
    "duration": 5,
    "start_time": "2021-12-10T08:23:38.425Z"
   },
   {
    "duration": 12,
    "start_time": "2021-12-10T08:23:42.742Z"
   },
   {
    "duration": 1215,
    "start_time": "2021-12-10T09:10:41.007Z"
   },
   {
    "duration": 11,
    "start_time": "2021-12-10T09:10:42.224Z"
   },
   {
    "duration": 19,
    "start_time": "2021-12-10T09:10:42.237Z"
   },
   {
    "duration": 8,
    "start_time": "2021-12-10T09:10:42.258Z"
   },
   {
    "duration": 112,
    "start_time": "2021-12-10T09:10:42.267Z"
   },
   {
    "duration": 6,
    "start_time": "2021-12-10T09:10:42.380Z"
   },
   {
    "duration": 651,
    "start_time": "2021-12-10T09:10:42.387Z"
   },
   {
    "duration": 196,
    "start_time": "2021-12-10T09:10:43.042Z"
   },
   {
    "duration": 291,
    "start_time": "2021-12-10T09:10:43.240Z"
   },
   {
    "duration": 211,
    "start_time": "2021-12-10T09:10:43.533Z"
   },
   {
    "duration": 275,
    "start_time": "2021-12-10T09:10:43.746Z"
   },
   {
    "duration": 270,
    "start_time": "2021-12-10T09:10:44.023Z"
   },
   {
    "duration": 12,
    "start_time": "2021-12-10T09:10:44.294Z"
   },
   {
    "duration": 300,
    "start_time": "2021-12-10T09:10:44.308Z"
   },
   {
    "duration": 5,
    "start_time": "2021-12-10T09:10:44.610Z"
   },
   {
    "duration": 288,
    "start_time": "2021-12-10T09:10:44.618Z"
   },
   {
    "duration": 142,
    "start_time": "2021-12-10T09:10:44.908Z"
   },
   {
    "duration": 11,
    "start_time": "2021-12-10T09:10:45.052Z"
   },
   {
    "duration": 12,
    "start_time": "2021-12-10T09:10:45.065Z"
   },
   {
    "duration": 35,
    "start_time": "2021-12-10T09:10:45.080Z"
   },
   {
    "duration": 15,
    "start_time": "2021-12-10T09:10:45.117Z"
   },
   {
    "duration": 11,
    "start_time": "2021-12-10T09:11:22.532Z"
   },
   {
    "duration": 12,
    "start_time": "2021-12-10T09:12:39.120Z"
   },
   {
    "duration": 10,
    "start_time": "2021-12-10T09:23:34.650Z"
   },
   {
    "duration": 121,
    "start_time": "2021-12-10T09:26:12.109Z"
   },
   {
    "duration": 5,
    "start_time": "2021-12-10T09:31:05.526Z"
   },
   {
    "duration": 8,
    "start_time": "2021-12-10T09:32:15.271Z"
   },
   {
    "duration": 12,
    "start_time": "2021-12-10T09:32:55.462Z"
   },
   {
    "duration": 8,
    "start_time": "2021-12-10T09:33:04.966Z"
   },
   {
    "duration": 8,
    "start_time": "2021-12-10T09:39:01.989Z"
   },
   {
    "duration": 444,
    "start_time": "2021-12-10T09:39:04.012Z"
   },
   {
    "duration": 7,
    "start_time": "2021-12-10T09:40:08.401Z"
   },
   {
    "duration": 371,
    "start_time": "2021-12-10T09:40:43.330Z"
   },
   {
    "duration": 8,
    "start_time": "2021-12-10T09:40:57.287Z"
   },
   {
    "duration": 9,
    "start_time": "2021-12-10T09:40:59.913Z"
   },
   {
    "duration": 11403,
    "start_time": "2021-12-10T09:41:20.523Z"
   },
   {
    "duration": 357,
    "start_time": "2021-12-10T09:41:33.944Z"
   },
   {
    "duration": 1138,
    "start_time": "2021-12-10T09:41:41.008Z"
   },
   {
    "duration": 11,
    "start_time": "2021-12-10T09:41:42.148Z"
   },
   {
    "duration": 24,
    "start_time": "2021-12-10T09:41:42.162Z"
   },
   {
    "duration": 12,
    "start_time": "2021-12-10T09:41:42.188Z"
   },
   {
    "duration": 11,
    "start_time": "2021-12-10T09:41:42.202Z"
   },
   {
    "duration": 85,
    "start_time": "2021-12-10T09:41:42.216Z"
   },
   {
    "duration": 7,
    "start_time": "2021-12-10T09:41:42.303Z"
   },
   {
    "duration": 9,
    "start_time": "2021-12-10T09:41:42.312Z"
   },
   {
    "duration": 432,
    "start_time": "2021-12-10T09:41:42.324Z"
   },
   {
    "duration": -141,
    "start_time": "2021-12-10T09:41:42.899Z"
   },
   {
    "duration": -143,
    "start_time": "2021-12-10T09:41:42.902Z"
   },
   {
    "duration": -578,
    "start_time": "2021-12-10T09:41:43.339Z"
   },
   {
    "duration": -817,
    "start_time": "2021-12-10T09:41:43.579Z"
   },
   {
    "duration": -818,
    "start_time": "2021-12-10T09:41:43.581Z"
   },
   {
    "duration": -820,
    "start_time": "2021-12-10T09:41:43.584Z"
   },
   {
    "duration": -822,
    "start_time": "2021-12-10T09:41:43.587Z"
   },
   {
    "duration": -824,
    "start_time": "2021-12-10T09:41:43.590Z"
   },
   {
    "duration": -825,
    "start_time": "2021-12-10T09:41:43.592Z"
   },
   {
    "duration": -827,
    "start_time": "2021-12-10T09:41:43.595Z"
   },
   {
    "duration": -828,
    "start_time": "2021-12-10T09:41:43.597Z"
   },
   {
    "duration": -830,
    "start_time": "2021-12-10T09:41:43.600Z"
   },
   {
    "duration": -831,
    "start_time": "2021-12-10T09:41:43.602Z"
   },
   {
    "duration": -834,
    "start_time": "2021-12-10T09:41:43.606Z"
   },
   {
    "duration": -836,
    "start_time": "2021-12-10T09:41:43.610Z"
   },
   {
    "duration": 10039,
    "start_time": "2021-12-10T09:42:15.133Z"
   },
   {
    "duration": 1122,
    "start_time": "2021-12-10T09:42:31.082Z"
   },
   {
    "duration": 10,
    "start_time": "2021-12-10T09:42:32.209Z"
   },
   {
    "duration": 16,
    "start_time": "2021-12-10T09:42:32.222Z"
   },
   {
    "duration": 12,
    "start_time": "2021-12-10T09:42:32.239Z"
   },
   {
    "duration": 17,
    "start_time": "2021-12-10T09:42:32.253Z"
   },
   {
    "duration": 75,
    "start_time": "2021-12-10T09:42:32.272Z"
   },
   {
    "duration": 7,
    "start_time": "2021-12-10T09:42:32.350Z"
   },
   {
    "duration": 15,
    "start_time": "2021-12-10T09:42:32.359Z"
   },
   {
    "duration": 23,
    "start_time": "2021-12-10T09:42:32.376Z"
   },
   {
    "duration": 536,
    "start_time": "2021-12-10T09:42:32.401Z"
   },
   {
    "duration": 210,
    "start_time": "2021-12-10T09:42:32.939Z"
   },
   {
    "duration": 272,
    "start_time": "2021-12-10T09:42:33.150Z"
   },
   {
    "duration": 218,
    "start_time": "2021-12-10T09:42:33.425Z"
   },
   {
    "duration": 273,
    "start_time": "2021-12-10T09:42:33.646Z"
   },
   {
    "duration": 289,
    "start_time": "2021-12-10T09:42:33.922Z"
   },
   {
    "duration": 4,
    "start_time": "2021-12-10T09:42:34.214Z"
   },
   {
    "duration": 280,
    "start_time": "2021-12-10T09:42:34.220Z"
   },
   {
    "duration": 5,
    "start_time": "2021-12-10T09:42:34.505Z"
   },
   {
    "duration": 288,
    "start_time": "2021-12-10T09:42:34.512Z"
   },
   {
    "duration": 140,
    "start_time": "2021-12-10T09:42:34.802Z"
   },
   {
    "duration": 10,
    "start_time": "2021-12-10T09:42:34.944Z"
   },
   {
    "duration": 8,
    "start_time": "2021-12-10T09:42:34.957Z"
   },
   {
    "duration": 13,
    "start_time": "2021-12-10T09:42:34.967Z"
   },
   {
    "duration": 15,
    "start_time": "2021-12-10T09:42:35.007Z"
   },
   {
    "duration": 501,
    "start_time": "2021-12-10T09:44:51.037Z"
   },
   {
    "duration": 5,
    "start_time": "2021-12-10T09:45:32.602Z"
   },
   {
    "duration": 7,
    "start_time": "2021-12-10T09:45:36.455Z"
   },
   {
    "duration": 9871,
    "start_time": "2021-12-10T09:46:29.540Z"
   },
   {
    "duration": 1175,
    "start_time": "2021-12-10T09:46:49.948Z"
   },
   {
    "duration": 12,
    "start_time": "2021-12-10T09:46:51.125Z"
   },
   {
    "duration": 18,
    "start_time": "2021-12-10T09:46:51.142Z"
   },
   {
    "duration": 18,
    "start_time": "2021-12-10T09:46:51.163Z"
   },
   {
    "duration": 34,
    "start_time": "2021-12-10T09:46:51.183Z"
   },
   {
    "duration": 76,
    "start_time": "2021-12-10T09:46:51.220Z"
   },
   {
    "duration": 10,
    "start_time": "2021-12-10T09:46:51.300Z"
   },
   {
    "duration": 9,
    "start_time": "2021-12-10T09:46:51.314Z"
   },
   {
    "duration": 14,
    "start_time": "2021-12-10T09:46:51.326Z"
   },
   {
    "duration": 621,
    "start_time": "2021-12-10T09:46:51.342Z"
   },
   {
    "duration": 209,
    "start_time": "2021-12-10T09:46:51.966Z"
   },
   {
    "duration": 313,
    "start_time": "2021-12-10T09:46:52.177Z"
   },
   {
    "duration": 216,
    "start_time": "2021-12-10T09:46:52.492Z"
   },
   {
    "duration": 389,
    "start_time": "2021-12-10T09:46:52.710Z"
   },
   {
    "duration": 330,
    "start_time": "2021-12-10T09:46:53.102Z"
   },
   {
    "duration": 6,
    "start_time": "2021-12-10T09:46:53.434Z"
   },
   {
    "duration": 275,
    "start_time": "2021-12-10T09:46:53.442Z"
   },
   {
    "duration": 5,
    "start_time": "2021-12-10T09:46:53.719Z"
   },
   {
    "duration": 320,
    "start_time": "2021-12-10T09:46:53.726Z"
   },
   {
    "duration": 124,
    "start_time": "2021-12-10T09:46:54.048Z"
   },
   {
    "duration": 11,
    "start_time": "2021-12-10T09:46:54.174Z"
   },
   {
    "duration": 28,
    "start_time": "2021-12-10T09:46:54.187Z"
   },
   {
    "duration": 17,
    "start_time": "2021-12-10T09:46:54.219Z"
   },
   {
    "duration": 19,
    "start_time": "2021-12-10T09:46:54.238Z"
   },
   {
    "duration": 981,
    "start_time": "2021-12-10T09:50:10.549Z"
   },
   {
    "duration": 633,
    "start_time": "2021-12-10T09:50:22.483Z"
   },
   {
    "duration": 209,
    "start_time": "2021-12-10T09:51:02.212Z"
   },
   {
    "duration": 313,
    "start_time": "2021-12-10T09:51:47.470Z"
   },
   {
    "duration": 330,
    "start_time": "2021-12-10T09:53:10.799Z"
   },
   {
    "duration": 219,
    "start_time": "2021-12-10T09:53:34.685Z"
   },
   {
    "duration": 277,
    "start_time": "2021-12-10T09:54:18.343Z"
   },
   {
    "duration": 269,
    "start_time": "2021-12-10T09:56:14.342Z"
   },
   {
    "duration": 5,
    "start_time": "2021-12-10T09:56:20.175Z"
   },
   {
    "duration": 329,
    "start_time": "2021-12-10T09:57:10.596Z"
   },
   {
    "duration": 4,
    "start_time": "2021-12-10T09:57:15.880Z"
   },
   {
    "duration": 644,
    "start_time": "2021-12-10T09:57:55.788Z"
   },
   {
    "duration": 194,
    "start_time": "2021-12-10T09:58:24.915Z"
   },
   {
    "duration": 323,
    "start_time": "2021-12-10T09:58:55.308Z"
   },
   {
    "duration": 340,
    "start_time": "2021-12-10T10:00:29.700Z"
   },
   {
    "duration": 1045,
    "start_time": "2021-12-10T10:02:33.063Z"
   },
   {
    "duration": 11,
    "start_time": "2021-12-10T10:02:34.110Z"
   },
   {
    "duration": 16,
    "start_time": "2021-12-10T10:02:34.123Z"
   },
   {
    "duration": 11,
    "start_time": "2021-12-10T10:02:34.141Z"
   },
   {
    "duration": 12,
    "start_time": "2021-12-10T10:02:34.154Z"
   },
   {
    "duration": 63,
    "start_time": "2021-12-10T10:02:34.168Z"
   },
   {
    "duration": 7,
    "start_time": "2021-12-10T10:02:34.233Z"
   },
   {
    "duration": 16,
    "start_time": "2021-12-10T10:02:34.243Z"
   },
   {
    "duration": 9,
    "start_time": "2021-12-10T10:02:34.261Z"
   },
   {
    "duration": 551,
    "start_time": "2021-12-10T10:02:34.272Z"
   },
   {
    "duration": 235,
    "start_time": "2021-12-10T10:02:34.824Z"
   },
   {
    "duration": 306,
    "start_time": "2021-12-10T10:02:35.061Z"
   },
   {
    "duration": 219,
    "start_time": "2021-12-10T10:02:35.369Z"
   },
   {
    "duration": 329,
    "start_time": "2021-12-10T10:02:35.590Z"
   },
   {
    "duration": 357,
    "start_time": "2021-12-10T10:02:35.921Z"
   },
   {
    "duration": 5,
    "start_time": "2021-12-10T10:02:36.281Z"
   },
   {
    "duration": 318,
    "start_time": "2021-12-10T10:02:36.288Z"
   },
   {
    "duration": 4,
    "start_time": "2021-12-10T10:02:36.608Z"
   },
   {
    "duration": 295,
    "start_time": "2021-12-10T10:02:36.614Z"
   },
   {
    "duration": 147,
    "start_time": "2021-12-10T10:02:36.911Z"
   },
   {
    "duration": 9,
    "start_time": "2021-12-10T10:02:37.060Z"
   },
   {
    "duration": 9,
    "start_time": "2021-12-10T10:02:37.071Z"
   },
   {
    "duration": 31,
    "start_time": "2021-12-10T10:02:37.083Z"
   },
   {
    "duration": 15,
    "start_time": "2021-12-10T10:02:37.116Z"
   },
   {
    "duration": 547,
    "start_time": "2021-12-10T10:03:58.619Z"
   },
   {
    "duration": 651,
    "start_time": "2021-12-10T10:04:13.114Z"
   },
   {
    "duration": 6,
    "start_time": "2021-12-10T10:06:40.916Z"
   },
   {
    "duration": 6,
    "start_time": "2021-12-10T10:07:11.763Z"
   },
   {
    "duration": 228,
    "start_time": "2021-12-10T10:08:19.844Z"
   },
   {
    "duration": 202,
    "start_time": "2021-12-10T10:09:22.520Z"
   },
   {
    "duration": 239,
    "start_time": "2021-12-10T10:09:36.980Z"
   },
   {
    "duration": 240,
    "start_time": "2021-12-10T10:09:47.297Z"
   },
   {
    "duration": 244,
    "start_time": "2021-12-10T10:10:18.815Z"
   },
   {
    "duration": 258,
    "start_time": "2021-12-10T10:10:34.510Z"
   },
   {
    "duration": 237,
    "start_time": "2021-12-10T10:10:39.558Z"
   },
   {
    "duration": 278,
    "start_time": "2021-12-10T10:12:49.232Z"
   },
   {
    "duration": 116,
    "start_time": "2021-12-10T10:15:16.563Z"
   },
   {
    "duration": 111,
    "start_time": "2021-12-10T10:16:11.821Z"
   },
   {
    "duration": 10,
    "start_time": "2021-12-10T10:17:47.757Z"
   },
   {
    "duration": 10,
    "start_time": "2021-12-10T10:19:50.232Z"
   },
   {
    "duration": 13,
    "start_time": "2021-12-10T10:20:02.846Z"
   },
   {
    "duration": 13,
    "start_time": "2021-12-10T10:21:33.047Z"
   },
   {
    "duration": 13,
    "start_time": "2021-12-10T10:21:51.063Z"
   },
   {
    "duration": 15,
    "start_time": "2021-12-10T10:22:00.813Z"
   },
   {
    "duration": 14,
    "start_time": "2021-12-10T10:22:45.316Z"
   },
   {
    "duration": 10,
    "start_time": "2021-12-10T10:27:07.691Z"
   },
   {
    "duration": 125,
    "start_time": "2021-12-10T10:29:36.114Z"
   },
   {
    "duration": 11,
    "start_time": "2021-12-10T10:30:09.127Z"
   },
   {
    "duration": 13,
    "start_time": "2021-12-10T10:30:33.514Z"
   },
   {
    "duration": 14,
    "start_time": "2021-12-10T10:30:41.343Z"
   },
   {
    "duration": 13,
    "start_time": "2021-12-10T10:30:48.594Z"
   },
   {
    "duration": 16,
    "start_time": "2021-12-10T10:32:03.968Z"
   },
   {
    "duration": 223,
    "start_time": "2021-12-10T10:34:17.259Z"
   },
   {
    "duration": 115,
    "start_time": "2021-12-10T10:37:22.008Z"
   },
   {
    "duration": 193,
    "start_time": "2021-12-10T10:37:30.044Z"
   },
   {
    "duration": 114,
    "start_time": "2021-12-10T10:37:35.456Z"
   },
   {
    "duration": 1164,
    "start_time": "2021-12-10T11:02:07.690Z"
   },
   {
    "duration": 11,
    "start_time": "2021-12-10T11:02:08.856Z"
   },
   {
    "duration": 16,
    "start_time": "2021-12-10T11:02:08.869Z"
   },
   {
    "duration": 21,
    "start_time": "2021-12-10T11:02:08.887Z"
   },
   {
    "duration": 11,
    "start_time": "2021-12-10T11:02:08.910Z"
   },
   {
    "duration": 113,
    "start_time": "2021-12-10T11:02:08.923Z"
   },
   {
    "duration": 6,
    "start_time": "2021-12-10T11:02:09.038Z"
   },
   {
    "duration": 14,
    "start_time": "2021-12-10T11:02:09.047Z"
   },
   {
    "duration": 11,
    "start_time": "2021-12-10T11:02:09.063Z"
   },
   {
    "duration": 650,
    "start_time": "2021-12-10T11:02:09.076Z"
   },
   {
    "duration": 258,
    "start_time": "2021-12-10T11:02:09.728Z"
   },
   {
    "duration": 338,
    "start_time": "2021-12-10T11:02:09.988Z"
   },
   {
    "duration": 274,
    "start_time": "2021-12-10T11:02:10.328Z"
   },
   {
    "duration": 334,
    "start_time": "2021-12-10T11:02:10.607Z"
   },
   {
    "duration": 305,
    "start_time": "2021-12-10T11:02:10.943Z"
   },
   {
    "duration": 5,
    "start_time": "2021-12-10T11:02:11.250Z"
   },
   {
    "duration": 315,
    "start_time": "2021-12-10T11:02:11.257Z"
   },
   {
    "duration": 5,
    "start_time": "2021-12-10T11:02:11.574Z"
   },
   {
    "duration": 310,
    "start_time": "2021-12-10T11:02:11.581Z"
   },
   {
    "duration": 145,
    "start_time": "2021-12-10T11:02:11.893Z"
   },
   {
    "duration": 10,
    "start_time": "2021-12-10T11:02:12.039Z"
   },
   {
    "duration": 11,
    "start_time": "2021-12-10T11:02:12.051Z"
   },
   {
    "duration": 12,
    "start_time": "2021-12-10T11:02:12.065Z"
   },
   {
    "duration": 38,
    "start_time": "2021-12-10T11:02:12.078Z"
   },
   {
    "duration": 1373,
    "start_time": "2021-12-11T08:47:16.246Z"
   },
   {
    "duration": 15,
    "start_time": "2021-12-11T08:47:17.622Z"
   },
   {
    "duration": 23,
    "start_time": "2021-12-11T08:47:17.640Z"
   },
   {
    "duration": 51,
    "start_time": "2021-12-11T08:47:17.666Z"
   },
   {
    "duration": 15,
    "start_time": "2021-12-11T08:47:17.720Z"
   },
   {
    "duration": 74,
    "start_time": "2021-12-11T08:47:17.737Z"
   },
   {
    "duration": 9,
    "start_time": "2021-12-11T08:47:17.817Z"
   },
   {
    "duration": 17,
    "start_time": "2021-12-11T08:47:17.830Z"
   },
   {
    "duration": 12,
    "start_time": "2021-12-11T08:47:17.850Z"
   },
   {
    "duration": 1148,
    "start_time": "2021-12-11T08:47:17.865Z"
   },
   {
    "duration": 412,
    "start_time": "2021-12-11T08:47:19.018Z"
   },
   {
    "duration": 416,
    "start_time": "2021-12-11T08:47:19.433Z"
   },
   {
    "duration": 418,
    "start_time": "2021-12-11T08:47:19.851Z"
   },
   {
    "duration": 448,
    "start_time": "2021-12-11T08:47:20.272Z"
   },
   {
    "duration": 470,
    "start_time": "2021-12-11T08:47:20.723Z"
   },
   {
    "duration": 5,
    "start_time": "2021-12-11T08:47:21.196Z"
   },
   {
    "duration": 410,
    "start_time": "2021-12-11T08:47:21.204Z"
   },
   {
    "duration": 6,
    "start_time": "2021-12-11T08:47:21.617Z"
   },
   {
    "duration": 495,
    "start_time": "2021-12-11T08:47:21.625Z"
   },
   {
    "duration": 220,
    "start_time": "2021-12-11T08:47:22.122Z"
   },
   {
    "duration": 16,
    "start_time": "2021-12-11T08:47:22.345Z"
   },
   {
    "duration": 14,
    "start_time": "2021-12-11T08:47:22.364Z"
   },
   {
    "duration": 34,
    "start_time": "2021-12-11T08:47:22.419Z"
   },
   {
    "duration": 29,
    "start_time": "2021-12-11T08:47:22.456Z"
   },
   {
    "duration": 17,
    "start_time": "2021-12-11T08:50:40.551Z"
   },
   {
    "duration": 1253,
    "start_time": "2021-12-11T08:52:23.090Z"
   },
   {
    "duration": 1331,
    "start_time": "2021-12-11T08:52:43.750Z"
   },
   {
    "duration": 1354,
    "start_time": "2021-12-11T08:54:31.146Z"
   },
   {
    "duration": 17,
    "start_time": "2021-12-11T08:54:32.504Z"
   },
   {
    "duration": 22,
    "start_time": "2021-12-11T08:54:32.528Z"
   },
   {
    "duration": 18,
    "start_time": "2021-12-11T08:54:32.552Z"
   },
   {
    "duration": 56,
    "start_time": "2021-12-11T08:54:32.572Z"
   },
   {
    "duration": 67,
    "start_time": "2021-12-11T08:54:32.630Z"
   },
   {
    "duration": 17,
    "start_time": "2021-12-11T08:54:32.702Z"
   },
   {
    "duration": 15,
    "start_time": "2021-12-11T08:54:32.722Z"
   },
   {
    "duration": 13,
    "start_time": "2021-12-11T08:54:32.739Z"
   },
   {
    "duration": 1426,
    "start_time": "2021-12-11T08:54:32.755Z"
   },
   {
    "duration": 549,
    "start_time": "2021-12-11T08:54:34.184Z"
   },
   {
    "duration": 408,
    "start_time": "2021-12-11T08:54:34.736Z"
   },
   {
    "duration": 400,
    "start_time": "2021-12-11T08:54:35.147Z"
   },
   {
    "duration": 398,
    "start_time": "2021-12-11T08:54:35.550Z"
   },
   {
    "duration": 393,
    "start_time": "2021-12-11T08:54:35.950Z"
   },
   {
    "duration": 7,
    "start_time": "2021-12-11T08:54:36.345Z"
   },
   {
    "duration": 389,
    "start_time": "2021-12-11T08:54:36.355Z"
   },
   {
    "duration": 7,
    "start_time": "2021-12-11T08:54:36.747Z"
   },
   {
    "duration": 512,
    "start_time": "2021-12-11T08:54:36.756Z"
   },
   {
    "duration": 248,
    "start_time": "2021-12-11T08:54:37.271Z"
   },
   {
    "duration": 15,
    "start_time": "2021-12-11T08:54:37.521Z"
   },
   {
    "duration": 13,
    "start_time": "2021-12-11T08:54:37.540Z"
   },
   {
    "duration": 18,
    "start_time": "2021-12-11T08:54:37.555Z"
   },
   {
    "duration": 57,
    "start_time": "2021-12-11T08:54:37.575Z"
   },
   {
    "duration": 1253,
    "start_time": "2021-12-11T08:56:44.435Z"
   },
   {
    "duration": 1174,
    "start_time": "2021-12-11T08:57:04.984Z"
   },
   {
    "duration": 1176,
    "start_time": "2021-12-11T08:57:19.883Z"
   },
   {
    "duration": 979,
    "start_time": "2021-12-11T08:57:37.245Z"
   },
   {
    "duration": 964,
    "start_time": "2021-12-11T08:57:45.181Z"
   },
   {
    "duration": 1053,
    "start_time": "2021-12-11T08:59:35.618Z"
   },
   {
    "duration": 1199,
    "start_time": "2021-12-11T08:59:52.153Z"
   },
   {
    "duration": 616,
    "start_time": "2021-12-11T09:00:03.955Z"
   },
   {
    "duration": 586,
    "start_time": "2021-12-11T09:00:09.546Z"
   },
   {
    "duration": 601,
    "start_time": "2021-12-11T09:00:14.946Z"
   },
   {
    "duration": 585,
    "start_time": "2021-12-11T09:00:19.747Z"
   },
   {
    "duration": 713,
    "start_time": "2021-12-11T09:00:25.843Z"
   },
   {
    "duration": 611,
    "start_time": "2021-12-11T09:00:31.733Z"
   },
   {
    "duration": 1403,
    "start_time": "2021-12-11T09:00:45.169Z"
   },
   {
    "duration": 16,
    "start_time": "2021-12-11T09:00:46.574Z"
   },
   {
    "duration": 32,
    "start_time": "2021-12-11T09:00:46.594Z"
   },
   {
    "duration": 18,
    "start_time": "2021-12-11T09:00:46.629Z"
   },
   {
    "duration": 15,
    "start_time": "2021-12-11T09:00:46.650Z"
   },
   {
    "duration": 71,
    "start_time": "2021-12-11T09:00:46.668Z"
   },
   {
    "duration": 9,
    "start_time": "2021-12-11T09:00:46.742Z"
   },
   {
    "duration": 15,
    "start_time": "2021-12-11T09:00:46.754Z"
   },
   {
    "duration": 11,
    "start_time": "2021-12-11T09:00:46.772Z"
   },
   {
    "duration": 996,
    "start_time": "2021-12-11T09:00:46.785Z"
   },
   {
    "duration": 608,
    "start_time": "2021-12-11T09:00:47.784Z"
   },
   {
    "duration": 654,
    "start_time": "2021-12-11T09:00:48.394Z"
   },
   {
    "duration": 719,
    "start_time": "2021-12-11T09:00:49.050Z"
   },
   {
    "duration": 670,
    "start_time": "2021-12-11T09:00:49.772Z"
   },
   {
    "duration": 598,
    "start_time": "2021-12-11T09:00:50.444Z"
   },
   {
    "duration": 6,
    "start_time": "2021-12-11T09:00:51.044Z"
   },
   {
    "duration": 577,
    "start_time": "2021-12-11T09:00:51.052Z"
   },
   {
    "duration": 6,
    "start_time": "2021-12-11T09:00:51.631Z"
   },
   {
    "duration": 487,
    "start_time": "2021-12-11T09:00:51.639Z"
   },
   {
    "duration": 229,
    "start_time": "2021-12-11T09:00:52.129Z"
   },
   {
    "duration": 14,
    "start_time": "2021-12-11T09:00:52.360Z"
   },
   {
    "duration": 12,
    "start_time": "2021-12-11T09:00:52.376Z"
   },
   {
    "duration": 18,
    "start_time": "2021-12-11T09:00:52.417Z"
   },
   {
    "duration": 19,
    "start_time": "2021-12-11T09:00:52.437Z"
   },
   {
    "duration": 1192,
    "start_time": "2021-12-11T09:01:11.544Z"
   },
   {
    "duration": 1411,
    "start_time": "2021-12-11T09:02:23.794Z"
   },
   {
    "duration": 16,
    "start_time": "2021-12-11T09:02:25.208Z"
   },
   {
    "duration": 24,
    "start_time": "2021-12-11T09:02:25.227Z"
   },
   {
    "duration": 17,
    "start_time": "2021-12-11T09:02:25.254Z"
   },
   {
    "duration": 14,
    "start_time": "2021-12-11T09:02:25.273Z"
   },
   {
    "duration": 92,
    "start_time": "2021-12-11T09:02:25.289Z"
   },
   {
    "duration": 8,
    "start_time": "2021-12-11T09:02:25.384Z"
   },
   {
    "duration": 9,
    "start_time": "2021-12-11T09:02:25.396Z"
   },
   {
    "duration": 11,
    "start_time": "2021-12-11T09:02:25.409Z"
   },
   {
    "duration": 556,
    "start_time": "2021-12-11T09:02:25.423Z"
   },
   {
    "duration": 671,
    "start_time": "2021-12-11T09:02:25.982Z"
   },
   {
    "duration": 618,
    "start_time": "2021-12-11T09:02:26.655Z"
   },
   {
    "duration": 641,
    "start_time": "2021-12-11T09:02:27.276Z"
   },
   {
    "duration": 721,
    "start_time": "2021-12-11T09:02:27.920Z"
   },
   {
    "duration": 632,
    "start_time": "2021-12-11T09:02:28.643Z"
   },
   {
    "duration": 796,
    "start_time": "2021-12-11T09:02:29.277Z"
   },
   {
    "duration": 6,
    "start_time": "2021-12-11T09:02:30.076Z"
   },
   {
    "duration": 664,
    "start_time": "2021-12-11T09:02:30.085Z"
   },
   {
    "duration": 6,
    "start_time": "2021-12-11T09:02:30.751Z"
   },
   {
    "duration": 480,
    "start_time": "2021-12-11T09:02:30.759Z"
   },
   {
    "duration": 237,
    "start_time": "2021-12-11T09:02:31.242Z"
   },
   {
    "duration": 15,
    "start_time": "2021-12-11T09:02:31.481Z"
   },
   {
    "duration": 14,
    "start_time": "2021-12-11T09:02:31.518Z"
   },
   {
    "duration": 22,
    "start_time": "2021-12-11T09:02:31.534Z"
   },
   {
    "duration": 24,
    "start_time": "2021-12-11T09:02:31.558Z"
   },
   {
    "duration": 1691,
    "start_time": "2021-12-11T09:07:11.043Z"
   },
   {
    "duration": 21,
    "start_time": "2021-12-11T09:07:12.737Z"
   },
   {
    "duration": 24,
    "start_time": "2021-12-11T09:07:12.762Z"
   },
   {
    "duration": 41,
    "start_time": "2021-12-11T09:07:12.789Z"
   },
   {
    "duration": 15,
    "start_time": "2021-12-11T09:07:12.833Z"
   },
   {
    "duration": 70,
    "start_time": "2021-12-11T09:07:12.851Z"
   },
   {
    "duration": 12,
    "start_time": "2021-12-11T09:07:12.924Z"
   },
   {
    "duration": 9,
    "start_time": "2021-12-11T09:07:12.940Z"
   },
   {
    "duration": 12,
    "start_time": "2021-12-11T09:07:12.952Z"
   },
   {
    "duration": 652,
    "start_time": "2021-12-11T09:07:12.966Z"
   },
   {
    "duration": 666,
    "start_time": "2021-12-11T09:07:13.621Z"
   },
   {
    "duration": 610,
    "start_time": "2021-12-11T09:07:14.290Z"
   },
   {
    "duration": 619,
    "start_time": "2021-12-11T09:07:14.902Z"
   },
   {
    "duration": 689,
    "start_time": "2021-12-11T09:07:15.524Z"
   },
   {
    "duration": 708,
    "start_time": "2021-12-11T09:07:16.216Z"
   },
   {
    "duration": 620,
    "start_time": "2021-12-11T09:07:16.928Z"
   },
   {
    "duration": 6,
    "start_time": "2021-12-11T09:07:17.551Z"
   },
   {
    "duration": 604,
    "start_time": "2021-12-11T09:07:17.559Z"
   },
   {
    "duration": 7,
    "start_time": "2021-12-11T09:07:18.166Z"
   },
   {
    "duration": 546,
    "start_time": "2021-12-11T09:07:18.177Z"
   },
   {
    "duration": 223,
    "start_time": "2021-12-11T09:07:18.725Z"
   },
   {
    "duration": 13,
    "start_time": "2021-12-11T09:07:18.950Z"
   },
   {
    "duration": 12,
    "start_time": "2021-12-11T09:07:18.968Z"
   },
   {
    "duration": 46,
    "start_time": "2021-12-11T09:07:18.982Z"
   },
   {
    "duration": 29,
    "start_time": "2021-12-11T09:07:19.031Z"
   },
   {
    "duration": 1475,
    "start_time": "2022-01-18T12:27:20.946Z"
   },
   {
    "duration": 15,
    "start_time": "2022-01-18T12:27:22.424Z"
   },
   {
    "duration": 33,
    "start_time": "2022-01-18T12:27:22.442Z"
   },
   {
    "duration": 18,
    "start_time": "2022-01-18T12:27:22.484Z"
   },
   {
    "duration": 15,
    "start_time": "2022-01-18T12:27:22.505Z"
   },
   {
    "duration": 68,
    "start_time": "2022-01-18T12:27:22.522Z"
   },
   {
    "duration": 9,
    "start_time": "2022-01-18T12:27:22.592Z"
   },
   {
    "duration": 9,
    "start_time": "2022-01-18T12:27:22.605Z"
   },
   {
    "duration": 11,
    "start_time": "2022-01-18T12:27:22.617Z"
   },
   {
    "duration": 600,
    "start_time": "2022-01-18T12:27:22.630Z"
   },
   {
    "duration": 684,
    "start_time": "2022-01-18T12:27:23.232Z"
   },
   {
    "duration": 635,
    "start_time": "2022-01-18T12:27:23.919Z"
   },
   {
    "duration": 652,
    "start_time": "2022-01-18T12:27:24.557Z"
   },
   {
    "duration": 631,
    "start_time": "2022-01-18T12:27:25.212Z"
   },
   {
    "duration": 652,
    "start_time": "2022-01-18T12:27:25.846Z"
   },
   {
    "duration": 624,
    "start_time": "2022-01-18T12:27:26.501Z"
   },
   {
    "duration": 5,
    "start_time": "2022-01-18T12:27:27.127Z"
   },
   {
    "duration": 662,
    "start_time": "2022-01-18T12:27:27.135Z"
   },
   {
    "duration": 5,
    "start_time": "2022-01-18T12:27:27.800Z"
   },
   {
    "duration": 489,
    "start_time": "2022-01-18T12:27:27.808Z"
   },
   {
    "duration": 252,
    "start_time": "2022-01-18T12:27:28.299Z"
   },
   {
    "duration": 34,
    "start_time": "2022-01-18T12:27:28.554Z"
   },
   {
    "duration": 11,
    "start_time": "2022-01-18T12:27:28.595Z"
   },
   {
    "duration": 21,
    "start_time": "2022-01-18T12:27:28.610Z"
   },
   {
    "duration": 50,
    "start_time": "2022-01-18T12:27:28.634Z"
   }
  ],
  "kernelspec": {
   "display_name": "Python 3",
   "language": "python",
   "name": "python3"
  },
  "language_info": {
   "codemirror_mode": {
    "name": "ipython",
    "version": 3
   },
   "file_extension": ".py",
   "mimetype": "text/x-python",
   "name": "python",
   "nbconvert_exporter": "python",
   "pygments_lexer": "ipython3",
   "version": "3.7.8"
  },
  "toc": {
   "base_numbering": 1,
   "nav_menu": {},
   "number_sections": true,
   "sideBar": true,
   "skip_h1_title": true,
   "title_cell": "Table of Contents",
   "title_sidebar": "Contents",
   "toc_cell": false,
   "toc_position": {},
   "toc_section_display": true,
   "toc_window_display": true
  }
 },
 "nbformat": 4,
 "nbformat_minor": 2
}
