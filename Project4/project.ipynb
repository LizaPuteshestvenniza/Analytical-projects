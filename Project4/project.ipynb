{
 "cells": [
  {
   "cell_type": "markdown",
   "metadata": {},
   "source": [
    "# Аналитика в авиакомпании\n",
    "\n",
    "Российская авиакомпании F9, которая выполняет внутренние пассажирские перевозки, решила выяснить предпочтения пользователей, покупающих билеты на разные направления, для развития компании.\n",
    "\n",
    "Необходимо изучить базу данных и проанализировать спрос пассажиров на рейсы в города, где проходят крупнейшие фестивали."
   ]
  },
  {
   "cell_type": "markdown",
   "metadata": {},
   "source": [
    "## Изучение данных из файла"
   ]
  },
  {
   "cell_type": "code",
   "execution_count": 1,
   "metadata": {},
   "outputs": [
    {
     "data": {
      "text/html": [
       "<div>\n",
       "<style scoped>\n",
       "    .dataframe tbody tr th:only-of-type {\n",
       "        vertical-align: middle;\n",
       "    }\n",
       "\n",
       "    .dataframe tbody tr th {\n",
       "        vertical-align: top;\n",
       "    }\n",
       "\n",
       "    .dataframe thead th {\n",
       "        text-align: right;\n",
       "    }\n",
       "</style>\n",
       "<table border=\"1\" class=\"dataframe\">\n",
       "  <thead>\n",
       "    <tr style=\"text-align: right;\">\n",
       "      <th></th>\n",
       "      <th>model</th>\n",
       "      <th>flights_amount</th>\n",
       "    </tr>\n",
       "  </thead>\n",
       "  <tbody>\n",
       "    <tr>\n",
       "      <td>0</td>\n",
       "      <td>Airbus A319-100</td>\n",
       "      <td>607</td>\n",
       "    </tr>\n",
       "    <tr>\n",
       "      <td>1</td>\n",
       "      <td>Airbus A321-200</td>\n",
       "      <td>960</td>\n",
       "    </tr>\n",
       "    <tr>\n",
       "      <td>2</td>\n",
       "      <td>Boeing 737-300</td>\n",
       "      <td>630</td>\n",
       "    </tr>\n",
       "    <tr>\n",
       "      <td>3</td>\n",
       "      <td>Boeing 767-300</td>\n",
       "      <td>600</td>\n",
       "    </tr>\n",
       "    <tr>\n",
       "      <td>4</td>\n",
       "      <td>Boeing 777-300</td>\n",
       "      <td>300</td>\n",
       "    </tr>\n",
       "    <tr>\n",
       "      <td>5</td>\n",
       "      <td>Bombardier CRJ-200</td>\n",
       "      <td>4446</td>\n",
       "    </tr>\n",
       "    <tr>\n",
       "      <td>6</td>\n",
       "      <td>Cessna 208 Caravan</td>\n",
       "      <td>4557</td>\n",
       "    </tr>\n",
       "    <tr>\n",
       "      <td>7</td>\n",
       "      <td>Sukhoi SuperJet-100</td>\n",
       "      <td>4185</td>\n",
       "    </tr>\n",
       "  </tbody>\n",
       "</table>\n",
       "</div>"
      ],
      "text/plain": [
       "                 model  flights_amount\n",
       "0      Airbus A319-100             607\n",
       "1      Airbus A321-200             960\n",
       "2       Boeing 737-300             630\n",
       "3       Boeing 767-300             600\n",
       "4       Boeing 777-300             300\n",
       "5   Bombardier CRJ-200            4446\n",
       "6   Cessna 208 Caravan            4557\n",
       "7  Sukhoi SuperJet-100            4185"
      ]
     },
     "metadata": {},
     "output_type": "display_data"
    },
    {
     "data": {
      "text/html": [
       "<div>\n",
       "<style scoped>\n",
       "    .dataframe tbody tr th:only-of-type {\n",
       "        vertical-align: middle;\n",
       "    }\n",
       "\n",
       "    .dataframe tbody tr th {\n",
       "        vertical-align: top;\n",
       "    }\n",
       "\n",
       "    .dataframe thead th {\n",
       "        text-align: right;\n",
       "    }\n",
       "</style>\n",
       "<table border=\"1\" class=\"dataframe\">\n",
       "  <thead>\n",
       "    <tr style=\"text-align: right;\">\n",
       "      <th></th>\n",
       "      <th>city</th>\n",
       "      <th>average_flights</th>\n",
       "    </tr>\n",
       "  </thead>\n",
       "  <tbody>\n",
       "    <tr>\n",
       "      <td>0</td>\n",
       "      <td>Абакан</td>\n",
       "      <td>3.870968</td>\n",
       "    </tr>\n",
       "    <tr>\n",
       "      <td>1</td>\n",
       "      <td>Анадырь</td>\n",
       "      <td>1.000000</td>\n",
       "    </tr>\n",
       "    <tr>\n",
       "      <td>2</td>\n",
       "      <td>Анапа</td>\n",
       "      <td>2.161290</td>\n",
       "    </tr>\n",
       "    <tr>\n",
       "      <td>3</td>\n",
       "      <td>Архангельск</td>\n",
       "      <td>5.354839</td>\n",
       "    </tr>\n",
       "    <tr>\n",
       "      <td>4</td>\n",
       "      <td>Астрахань</td>\n",
       "      <td>2.451613</td>\n",
       "    </tr>\n",
       "    <tr>\n",
       "      <td>...</td>\n",
       "      <td>...</td>\n",
       "      <td>...</td>\n",
       "    </tr>\n",
       "    <tr>\n",
       "      <td>96</td>\n",
       "      <td>Чита</td>\n",
       "      <td>1.580645</td>\n",
       "    </tr>\n",
       "    <tr>\n",
       "      <td>97</td>\n",
       "      <td>Элиста</td>\n",
       "      <td>4.870968</td>\n",
       "    </tr>\n",
       "    <tr>\n",
       "      <td>98</td>\n",
       "      <td>Южно-Сахалинск</td>\n",
       "      <td>4.290323</td>\n",
       "    </tr>\n",
       "    <tr>\n",
       "      <td>99</td>\n",
       "      <td>Якутск</td>\n",
       "      <td>2.741935</td>\n",
       "    </tr>\n",
       "    <tr>\n",
       "      <td>100</td>\n",
       "      <td>Ярославль</td>\n",
       "      <td>1.322581</td>\n",
       "    </tr>\n",
       "  </tbody>\n",
       "</table>\n",
       "<p>101 rows × 2 columns</p>\n",
       "</div>"
      ],
      "text/plain": [
       "               city  average_flights\n",
       "0            Абакан         3.870968\n",
       "1           Анадырь         1.000000\n",
       "2             Анапа         2.161290\n",
       "3       Архангельск         5.354839\n",
       "4         Астрахань         2.451613\n",
       "..              ...              ...\n",
       "96             Чита         1.580645\n",
       "97           Элиста         4.870968\n",
       "98   Южно-Сахалинск         4.290323\n",
       "99           Якутск         2.741935\n",
       "100       Ярославль         1.322581\n",
       "\n",
       "[101 rows x 2 columns]"
      ]
     },
     "metadata": {},
     "output_type": "display_data"
    }
   ],
   "source": [
    "import pandas as pd \n",
    "import matplotlib.pyplot as plt\n",
    "from IPython.display import display\n",
    "import numpy as np\n",
    "import warnings \n",
    "from scipy import stats as st\n",
    "warnings.filterwarnings('ignore')\n",
    "\n",
    "df_aircraft_info = pd.read_csv('/datasets/query_1.csv')\n",
    "display(df_aircraft_info)\n",
    "df_city_info = pd.read_csv('/datasets/query_3.csv')\n",
    "display(df_city_info)"
   ]
  },
  {
   "cell_type": "markdown",
   "metadata": {},
   "source": [
    "Полученные две таблицы содержат информацию о моделях самолетов и количествах перелетов, а также информацию о городах России и среднем количестве прилетов туда. \n",
    "\n",
    "Удостоверимся, что таблицы содержат корректные типы данных, и пропуски в них отсутствуют. "
   ]
  },
  {
   "cell_type": "code",
   "execution_count": 2,
   "metadata": {},
   "outputs": [
    {
     "name": "stdout",
     "output_type": "stream",
     "text": [
      "<class 'pandas.core.frame.DataFrame'>\n",
      "RangeIndex: 8 entries, 0 to 7\n",
      "Data columns (total 2 columns):\n",
      "model             8 non-null object\n",
      "flights_amount    8 non-null int64\n",
      "dtypes: int64(1), object(1)\n",
      "memory usage: 256.0+ bytes\n",
      "\n",
      "<class 'pandas.core.frame.DataFrame'>\n",
      "RangeIndex: 101 entries, 0 to 100\n",
      "Data columns (total 2 columns):\n",
      "city               101 non-null object\n",
      "average_flights    101 non-null float64\n",
      "dtypes: float64(1), object(1)\n",
      "memory usage: 1.7+ KB\n"
     ]
    }
   ],
   "source": [
    "df_aircraft_info.info()\n",
    "print('')\n",
    "df_city_info.info()"
   ]
  },
  {
   "cell_type": "markdown",
   "metadata": {},
   "source": [
    "Результат метода *info()* подтвердил, что проблем в данных нет. \n",
    "\n",
    "Проверим вторую таблицу на наличие дубликатов:"
   ]
  },
  {
   "cell_type": "code",
   "execution_count": 3,
   "metadata": {},
   "outputs": [
    {
     "data": {
      "text/plain": [
       "0"
      ]
     },
     "execution_count": 3,
     "metadata": {},
     "output_type": "execute_result"
    }
   ],
   "source": [
    "df_city_info.duplicated().sum()"
   ]
  },
  {
   "cell_type": "markdown",
   "metadata": {},
   "source": [
    "Таблицы дубликатов не содержат. \n",
    "\n",
    "**Вывод:**\n",
    "\n",
    "Полученные данные полностью соответствуют необходимым требованиям, а значит их в полной мере можно использовать для анализа"
   ]
  },
  {
   "cell_type": "markdown",
   "metadata": {},
   "source": [
    "## Исследовательский анализ данных\n",
    "\n",
    "### Поиск топ-10 городов по количеству рейсов\n",
    "Так как среднее количество в день вычисляется путем деления всего количесвта рейсов на количество дней, то мы можем сформировать этот топ по среднему количеству рейсов."
   ]
  },
  {
   "cell_type": "code",
   "execution_count": 4,
   "metadata": {},
   "outputs": [
    {
     "data": {
      "text/html": [
       "<div>\n",
       "<style scoped>\n",
       "    .dataframe tbody tr th:only-of-type {\n",
       "        vertical-align: middle;\n",
       "    }\n",
       "\n",
       "    .dataframe tbody tr th {\n",
       "        vertical-align: top;\n",
       "    }\n",
       "\n",
       "    .dataframe thead th {\n",
       "        text-align: right;\n",
       "    }\n",
       "</style>\n",
       "<table border=\"1\" class=\"dataframe\">\n",
       "  <thead>\n",
       "    <tr style=\"text-align: right;\">\n",
       "      <th></th>\n",
       "      <th>city</th>\n",
       "      <th>average_flights</th>\n",
       "    </tr>\n",
       "  </thead>\n",
       "  <tbody>\n",
       "    <tr>\n",
       "      <td>43</td>\n",
       "      <td>Москва</td>\n",
       "      <td>129.774194</td>\n",
       "    </tr>\n",
       "    <tr>\n",
       "      <td>70</td>\n",
       "      <td>Санкт-Петербург</td>\n",
       "      <td>31.161290</td>\n",
       "    </tr>\n",
       "    <tr>\n",
       "      <td>54</td>\n",
       "      <td>Новосибирск</td>\n",
       "      <td>17.322581</td>\n",
       "    </tr>\n",
       "    <tr>\n",
       "      <td>33</td>\n",
       "      <td>Красноярск</td>\n",
       "      <td>11.580645</td>\n",
       "    </tr>\n",
       "    <tr>\n",
       "      <td>20</td>\n",
       "      <td>Екатеринбург</td>\n",
       "      <td>11.322581</td>\n",
       "    </tr>\n",
       "    <tr>\n",
       "      <td>67</td>\n",
       "      <td>Ростов-на-Дону</td>\n",
       "      <td>10.193548</td>\n",
       "    </tr>\n",
       "    <tr>\n",
       "      <td>63</td>\n",
       "      <td>Пермь</td>\n",
       "      <td>10.129032</td>\n",
       "    </tr>\n",
       "    <tr>\n",
       "      <td>10</td>\n",
       "      <td>Брянск</td>\n",
       "      <td>10.000000</td>\n",
       "    </tr>\n",
       "    <tr>\n",
       "      <td>74</td>\n",
       "      <td>Сочи</td>\n",
       "      <td>9.612903</td>\n",
       "    </tr>\n",
       "    <tr>\n",
       "      <td>84</td>\n",
       "      <td>Ульяновск</td>\n",
       "      <td>9.580645</td>\n",
       "    </tr>\n",
       "  </tbody>\n",
       "</table>\n",
       "</div>"
      ],
      "text/plain": [
       "               city  average_flights\n",
       "43           Москва       129.774194\n",
       "70  Санкт-Петербург        31.161290\n",
       "54      Новосибирск        17.322581\n",
       "33       Красноярск        11.580645\n",
       "20     Екатеринбург        11.322581\n",
       "67   Ростов-на-Дону        10.193548\n",
       "63            Пермь        10.129032\n",
       "10           Брянск        10.000000\n",
       "74             Сочи         9.612903\n",
       "84        Ульяновск         9.580645"
      ]
     },
     "metadata": {},
     "output_type": "display_data"
    }
   ],
   "source": [
    "df_top10_cities = df_city_info.sort_values(by='average_flights', ascending=False).head(10)\n",
    "display(df_top10_cities)"
   ]
  },
  {
   "cell_type": "markdown",
   "metadata": {},
   "source": [
    "Из полученной таблицы видно, что наибольшее количество рейсов совершается в Москву и Санкт-Петербург\n",
    "\n",
    "### график: модели самолетов и количество рейсов"
   ]
  },
  {
   "cell_type": "code",
   "execution_count": 5,
   "metadata": {},
   "outputs": [
    {
     "data": {
      "image/png": "[encoded data removed]",
      "text/plain": [
       "<Figure size 720x504 with 1 Axes>"
      ]
     },
     "metadata": {
      "needs_background": "light"
     },
     "output_type": "display_data"
    }
   ],
   "source": [
    "df_aircraft_info = df_aircraft_info.set_index('model')\n",
    "df_aircraft_info.plot(y='flights_amount', kind='bar', figsize=(10,7))\n",
    "plt.title('aircrafts models and flights')\n",
    "plt.show()"
   ]
  },
  {
   "cell_type": "markdown",
   "metadata": {},
   "source": [
    "**Вывод по графику:**\n",
    "\n",
    "Наибольшей популярностью пользуются модели *Bombardier CRJ-200*, *Cessna 208 Caravan* и *Sukhoi SuperJet-100*, скорее всего это связано с тем, что компании, которая производит только внутренние перевозки, нет надобности эксплуатировать большие самолеты *Airbus* и *Boeing*, ведь пассажиропоток между регионами скорее всего сильно ниже. "
   ]
  },
  {
   "cell_type": "markdown",
   "metadata": {},
   "source": [
    "###  график: города и количество рейсов"
   ]
  },
  {
   "cell_type": "code",
   "execution_count": 6,
   "metadata": {},
   "outputs": [
    {
     "data": {
      "image/png": "[encoded data removed]",
      "text/plain": [
       "<Figure size 1296x504 with 1 Axes>"
      ]
     },
     "metadata": {
      "needs_background": "light"
     },
     "output_type": "display_data"
    }
   ],
   "source": [
    "df_city_info = df_city_info.set_index('city')\n",
    "df_city_info.plot(y='average_flights', kind='bar', figsize=(18,7))\n",
    "plt.title('cities and flights')\n",
    "plt.show()"
   ]
  },
  {
   "cell_type": "markdown",
   "metadata": {},
   "source": [
    "**Вывод по графику:**\n",
    "\n",
    "График четко визуализирует топ, полученный ранее. А именно: наибольшее количество рейсов приходится на Санкт-Петербург и Москву\n",
    "\n",
    "### график: топ-10 городов и количество рейсов"
   ]
  },
  {
   "cell_type": "code",
   "execution_count": 7,
   "metadata": {},
   "outputs": [
    {
     "data": {
      "image/png": "[encoded data removed]",
      "text/plain": [
       "<Figure size 720x504 with 1 Axes>"
      ]
     },
     "metadata": {
      "needs_background": "light"
     },
     "output_type": "display_data"
    }
   ],
   "source": [
    "df_top10_cities = df_top10_cities.set_index('city')\n",
    "df_top10_cities.plot(y='average_flights', kind='bar', figsize=(10,7))\n",
    "plt.title('top 10 cities in flights')\n",
    "plt.show()"
   ]
  },
  {
   "cell_type": "markdown",
   "metadata": {},
   "source": [
    "**Вывод по графику:**\n",
    "\n",
    "Очевидно, что этот топ возглавляют Москва и Питер, потому что, во-первых, в этих городах наибольшее количество жителей, следовательно и рейсов больше, а, во-вторых, мероприятний здесь проводится больше, значит и люди сюда приезжают чаще. Новосибирск является третитьем по численности населения городом в России, поэтому его позиция в топе тоже весьма очевидна. Екатеринбург, как столица зауралья, притягивает к себе всю азиатскую часть России и является крупным производительным центром. Сочи - курортная зона, поэтому люди сюда и приезжают в таком количестве.   "
   ]
  },
  {
   "cell_type": "markdown",
   "metadata": {},
   "source": [
    "## Общий вывод\n",
    "Полученная закономерность распределения легко объяснима, основными причинами выбора направления путешествия являются: местоположение города, его размер и численность населения, а также концентрация производств в регионе. "
   ]
  }
 ],
 "metadata": {
  "ExecuteTimeLog": [
   {
    "duration": 1401,
    "start_time": "2021-11-14T12:52:42.159Z"
   },
   {
    "duration": 47,
    "start_time": "2021-11-14T12:54:22.327Z"
   },
   {
    "duration": 23,
    "start_time": "2021-11-14T13:05:33.103Z"
   },
   {
    "duration": 15,
    "start_time": "2021-11-14T13:05:46.918Z"
   },
   {
    "duration": 8,
    "start_time": "2021-11-14T13:06:24.632Z"
   },
   {
    "duration": 11,
    "start_time": "2021-11-14T13:06:57.866Z"
   },
   {
    "duration": 17,
    "start_time": "2021-11-14T13:15:40.568Z"
   },
   {
    "duration": 528,
    "start_time": "2021-11-14T13:15:54.460Z"
   },
   {
    "duration": 15,
    "start_time": "2021-11-14T13:16:07.266Z"
   },
   {
    "duration": 12,
    "start_time": "2021-11-14T13:16:18.905Z"
   },
   {
    "duration": 333,
    "start_time": "2021-11-14T13:23:23.946Z"
   },
   {
    "duration": 401,
    "start_time": "2021-11-14T13:23:40.267Z"
   },
   {
    "duration": 1440,
    "start_time": "2021-11-14T13:25:44.056Z"
   },
   {
    "duration": 13,
    "start_time": "2021-11-14T13:25:45.499Z"
   },
   {
    "duration": 16,
    "start_time": "2021-11-14T13:25:45.515Z"
   },
   {
    "duration": 424,
    "start_time": "2021-11-14T13:25:45.534Z"
   },
   {
    "duration": 441,
    "start_time": "2021-11-14T13:41:50.387Z"
   },
   {
    "duration": 2445,
    "start_time": "2021-11-14T13:42:04.618Z"
   },
   {
    "duration": 314,
    "start_time": "2021-11-14T13:42:20.005Z"
   },
   {
    "duration": 1473,
    "start_time": "2021-11-14T13:42:29.534Z"
   },
   {
    "duration": 13,
    "start_time": "2021-11-14T13:42:31.010Z"
   },
   {
    "duration": 15,
    "start_time": "2021-11-14T13:42:31.027Z"
   },
   {
    "duration": 428,
    "start_time": "2021-11-14T13:42:31.046Z"
   },
   {
    "duration": 2437,
    "start_time": "2021-11-14T13:42:31.476Z"
   },
   {
    "duration": 1357,
    "start_time": "2021-11-14T13:42:59.634Z"
   },
   {
    "duration": 13,
    "start_time": "2021-11-14T13:43:00.994Z"
   },
   {
    "duration": 16,
    "start_time": "2021-11-14T13:43:01.010Z"
   },
   {
    "duration": 420,
    "start_time": "2021-11-14T13:43:01.028Z"
   },
   {
    "duration": 2621,
    "start_time": "2021-11-14T13:43:01.450Z"
   },
   {
    "duration": 1395,
    "start_time": "2021-11-14T13:43:19.391Z"
   },
   {
    "duration": 11,
    "start_time": "2021-11-14T13:43:20.789Z"
   },
   {
    "duration": 20,
    "start_time": "2021-11-14T13:43:20.803Z"
   },
   {
    "duration": 413,
    "start_time": "2021-11-14T13:43:20.826Z"
   },
   {
    "duration": 2449,
    "start_time": "2021-11-14T13:43:21.242Z"
   },
   {
    "duration": 1396,
    "start_time": "2021-11-14T13:43:36.803Z"
   },
   {
    "duration": 12,
    "start_time": "2021-11-14T13:43:38.202Z"
   },
   {
    "duration": 18,
    "start_time": "2021-11-14T13:43:38.217Z"
   },
   {
    "duration": 411,
    "start_time": "2021-11-14T13:43:38.237Z"
   },
   {
    "duration": 2569,
    "start_time": "2021-11-14T13:43:38.650Z"
   },
   {
    "duration": 5,
    "start_time": "2021-11-14T13:49:19.692Z"
   },
   {
    "duration": 10,
    "start_time": "2021-11-14T13:49:31.246Z"
   },
   {
    "duration": 1437,
    "start_time": "2021-11-14T13:50:19.157Z"
   },
   {
    "duration": 11,
    "start_time": "2021-11-14T13:50:20.597Z"
   },
   {
    "duration": 18,
    "start_time": "2021-11-14T13:50:20.611Z"
   },
   {
    "duration": 432,
    "start_time": "2021-11-14T13:50:20.632Z"
   },
   {
    "duration": 2408,
    "start_time": "2021-11-14T13:50:21.067Z"
   },
   {
    "duration": 12,
    "start_time": "2021-11-14T13:50:23.483Z"
   },
   {
    "duration": 393,
    "start_time": "2021-11-14T13:51:38.507Z"
   },
   {
    "duration": 1427,
    "start_time": "2021-11-15T08:39:19.610Z"
   },
   {
    "duration": 13,
    "start_time": "2021-11-15T08:39:24.276Z"
   },
   {
    "duration": 106,
    "start_time": "2021-11-15T08:42:13.659Z"
   },
   {
    "duration": 9,
    "start_time": "2021-11-15T08:44:54.602Z"
   },
   {
    "duration": 7,
    "start_time": "2021-11-15T08:45:02.503Z"
   },
   {
    "duration": 1385,
    "start_time": "2021-11-15T08:45:32.960Z"
   },
   {
    "duration": 12,
    "start_time": "2021-11-15T08:45:34.348Z"
   },
   {
    "duration": 8,
    "start_time": "2021-11-15T08:45:34.364Z"
   },
   {
    "duration": 12,
    "start_time": "2021-11-15T08:45:34.375Z"
   },
   {
    "duration": 592,
    "start_time": "2021-11-15T08:45:34.390Z"
   },
   {
    "duration": 2401,
    "start_time": "2021-11-15T08:45:34.985Z"
   },
   {
    "duration": 493,
    "start_time": "2021-11-15T08:45:37.389Z"
   },
   {
    "duration": 1364,
    "start_time": "2022-01-18T12:02:57.510Z"
   },
   {
    "duration": 12,
    "start_time": "2022-01-18T12:02:58.877Z"
   },
   {
    "duration": 14,
    "start_time": "2022-01-18T12:02:58.892Z"
   },
   {
    "duration": 18,
    "start_time": "2022-01-18T12:02:58.909Z"
   },
   {
    "duration": 417,
    "start_time": "2022-01-18T12:02:58.929Z"
   },
   {
    "duration": 2432,
    "start_time": "2022-01-18T12:02:59.348Z"
   },
   {
    "duration": 416,
    "start_time": "2022-01-18T12:03:01.783Z"
   }
  ],
  "kernelspec": {
   "display_name": "Python 3",
   "language": "python",
   "name": "python3"
  },
  "language_info": {
   "codemirror_mode": {
    "name": "ipython",
    "version": 3
   },
   "file_extension": ".py",
   "mimetype": "text/x-python",
   "name": "python",
   "nbconvert_exporter": "python",
   "pygments_lexer": "ipython3",
   "version": "3.7.8"
  },
  "toc": {
   "base_numbering": 1,
   "nav_menu": {},
   "number_sections": true,
   "sideBar": true,
   "skip_h1_title": true,
   "title_cell": "Table of Contents",
   "title_sidebar": "Contents",
   "toc_cell": false,
   "toc_position": {},
   "toc_section_display": true,
   "toc_window_display": false
  }
 },
 "nbformat": 4,
 "nbformat_minor": 2
}
