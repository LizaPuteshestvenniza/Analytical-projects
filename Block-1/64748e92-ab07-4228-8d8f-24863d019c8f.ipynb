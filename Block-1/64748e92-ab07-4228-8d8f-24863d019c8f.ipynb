{
 "cells": [
  {
   "cell_type": "markdown",
   "metadata": {},
   "source": [
    "<div style=\"border:solid green 2px; padding: 20px\">\n",
    "<b>Привет, Елизавета!</b>\n",
    "\n",
    "Меня зовут Марина К, и я буду проверять твой проект. Предлагаю общаться на «ты» :) Но если это не удобно - дай мне знать, и мы перейдем на «вы». \n",
    "\n",
    "Ты проделала большую работу над проектом, но давай сделаем его еще лучше! Ниже ты найдешь мои комментарии - пожалуйста, не перемещай, не изменяй и не удаляй их. Я буду использовать цветовую разметку:\n",
    "\n",
    "<div class=\"alert alert-danger\">\n",
    "<b>Комментарии ревьюера:</b> Так выделены самые важные замечания. Без их отработки проект не будет принят. </div>\n",
    "\n",
    "<div class=\"alert alert-warning\">\n",
    "<b>Комментарии ревьюера:</b> Так выделены небольшие замечания. Одно-два таких замечания в проекте допустимы, но если их будет больше - тебе будет необходимо внести исправления.  </div>\n",
    "\n",
    "<div class=\"alert alert-success\">\n",
    "<b>Комментарии ревьюера:</b> Так я выделяю все остальные комментарии, твои удачные решения, комментарии по твоим промежуточным выводам и даю подсказки, как можно улучшить твоё решение.</div>\n",
    "\n",
    "Давай работать над проектом в диалоге: если ты что-то меняешь в проекте или отвечаешь на мои комментарии — пиши об этом. Мне будет легче отследить изменения, если ты выделишь свои комментарии:\n",
    "<div class=\"alert alert-info\"> <b>Комментарии студента:</b> Например, вот так.</div>\n",
    "\n",
    "Всё это поможет выполнить повторную проверку твоего проекта оперативнее. Если будут какие-нибудь вопросы по моим комментариям, пиши, будем разбираться вместе :)"
   ]
  },
  {
   "cell_type": "markdown",
   "metadata": {},
   "source": [
    "# Определяющие успешность игры закономерности\n",
    "\n",
    "Интернет-магазин «Стримчик» продаёт по всему миру компьютерные игры. Из открытых источников доступны исторические данные о продажах игр, оценки пользователей и экспертов, жанры и платформы (например, Xbox или PlayStation). Нужно выявить определяющие успешность игры закономерности. Это позволит сделать ставку на потенциально популярный продукт и спланировать рекламные кампании.\n",
    "\n",
    "## Изучение данных из файла"
   ]
  },
  {
   "cell_type": "markdown",
   "metadata": {},
   "source": [
    "<div class=\"alert alert-warning\">\n",
    "<b>Комментарии ревьюера:</b> Отличное начало! Ты кратко описала контекст задачи. Было бы здорово еще добавить описание входных переменных и план проекта. Так, читателю твоего проекта будет легче погрузиться в задачу. Более подробно про оформление проектов можно почитать в студенческом ноушне. Если будут проблемы с доступом в ноушн, можно обратиться к куратору.  </div>\n",
    "\n",
    "<div class=\"alert alert-info\"> <b>Комментарии студента:</b> А планом проекта разве не является содержание, которое создается автоматически?</div>\n",
    "\n",
    "<div class=\"alert alert-success\">\n",
    "<b>Комментарии ревьюера V2:</b> Верно, в проекте можно создать содержание автоматически. А если ты будешь где-то выкладывать проект, то можно потренироваться делать план работы со ссылками. </div>"
   ]
  },
  {
   "cell_type": "code",
   "execution_count": 1,
   "metadata": {},
   "outputs": [
    {
     "data": {
      "text/html": [
       "<div>\n",
       "<style scoped>\n",
       "    .dataframe tbody tr th:only-of-type {\n",
       "        vertical-align: middle;\n",
       "    }\n",
       "\n",
       "    .dataframe tbody tr th {\n",
       "        vertical-align: top;\n",
       "    }\n",
       "\n",
       "    .dataframe thead th {\n",
       "        text-align: right;\n",
       "    }\n",
       "</style>\n",
       "<table border=\"1\" class=\"dataframe\">\n",
       "  <thead>\n",
       "    <tr style=\"text-align: right;\">\n",
       "      <th></th>\n",
       "      <th>Name</th>\n",
       "      <th>Platform</th>\n",
       "      <th>Year_of_Release</th>\n",
       "      <th>Genre</th>\n",
       "      <th>NA_sales</th>\n",
       "      <th>EU_sales</th>\n",
       "      <th>JP_sales</th>\n",
       "      <th>Other_sales</th>\n",
       "      <th>Critic_Score</th>\n",
       "      <th>User_Score</th>\n",
       "      <th>Rating</th>\n",
       "    </tr>\n",
       "  </thead>\n",
       "  <tbody>\n",
       "    <tr>\n",
       "      <td>0</td>\n",
       "      <td>Wii Sports</td>\n",
       "      <td>Wii</td>\n",
       "      <td>2006.0</td>\n",
       "      <td>Sports</td>\n",
       "      <td>41.36</td>\n",
       "      <td>28.96</td>\n",
       "      <td>3.77</td>\n",
       "      <td>8.45</td>\n",
       "      <td>76.0</td>\n",
       "      <td>8</td>\n",
       "      <td>E</td>\n",
       "    </tr>\n",
       "    <tr>\n",
       "      <td>1</td>\n",
       "      <td>Super Mario Bros.</td>\n",
       "      <td>NES</td>\n",
       "      <td>1985.0</td>\n",
       "      <td>Platform</td>\n",
       "      <td>29.08</td>\n",
       "      <td>3.58</td>\n",
       "      <td>6.81</td>\n",
       "      <td>0.77</td>\n",
       "      <td>NaN</td>\n",
       "      <td>NaN</td>\n",
       "      <td>NaN</td>\n",
       "    </tr>\n",
       "    <tr>\n",
       "      <td>2</td>\n",
       "      <td>Mario Kart Wii</td>\n",
       "      <td>Wii</td>\n",
       "      <td>2008.0</td>\n",
       "      <td>Racing</td>\n",
       "      <td>15.68</td>\n",
       "      <td>12.76</td>\n",
       "      <td>3.79</td>\n",
       "      <td>3.29</td>\n",
       "      <td>82.0</td>\n",
       "      <td>8.3</td>\n",
       "      <td>E</td>\n",
       "    </tr>\n",
       "    <tr>\n",
       "      <td>3</td>\n",
       "      <td>Wii Sports Resort</td>\n",
       "      <td>Wii</td>\n",
       "      <td>2009.0</td>\n",
       "      <td>Sports</td>\n",
       "      <td>15.61</td>\n",
       "      <td>10.93</td>\n",
       "      <td>3.28</td>\n",
       "      <td>2.95</td>\n",
       "      <td>80.0</td>\n",
       "      <td>8</td>\n",
       "      <td>E</td>\n",
       "    </tr>\n",
       "    <tr>\n",
       "      <td>4</td>\n",
       "      <td>Pokemon Red/Pokemon Blue</td>\n",
       "      <td>GB</td>\n",
       "      <td>1996.0</td>\n",
       "      <td>Role-Playing</td>\n",
       "      <td>11.27</td>\n",
       "      <td>8.89</td>\n",
       "      <td>10.22</td>\n",
       "      <td>1.00</td>\n",
       "      <td>NaN</td>\n",
       "      <td>NaN</td>\n",
       "      <td>NaN</td>\n",
       "    </tr>\n",
       "    <tr>\n",
       "      <td>5</td>\n",
       "      <td>Tetris</td>\n",
       "      <td>GB</td>\n",
       "      <td>1989.0</td>\n",
       "      <td>Puzzle</td>\n",
       "      <td>23.20</td>\n",
       "      <td>2.26</td>\n",
       "      <td>4.22</td>\n",
       "      <td>0.58</td>\n",
       "      <td>NaN</td>\n",
       "      <td>NaN</td>\n",
       "      <td>NaN</td>\n",
       "    </tr>\n",
       "    <tr>\n",
       "      <td>6</td>\n",
       "      <td>New Super Mario Bros.</td>\n",
       "      <td>DS</td>\n",
       "      <td>2006.0</td>\n",
       "      <td>Platform</td>\n",
       "      <td>11.28</td>\n",
       "      <td>9.14</td>\n",
       "      <td>6.50</td>\n",
       "      <td>2.88</td>\n",
       "      <td>89.0</td>\n",
       "      <td>8.5</td>\n",
       "      <td>E</td>\n",
       "    </tr>\n",
       "    <tr>\n",
       "      <td>7</td>\n",
       "      <td>Wii Play</td>\n",
       "      <td>Wii</td>\n",
       "      <td>2006.0</td>\n",
       "      <td>Misc</td>\n",
       "      <td>13.96</td>\n",
       "      <td>9.18</td>\n",
       "      <td>2.93</td>\n",
       "      <td>2.84</td>\n",
       "      <td>58.0</td>\n",
       "      <td>6.6</td>\n",
       "      <td>E</td>\n",
       "    </tr>\n",
       "    <tr>\n",
       "      <td>8</td>\n",
       "      <td>New Super Mario Bros. Wii</td>\n",
       "      <td>Wii</td>\n",
       "      <td>2009.0</td>\n",
       "      <td>Platform</td>\n",
       "      <td>14.44</td>\n",
       "      <td>6.94</td>\n",
       "      <td>4.70</td>\n",
       "      <td>2.24</td>\n",
       "      <td>87.0</td>\n",
       "      <td>8.4</td>\n",
       "      <td>E</td>\n",
       "    </tr>\n",
       "    <tr>\n",
       "      <td>9</td>\n",
       "      <td>Duck Hunt</td>\n",
       "      <td>NES</td>\n",
       "      <td>1984.0</td>\n",
       "      <td>Shooter</td>\n",
       "      <td>26.93</td>\n",
       "      <td>0.63</td>\n",
       "      <td>0.28</td>\n",
       "      <td>0.47</td>\n",
       "      <td>NaN</td>\n",
       "      <td>NaN</td>\n",
       "      <td>NaN</td>\n",
       "    </tr>\n",
       "  </tbody>\n",
       "</table>\n",
       "</div>"
      ],
      "text/plain": [
       "                        Name Platform  Year_of_Release         Genre  \\\n",
       "0                 Wii Sports      Wii           2006.0        Sports   \n",
       "1          Super Mario Bros.      NES           1985.0      Platform   \n",
       "2             Mario Kart Wii      Wii           2008.0        Racing   \n",
       "3          Wii Sports Resort      Wii           2009.0        Sports   \n",
       "4   Pokemon Red/Pokemon Blue       GB           1996.0  Role-Playing   \n",
       "5                     Tetris       GB           1989.0        Puzzle   \n",
       "6      New Super Mario Bros.       DS           2006.0      Platform   \n",
       "7                   Wii Play      Wii           2006.0          Misc   \n",
       "8  New Super Mario Bros. Wii      Wii           2009.0      Platform   \n",
       "9                  Duck Hunt      NES           1984.0       Shooter   \n",
       "\n",
       "   NA_sales  EU_sales  JP_sales  Other_sales  Critic_Score User_Score Rating  \n",
       "0     41.36     28.96      3.77         8.45          76.0          8      E  \n",
       "1     29.08      3.58      6.81         0.77           NaN        NaN    NaN  \n",
       "2     15.68     12.76      3.79         3.29          82.0        8.3      E  \n",
       "3     15.61     10.93      3.28         2.95          80.0          8      E  \n",
       "4     11.27      8.89     10.22         1.00           NaN        NaN    NaN  \n",
       "5     23.20      2.26      4.22         0.58           NaN        NaN    NaN  \n",
       "6     11.28      9.14      6.50         2.88          89.0        8.5      E  \n",
       "7     13.96      9.18      2.93         2.84          58.0        6.6      E  \n",
       "8     14.44      6.94      4.70         2.24          87.0        8.4      E  \n",
       "9     26.93      0.63      0.28         0.47           NaN        NaN    NaN  "
      ]
     },
     "metadata": {},
     "output_type": "display_data"
    },
    {
     "name": "stdout",
     "output_type": "stream",
     "text": [
      "<class 'pandas.core.frame.DataFrame'>\n",
      "RangeIndex: 16715 entries, 0 to 16714\n",
      "Data columns (total 11 columns):\n",
      "Name               16713 non-null object\n",
      "Platform           16715 non-null object\n",
      "Year_of_Release    16446 non-null float64\n",
      "Genre              16713 non-null object\n",
      "NA_sales           16715 non-null float64\n",
      "EU_sales           16715 non-null float64\n",
      "JP_sales           16715 non-null float64\n",
      "Other_sales        16715 non-null float64\n",
      "Critic_Score       8137 non-null float64\n",
      "User_Score         10014 non-null object\n",
      "Rating             9949 non-null object\n",
      "dtypes: float64(6), object(5)\n",
      "memory usage: 1.4+ MB\n"
     ]
    }
   ],
   "source": [
    "import pandas as pd \n",
    "import matplotlib.pyplot as plt\n",
    "from IPython.display import display\n",
    "import numpy as np\n",
    "import warnings \n",
    "from scipy import stats as st\n",
    "warnings.filterwarnings('ignore')\n",
    "\n",
    "df = pd.read_csv('/datasets/games.csv')\n",
    "display(df.head(10))\n",
    "df.info()"
   ]
  },
  {
   "cell_type": "markdown",
   "metadata": {},
   "source": [
    "<div class=\"alert alert-success\">\n",
    "<b>Комментарии ревьюера:</b> Молодец, что используешь display для вывода таблиц.  </div>"
   ]
  },
  {
   "cell_type": "markdown",
   "metadata": {},
   "source": [
    "Рассмотрим полученную информацию более подробно:\n",
    "\n",
    "Таблица содержит 11 столбцов, в которых встречаются данные типа float64 и object:\n",
    "\n",
    "* Name — название игры\n",
    "* Platform — платформа\n",
    "* Year_of_Release — год выпуска\n",
    "* Genre — жанр игры\n",
    "* NA_sales — продажи в Северной Америке (миллионы проданных копий)\n",
    "* EU_sales — продажи в Европе (миллионы проданных копий)\n",
    "* JP_sales — продажи в Японии (миллионы проданных копий)\n",
    "* Other_sales — продажи в других странах (миллионы проданных копий)\n",
    "* Critic_Score — оценка критиков (максимум 100)\n",
    "* User_Score — оценка пользователей (максимум 10)\n",
    "* Rating — рейтинг от организации ESRB (англ. Entertainment Software Rating Board). Эта ассоциация определяет рейтинг компьютерных игр и присваивает им подходящую возрастную категорию.\n",
    "\n",
    "Количество значений в столбцах различается. Это говорит о том, что в данных есть пропущенные значения.\n",
    "\n",
    "**Вывод:**\n",
    "\n",
    "В таблице много пропусков, природа которых пока не совсем ясна: пропуск может означать, что информация отсутствует, или что просто, допустим, то же возрастное ограничение отсутствует, поэтому и обозначается NaNом. Для установления закономерности наибоьшее внимание обратим на стобцы *genre* и на оценки от критиков и пользователей. \n",
    "\n",
    "## Предобработка данных\n",
    "\n",
    "Сперва изменим регистр в названии столбцов:"
   ]
  },
  {
   "cell_type": "markdown",
   "metadata": {},
   "source": [
    "<div class=\"alert alert-success\">\n",
    "<b>Комментарии ревьюера:</b> Ты привела описание столбцов - хорошо. Это можно также делать и во введении.   </div>"
   ]
  },
  {
   "cell_type": "code",
   "execution_count": 2,
   "metadata": {},
   "outputs": [],
   "source": [
    "df.columns = map(str.lower, df.columns)"
   ]
  },
  {
   "cell_type": "markdown",
   "metadata": {},
   "source": [
    "<div class=\"alert alert-block alert-success\">\n",
    "<b>Комментарии ревьюера: </b>\n",
    "\n",
    "Здесь можно еще вот так:\n",
    "    \n",
    "df.columns = df.columns.str.lower()\n",
    "</div>"
   ]
  },
  {
   "cell_type": "markdown",
   "metadata": {},
   "source": [
    "Проверим наличие пропусков:"
   ]
  },
  {
   "cell_type": "code",
   "execution_count": 3,
   "metadata": {},
   "outputs": [
    {
     "data": {
      "text/plain": [
       "name                  2\n",
       "platform              0\n",
       "year_of_release     269\n",
       "genre                 2\n",
       "na_sales              0\n",
       "eu_sales              0\n",
       "jp_sales              0\n",
       "other_sales           0\n",
       "critic_score       8578\n",
       "user_score         6701\n",
       "rating             6766\n",
       "dtype: int64"
      ]
     },
     "execution_count": 3,
     "metadata": {},
     "output_type": "execute_result"
    }
   ],
   "source": [
    "df.isnull().sum()"
   ]
  },
  {
   "cell_type": "markdown",
   "metadata": {},
   "source": [
    "<div class=\"alert alert-block alert-success\">\n",
    "<b>Комментарии ревьюера: </b>\n",
    "\n",
    "Будет правильно еще привести долю пропусков относительно общего числа строк. Так мы поймем много их или мало. \n",
    "</div>"
   ]
  },
  {
   "cell_type": "markdown",
   "metadata": {},
   "source": [
    "Таблица содержит давольно много пропусков, которые стоит обработать:\n",
    "\n",
    "* name - так как всего две игры не имеют названия, избавимся от этих строк, их вклад в ощий анализ незначителен\n",
    "* year_of_release - избавимся от пропусков, потому что в дальнейшем надо будет изменить тип этого столбца, а пропуски не позволят это сделать, более того доля пропусков незначительна. \n",
    "* genre - опять две игры, может это даже те же, что и без названия, избавляемся от них\n",
    "* user_score и critic_score - столбцы очень значимы, их нельзя просто заменить среднем или медианой, потому что пропусков очень много, да и оценки все субъективны, однако их тип потом надо будет менять, а с NaN это не получится, поэтому заполним пропуски -1, а при анализе будем прописывать условие, игнорирующие -1. Также есть аббревиатура tbd - от английского To Be Determined (будет определено) используется, если какая-то информация еще не определена, по сути тотже NaN, поэтому заменим его на -1. Такая замена выбрана, чтоб не упустить реальные нулевые оценки. \n",
    "* rating - заполним значением \"Unknown\", потому что природа пропусков не известна"
   ]
  },
  {
   "cell_type": "markdown",
   "metadata": {},
   "source": [
    "<div class=\"alert alert-danger\">\n",
    "<b>Комментарии ревьюера:</b> <s>Согласна во всеми пунктами, кроме последнего. Мы не можем точно сказать, по какой причине пропущен рейтинг и означает ли это, что ограничения нет. Заполнять значением Е будет некорректно. Более того, если изучить пропуски более подробно, то можно заметить, что оценки и рейтинг часто отсутствуют вместе. Значит информация не была внесена. А это уже не случайные пропуски, и, любое заполнение каким-то конкретным значением приведет к искажению информации.\n",
    "\n",
    "Пропуски в рейтинге нам нужно заполнить значением-заглушкой ( Unknown, Undefinded  и тд). Поправь, пожалуйста. И после того, как сделаешь этот пункт, посмотри, как изменится портрет пользователя из Японии. </s>\n",
    "    \n",
    "Done!    \n",
    "    </div>"
   ]
  },
  {
   "cell_type": "code",
   "execution_count": 4,
   "metadata": {},
   "outputs": [],
   "source": [
    "drop_columns = ['name', \n",
    "                'year_of_release', \n",
    "                'genre']\n",
    "\n",
    "for i in drop_columns:\n",
    "    df = df.dropna(subset = [i])\n",
    "\n",
    "minus_one_columns = ['user_score', \n",
    "                     'critic_score']\n",
    "\n",
    "for i in minus_one_columns:\n",
    "    df[i] = df[i].fillna(-1)\n",
    "    \n",
    "df['user_score'] = df['user_score'].replace('tbd', -1)\n",
    "    \n",
    "df['rating'] = df['rating'].fillna('Unknown')"
   ]
  },
  {
   "cell_type": "markdown",
   "metadata": {},
   "source": [
    "Теперь обратим внимание на тип данных в столбцах: \n",
    "\n",
    "* year_of_release - представлен в типе float64, хотя год всегда представляется в целочисленным типом\n",
    "* critic_score - не содержит в себе ни одной дробной оценки (проверенно методом *unique*), значит следует перевести в int\n",
    "* user_score - представляет собой дробную оценку (проверенно методом *unique*), однако она передана строчным типом, следовательно необходимо изменить тип на float64"
   ]
  },
  {
   "cell_type": "code",
   "execution_count": 5,
   "metadata": {},
   "outputs": [],
   "source": [
    "df = df.astype({\"year_of_release\": \"int64\",\n",
    "                \"critic_score\": \"int64\", \n",
    "                \"user_score\": \"float64\"})"
   ]
  },
  {
   "cell_type": "markdown",
   "metadata": {},
   "source": [
    "<div class=\"alert alert-success\">\n",
    "<b>Комментарии ревьюера:</b> Отлично! </div>"
   ]
  },
  {
   "cell_type": "markdown",
   "metadata": {},
   "source": [
    "Посчитаем суммарные продажи во всех регионах и запишим их в отдельный столбец *total_sale*, но перед этим округлим продажи до двух знаков после запятой, потому что остальные значения уже не несут особой смысловой нагрузки"
   ]
  },
  {
   "cell_type": "code",
   "execution_count": 6,
   "metadata": {},
   "outputs": [],
   "source": [
    "df['total_sale'] = 0\n",
    "rounded_columns = ['na_sales', \n",
    "                   'eu_sales', \n",
    "                   'jp_sales', \n",
    "                   'other_sales']\n",
    "\n",
    "for i in rounded_columns:\n",
    "    df[i] = np.round(df[i], 2)\n",
    "    df['total_sale'] += df[i]"
   ]
  },
  {
   "cell_type": "markdown",
   "metadata": {},
   "source": [
    "<div class=\"alert alert-success\">\n",
    "<b>Комментарии ревьюера:</b> Вот так df[['na_sales','eu_sales','jp_sales', 'other_sales']].sum(axis = 1) будет тоже верно.  </div>"
   ]
  },
  {
   "cell_type": "markdown",
   "metadata": {},
   "source": [
    "Проверим таблицу на наличие дубликатов:"
   ]
  },
  {
   "cell_type": "code",
   "execution_count": 7,
   "metadata": {},
   "outputs": [
    {
     "data": {
      "text/plain": [
       "0"
      ]
     },
     "execution_count": 7,
     "metadata": {},
     "output_type": "execute_result"
    }
   ],
   "source": [
    "df.duplicated().sum()"
   ]
  },
  {
   "cell_type": "markdown",
   "metadata": {},
   "source": [
    "Дубликаты отсутствуют.\n",
    "\n",
    "Еще раз выведем информацию о таблице, чтоб удостовериться в правильности проведенной предобработки. "
   ]
  },
  {
   "cell_type": "code",
   "execution_count": 8,
   "metadata": {},
   "outputs": [
    {
     "name": "stdout",
     "output_type": "stream",
     "text": [
      "<class 'pandas.core.frame.DataFrame'>\n",
      "Int64Index: 16444 entries, 0 to 16714\n",
      "Data columns (total 12 columns):\n",
      "name               16444 non-null object\n",
      "platform           16444 non-null object\n",
      "year_of_release    16444 non-null int64\n",
      "genre              16444 non-null object\n",
      "na_sales           16444 non-null float64\n",
      "eu_sales           16444 non-null float64\n",
      "jp_sales           16444 non-null float64\n",
      "other_sales        16444 non-null float64\n",
      "critic_score       16444 non-null int64\n",
      "user_score         16444 non-null float64\n",
      "rating             16444 non-null object\n",
      "total_sale         16444 non-null float64\n",
      "dtypes: float64(6), int64(2), object(4)\n",
      "memory usage: 1.6+ MB\n"
     ]
    }
   ],
   "source": [
    "df.info()"
   ]
  },
  {
   "cell_type": "markdown",
   "metadata": {},
   "source": [
    "**Вывод:**\n",
    "\n",
    "Таблица содержала большое количество пропусков: какие то из них были критичны, какие то нет, в любом случае по итогу предобработки данные готовы к анализу."
   ]
  },
  {
   "cell_type": "markdown",
   "metadata": {},
   "source": [
    "## Исследовательский анализ данных\n",
    "\n",
    "### Вычисление количества игр в год"
   ]
  },
  {
   "cell_type": "markdown",
   "metadata": {},
   "source": [
    "Посмотрим, сколько игр выпускалось в разные годы. \n",
    "\n",
    "Для этого достаточно применить метод *value_counts()*, который выдаст количество встречаний уникальных элементов, что и будет эквивалентно количеству игр в разные года.  "
   ]
  },
  {
   "cell_type": "code",
   "execution_count": 9,
   "metadata": {},
   "outputs": [
    {
     "data": {
      "text/plain": [
       "1980       9\n",
       "1985      14\n",
       "1984      14\n",
       "1988      15\n",
       "1990      16\n",
       "1987      16\n",
       "1989      17\n",
       "1983      17\n",
       "1986      21\n",
       "1982      36\n",
       "1991      41\n",
       "1992      43\n",
       "1981      46\n",
       "1993      60\n",
       "1994     121\n",
       "1995     219\n",
       "1996     263\n",
       "1997     289\n",
       "1999     338\n",
       "2000     350\n",
       "1998     379\n",
       "2001     482\n",
       "2016     502\n",
       "2013     544\n",
       "2014     581\n",
       "2015     606\n",
       "2012     653\n",
       "2004     762\n",
       "2003     775\n",
       "2002     829\n",
       "2005     939\n",
       "2006    1006\n",
       "2011    1136\n",
       "2007    1197\n",
       "2010    1255\n",
       "2009    1426\n",
       "2008    1427\n",
       "Name: year_of_release, dtype: int64"
      ]
     },
     "execution_count": 9,
     "metadata": {},
     "output_type": "execute_result"
    }
   ],
   "source": [
    "years_values = df['year_of_release'].value_counts().sort_values()\n",
    "years_values"
   ]
  },
  {
   "cell_type": "markdown",
   "metadata": {},
   "source": [
    "Визуализируем данные. "
   ]
  },
  {
   "cell_type": "code",
   "execution_count": 10,
   "metadata": {},
   "outputs": [
    {
     "data": {
      "text/plain": [
       "Text(0.5, 1.0, 'amout per year')"
      ]
     },
     "execution_count": 10,
     "metadata": {},
     "output_type": "execute_result"
    },
    {
     "data": {
      "image/png": "[encoded data removed]",
      "text/plain": [
       "<Figure size 720x504 with 1 Axes>"
      ]
     },
     "metadata": {
      "needs_background": "light"
     },
     "output_type": "display_data"
    }
   ],
   "source": [
    "df_years_values = pd.DataFrame(years_values)\n",
    "df_years_values.columns = ['counts']\n",
    "df_years_values.plot(y='counts', kind='bar', figsize=(10,7))\n",
    "plt.title('amout per year')"
   ]
  },
  {
   "cell_type": "markdown",
   "metadata": {},
   "source": [
    "<div class=\"alert alert-warning\">\n",
    "<b>Комментарии ревьюера:</b> <s>Здесь лучше бы еще построить график. Так наш анализ будеь более полным. К тому же график поможет с выбором актуального периода. </s>   Отлично, спасибо! </div>"
   ]
  },
  {
   "cell_type": "markdown",
   "metadata": {},
   "source": [
    "Очевидно, что количество игр, выпускаемых в год неумолимо растет, начиная с 1980 года. Данные о играх до 2001 года не представляют особого интереса, потому что, во-первых, их довольно мало, а, во-вторых, качество, графика, сюжеты сильно уступают более современным аналогам. Более того именно после 2001 года виден сильный скачок количества игр исходя из данных на графике. \n",
    "\n",
    "### Распределение по платформам\n",
    "\n",
    "Сделаем срез по каждой платформе и построим графики распределений продаж по годам относительно платформ с наибольшими суммарными продажами. "
   ]
  },
  {
   "cell_type": "code",
   "execution_count": 11,
   "metadata": {
    "scrolled": false
   },
   "outputs": [
    {
     "data": {
      "text/html": [
       "<div>\n",
       "<style scoped>\n",
       "    .dataframe tbody tr th:only-of-type {\n",
       "        vertical-align: middle;\n",
       "    }\n",
       "\n",
       "    .dataframe tbody tr th {\n",
       "        vertical-align: top;\n",
       "    }\n",
       "\n",
       "    .dataframe thead th {\n",
       "        text-align: right;\n",
       "    }\n",
       "</style>\n",
       "<table border=\"1\" class=\"dataframe\">\n",
       "  <thead>\n",
       "    <tr style=\"text-align: right;\">\n",
       "      <th></th>\n",
       "      <th>total_sale</th>\n",
       "    </tr>\n",
       "    <tr>\n",
       "      <th>platform</th>\n",
       "      <th></th>\n",
       "    </tr>\n",
       "  </thead>\n",
       "  <tbody>\n",
       "    <tr>\n",
       "      <td>PS2</td>\n",
       "      <td>1194.39</td>\n",
       "    </tr>\n",
       "    <tr>\n",
       "      <td>X360</td>\n",
       "      <td>961.24</td>\n",
       "    </tr>\n",
       "    <tr>\n",
       "      <td>PS3</td>\n",
       "      <td>931.34</td>\n",
       "    </tr>\n",
       "    <tr>\n",
       "      <td>Wii</td>\n",
       "      <td>891.18</td>\n",
       "    </tr>\n",
       "    <tr>\n",
       "      <td>DS</td>\n",
       "      <td>802.76</td>\n",
       "    </tr>\n",
       "    <tr>\n",
       "      <td>PS4</td>\n",
       "      <td>314.14</td>\n",
       "    </tr>\n",
       "    <tr>\n",
       "      <td>GBA</td>\n",
       "      <td>312.81</td>\n",
       "    </tr>\n",
       "    <tr>\n",
       "      <td>PSP</td>\n",
       "      <td>289.53</td>\n",
       "    </tr>\n",
       "    <tr>\n",
       "      <td>3DS</td>\n",
       "      <td>257.81</td>\n",
       "    </tr>\n",
       "    <tr>\n",
       "      <td>XB</td>\n",
       "      <td>250.58</td>\n",
       "    </tr>\n",
       "    <tr>\n",
       "      <td>PC</td>\n",
       "      <td>201.06</td>\n",
       "    </tr>\n",
       "    <tr>\n",
       "      <td>GC</td>\n",
       "      <td>196.73</td>\n",
       "    </tr>\n",
       "    <tr>\n",
       "      <td>XOne</td>\n",
       "      <td>159.32</td>\n",
       "    </tr>\n",
       "    <tr>\n",
       "      <td>WiiU</td>\n",
       "      <td>82.19</td>\n",
       "    </tr>\n",
       "    <tr>\n",
       "      <td>PSV</td>\n",
       "      <td>53.81</td>\n",
       "    </tr>\n",
       "    <tr>\n",
       "      <td>PS</td>\n",
       "      <td>44.33</td>\n",
       "    </tr>\n",
       "    <tr>\n",
       "      <td>GB</td>\n",
       "      <td>9.24</td>\n",
       "    </tr>\n",
       "    <tr>\n",
       "      <td>N64</td>\n",
       "      <td>3.33</td>\n",
       "    </tr>\n",
       "    <tr>\n",
       "      <td>DC</td>\n",
       "      <td>1.42</td>\n",
       "    </tr>\n",
       "    <tr>\n",
       "      <td>WS</td>\n",
       "      <td>0.28</td>\n",
       "    </tr>\n",
       "  </tbody>\n",
       "</table>\n",
       "</div>"
      ],
      "text/plain": [
       "          total_sale\n",
       "platform            \n",
       "PS2          1194.39\n",
       "X360          961.24\n",
       "PS3           931.34\n",
       "Wii           891.18\n",
       "DS            802.76\n",
       "PS4           314.14\n",
       "GBA           312.81\n",
       "PSP           289.53\n",
       "3DS           257.81\n",
       "XB            250.58\n",
       "PC            201.06\n",
       "GC            196.73\n",
       "XOne          159.32\n",
       "WiiU           82.19\n",
       "PSV            53.81\n",
       "PS             44.33\n",
       "GB              9.24\n",
       "N64             3.33\n",
       "DC              1.42\n",
       "WS              0.28"
      ]
     },
     "execution_count": 11,
     "metadata": {},
     "output_type": "execute_result"
    }
   ],
   "source": [
    "df_more2001 = df[df['year_of_release'] >= 2001]\n",
    "sum_for_sales = df_more2001.pivot_table(index='platform', \n",
    "                                        values = 'total_sale', \n",
    "                                        aggfunc='sum')\n",
    "sum_for_sales.sort_values(by='total_sale', ascending = False)"
   ]
  },
  {
   "cell_type": "markdown",
   "metadata": {},
   "source": [
    "<div class=\"alert alert-warning\">\n",
    "<b>Комментарии ревьюера:</b> <s>Лучше пояснить, почему ты решила рассмотреть продажи именно с 2000-го года. </s> </div>"
   ]
  },
  {
   "cell_type": "markdown",
   "metadata": {},
   "source": [
    "Наибольшим количеством продаж отличаются первые пять платформ в полученной таблице *sum_for_sales*: *PS2*, *X360*, *PS3*, *Wii* и *DS*. Построим для них графики распределений по годам. "
   ]
  },
  {
   "cell_type": "code",
   "execution_count": 12,
   "metadata": {
    "scrolled": true
   },
   "outputs": [
    {
     "data": {
      "image/png": "[encoded data removed]",
      "text/plain": [
       "<Figure size 720x504 with 1 Axes>"
      ]
     },
     "metadata": {
      "needs_background": "light"
     },
     "output_type": "display_data"
    },
    {
     "data": {
      "image/png": "[encoded data removed]",
      "text/plain": [
       "<Figure size 720x504 with 1 Axes>"
      ]
     },
     "metadata": {
      "needs_background": "light"
     },
     "output_type": "display_data"
    },
    {
     "data": {
      "image/png": "[encoded data removed]",
      "text/plain": [
       "<Figure size 720x504 with 1 Axes>"
      ]
     },
     "metadata": {
      "needs_background": "light"
     },
     "output_type": "display_data"
    },
    {
     "data": {
      "image/png": "[encoded data removed]",
      "text/plain": [
       "<Figure size 720x504 with 1 Axes>"
      ]
     },
     "metadata": {
      "needs_background": "light"
     },
     "output_type": "display_data"
    },
    {
     "data": {
      "image/png": "[encoded data removed]",
      "text/plain": [
       "<Figure size 720x504 with 1 Axes>"
      ]
     },
     "metadata": {
      "needs_background": "light"
     },
     "output_type": "display_data"
    }
   ],
   "source": [
    "most_popular_platforms = ['PS2', \n",
    "                          'X360', \n",
    "                          'PS3', \n",
    "                          'Wii', \n",
    "                          'DS']\n",
    "\n",
    "for i in most_popular_platforms:\n",
    "    df_tmp = df_more2001[df_more2001['platform'] == i]\n",
    "    seles_for_year = df_tmp.pivot_table(index='year_of_release', \n",
    "                                        values = 'total_sale', \n",
    "                                        aggfunc='sum')\n",
    "    seles_for_year.plot(y='total_sale', kind='bar', figsize=(10,7))\n",
    "    plt.title(i)\n",
    "    plt.show()"
   ]
  },
  {
   "cell_type": "markdown",
   "metadata": {},
   "source": [
    "Для каждой платформы характерен свой год пика продаж. Например для *PS2* - 2004, а *PS3* - 2011. Однако особенностью этих платформ является то, что для каждой из них наблюдается стремительний упадок продаж к настоящему времени, а значит основывать анализ на этих платформах нерационально. \n",
    "\n",
    "### Определение актуального периода\n",
    "\n",
    "Так как технологии сильно меняются из года в год, рассматривать период с 2001 года не совсем корректно. Будем основываться на данных за последние 2 года - c 2015 до 2016 года включительно. Такие временные рамки позволят не отставать от современных тенденций и сделать анализ и прогноз более достоверным. Прошлые года соответственно учитываться не будут."
   ]
  },
  {
   "cell_type": "markdown",
   "metadata": {},
   "source": [
    "<div class=\"alert alert-warning\">\n",
    "<b>Комментарии ревьюера:</b> <s>Ты верно сказала, технологии меняются быстро и рассматривать большой срез данных не совсем корректно. \n",
    "\n",
    "Лучше взять меньший срез.  Поясню, почему. Для целей прогнозирования продаж на следующий год даже в традиционных бизнесах редко берут данные более чем за 2-3 года. А в такой динамично меняющейся индустрии, как компьютерные игры и вовсе не стоит брать слишком большой временной интервал - иначе обязательно захватишь уже отжившие тренды. \n",
    "    \n",
    "В целом резкий спад платформы может произойти буквально за 3 года. Лидер по продажам за всю историю PS2. Но продажи к 2011 году уже нулевые. X360 был на пике в 2010, но к 2016 упал почти до 0. Нам важно сделать прогноз на 2017 год, поэтому данные для этого должны быть релевантными. Мы видим, что с 2008 по 2012 наблюдалось резкое снижение продаж и релизов, поэтому некоторые платформы уже нежизнеспособны в 2013 и в 2017 соответственно. Нужно рассмотреть период, когда кризис миновал, и тогда у нас будут данные только по тем платформам, которые его пережили. Здесь будет удобно использовать тепловую карту. Так будет очень наглядно.  </s>\n",
    "    \n",
    "Отличное решение!    \n",
    "</div>"
   ]
  },
  {
   "cell_type": "code",
   "execution_count": 13,
   "metadata": {},
   "outputs": [],
   "source": [
    "working_df = df[df['year_of_release'] >= 2015]"
   ]
  },
  {
   "cell_type": "markdown",
   "metadata": {},
   "source": [
    "### Выбор потенциально прибыльных платформ\n",
    "\n",
    "На выбранном диапозоне проведем повторные действия для определения растущих и падающих по продажам платформ.\n",
    "\n",
    "Для начала определим лидеров продаж за этот период. "
   ]
  },
  {
   "cell_type": "code",
   "execution_count": 14,
   "metadata": {},
   "outputs": [
    {
     "data": {
      "text/html": [
       "<div>\n",
       "<style scoped>\n",
       "    .dataframe tbody tr th:only-of-type {\n",
       "        vertical-align: middle;\n",
       "    }\n",
       "\n",
       "    .dataframe tbody tr th {\n",
       "        vertical-align: top;\n",
       "    }\n",
       "\n",
       "    .dataframe thead th {\n",
       "        text-align: right;\n",
       "    }\n",
       "</style>\n",
       "<table border=\"1\" class=\"dataframe\">\n",
       "  <thead>\n",
       "    <tr style=\"text-align: right;\">\n",
       "      <th></th>\n",
       "      <th>total_sale</th>\n",
       "    </tr>\n",
       "    <tr>\n",
       "      <th>platform</th>\n",
       "      <th></th>\n",
       "    </tr>\n",
       "  </thead>\n",
       "  <tbody>\n",
       "    <tr>\n",
       "      <td>PS4</td>\n",
       "      <td>188.15</td>\n",
       "    </tr>\n",
       "    <tr>\n",
       "      <td>XOne</td>\n",
       "      <td>86.29</td>\n",
       "    </tr>\n",
       "    <tr>\n",
       "      <td>3DS</td>\n",
       "      <td>42.92</td>\n",
       "    </tr>\n",
       "    <tr>\n",
       "      <td>WiiU</td>\n",
       "      <td>20.95</td>\n",
       "    </tr>\n",
       "    <tr>\n",
       "      <td>PS3</td>\n",
       "      <td>20.42</td>\n",
       "    </tr>\n",
       "    <tr>\n",
       "      <td>PC</td>\n",
       "      <td>13.77</td>\n",
       "    </tr>\n",
       "    <tr>\n",
       "      <td>X360</td>\n",
       "      <td>13.48</td>\n",
       "    </tr>\n",
       "    <tr>\n",
       "      <td>PSV</td>\n",
       "      <td>10.50</td>\n",
       "    </tr>\n",
       "    <tr>\n",
       "      <td>Wii</td>\n",
       "      <td>1.32</td>\n",
       "    </tr>\n",
       "    <tr>\n",
       "      <td>PSP</td>\n",
       "      <td>0.12</td>\n",
       "    </tr>\n",
       "  </tbody>\n",
       "</table>\n",
       "</div>"
      ],
      "text/plain": [
       "          total_sale\n",
       "platform            \n",
       "PS4           188.15\n",
       "XOne           86.29\n",
       "3DS            42.92\n",
       "WiiU           20.95\n",
       "PS3            20.42\n",
       "PC             13.77\n",
       "X360           13.48\n",
       "PSV            10.50\n",
       "Wii             1.32\n",
       "PSP             0.12"
      ]
     },
     "execution_count": 14,
     "metadata": {},
     "output_type": "execute_result"
    }
   ],
   "source": [
    "find_leaders = working_df.pivot_table(index='platform', \n",
    "                                      values = 'total_sale', \n",
    "                                      aggfunc='sum')\n",
    "find_leaders.sort_values(by='total_sale', ascending = False)"
   ]
  },
  {
   "cell_type": "markdown",
   "metadata": {},
   "source": [
    "Теперь попробуем определить растущие и падающие платформы из этого списка. Для этого создадим функцию, которая будет определять растет или снижается уровень продаж за последние время. "
   ]
  },
  {
   "cell_type": "code",
   "execution_count": 15,
   "metadata": {},
   "outputs": [
    {
     "data": {
      "image/png": "[encoded data removed]",
      "text/plain": [
       "<Figure size 720x504 with 1 Axes>"
      ]
     },
     "metadata": {
      "needs_background": "light"
     },
     "output_type": "display_data"
    },
    {
     "data": {
      "image/png": "[encoded data removed]",
      "text/plain": [
       "<Figure size 720x504 with 1 Axes>"
      ]
     },
     "metadata": {
      "needs_background": "light"
     },
     "output_type": "display_data"
    },
    {
     "data": {
      "image/png": "[encoded data removed]",
      "text/plain": [
       "<Figure size 720x504 with 1 Axes>"
      ]
     },
     "metadata": {
      "needs_background": "light"
     },
     "output_type": "display_data"
    },
    {
     "data": {
      "image/png": "[encoded data removed]",
      "text/plain": [
       "<Figure size 720x504 with 1 Axes>"
      ]
     },
     "metadata": {
      "needs_background": "light"
     },
     "output_type": "display_data"
    },
    {
     "data": {
      "image/png": "[encoded data removed]",
      "text/plain": [
       "<Figure size 720x504 with 1 Axes>"
      ]
     },
     "metadata": {
      "needs_background": "light"
     },
     "output_type": "display_data"
    },
    {
     "data": {
      "image/png": "[encoded data removed]",
      "text/plain": [
       "<Figure size 720x504 with 1 Axes>"
      ]
     },
     "metadata": {
      "needs_background": "light"
     },
     "output_type": "display_data"
    },
    {
     "data": {
      "image/png": "[encoded data removed]",
      "text/plain": [
       "<Figure size 720x504 with 1 Axes>"
      ]
     },
     "metadata": {
      "needs_background": "light"
     },
     "output_type": "display_data"
    },
    {
     "data": {
      "image/png": "[encoded data removed]",
      "text/plain": [
       "<Figure size 720x504 with 1 Axes>"
      ]
     },
     "metadata": {
      "needs_background": "light"
     },
     "output_type": "display_data"
    },
    {
     "data": {
      "image/png": "[encoded data removed]",
      "text/plain": [
       "<Figure size 720x504 with 1 Axes>"
      ]
     },
     "metadata": {
      "needs_background": "light"
     },
     "output_type": "display_data"
    },
    {
     "data": {
      "image/png": "[encoded data removed]",
      "text/plain": [
       "<Figure size 720x504 with 1 Axes>"
      ]
     },
     "metadata": {
      "needs_background": "light"
     },
     "output_type": "display_data"
    }
   ],
   "source": [
    "def inc_or_dec(str):\n",
    "    df_tmp_5 = working_df[working_df['platform'] == str]\n",
    "    seles_for_year_12_16 = df_tmp_5.pivot_table(index='year_of_release', \n",
    "                                                values = 'total_sale', \n",
    "                                                aggfunc='sum')\n",
    "    seles_for_year_12_16.plot(y='total_sale', kind='bar', figsize=(10,7))\n",
    "    plt.title(i)\n",
    "    plt.show()\n",
    "        \n",
    "for i in working_df['platform'].unique():\n",
    "    inc_or_dec(i)"
   ]
  },
  {
   "cell_type": "markdown",
   "metadata": {},
   "source": [
    "На полученых графиках спад наблюдется абсолютно у каждой платформы, однако у 4 платформ он менее критичен: *PS4*, *3DS*, *XOne* и *PC*. Это в какой то степени не особо сочетается со списком лидеров, однако *PS4*, *XOne* и *3DS* оказались в нем и темпы упадка у них не такие быстрые, как у остальных. А значит именно *PS4*, *XOne* и *3DS* можно определить, как потенциально прибыльные платформы. \n",
    "\n"
   ]
  },
  {
   "cell_type": "markdown",
   "metadata": {},
   "source": [
    "<div class=\"alert alert-success\">\n",
    "<b>Комментарии ревьюера:</b> Молодец, что обосновала свой выбор. </div>"
   ]
  },
  {
   "cell_type": "markdown",
   "metadata": {},
   "source": [
    "### Глобальные продажи игр в разбивке по платформам\n",
    "\n",
    "Посмотрим, как распростронены игры внутри потенциально прибыльных поплатформ. "
   ]
  },
  {
   "cell_type": "code",
   "execution_count": 16,
   "metadata": {},
   "outputs": [
    {
     "name": "stdout",
     "output_type": "stream",
     "text": [
      "platform PS4\n"
     ]
    },
    {
     "data": {
      "image/png": "[encoded data removed]",
      "text/plain": [
       "<Figure size 720x504 with 1 Axes>"
      ]
     },
     "metadata": {
      "needs_background": "light"
     },
     "output_type": "display_data"
    },
    {
     "name": "stdout",
     "output_type": "stream",
     "text": [
      "platform XOne\n"
     ]
    },
    {
     "data": {
      "image/png": "[encoded data removed]",
      "text/plain": [
       "<Figure size 720x504 with 1 Axes>"
      ]
     },
     "metadata": {
      "needs_background": "light"
     },
     "output_type": "display_data"
    },
    {
     "name": "stdout",
     "output_type": "stream",
     "text": [
      "platform 3DS\n"
     ]
    },
    {
     "data": {
      "image/png": "[encoded data removed]",
      "text/plain": [
       "<Figure size 720x504 with 1 Axes>"
      ]
     },
     "metadata": {
      "needs_background": "light"
     },
     "output_type": "display_data"
    }
   ],
   "source": [
    "def games(str):\n",
    "    df_tmp_5 = working_df[working_df['platform'] == str]\n",
    "    df_tmp_5.boxplot(column='total_sale', figsize=(10,7))\n",
    "    plt.ylim([0,1.5])\n",
    "    plt.show()\n",
    "\n",
    "leaders =['PS4', \n",
    "          'XOne',\n",
    "          '3DS']\n",
    "for i in leaders:\n",
    "    print('platform', i)\n",
    "    games(i)"
   ]
  },
  {
   "cell_type": "markdown",
   "metadata": {},
   "source": [
    "Полученные данные свидетельствуют о том, что в основном продажи игр по платформам лежат в диапозоне не превышающем один миллион, однако есть и игры, которые приносят колосальный доход, это характерно для каждой платформы. \n",
    "\n"
   ]
  },
  {
   "cell_type": "markdown",
   "metadata": {},
   "source": [
    "<div class=\"alert alert-danger\">\n",
    "<b>Комментарии ревьюера:</b> <s>К сожалению, на этом графике видны только выбросы, и совсем не видны медиана и 75% квантиль. Для более обоснованных выводов нужно сделать дополнительный график, где будет отображена только нижняя часть boxplot-ов. Этого можно добиться, например, задав параметр ylim. Добавь, пожалуйста. </s></div>"
   ]
  },
  {
   "cell_type": "markdown",
   "metadata": {},
   "source": [
    "### Влияние отзывов на продажи\n",
    "\n",
    "Рассмотрим влияние отзывов критиков и пользователей на продажи на примере *PS4*. Для этого сначала создадим таблицу *df_PS4*, которая будет содержать всю информацию только по этой платформе. "
   ]
  },
  {
   "cell_type": "markdown",
   "metadata": {},
   "source": [
    "<div class=\"alert alert-danger\">\n",
    "<b>Комментарии ревьюера:</b> <s>В этом пункте нам нужно обязательно исключить из рассмотрения значения -1 (которыми мы заполнили пропуски), так как они сильно исказят результаты. </s></div>"
   ]
  },
  {
   "cell_type": "code",
   "execution_count": 17,
   "metadata": {},
   "outputs": [
    {
     "name": "stdout",
     "output_type": "stream",
     "text": [
      "              critic_score  user_score  total_sale\n",
      "critic_score      1.000000    0.533330    0.392074\n",
      "user_score        0.533330    1.000000   -0.064368\n",
      "total_sale        0.392074   -0.064368    1.000000\n"
     ]
    },
    {
     "data": {
      "image/png": "[encoded data removed]",
      "text/plain": [
       "<Figure size 648x648 with 9 Axes>"
      ]
     },
     "metadata": {
      "needs_background": "light"
     },
     "output_type": "display_data"
    }
   ],
   "source": [
    "def find_influence(str):\n",
    "    df_str = working_df[working_df['platform'] == str]\n",
    "    df_str = df_str.query('critic_score != -1 and user_score != -1')\n",
    "    drop_columns = ['name', 'year_of_release',\n",
    "                    'genre', 'na_sales', \n",
    "                    'eu_sales', 'jp_sales', \n",
    "                    'other_sales', 'rating']\n",
    "    for i in drop_columns:\n",
    "        df_str = df_str.drop(i, 1)\n",
    "    print(df_str.corr())\n",
    "    pd.plotting.scatter_matrix(df_str, figsize=(9, 9))\n",
    "\n",
    "find_influence(\"PS4\")"
   ]
  },
  {
   "cell_type": "markdown",
   "metadata": {},
   "source": [
    "Очень сильно коррелируют столбцы *user_score* и *critic_score*, и действительно, если игра хорошая и интересная, то она нравится как критикам, так и обычным пользователям, а вот на продажи особого влияния они не имеют, хотя определенно связь между ними прямая: с увеличением одного параметра, растет и второй, но незначительно, посмотрим насколько это соответствует платформам *XOne* и *3DS*, чтоб судить о том, насколько это соответствует остальным платформам."
   ]
  },
  {
   "cell_type": "code",
   "execution_count": 18,
   "metadata": {},
   "outputs": [
    {
     "name": "stdout",
     "output_type": "stream",
     "text": [
      "platform XOne\n",
      "              critic_score  user_score  total_sale\n",
      "critic_score      1.000000    0.459443    0.422519\n",
      "user_score        0.459443    1.000000   -0.068684\n",
      "total_sale        0.422519   -0.068684    1.000000\n",
      "\n",
      "platform 3DS\n",
      "              critic_score  user_score  total_sale\n",
      "critic_score      1.000000    0.791853    0.177575\n",
      "user_score        0.791853    1.000000    0.240477\n",
      "total_sale        0.177575    0.240477    1.000000\n",
      "\n"
     ]
    },
    {
     "data": {
      "image/png": "[encoded data removed]",
      "text/plain": [
       "<Figure size 648x648 with 9 Axes>"
      ]
     },
     "metadata": {
      "needs_background": "light"
     },
     "output_type": "display_data"
    },
    {
     "data": {
      "image/png": "[encoded data removed]",
      "text/plain": [
       "<Figure size 648x648 with 9 Axes>"
      ]
     },
     "metadata": {
      "needs_background": "light"
     },
     "output_type": "display_data"
    }
   ],
   "source": [
    "platforms = ['XOne', '3DS']\n",
    "\n",
    "for i in platforms:\n",
    "    print('platform', i)\n",
    "    find_influence(i)\n",
    "    print('')"
   ]
  },
  {
   "cell_type": "markdown",
   "metadata": {},
   "source": [
    "Получается, что оценки, действительно не оказывают особого влияния на степень продаж. \n",
    "\n",
    "Изучив этот вопрос более детально, было обнаружено, что на самом деле оценка означает не то, насколько игра хороша или плоха, а степень ожидания игроков, например: 10 - большой ажиотаж, 6.5 - мало кому интересна и тд.\n",
    "\n",
    "### Расперделение жанров \n",
    "\n",
    "Посмотрим, как распределяются жанры и выделим среди них наиболее и наименее продаваемые. "
   ]
  },
  {
   "cell_type": "code",
   "execution_count": 19,
   "metadata": {},
   "outputs": [
    {
     "data": {
      "text/plain": [
       "<matplotlib.axes._subplots.AxesSubplot at 0x7f0e152da610>"
      ]
     },
     "execution_count": 19,
     "metadata": {},
     "output_type": "execute_result"
    },
    {
     "data": {
      "image/png": "[encoded data removed]",
      "text/plain": [
       "<Figure size 720x504 with 1 Axes>"
      ]
     },
     "metadata": {
      "needs_background": "light"
     },
     "output_type": "display_data"
    }
   ],
   "source": [
    "genre_df = working_df.pivot_table(index='genre', \n",
    "                                  values='total_sale',\n",
    "                                  aggfunc='sum')\n",
    "genre_df = genre_df.sort_values(by ='total_sale')\n",
    "genre_df.plot(y='total_sale', kind='bar', figsize=(10,7))"
   ]
  },
  {
   "cell_type": "markdown",
   "metadata": {},
   "source": [
    "Самыми продаваемыми жанрами оказались: *Action*, *Shooter*, *Role-Playing* и *Sports*, наименее продаваемые: *Puzzle* и *Strategy*, однако стоит соотнести такое распределение с количеством игр соответствующего жанра, может их просто сильно больше, от чего и получается такое распределение. "
   ]
  },
  {
   "cell_type": "code",
   "execution_count": 20,
   "metadata": {},
   "outputs": [
    {
     "data": {
      "text/plain": [
       "genre\n",
       "Action          431\n",
       "Role-Playing    132\n",
       "Adventure       110\n",
       "Sports          107\n",
       "Shooter          81\n",
       "Misc             71\n",
       "Racing           42\n",
       "Fighting         37\n",
       "Simulation       33\n",
       "Strategy         29\n",
       "Platform         28\n",
       "Puzzle            7\n",
       "Name: name, dtype: int64"
      ]
     },
     "execution_count": 20,
     "metadata": {},
     "output_type": "execute_result"
    }
   ],
   "source": [
    "genre_count_df = working_df.groupby('genre')['name'].count()\n",
    "genre_count_df = genre_count_df.sort_values(ascending=False)\n",
    "genre_count_df"
   ]
  },
  {
   "cell_type": "markdown",
   "metadata": {},
   "source": [
    "Действительно, игр жанра action больше почти в три раза по сравнению со следующим идущем жанром, поэтому и продажи наибольшие, жанр puzzle имеет наименьшее число продаж, но и игр меньше всего, что очень логично, однако игр жанра shooter не так уж и много, а по продажам они занимают второе место.\n",
    "\n",
    "Для более точной оценки посмотрим еще на медианные продажи по каждому жанру"
   ]
  },
  {
   "cell_type": "code",
   "execution_count": 21,
   "metadata": {},
   "outputs": [
    {
     "name": "stdout",
     "output_type": "stream",
     "text": [
      "Shooter 0.38\n",
      "Sports 0.12\n",
      "Role-Playing 0.11499999999999999\n",
      "Action 0.060000000000000005\n",
      "Platform 0.09999999999999999\n",
      "Simulation 0.09999999999999999\n",
      "Fighting 0.09\n",
      "Racing 0.05500000000000001\n",
      "Adventure 0.03\n",
      "Misc 0.06\n",
      "Strategy 0.05\n",
      "Puzzle 0.03\n"
     ]
    }
   ],
   "source": [
    "for i in working_df['genre'].unique():\n",
    "    genre_query =  working_df[working_df['genre'] == i]\n",
    "    genre_median = genre_query['total_sale'].median()\n",
    "    print(i, genre_median)"
   ]
  },
  {
   "cell_type": "markdown",
   "metadata": {},
   "source": [
    "В целом медианные продажи не опровергли полученных ранее результатов. \n",
    "\n",
    "**Вывод:**\n",
    "\n",
    "По итогу проведения исследовательского анализа были выявлены лидеры продаж среди платформ и жанров игр, определены временные рамки наиболее интересного периода для проведения анализа, но что самое главное - выделены потенциально прибыльные платформы. "
   ]
  },
  {
   "cell_type": "markdown",
   "metadata": {},
   "source": [
    "<div class=\"alert alert-warning\">\n",
    "<b>Комментарии ревьюера:</b> <s>Хорошо, что ты обратила внимание, что суммарные продажи это довольно грубая оценка. Здесь можно еще рассмотреть средние /  медианные продажи. Общие продажи - плохая метрика для поиска наиболее прибыльного жанра. За высокими показателями общих продаж может скрываться множество мелких игр с низкими продажами. Или 2-3 звезды и куча провалов. </s>\n",
    "\n",
    "👍\n",
    "</div>"
   ]
  },
  {
   "cell_type": "markdown",
   "metadata": {},
   "source": [
    "## Составление портрета пользователя отдельно каждого региона\n",
    "\n",
    "Рассмотрим теперь отдельно каждый регион и выделим топ5 лидирующих позиций по каждому параметру: платформа, жанр и возрастной рейтинг. "
   ]
  },
  {
   "cell_type": "code",
   "execution_count": 22,
   "metadata": {},
   "outputs": [
    {
     "name": "stdout",
     "output_type": "stream",
     "text": [
      "          na_sales\n",
      "platform          \n",
      "PS4          63.86\n",
      "XOne         50.30\n",
      "3DS          10.31\n",
      "WiiU          8.86\n",
      "X360          8.05\n",
      "PS3           5.66\n",
      "PC            3.72\n",
      "PSV           0.54\n",
      "Wii           0.49\n",
      "PSP           0.00\n",
      "              na_sales\n",
      "genre                 \n",
      "Shooter          48.18\n",
      "Action           33.68\n",
      "Sports           26.31\n",
      "Role-Playing     19.82\n",
      "Misc              5.58\n",
      "Fighting          5.54\n",
      "Adventure         3.84\n",
      "Platform          3.78\n",
      "Racing            2.82\n",
      "Simulation        1.36\n",
      "Strategy          0.82\n",
      "Puzzle            0.06\n",
      "         na_sales\n",
      "rating           \n",
      "M           47.03\n",
      "Unknown     37.44\n",
      "E           26.59\n",
      "T           22.86\n",
      "E10+        17.87\n",
      "          eu_sales\n",
      "platform          \n",
      "PS4          83.54\n",
      "XOne         28.10\n",
      "PC            9.10\n",
      "3DS           7.39\n",
      "PS3           7.30\n",
      "WiiU          6.49\n",
      "X360          4.21\n",
      "PSV           1.08\n",
      "Wii           0.73\n",
      "PSP           0.00\n",
      "              eu_sales\n",
      "genre                 \n",
      "Shooter          40.28\n",
      "Action           34.82\n",
      "Sports           27.82\n",
      "Role-Playing     17.21\n",
      "Racing            6.52\n",
      "Adventure         4.67\n",
      "Misc              4.26\n",
      "Simulation        3.74\n",
      "Fighting          3.72\n",
      "Platform          3.20\n",
      "Strategy          1.57\n",
      "Puzzle            0.13\n",
      "         eu_sales\n",
      "rating           \n",
      "M           45.54\n",
      "Unknown     35.71\n",
      "E           34.83\n",
      "T           20.32\n",
      "E10+        11.54\n",
      "          jp_sales\n",
      "platform          \n",
      "3DS          23.55\n",
      "PS4          12.05\n",
      "PSV           8.41\n",
      "PS3           4.97\n",
      "WiiU          4.12\n",
      "XOne          0.18\n",
      "PSP           0.12\n",
      "PC            0.00\n",
      "Wii           0.00\n",
      "X360          0.00\n",
      "              jp_sales\n",
      "genre                 \n",
      "Action           23.05\n",
      "Role-Playing     13.41\n",
      "Shooter           3.79\n",
      "Misc              3.19\n",
      "Adventure         2.22\n",
      "Simulation        1.93\n",
      "Sports            1.65\n",
      "Fighting          1.54\n",
      "Platform          1.42\n",
      "Puzzle            0.52\n",
      "Strategy          0.39\n",
      "Racing            0.29\n",
      "         jp_sales\n",
      "rating           \n",
      "Unknown     32.89\n",
      "T            7.70\n",
      "E            5.25\n",
      "M            4.29\n",
      "E10+         3.27\n"
     ]
    }
   ],
   "source": [
    "regions = ['na_sales', 'eu_sales', 'jp_sales']\n",
    "criterion = ['platform', 'genre', 'rating']\n",
    "\n",
    "def top5_platforms(str):\n",
    "    for i in criterion:\n",
    "        region_df = working_df.pivot_table(index=i, \n",
    "                                           values=str,\n",
    "                                           aggfunc='sum')\n",
    "        region_df = region_df.sort_values(by=str, ascending=False)\n",
    "        print(region_df)\n",
    "\n",
    "for i in regions:\n",
    "    top5_platforms(i)"
   ]
  },
  {
   "cell_type": "markdown",
   "metadata": {},
   "source": [
    "Именно столько было совершено продаж по каждому из критериев, исходя из чего можно выделить топ5 лидеров для каждого региона по разным критериям. \n",
    "\n",
    "*Америка:*\n",
    "\n",
    "Топ5 по платформам:\n",
    "\n",
    "* PS4\n",
    "* XOne\n",
    "* 3DS\n",
    "* WiiU\n",
    "* X360  \n",
    "\n",
    "В общей сложности именно эти платформы и составляют определяющее большинтво продаж, занимая колоссальную долю среди всех имеющихся. \n",
    "\n",
    "Топ5 по жанрам:\n",
    "\n",
    "* Shooter\n",
    "* Action\n",
    "* Sports\n",
    "* Role-Playing \n",
    "* Misc\n",
    "\n",
    "Action и Shooter имеют тут наибольшую долю продаж, что говорит о грандизной популярности этих жанров в Америке. \n",
    "\n",
    "Что касается возрастных ограничений, то лидером здесь являются игры для детей старше 17 лет. \n",
    "\n",
    "\n",
    "*Европа:*\n",
    "\n",
    "Топ5 по платформам:\n",
    "\n",
    "* PS4\n",
    "* XOne\n",
    "* PC\n",
    "* 3DS\n",
    "* PS3  \n",
    "\n",
    "Наибольшее предпочтение люди в этом регионе отдают PS4 и XOne. \n",
    "\n",
    "Топ5 по жанрам:\n",
    "\n",
    "* Shooter\n",
    "* Action\n",
    "* Sports\n",
    "* Role-Playing\n",
    "* Racing \n",
    "\n",
    "Рейтинг идентичен американскому, однако пятую позицию занимает жанр *racing*, наверное, это связано с тем, что именно в этом регионе гонки занимают не последнее место среди интересов населения, как минимум именно в Европе проводится Формула 1 (в Монако), и именно Европа является главным производителем и создателем гоночных автомобилей. \n",
    "\n",
    "В Европе также как и в Америке отдают предпочтение играм с возратсным рейтингом либо для всех, либо 17+\n",
    "\n",
    "*Япония:*\n",
    "\n",
    "Топ5 по платформам:\n",
    "\n",
    "* 3DS\n",
    "* PS4\n",
    "* PSV\n",
    "* PS3\n",
    "* WiiU \n",
    "\n",
    "В целом картина не сильно отличается от Европы и Америки, но есть и что то новое в этом топе. \n",
    "\n",
    "Топ5 по жанрам:\n",
    "\n",
    "* Action\n",
    "* Role-Playing\n",
    "* Shooter\n",
    "* Misc\n",
    "* Adventure\n",
    "\n",
    "Как и в случае с платформами, конечно, есть схожие направления с Европой и Америкой, однако встречаются и новые, например, Adventure\n",
    "\n",
    "Что касается возрастных ограниченй:  наибольшое количество из них неизвестно, однако следующим типом идет маркировка для тинейджеров. \n",
    "\n",
    "**Вывод:**\n",
    "\n",
    "Портреты Америки и Европы очень похожи, а вот Япония от них отличается, но не сильно. "
   ]
  },
  {
   "cell_type": "markdown",
   "metadata": {},
   "source": [
    "<div class=\"alert alert-success\">\n",
    "<b>Комментарии ревьюера:</b> Здесь было бы здорово еще построить графики. Например, очень подошла бы круговая диаграмма. </div>"
   ]
  },
  {
   "cell_type": "markdown",
   "metadata": {},
   "source": [
    "<div class=\"alert alert-success\">\n",
    "<b>Комментарии ревьюера V2:</b> Нужно еще отметить, что в Японии самый популярный рейтинг это Unknown. Можно подумать, с чем это может быть связано. </div>"
   ]
  },
  {
   "cell_type": "markdown",
   "metadata": {},
   "source": [
    "## Проверка гипотез\n",
    "\n",
    "### Гипотеза о равенстве средних пользовательских оценках\n",
    "\n",
    "Проверим на сколько верно предположение, что средние пользовательские рейтинги платформ *Xbox One* и *PC* одинаковые.\n",
    "\n",
    "Нулевая гипотеза: средние пользовательские рейтинги платформ *Xbox One* и *PC* одинаковые\n",
    "\n",
    "Альтернативная гипотеза: средние пользовательские рейтинги платформ *Xbox One* и *PC* разные\n",
    "\n",
    "Значение *alpha* возьмем равным 0.05\n",
    "\n",
    "А также посмотрим на распределение значений на графике. "
   ]
  },
  {
   "cell_type": "markdown",
   "metadata": {},
   "source": [
    "<div class=\"alert alert-success\">\n",
    "<b>Комментарии ревьюера:</b> Гипотезы сформулированы верно.</div>"
   ]
  },
  {
   "cell_type": "code",
   "execution_count": 23,
   "metadata": {},
   "outputs": [
    {
     "name": "stdout",
     "output_type": "stream",
     "text": [
      "использовать equal_val = False\n"
     ]
    },
    {
     "data": {
      "image/png": "[encoded data removed]",
      "text/plain": [
       "<Figure size 432x288 with 1 Axes>"
      ]
     },
     "metadata": {
      "needs_background": "light"
     },
     "output_type": "display_data"
    }
   ],
   "source": [
    "XOne_df = working_df.query('platform == \"XOne\" and user_score != -1')\n",
    "PC_df = working_df.query('platform == \"PC\" and user_score != -1')\n",
    "\n",
    "def find_var(samp1, samp2):\n",
    "    var_1 = np.var(samp1)\n",
    "    var_2 = np.var(samp2)\n",
    "    if (var_1 == var_2) :\n",
    "        print('использовать equal_val = True')\n",
    "    else:\n",
    "        print('использовать equal_val = False')\n",
    "    samp1.hist(bins=35, alpha = 0.7)\n",
    "    samp2.hist(bins=35, alpha = 0.6)\n",
    "       \n",
    "find_var(XOne_df['user_score'], PC_df['user_score'])"
   ]
  },
  {
   "cell_type": "markdown",
   "metadata": {},
   "source": [
    "Распределение стремится к нормальному, однако все же для проверки гипотез будем использовать t-распределение Стъюдента."
   ]
  },
  {
   "cell_type": "code",
   "execution_count": 24,
   "metadata": {},
   "outputs": [
    {
     "name": "stdout",
     "output_type": "stream",
     "text": [
      "p-значение:  0.2946308864003345\n"
     ]
    }
   ],
   "source": [
    "results = st.ttest_ind(XOne_df['user_score'], PC_df['user_score'], equal_var = False)\n",
    "print('p-значение: ', results.pvalue)"
   ]
  },
  {
   "cell_type": "markdown",
   "metadata": {},
   "source": [
    "Полученное значение не дает оснований отвергнуть нулевую гипотезу о том, что средние пользовательские рейтинги платформ Xbox One и PC одинаковые\n",
    "\n",
    "###  Проверка гипотезы об отличии пользовательских рейтингов жанров Action и Sports\n",
    "\n",
    "Нулевая гипотеза: пользовательские рейтинги жанров Action и Sports равны\n",
    "\n",
    "Альтернативная гипотеза: пользовательские рейтинги жанров Action и Sports разные\n",
    "\n",
    "Значение *alpha* возьмем равным 0.05"
   ]
  },
  {
   "cell_type": "code",
   "execution_count": 25,
   "metadata": {},
   "outputs": [
    {
     "name": "stdout",
     "output_type": "stream",
     "text": [
      "использовать equal_val = False\n"
     ]
    },
    {
     "data": {
      "image/png": "[encoded data removed]",
      "text/plain": [
       "<Figure size 432x288 with 1 Axes>"
      ]
     },
     "metadata": {
      "needs_background": "light"
     },
     "output_type": "display_data"
    }
   ],
   "source": [
    "action_df = working_df.query('genre == \"Action\" and user_score != -1')\n",
    "sports_df = working_df.query('genre == \"Sports\" and user_score != -1')\n",
    "\n",
    "find_var(action_df['user_score'], sports_df['user_score'])"
   ]
  },
  {
   "cell_type": "markdown",
   "metadata": {},
   "source": [
    "Распределение стремится к нормальному, однако все же для проверки гипотез будем использовать t-распределение Стъюдента."
   ]
  },
  {
   "cell_type": "code",
   "execution_count": 26,
   "metadata": {},
   "outputs": [
    {
     "name": "stdout",
     "output_type": "stream",
     "text": [
      "p-значение:  5.97163549920592e-10\n"
     ]
    }
   ],
   "source": [
    "results = st.ttest_ind(action_df['user_score'], sports_df['user_score'], equal_var = False)\n",
    "print('p-значение: ', results.pvalue)"
   ]
  },
  {
   "cell_type": "markdown",
   "metadata": {},
   "source": [
    "<div class=\"alert alert-success\">\n",
    "<b>Комментарии ревьюера:</b> Здорово, что изучила распределения. Тестирование гипотез выполнено верно. Также, молодец, что исключила значения -1 из рассмотрения. </div>"
   ]
  },
  {
   "cell_type": "markdown",
   "metadata": {},
   "source": [
    "Полученное значение дает достаточные основания отвернуть нулевую гипотезу, приняв то, что пользовательские рейтинги жанров Action и Sports разные  \n",
    "\n",
    "## Общий вывод\n",
    "\n",
    "Проведенный анализ показал, что для того, чтоб выбрать перспективный продукт, надо в первую очередь основываться на том, в каком регионе будут проводиться продажи, ведь, исходя из полученных результатов, рынок Японии сильно отличается от Американского и Европейского рынков, которые сами по себе сильно похожи друг на друга. \n",
    "\n",
    "Однако лидером в установленный актуальный период (2012-2016) является PlayStation абсолютно в каждом регионе, вместе с которым лидирующие позиции занимает жанр Action - вместе они и представляют собой наиболее перспективные и потенциально популярные продукты. "
   ]
  },
  {
   "cell_type": "markdown",
   "metadata": {},
   "source": [
    "<div class=\"alert alert-success\">\n",
    "<b>Комментарии ревьюера:</b> Отлично, что ест общий вывод. На будущее - в выводе можно еще кратко приводить описание данных, с которыми работали, проблемы в данных, которые обнаружили, давать свои рекомендации по сбору данных и тд. </div>"
   ]
  },
  {
   "cell_type": "markdown",
   "metadata": {},
   "source": [
    "<div class=\"alert alert-success\">\n",
    "<b>Комментарии ревьюера:</b> Елизавета, у тебя получилась очень сильная работа. Хочется отметить большое количество автоматизации вычислений!\n",
    "\n",
    "Есть пара критичных и несколько некритичных замечаний.\n",
    "    \n",
    "Критично исправить:\n",
    "    \n",
    "- поправить заполнение пропусков в столбце рейтинг\n",
    "- построить ящики с усами без выбросов\n",
    "- поправить пункт Влияние отзывов на продажи\n",
    "    \n",
    "И было бы здорово исправить несколько некритичных (желтых) замечаний, чтобы их осталось не больше двух.\n",
    "    \n",
    "Буду ждать исправленный вариант! \n",
    "</div>"
   ]
  },
  {
   "cell_type": "markdown",
   "metadata": {},
   "source": [
    "<div class=\"alert alert-success\">\n",
    "<b>Комментарии ревьюера V2:</b> Замечания исправлены. Проект принят! Удачи в следующих проектах!\n",
    "</div>"
   ]
  },
  {
   "cell_type": "markdown",
   "metadata": {},
   "source": [
    "## Чек-лист\n",
    "\n",
    "- [x] описаны выявленные в данных проблемы\n",
    "- [x] подготовлен датасет к анализу\n",
    "- [x] графики для распределений построены и объяснены\n",
    "- [x] рассчитана дисперсия\n",
    "- [x] сформулированна альтернативная и нулевая гипотезы\n",
    "- [x] применены методы для их проверки\n",
    "- [x] объяснены результат проверки гипотез\n",
    "- [x] соблюдена структура проекта и поддерживается аккуратность кода\n",
    "- [x] делаются выводы \n",
    "- [x] оставляются комментарии к шагам"
   ]
  }
 ],
 "metadata": {
  "ExecuteTimeLog": [
   {
    "duration": 1490,
    "start_time": "2021-10-18T14:11:42.747Z"
   },
   {
    "duration": 75,
    "start_time": "2021-10-18T14:12:47.777Z"
   },
   {
    "duration": 471,
    "start_time": "2021-10-18T14:23:33.726Z"
   },
   {
    "duration": 4,
    "start_time": "2021-10-18T14:25:40.943Z"
   },
   {
    "duration": 404,
    "start_time": "2021-10-18T14:25:51.371Z"
   },
   {
    "duration": 367,
    "start_time": "2021-10-18T14:26:01.007Z"
   },
   {
    "duration": 7,
    "start_time": "2021-10-18T14:26:05.163Z"
   },
   {
    "duration": 4,
    "start_time": "2021-10-18T14:26:16.943Z"
   },
   {
    "duration": 7,
    "start_time": "2021-10-18T14:29:57.779Z"
   },
   {
    "duration": 8,
    "start_time": "2021-10-18T14:30:34.103Z"
   },
   {
    "duration": 6,
    "start_time": "2021-10-18T14:31:59.071Z"
   },
   {
    "duration": 7,
    "start_time": "2021-10-18T14:33:33.971Z"
   },
   {
    "duration": 11,
    "start_time": "2021-10-18T14:35:21.754Z"
   },
   {
    "duration": 549,
    "start_time": "2021-10-18T14:38:24.819Z"
   },
   {
    "duration": 14,
    "start_time": "2021-10-18T14:51:13.226Z"
   },
   {
    "duration": 22,
    "start_time": "2021-10-18T14:53:52.811Z"
   },
   {
    "duration": 26,
    "start_time": "2021-10-18T14:55:36.332Z"
   },
   {
    "duration": 28,
    "start_time": "2021-10-18T14:56:04.611Z"
   },
   {
    "duration": 28,
    "start_time": "2021-10-18T15:01:34.613Z"
   },
   {
    "duration": 34,
    "start_time": "2021-10-18T15:01:50.031Z"
   },
   {
    "duration": 27,
    "start_time": "2021-10-18T15:01:55.171Z"
   },
   {
    "duration": 379,
    "start_time": "2021-10-18T15:02:03.615Z"
   },
   {
    "duration": 35,
    "start_time": "2021-10-18T15:03:07.767Z"
   },
   {
    "duration": 417,
    "start_time": "2021-10-18T15:04:05.368Z"
   },
   {
    "duration": 566,
    "start_time": "2021-10-18T15:04:21.453Z"
   },
   {
    "duration": 31,
    "start_time": "2021-10-18T15:05:06.317Z"
   },
   {
    "duration": 29,
    "start_time": "2021-10-18T15:05:20.747Z"
   },
   {
    "duration": 28,
    "start_time": "2021-10-18T15:11:11.235Z"
   },
   {
    "duration": 33,
    "start_time": "2021-10-18T15:11:25.342Z"
   },
   {
    "duration": 1467,
    "start_time": "2021-10-18T15:12:03.625Z"
   },
   {
    "duration": 4,
    "start_time": "2021-10-18T15:12:05.094Z"
   },
   {
    "duration": 25,
    "start_time": "2021-10-18T15:12:05.101Z"
   },
   {
    "duration": 54,
    "start_time": "2021-10-18T15:12:05.129Z"
   },
   {
    "duration": 33,
    "start_time": "2021-10-18T15:12:05.185Z"
   },
   {
    "duration": 28,
    "start_time": "2021-10-18T15:12:31.155Z"
   },
   {
    "duration": 1439,
    "start_time": "2021-10-18T15:12:37.437Z"
   },
   {
    "duration": 4,
    "start_time": "2021-10-18T15:12:38.879Z"
   },
   {
    "duration": 14,
    "start_time": "2021-10-18T15:12:38.886Z"
   },
   {
    "duration": 29,
    "start_time": "2021-10-18T15:12:38.903Z"
   },
   {
    "duration": 13,
    "start_time": "2021-10-18T15:12:38.957Z"
   },
   {
    "duration": 471,
    "start_time": "2021-10-18T15:14:31.715Z"
   },
   {
    "duration": 365,
    "start_time": "2021-10-18T15:19:16.727Z"
   },
   {
    "duration": 12,
    "start_time": "2021-10-18T15:20:09.750Z"
   },
   {
    "duration": 16,
    "start_time": "2021-10-18T15:20:30.114Z"
   },
   {
    "duration": 19,
    "start_time": "2021-10-18T15:20:49.695Z"
   },
   {
    "duration": 1591,
    "start_time": "2021-10-18T15:21:26.706Z"
   },
   {
    "duration": 4,
    "start_time": "2021-10-18T15:21:28.299Z"
   },
   {
    "duration": 17,
    "start_time": "2021-10-18T15:21:28.305Z"
   },
   {
    "duration": 48,
    "start_time": "2021-10-18T15:21:28.324Z"
   },
   {
    "duration": 11,
    "start_time": "2021-10-18T15:21:28.374Z"
   },
   {
    "duration": 25,
    "start_time": "2021-10-18T15:21:28.387Z"
   },
   {
    "duration": 1389,
    "start_time": "2021-10-18T15:21:46.988Z"
   },
   {
    "duration": 4,
    "start_time": "2021-10-18T15:21:48.379Z"
   },
   {
    "duration": 20,
    "start_time": "2021-10-18T15:21:48.386Z"
   },
   {
    "duration": 28,
    "start_time": "2021-10-18T15:21:48.408Z"
   },
   {
    "duration": 27,
    "start_time": "2021-10-18T15:21:48.438Z"
   },
   {
    "duration": 29,
    "start_time": "2021-10-18T15:21:48.467Z"
   },
   {
    "duration": 1680,
    "start_time": "2021-10-18T15:26:23.540Z"
   },
   {
    "duration": 4,
    "start_time": "2021-10-18T15:26:25.223Z"
   },
   {
    "duration": 33,
    "start_time": "2021-10-18T15:26:25.230Z"
   },
   {
    "duration": 38,
    "start_time": "2021-10-18T15:26:25.267Z"
   },
   {
    "duration": 16,
    "start_time": "2021-10-18T15:26:25.308Z"
   },
   {
    "duration": 48,
    "start_time": "2021-10-18T15:26:25.328Z"
   },
   {
    "duration": 19,
    "start_time": "2021-10-18T15:27:00.559Z"
   },
   {
    "duration": 20,
    "start_time": "2021-10-18T15:27:04.644Z"
   },
   {
    "duration": 12,
    "start_time": "2021-10-18T15:27:25.317Z"
   },
   {
    "duration": 16,
    "start_time": "2021-10-18T15:27:35.967Z"
   },
   {
    "duration": 16,
    "start_time": "2021-10-18T15:27:52.345Z"
   },
   {
    "duration": 1477,
    "start_time": "2021-10-18T15:27:59.666Z"
   },
   {
    "duration": 4,
    "start_time": "2021-10-18T15:28:01.146Z"
   },
   {
    "duration": 46,
    "start_time": "2021-10-18T15:28:01.157Z"
   },
   {
    "duration": 42,
    "start_time": "2021-10-18T15:28:01.206Z"
   },
   {
    "duration": 14,
    "start_time": "2021-10-18T15:28:01.250Z"
   },
   {
    "duration": 44,
    "start_time": "2021-10-18T15:28:01.266Z"
   },
   {
    "duration": 17,
    "start_time": "2021-10-18T15:28:20.919Z"
   },
   {
    "duration": 14,
    "start_time": "2021-10-18T15:28:36.151Z"
   },
   {
    "duration": 16,
    "start_time": "2021-10-18T15:28:59.822Z"
   },
   {
    "duration": 13,
    "start_time": "2021-10-18T15:29:14.324Z"
   },
   {
    "duration": 9456,
    "start_time": "2021-10-18T15:29:26.857Z"
   },
   {
    "duration": 9520,
    "start_time": "2021-10-18T15:29:38.610Z"
   },
   {
    "duration": 14,
    "start_time": "2021-10-18T15:29:54.517Z"
   },
   {
    "duration": 10038,
    "start_time": "2021-10-18T15:30:10.372Z"
   },
   {
    "duration": 1853,
    "start_time": "2021-10-18T15:30:27.303Z"
   },
   {
    "duration": 4,
    "start_time": "2021-10-18T15:30:29.159Z"
   },
   {
    "duration": 18,
    "start_time": "2021-10-18T15:30:29.166Z"
   },
   {
    "duration": 39,
    "start_time": "2021-10-18T15:30:29.187Z"
   },
   {
    "duration": 28,
    "start_time": "2021-10-18T15:30:29.229Z"
   },
   {
    "duration": 9166,
    "start_time": "2021-10-18T15:30:29.260Z"
   },
   {
    "duration": 14,
    "start_time": "2021-10-18T15:30:40.998Z"
   },
   {
    "duration": 14,
    "start_time": "2021-10-18T15:30:59.348Z"
   },
   {
    "duration": 1399,
    "start_time": "2021-10-18T15:31:06.879Z"
   },
   {
    "duration": 5,
    "start_time": "2021-10-18T15:31:08.281Z"
   },
   {
    "duration": 21,
    "start_time": "2021-10-18T15:31:08.289Z"
   },
   {
    "duration": 27,
    "start_time": "2021-10-18T15:31:08.312Z"
   },
   {
    "duration": 11,
    "start_time": "2021-10-18T15:31:08.358Z"
   },
   {
    "duration": 22,
    "start_time": "2021-10-18T15:31:08.372Z"
   },
   {
    "duration": 1486,
    "start_time": "2021-10-18T15:31:26.765Z"
   },
   {
    "duration": 4,
    "start_time": "2021-10-18T15:31:28.254Z"
   },
   {
    "duration": 17,
    "start_time": "2021-10-18T15:31:28.261Z"
   },
   {
    "duration": 30,
    "start_time": "2021-10-18T15:31:28.281Z"
   },
   {
    "duration": 11,
    "start_time": "2021-10-18T15:31:28.313Z"
   },
   {
    "duration": 38,
    "start_time": "2021-10-18T15:31:28.326Z"
   },
   {
    "duration": 1394,
    "start_time": "2021-10-18T15:31:48.911Z"
   },
   {
    "duration": 4,
    "start_time": "2021-10-18T15:31:50.308Z"
   },
   {
    "duration": 17,
    "start_time": "2021-10-18T15:31:50.315Z"
   },
   {
    "duration": 31,
    "start_time": "2021-10-18T15:31:50.358Z"
   },
   {
    "duration": 11,
    "start_time": "2021-10-18T15:31:50.391Z"
   },
   {
    "duration": 24,
    "start_time": "2021-10-18T15:31:50.404Z"
   },
   {
    "duration": 1463,
    "start_time": "2021-10-18T15:32:08.830Z"
   },
   {
    "duration": 4,
    "start_time": "2021-10-18T15:32:10.295Z"
   },
   {
    "duration": 14,
    "start_time": "2021-10-18T15:32:10.302Z"
   },
   {
    "duration": 51,
    "start_time": "2021-10-18T15:32:10.319Z"
   },
   {
    "duration": 14,
    "start_time": "2021-10-18T15:32:10.372Z"
   },
   {
    "duration": 17,
    "start_time": "2021-10-18T15:32:10.389Z"
   },
   {
    "duration": 23,
    "start_time": "2021-10-18T15:33:41.498Z"
   },
   {
    "duration": 14,
    "start_time": "2021-10-18T15:35:36.588Z"
   },
   {
    "duration": 1366,
    "start_time": "2021-10-18T17:58:27.651Z"
   },
   {
    "duration": 4,
    "start_time": "2021-10-18T17:58:29.020Z"
   },
   {
    "duration": 16,
    "start_time": "2021-10-18T17:58:29.026Z"
   },
   {
    "duration": 54,
    "start_time": "2021-10-18T17:58:29.044Z"
   },
   {
    "duration": 11,
    "start_time": "2021-10-18T17:58:29.100Z"
   },
   {
    "duration": 12,
    "start_time": "2021-10-18T17:58:29.113Z"
   },
   {
    "duration": 20,
    "start_time": "2021-10-18T17:58:29.127Z"
   },
   {
    "duration": 43,
    "start_time": "2021-10-18T17:58:29.150Z"
   },
   {
    "duration": 9,
    "start_time": "2021-10-18T18:01:56.087Z"
   },
   {
    "duration": 11,
    "start_time": "2021-10-18T18:02:14.601Z"
   },
   {
    "duration": 10,
    "start_time": "2021-10-18T18:02:44.810Z"
   },
   {
    "duration": 1056,
    "start_time": "2021-10-19T07:52:05.564Z"
   },
   {
    "duration": 3,
    "start_time": "2021-10-19T07:52:06.622Z"
   },
   {
    "duration": 11,
    "start_time": "2021-10-19T07:52:06.626Z"
   },
   {
    "duration": 18,
    "start_time": "2021-10-19T07:52:06.639Z"
   },
   {
    "duration": 7,
    "start_time": "2021-10-19T07:52:06.659Z"
   },
   {
    "duration": 24,
    "start_time": "2021-10-19T07:52:06.667Z"
   },
   {
    "duration": 14,
    "start_time": "2021-10-19T07:52:06.692Z"
   },
   {
    "duration": 9,
    "start_time": "2021-10-19T07:52:06.707Z"
   },
   {
    "duration": 7,
    "start_time": "2021-10-19T07:52:06.717Z"
   },
   {
    "duration": 5,
    "start_time": "2021-10-19T07:54:13.058Z"
   },
   {
    "duration": 262,
    "start_time": "2021-10-19T08:05:05.032Z"
   },
   {
    "duration": 1045,
    "start_time": "2021-10-19T08:05:35.662Z"
   },
   {
    "duration": 3,
    "start_time": "2021-10-19T08:05:36.709Z"
   },
   {
    "duration": 10,
    "start_time": "2021-10-19T08:05:36.717Z"
   },
   {
    "duration": 19,
    "start_time": "2021-10-19T08:05:36.729Z"
   },
   {
    "duration": 8,
    "start_time": "2021-10-19T08:05:36.749Z"
   },
   {
    "duration": 38,
    "start_time": "2021-10-19T08:05:36.759Z"
   },
   {
    "duration": 20,
    "start_time": "2021-10-19T08:05:36.799Z"
   },
   {
    "duration": 10,
    "start_time": "2021-10-19T08:05:36.822Z"
   },
   {
    "duration": 7,
    "start_time": "2021-10-19T08:05:36.834Z"
   },
   {
    "duration": 12,
    "start_time": "2021-10-19T08:05:36.843Z"
   },
   {
    "duration": 4417,
    "start_time": "2021-10-19T08:05:36.856Z"
   },
   {
    "duration": 4836,
    "start_time": "2021-10-19T08:10:34.638Z"
   },
   {
    "duration": 186,
    "start_time": "2021-10-19T08:11:04.147Z"
   },
   {
    "duration": 4587,
    "start_time": "2021-10-19T08:11:14.066Z"
   },
   {
    "duration": 6,
    "start_time": "2021-10-19T08:11:32.249Z"
   },
   {
    "duration": 22,
    "start_time": "2021-10-19T08:11:39.613Z"
   },
   {
    "duration": 22,
    "start_time": "2021-10-19T08:12:05.131Z"
   },
   {
    "duration": 12696,
    "start_time": "2021-10-19T08:12:38.503Z"
   },
   {
    "duration": -18,
    "start_time": "2021-10-19T08:12:51.219Z"
   },
   {
    "duration": 5,
    "start_time": "2021-10-19T08:13:05.665Z"
   },
   {
    "duration": 13187,
    "start_time": "2021-10-19T08:13:07.962Z"
   },
   {
    "duration": 186,
    "start_time": "2021-10-19T08:19:23.988Z"
   },
   {
    "duration": 370,
    "start_time": "2021-10-19T08:20:21.984Z"
   },
   {
    "duration": 77,
    "start_time": "2021-10-19T08:20:52.890Z"
   },
   {
    "duration": 82,
    "start_time": "2021-10-19T08:22:04.829Z"
   },
   {
    "duration": 78,
    "start_time": "2021-10-19T08:22:16.562Z"
   },
   {
    "duration": 76,
    "start_time": "2021-10-19T08:22:43.267Z"
   },
   {
    "duration": 7,
    "start_time": "2021-10-19T08:23:56.669Z"
   },
   {
    "duration": 11,
    "start_time": "2021-10-19T08:24:05.762Z"
   },
   {
    "duration": 23,
    "start_time": "2021-10-19T08:24:12.443Z"
   },
   {
    "duration": 248,
    "start_time": "2021-10-19T08:24:34.506Z"
   },
   {
    "duration": 77,
    "start_time": "2021-10-19T08:24:56.881Z"
   },
   {
    "duration": 86,
    "start_time": "2021-10-19T08:25:11.222Z"
   },
   {
    "duration": 12,
    "start_time": "2021-10-19T08:30:21.443Z"
   },
   {
    "duration": 16,
    "start_time": "2021-10-19T08:30:28.411Z"
   },
   {
    "duration": 244,
    "start_time": "2021-10-19T08:30:45.413Z"
   },
   {
    "duration": 11,
    "start_time": "2021-10-19T08:30:52.396Z"
   },
   {
    "duration": 17,
    "start_time": "2021-10-19T08:31:02.522Z"
   },
   {
    "duration": 17,
    "start_time": "2021-10-19T08:31:48.189Z"
   },
   {
    "duration": 18,
    "start_time": "2021-10-19T08:32:00.206Z"
   },
   {
    "duration": 17,
    "start_time": "2021-10-19T08:32:41.270Z"
   },
   {
    "duration": 1104,
    "start_time": "2021-10-19T08:32:46.303Z"
   },
   {
    "duration": 5,
    "start_time": "2021-10-19T08:32:47.409Z"
   },
   {
    "duration": 9,
    "start_time": "2021-10-19T08:32:47.416Z"
   },
   {
    "duration": 19,
    "start_time": "2021-10-19T08:32:47.427Z"
   },
   {
    "duration": 8,
    "start_time": "2021-10-19T08:32:47.448Z"
   },
   {
    "duration": 8,
    "start_time": "2021-10-19T08:32:47.457Z"
   },
   {
    "duration": 37,
    "start_time": "2021-10-19T08:32:47.466Z"
   },
   {
    "duration": 10,
    "start_time": "2021-10-19T08:32:47.504Z"
   },
   {
    "duration": 6,
    "start_time": "2021-10-19T08:32:47.515Z"
   },
   {
    "duration": 15,
    "start_time": "2021-10-19T08:32:47.522Z"
   },
   {
    "duration": 12656,
    "start_time": "2021-10-19T08:32:47.538Z"
   },
   {
    "duration": 79482,
    "start_time": "2021-10-19T08:35:16.847Z"
   },
   {
    "duration": 1562,
    "start_time": "2021-10-19T08:39:04.733Z"
   },
   {
    "duration": 189,
    "start_time": "2021-10-19T08:45:54.765Z"
   },
   {
    "duration": 8,
    "start_time": "2021-10-19T08:46:02.250Z"
   },
   {
    "duration": 4,
    "start_time": "2021-10-19T09:03:09.138Z"
   },
   {
    "duration": 14,
    "start_time": "2021-10-19T09:13:08.550Z"
   },
   {
    "duration": 4,
    "start_time": "2021-10-19T09:24:11.998Z"
   },
   {
    "duration": 3249,
    "start_time": "2021-10-19T09:25:47.310Z"
   },
   {
    "duration": 2295,
    "start_time": "2021-10-19T09:27:47.825Z"
   },
   {
    "duration": 669,
    "start_time": "2021-10-19T09:43:12.634Z"
   },
   {
    "duration": 1311,
    "start_time": "2021-10-19T09:43:53.071Z"
   },
   {
    "duration": 26,
    "start_time": "2021-10-19T09:44:36.068Z"
   },
   {
    "duration": 370,
    "start_time": "2021-10-19T09:44:55.477Z"
   },
   {
    "duration": 364,
    "start_time": "2021-10-19T09:45:04.192Z"
   },
   {
    "duration": 377,
    "start_time": "2021-10-19T09:45:26.944Z"
   },
   {
    "duration": 395,
    "start_time": "2021-10-19T09:46:36.091Z"
   },
   {
    "duration": 761,
    "start_time": "2021-10-19T09:46:38.935Z"
   },
   {
    "duration": 194,
    "start_time": "2021-10-19T09:46:48.080Z"
   },
   {
    "duration": 494,
    "start_time": "2021-10-19T09:47:32.227Z"
   },
   {
    "duration": 2171,
    "start_time": "2021-10-19T09:48:23.306Z"
   },
   {
    "duration": 635,
    "start_time": "2021-10-19T09:50:12.056Z"
   },
   {
    "duration": 555,
    "start_time": "2021-10-19T09:50:18.038Z"
   },
   {
    "duration": 1309,
    "start_time": "2021-10-19T13:00:38.922Z"
   },
   {
    "duration": 4,
    "start_time": "2021-10-19T13:00:40.233Z"
   },
   {
    "duration": 21,
    "start_time": "2021-10-19T13:00:40.239Z"
   },
   {
    "duration": 33,
    "start_time": "2021-10-19T13:00:40.263Z"
   },
   {
    "duration": 10,
    "start_time": "2021-10-19T13:00:40.298Z"
   },
   {
    "duration": 15,
    "start_time": "2021-10-19T13:00:40.310Z"
   },
   {
    "duration": 20,
    "start_time": "2021-10-19T13:00:40.327Z"
   },
   {
    "duration": 21,
    "start_time": "2021-10-19T13:00:40.349Z"
   },
   {
    "duration": 10,
    "start_time": "2021-10-19T13:00:40.373Z"
   },
   {
    "duration": 16,
    "start_time": "2021-10-19T13:00:40.385Z"
   },
   {
    "duration": 1411,
    "start_time": "2021-10-19T13:00:40.403Z"
   },
   {
    "duration": 5,
    "start_time": "2021-10-19T13:00:41.816Z"
   },
   {
    "duration": 18,
    "start_time": "2021-10-19T13:00:41.823Z"
   },
   {
    "duration": 2502,
    "start_time": "2021-10-19T13:00:41.843Z"
   },
   {
    "duration": 600,
    "start_time": "2021-10-19T13:00:44.347Z"
   },
   {
    "duration": 752,
    "start_time": "2021-10-19T13:01:12.124Z"
   },
   {
    "duration": 7,
    "start_time": "2021-10-19T13:02:12.690Z"
   },
   {
    "duration": 22,
    "start_time": "2021-10-19T13:02:21.692Z"
   },
   {
    "duration": 7,
    "start_time": "2021-10-19T13:02:56.918Z"
   },
   {
    "duration": 23,
    "start_time": "2021-10-19T13:11:02.945Z"
   },
   {
    "duration": 4,
    "start_time": "2021-10-19T13:11:15.547Z"
   },
   {
    "duration": 377,
    "start_time": "2021-10-19T13:13:33.538Z"
   },
   {
    "duration": 1057,
    "start_time": "2021-10-19T13:13:45.562Z"
   },
   {
    "duration": 1059,
    "start_time": "2021-10-19T13:23:55.384Z"
   },
   {
    "duration": 1015,
    "start_time": "2021-10-19T13:24:32.039Z"
   },
   {
    "duration": 2007,
    "start_time": "2021-10-19T13:25:06.888Z"
   },
   {
    "duration": 1645,
    "start_time": "2021-10-19T13:25:48.368Z"
   },
   {
    "duration": 971,
    "start_time": "2021-10-19T13:25:56.018Z"
   },
   {
    "duration": 956,
    "start_time": "2021-10-19T13:26:36.432Z"
   },
   {
    "duration": 1825,
    "start_time": "2021-10-19T13:28:32.068Z"
   },
   {
    "duration": 408,
    "start_time": "2021-10-19T13:45:53.275Z"
   },
   {
    "duration": 271,
    "start_time": "2021-10-19T13:46:15.730Z"
   },
   {
    "duration": 276,
    "start_time": "2021-10-19T13:46:27.633Z"
   },
   {
    "duration": 255,
    "start_time": "2021-10-19T13:46:31.941Z"
   },
   {
    "duration": 1137,
    "start_time": "2021-10-19T13:46:48.887Z"
   },
   {
    "duration": 3,
    "start_time": "2021-10-19T13:46:50.026Z"
   },
   {
    "duration": 17,
    "start_time": "2021-10-19T13:46:50.031Z"
   },
   {
    "duration": 24,
    "start_time": "2021-10-19T13:46:50.050Z"
   },
   {
    "duration": 8,
    "start_time": "2021-10-19T13:46:50.076Z"
   },
   {
    "duration": 9,
    "start_time": "2021-10-19T13:46:50.086Z"
   },
   {
    "duration": 15,
    "start_time": "2021-10-19T13:46:50.096Z"
   },
   {
    "duration": 11,
    "start_time": "2021-10-19T13:46:50.113Z"
   },
   {
    "duration": 40,
    "start_time": "2021-10-19T13:46:50.125Z"
   },
   {
    "duration": 18,
    "start_time": "2021-10-19T13:46:50.167Z"
   },
   {
    "duration": 1236,
    "start_time": "2021-10-19T13:46:50.187Z"
   },
   {
    "duration": 6,
    "start_time": "2021-10-19T13:46:51.425Z"
   },
   {
    "duration": 31,
    "start_time": "2021-10-19T13:46:51.433Z"
   },
   {
    "duration": 2322,
    "start_time": "2021-10-19T13:46:51.466Z"
   },
   {
    "duration": 563,
    "start_time": "2021-10-19T13:46:53.789Z"
   },
   {
    "duration": 943,
    "start_time": "2021-10-19T13:46:54.354Z"
   },
   {
    "duration": 1783,
    "start_time": "2021-10-19T13:46:55.299Z"
   },
   {
    "duration": 262,
    "start_time": "2021-10-19T13:46:57.084Z"
   },
   {
    "duration": 331,
    "start_time": "2021-10-19T13:48:33.083Z"
   },
   {
    "duration": 257,
    "start_time": "2021-10-19T13:49:13.902Z"
   },
   {
    "duration": 9,
    "start_time": "2021-10-19T13:49:33.364Z"
   },
   {
    "duration": 14,
    "start_time": "2021-10-19T13:49:44.691Z"
   },
   {
    "duration": 11,
    "start_time": "2021-10-19T13:50:28.784Z"
   },
   {
    "duration": 358,
    "start_time": "2021-10-19T13:51:04.177Z"
   },
   {
    "duration": 7,
    "start_time": "2021-10-19T13:54:45.558Z"
   },
   {
    "duration": 8,
    "start_time": "2021-10-19T13:54:55.759Z"
   },
   {
    "duration": 9,
    "start_time": "2021-10-19T13:55:07.413Z"
   },
   {
    "duration": 274,
    "start_time": "2021-10-19T14:00:27.900Z"
   },
   {
    "duration": 4,
    "start_time": "2021-10-19T14:01:10.474Z"
   },
   {
    "duration": 5,
    "start_time": "2021-10-19T14:01:21.768Z"
   },
   {
    "duration": 7,
    "start_time": "2021-10-19T14:01:41.638Z"
   },
   {
    "duration": 7344,
    "start_time": "2021-10-19T14:02:29.571Z"
   },
   {
    "duration": 7,
    "start_time": "2021-10-19T14:02:47.185Z"
   },
   {
    "duration": 8100,
    "start_time": "2021-10-19T14:03:12.569Z"
   },
   {
    "duration": 6,
    "start_time": "2021-10-19T14:03:28.884Z"
   },
   {
    "duration": 5,
    "start_time": "2021-10-19T14:03:32.218Z"
   },
   {
    "duration": 5,
    "start_time": "2021-10-19T14:03:37.289Z"
   },
   {
    "duration": 5,
    "start_time": "2021-10-19T14:04:22.116Z"
   },
   {
    "duration": 6,
    "start_time": "2021-10-19T14:04:26.528Z"
   },
   {
    "duration": 8,
    "start_time": "2021-10-19T14:04:41.783Z"
   },
   {
    "duration": 4,
    "start_time": "2021-10-19T14:04:50.877Z"
   },
   {
    "duration": 7,
    "start_time": "2021-10-19T14:04:57.749Z"
   },
   {
    "duration": 4,
    "start_time": "2021-10-19T14:05:10.979Z"
   },
   {
    "duration": 5,
    "start_time": "2021-10-19T14:05:17.161Z"
   },
   {
    "duration": 8,
    "start_time": "2021-10-19T14:05:43.196Z"
   },
   {
    "duration": 6,
    "start_time": "2021-10-19T14:07:40.880Z"
   },
   {
    "duration": 10,
    "start_time": "2021-10-19T14:07:52.194Z"
   },
   {
    "duration": 8,
    "start_time": "2021-10-19T14:09:16.972Z"
   },
   {
    "duration": 261,
    "start_time": "2021-10-19T14:09:42.548Z"
   },
   {
    "duration": 280,
    "start_time": "2021-10-19T14:10:08.300Z"
   },
   {
    "duration": 254,
    "start_time": "2021-10-19T14:10:14.366Z"
   },
   {
    "duration": 251,
    "start_time": "2021-10-19T14:10:25.987Z"
   },
   {
    "duration": 298,
    "start_time": "2021-10-19T14:10:36.599Z"
   },
   {
    "duration": 250,
    "start_time": "2021-10-19T14:12:00.377Z"
   },
   {
    "duration": 4,
    "start_time": "2021-10-19T14:12:12.708Z"
   },
   {
    "duration": 1311,
    "start_time": "2021-10-19T14:12:28.933Z"
   },
   {
    "duration": 3,
    "start_time": "2021-10-19T14:12:30.246Z"
   },
   {
    "duration": 16,
    "start_time": "2021-10-19T14:12:30.253Z"
   },
   {
    "duration": 23,
    "start_time": "2021-10-19T14:12:30.271Z"
   },
   {
    "duration": 9,
    "start_time": "2021-10-19T14:12:30.296Z"
   },
   {
    "duration": 13,
    "start_time": "2021-10-19T14:12:30.306Z"
   },
   {
    "duration": 28,
    "start_time": "2021-10-19T14:12:30.321Z"
   },
   {
    "duration": 13,
    "start_time": "2021-10-19T14:12:30.366Z"
   },
   {
    "duration": 8,
    "start_time": "2021-10-19T14:12:30.381Z"
   },
   {
    "duration": 24,
    "start_time": "2021-10-19T14:12:30.391Z"
   },
   {
    "duration": 1380,
    "start_time": "2021-10-19T14:12:30.417Z"
   },
   {
    "duration": 5,
    "start_time": "2021-10-19T14:12:31.799Z"
   },
   {
    "duration": 20,
    "start_time": "2021-10-19T14:12:31.805Z"
   },
   {
    "duration": 2392,
    "start_time": "2021-10-19T14:12:31.827Z"
   },
   {
    "duration": 570,
    "start_time": "2021-10-19T14:12:34.221Z"
   },
   {
    "duration": 1041,
    "start_time": "2021-10-19T14:12:34.793Z"
   },
   {
    "duration": 1858,
    "start_time": "2021-10-19T14:12:35.837Z"
   },
   {
    "duration": 259,
    "start_time": "2021-10-19T14:12:37.697Z"
   },
   {
    "duration": 11,
    "start_time": "2021-10-19T14:12:37.958Z"
   },
   {
    "duration": 10,
    "start_time": "2021-10-19T14:12:37.970Z"
   },
   {
    "duration": 10,
    "start_time": "2021-10-19T14:14:05.573Z"
   },
   {
    "duration": 10,
    "start_time": "2021-10-19T14:14:33.502Z"
   },
   {
    "duration": 5,
    "start_time": "2021-10-19T14:15:22.897Z"
   },
   {
    "duration": 1318,
    "start_time": "2021-10-19T14:15:28.625Z"
   },
   {
    "duration": 4,
    "start_time": "2021-10-19T14:15:29.945Z"
   },
   {
    "duration": 13,
    "start_time": "2021-10-19T14:15:29.952Z"
   },
   {
    "duration": 32,
    "start_time": "2021-10-19T14:15:29.968Z"
   },
   {
    "duration": 11,
    "start_time": "2021-10-19T14:15:30.002Z"
   },
   {
    "duration": 11,
    "start_time": "2021-10-19T14:15:30.015Z"
   },
   {
    "duration": 53,
    "start_time": "2021-10-19T14:15:30.028Z"
   },
   {
    "duration": 17,
    "start_time": "2021-10-19T14:15:30.086Z"
   },
   {
    "duration": 10,
    "start_time": "2021-10-19T14:15:30.107Z"
   },
   {
    "duration": 19,
    "start_time": "2021-10-19T14:15:30.119Z"
   },
   {
    "duration": 1753,
    "start_time": "2021-10-19T14:15:30.166Z"
   },
   {
    "duration": 7,
    "start_time": "2021-10-19T14:15:31.922Z"
   },
   {
    "duration": 35,
    "start_time": "2021-10-19T14:15:31.932Z"
   },
   {
    "duration": 2638,
    "start_time": "2021-10-19T14:15:31.970Z"
   },
   {
    "duration": 622,
    "start_time": "2021-10-19T14:15:34.609Z"
   },
   {
    "duration": 1166,
    "start_time": "2021-10-19T14:15:35.233Z"
   },
   {
    "duration": 2252,
    "start_time": "2021-10-19T14:15:36.401Z"
   },
   {
    "duration": 300,
    "start_time": "2021-10-19T14:15:38.655Z"
   },
   {
    "duration": 14,
    "start_time": "2021-10-19T14:15:38.957Z"
   },
   {
    "duration": 4,
    "start_time": "2021-10-19T14:15:38.974Z"
   },
   {
    "duration": 14,
    "start_time": "2021-10-19T14:15:38.981Z"
   },
   {
    "duration": 331,
    "start_time": "2021-10-19T14:17:55.709Z"
   },
   {
    "duration": 10,
    "start_time": "2021-10-19T14:18:09.814Z"
   },
   {
    "duration": 1250,
    "start_time": "2021-10-19T14:27:19.303Z"
   },
   {
    "duration": 3,
    "start_time": "2021-10-19T14:27:20.555Z"
   },
   {
    "duration": 18,
    "start_time": "2021-10-19T14:27:20.560Z"
   },
   {
    "duration": 21,
    "start_time": "2021-10-19T14:27:20.581Z"
   },
   {
    "duration": 9,
    "start_time": "2021-10-19T14:27:20.604Z"
   },
   {
    "duration": 10,
    "start_time": "2021-10-19T14:27:20.615Z"
   },
   {
    "duration": 40,
    "start_time": "2021-10-19T14:27:20.627Z"
   },
   {
    "duration": 15,
    "start_time": "2021-10-19T14:27:20.671Z"
   },
   {
    "duration": 7,
    "start_time": "2021-10-19T14:27:20.688Z"
   },
   {
    "duration": 22,
    "start_time": "2021-10-19T14:27:20.696Z"
   },
   {
    "duration": 1482,
    "start_time": "2021-10-19T14:27:20.719Z"
   },
   {
    "duration": 6,
    "start_time": "2021-10-19T14:27:22.203Z"
   },
   {
    "duration": 19,
    "start_time": "2021-10-19T14:27:22.211Z"
   },
   {
    "duration": 2664,
    "start_time": "2021-10-19T14:27:22.232Z"
   },
   {
    "duration": 697,
    "start_time": "2021-10-19T14:27:24.898Z"
   },
   {
    "duration": 1089,
    "start_time": "2021-10-19T14:27:25.597Z"
   },
   {
    "duration": 2023,
    "start_time": "2021-10-19T14:27:26.688Z"
   },
   {
    "duration": 296,
    "start_time": "2021-10-19T14:27:28.713Z"
   },
   {
    "duration": 10,
    "start_time": "2021-10-19T14:27:29.011Z"
   },
   {
    "duration": 1423,
    "start_time": "2021-10-19T16:34:10.464Z"
   },
   {
    "duration": 6,
    "start_time": "2021-10-19T16:34:11.890Z"
   },
   {
    "duration": 15,
    "start_time": "2021-10-19T16:34:11.899Z"
   },
   {
    "duration": 56,
    "start_time": "2021-10-19T16:34:11.917Z"
   },
   {
    "duration": 12,
    "start_time": "2021-10-19T16:34:11.975Z"
   },
   {
    "duration": 12,
    "start_time": "2021-10-19T16:34:11.990Z"
   },
   {
    "duration": 22,
    "start_time": "2021-10-19T16:34:12.004Z"
   },
   {
    "duration": 39,
    "start_time": "2021-10-19T16:34:12.030Z"
   },
   {
    "duration": 9,
    "start_time": "2021-10-19T16:34:12.072Z"
   },
   {
    "duration": 25,
    "start_time": "2021-10-19T16:34:12.083Z"
   },
   {
    "duration": 2029,
    "start_time": "2021-10-19T16:34:12.110Z"
   },
   {
    "duration": 17,
    "start_time": "2021-10-19T16:34:14.141Z"
   },
   {
    "duration": 28,
    "start_time": "2021-10-19T16:34:14.161Z"
   },
   {
    "duration": 4205,
    "start_time": "2021-10-19T16:34:14.191Z"
   },
   {
    "duration": 1332,
    "start_time": "2021-10-19T16:34:18.400Z"
   },
   {
    "duration": 2347,
    "start_time": "2021-10-19T16:34:19.735Z"
   },
   {
    "duration": 2959,
    "start_time": "2021-10-19T16:34:22.084Z"
   },
   {
    "duration": 426,
    "start_time": "2021-10-19T16:34:25.046Z"
   },
   {
    "duration": 13,
    "start_time": "2021-10-19T16:34:25.475Z"
   },
   {
    "duration": 35,
    "start_time": "2021-10-19T16:41:37.708Z"
   },
   {
    "duration": 45,
    "start_time": "2021-10-19T16:41:48.716Z"
   },
   {
    "duration": 138,
    "start_time": "2021-10-19T16:42:19.232Z"
   },
   {
    "duration": 1518,
    "start_time": "2021-10-19T16:56:40.314Z"
   },
   {
    "duration": 4,
    "start_time": "2021-10-19T16:56:41.835Z"
   },
   {
    "duration": 21,
    "start_time": "2021-10-19T16:56:41.841Z"
   },
   {
    "duration": 34,
    "start_time": "2021-10-19T16:56:41.865Z"
   },
   {
    "duration": 14,
    "start_time": "2021-10-19T16:56:41.902Z"
   },
   {
    "duration": 55,
    "start_time": "2021-10-19T16:56:41.919Z"
   },
   {
    "duration": 24,
    "start_time": "2021-10-19T16:56:41.977Z"
   },
   {
    "duration": 14,
    "start_time": "2021-10-19T16:56:42.003Z"
   },
   {
    "duration": 44,
    "start_time": "2021-10-19T16:56:42.021Z"
   },
   {
    "duration": 29,
    "start_time": "2021-10-19T16:56:42.069Z"
   },
   {
    "duration": 2538,
    "start_time": "2021-10-19T16:56:42.101Z"
   },
   {
    "duration": 6,
    "start_time": "2021-10-19T16:56:44.642Z"
   },
   {
    "duration": 32,
    "start_time": "2021-10-19T16:56:44.650Z"
   },
   {
    "duration": 3967,
    "start_time": "2021-10-19T16:56:44.684Z"
   },
   {
    "duration": 965,
    "start_time": "2021-10-19T16:56:48.653Z"
   },
   {
    "duration": 1752,
    "start_time": "2021-10-19T16:56:49.622Z"
   },
   {
    "duration": 3043,
    "start_time": "2021-10-19T16:56:51.377Z"
   },
   {
    "duration": 439,
    "start_time": "2021-10-19T16:56:54.422Z"
   },
   {
    "duration": 13,
    "start_time": "2021-10-19T16:56:54.864Z"
   },
   {
    "duration": 43,
    "start_time": "2021-10-19T16:56:54.880Z"
   },
   {
    "duration": 43,
    "start_time": "2021-10-19T17:05:26.054Z"
   },
   {
    "duration": 1442,
    "start_time": "2021-10-19T17:05:39.150Z"
   },
   {
    "duration": 4,
    "start_time": "2021-10-19T17:05:40.594Z"
   },
   {
    "duration": 18,
    "start_time": "2021-10-19T17:05:40.601Z"
   },
   {
    "duration": 50,
    "start_time": "2021-10-19T17:05:40.622Z"
   },
   {
    "duration": 11,
    "start_time": "2021-10-19T17:05:40.674Z"
   },
   {
    "duration": 19,
    "start_time": "2021-10-19T17:05:40.687Z"
   },
   {
    "duration": 26,
    "start_time": "2021-10-19T17:05:40.708Z"
   },
   {
    "duration": 29,
    "start_time": "2021-10-19T17:05:40.737Z"
   },
   {
    "duration": 9,
    "start_time": "2021-10-19T17:05:40.769Z"
   },
   {
    "duration": 32,
    "start_time": "2021-10-19T17:05:40.780Z"
   },
   {
    "duration": 2007,
    "start_time": "2021-10-19T17:05:40.815Z"
   },
   {
    "duration": 6,
    "start_time": "2021-10-19T17:05:42.824Z"
   },
   {
    "duration": 39,
    "start_time": "2021-10-19T17:05:42.832Z"
   },
   {
    "duration": 3734,
    "start_time": "2021-10-19T17:05:42.874Z"
   },
   {
    "duration": 890,
    "start_time": "2021-10-19T17:05:46.611Z"
   },
   {
    "duration": 1446,
    "start_time": "2021-10-19T17:05:47.503Z"
   },
   {
    "duration": 2747,
    "start_time": "2021-10-19T17:05:48.952Z"
   },
   {
    "duration": 412,
    "start_time": "2021-10-19T17:05:51.702Z"
   },
   {
    "duration": 10,
    "start_time": "2021-10-19T17:05:52.116Z"
   },
   {
    "duration": 58,
    "start_time": "2021-10-19T17:05:52.128Z"
   },
   {
    "duration": 194,
    "start_time": "2021-10-19T17:08:08.395Z"
   },
   {
    "duration": 101,
    "start_time": "2021-10-19T17:08:49.634Z"
   },
   {
    "duration": 8,
    "start_time": "2021-10-19T17:50:21.864Z"
   },
   {
    "duration": 11,
    "start_time": "2021-10-19T17:50:25.259Z"
   },
   {
    "duration": 8,
    "start_time": "2021-10-19T17:50:35.889Z"
   },
   {
    "duration": 13,
    "start_time": "2021-10-19T17:51:02.069Z"
   },
   {
    "duration": 15,
    "start_time": "2021-10-19T17:51:23.940Z"
   },
   {
    "duration": 38,
    "start_time": "2021-10-19T17:51:37.489Z"
   },
   {
    "duration": 9,
    "start_time": "2021-10-19T17:51:46.797Z"
   },
   {
    "duration": 640,
    "start_time": "2021-10-19T17:55:19.182Z"
   },
   {
    "duration": 5,
    "start_time": "2021-10-19T17:55:30.457Z"
   },
   {
    "duration": 12,
    "start_time": "2021-10-19T17:58:21.681Z"
   },
   {
    "duration": 355,
    "start_time": "2021-10-19T17:58:36.043Z"
   },
   {
    "duration": 14,
    "start_time": "2021-10-19T17:58:45.221Z"
   },
   {
    "duration": 13,
    "start_time": "2021-10-19T17:58:54.628Z"
   },
   {
    "duration": 7,
    "start_time": "2021-10-19T17:59:42.622Z"
   },
   {
    "duration": 368,
    "start_time": "2021-10-19T18:04:50.676Z"
   },
   {
    "duration": 313,
    "start_time": "2021-10-19T18:05:26.218Z"
   },
   {
    "duration": 382,
    "start_time": "2021-10-19T18:05:54.773Z"
   },
   {
    "duration": 315,
    "start_time": "2021-10-19T18:05:58.567Z"
   },
   {
    "duration": 633,
    "start_time": "2021-10-19T18:06:54.332Z"
   },
   {
    "duration": 365,
    "start_time": "2021-10-19T18:07:20.007Z"
   },
   {
    "duration": 513,
    "start_time": "2021-10-19T18:07:47.247Z"
   },
   {
    "duration": 535,
    "start_time": "2021-10-19T18:07:57.961Z"
   },
   {
    "duration": 419,
    "start_time": "2021-10-19T18:08:05.578Z"
   },
   {
    "duration": 369,
    "start_time": "2021-10-19T18:08:12.101Z"
   },
   {
    "duration": 526,
    "start_time": "2021-10-19T18:08:21.231Z"
   },
   {
    "duration": 464,
    "start_time": "2021-10-19T18:09:56.355Z"
   },
   {
    "duration": 502,
    "start_time": "2021-10-19T18:10:09.773Z"
   },
   {
    "duration": 474,
    "start_time": "2021-10-19T18:10:19.977Z"
   },
   {
    "duration": 465,
    "start_time": "2021-10-19T18:10:28.897Z"
   },
   {
    "duration": 516,
    "start_time": "2021-10-19T18:18:21.766Z"
   },
   {
    "duration": 6,
    "start_time": "2021-10-19T18:19:23.357Z"
   },
   {
    "duration": 481,
    "start_time": "2021-10-19T18:36:03.607Z"
   },
   {
    "duration": 6,
    "start_time": "2021-10-19T18:36:11.258Z"
   },
   {
    "duration": 468,
    "start_time": "2021-10-19T18:36:24.452Z"
   },
   {
    "duration": 6,
    "start_time": "2021-10-19T18:36:31.006Z"
   },
   {
    "duration": 1522,
    "start_time": "2021-10-19T18:36:48.065Z"
   },
   {
    "duration": 3,
    "start_time": "2021-10-19T18:36:49.590Z"
   },
   {
    "duration": 19,
    "start_time": "2021-10-19T18:36:49.596Z"
   },
   {
    "duration": 48,
    "start_time": "2021-10-19T18:36:49.617Z"
   },
   {
    "duration": 12,
    "start_time": "2021-10-19T18:36:49.667Z"
   },
   {
    "duration": 12,
    "start_time": "2021-10-19T18:36:49.681Z"
   },
   {
    "duration": 21,
    "start_time": "2021-10-19T18:36:49.696Z"
   },
   {
    "duration": 42,
    "start_time": "2021-10-19T18:36:49.720Z"
   },
   {
    "duration": 10,
    "start_time": "2021-10-19T18:36:49.766Z"
   },
   {
    "duration": 25,
    "start_time": "2021-10-19T18:36:49.778Z"
   },
   {
    "duration": 2009,
    "start_time": "2021-10-19T18:36:49.805Z"
   },
   {
    "duration": 6,
    "start_time": "2021-10-19T18:36:51.816Z"
   },
   {
    "duration": 37,
    "start_time": "2021-10-19T18:36:51.825Z"
   },
   {
    "duration": 3650,
    "start_time": "2021-10-19T18:36:51.864Z"
   },
   {
    "duration": 912,
    "start_time": "2021-10-19T18:36:55.517Z"
   },
   {
    "duration": 1564,
    "start_time": "2021-10-19T18:36:56.432Z"
   },
   {
    "duration": 2918,
    "start_time": "2021-10-19T18:36:57.998Z"
   },
   {
    "duration": 433,
    "start_time": "2021-10-19T18:37:00.918Z"
   },
   {
    "duration": 12,
    "start_time": "2021-10-19T18:37:01.354Z"
   },
   {
    "duration": 233,
    "start_time": "2021-10-19T18:37:01.369Z"
   },
   {
    "duration": 514,
    "start_time": "2021-10-19T18:37:01.605Z"
   },
   {
    "duration": 6,
    "start_time": "2021-10-19T18:37:02.122Z"
   },
   {
    "duration": 485,
    "start_time": "2021-10-19T18:37:02.132Z"
   },
   {
    "duration": 6,
    "start_time": "2021-10-19T18:37:02.620Z"
   },
   {
    "duration": 1438,
    "start_time": "2021-10-19T22:58:52.311Z"
   },
   {
    "duration": 4,
    "start_time": "2021-10-19T22:58:53.752Z"
   },
   {
    "duration": 14,
    "start_time": "2021-10-19T22:58:53.760Z"
   },
   {
    "duration": 29,
    "start_time": "2021-10-19T22:58:53.801Z"
   },
   {
    "duration": 11,
    "start_time": "2021-10-19T22:58:53.833Z"
   },
   {
    "duration": 12,
    "start_time": "2021-10-19T22:58:53.847Z"
   },
   {
    "duration": 52,
    "start_time": "2021-10-19T22:58:53.861Z"
   },
   {
    "duration": 13,
    "start_time": "2021-10-19T22:58:53.915Z"
   },
   {
    "duration": 9,
    "start_time": "2021-10-19T22:58:53.933Z"
   },
   {
    "duration": 58,
    "start_time": "2021-10-19T22:58:53.945Z"
   },
   {
    "duration": 2164,
    "start_time": "2021-10-19T22:58:54.006Z"
   },
   {
    "duration": 6,
    "start_time": "2021-10-19T22:58:56.172Z"
   },
   {
    "duration": 33,
    "start_time": "2021-10-19T22:58:56.180Z"
   },
   {
    "duration": 3901,
    "start_time": "2021-10-19T22:58:56.215Z"
   },
   {
    "duration": 966,
    "start_time": "2021-10-19T22:59:00.119Z"
   },
   {
    "duration": 1543,
    "start_time": "2021-10-19T22:59:01.087Z"
   },
   {
    "duration": 2808,
    "start_time": "2021-10-19T22:59:02.632Z"
   },
   {
    "duration": 431,
    "start_time": "2021-10-19T22:59:05.442Z"
   },
   {
    "duration": 10,
    "start_time": "2021-10-19T22:59:05.876Z"
   },
   {
    "duration": 214,
    "start_time": "2021-10-19T22:59:05.900Z"
   },
   {
    "duration": 536,
    "start_time": "2021-10-19T22:59:06.117Z"
   },
   {
    "duration": 5,
    "start_time": "2021-10-19T22:59:06.656Z"
   },
   {
    "duration": 487,
    "start_time": "2021-10-19T22:59:06.664Z"
   },
   {
    "duration": 6,
    "start_time": "2021-10-19T22:59:07.154Z"
   },
   {
    "duration": 1409,
    "start_time": "2021-10-20T09:21:54.869Z"
   },
   {
    "duration": 4,
    "start_time": "2021-10-20T09:21:56.281Z"
   },
   {
    "duration": 14,
    "start_time": "2021-10-20T09:21:56.288Z"
   },
   {
    "duration": 30,
    "start_time": "2021-10-20T09:21:56.321Z"
   },
   {
    "duration": 11,
    "start_time": "2021-10-20T09:21:56.353Z"
   },
   {
    "duration": 18,
    "start_time": "2021-10-20T09:21:56.367Z"
   },
   {
    "duration": 46,
    "start_time": "2021-10-20T09:21:56.387Z"
   },
   {
    "duration": 15,
    "start_time": "2021-10-20T09:21:56.435Z"
   },
   {
    "duration": 13,
    "start_time": "2021-10-20T09:21:56.455Z"
   },
   {
    "duration": 57,
    "start_time": "2021-10-20T09:21:56.471Z"
   },
   {
    "duration": 2105,
    "start_time": "2021-10-20T09:21:56.530Z"
   },
   {
    "duration": 6,
    "start_time": "2021-10-20T09:21:58.638Z"
   },
   {
    "duration": 25,
    "start_time": "2021-10-20T09:21:58.646Z"
   },
   {
    "duration": 3892,
    "start_time": "2021-10-20T09:21:58.673Z"
   },
   {
    "duration": 915,
    "start_time": "2021-10-20T09:22:02.567Z"
   },
   {
    "duration": 1546,
    "start_time": "2021-10-20T09:22:03.484Z"
   },
   {
    "duration": 3958,
    "start_time": "2021-10-20T09:22:05.033Z"
   },
   {
    "duration": 645,
    "start_time": "2021-10-20T09:22:08.994Z"
   },
   {
    "duration": 14,
    "start_time": "2021-10-20T09:22:09.642Z"
   },
   {
    "duration": 299,
    "start_time": "2021-10-20T09:22:09.659Z"
   },
   {
    "duration": 692,
    "start_time": "2021-10-20T09:22:09.961Z"
   },
   {
    "duration": 6,
    "start_time": "2021-10-20T09:22:10.655Z"
   },
   {
    "duration": 518,
    "start_time": "2021-10-20T09:22:10.664Z"
   },
   {
    "duration": 7,
    "start_time": "2021-10-20T09:22:11.185Z"
   },
   {
    "duration": 4,
    "start_time": "2021-10-20T09:28:58.989Z"
   },
   {
    "duration": 1372,
    "start_time": "2021-10-20T09:30:57.476Z"
   },
   {
    "duration": 4,
    "start_time": "2021-10-20T09:30:58.851Z"
   },
   {
    "duration": 18,
    "start_time": "2021-10-20T09:30:58.858Z"
   },
   {
    "duration": 10,
    "start_time": "2021-10-20T09:30:58.879Z"
   },
   {
    "duration": 54,
    "start_time": "2021-10-20T09:30:58.891Z"
   },
   {
    "duration": 13,
    "start_time": "2021-10-20T09:30:58.947Z"
   },
   {
    "duration": 13,
    "start_time": "2021-10-20T09:30:58.963Z"
   },
   {
    "duration": 53,
    "start_time": "2021-10-20T09:30:58.980Z"
   },
   {
    "duration": 14,
    "start_time": "2021-10-20T09:30:59.036Z"
   },
   {
    "duration": 9,
    "start_time": "2021-10-20T09:30:59.052Z"
   },
   {
    "duration": 60,
    "start_time": "2021-10-20T09:30:59.063Z"
   },
   {
    "duration": 2000,
    "start_time": "2021-10-20T09:30:59.125Z"
   },
   {
    "duration": 6,
    "start_time": "2021-10-20T09:31:01.128Z"
   },
   {
    "duration": 28,
    "start_time": "2021-10-20T09:31:01.137Z"
   },
   {
    "duration": 3829,
    "start_time": "2021-10-20T09:31:01.167Z"
   },
   {
    "duration": 884,
    "start_time": "2021-10-20T09:31:04.999Z"
   },
   {
    "duration": 1446,
    "start_time": "2021-10-20T09:31:05.886Z"
   },
   {
    "duration": 2735,
    "start_time": "2021-10-20T09:31:07.334Z"
   },
   {
    "duration": 420,
    "start_time": "2021-10-20T09:31:10.072Z"
   },
   {
    "duration": 29,
    "start_time": "2021-10-20T09:31:10.495Z"
   },
   {
    "duration": 225,
    "start_time": "2021-10-20T09:31:10.527Z"
   },
   {
    "duration": 564,
    "start_time": "2021-10-20T09:31:10.754Z"
   },
   {
    "duration": 6,
    "start_time": "2021-10-20T09:31:11.323Z"
   },
   {
    "duration": 482,
    "start_time": "2021-10-20T09:31:11.331Z"
   },
   {
    "duration": 7,
    "start_time": "2021-10-20T09:31:11.823Z"
   },
   {
    "duration": 1584,
    "start_time": "2021-10-20T10:13:38.882Z"
   },
   {
    "duration": 4,
    "start_time": "2021-10-20T10:13:40.469Z"
   },
   {
    "duration": 15,
    "start_time": "2021-10-20T10:13:40.476Z"
   },
   {
    "duration": 50,
    "start_time": "2021-10-20T10:13:40.494Z"
   },
   {
    "duration": 12,
    "start_time": "2021-10-20T10:13:40.547Z"
   },
   {
    "duration": 13,
    "start_time": "2021-10-20T10:13:40.561Z"
   },
   {
    "duration": 51,
    "start_time": "2021-10-20T10:13:40.576Z"
   },
   {
    "duration": 14,
    "start_time": "2021-10-20T10:13:40.631Z"
   },
   {
    "duration": 9,
    "start_time": "2021-10-20T10:13:40.648Z"
   },
   {
    "duration": 68,
    "start_time": "2021-10-20T10:13:40.660Z"
   },
   {
    "duration": 2833,
    "start_time": "2021-10-20T10:13:40.731Z"
   },
   {
    "duration": 8,
    "start_time": "2021-10-20T10:13:43.567Z"
   },
   {
    "duration": 46,
    "start_time": "2021-10-20T10:13:43.578Z"
   },
   {
    "duration": 5172,
    "start_time": "2021-10-20T10:13:43.627Z"
   },
   {
    "duration": 1268,
    "start_time": "2021-10-20T10:13:48.802Z"
   },
   {
    "duration": 2094,
    "start_time": "2021-10-20T10:13:50.073Z"
   },
   {
    "duration": 4048,
    "start_time": "2021-10-20T10:13:52.170Z"
   },
   {
    "duration": 583,
    "start_time": "2021-10-20T10:13:56.223Z"
   },
   {
    "duration": 22,
    "start_time": "2021-10-20T10:13:56.809Z"
   },
   {
    "duration": 222,
    "start_time": "2021-10-20T10:13:56.833Z"
   },
   {
    "duration": 515,
    "start_time": "2021-10-20T10:13:57.058Z"
   },
   {
    "duration": 6,
    "start_time": "2021-10-20T10:13:57.576Z"
   },
   {
    "duration": 495,
    "start_time": "2021-10-20T10:13:57.586Z"
   },
   {
    "duration": 7,
    "start_time": "2021-10-20T10:13:58.083Z"
   },
   {
    "duration": 1459,
    "start_time": "2021-10-20T11:34:58.248Z"
   },
   {
    "duration": 4,
    "start_time": "2021-10-20T11:34:59.709Z"
   },
   {
    "duration": 15,
    "start_time": "2021-10-20T11:34:59.717Z"
   },
   {
    "duration": 29,
    "start_time": "2021-10-20T11:34:59.735Z"
   },
   {
    "duration": 37,
    "start_time": "2021-10-20T11:34:59.766Z"
   },
   {
    "duration": 12,
    "start_time": "2021-10-20T11:34:59.806Z"
   },
   {
    "duration": 23,
    "start_time": "2021-10-20T11:34:59.821Z"
   },
   {
    "duration": 14,
    "start_time": "2021-10-20T11:34:59.846Z"
   },
   {
    "duration": 43,
    "start_time": "2021-10-20T11:34:59.864Z"
   },
   {
    "duration": 25,
    "start_time": "2021-10-20T11:34:59.910Z"
   },
   {
    "duration": 2185,
    "start_time": "2021-10-20T11:34:59.937Z"
   },
   {
    "duration": 7,
    "start_time": "2021-10-20T11:35:02.125Z"
   },
   {
    "duration": 71,
    "start_time": "2021-10-20T11:35:02.134Z"
   },
   {
    "duration": 3809,
    "start_time": "2021-10-20T11:35:02.208Z"
   },
   {
    "duration": 932,
    "start_time": "2021-10-20T11:35:06.019Z"
   },
   {
    "duration": 1492,
    "start_time": "2021-10-20T11:35:06.954Z"
   },
   {
    "duration": 2797,
    "start_time": "2021-10-20T11:35:08.448Z"
   },
   {
    "duration": 439,
    "start_time": "2021-10-20T11:35:11.248Z"
   },
   {
    "duration": 21,
    "start_time": "2021-10-20T11:35:11.691Z"
   },
   {
    "duration": 228,
    "start_time": "2021-10-20T11:35:11.715Z"
   },
   {
    "duration": 548,
    "start_time": "2021-10-20T11:35:11.945Z"
   },
   {
    "duration": 6,
    "start_time": "2021-10-20T11:35:12.500Z"
   },
   {
    "duration": 494,
    "start_time": "2021-10-20T11:35:12.508Z"
   },
   {
    "duration": 7,
    "start_time": "2021-10-20T11:35:13.005Z"
   },
   {
    "duration": 14,
    "start_time": "2021-10-20T11:38:57.190Z"
   },
   {
    "duration": 533,
    "start_time": "2021-10-20T11:40:06.917Z"
   },
   {
    "duration": 18,
    "start_time": "2021-10-20T11:40:15.668Z"
   },
   {
    "duration": 680,
    "start_time": "2021-10-20T11:41:50.550Z"
   },
   {
    "duration": 25,
    "start_time": "2021-10-20T13:12:20.268Z"
   },
   {
    "duration": 2481,
    "start_time": "2021-10-20T13:18:17.830Z"
   },
   {
    "duration": 4,
    "start_time": "2021-10-20T13:18:20.314Z"
   },
   {
    "duration": 16,
    "start_time": "2021-10-20T13:18:20.321Z"
   },
   {
    "duration": 30,
    "start_time": "2021-10-20T13:18:20.339Z"
   },
   {
    "duration": 38,
    "start_time": "2021-10-20T13:18:20.371Z"
   },
   {
    "duration": 17,
    "start_time": "2021-10-20T13:18:20.412Z"
   },
   {
    "duration": 22,
    "start_time": "2021-10-20T13:18:20.432Z"
   },
   {
    "duration": 44,
    "start_time": "2021-10-20T13:18:20.458Z"
   },
   {
    "duration": 11,
    "start_time": "2021-10-20T13:18:20.505Z"
   },
   {
    "duration": 800,
    "start_time": "2021-10-20T13:18:20.519Z"
   },
   {
    "duration": 24,
    "start_time": "2021-10-20T13:18:21.322Z"
   },
   {
    "duration": 2284,
    "start_time": "2021-10-20T13:18:21.348Z"
   },
   {
    "duration": 8,
    "start_time": "2021-10-20T13:18:23.635Z"
   },
   {
    "duration": 54,
    "start_time": "2021-10-20T13:18:23.646Z"
   },
   {
    "duration": 3379,
    "start_time": "2021-10-20T13:18:23.703Z"
   },
   {
    "duration": 948,
    "start_time": "2021-10-20T13:18:27.085Z"
   },
   {
    "duration": 1501,
    "start_time": "2021-10-20T13:18:28.036Z"
   },
   {
    "duration": 2765,
    "start_time": "2021-10-20T13:18:29.539Z"
   },
   {
    "duration": 443,
    "start_time": "2021-10-20T13:18:32.307Z"
   },
   {
    "duration": 10,
    "start_time": "2021-10-20T13:18:32.753Z"
   },
   {
    "duration": 271,
    "start_time": "2021-10-20T13:18:32.765Z"
   },
   {
    "duration": 512,
    "start_time": "2021-10-20T13:18:33.039Z"
   },
   {
    "duration": 5,
    "start_time": "2021-10-20T13:18:33.556Z"
   },
   {
    "duration": 482,
    "start_time": "2021-10-20T13:18:33.564Z"
   },
   {
    "duration": 6,
    "start_time": "2021-10-20T13:18:34.048Z"
   },
   {
    "duration": 1007,
    "start_time": "2021-10-20T13:28:08.737Z"
   },
   {
    "duration": 1164,
    "start_time": "2021-10-20T13:28:27.282Z"
   },
   {
    "duration": 960,
    "start_time": "2021-10-20T13:29:36.643Z"
   },
   {
    "duration": 1194,
    "start_time": "2021-10-20T13:33:09.632Z"
   },
   {
    "duration": 1504,
    "start_time": "2021-10-20T13:34:41.890Z"
   },
   {
    "duration": 2792,
    "start_time": "2021-10-20T13:35:41.997Z"
   },
   {
    "duration": 219,
    "start_time": "2021-10-20T13:36:46.811Z"
   },
   {
    "duration": 1481,
    "start_time": "2021-10-20T13:45:17.763Z"
   },
   {
    "duration": 5,
    "start_time": "2021-10-20T13:45:19.248Z"
   },
   {
    "duration": 22,
    "start_time": "2021-10-20T13:45:19.257Z"
   },
   {
    "duration": 49,
    "start_time": "2021-10-20T13:45:19.282Z"
   },
   {
    "duration": 15,
    "start_time": "2021-10-20T13:45:19.334Z"
   },
   {
    "duration": 18,
    "start_time": "2021-10-20T13:45:19.352Z"
   },
   {
    "duration": 26,
    "start_time": "2021-10-20T13:45:19.399Z"
   },
   {
    "duration": 15,
    "start_time": "2021-10-20T13:45:19.431Z"
   },
   {
    "duration": 10,
    "start_time": "2021-10-20T13:45:19.451Z"
   },
   {
    "duration": 690,
    "start_time": "2021-10-20T13:45:19.463Z"
   },
   {
    "duration": 25,
    "start_time": "2021-10-20T13:45:20.156Z"
   },
   {
    "duration": 2076,
    "start_time": "2021-10-20T13:45:20.183Z"
   },
   {
    "duration": 6,
    "start_time": "2021-10-20T13:45:22.262Z"
   },
   {
    "duration": 39,
    "start_time": "2021-10-20T13:45:22.271Z"
   },
   {
    "duration": 3335,
    "start_time": "2021-10-20T13:45:22.312Z"
   },
   {
    "duration": 936,
    "start_time": "2021-10-20T13:45:25.650Z"
   },
   {
    "duration": 1641,
    "start_time": "2021-10-20T13:45:26.588Z"
   },
   {
    "duration": 2748,
    "start_time": "2021-10-20T13:45:28.232Z"
   },
   {
    "duration": 473,
    "start_time": "2021-10-20T13:45:30.983Z"
   },
   {
    "duration": 11,
    "start_time": "2021-10-20T13:45:31.458Z"
   },
   {
    "duration": 257,
    "start_time": "2021-10-20T13:45:31.471Z"
   },
   {
    "duration": 522,
    "start_time": "2021-10-20T13:45:31.731Z"
   },
   {
    "duration": 6,
    "start_time": "2021-10-20T13:45:32.258Z"
   },
   {
    "duration": 493,
    "start_time": "2021-10-20T13:45:32.267Z"
   },
   {
    "duration": 6,
    "start_time": "2021-10-20T13:45:32.763Z"
   },
   {
    "duration": 1696,
    "start_time": "2021-10-20T14:49:02.931Z"
   },
   {
    "duration": 4,
    "start_time": "2021-10-20T14:49:04.630Z"
   },
   {
    "duration": 19,
    "start_time": "2021-10-20T14:49:04.637Z"
   },
   {
    "duration": 60,
    "start_time": "2021-10-20T14:49:04.659Z"
   },
   {
    "duration": 11,
    "start_time": "2021-10-20T14:49:04.721Z"
   },
   {
    "duration": 11,
    "start_time": "2021-10-20T14:49:04.735Z"
   },
   {
    "duration": 62,
    "start_time": "2021-10-20T14:49:04.748Z"
   },
   {
    "duration": 14,
    "start_time": "2021-10-20T14:49:04.813Z"
   },
   {
    "duration": 9,
    "start_time": "2021-10-20T14:49:04.830Z"
   },
   {
    "duration": 680,
    "start_time": "2021-10-20T14:49:04.841Z"
   },
   {
    "duration": 27,
    "start_time": "2021-10-20T14:49:05.524Z"
   },
   {
    "duration": 2172,
    "start_time": "2021-10-20T14:49:05.553Z"
   },
   {
    "duration": 7,
    "start_time": "2021-10-20T14:49:07.728Z"
   },
   {
    "duration": 22,
    "start_time": "2021-10-20T14:49:07.740Z"
   },
   {
    "duration": 3562,
    "start_time": "2021-10-20T14:49:07.765Z"
   },
   {
    "duration": 974,
    "start_time": "2021-10-20T14:49:11.330Z"
   },
   {
    "duration": 1704,
    "start_time": "2021-10-20T14:49:12.306Z"
   },
   {
    "duration": 2885,
    "start_time": "2021-10-20T14:49:14.013Z"
   },
   {
    "duration": 441,
    "start_time": "2021-10-20T14:49:16.901Z"
   },
   {
    "duration": 11,
    "start_time": "2021-10-20T14:49:17.345Z"
   },
   {
    "duration": 256,
    "start_time": "2021-10-20T14:49:17.359Z"
   },
   {
    "duration": 790,
    "start_time": "2021-10-20T14:49:17.619Z"
   },
   {
    "duration": 7,
    "start_time": "2021-10-20T14:49:18.414Z"
   },
   {
    "duration": 640,
    "start_time": "2021-10-20T14:49:18.424Z"
   },
   {
    "duration": 10,
    "start_time": "2021-10-20T14:49:19.068Z"
   },
   {
    "duration": 11,
    "start_time": "2021-10-20T15:02:34.079Z"
   },
   {
    "duration": 1534,
    "start_time": "2021-10-20T15:02:58.604Z"
   },
   {
    "duration": 5,
    "start_time": "2021-10-20T15:03:00.142Z"
   },
   {
    "duration": 19,
    "start_time": "2021-10-20T15:03:00.150Z"
   },
   {
    "duration": 52,
    "start_time": "2021-10-20T15:03:00.172Z"
   },
   {
    "duration": 13,
    "start_time": "2021-10-20T15:03:00.227Z"
   },
   {
    "duration": 32,
    "start_time": "2021-10-20T15:03:00.243Z"
   },
   {
    "duration": 32,
    "start_time": "2021-10-20T15:03:00.278Z"
   },
   {
    "duration": 14,
    "start_time": "2021-10-20T15:03:00.313Z"
   },
   {
    "duration": 11,
    "start_time": "2021-10-20T15:03:00.331Z"
   },
   {
    "duration": 671,
    "start_time": "2021-10-20T15:03:00.345Z"
   },
   {
    "duration": 27,
    "start_time": "2021-10-20T15:03:01.019Z"
   },
   {
    "duration": 2162,
    "start_time": "2021-10-20T15:03:01.048Z"
   },
   {
    "duration": 6,
    "start_time": "2021-10-20T15:03:03.212Z"
   },
   {
    "duration": 29,
    "start_time": "2021-10-20T15:03:03.220Z"
   },
   {
    "duration": 3374,
    "start_time": "2021-10-20T15:03:03.251Z"
   },
   {
    "duration": 1117,
    "start_time": "2021-10-20T15:03:06.628Z"
   },
   {
    "duration": 1477,
    "start_time": "2021-10-20T15:03:07.748Z"
   },
   {
    "duration": 2761,
    "start_time": "2021-10-20T15:03:09.227Z"
   },
   {
    "duration": 446,
    "start_time": "2021-10-20T15:03:11.991Z"
   },
   {
    "duration": 11,
    "start_time": "2021-10-20T15:03:12.439Z"
   },
   {
    "duration": 13,
    "start_time": "2021-10-20T15:03:12.453Z"
   },
   {
    "duration": 266,
    "start_time": "2021-10-20T15:03:12.468Z"
   },
   {
    "duration": 509,
    "start_time": "2021-10-20T15:03:12.737Z"
   },
   {
    "duration": 6,
    "start_time": "2021-10-20T15:03:13.248Z"
   },
   {
    "duration": 471,
    "start_time": "2021-10-20T15:03:13.256Z"
   },
   {
    "duration": 6,
    "start_time": "2021-10-20T15:03:13.730Z"
   },
   {
    "duration": 33,
    "start_time": "2021-10-20T15:05:49.786Z"
   },
   {
    "duration": 319,
    "start_time": "2021-10-20T19:52:46.422Z"
   },
   {
    "duration": 1320,
    "start_time": "2021-10-20T19:53:40.713Z"
   },
   {
    "duration": 4,
    "start_time": "2021-10-20T19:53:42.036Z"
   },
   {
    "duration": 21,
    "start_time": "2021-10-20T19:53:42.043Z"
   },
   {
    "duration": 41,
    "start_time": "2021-10-20T19:53:42.066Z"
   },
   {
    "duration": 12,
    "start_time": "2021-10-20T19:53:42.109Z"
   },
   {
    "duration": 11,
    "start_time": "2021-10-20T19:53:42.123Z"
   },
   {
    "duration": 53,
    "start_time": "2021-10-20T19:53:42.136Z"
   },
   {
    "duration": 13,
    "start_time": "2021-10-20T19:53:42.193Z"
   },
   {
    "duration": 9,
    "start_time": "2021-10-20T19:53:42.209Z"
   },
   {
    "duration": 634,
    "start_time": "2021-10-20T19:53:42.220Z"
   },
   {
    "duration": 41,
    "start_time": "2021-10-20T19:53:42.857Z"
   },
   {
    "duration": 1903,
    "start_time": "2021-10-20T19:53:42.901Z"
   },
   {
    "duration": 8,
    "start_time": "2021-10-20T19:53:44.807Z"
   },
   {
    "duration": 21,
    "start_time": "2021-10-20T19:53:44.818Z"
   },
   {
    "duration": 3116,
    "start_time": "2021-10-20T19:53:44.842Z"
   },
   {
    "duration": 900,
    "start_time": "2021-10-20T19:53:47.961Z"
   },
   {
    "duration": 1459,
    "start_time": "2021-10-20T19:53:48.864Z"
   },
   {
    "duration": 2632,
    "start_time": "2021-10-20T19:53:50.326Z"
   },
   {
    "duration": 403,
    "start_time": "2021-10-20T19:53:52.960Z"
   },
   {
    "duration": 19,
    "start_time": "2021-10-20T19:53:53.366Z"
   },
   {
    "duration": 34,
    "start_time": "2021-10-20T19:53:53.388Z"
   },
   {
    "duration": 211,
    "start_time": "2021-10-20T19:53:53.425Z"
   },
   {
    "duration": 479,
    "start_time": "2021-10-20T19:53:53.641Z"
   },
   {
    "duration": 7,
    "start_time": "2021-10-20T19:53:54.122Z"
   },
   {
    "duration": 438,
    "start_time": "2021-10-20T19:53:54.131Z"
   },
   {
    "duration": 15,
    "start_time": "2021-10-20T19:53:54.571Z"
   }
  ],
  "kernelspec": {
   "display_name": "Python 3",
   "language": "python",
   "name": "python3"
  },
  "language_info": {
   "codemirror_mode": {
    "name": "ipython",
    "version": 3
   },
   "file_extension": ".py",
   "mimetype": "text/x-python",
   "name": "python",
   "nbconvert_exporter": "python",
   "pygments_lexer": "ipython3",
   "version": "3.7.8"
  },
  "toc": {
   "base_numbering": 1,
   "nav_menu": {},
   "number_sections": true,
   "sideBar": true,
   "skip_h1_title": true,
   "title_cell": "Table of Contents",
   "title_sidebar": "Contents",
   "toc_cell": false,
   "toc_position": {},
   "toc_section_display": true,
   "toc_window_display": false
  }
 },
 "nbformat": 4,
 "nbformat_minor": 2
}
