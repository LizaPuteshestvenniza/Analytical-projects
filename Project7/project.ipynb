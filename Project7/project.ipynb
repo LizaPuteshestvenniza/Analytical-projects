{
 "cells": [
  {
   "cell_type": "markdown",
   "metadata": {},
   "source": [
    "# Рынок заведений общественного питания Москвы\n",
    "\n",
    "Открывается небольшое кафе в Москве, оно оригинальное — гостей должны обслуживать роботы. Проект многообещающий, но дорогой. Владелец решил обратиться к инвесторам. Их интересует текущее положение дел на рынке — сможете ли он снискать популярность на долгое время, когда все зеваки насмотрятся на роботов-официантов?\n",
    "\n",
    "Необходимо подготовить исследование рынка. Имеются открытые данные о заведениях общественного питания в Москве.\n",
    "\n",
    "## Предобработка данных\n",
    "Изучим данные из файла, который содержит в себе данные о заведениях общественного питания Москвы"
   ]
  },
  {
   "cell_type": "code",
   "execution_count": 1,
   "metadata": {},
   "outputs": [
    {
     "data": {
      "text/html": [
       "<div>\n",
       "<style scoped>\n",
       "    .dataframe tbody tr th:only-of-type {\n",
       "        vertical-align: middle;\n",
       "    }\n",
       "\n",
       "    .dataframe tbody tr th {\n",
       "        vertical-align: top;\n",
       "    }\n",
       "\n",
       "    .dataframe thead th {\n",
       "        text-align: right;\n",
       "    }\n",
       "</style>\n",
       "<table border=\"1\" class=\"dataframe\">\n",
       "  <thead>\n",
       "    <tr style=\"text-align: right;\">\n",
       "      <th></th>\n",
       "      <th>id</th>\n",
       "      <th>object_name</th>\n",
       "      <th>chain</th>\n",
       "      <th>object_type</th>\n",
       "      <th>address</th>\n",
       "      <th>number</th>\n",
       "    </tr>\n",
       "  </thead>\n",
       "  <tbody>\n",
       "    <tr>\n",
       "      <td>0</td>\n",
       "      <td>151635</td>\n",
       "      <td>СМЕТАНА</td>\n",
       "      <td>нет</td>\n",
       "      <td>кафе</td>\n",
       "      <td>город Москва, улица Егора Абакумова, дом 9</td>\n",
       "      <td>48</td>\n",
       "    </tr>\n",
       "    <tr>\n",
       "      <td>1</td>\n",
       "      <td>77874</td>\n",
       "      <td>Родник</td>\n",
       "      <td>нет</td>\n",
       "      <td>кафе</td>\n",
       "      <td>город Москва, улица Талалихина, дом 2/1, корпус 1</td>\n",
       "      <td>35</td>\n",
       "    </tr>\n",
       "    <tr>\n",
       "      <td>2</td>\n",
       "      <td>24309</td>\n",
       "      <td>Кафе «Академия»</td>\n",
       "      <td>нет</td>\n",
       "      <td>кафе</td>\n",
       "      <td>город Москва, Абельмановская улица, дом 6</td>\n",
       "      <td>95</td>\n",
       "    </tr>\n",
       "    <tr>\n",
       "      <td>3</td>\n",
       "      <td>21894</td>\n",
       "      <td>ПИЦЦЕТОРИЯ</td>\n",
       "      <td>да</td>\n",
       "      <td>кафе</td>\n",
       "      <td>город Москва, Абрамцевская улица, дом 1</td>\n",
       "      <td>40</td>\n",
       "    </tr>\n",
       "    <tr>\n",
       "      <td>4</td>\n",
       "      <td>119365</td>\n",
       "      <td>Кафе «Вишневая метель»</td>\n",
       "      <td>нет</td>\n",
       "      <td>кафе</td>\n",
       "      <td>город Москва, Абрамцевская улица, дом 9, корпус 1</td>\n",
       "      <td>50</td>\n",
       "    </tr>\n",
       "    <tr>\n",
       "      <td>...</td>\n",
       "      <td>...</td>\n",
       "      <td>...</td>\n",
       "      <td>...</td>\n",
       "      <td>...</td>\n",
       "      <td>...</td>\n",
       "      <td>...</td>\n",
       "    </tr>\n",
       "    <tr>\n",
       "      <td>15361</td>\n",
       "      <td>208537</td>\n",
       "      <td>Шоколадница</td>\n",
       "      <td>да</td>\n",
       "      <td>кафе</td>\n",
       "      <td>город Москва, 3-й Крутицкий переулок, дом 18</td>\n",
       "      <td>50</td>\n",
       "    </tr>\n",
       "    <tr>\n",
       "      <td>15362</td>\n",
       "      <td>209264</td>\n",
       "      <td>Шоколадница</td>\n",
       "      <td>да</td>\n",
       "      <td>кафе</td>\n",
       "      <td>город Москва, улица Земляной Вал, дом 33</td>\n",
       "      <td>10</td>\n",
       "    </tr>\n",
       "    <tr>\n",
       "      <td>15363</td>\n",
       "      <td>209186</td>\n",
       "      <td>Шоколадница</td>\n",
       "      <td>да</td>\n",
       "      <td>кафе</td>\n",
       "      <td>город Москва, улица Земляной Вал, дом 33</td>\n",
       "      <td>20</td>\n",
       "    </tr>\n",
       "    <tr>\n",
       "      <td>15364</td>\n",
       "      <td>221900</td>\n",
       "      <td>Шоколадница</td>\n",
       "      <td>да</td>\n",
       "      <td>кафе</td>\n",
       "      <td>город Москва, поселение Московский, Киевское ш...</td>\n",
       "      <td>36</td>\n",
       "    </tr>\n",
       "    <tr>\n",
       "      <td>15365</td>\n",
       "      <td>222535</td>\n",
       "      <td>Шоколадница</td>\n",
       "      <td>да</td>\n",
       "      <td>кафе</td>\n",
       "      <td>город Москва, Ходынский бульвар, дом 4</td>\n",
       "      <td>10</td>\n",
       "    </tr>\n",
       "  </tbody>\n",
       "</table>\n",
       "<p>15366 rows × 6 columns</p>\n",
       "</div>"
      ],
      "text/plain": [
       "           id             object_name chain object_type  \\\n",
       "0      151635                 СМЕТАНА   нет        кафе   \n",
       "1       77874                  Родник   нет        кафе   \n",
       "2       24309         Кафе «Академия»   нет        кафе   \n",
       "3       21894              ПИЦЦЕТОРИЯ    да        кафе   \n",
       "4      119365  Кафе «Вишневая метель»   нет        кафе   \n",
       "...       ...                     ...   ...         ...   \n",
       "15361  208537             Шоколадница    да        кафе   \n",
       "15362  209264             Шоколадница    да        кафе   \n",
       "15363  209186             Шоколадница    да        кафе   \n",
       "15364  221900             Шоколадница    да        кафе   \n",
       "15365  222535             Шоколадница    да        кафе   \n",
       "\n",
       "                                                 address  number  \n",
       "0             город Москва, улица Егора Абакумова, дом 9      48  \n",
       "1      город Москва, улица Талалихина, дом 2/1, корпус 1      35  \n",
       "2              город Москва, Абельмановская улица, дом 6      95  \n",
       "3                город Москва, Абрамцевская улица, дом 1      40  \n",
       "4      город Москва, Абрамцевская улица, дом 9, корпус 1      50  \n",
       "...                                                  ...     ...  \n",
       "15361       город Москва, 3-й Крутицкий переулок, дом 18      50  \n",
       "15362           город Москва, улица Земляной Вал, дом 33      10  \n",
       "15363           город Москва, улица Земляной Вал, дом 33      20  \n",
       "15364  город Москва, поселение Московский, Киевское ш...      36  \n",
       "15365             город Москва, Ходынский бульвар, дом 4      10  \n",
       "\n",
       "[15366 rows x 6 columns]"
      ]
     },
     "execution_count": 1,
     "metadata": {},
     "output_type": "execute_result"
    }
   ],
   "source": [
    "import pandas as pd \n",
    "from IPython.display import display\n",
    "import numpy as np\n",
    "import warnings \n",
    "warnings.filterwarnings('ignore')\n",
    "import matplotlib.pyplot as plt\n",
    "import scipy.stats as stats\n",
    "import seaborn as sns\n",
    "\n",
    "df = pd.read_csv('/datasets/rest_data.csv')\n",
    "df"
   ]
  },
  {
   "cell_type": "markdown",
   "metadata": {},
   "source": [
    "Проверим таблицу на наличие пропусков и дубликатов, а также выведем основную информацию по ней. Для этого создадим функцию df_info, которую можно будет использовать и в других проектах."
   ]
  },
  {
   "cell_type": "code",
   "execution_count": 2,
   "metadata": {},
   "outputs": [
    {
     "name": "stdout",
     "output_type": "stream",
     "text": [
      "Количесвто пропусков:\n",
      "id             0\n",
      "object_name    0\n",
      "chain          0\n",
      "object_type    0\n",
      "address        0\n",
      "number         0\n",
      "dtype: int64\n",
      "\n",
      "Количество дубликатов:\n",
      "0\n",
      "\n",
      "информация о таблице:\n",
      "<class 'pandas.core.frame.DataFrame'>\n",
      "RangeIndex: 15366 entries, 0 to 15365\n",
      "Data columns (total 6 columns):\n",
      "id             15366 non-null int64\n",
      "object_name    15366 non-null object\n",
      "chain          15366 non-null object\n",
      "object_type    15366 non-null object\n",
      "address        15366 non-null object\n",
      "number         15366 non-null int64\n",
      "dtypes: int64(2), object(4)\n",
      "memory usage: 720.4+ KB\n"
     ]
    }
   ],
   "source": [
    "def df_info(df):\n",
    "    print('Количесвто пропусков:')\n",
    "    print(df.isnull().sum())\n",
    "    print('')\n",
    "    print('Количество дубликатов:')\n",
    "    print(df.duplicated().sum())\n",
    "    print('')\n",
    "    print('информация о таблице:')\n",
    "    df.info()\n",
    "    \n",
    "df_info(df)"
   ]
  },
  {
   "cell_type": "markdown",
   "metadata": {},
   "source": [
    "Столбец *chain* приведем к булевому типу, чтоб в дальнейшем удобнее было обрабатывать данные.  "
   ]
  },
  {
   "cell_type": "code",
   "execution_count": 3,
   "metadata": {},
   "outputs": [],
   "source": [
    "df = df.replace({'да': True, 'нет': False})"
   ]
  },
  {
   "cell_type": "markdown",
   "metadata": {},
   "source": [
    "Для начала приведем названия к нижнему регистру, после чего логичным будет создать таблицу, содержащую в себе информацию о сетях, для того, чтоб создать список уникальных названий сетьевых заведений и интегрировать названия в исходную таблицу\n",
    "\n",
    "Подобная процедура необходима только для сетевых заведений, ведь с индивидуальными объектами такой проблемы нет. "
   ]
  },
  {
   "cell_type": "code",
   "execution_count": 4,
   "metadata": {
    "scrolled": false
   },
   "outputs": [
    {
     "data": {
      "text/html": [
       "<div>\n",
       "<style scoped>\n",
       "    .dataframe tbody tr th:only-of-type {\n",
       "        vertical-align: middle;\n",
       "    }\n",
       "\n",
       "    .dataframe tbody tr th {\n",
       "        vertical-align: top;\n",
       "    }\n",
       "\n",
       "    .dataframe thead th {\n",
       "        text-align: right;\n",
       "    }\n",
       "</style>\n",
       "<table border=\"1\" class=\"dataframe\">\n",
       "  <thead>\n",
       "    <tr style=\"text-align: right;\">\n",
       "      <th></th>\n",
       "      <th>id</th>\n",
       "      <th>object_name</th>\n",
       "      <th>chain</th>\n",
       "      <th>object_type</th>\n",
       "      <th>address</th>\n",
       "      <th>number</th>\n",
       "    </tr>\n",
       "  </thead>\n",
       "  <tbody>\n",
       "    <tr>\n",
       "      <td>0</td>\n",
       "      <td>151635</td>\n",
       "      <td>СМЕТАНА</td>\n",
       "      <td>False</td>\n",
       "      <td>кафе</td>\n",
       "      <td>город Москва, улица Егора Абакумова, дом 9</td>\n",
       "      <td>48</td>\n",
       "    </tr>\n",
       "    <tr>\n",
       "      <td>1</td>\n",
       "      <td>77874</td>\n",
       "      <td>Родник</td>\n",
       "      <td>False</td>\n",
       "      <td>кафе</td>\n",
       "      <td>город Москва, улица Талалихина, дом 2/1, корпус 1</td>\n",
       "      <td>35</td>\n",
       "    </tr>\n",
       "    <tr>\n",
       "      <td>2</td>\n",
       "      <td>24309</td>\n",
       "      <td>Кафе «Академия»</td>\n",
       "      <td>False</td>\n",
       "      <td>кафе</td>\n",
       "      <td>город Москва, Абельмановская улица, дом 6</td>\n",
       "      <td>95</td>\n",
       "    </tr>\n",
       "    <tr>\n",
       "      <td>3</td>\n",
       "      <td>21894</td>\n",
       "      <td>пиццетория</td>\n",
       "      <td>True</td>\n",
       "      <td>кафе</td>\n",
       "      <td>город Москва, Абрамцевская улица, дом 1</td>\n",
       "      <td>40</td>\n",
       "    </tr>\n",
       "    <tr>\n",
       "      <td>4</td>\n",
       "      <td>119365</td>\n",
       "      <td>Кафе «Вишневая метель»</td>\n",
       "      <td>False</td>\n",
       "      <td>кафе</td>\n",
       "      <td>город Москва, Абрамцевская улица, дом 9, корпус 1</td>\n",
       "      <td>50</td>\n",
       "    </tr>\n",
       "    <tr>\n",
       "      <td>...</td>\n",
       "      <td>...</td>\n",
       "      <td>...</td>\n",
       "      <td>...</td>\n",
       "      <td>...</td>\n",
       "      <td>...</td>\n",
       "      <td>...</td>\n",
       "    </tr>\n",
       "    <tr>\n",
       "      <td>15361</td>\n",
       "      <td>208537</td>\n",
       "      <td>шоколадница</td>\n",
       "      <td>True</td>\n",
       "      <td>кафе</td>\n",
       "      <td>город Москва, 3-й Крутицкий переулок, дом 18</td>\n",
       "      <td>50</td>\n",
       "    </tr>\n",
       "    <tr>\n",
       "      <td>15362</td>\n",
       "      <td>209264</td>\n",
       "      <td>шоколадница</td>\n",
       "      <td>True</td>\n",
       "      <td>кафе</td>\n",
       "      <td>город Москва, улица Земляной Вал, дом 33</td>\n",
       "      <td>10</td>\n",
       "    </tr>\n",
       "    <tr>\n",
       "      <td>15363</td>\n",
       "      <td>209186</td>\n",
       "      <td>шоколадница</td>\n",
       "      <td>True</td>\n",
       "      <td>кафе</td>\n",
       "      <td>город Москва, улица Земляной Вал, дом 33</td>\n",
       "      <td>20</td>\n",
       "    </tr>\n",
       "    <tr>\n",
       "      <td>15364</td>\n",
       "      <td>221900</td>\n",
       "      <td>шоколадница</td>\n",
       "      <td>True</td>\n",
       "      <td>кафе</td>\n",
       "      <td>город Москва, поселение Московский, Киевское ш...</td>\n",
       "      <td>36</td>\n",
       "    </tr>\n",
       "    <tr>\n",
       "      <td>15365</td>\n",
       "      <td>222535</td>\n",
       "      <td>шоколадница</td>\n",
       "      <td>True</td>\n",
       "      <td>кафе</td>\n",
       "      <td>город Москва, Ходынский бульвар, дом 4</td>\n",
       "      <td>10</td>\n",
       "    </tr>\n",
       "  </tbody>\n",
       "</table>\n",
       "<p>15366 rows × 6 columns</p>\n",
       "</div>"
      ],
      "text/plain": [
       "           id             object_name  chain object_type  \\\n",
       "0      151635                 СМЕТАНА  False        кафе   \n",
       "1       77874                  Родник  False        кафе   \n",
       "2       24309         Кафе «Академия»  False        кафе   \n",
       "3       21894              пиццетория   True        кафе   \n",
       "4      119365  Кафе «Вишневая метель»  False        кафе   \n",
       "...       ...                     ...    ...         ...   \n",
       "15361  208537             шоколадница   True        кафе   \n",
       "15362  209264             шоколадница   True        кафе   \n",
       "15363  209186             шоколадница   True        кафе   \n",
       "15364  221900             шоколадница   True        кафе   \n",
       "15365  222535             шоколадница   True        кафе   \n",
       "\n",
       "                                                 address  number  \n",
       "0             город Москва, улица Егора Абакумова, дом 9      48  \n",
       "1      город Москва, улица Талалихина, дом 2/1, корпус 1      35  \n",
       "2              город Москва, Абельмановская улица, дом 6      95  \n",
       "3                город Москва, Абрамцевская улица, дом 1      40  \n",
       "4      город Москва, Абрамцевская улица, дом 9, корпус 1      50  \n",
       "...                                                  ...     ...  \n",
       "15361       город Москва, 3-й Крутицкий переулок, дом 18      50  \n",
       "15362           город Москва, улица Земляной Вал, дом 33      10  \n",
       "15363           город Москва, улица Земляной Вал, дом 33      20  \n",
       "15364  город Москва, поселение Московский, Киевское ш...      36  \n",
       "15365             город Москва, Ходынский бульвар, дом 4      10  \n",
       "\n",
       "[15366 rows x 6 columns]"
      ]
     },
     "execution_count": 4,
     "metadata": {},
     "output_type": "execute_result"
    }
   ],
   "source": [
    "df_find_chains = df[df['chain'] == True]\n",
    "df_find_chains = df_find_chains.rename(columns={'object_name': 'new_name'})\n",
    "drop_col = ['chain', 'object_type', \n",
    "            'address', 'number']\n",
    "for i in drop_col:\n",
    "    df_find_chains = df_find_chains.drop(i, 1)\n",
    "df_find_chains = df_find_chains.reset_index()\n",
    "df_find_chains['new_name'] = df_find_chains['new_name'].str.lower()\n",
    "objects_names = ['страбакс', 'теремок', 'мята', 'макдоналдс', 'kfc', 'шоколадница', 'сабвей', 'кофе хаус', \n",
    "                 'джонс', 'прайм', \"домино'с\", 'андерсон', 'вьеткафе', 'иль патио', 'дабл', 'милти']\n",
    "for i in range(len(df_find_chains)):\n",
    "    if '«' in df_find_chains['new_name'][i]:\n",
    "        df_find_chains['new_name'][i] = df_find_chains['new_name'][i].replace('«', '') \n",
    "        df_find_chains['new_name'][i] = df_find_chains['new_name'][i].replace('»', '') \n",
    "    tmp = df_find_chains['new_name'][i].split()\n",
    "    for j in range(len(tmp)):\n",
    "        if tmp[j] in df['object_type'].unique():\n",
    "            tmp.remove(tmp[j])\n",
    "            break\n",
    "    for j in range(len(tmp)):\n",
    "        if tmp[j] in objects_names:\n",
    "            df_find_chains['new_name'][i] = tmp[j]\n",
    "            break\n",
    "        df_find_chains['new_name'][i] = \" \".join(tmp) \n",
    "        \n",
    "df = df.merge(df_find_chains, how='outer')\n",
    "for i in range(len(df)):\n",
    "    if df['chain'][i] == True:\n",
    "        df['object_name'][i] = df['new_name'][i]\n",
    "\n",
    "drop_col = ['new_name', 'index']\n",
    "for i in drop_col:\n",
    "    df = df.drop(i, 1)\n",
    "df"
   ]
  },
  {
   "cell_type": "markdown",
   "metadata": {},
   "source": [
    "Данные готовы к анализу"
   ]
  },
  {
   "cell_type": "markdown",
   "metadata": {},
   "source": [
    "## Анализ данных\n",
    "\n",
    "### Cоотношение видов объектов общественного питания\n",
    "\n",
    "Исследуем соотношение видов объектов общественного питания по количеству, а также построим график.\n",
    "\n",
    "Для начала узнаем уникальные значения столбца *object_type*, чтоб понять какие типы в целом представлены в таблице, после чего найдем долю каждого из них, сгруппировав прежде денные в отдельную таблицу. После чего выведем график. \n",
    "\n",
    "Для вычислений создадим функцию, которую можно будет использовать в дальнейшем."
   ]
  },
  {
   "cell_type": "code",
   "execution_count": 5,
   "metadata": {},
   "outputs": [
    {
     "data": {
      "text/plain": [
       "array(['кафе', 'столовая', 'закусочная',\n",
       "       'предприятие быстрого обслуживания', 'ресторан', 'кафетерий',\n",
       "       'буфет', 'бар', 'магазин (отдел кулинарии)'], dtype=object)"
      ]
     },
     "execution_count": 5,
     "metadata": {},
     "output_type": "execute_result"
    }
   ],
   "source": [
    "df['object_type'].unique()"
   ]
  },
  {
   "cell_type": "code",
   "execution_count": 6,
   "metadata": {},
   "outputs": [
    {
     "data": {
      "image/png": "[encoded data removed]",
      "text/plain": [
       "<Figure size 720x504 with 1 Axes>"
      ]
     },
     "metadata": {
      "needs_background": "light"
     },
     "output_type": "display_data"
    }
   ],
   "source": [
    "df_types = df.groupby('object_type')['id'].count()\n",
    "\n",
    "def count_part(df_new, name, typ):\n",
    "    df_new = df_new.reset_index()\n",
    "    df_new['id'] = df_new['id'] / df.shape[0]\n",
    "    df_new = df_new.set_index(name)\n",
    "    df_new = df_new.sort_values(by='id')\n",
    "\n",
    "    df_new.plot(y='id', kind='barh', figsize=(10,7))\n",
    "    plt.title(typ)\n",
    "    plt.xlabel(typ)\n",
    "    plt.ylabel('Доля')\n",
    "    plt.show()\n",
    "    \n",
    "count_part(df_types, 'object_type', 'Тип заведания')"
   ]
  },
  {
   "cell_type": "markdown",
   "metadata": {},
   "source": [
    "Топ 3 типов заведений: \n",
    "- ресторан\n",
    "- столовая\n",
    "- кафе\n",
    "\n",
    "Стоит заметить, что кафе - наиболее популярный тип и занимает 40% рынка, при этом столова и ресторан всего 15-17% каждый\n",
    "\n",
    "### Соотношение сетевых и не сетевых заведений\n",
    "\n",
    "Исследуем соотношение сетевых и не сетевых заведений по количеству и на основе полученных расчетов построим график."
   ]
  },
  {
   "cell_type": "code",
   "execution_count": 7,
   "metadata": {},
   "outputs": [
    {
     "data": {
      "image/png": "[encoded data removed]",
      "text/plain": [
       "<Figure size 720x504 with 1 Axes>"
      ]
     },
     "metadata": {
      "needs_background": "light"
     },
     "output_type": "display_data"
    }
   ],
   "source": [
    "df_chains = df.groupby('chain')['id'].count()\n",
    "\n",
    "count_part(df_chains, 'chain', 'Является ли сетью')"
   ]
  },
  {
   "cell_type": "markdown",
   "metadata": {},
   "source": [
    "Гуляя по Москве, может показаться, что все рестораны и кафе вокруг сетевые, но, как выяснилось, они занимают всего лишь 20%, остальное приходится на уникальные завдения.\n",
    "\n",
    "### Поиск вида объекта общественного питания, для которого характерно сетевое распространение\n",
    "\n",
    "Найдем вид заведения, для которого сеть наиболее характерна, для этого сгрупируем объекты по виду и посчитаем количесвто сетевых среди них."
   ]
  },
  {
   "cell_type": "code",
   "execution_count": 8,
   "metadata": {},
   "outputs": [
    {
     "data": {
      "text/html": [
       "<div>\n",
       "<style scoped>\n",
       "    .dataframe tbody tr th:only-of-type {\n",
       "        vertical-align: middle;\n",
       "    }\n",
       "\n",
       "    .dataframe tbody tr th {\n",
       "        vertical-align: top;\n",
       "    }\n",
       "\n",
       "    .dataframe thead th {\n",
       "        text-align: right;\n",
       "    }\n",
       "</style>\n",
       "<table border=\"1\" class=\"dataframe\">\n",
       "  <thead>\n",
       "    <tr style=\"text-align: right;\">\n",
       "      <th>object_type</th>\n",
       "      <th>бар</th>\n",
       "      <th>буфет</th>\n",
       "      <th>закусочная</th>\n",
       "      <th>кафе</th>\n",
       "      <th>кафетерий</th>\n",
       "      <th>магазин (отдел кулинарии)</th>\n",
       "      <th>предприятие быстрого обслуживания</th>\n",
       "      <th>ресторан</th>\n",
       "      <th>столовая</th>\n",
       "    </tr>\n",
       "  </thead>\n",
       "  <tbody>\n",
       "    <tr>\n",
       "      <td>chain</td>\n",
       "      <td>0.043</td>\n",
       "      <td>0.019</td>\n",
       "      <td>0.156</td>\n",
       "      <td>0.229</td>\n",
       "      <td>0.131</td>\n",
       "      <td>0.286</td>\n",
       "      <td>0.411</td>\n",
       "      <td>0.238</td>\n",
       "      <td>0.001</td>\n",
       "    </tr>\n",
       "  </tbody>\n",
       "</table>\n",
       "</div>"
      ],
      "text/plain": [
       "object_type    бар  буфет  закусочная   кафе  кафетерий  \\\n",
       "chain        0.043  0.019       0.156  0.229      0.131   \n",
       "\n",
       "object_type  магазин (отдел кулинарии)  предприятие быстрого обслуживания  \\\n",
       "chain                            0.286                              0.411   \n",
       "\n",
       "object_type  ресторан  столовая  \n",
       "chain           0.238     0.001  "
      ]
     },
     "execution_count": 8,
     "metadata": {},
     "output_type": "execute_result"
    }
   ],
   "source": [
    "df_chain_type = df.pivot_table(columns='object_type', values='chain', aggfunc='mean')\n",
    "for i in df_chain_type.columns:\n",
    "    df_chain_type[i][0] = round(df_chain_type[i][0], 3)\n",
    "df_chain_type"
   ]
  },
  {
   "cell_type": "markdown",
   "metadata": {},
   "source": [
    "Предприятие быстрого обслуживания являеется наиболее частым представителем сетевого распространения, после чего идет магазин (отдел кулинарии). \n",
    "\n",
    "### Изучение сетей\n",
    "\n",
    "Что характерно для сетевых заведений: много объектов с небольшим числом посадочных мест в каждом или мало заведений с большим количеством посадочных мест? \n",
    "\n",
    "Для того, чтоб это узнать, для начала выясним, что значит много: посмотрим сколько заведений входят в каждую из сетей и сколько у них в среднем посадочных мест."
   ]
  },
  {
   "cell_type": "code",
   "execution_count": 9,
   "metadata": {},
   "outputs": [
    {
     "data": {
      "image/png": "[encoded data removed]",
      "text/plain": [
       "<Figure size 504x360 with 1 Axes>"
      ]
     },
     "metadata": {
      "needs_background": "light"
     },
     "output_type": "display_data"
    }
   ],
   "source": [
    "df_chains_info = df[df['chain'] == True]\n",
    "\n",
    "df_ch = (\n",
    "    df_chains_info.groupby('object_name')\n",
    "    .agg({'number': 'mean', 'id':'count'})\n",
    "    .reset_index()\n",
    ")\n",
    "\n",
    "plt.figure(\n",
    "    figsize=(7, 5)\n",
    ")\n",
    "sns.boxplot(y='number', data=df_ch) \n",
    "plt.title('Распределение мест для посетителей')\n",
    "plt.ylabel('Среднее число мест')\n",
    "plt.show()"
   ]
  },
  {
   "cell_type": "markdown",
   "metadata": {},
   "source": [
    "В среднем в завадениях около 50 мест, однако встречаются места, где их сильно больше 200. Тогда будем счатать, что все что больше 80 - много посадочных мест. \n",
    "\n",
    "Посмотрим теперь на количесвто заведений в сетях."
   ]
  },
  {
   "cell_type": "code",
   "execution_count": 10,
   "metadata": {},
   "outputs": [
    {
     "data": {
      "image/png": "[encoded data removed]",
      "text/plain": [
       "<Figure size 504x288 with 1 Axes>"
      ]
     },
     "metadata": {
      "needs_background": "light"
     },
     "output_type": "display_data"
    }
   ],
   "source": [
    "plt.figure(\n",
    "    figsize=(7, 4)\n",
    ")\n",
    "sns.boxplot(y='id', data=df_ch)\n",
    "plt.title('Распределение количества заведений')\n",
    "plt.ylabel('Количесвто заведений внутри сети')\n",
    "ax = plt.gca()\n",
    "ax.set_ylim([0,10])\n",
    "plt.show()"
   ]
  },
  {
   "cell_type": "markdown",
   "metadata": {},
   "source": [
    "В целом внутри сетей самих заведений довольно не много: обычно это число не превышает 4, будем считать что много заведений - когда их больше четырех. \n",
    "\n",
    "Создадим функцию, которая будет присваивать тип каждому заведению с учетом следующих групп:\n",
    "- Сеть с большим числом посадочных мест и небольшим числом заведений в сети\n",
    "- Сеть с небольшим числом посадочных мест и большим числом заведений в сети\n",
    "- Сеть с небольшим числом посадочных мест и небольшим числом заведений в сети\n",
    "- Сеть с большим числом посадочных мест и большим числом заведений в сети\n",
    "\n",
    "С учетом этих распределений и определим наиболее характерные признаки. "
   ]
  },
  {
   "cell_type": "code",
   "execution_count": 11,
   "metadata": {},
   "outputs": [
    {
     "data": {
      "image/png": "[encoded data removed]",
      "text/plain": [
       "<Figure size 720x504 with 1 Axes>"
      ]
     },
     "metadata": {
      "needs_background": "light"
     },
     "output_type": "display_data"
    }
   ],
   "source": [
    "def find_group(row) :  \n",
    "    seats = row['number']\n",
    "    cnt = row['id']\n",
    "    \n",
    "    if seats > 80:\n",
    "        if cnt > 4:\n",
    "            return 'Сеть с большим числом посадочных мест', '\\n', 'и большим числом заведений в сети'\n",
    "        else:\n",
    "            return 'Сеть с большим числом посадочных мест', '\\n', 'и небольшим числом заведений в сети'\n",
    "        \n",
    "    else : \n",
    "        if cnt > 4:\n",
    "            return 'Сеть с небольшим числом посадочных мест', '\\n', 'и большим числом заведений в сети'\n",
    "        else:\n",
    "            return 'Сеть с небольшим числом посадочных мест', '\\n', 'и небольшим числом заведений в сети'\n",
    "df_ch['group'] = df_ch.apply(find_group, axis=1) \n",
    "\n",
    "res = df_ch.groupby('group')['id'].count()\n",
    "count_part(res, 'group', 'группа')"
   ]
  },
  {
   "cell_type": "markdown",
   "metadata": {},
   "source": [
    "По получившимся графикам можно сделать вывод: характернее всего для стевых заведений - небольшое число как самих мест, так и ресторанов.\n",
    "\n",
    "### Среднее количество посадочных мест для каждого типа заведения\n",
    "\n",
    "Определим сколько в среднем посадочных мест в разных типах заведений, а также сравним эти значения и изобразим это на графике. "
   ]
  },
  {
   "cell_type": "code",
   "execution_count": 12,
   "metadata": {},
   "outputs": [
    {
     "data": {
      "image/png": "[encoded data removed]",
      "text/plain": [
       "<Figure size 720x504 with 1 Axes>"
      ]
     },
     "metadata": {
      "needs_background": "light"
     },
     "output_type": "display_data"
    }
   ],
   "source": [
    "df_places_mean = df.groupby('object_type')['number'].mean()\n",
    "df_places_mean = df_places_mean.reset_index()\n",
    "df_places_mean = df_places_mean.set_index('object_type')\n",
    "\n",
    "df_places_mean.plot(y='number', kind='barh', figsize=(10,7))\n",
    "plt.title('Мест в среднем среди типов заведений')\n",
    "plt.xlabel('Тип заведения')\n",
    "plt.ylabel('Число мест')\n",
    "plt.show()"
   ]
  },
  {
   "cell_type": "markdown",
   "metadata": {},
   "source": [
    "Двумя несомненными лидерами являются столовая и ресторан, которые в среднем имеют наибольшее число посадочных мест. \n",
    "\n",
    "### Информация об улице \n",
    "\n",
    "Выведем в отдельный столбец информацию об улице из столбца *address*\n",
    "\n",
    "Так как у нас адрес строится следующим образом: город, улица, дом, то если поместить это в массив, на месте с индексом 1 будет улица. Применим это для заведений:"
   ]
  },
  {
   "cell_type": "code",
   "execution_count": 13,
   "metadata": {},
   "outputs": [],
   "source": [
    "df['streetname'] = 0\n",
    "for i in range(len(df)):\n",
    "    tmp = df['address'][i].split(\",\")\n",
    "    if ('город' not in tmp[1]) and ('поселение' not in tmp[1]):\n",
    "        df['streetname'][i] = tmp[1]\n",
    "    else:\n",
    "        df['streetname'][i] = tmp[1] + tmp[2]\n",
    "    a = df['streetname'][i]\n",
    "    a = a[1:]\n",
    "    df['streetname'][i] = a"
   ]
  },
  {
   "cell_type": "markdown",
   "metadata": {},
   "source": [
    "**Коментарий для проверяющего:** проверяются только город и поселения, потому что именно они портят топ, все остальное не входит в рассматриваемые сегменты. "
   ]
  },
  {
   "cell_type": "markdown",
   "metadata": {},
   "source": [
    "### Поиск улицы с наибольшим числом заведений на ней"
   ]
  },
  {
   "cell_type": "markdown",
   "metadata": {},
   "source": [
    "Подгрузим таблицу с координатами районов и найдем районы с наибольшей плотностью. "
   ]
  },
  {
   "cell_type": "code",
   "execution_count": 14,
   "metadata": {},
   "outputs": [
    {
     "data": {
      "text/html": [
       "<div>\n",
       "<style scoped>\n",
       "    .dataframe tbody tr th:only-of-type {\n",
       "        vertical-align: middle;\n",
       "    }\n",
       "\n",
       "    .dataframe tbody tr th {\n",
       "        vertical-align: top;\n",
       "    }\n",
       "\n",
       "    .dataframe thead th {\n",
       "        text-align: right;\n",
       "    }\n",
       "</style>\n",
       "<table border=\"1\" class=\"dataframe\">\n",
       "  <thead>\n",
       "    <tr style=\"text-align: right;\">\n",
       "      <th></th>\n",
       "      <th>streetname</th>\n",
       "      <th>area</th>\n",
       "    </tr>\n",
       "  </thead>\n",
       "  <tbody>\n",
       "    <tr>\n",
       "      <td>0</td>\n",
       "      <td>Выставочный переулок</td>\n",
       "      <td>Пресненский район</td>\n",
       "    </tr>\n",
       "    <tr>\n",
       "      <td>1</td>\n",
       "      <td>улица Гашека</td>\n",
       "      <td>Пресненский район</td>\n",
       "    </tr>\n",
       "    <tr>\n",
       "      <td>2</td>\n",
       "      <td>Большая Никитская улица</td>\n",
       "      <td>Пресненский район</td>\n",
       "    </tr>\n",
       "    <tr>\n",
       "      <td>3</td>\n",
       "      <td>Глубокий переулок</td>\n",
       "      <td>Пресненский район</td>\n",
       "    </tr>\n",
       "    <tr>\n",
       "      <td>4</td>\n",
       "      <td>Большой Гнездниковский переулок</td>\n",
       "      <td>Пресненский район</td>\n",
       "    </tr>\n",
       "    <tr>\n",
       "      <td>...</td>\n",
       "      <td>...</td>\n",
       "      <td>...</td>\n",
       "    </tr>\n",
       "    <tr>\n",
       "      <td>4393</td>\n",
       "      <td>Вознесенский проезд</td>\n",
       "      <td>Пресненский район</td>\n",
       "    </tr>\n",
       "    <tr>\n",
       "      <td>4394</td>\n",
       "      <td>Волков переулок</td>\n",
       "      <td>Пресненский район</td>\n",
       "    </tr>\n",
       "    <tr>\n",
       "      <td>4395</td>\n",
       "      <td>Поварская улица</td>\n",
       "      <td>Пресненский район</td>\n",
       "    </tr>\n",
       "    <tr>\n",
       "      <td>4396</td>\n",
       "      <td>Кудринская площадь</td>\n",
       "      <td>Пресненский район</td>\n",
       "    </tr>\n",
       "    <tr>\n",
       "      <td>4397</td>\n",
       "      <td>Вспольный переулок</td>\n",
       "      <td>Пресненский район</td>\n",
       "    </tr>\n",
       "  </tbody>\n",
       "</table>\n",
       "<p>4398 rows × 2 columns</p>\n",
       "</div>"
      ],
      "text/plain": [
       "                           streetname               area\n",
       "0                Выставочный переулок  Пресненский район\n",
       "1                        улица Гашека  Пресненский район\n",
       "2             Большая Никитская улица  Пресненский район\n",
       "3                   Глубокий переулок  Пресненский район\n",
       "4     Большой Гнездниковский переулок  Пресненский район\n",
       "...                               ...                ...\n",
       "4393              Вознесенский проезд  Пресненский район\n",
       "4394                  Волков переулок  Пресненский район\n",
       "4395                  Поварская улица  Пресненский район\n",
       "4396               Кудринская площадь  Пресненский район\n",
       "4397               Вспольный переулок  Пресненский район\n",
       "\n",
       "[4398 rows x 2 columns]"
      ]
     },
     "execution_count": 14,
     "metadata": {},
     "output_type": "execute_result"
    }
   ],
   "source": [
    "df_address = pd.read_csv('mosgaz-streets.csv')\n",
    "drop_col_address = ['areaid', 'okrug']\n",
    "for i in drop_col_address:\n",
    "    df_address = df_address.drop(i, 1)\n",
    "df_address"
   ]
  },
  {
   "cell_type": "markdown",
   "metadata": {},
   "source": [
    "Добавим информацию о районах в основную таблицу и немного преобразуем содержимое ячеек для удобного использования в дальнейшем:"
   ]
  },
  {
   "cell_type": "code",
   "execution_count": 15,
   "metadata": {},
   "outputs": [],
   "source": [
    "df['area'] = ''\n",
    "street_list = list(df_address['streetname'])\n",
    "for i in range(len(df)):\n",
    "    if df['streetname'][i] in street_list:\n",
    "        tmp = street_list.index(df['streetname'][i])\n",
    "        df['area'][i] = df_address['area'][tmp] + ' '\n",
    "        street_list.remove(df['streetname'][i])\n",
    "        if df['streetname'][i] not in street_list:\n",
    "            street_list.insert(tmp, df['streetname'][i])"
   ]
  },
  {
   "cell_type": "markdown",
   "metadata": {},
   "source": [
    "Сгруппируем улицы по количеству заведений на ней, а также выведем график для ТОП-10 самый наполненых ресторанами, после чего выведем таблицу с информацией в каких районах располагаются данные улицы. "
   ]
  },
  {
   "cell_type": "code",
   "execution_count": 16,
   "metadata": {},
   "outputs": [],
   "source": [
    "df_street_cnt = (\n",
    "    df.groupby('streetname')\n",
    "    .agg({'id':'count', 'number': 'mean', 'area': 'sum'})\n",
    "    .reset_index()\n",
    ")\n",
    "for i in range(len(df_street_cnt)):\n",
    "    tmp = df_street_cnt['area'][i].split()\n",
    "    d = []\n",
    "    for j in range(len(tmp)):\n",
    "        if tmp[j] in d:\n",
    "            continue\n",
    "        else:\n",
    "            d.append(tmp[j])\n",
    "    df_street_cnt['area'][i] = ' '.join(d)"
   ]
  },
  {
   "cell_type": "code",
   "execution_count": 17,
   "metadata": {},
   "outputs": [
    {
     "data": {
      "image/png": "[encoded data removed]",
      "text/plain": [
       "<Figure size 720x504 with 1 Axes>"
      ]
     },
     "metadata": {
      "needs_background": "light"
     },
     "output_type": "display_data"
    },
    {
     "data": {
      "text/html": [
       "<div>\n",
       "<style scoped>\n",
       "    .dataframe tbody tr th:only-of-type {\n",
       "        vertical-align: middle;\n",
       "    }\n",
       "\n",
       "    .dataframe tbody tr th {\n",
       "        vertical-align: top;\n",
       "    }\n",
       "\n",
       "    .dataframe thead th {\n",
       "        text-align: right;\n",
       "    }\n",
       "</style>\n",
       "<table border=\"1\" class=\"dataframe\">\n",
       "  <thead>\n",
       "    <tr style=\"text-align: right;\">\n",
       "      <th></th>\n",
       "      <th>streetname</th>\n",
       "      <th>area</th>\n",
       "    </tr>\n",
       "  </thead>\n",
       "  <tbody>\n",
       "    <tr>\n",
       "      <td>0</td>\n",
       "      <td>проспект Мира</td>\n",
       "      <td>Войковский Район Алтуфьевский район Лианозово Марфино Марьина роща Отрадное Якиманка Южное Бутово Коньково Ясенево Гагаринский Хамовники Черемушки Академический</td>\n",
       "    </tr>\n",
       "    <tr>\n",
       "      <td>1</td>\n",
       "      <td>Профсоюзная улица</td>\n",
       "      <td>Нижегородский район Район Печатники Рязанский Текстильщики Выхино-Жулебино Академический Люблино Лефортово Хамовники</td>\n",
       "    </tr>\n",
       "    <tr>\n",
       "      <td>2</td>\n",
       "      <td>Ленинградский проспект</td>\n",
       "      <td>Панфиловский район Район Аэропорт Дмитровский Савеловский Хорошевский Головинский Бескудниковский Беговой Басманный</td>\n",
       "    </tr>\n",
       "    <tr>\n",
       "      <td>3</td>\n",
       "      <td>Пресненская набережная</td>\n",
       "      <td>Пресненский район</td>\n",
       "    </tr>\n",
       "    <tr>\n",
       "      <td>4</td>\n",
       "      <td>Варшавское шоссе</td>\n",
       "      <td>Район Царицыно Даниловский район Донской Нагатино-Садовники Рязанский Выхино-Жулебино Нижегородский Марьино Люблино Хамовники</td>\n",
       "    </tr>\n",
       "    <tr>\n",
       "      <td>5</td>\n",
       "      <td>Ленинский проспект</td>\n",
       "      <td>Район Очаково-Матвеевское Басманный район Даниловский Текстильщики Черемушки Гагаринский Зюзино Ясенево Хамовники Академический Выхино-Жулебино Рязанский Печатники Нижегородский</td>\n",
       "    </tr>\n",
       "    <tr>\n",
       "      <td>6</td>\n",
       "      <td>проспект Вернадского</td>\n",
       "      <td>Район Очаково-Матвеевское Проспект Вернадского Солнцево Академический район Ясенево Хамовники Печатники Нижегородский Некрасовка Марьино Лефортово</td>\n",
       "    </tr>\n",
       "    <tr>\n",
       "      <td>7</td>\n",
       "      <td>Кутузовский проспект</td>\n",
       "      <td>Район Дорогомилово Филевский Парк Сокольники Басманный район</td>\n",
       "    </tr>\n",
       "    <tr>\n",
       "      <td>8</td>\n",
       "      <td>Каширское шоссе</td>\n",
       "      <td>Даниловский район Район Москворечье-Сабурово Нагатино-Садовники Братеево Бирюлево Западное Восточное Южное Тушино</td>\n",
       "    </tr>\n",
       "    <tr>\n",
       "      <td>9</td>\n",
       "      <td>Кировоградская улица</td>\n",
       "      <td>Район Бирюлево Западное Братеево Щукино Митино Хамовники Куркино</td>\n",
       "    </tr>\n",
       "  </tbody>\n",
       "</table>\n",
       "</div>"
      ],
      "text/plain": [
       "               streetname  \\\n",
       "0           проспект Мира   \n",
       "1       Профсоюзная улица   \n",
       "2  Ленинградский проспект   \n",
       "3  Пресненская набережная   \n",
       "4        Варшавское шоссе   \n",
       "5      Ленинский проспект   \n",
       "6    проспект Вернадского   \n",
       "7    Кутузовский проспект   \n",
       "8         Каширское шоссе   \n",
       "9    Кировоградская улица   \n",
       "\n",
       "                                                                                                                                                                                area  \n",
       "0                   Войковский Район Алтуфьевский район Лианозово Марфино Марьина роща Отрадное Якиманка Южное Бутово Коньково Ясенево Гагаринский Хамовники Черемушки Академический  \n",
       "1                                                               Нижегородский район Район Печатники Рязанский Текстильщики Выхино-Жулебино Академический Люблино Лефортово Хамовники  \n",
       "2                                                                Панфиловский район Район Аэропорт Дмитровский Савеловский Хорошевский Головинский Бескудниковский Беговой Басманный  \n",
       "3                                                                                                                                                                  Пресненский район  \n",
       "4                                                      Район Царицыно Даниловский район Донской Нагатино-Садовники Рязанский Выхино-Жулебино Нижегородский Марьино Люблино Хамовники  \n",
       "5  Район Очаково-Матвеевское Басманный район Даниловский Текстильщики Черемушки Гагаринский Зюзино Ясенево Хамовники Академический Выхино-Жулебино Рязанский Печатники Нижегородский  \n",
       "6                                 Район Очаково-Матвеевское Проспект Вернадского Солнцево Академический район Ясенево Хамовники Печатники Нижегородский Некрасовка Марьино Лефортово  \n",
       "7                                                                                                                       Район Дорогомилово Филевский Парк Сокольники Басманный район  \n",
       "8                                                                  Даниловский район Район Москворечье-Сабурово Нагатино-Садовники Братеево Бирюлево Западное Восточное Южное Тушино  \n",
       "9                                                                                                                   Район Бирюлево Западное Братеево Щукино Митино Хамовники Куркино  "
      ]
     },
     "execution_count": 17,
     "metadata": {},
     "output_type": "execute_result"
    }
   ],
   "source": [
    "df_street_cnt = df_street_cnt.sort_values(by='id', ascending=False)\n",
    "df_street_cnt_10 = df_street_cnt.head(10)\n",
    "df_street_cnt_10 = df_street_cnt_10.set_index('streetname')\n",
    "\n",
    "df_street_cnt_10.plot(y='id', kind='barh', figsize=(10,7))\n",
    "plt.title('Топ 10 улиц по количеству заведений на ней')\n",
    "plt.xlabel('Улица')\n",
    "plt.ylabel('Число заведений')\n",
    "plt.show()\n",
    "\n",
    "df_street_cnt_10 = df_street_cnt_10.reset_index()\n",
    "pd.set_option('display.max_columns', None)\n",
    "pd.options.display.max_colwidth = 200\n",
    "df_street_cnt_10[['streetname', 'area']]"
   ]
  },
  {
   "cell_type": "markdown",
   "metadata": {},
   "source": [
    "Как выяснилось: представленные улицы очень длинные, они простираются на территории сразу нескольких раонов, поэтому и заведений на них больше. Улицы почти не пересекаются между собой, однако иногда все же встречаются районы, на территории которых находятся сразу несколько улиц из топа. "
   ]
  },
  {
   "cell_type": "markdown",
   "metadata": {},
   "source": [
    "Визуализируем распределение на улицах из ТОП-10 на карте\n",
    "\n",
    "Прежде всего скачаем необходимые библиотеки:"
   ]
  },
  {
   "cell_type": "code",
   "execution_count": 18,
   "metadata": {},
   "outputs": [
    {
     "name": "stdout",
     "output_type": "stream",
     "text": [
      "Defaulting to user installation because normal site-packages is not writeable\n",
      "Collecting geopy\n",
      "  Downloading geopy-2.2.0-py3-none-any.whl (118 kB)\n",
      "\u001b[K     |████████████████████████████████| 118 kB 2.8 MB/s eta 0:00:01\n",
      "\u001b[?25hCollecting geographiclib<2,>=1.49\n",
      "  Downloading geographiclib-1.52-py3-none-any.whl (38 kB)\n",
      "Installing collected packages: geographiclib, geopy\n",
      "Successfully installed geographiclib-1.52 geopy-2.2.0\n"
     ]
    }
   ],
   "source": [
    "!pip install geopy"
   ]
  },
  {
   "cell_type": "code",
   "execution_count": 19,
   "metadata": {},
   "outputs": [
    {
     "name": "stdout",
     "output_type": "stream",
     "text": [
      "Defaulting to user installation because normal site-packages is not writeable\n",
      "Collecting folium\n",
      "  Downloading folium-0.12.1.post1-py2.py3-none-any.whl (95 kB)\n",
      "\u001b[K     |████████████████████████████████| 95 kB 1.2 MB/s eta 0:00:01\n",
      "\u001b[?25hRequirement already satisfied: numpy in /opt/conda/lib/python3.7/site-packages (from folium) (1.19.5)\n",
      "Requirement already satisfied: jinja2>=2.9 in /opt/conda/lib/python3.7/site-packages (from folium) (2.11.2)\n",
      "Requirement already satisfied: requests in /opt/conda/lib/python3.7/site-packages (from folium) (2.22.0)\n",
      "Collecting branca>=0.3.0\n",
      "  Downloading branca-0.4.2-py3-none-any.whl (24 kB)\n",
      "Requirement already satisfied: MarkupSafe>=0.23 in /opt/conda/lib/python3.7/site-packages (from jinja2>=2.9->folium) (2.0.1)\n",
      "Requirement already satisfied: idna<2.9,>=2.5 in /opt/conda/lib/python3.7/site-packages (from requests->folium) (2.8)\n",
      "Requirement already satisfied: chardet<3.1.0,>=3.0.2 in /opt/conda/lib/python3.7/site-packages (from requests->folium) (3.0.4)\n",
      "Requirement already satisfied: urllib3!=1.25.0,!=1.25.1,<1.26,>=1.21.1 in /opt/conda/lib/python3.7/site-packages (from requests->folium) (1.25.11)\n",
      "Requirement already satisfied: certifi>=2017.4.17 in /opt/conda/lib/python3.7/site-packages (from requests->folium) (2021.5.30)\n",
      "Installing collected packages: branca, folium\n",
      "Successfully installed branca-0.4.2 folium-0.12.1.post1\n",
      "Note: you may need to restart the kernel to use updated packages.\n"
     ]
    }
   ],
   "source": [
    "pip install folium"
   ]
  },
  {
   "cell_type": "markdown",
   "metadata": {},
   "source": [
    "Создадим таблицу, содержащую информацию о заведениях, расположенных на улицах из топа"
   ]
  },
  {
   "cell_type": "code",
   "execution_count": 20,
   "metadata": {},
   "outputs": [
    {
     "data": {
      "text/html": [
       "<div>\n",
       "<style scoped>\n",
       "    .dataframe tbody tr th:only-of-type {\n",
       "        vertical-align: middle;\n",
       "    }\n",
       "\n",
       "    .dataframe tbody tr th {\n",
       "        vertical-align: top;\n",
       "    }\n",
       "\n",
       "    .dataframe thead th {\n",
       "        text-align: right;\n",
       "    }\n",
       "</style>\n",
       "<table border=\"1\" class=\"dataframe\">\n",
       "  <thead>\n",
       "    <tr style=\"text-align: right;\">\n",
       "      <th></th>\n",
       "      <th>address</th>\n",
       "      <th>streetname</th>\n",
       "      <th>number</th>\n",
       "    </tr>\n",
       "  </thead>\n",
       "  <tbody>\n",
       "    <tr>\n",
       "      <td>0</td>\n",
       "      <td>город Москва, Варшавское шоссе, дом 2</td>\n",
       "      <td>Варшавское шоссе</td>\n",
       "      <td>150</td>\n",
       "    </tr>\n",
       "    <tr>\n",
       "      <td>1</td>\n",
       "      <td>город Москва, Варшавское шоссе, дом 7, корпус 1</td>\n",
       "      <td>Варшавское шоссе</td>\n",
       "      <td>36</td>\n",
       "    </tr>\n",
       "    <tr>\n",
       "      <td>2</td>\n",
       "      <td>город Москва, Варшавское шоссе, дом 29</td>\n",
       "      <td>Варшавское шоссе</td>\n",
       "      <td>30</td>\n",
       "    </tr>\n",
       "    <tr>\n",
       "      <td>3</td>\n",
       "      <td>город Москва, Варшавское шоссе, дом 72, корпус 2</td>\n",
       "      <td>Варшавское шоссе</td>\n",
       "      <td>0</td>\n",
       "    </tr>\n",
       "    <tr>\n",
       "      <td>4</td>\n",
       "      <td>город Москва, Варшавское шоссе, дом 100</td>\n",
       "      <td>Варшавское шоссе</td>\n",
       "      <td>2</td>\n",
       "    </tr>\n",
       "    <tr>\n",
       "      <td>...</td>\n",
       "      <td>...</td>\n",
       "      <td>...</td>\n",
       "      <td>...</td>\n",
       "    </tr>\n",
       "    <tr>\n",
       "      <td>1495</td>\n",
       "      <td>город Москва, Пресненская набережная, дом 12</td>\n",
       "      <td>Пресненская набережная</td>\n",
       "      <td>25</td>\n",
       "    </tr>\n",
       "    <tr>\n",
       "      <td>1496</td>\n",
       "      <td>город Москва, Ленинградский проспект, дом 80, корпус 17</td>\n",
       "      <td>Ленинградский проспект</td>\n",
       "      <td>0</td>\n",
       "    </tr>\n",
       "    <tr>\n",
       "      <td>1497</td>\n",
       "      <td>город Москва, Профсоюзная улица, дом 142, корпус 1, строение 1</td>\n",
       "      <td>Профсоюзная улица</td>\n",
       "      <td>40</td>\n",
       "    </tr>\n",
       "    <tr>\n",
       "      <td>1498</td>\n",
       "      <td>город Москва, Каширское шоссе, дом 96, корпус 1</td>\n",
       "      <td>Каширское шоссе</td>\n",
       "      <td>35</td>\n",
       "    </tr>\n",
       "    <tr>\n",
       "      <td>1499</td>\n",
       "      <td>город Москва, Варшавское шоссе, дом 87Б</td>\n",
       "      <td>Варшавское шоссе</td>\n",
       "      <td>54</td>\n",
       "    </tr>\n",
       "  </tbody>\n",
       "</table>\n",
       "<p>1500 rows × 3 columns</p>\n",
       "</div>"
      ],
      "text/plain": [
       "                                                             address  \\\n",
       "0                              город Москва, Варшавское шоссе, дом 2   \n",
       "1                    город Москва, Варшавское шоссе, дом 7, корпус 1   \n",
       "2                             город Москва, Варшавское шоссе, дом 29   \n",
       "3                   город Москва, Варшавское шоссе, дом 72, корпус 2   \n",
       "4                            город Москва, Варшавское шоссе, дом 100   \n",
       "...                                                              ...   \n",
       "1495                    город Москва, Пресненская набережная, дом 12   \n",
       "1496         город Москва, Ленинградский проспект, дом 80, корпус 17   \n",
       "1497  город Москва, Профсоюзная улица, дом 142, корпус 1, строение 1   \n",
       "1498                 город Москва, Каширское шоссе, дом 96, корпус 1   \n",
       "1499                         город Москва, Варшавское шоссе, дом 87Б   \n",
       "\n",
       "                  streetname  number  \n",
       "0           Варшавское шоссе     150  \n",
       "1           Варшавское шоссе      36  \n",
       "2           Варшавское шоссе      30  \n",
       "3           Варшавское шоссе       0  \n",
       "4           Варшавское шоссе       2  \n",
       "...                      ...     ...  \n",
       "1495  Пресненская набережная      25  \n",
       "1496  Ленинградский проспект       0  \n",
       "1497       Профсоюзная улица      40  \n",
       "1498         Каширское шоссе      35  \n",
       "1499        Варшавское шоссе      54  \n",
       "\n",
       "[1500 rows x 3 columns]"
      ]
     },
     "execution_count": 20,
     "metadata": {},
     "output_type": "execute_result"
    }
   ],
   "source": [
    "df_top10_info = pd.DataFrame(columns=['address','streetname', 'number'])\n",
    "\n",
    "for j in df_top10_info.columns:\n",
    "    tmp_list = []\n",
    "    for i in range(len(df)):\n",
    "        if df['streetname'][i] in list(df_street_cnt_10['streetname']):\n",
    "            tmp_list.append(df[j][i])\n",
    "    df_top10_info[j] = tmp_list\n",
    "df_top10_info"
   ]
  },
  {
   "cell_type": "markdown",
   "metadata": {},
   "source": [
    "Определим координаты:"
   ]
  },
  {
   "cell_type": "code",
   "execution_count": 21,
   "metadata": {
    "scrolled": true
   },
   "outputs": [],
   "source": [
    "from geopy.geocoders import Nominatim\n",
    "from functools import partial\n",
    "import time\n",
    "from geopy.exc import GeocoderTimedOut\n",
    "\n",
    "def do_geocode(address):\n",
    "    try:\n",
    "        return geocode(address).raw\n",
    "    except GeocoderTimedOut:\n",
    "        return do_geocode(address)\n",
    "\n",
    "geolocator = Nominatim(user_agent=\"my_fancy_application\")\n",
    "\n",
    "\n",
    "geocode = partial(geolocator.geocode, language=\"ru\")\n",
    "reverse = partial(geolocator.reverse, language=\"ru\")\n",
    "\n",
    "dict_geo = {}\n",
    "df_top10_info['lat'] = 0\n",
    "df_top10_info['lon'] = 0\n",
    "\n",
    "#for i in range(len(df_top10_info)):\n",
    "#    try:\n",
    "#        dict_geo = do_geocode(df_top10_info['address'][i])\n",
    "#        df_top10_info['lat'] = dict_geo['lat']\n",
    "#        df_top10_info['lon'] = dict_geo['lon']\n",
    "#    except AttributeError:\n",
    "#        df_top10_info['lat'] = 0\n",
    "#        df_top10_info['lon'] = 0\n",
    "#print(df_top10_info.head(10))"
   ]
  },
  {
   "cell_type": "markdown",
   "metadata": {},
   "source": [
    "Теперь визуализируем полученные координаты на карте:"
   ]
  },
  {
   "cell_type": "code",
   "execution_count": 22,
   "metadata": {},
   "outputs": [],
   "source": [
    "import folium\n",
    "m = folium.Map(location=[55.558741,  37.378847], zoom_start=12, tiles=\"Stamen Terrain\")\n",
    "\n",
    "tooltip = \"Click me!\"\n",
    "\n",
    "#for i in range(len(df_top10_info)):\n",
    "#    folium.Marker(\n",
    "#        [df_top10_info['lat'][i], df_top10_info['lon'][i]], popup=\"<i>Mt. Hood Meadows</i>\", tooltip=tooltip\n",
    "#    ).add_to(m)\n",
    "\n",
    "\n",
    "#m"
   ]
  },
  {
   "cell_type": "markdown",
   "metadata": {},
   "source": [
    "### Число улиц с одним объектом общественного питания\n",
    "\n",
    "Посмотрим теперь на каких улицах всего одно заведение:"
   ]
  },
  {
   "cell_type": "code",
   "execution_count": 23,
   "metadata": {},
   "outputs": [
    {
     "data": {
      "text/plain": [
       "766"
      ]
     },
     "execution_count": 23,
     "metadata": {},
     "output_type": "execute_result"
    }
   ],
   "source": [
    "df_street_cnt_1 = df_street_cnt[df_street_cnt['id'] == 1]\n",
    "len(df_street_cnt_1)"
   ]
  },
  {
   "cell_type": "markdown",
   "metadata": {},
   "source": [
    "Как оказалось таких улиц 766, среди которых как улицы с короткой протяженностью, расположенные в Москве, так и те заведения, которые находятся в московской области.\n",
    "\n",
    "Сгруппируем по району и посмотрим, в каких количество таких улиц наибольшее"
   ]
  },
  {
   "cell_type": "code",
   "execution_count": 24,
   "metadata": {},
   "outputs": [
    {
     "data": {
      "text/html": [
       "<div>\n",
       "<style scoped>\n",
       "    .dataframe tbody tr th:only-of-type {\n",
       "        vertical-align: middle;\n",
       "    }\n",
       "\n",
       "    .dataframe tbody tr th {\n",
       "        vertical-align: top;\n",
       "    }\n",
       "\n",
       "    .dataframe thead th {\n",
       "        text-align: right;\n",
       "    }\n",
       "</style>\n",
       "<table border=\"1\" class=\"dataframe\">\n",
       "  <thead>\n",
       "    <tr style=\"text-align: right;\">\n",
       "      <th></th>\n",
       "      <th>area</th>\n",
       "      <th>streetname</th>\n",
       "    </tr>\n",
       "  </thead>\n",
       "  <tbody>\n",
       "    <tr>\n",
       "      <td>0</td>\n",
       "      <td>Московская область</td>\n",
       "      <td>250</td>\n",
       "    </tr>\n",
       "    <tr>\n",
       "      <td>103</td>\n",
       "      <td>Тверской район</td>\n",
       "      <td>29</td>\n",
       "    </tr>\n",
       "    <tr>\n",
       "      <td>102</td>\n",
       "      <td>Таганский район</td>\n",
       "      <td>25</td>\n",
       "    </tr>\n",
       "    <tr>\n",
       "      <td>19</td>\n",
       "      <td>Пресненский район</td>\n",
       "      <td>22</td>\n",
       "    </tr>\n",
       "    <tr>\n",
       "      <td>87</td>\n",
       "      <td>Район Хамовники</td>\n",
       "      <td>21</td>\n",
       "    </tr>\n",
       "    <tr>\n",
       "      <td>5</td>\n",
       "      <td>Басманный район</td>\n",
       "      <td>21</td>\n",
       "    </tr>\n",
       "    <tr>\n",
       "      <td>20</td>\n",
       "      <td>Район Арбат</td>\n",
       "      <td>15</td>\n",
       "    </tr>\n",
       "    <tr>\n",
       "      <td>37</td>\n",
       "      <td>Район Замоскворечье</td>\n",
       "      <td>13</td>\n",
       "    </tr>\n",
       "    <tr>\n",
       "      <td>85</td>\n",
       "      <td>Район Филевский Парк</td>\n",
       "      <td>10</td>\n",
       "    </tr>\n",
       "    <tr>\n",
       "      <td>61</td>\n",
       "      <td>Район Ново-Переделкино</td>\n",
       "      <td>10</td>\n",
       "    </tr>\n",
       "  </tbody>\n",
       "</table>\n",
       "</div>"
      ],
      "text/plain": [
       "                       area  streetname\n",
       "0        Московская область         250\n",
       "103          Тверской район          29\n",
       "102         Таганский район          25\n",
       "19        Пресненский район          22\n",
       "87          Район Хамовники          21\n",
       "5           Басманный район          21\n",
       "20              Район Арбат          15\n",
       "37      Район Замоскворечье          13\n",
       "85     Район Филевский Парк          10\n",
       "61   Район Ново-Переделкино          10"
      ]
     },
     "execution_count": 24,
     "metadata": {},
     "output_type": "execute_result"
    }
   ],
   "source": [
    "grouped_street1 = df_street_cnt_1.groupby('area')['streetname'].count().reset_index().sort_values(by='streetname', ascending=False)\n",
    "grouped_street1['area'][0] = 'Московская область'\n",
    "grouped_street1.head(10)"
   ]
  },
  {
   "cell_type": "markdown",
   "metadata": {},
   "source": [
    "Несомненным лидером является Московская область, после чего следуют районы, расположенные в инсторическом центре, который несомненно содежит большое количество маленьких улочек. "
   ]
  },
  {
   "cell_type": "markdown",
   "metadata": {},
   "source": [
    "### Число мест на улицах с наибоьшим числом заведений\n",
    "\n",
    "Выявим закономерности распределения заведений на загружанных улицах: посмотрим сколько посадочных мест на этих улицах в среднем и сравним это значение с тем, что присуще остальным заведениям по Москве, построив новый график *boxplot*"
   ]
  },
  {
   "cell_type": "code",
   "execution_count": 27,
   "metadata": {
    "scrolled": true
   },
   "outputs": [
    {
     "data": {
      "image/png": "[encoded data removed]",
      "text/plain": [
       "<Figure size 504x360 with 1 Axes>"
      ]
     },
     "metadata": {
      "needs_background": "light"
     },
     "output_type": "display_data"
    },
    {
     "data": {
      "image/png": "[encoded data removed]",
      "text/plain": [
       "<Figure size 1728x720 with 1 Axes>"
      ]
     },
     "metadata": {
      "needs_background": "light"
     },
     "output_type": "display_data"
    }
   ],
   "source": [
    "plt.figure(\n",
    "    figsize=(7, 5)\n",
    ")\n",
    "sns.boxplot(y='number', data=df) \n",
    "plt.title('Распределение мест для посетителей среди всех районов')\n",
    "plt.ylabel('Среднее число мест')\n",
    "ax = plt.gca()\n",
    "ax.set_ylim([0,270])\n",
    "plt.show()\n",
    "\n",
    "plt.figure(figsize=(24,10))\n",
    "sns.boxplot(data=df[df['streetname'].isin(df_top10_info['streetname'])], x='streetname',y='number')\n",
    "plt.ylim((0,500))\n",
    "plt.show()"
   ]
  },
  {
   "cell_type": "markdown",
   "metadata": {},
   "source": [
    "Итак, в среднем мест в заведениях чуть меньше 50, на представленных же улицах мест немного больше, скорее всего это связанно с высокой проходимостью, а также большим потоком посетителей. \n",
    "\n",
    "**Выводы:**\n",
    "\n",
    "На основе анализа сформировались следующие выводы: наиболее распространенный тип заведения - кафе, он ориентирован на большую аудиторию, а это значит, что он будет притягивать большее число посетителей; как показал график о количестве мест, наиболее приемлемым числом является 40-50 для районов со средней загруженностью и более 50 для улиц с большим количесвтом заведений, это значит, что именно от выбранной локации зависит конечное число посадочных мест; благоприятными будут те районы, которые имеют наибольшую проходимость, так как там поток клиентов выше. \n",
    "\n",
    "Рекомендуется все же начать с одного кафе, объект поместить ближе к центру на одну улицу из топа, количество мест тем самым сделать по возможности 50-60."
   ]
  },
  {
   "cell_type": "markdown",
   "metadata": {},
   "source": [
    "**Презентация:**\n",
    "\n",
    "https://disk.yandex.ru/d/vU2WZ8QUE4Vjew"
   ]
  }
 ],
 "metadata": {
  "ExecuteTimeLog": [
   {
    "duration": 1687,
    "start_time": "2021-12-20T13:43:30.282Z"
   },
   {
    "duration": 6,
    "start_time": "2021-12-20T13:43:35.683Z"
   },
   {
    "duration": 42,
    "start_time": "2021-12-20T13:43:45.663Z"
   },
   {
    "duration": 116,
    "start_time": "2021-12-20T13:44:30.608Z"
   },
   {
    "duration": 16,
    "start_time": "2021-12-20T13:51:07.174Z"
   },
   {
    "duration": 28,
    "start_time": "2021-12-20T13:51:13.562Z"
   },
   {
    "duration": 18,
    "start_time": "2021-12-20T13:51:20.482Z"
   },
   {
    "duration": 18,
    "start_time": "2021-12-20T13:51:59.375Z"
   },
   {
    "duration": 12,
    "start_time": "2021-12-20T13:52:21.141Z"
   },
   {
    "duration": 9,
    "start_time": "2021-12-20T13:56:15.186Z"
   },
   {
    "duration": 411,
    "start_time": "2021-12-20T14:04:02.997Z"
   },
   {
    "duration": 9,
    "start_time": "2021-12-20T14:04:27.521Z"
   },
   {
    "duration": 14,
    "start_time": "2021-12-20T14:04:33.856Z"
   },
   {
    "duration": 6,
    "start_time": "2021-12-20T14:04:41.774Z"
   },
   {
    "duration": 18,
    "start_time": "2021-12-20T14:10:11.123Z"
   },
   {
    "duration": 13,
    "start_time": "2021-12-20T14:10:33.376Z"
   },
   {
    "duration": 8,
    "start_time": "2021-12-20T14:11:07.410Z"
   },
   {
    "duration": 19,
    "start_time": "2021-12-20T14:11:12.668Z"
   },
   {
    "duration": 19,
    "start_time": "2021-12-20T14:11:57.021Z"
   },
   {
    "duration": 16,
    "start_time": "2021-12-20T14:12:02.381Z"
   },
   {
    "duration": 21,
    "start_time": "2021-12-20T14:12:07.042Z"
   },
   {
    "duration": 22,
    "start_time": "2021-12-20T14:12:13.654Z"
   },
   {
    "duration": 10,
    "start_time": "2021-12-20T14:12:53.258Z"
   },
   {
    "duration": 12,
    "start_time": "2021-12-20T14:12:58.145Z"
   },
   {
    "duration": 9,
    "start_time": "2021-12-20T14:13:01.879Z"
   },
   {
    "duration": 433,
    "start_time": "2021-12-20T14:14:51.665Z"
   },
   {
    "duration": 390,
    "start_time": "2021-12-20T14:15:19.791Z"
   },
   {
    "duration": 405,
    "start_time": "2021-12-20T14:15:30.374Z"
   },
   {
    "duration": 703,
    "start_time": "2021-12-20T14:15:49.136Z"
   },
   {
    "duration": 604,
    "start_time": "2021-12-20T14:16:02.370Z"
   },
   {
    "duration": 583,
    "start_time": "2021-12-20T14:16:08.844Z"
   },
   {
    "duration": 573,
    "start_time": "2021-12-20T14:17:15.750Z"
   },
   {
    "duration": 296,
    "start_time": "2021-12-20T14:19:03.914Z"
   },
   {
    "duration": 512,
    "start_time": "2021-12-20T14:19:27.224Z"
   },
   {
    "duration": 645,
    "start_time": "2021-12-20T14:19:45.849Z"
   },
   {
    "duration": 365,
    "start_time": "2021-12-20T14:19:57.640Z"
   },
   {
    "duration": 321,
    "start_time": "2021-12-22T05:47:40.975Z"
   },
   {
    "duration": 1417,
    "start_time": "2021-12-22T05:47:46.198Z"
   },
   {
    "duration": 53,
    "start_time": "2021-12-22T05:47:47.617Z"
   },
   {
    "duration": 17,
    "start_time": "2021-12-22T05:47:47.673Z"
   },
   {
    "duration": 7,
    "start_time": "2021-12-22T05:47:47.692Z"
   },
   {
    "duration": 7236,
    "start_time": "2021-12-22T05:47:47.702Z"
   },
   {
    "duration": -53,
    "start_time": "2021-12-22T05:47:54.994Z"
   },
   {
    "duration": 15,
    "start_time": "2021-12-22T05:48:38.957Z"
   },
   {
    "duration": 427,
    "start_time": "2021-12-22T05:48:40.989Z"
   },
   {
    "duration": 605,
    "start_time": "2021-12-22T05:51:01.992Z"
   },
   {
    "duration": 932,
    "start_time": "2021-12-22T05:51:06.727Z"
   },
   {
    "duration": 1537,
    "start_time": "2021-12-22T05:51:14.476Z"
   },
   {
    "duration": 41,
    "start_time": "2021-12-22T05:51:16.015Z"
   },
   {
    "duration": 18,
    "start_time": "2021-12-22T05:51:16.067Z"
   },
   {
    "duration": 7,
    "start_time": "2021-12-22T05:51:16.087Z"
   },
   {
    "duration": 11,
    "start_time": "2021-12-22T05:51:16.096Z"
   },
   {
    "duration": 470,
    "start_time": "2021-12-22T05:51:16.109Z"
   },
   {
    "duration": 1459,
    "start_time": "2021-12-22T05:51:38.045Z"
   },
   {
    "duration": 43,
    "start_time": "2021-12-22T05:51:39.508Z"
   },
   {
    "duration": 21,
    "start_time": "2021-12-22T05:51:39.568Z"
   },
   {
    "duration": 8,
    "start_time": "2021-12-22T05:51:39.592Z"
   },
   {
    "duration": 476,
    "start_time": "2021-12-22T05:51:39.603Z"
   },
   {
    "duration": 1485,
    "start_time": "2021-12-22T05:52:40.268Z"
   },
   {
    "duration": 40,
    "start_time": "2021-12-22T05:52:41.756Z"
   },
   {
    "duration": 18,
    "start_time": "2021-12-22T05:52:41.799Z"
   },
   {
    "duration": 7,
    "start_time": "2021-12-22T05:52:41.819Z"
   },
   {
    "duration": 468,
    "start_time": "2021-12-22T05:52:41.828Z"
   },
   {
    "duration": 12,
    "start_time": "2021-12-22T05:58:37.768Z"
   },
   {
    "duration": 18,
    "start_time": "2021-12-22T05:58:42.030Z"
   },
   {
    "duration": 346,
    "start_time": "2021-12-22T06:00:18.457Z"
   },
   {
    "duration": 1452,
    "start_time": "2021-12-22T06:06:43.346Z"
   },
   {
    "duration": 40,
    "start_time": "2021-12-22T06:06:44.801Z"
   },
   {
    "duration": 35,
    "start_time": "2021-12-22T06:06:44.844Z"
   },
   {
    "duration": 8,
    "start_time": "2021-12-22T06:06:44.882Z"
   },
   {
    "duration": 461,
    "start_time": "2021-12-22T06:06:44.892Z"
   },
   {
    "duration": 354,
    "start_time": "2021-12-22T06:06:45.355Z"
   },
   {
    "duration": 10,
    "start_time": "2021-12-22T06:29:23.255Z"
   },
   {
    "duration": 13,
    "start_time": "2021-12-22T06:30:08.255Z"
   },
   {
    "duration": 441,
    "start_time": "2021-12-22T06:30:43.947Z"
   },
   {
    "duration": 14,
    "start_time": "2021-12-22T06:30:53.015Z"
   },
   {
    "duration": 56,
    "start_time": "2021-12-22T06:32:26.548Z"
   },
   {
    "duration": 71,
    "start_time": "2021-12-22T06:32:33.971Z"
   },
   {
    "duration": 29,
    "start_time": "2021-12-22T06:32:48.383Z"
   },
   {
    "duration": 353,
    "start_time": "2021-12-22T06:33:42.450Z"
   },
   {
    "duration": 340,
    "start_time": "2021-12-22T06:33:48.192Z"
   },
   {
    "duration": 510,
    "start_time": "2021-12-22T06:33:53.264Z"
   },
   {
    "duration": 26,
    "start_time": "2021-12-22T06:34:23.039Z"
   },
   {
    "duration": 1415,
    "start_time": "2021-12-22T06:49:18.089Z"
   },
   {
    "duration": 41,
    "start_time": "2021-12-22T06:49:19.507Z"
   },
   {
    "duration": 31,
    "start_time": "2021-12-22T06:49:19.551Z"
   },
   {
    "duration": 6,
    "start_time": "2021-12-22T06:49:19.585Z"
   },
   {
    "duration": 641,
    "start_time": "2021-12-22T06:49:19.594Z"
   },
   {
    "duration": 477,
    "start_time": "2021-12-22T06:49:20.238Z"
   },
   {
    "duration": 51,
    "start_time": "2021-12-22T06:49:20.718Z"
   },
   {
    "duration": 23,
    "start_time": "2021-12-22T06:49:52.104Z"
   },
   {
    "duration": 23,
    "start_time": "2021-12-22T06:56:25.480Z"
   },
   {
    "duration": 465,
    "start_time": "2021-12-22T06:57:26.429Z"
   },
   {
    "duration": 1237,
    "start_time": "2021-12-22T06:57:34.128Z"
   },
   {
    "duration": 109,
    "start_time": "2021-12-22T07:00:12.340Z"
   },
   {
    "duration": 6,
    "start_time": "2021-12-22T07:00:20.040Z"
   },
   {
    "duration": 1606,
    "start_time": "2021-12-22T08:45:41.745Z"
   },
   {
    "duration": 57,
    "start_time": "2021-12-22T08:45:43.353Z"
   },
   {
    "duration": 26,
    "start_time": "2021-12-22T08:45:43.415Z"
   },
   {
    "duration": 26,
    "start_time": "2021-12-22T08:45:43.445Z"
   },
   {
    "duration": 488,
    "start_time": "2021-12-22T08:45:43.475Z"
   },
   {
    "duration": 373,
    "start_time": "2021-12-22T08:45:43.967Z"
   },
   {
    "duration": 37,
    "start_time": "2021-12-22T08:45:44.344Z"
   },
   {
    "duration": 7,
    "start_time": "2021-12-22T08:45:44.385Z"
   },
   {
    "duration": 61,
    "start_time": "2021-12-22T08:51:32.091Z"
   },
   {
    "duration": 55,
    "start_time": "2021-12-22T08:52:38.348Z"
   },
   {
    "duration": 418,
    "start_time": "2021-12-22T08:58:59.849Z"
   },
   {
    "duration": 810,
    "start_time": "2021-12-22T08:59:29.031Z"
   },
   {
    "duration": 1868,
    "start_time": "2021-12-22T08:59:41.607Z"
   },
   {
    "duration": 41,
    "start_time": "2021-12-22T08:59:43.477Z"
   },
   {
    "duration": 18,
    "start_time": "2021-12-22T08:59:43.521Z"
   },
   {
    "duration": 12,
    "start_time": "2021-12-22T08:59:43.567Z"
   },
   {
    "duration": 483,
    "start_time": "2021-12-22T08:59:43.584Z"
   },
   {
    "duration": 374,
    "start_time": "2021-12-22T08:59:44.069Z"
   },
   {
    "duration": 42,
    "start_time": "2021-12-22T08:59:44.445Z"
   },
   {
    "duration": 755,
    "start_time": "2021-12-22T08:59:44.489Z"
   },
   {
    "duration": 613,
    "start_time": "2021-12-22T09:00:42.684Z"
   },
   {
    "duration": 22,
    "start_time": "2021-12-22T09:00:47.275Z"
   },
   {
    "duration": 15,
    "start_time": "2021-12-22T09:02:52.939Z"
   },
   {
    "duration": 20,
    "start_time": "2021-12-22T09:02:58.839Z"
   },
   {
    "duration": 25,
    "start_time": "2021-12-22T09:07:14.015Z"
   },
   {
    "duration": 1647,
    "start_time": "2021-12-22T09:10:55.981Z"
   },
   {
    "duration": 52,
    "start_time": "2021-12-22T09:10:57.631Z"
   },
   {
    "duration": 17,
    "start_time": "2021-12-22T09:10:57.686Z"
   },
   {
    "duration": 7,
    "start_time": "2021-12-22T09:10:57.706Z"
   },
   {
    "duration": 478,
    "start_time": "2021-12-22T09:10:57.716Z"
   },
   {
    "duration": 359,
    "start_time": "2021-12-22T09:10:58.196Z"
   },
   {
    "duration": 34,
    "start_time": "2021-12-22T09:10:58.557Z"
   },
   {
    "duration": 692,
    "start_time": "2021-12-22T09:10:58.594Z"
   },
   {
    "duration": 226,
    "start_time": "2021-12-22T09:11:21.137Z"
   },
   {
    "duration": 254,
    "start_time": "2021-12-22T09:11:46.071Z"
   },
   {
    "duration": 226,
    "start_time": "2021-12-22T09:13:05.433Z"
   },
   {
    "duration": 512,
    "start_time": "2021-12-22T09:14:58.789Z"
   },
   {
    "duration": 222,
    "start_time": "2021-12-22T09:15:17.310Z"
   },
   {
    "duration": 313,
    "start_time": "2021-12-22T09:15:26.568Z"
   },
   {
    "duration": 222,
    "start_time": "2021-12-22T09:16:45.838Z"
   },
   {
    "duration": 239,
    "start_time": "2021-12-22T09:17:00.577Z"
   },
   {
    "duration": 227,
    "start_time": "2021-12-22T09:17:09.558Z"
   },
   {
    "duration": 239,
    "start_time": "2021-12-22T09:17:25.428Z"
   },
   {
    "duration": 379,
    "start_time": "2021-12-22T09:20:49.606Z"
   },
   {
    "duration": 421,
    "start_time": "2021-12-22T09:21:05.636Z"
   },
   {
    "duration": 306,
    "start_time": "2021-12-22T09:24:17.890Z"
   },
   {
    "duration": 264,
    "start_time": "2021-12-22T09:24:25.697Z"
   },
   {
    "duration": 330,
    "start_time": "2021-12-22T09:25:08.851Z"
   },
   {
    "duration": 337,
    "start_time": "2021-12-22T09:25:14.979Z"
   },
   {
    "duration": 290,
    "start_time": "2021-12-22T09:25:18.438Z"
   },
   {
    "duration": 305,
    "start_time": "2021-12-22T09:25:27.315Z"
   },
   {
    "duration": 434,
    "start_time": "2021-12-22T09:26:03.646Z"
   },
   {
    "duration": 332,
    "start_time": "2021-12-22T09:27:30.585Z"
   },
   {
    "duration": 620,
    "start_time": "2021-12-22T09:30:11.562Z"
   },
   {
    "duration": 312,
    "start_time": "2021-12-22T09:30:36.533Z"
   },
   {
    "duration": 427,
    "start_time": "2021-12-22T09:30:48.745Z"
   },
   {
    "duration": 401,
    "start_time": "2021-12-22T09:31:11.066Z"
   },
   {
    "duration": 231,
    "start_time": "2021-12-22T09:31:36.954Z"
   },
   {
    "duration": 235,
    "start_time": "2021-12-22T09:31:45.530Z"
   },
   {
    "duration": 243,
    "start_time": "2021-12-22T09:31:53.734Z"
   },
   {
    "duration": 465,
    "start_time": "2021-12-22T09:33:42.057Z"
   },
   {
    "duration": 464,
    "start_time": "2021-12-22T09:33:51.427Z"
   },
   {
    "duration": 571,
    "start_time": "2021-12-22T09:39:28.812Z"
   },
   {
    "duration": 516,
    "start_time": "2021-12-22T09:40:15.026Z"
   },
   {
    "duration": 2164,
    "start_time": "2021-12-22T09:46:54.839Z"
   },
   {
    "duration": 42,
    "start_time": "2021-12-22T09:46:57.005Z"
   },
   {
    "duration": 33,
    "start_time": "2021-12-22T09:46:57.050Z"
   },
   {
    "duration": 7,
    "start_time": "2021-12-22T09:46:57.086Z"
   },
   {
    "duration": 464,
    "start_time": "2021-12-22T09:46:57.096Z"
   },
   {
    "duration": 342,
    "start_time": "2021-12-22T09:46:57.566Z"
   },
   {
    "duration": 29,
    "start_time": "2021-12-22T09:46:57.912Z"
   },
   {
    "duration": 279,
    "start_time": "2021-12-22T09:46:57.945Z"
   },
   {
    "duration": 265,
    "start_time": "2021-12-22T09:46:58.229Z"
   },
   {
    "duration": 430,
    "start_time": "2021-12-22T09:46:58.497Z"
   },
   {
    "duration": 32628,
    "start_time": "2021-12-22T09:46:58.930Z"
   },
   {
    "duration": -40,
    "start_time": "2021-12-22T09:47:31.602Z"
   },
   {
    "duration": 1588,
    "start_time": "2021-12-22T09:47:41.740Z"
   },
   {
    "duration": 51,
    "start_time": "2021-12-22T09:47:43.331Z"
   },
   {
    "duration": 19,
    "start_time": "2021-12-22T09:47:43.385Z"
   },
   {
    "duration": 8,
    "start_time": "2021-12-22T09:47:43.408Z"
   },
   {
    "duration": 631,
    "start_time": "2021-12-22T09:47:43.419Z"
   },
   {
    "duration": 453,
    "start_time": "2021-12-22T09:47:44.053Z"
   },
   {
    "duration": 37,
    "start_time": "2021-12-22T09:47:44.509Z"
   },
   {
    "duration": 341,
    "start_time": "2021-12-22T09:47:44.568Z"
   },
   {
    "duration": 270,
    "start_time": "2021-12-22T09:47:44.914Z"
   },
   {
    "duration": 443,
    "start_time": "2021-12-22T09:47:45.186Z"
   },
   {
    "duration": 35,
    "start_time": "2021-12-22T09:47:45.632Z"
   },
   {
    "duration": 1369,
    "start_time": "2021-12-22T09:48:29.531Z"
   },
   {
    "duration": 290,
    "start_time": "2021-12-22T09:48:53.437Z"
   },
   {
    "duration": 535,
    "start_time": "2021-12-22T09:49:10.867Z"
   },
   {
    "duration": 606,
    "start_time": "2021-12-22T09:49:17.023Z"
   },
   {
    "duration": -25,
    "start_time": "2021-12-22T09:50:01.067Z"
   },
   {
    "duration": 665,
    "start_time": "2021-12-22T09:50:04.805Z"
   },
   {
    "duration": -20,
    "start_time": "2021-12-22T09:51:09.999Z"
   },
   {
    "duration": 1616,
    "start_time": "2021-12-22T09:51:18.160Z"
   },
   {
    "duration": 43,
    "start_time": "2021-12-22T09:51:19.779Z"
   },
   {
    "duration": 47,
    "start_time": "2021-12-22T09:51:19.826Z"
   },
   {
    "duration": 7,
    "start_time": "2021-12-22T09:51:19.876Z"
   },
   {
    "duration": 489,
    "start_time": "2021-12-22T09:51:19.886Z"
   },
   {
    "duration": 370,
    "start_time": "2021-12-22T09:51:20.377Z"
   },
   {
    "duration": 38,
    "start_time": "2021-12-22T09:51:20.749Z"
   },
   {
    "duration": 294,
    "start_time": "2021-12-22T09:51:20.791Z"
   },
   {
    "duration": 242,
    "start_time": "2021-12-22T09:51:21.088Z"
   },
   {
    "duration": 492,
    "start_time": "2021-12-22T09:51:21.333Z"
   },
   {
    "duration": 47,
    "start_time": "2021-12-22T09:51:21.829Z"
   },
   {
    "duration": 32,
    "start_time": "2021-12-22T09:52:22.010Z"
   },
   {
    "duration": 2147,
    "start_time": "2021-12-22T09:52:39.220Z"
   },
   {
    "duration": 61,
    "start_time": "2021-12-22T09:52:41.371Z"
   },
   {
    "duration": 41,
    "start_time": "2021-12-22T09:52:41.436Z"
   },
   {
    "duration": 6,
    "start_time": "2021-12-22T09:52:41.481Z"
   },
   {
    "duration": 457,
    "start_time": "2021-12-22T09:52:41.490Z"
   },
   {
    "duration": 345,
    "start_time": "2021-12-22T09:52:41.949Z"
   },
   {
    "duration": 27,
    "start_time": "2021-12-22T09:52:42.297Z"
   },
   {
    "duration": 302,
    "start_time": "2021-12-22T09:52:42.327Z"
   },
   {
    "duration": 227,
    "start_time": "2021-12-22T09:52:42.632Z"
   },
   {
    "duration": 443,
    "start_time": "2021-12-22T09:52:42.862Z"
   },
   {
    "duration": 32,
    "start_time": "2021-12-22T09:52:43.308Z"
   },
   {
    "duration": 10,
    "start_time": "2021-12-22T09:53:37.910Z"
   },
   {
    "duration": 470,
    "start_time": "2021-12-22T09:54:20.705Z"
   },
   {
    "duration": 16,
    "start_time": "2021-12-22T09:54:34.793Z"
   },
   {
    "duration": 440,
    "start_time": "2021-12-22T09:56:01.843Z"
   },
   {
    "duration": 7238,
    "start_time": "2021-12-22T09:58:29.422Z"
   },
   {
    "duration": 8,
    "start_time": "2021-12-22T09:58:52.022Z"
   },
   {
    "duration": 15,
    "start_time": "2021-12-22T09:59:14.695Z"
   },
   {
    "duration": 4645,
    "start_time": "2021-12-22T10:01:14.304Z"
   },
   {
    "duration": 4114,
    "start_time": "2021-12-22T10:03:09.622Z"
   },
   {
    "duration": 4145,
    "start_time": "2021-12-22T10:03:54.951Z"
   },
   {
    "duration": 5203,
    "start_time": "2021-12-22T10:04:07.304Z"
   },
   {
    "duration": 1657,
    "start_time": "2021-12-22T10:04:18.465Z"
   },
   {
    "duration": 57,
    "start_time": "2021-12-22T10:04:20.124Z"
   },
   {
    "duration": 18,
    "start_time": "2021-12-22T10:04:20.185Z"
   },
   {
    "duration": 9,
    "start_time": "2021-12-22T10:04:20.206Z"
   },
   {
    "duration": 486,
    "start_time": "2021-12-22T10:04:20.218Z"
   },
   {
    "duration": 346,
    "start_time": "2021-12-22T10:04:20.707Z"
   },
   {
    "duration": 36,
    "start_time": "2021-12-22T10:04:21.056Z"
   },
   {
    "duration": 267,
    "start_time": "2021-12-22T10:04:21.096Z"
   },
   {
    "duration": 230,
    "start_time": "2021-12-22T10:04:21.368Z"
   },
   {
    "duration": 580,
    "start_time": "2021-12-22T10:04:21.600Z"
   },
   {
    "duration": 654,
    "start_time": "2021-12-22T10:04:22.183Z"
   },
   {
    "duration": 4359,
    "start_time": "2021-12-22T10:04:22.841Z"
   },
   {
    "duration": 16,
    "start_time": "2021-12-22T10:08:40.633Z"
   },
   {
    "duration": 20,
    "start_time": "2021-12-22T10:08:45.441Z"
   },
   {
    "duration": 408,
    "start_time": "2021-12-22T10:11:06.284Z"
   },
   {
    "duration": 4403,
    "start_time": "2021-12-22T10:11:52.948Z"
   },
   {
    "duration": 26,
    "start_time": "2021-12-22T10:11:58.990Z"
   },
   {
    "duration": 590,
    "start_time": "2021-12-22T10:15:23.400Z"
   },
   {
    "duration": 21,
    "start_time": "2021-12-22T10:20:22.307Z"
   },
   {
    "duration": 551,
    "start_time": "2021-12-22T10:25:38.101Z"
   },
   {
    "duration": 11,
    "start_time": "2021-12-22T10:25:47.538Z"
   },
   {
    "duration": 1823,
    "start_time": "2021-12-22T10:30:14.085Z"
   },
   {
    "duration": 55,
    "start_time": "2021-12-22T10:30:15.912Z"
   },
   {
    "duration": 20,
    "start_time": "2021-12-22T10:30:15.972Z"
   },
   {
    "duration": 8,
    "start_time": "2021-12-22T10:30:15.996Z"
   },
   {
    "duration": 683,
    "start_time": "2021-12-22T10:30:16.006Z"
   },
   {
    "duration": 341,
    "start_time": "2021-12-22T10:30:16.691Z"
   },
   {
    "duration": 41,
    "start_time": "2021-12-22T10:30:17.034Z"
   },
   {
    "duration": 276,
    "start_time": "2021-12-22T10:30:17.077Z"
   },
   {
    "duration": 237,
    "start_time": "2021-12-22T10:30:17.357Z"
   },
   {
    "duration": 440,
    "start_time": "2021-12-22T10:30:17.596Z"
   },
   {
    "duration": 441,
    "start_time": "2021-12-22T10:30:18.039Z"
   },
   {
    "duration": 4555,
    "start_time": "2021-12-22T10:30:18.482Z"
   },
   {
    "duration": 494,
    "start_time": "2021-12-22T10:30:23.040Z"
   },
   {
    "duration": 36,
    "start_time": "2021-12-22T10:30:23.538Z"
   },
   {
    "duration": 11,
    "start_time": "2021-12-22T10:30:23.577Z"
   },
   {
    "duration": 1659,
    "start_time": "2021-12-28T17:47:07.808Z"
   },
   {
    "duration": 54,
    "start_time": "2021-12-28T17:47:09.471Z"
   },
   {
    "duration": 16,
    "start_time": "2021-12-28T17:47:09.528Z"
   },
   {
    "duration": 6,
    "start_time": "2021-12-28T17:47:09.547Z"
   },
   {
    "duration": 447,
    "start_time": "2021-12-28T17:47:09.556Z"
   },
   {
    "duration": 347,
    "start_time": "2021-12-28T17:47:10.006Z"
   },
   {
    "duration": 29,
    "start_time": "2021-12-28T17:47:10.355Z"
   },
   {
    "duration": 251,
    "start_time": "2021-12-28T17:47:10.389Z"
   },
   {
    "duration": 226,
    "start_time": "2021-12-28T17:47:10.643Z"
   },
   {
    "duration": 453,
    "start_time": "2021-12-28T17:47:10.872Z"
   },
   {
    "duration": 418,
    "start_time": "2021-12-28T17:47:11.327Z"
   },
   {
    "duration": 3940,
    "start_time": "2021-12-28T17:47:11.748Z"
   },
   {
    "duration": 433,
    "start_time": "2021-12-28T17:47:15.690Z"
   },
   {
    "duration": 16,
    "start_time": "2021-12-28T17:47:16.125Z"
   },
   {
    "duration": 14,
    "start_time": "2021-12-28T17:47:16.143Z"
   },
   {
    "duration": 283,
    "start_time": "2021-12-28T18:54:16.588Z"
   },
   {
    "duration": 210,
    "start_time": "2021-12-28T18:55:01.078Z"
   },
   {
    "duration": 1441,
    "start_time": "2021-12-28T18:59:23.800Z"
   },
   {
    "duration": 38,
    "start_time": "2021-12-28T18:59:25.246Z"
   },
   {
    "duration": 36,
    "start_time": "2021-12-28T18:59:25.288Z"
   },
   {
    "duration": 6,
    "start_time": "2021-12-28T18:59:25.327Z"
   },
   {
    "duration": 459,
    "start_time": "2021-12-28T18:59:25.336Z"
   },
   {
    "duration": 337,
    "start_time": "2021-12-28T18:59:25.797Z"
   },
   {
    "duration": 25,
    "start_time": "2021-12-28T18:59:26.136Z"
   },
   {
    "duration": 233,
    "start_time": "2021-12-28T18:59:26.165Z"
   },
   {
    "duration": 225,
    "start_time": "2021-12-28T18:59:26.400Z"
   },
   {
    "duration": 448,
    "start_time": "2021-12-28T18:59:26.628Z"
   },
   {
    "duration": 415,
    "start_time": "2021-12-28T18:59:27.079Z"
   },
   {
    "duration": 3985,
    "start_time": "2021-12-28T18:59:27.498Z"
   },
   {
    "duration": 438,
    "start_time": "2021-12-28T18:59:31.486Z"
   },
   {
    "duration": 18,
    "start_time": "2021-12-28T18:59:31.926Z"
   },
   {
    "duration": 320,
    "start_time": "2021-12-28T18:59:31.947Z"
   },
   {
    "duration": 11,
    "start_time": "2021-12-28T18:59:32.270Z"
   },
   {
    "duration": 1383,
    "start_time": "2021-12-28T19:00:32.941Z"
   },
   {
    "duration": 35,
    "start_time": "2021-12-28T19:00:34.327Z"
   },
   {
    "duration": 16,
    "start_time": "2021-12-28T19:00:34.365Z"
   },
   {
    "duration": 22,
    "start_time": "2021-12-28T19:00:34.383Z"
   },
   {
    "duration": 430,
    "start_time": "2021-12-28T19:00:34.407Z"
   },
   {
    "duration": 308,
    "start_time": "2021-12-28T19:00:34.840Z"
   },
   {
    "duration": 26,
    "start_time": "2021-12-28T19:00:35.150Z"
   },
   {
    "duration": 245,
    "start_time": "2021-12-28T19:00:35.180Z"
   },
   {
    "duration": 217,
    "start_time": "2021-12-28T19:00:35.428Z"
   },
   {
    "duration": 398,
    "start_time": "2021-12-28T19:00:35.648Z"
   },
   {
    "duration": 386,
    "start_time": "2021-12-28T19:00:36.049Z"
   },
   {
    "duration": 3939,
    "start_time": "2021-12-28T19:00:36.437Z"
   },
   {
    "duration": 433,
    "start_time": "2021-12-28T19:00:40.378Z"
   },
   {
    "duration": 18,
    "start_time": "2021-12-28T19:00:40.813Z"
   },
   {
    "duration": 303,
    "start_time": "2021-12-28T19:00:40.834Z"
   },
   {
    "duration": 10,
    "start_time": "2021-12-28T19:00:41.140Z"
   },
   {
    "duration": 1262,
    "start_time": "2021-12-29T07:40:03.466Z"
   },
   {
    "duration": 28,
    "start_time": "2021-12-29T07:40:08.391Z"
   },
   {
    "duration": 508,
    "start_time": "2021-12-29T07:47:39.978Z"
   },
   {
    "duration": 21,
    "start_time": "2021-12-29T07:49:43.724Z"
   },
   {
    "duration": 18,
    "start_time": "2021-12-29T07:50:34.874Z"
   },
   {
    "duration": 23,
    "start_time": "2021-12-29T07:51:19.966Z"
   },
   {
    "duration": 13,
    "start_time": "2021-12-29T07:51:39.866Z"
   },
   {
    "duration": 21,
    "start_time": "2021-12-29T07:51:42.109Z"
   },
   {
    "duration": 16,
    "start_time": "2021-12-29T07:52:01.024Z"
   },
   {
    "duration": 17,
    "start_time": "2021-12-29T07:52:04.661Z"
   },
   {
    "duration": 4,
    "start_time": "2021-12-29T08:04:41.340Z"
   },
   {
    "duration": 4,
    "start_time": "2021-12-29T08:05:55.554Z"
   },
   {
    "duration": 6,
    "start_time": "2021-12-29T08:05:59.966Z"
   },
   {
    "duration": 365,
    "start_time": "2021-12-29T08:06:49.939Z"
   },
   {
    "duration": 375,
    "start_time": "2021-12-29T08:07:26.702Z"
   },
   {
    "duration": 424,
    "start_time": "2021-12-29T08:07:38.117Z"
   },
   {
    "duration": 349,
    "start_time": "2021-12-29T08:08:15.874Z"
   },
   {
    "duration": 2431,
    "start_time": "2021-12-29T08:08:33.020Z"
   },
   {
    "duration": 74,
    "start_time": "2021-12-29T08:08:52.865Z"
   },
   {
    "duration": 2514,
    "start_time": "2021-12-29T08:09:00.878Z"
   },
   {
    "duration": 2452,
    "start_time": "2021-12-29T08:09:20.795Z"
   },
   {
    "duration": 95,
    "start_time": "2021-12-29T08:09:46.153Z"
   },
   {
    "duration": 5700,
    "start_time": "2021-12-29T08:10:12.334Z"
   },
   {
    "duration": 2491,
    "start_time": "2021-12-29T08:12:50.786Z"
   },
   {
    "duration": 67,
    "start_time": "2021-12-29T08:13:13.734Z"
   },
   {
    "duration": 5186,
    "start_time": "2021-12-29T08:18:55.394Z"
   },
   {
    "duration": 4712,
    "start_time": "2021-12-29T08:21:05.822Z"
   },
   {
    "duration": 4505,
    "start_time": "2021-12-29T08:21:13.678Z"
   },
   {
    "duration": 4506,
    "start_time": "2021-12-29T08:21:29.493Z"
   },
   {
    "duration": 4790,
    "start_time": "2021-12-29T08:21:37.938Z"
   },
   {
    "duration": 4592,
    "start_time": "2021-12-29T08:23:57.227Z"
   },
   {
    "duration": 4631,
    "start_time": "2021-12-29T08:24:44.638Z"
   },
   {
    "duration": 4803,
    "start_time": "2021-12-29T08:27:28.627Z"
   },
   {
    "duration": 4597,
    "start_time": "2021-12-29T08:27:39.040Z"
   },
   {
    "duration": 4638,
    "start_time": "2021-12-29T08:27:46.837Z"
   },
   {
    "duration": 402,
    "start_time": "2021-12-29T08:28:14.959Z"
   },
   {
    "duration": 468,
    "start_time": "2021-12-29T08:31:10.352Z"
   },
   {
    "duration": 1190,
    "start_time": "2021-12-29T08:31:29.432Z"
   },
   {
    "duration": 27,
    "start_time": "2021-12-29T08:31:30.623Z"
   },
   {
    "duration": 12,
    "start_time": "2021-12-29T08:31:30.652Z"
   },
   {
    "duration": 512,
    "start_time": "2021-12-29T08:31:30.666Z"
   },
   {
    "duration": -12,
    "start_time": "2021-12-29T08:31:31.192Z"
   },
   {
    "duration": -20,
    "start_time": "2021-12-29T08:31:31.201Z"
   },
   {
    "duration": -25,
    "start_time": "2021-12-29T08:31:31.207Z"
   },
   {
    "duration": -28,
    "start_time": "2021-12-29T08:31:31.211Z"
   },
   {
    "duration": -36,
    "start_time": "2021-12-29T08:31:31.220Z"
   },
   {
    "duration": -38,
    "start_time": "2021-12-29T08:31:31.223Z"
   },
   {
    "duration": -41,
    "start_time": "2021-12-29T08:31:31.227Z"
   },
   {
    "duration": -49,
    "start_time": "2021-12-29T08:31:31.235Z"
   },
   {
    "duration": -52,
    "start_time": "2021-12-29T08:31:31.239Z"
   },
   {
    "duration": -55,
    "start_time": "2021-12-29T08:31:31.243Z"
   },
   {
    "duration": -64,
    "start_time": "2021-12-29T08:31:31.253Z"
   },
   {
    "duration": -66,
    "start_time": "2021-12-29T08:31:31.256Z"
   },
   {
    "duration": -70,
    "start_time": "2021-12-29T08:31:31.261Z"
   },
   {
    "duration": 4667,
    "start_time": "2021-12-29T08:32:03.576Z"
   },
   {
    "duration": 4782,
    "start_time": "2021-12-29T08:32:31.072Z"
   },
   {
    "duration": 4786,
    "start_time": "2021-12-29T08:32:39.836Z"
   },
   {
    "duration": 4823,
    "start_time": "2021-12-29T08:35:47.385Z"
   },
   {
    "duration": 5379,
    "start_time": "2021-12-29T08:35:55.708Z"
   },
   {
    "duration": 4722,
    "start_time": "2021-12-29T08:36:29.722Z"
   },
   {
    "duration": 5478,
    "start_time": "2021-12-29T08:37:00.711Z"
   },
   {
    "duration": 5058,
    "start_time": "2021-12-29T08:37:07.242Z"
   },
   {
    "duration": 5093,
    "start_time": "2021-12-29T08:37:16.671Z"
   },
   {
    "duration": 5123,
    "start_time": "2021-12-29T08:37:58.840Z"
   },
   {
    "duration": 5056,
    "start_time": "2021-12-29T08:38:10.198Z"
   },
   {
    "duration": 418,
    "start_time": "2021-12-29T08:46:08.282Z"
   },
   {
    "duration": 4716,
    "start_time": "2021-12-29T08:46:35.953Z"
   },
   {
    "duration": 4962,
    "start_time": "2021-12-29T08:46:49.266Z"
   },
   {
    "duration": 363,
    "start_time": "2021-12-29T08:50:56.492Z"
   },
   {
    "duration": 5444,
    "start_time": "2021-12-29T08:51:12.427Z"
   },
   {
    "duration": 4889,
    "start_time": "2021-12-29T08:51:21.733Z"
   },
   {
    "duration": 4809,
    "start_time": "2021-12-29T08:51:34.430Z"
   },
   {
    "duration": 4432,
    "start_time": "2021-12-29T08:58:05.295Z"
   },
   {
    "duration": 4465,
    "start_time": "2021-12-29T08:58:25.234Z"
   },
   {
    "duration": 4471,
    "start_time": "2021-12-29T09:01:29.437Z"
   },
   {
    "duration": 8950,
    "start_time": "2021-12-29T09:01:39.228Z"
   },
   {
    "duration": 8773,
    "start_time": "2021-12-29T09:06:06.871Z"
   },
   {
    "duration": 8877,
    "start_time": "2021-12-29T09:07:09.374Z"
   },
   {
    "duration": 1257,
    "start_time": "2021-12-29T09:07:30.649Z"
   },
   {
    "duration": 26,
    "start_time": "2021-12-29T09:07:31.907Z"
   },
   {
    "duration": 12,
    "start_time": "2021-12-29T09:07:31.935Z"
   },
   {
    "duration": 4582,
    "start_time": "2021-12-29T09:07:31.949Z"
   },
   {
    "duration": 5,
    "start_time": "2021-12-29T09:07:36.532Z"
   },
   {
    "duration": 248,
    "start_time": "2021-12-29T09:07:36.539Z"
   },
   {
    "duration": 195,
    "start_time": "2021-12-29T09:07:36.789Z"
   },
   {
    "duration": 15,
    "start_time": "2021-12-29T09:07:36.987Z"
   },
   {
    "duration": 150,
    "start_time": "2021-12-29T09:07:37.003Z"
   },
   {
    "duration": 128,
    "start_time": "2021-12-29T09:07:37.154Z"
   },
   {
    "duration": 286,
    "start_time": "2021-12-29T09:07:37.283Z"
   },
   {
    "duration": 251,
    "start_time": "2021-12-29T09:07:37.571Z"
   },
   {
    "duration": 281,
    "start_time": "2021-12-29T09:07:37.827Z"
   },
   {
    "duration": 254,
    "start_time": "2021-12-29T09:07:38.110Z"
   },
   {
    "duration": 12,
    "start_time": "2021-12-29T09:07:38.366Z"
   },
   {
    "duration": 225,
    "start_time": "2021-12-29T09:07:38.380Z"
   },
   {
    "duration": 6,
    "start_time": "2021-12-29T09:07:38.607Z"
   },
   {
    "duration": 449,
    "start_time": "2021-12-29T09:08:18.968Z"
   },
   {
    "duration": 347,
    "start_time": "2021-12-29T09:10:21.379Z"
   },
   {
    "duration": 338,
    "start_time": "2021-12-29T09:10:27.275Z"
   },
   {
    "duration": 1190,
    "start_time": "2021-12-29T09:10:43.643Z"
   },
   {
    "duration": 29,
    "start_time": "2021-12-29T09:10:44.835Z"
   },
   {
    "duration": 13,
    "start_time": "2021-12-29T09:10:44.866Z"
   },
   {
    "duration": 4571,
    "start_time": "2021-12-29T09:10:44.881Z"
   },
   {
    "duration": 4,
    "start_time": "2021-12-29T09:10:49.453Z"
   },
   {
    "duration": 256,
    "start_time": "2021-12-29T09:10:49.459Z"
   },
   {
    "duration": 192,
    "start_time": "2021-12-29T09:10:49.716Z"
   },
   {
    "duration": 24,
    "start_time": "2021-12-29T09:10:49.910Z"
   },
   {
    "duration": 142,
    "start_time": "2021-12-29T09:10:49.936Z"
   },
   {
    "duration": 129,
    "start_time": "2021-12-29T09:10:50.079Z"
   },
   {
    "duration": 309,
    "start_time": "2021-12-29T09:10:50.210Z"
   },
   {
    "duration": 247,
    "start_time": "2021-12-29T09:10:50.521Z"
   },
   {
    "duration": 2375,
    "start_time": "2021-12-29T09:10:50.770Z"
   },
   {
    "duration": 264,
    "start_time": "2021-12-29T09:10:53.147Z"
   },
   {
    "duration": 16,
    "start_time": "2021-12-29T09:10:53.412Z"
   },
   {
    "duration": 199,
    "start_time": "2021-12-29T09:10:53.429Z"
   },
   {
    "duration": 6,
    "start_time": "2021-12-29T09:10:53.630Z"
   },
   {
    "duration": 1172,
    "start_time": "2021-12-29T09:13:13.045Z"
   },
   {
    "duration": 29,
    "start_time": "2021-12-29T09:13:14.219Z"
   },
   {
    "duration": 12,
    "start_time": "2021-12-29T09:13:14.251Z"
   },
   {
    "duration": 5303,
    "start_time": "2021-12-29T09:13:14.265Z"
   },
   {
    "duration": 5,
    "start_time": "2021-12-29T09:13:19.570Z"
   },
   {
    "duration": 258,
    "start_time": "2021-12-29T09:13:19.577Z"
   },
   {
    "duration": 197,
    "start_time": "2021-12-29T09:13:19.837Z"
   },
   {
    "duration": 20,
    "start_time": "2021-12-29T09:13:20.036Z"
   },
   {
    "duration": 147,
    "start_time": "2021-12-29T09:13:20.058Z"
   },
   {
    "duration": 129,
    "start_time": "2021-12-29T09:13:20.206Z"
   },
   {
    "duration": 283,
    "start_time": "2021-12-29T09:13:20.337Z"
   },
   {
    "duration": 236,
    "start_time": "2021-12-29T09:13:20.627Z"
   },
   {
    "duration": 2542,
    "start_time": "2021-12-29T09:13:20.864Z"
   },
   {
    "duration": 250,
    "start_time": "2021-12-29T09:13:23.408Z"
   },
   {
    "duration": 11,
    "start_time": "2021-12-29T09:13:23.659Z"
   },
   {
    "duration": 204,
    "start_time": "2021-12-29T09:13:23.671Z"
   },
   {
    "duration": 7,
    "start_time": "2021-12-29T09:13:23.876Z"
   },
   {
    "duration": 1166,
    "start_time": "2021-12-29T09:13:27.175Z"
   },
   {
    "duration": 27,
    "start_time": "2021-12-29T09:13:28.343Z"
   },
   {
    "duration": 14,
    "start_time": "2021-12-29T09:13:28.372Z"
   },
   {
    "duration": 5394,
    "start_time": "2021-12-29T09:13:28.388Z"
   },
   {
    "duration": 5,
    "start_time": "2021-12-29T09:13:33.783Z"
   },
   {
    "duration": 261,
    "start_time": "2021-12-29T09:13:33.789Z"
   },
   {
    "duration": 194,
    "start_time": "2021-12-29T09:13:34.051Z"
   },
   {
    "duration": 16,
    "start_time": "2021-12-29T09:13:34.247Z"
   },
   {
    "duration": 148,
    "start_time": "2021-12-29T09:13:34.265Z"
   },
   {
    "duration": 130,
    "start_time": "2021-12-29T09:13:34.415Z"
   },
   {
    "duration": 282,
    "start_time": "2021-12-29T09:13:34.547Z"
   },
   {
    "duration": 259,
    "start_time": "2021-12-29T09:13:34.831Z"
   },
   {
    "duration": 2777,
    "start_time": "2021-12-29T09:13:35.091Z"
   },
   {
    "duration": 265,
    "start_time": "2021-12-29T09:13:37.869Z"
   },
   {
    "duration": 11,
    "start_time": "2021-12-29T09:13:38.135Z"
   },
   {
    "duration": 215,
    "start_time": "2021-12-29T09:13:38.148Z"
   },
   {
    "duration": 7,
    "start_time": "2021-12-29T09:13:38.365Z"
   },
   {
    "duration": 5336,
    "start_time": "2021-12-29T09:14:44.081Z"
   },
   {
    "duration": 1192,
    "start_time": "2021-12-29T09:14:58.941Z"
   },
   {
    "duration": 28,
    "start_time": "2021-12-29T09:15:00.136Z"
   },
   {
    "duration": 13,
    "start_time": "2021-12-29T09:15:00.166Z"
   },
   {
    "duration": 5342,
    "start_time": "2021-12-29T09:15:00.181Z"
   },
   {
    "duration": 4,
    "start_time": "2021-12-29T09:15:05.527Z"
   },
   {
    "duration": 249,
    "start_time": "2021-12-29T09:15:05.532Z"
   },
   {
    "duration": 191,
    "start_time": "2021-12-29T09:15:05.783Z"
   },
   {
    "duration": 16,
    "start_time": "2021-12-29T09:15:05.977Z"
   },
   {
    "duration": 150,
    "start_time": "2021-12-29T09:15:05.994Z"
   },
   {
    "duration": 127,
    "start_time": "2021-12-29T09:15:06.146Z"
   },
   {
    "duration": 260,
    "start_time": "2021-12-29T09:15:06.275Z"
   },
   {
    "duration": 240,
    "start_time": "2021-12-29T09:15:06.537Z"
   },
   {
    "duration": 2418,
    "start_time": "2021-12-29T09:15:06.778Z"
   },
   {
    "duration": 269,
    "start_time": "2021-12-29T09:15:09.198Z"
   },
   {
    "duration": 11,
    "start_time": "2021-12-29T09:15:09.469Z"
   },
   {
    "duration": 208,
    "start_time": "2021-12-29T09:15:09.482Z"
   },
   {
    "duration": 6,
    "start_time": "2021-12-29T09:15:09.692Z"
   },
   {
    "duration": 5,
    "start_time": "2021-12-29T09:20:17.448Z"
   },
   {
    "duration": 228,
    "start_time": "2021-12-29T09:22:25.451Z"
   },
   {
    "duration": 181,
    "start_time": "2021-12-29T09:22:53.034Z"
   },
   {
    "duration": 18,
    "start_time": "2021-12-29T09:23:44.123Z"
   },
   {
    "duration": 16,
    "start_time": "2021-12-29T09:31:28.624Z"
   },
   {
    "duration": 8,
    "start_time": "2021-12-29T09:33:39.842Z"
   },
   {
    "duration": 236,
    "start_time": "2021-12-29T09:36:49.057Z"
   },
   {
    "duration": 251,
    "start_time": "2021-12-29T09:37:36.964Z"
   },
   {
    "duration": 120,
    "start_time": "2021-12-29T09:44:53.973Z"
   },
   {
    "duration": 134,
    "start_time": "2021-12-29T09:44:57.672Z"
   },
   {
    "duration": 22,
    "start_time": "2021-12-29T09:53:05.744Z"
   },
   {
    "duration": 8601,
    "start_time": "2021-12-29T10:00:44.877Z"
   },
   {
    "duration": 247,
    "start_time": "2021-12-29T10:01:07.122Z"
   },
   {
    "duration": 239,
    "start_time": "2021-12-29T10:02:00.711Z"
   },
   {
    "duration": 234,
    "start_time": "2021-12-29T10:02:26.276Z"
   },
   {
    "duration": 1166,
    "start_time": "2021-12-29T10:03:06.161Z"
   },
   {
    "duration": 26,
    "start_time": "2021-12-29T10:03:07.328Z"
   },
   {
    "duration": 12,
    "start_time": "2021-12-29T10:03:07.356Z"
   },
   {
    "duration": 5431,
    "start_time": "2021-12-29T10:03:07.370Z"
   },
   {
    "duration": 4,
    "start_time": "2021-12-29T10:03:12.803Z"
   },
   {
    "duration": 252,
    "start_time": "2021-12-29T10:03:12.809Z"
   },
   {
    "duration": 185,
    "start_time": "2021-12-29T10:03:13.063Z"
   },
   {
    "duration": 18,
    "start_time": "2021-12-29T10:03:13.250Z"
   },
   {
    "duration": 181,
    "start_time": "2021-12-29T10:03:13.269Z"
   },
   {
    "duration": 203,
    "start_time": "2021-12-29T10:03:13.451Z"
   },
   {
    "duration": 292,
    "start_time": "2021-12-29T10:03:13.656Z"
   },
   {
    "duration": 247,
    "start_time": "2021-12-29T10:03:13.949Z"
   },
   {
    "duration": 2409,
    "start_time": "2021-12-29T10:03:14.198Z"
   },
   {
    "duration": 251,
    "start_time": "2021-12-29T10:03:16.609Z"
   },
   {
    "duration": 11,
    "start_time": "2021-12-29T10:03:16.862Z"
   },
   {
    "duration": 207,
    "start_time": "2021-12-29T10:03:16.874Z"
   },
   {
    "duration": 7,
    "start_time": "2021-12-29T10:03:17.083Z"
   },
   {
    "duration": 241,
    "start_time": "2021-12-29T10:04:19.030Z"
   },
   {
    "duration": 229,
    "start_time": "2021-12-29T10:04:51.333Z"
   },
   {
    "duration": 229,
    "start_time": "2021-12-29T10:05:17.501Z"
   },
   {
    "duration": 227,
    "start_time": "2021-12-29T10:05:26.039Z"
   },
   {
    "duration": 1544,
    "start_time": "2021-12-29T21:39:52.085Z"
   },
   {
    "duration": 35,
    "start_time": "2021-12-29T21:39:53.632Z"
   },
   {
    "duration": 15,
    "start_time": "2021-12-29T21:39:53.670Z"
   },
   {
    "duration": 8078,
    "start_time": "2021-12-29T21:39:53.688Z"
   },
   {
    "duration": 6,
    "start_time": "2021-12-29T21:40:01.768Z"
   },
   {
    "duration": 450,
    "start_time": "2021-12-29T21:40:01.776Z"
   },
   {
    "duration": 332,
    "start_time": "2021-12-29T21:40:02.229Z"
   },
   {
    "duration": 23,
    "start_time": "2021-12-29T21:40:02.565Z"
   },
   {
    "duration": 244,
    "start_time": "2021-12-29T21:40:02.592Z"
   },
   {
    "duration": 226,
    "start_time": "2021-12-29T21:40:02.839Z"
   },
   {
    "duration": 406,
    "start_time": "2021-12-29T21:40:03.068Z"
   },
   {
    "duration": 407,
    "start_time": "2021-12-29T21:40:03.476Z"
   },
   {
    "duration": 4058,
    "start_time": "2021-12-29T21:40:03.886Z"
   },
   {
    "duration": 465,
    "start_time": "2021-12-29T21:40:07.947Z"
   },
   {
    "duration": 24,
    "start_time": "2021-12-29T21:40:08.414Z"
   },
   {
    "duration": 318,
    "start_time": "2021-12-29T21:40:08.440Z"
   },
   {
    "duration": 11,
    "start_time": "2021-12-29T21:40:08.761Z"
   },
   {
    "duration": 404,
    "start_time": "2021-12-29T21:48:35.941Z"
   },
   {
    "duration": 346,
    "start_time": "2021-12-29T21:50:29.786Z"
   },
   {
    "duration": 293,
    "start_time": "2021-12-29T21:52:02.223Z"
   },
   {
    "duration": 456,
    "start_time": "2021-12-29T22:02:08.148Z"
   },
   {
    "duration": 146,
    "start_time": "2021-12-29T22:08:41.274Z"
   },
   {
    "duration": 5389,
    "start_time": "2021-12-29T22:08:44.845Z"
   },
   {
    "duration": 98,
    "start_time": "2021-12-29T22:09:27.201Z"
   },
   {
    "duration": 277,
    "start_time": "2021-12-29T22:10:07.731Z"
   },
   {
    "duration": 88,
    "start_time": "2021-12-29T22:10:13.222Z"
   },
   {
    "duration": 78,
    "start_time": "2021-12-29T22:11:19.276Z"
   },
   {
    "duration": 4837,
    "start_time": "2021-12-29T22:11:44.517Z"
   },
   {
    "duration": 1932,
    "start_time": "2021-12-29T22:11:59.535Z"
   },
   {
    "duration": 40,
    "start_time": "2021-12-29T22:12:01.470Z"
   },
   {
    "duration": 27,
    "start_time": "2021-12-29T22:12:01.513Z"
   },
   {
    "duration": 8673,
    "start_time": "2021-12-29T22:12:01.543Z"
   },
   {
    "duration": 7,
    "start_time": "2021-12-29T22:12:10.219Z"
   },
   {
    "duration": 440,
    "start_time": "2021-12-29T22:12:10.228Z"
   },
   {
    "duration": 353,
    "start_time": "2021-12-29T22:12:10.671Z"
   },
   {
    "duration": 37,
    "start_time": "2021-12-29T22:12:11.029Z"
   },
   {
    "duration": 372,
    "start_time": "2021-12-29T22:12:11.069Z"
   },
   {
    "duration": 318,
    "start_time": "2021-12-29T22:12:11.444Z"
   },
   {
    "duration": 480,
    "start_time": "2021-12-29T22:12:11.766Z"
   },
   {
    "duration": 416,
    "start_time": "2021-12-29T22:12:12.249Z"
   },
   {
    "duration": 4020,
    "start_time": "2021-12-29T22:12:12.668Z"
   },
   {
    "duration": 3090,
    "start_time": "2021-12-29T22:12:16.691Z"
   },
   {
    "duration": 317,
    "start_time": "2021-12-29T22:12:19.785Z"
   },
   {
    "duration": 2993,
    "start_time": "2021-12-29T22:12:20.105Z"
   },
   {
    "duration": 424,
    "start_time": "2021-12-29T22:12:23.102Z"
   },
   {
    "duration": 18,
    "start_time": "2021-12-29T22:12:23.530Z"
   },
   {
    "duration": 236,
    "start_time": "2021-12-29T22:12:23.551Z"
   },
   {
    "duration": 10,
    "start_time": "2021-12-29T22:12:23.790Z"
   },
   {
    "duration": 512,
    "start_time": "2021-12-29T22:12:42.087Z"
   },
   {
    "duration": 833,
    "start_time": "2021-12-29T22:12:55.453Z"
   },
   {
    "duration": 102,
    "start_time": "2021-12-29T22:14:23.250Z"
   },
   {
    "duration": 363,
    "start_time": "2021-12-29T22:16:15.092Z"
   },
   {
    "duration": 87,
    "start_time": "2021-12-29T22:16:47.647Z"
   },
   {
    "duration": 82,
    "start_time": "2021-12-29T22:16:54.257Z"
   },
   {
    "duration": 26,
    "start_time": "2021-12-29T22:19:00.809Z"
   },
   {
    "duration": 89,
    "start_time": "2021-12-29T22:22:31.576Z"
   },
   {
    "duration": 134,
    "start_time": "2021-12-29T22:22:37.915Z"
   },
   {
    "duration": 404,
    "start_time": "2021-12-29T22:23:29.387Z"
   },
   {
    "duration": 620,
    "start_time": "2021-12-29T22:23:52.237Z"
   },
   {
    "duration": 150,
    "start_time": "2021-12-29T22:24:49.754Z"
   },
   {
    "duration": 117,
    "start_time": "2021-12-29T22:24:55.129Z"
   },
   {
    "duration": 406,
    "start_time": "2021-12-29T22:24:58.722Z"
   },
   {
    "duration": 402,
    "start_time": "2021-12-29T22:25:25.018Z"
   },
   {
    "duration": 138,
    "start_time": "2021-12-29T22:25:33.818Z"
   },
   {
    "duration": 102,
    "start_time": "2021-12-29T22:25:41.133Z"
   },
   {
    "duration": 1545,
    "start_time": "2021-12-29T22:26:05.193Z"
   },
   {
    "duration": 41,
    "start_time": "2021-12-29T22:26:06.741Z"
   },
   {
    "duration": 38,
    "start_time": "2021-12-29T22:26:06.785Z"
   },
   {
    "duration": 7964,
    "start_time": "2021-12-29T22:26:06.826Z"
   },
   {
    "duration": 7,
    "start_time": "2021-12-29T22:26:14.793Z"
   },
   {
    "duration": 535,
    "start_time": "2021-12-29T22:26:14.802Z"
   },
   {
    "duration": 326,
    "start_time": "2021-12-29T22:26:15.340Z"
   },
   {
    "duration": 24,
    "start_time": "2021-12-29T22:26:15.670Z"
   },
   {
    "duration": 249,
    "start_time": "2021-12-29T22:26:15.698Z"
   },
   {
    "duration": 219,
    "start_time": "2021-12-29T22:26:15.949Z"
   },
   {
    "duration": 395,
    "start_time": "2021-12-29T22:26:16.170Z"
   },
   {
    "duration": 403,
    "start_time": "2021-12-29T22:26:16.568Z"
   },
   {
    "duration": 3987,
    "start_time": "2021-12-29T22:26:16.974Z"
   },
   {
    "duration": 3294,
    "start_time": "2021-12-29T22:26:20.963Z"
   },
   {
    "duration": 319,
    "start_time": "2021-12-29T22:26:24.260Z"
   },
   {
    "duration": 3078,
    "start_time": "2021-12-29T22:26:24.581Z"
   },
   {
    "duration": 979,
    "start_time": "2021-12-29T22:26:27.662Z"
   },
   {
    "duration": 727,
    "start_time": "2021-12-29T22:26:28.644Z"
   },
   {
    "duration": 18,
    "start_time": "2021-12-29T22:26:29.355Z"
   },
   {
    "duration": 16,
    "start_time": "2021-12-29T22:26:29.359Z"
   },
   {
    "duration": 10,
    "start_time": "2021-12-29T22:26:29.366Z"
   },
   {
    "duration": 8,
    "start_time": "2021-12-29T22:26:29.370Z"
   },
   {
    "duration": 177,
    "start_time": "2021-12-29T22:26:38.498Z"
   },
   {
    "duration": 194,
    "start_time": "2021-12-29T22:27:43.095Z"
   },
   {
    "duration": 1379,
    "start_time": "2021-12-29T22:28:54.062Z"
   },
   {
    "duration": 37,
    "start_time": "2021-12-29T22:28:55.444Z"
   },
   {
    "duration": 39,
    "start_time": "2021-12-29T22:28:55.484Z"
   },
   {
    "duration": 7881,
    "start_time": "2021-12-29T22:28:55.526Z"
   },
   {
    "duration": 16,
    "start_time": "2021-12-29T22:29:03.409Z"
   },
   {
    "duration": 413,
    "start_time": "2021-12-29T22:29:03.427Z"
   },
   {
    "duration": 336,
    "start_time": "2021-12-29T22:29:03.842Z"
   },
   {
    "duration": 26,
    "start_time": "2021-12-29T22:29:04.182Z"
   },
   {
    "duration": 239,
    "start_time": "2021-12-29T22:29:04.222Z"
   },
   {
    "duration": 229,
    "start_time": "2021-12-29T22:29:04.463Z"
   },
   {
    "duration": 408,
    "start_time": "2021-12-29T22:29:04.695Z"
   },
   {
    "duration": 417,
    "start_time": "2021-12-29T22:29:05.106Z"
   },
   {
    "duration": 3973,
    "start_time": "2021-12-29T22:29:05.526Z"
   },
   {
    "duration": 3115,
    "start_time": "2021-12-29T22:29:09.502Z"
   },
   {
    "duration": 333,
    "start_time": "2021-12-29T22:29:12.621Z"
   },
   {
    "duration": 3025,
    "start_time": "2021-12-29T22:29:12.956Z"
   },
   {
    "duration": 881,
    "start_time": "2021-12-29T22:29:15.984Z"
   },
   {
    "duration": 150,
    "start_time": "2021-12-29T22:29:16.868Z"
   },
   {
    "duration": 463,
    "start_time": "2021-12-29T22:29:17.021Z"
   },
   {
    "duration": 17,
    "start_time": "2021-12-29T22:29:17.487Z"
   },
   {
    "duration": 260,
    "start_time": "2021-12-29T22:29:17.506Z"
   },
   {
    "duration": 11,
    "start_time": "2021-12-29T22:29:17.768Z"
   },
   {
    "duration": 126,
    "start_time": "2021-12-29T22:29:27.007Z"
   },
   {
    "duration": 149,
    "start_time": "2021-12-29T22:29:54.847Z"
   },
   {
    "duration": 1481,
    "start_time": "2021-12-29T22:30:02.561Z"
   },
   {
    "duration": 37,
    "start_time": "2021-12-29T22:30:04.045Z"
   },
   {
    "duration": 38,
    "start_time": "2021-12-29T22:30:04.085Z"
   },
   {
    "duration": 8613,
    "start_time": "2021-12-29T22:30:04.126Z"
   },
   {
    "duration": 7,
    "start_time": "2021-12-29T22:30:12.742Z"
   },
   {
    "duration": 438,
    "start_time": "2021-12-29T22:30:12.753Z"
   },
   {
    "duration": 350,
    "start_time": "2021-12-29T22:30:13.194Z"
   },
   {
    "duration": 24,
    "start_time": "2021-12-29T22:30:13.548Z"
   },
   {
    "duration": 245,
    "start_time": "2021-12-29T22:30:13.575Z"
   },
   {
    "duration": 222,
    "start_time": "2021-12-29T22:30:13.823Z"
   },
   {
    "duration": 401,
    "start_time": "2021-12-29T22:30:14.047Z"
   },
   {
    "duration": 390,
    "start_time": "2021-12-29T22:30:14.451Z"
   },
   {
    "duration": 3928,
    "start_time": "2021-12-29T22:30:14.844Z"
   },
   {
    "duration": 3164,
    "start_time": "2021-12-29T22:30:18.775Z"
   },
   {
    "duration": 315,
    "start_time": "2021-12-29T22:30:21.942Z"
   },
   {
    "duration": 3194,
    "start_time": "2021-12-29T22:30:22.260Z"
   },
   {
    "duration": 839,
    "start_time": "2021-12-29T22:30:25.457Z"
   },
   {
    "duration": 133,
    "start_time": "2021-12-29T22:30:26.299Z"
   },
   {
    "duration": 436,
    "start_time": "2021-12-29T22:30:26.434Z"
   },
   {
    "duration": 17,
    "start_time": "2021-12-29T22:30:26.873Z"
   },
   {
    "duration": 239,
    "start_time": "2021-12-29T22:30:26.892Z"
   },
   {
    "duration": 9,
    "start_time": "2021-12-29T22:30:27.134Z"
   },
   {
    "duration": 632,
    "start_time": "2021-12-29T22:31:42.129Z"
   },
   {
    "duration": 149,
    "start_time": "2021-12-29T22:31:56.300Z"
   },
   {
    "duration": 127,
    "start_time": "2021-12-29T22:32:57.183Z"
   },
   {
    "duration": 1529,
    "start_time": "2021-12-29T22:33:12.920Z"
   },
   {
    "duration": 39,
    "start_time": "2021-12-29T22:33:14.452Z"
   },
   {
    "duration": 37,
    "start_time": "2021-12-29T22:33:14.493Z"
   },
   {
    "duration": 8059,
    "start_time": "2021-12-29T22:33:14.533Z"
   },
   {
    "duration": 7,
    "start_time": "2021-12-29T22:33:22.595Z"
   },
   {
    "duration": 668,
    "start_time": "2021-12-29T22:33:22.605Z"
   },
   {
    "duration": 399,
    "start_time": "2021-12-29T22:33:23.275Z"
   },
   {
    "duration": 26,
    "start_time": "2021-12-29T22:33:23.678Z"
   },
   {
    "duration": 326,
    "start_time": "2021-12-29T22:33:23.723Z"
   },
   {
    "duration": 288,
    "start_time": "2021-12-29T22:33:24.051Z"
   },
   {
    "duration": 638,
    "start_time": "2021-12-29T22:33:24.342Z"
   },
   {
    "duration": 460,
    "start_time": "2021-12-29T22:33:24.983Z"
   },
   {
    "duration": 4038,
    "start_time": "2021-12-29T22:33:25.445Z"
   },
   {
    "duration": 3089,
    "start_time": "2021-12-29T22:33:29.485Z"
   },
   {
    "duration": 318,
    "start_time": "2021-12-29T22:33:32.577Z"
   },
   {
    "duration": 3279,
    "start_time": "2021-12-29T22:33:32.897Z"
   },
   {
    "duration": 1105,
    "start_time": "2021-12-29T22:33:36.179Z"
   },
   {
    "duration": 207,
    "start_time": "2021-12-29T22:33:37.287Z"
   },
   {
    "duration": 532,
    "start_time": "2021-12-29T22:33:37.497Z"
   },
   {
    "duration": 23,
    "start_time": "2021-12-29T22:33:38.009Z"
   },
   {
    "duration": 21,
    "start_time": "2021-12-29T22:33:38.012Z"
   },
   {
    "duration": 19,
    "start_time": "2021-12-29T22:33:38.016Z"
   },
   {
    "duration": 491,
    "start_time": "2021-12-29T22:34:39.523Z"
   },
   {
    "duration": 1639,
    "start_time": "2021-12-29T22:34:50.107Z"
   },
   {
    "duration": 40,
    "start_time": "2021-12-29T22:34:51.749Z"
   },
   {
    "duration": 42,
    "start_time": "2021-12-29T22:34:51.792Z"
   },
   {
    "duration": 8002,
    "start_time": "2021-12-29T22:34:51.836Z"
   },
   {
    "duration": 8,
    "start_time": "2021-12-29T22:34:59.841Z"
   },
   {
    "duration": 442,
    "start_time": "2021-12-29T22:34:59.852Z"
   },
   {
    "duration": 329,
    "start_time": "2021-12-29T22:35:00.297Z"
   },
   {
    "duration": 26,
    "start_time": "2021-12-29T22:35:00.631Z"
   },
   {
    "duration": 250,
    "start_time": "2021-12-29T22:35:00.660Z"
   },
   {
    "duration": 215,
    "start_time": "2021-12-29T22:35:00.914Z"
   },
   {
    "duration": 406,
    "start_time": "2021-12-29T22:35:01.131Z"
   },
   {
    "duration": 386,
    "start_time": "2021-12-29T22:35:01.540Z"
   },
   {
    "duration": 3915,
    "start_time": "2021-12-29T22:35:01.929Z"
   },
   {
    "duration": 3368,
    "start_time": "2021-12-29T22:35:05.846Z"
   },
   {
    "duration": 329,
    "start_time": "2021-12-29T22:35:09.217Z"
   },
   {
    "duration": 3033,
    "start_time": "2021-12-29T22:35:09.549Z"
   },
   {
    "duration": 893,
    "start_time": "2021-12-29T22:35:12.585Z"
   },
   {
    "duration": 577,
    "start_time": "2021-12-29T22:35:13.480Z"
   },
   {
    "duration": 19,
    "start_time": "2021-12-29T22:35:14.040Z"
   },
   {
    "duration": 18,
    "start_time": "2021-12-29T22:35:14.043Z"
   },
   {
    "duration": 17,
    "start_time": "2021-12-29T22:35:14.046Z"
   },
   {
    "duration": 16,
    "start_time": "2021-12-29T22:35:14.048Z"
   },
   {
    "duration": 172,
    "start_time": "2021-12-29T22:35:48.791Z"
   },
   {
    "duration": 152,
    "start_time": "2021-12-29T22:36:07.110Z"
   },
   {
    "duration": 17,
    "start_time": "2021-12-29T22:37:37.184Z"
   },
   {
    "duration": 18,
    "start_time": "2021-12-29T22:37:40.672Z"
   },
   {
    "duration": 17,
    "start_time": "2021-12-29T22:38:04.002Z"
   },
   {
    "duration": 1543,
    "start_time": "2021-12-29T22:38:19.616Z"
   },
   {
    "duration": 38,
    "start_time": "2021-12-29T22:38:21.161Z"
   },
   {
    "duration": 29,
    "start_time": "2021-12-29T22:38:21.201Z"
   },
   {
    "duration": 7869,
    "start_time": "2021-12-29T22:38:21.232Z"
   },
   {
    "duration": 6,
    "start_time": "2021-12-29T22:38:29.104Z"
   },
   {
    "duration": 506,
    "start_time": "2021-12-29T22:38:29.124Z"
   },
   {
    "duration": 364,
    "start_time": "2021-12-29T22:38:29.632Z"
   },
   {
    "duration": 42,
    "start_time": "2021-12-29T22:38:29.999Z"
   },
   {
    "duration": 244,
    "start_time": "2021-12-29T22:38:30.044Z"
   },
   {
    "duration": 230,
    "start_time": "2021-12-29T22:38:30.291Z"
   },
   {
    "duration": 402,
    "start_time": "2021-12-29T22:38:30.524Z"
   },
   {
    "duration": 397,
    "start_time": "2021-12-29T22:38:30.929Z"
   },
   {
    "duration": 4042,
    "start_time": "2021-12-29T22:38:31.329Z"
   },
   {
    "duration": 3468,
    "start_time": "2021-12-29T22:38:35.374Z"
   },
   {
    "duration": 337,
    "start_time": "2021-12-29T22:38:38.845Z"
   },
   {
    "duration": 3143,
    "start_time": "2021-12-29T22:38:39.185Z"
   },
   {
    "duration": 1050,
    "start_time": "2021-12-29T22:38:42.331Z"
   },
   {
    "duration": 149,
    "start_time": "2021-12-29T22:38:43.384Z"
   },
   {
    "duration": 20,
    "start_time": "2021-12-29T22:38:43.535Z"
   },
   {
    "duration": 444,
    "start_time": "2021-12-29T22:38:43.557Z"
   },
   {
    "duration": 27,
    "start_time": "2021-12-29T22:38:44.004Z"
   },
   {
    "duration": 261,
    "start_time": "2021-12-29T22:38:44.034Z"
   },
   {
    "duration": 23,
    "start_time": "2021-12-29T22:38:44.300Z"
   },
   {
    "duration": 44,
    "start_time": "2021-12-29T22:39:18.557Z"
   },
   {
    "duration": 8,
    "start_time": "2021-12-29T22:39:48.442Z"
   },
   {
    "duration": 1552,
    "start_time": "2021-12-29T22:41:34.512Z"
   },
   {
    "duration": 36,
    "start_time": "2021-12-29T22:41:36.067Z"
   },
   {
    "duration": 29,
    "start_time": "2021-12-29T22:41:36.106Z"
   },
   {
    "duration": 7601,
    "start_time": "2021-12-29T22:41:36.138Z"
   },
   {
    "duration": 7,
    "start_time": "2021-12-29T22:41:43.741Z"
   },
   {
    "duration": 402,
    "start_time": "2021-12-29T22:41:43.750Z"
   },
   {
    "duration": 322,
    "start_time": "2021-12-29T22:41:44.154Z"
   },
   {
    "duration": 42,
    "start_time": "2021-12-29T22:41:44.482Z"
   },
   {
    "duration": 236,
    "start_time": "2021-12-29T22:41:44.528Z"
   },
   {
    "duration": 229,
    "start_time": "2021-12-29T22:41:44.767Z"
   },
   {
    "duration": 401,
    "start_time": "2021-12-29T22:41:44.999Z"
   },
   {
    "duration": 393,
    "start_time": "2021-12-29T22:41:45.403Z"
   },
   {
    "duration": 7441,
    "start_time": "2021-12-29T22:41:45.799Z"
   },
   {
    "duration": 3054,
    "start_time": "2021-12-29T22:41:53.242Z"
   },
   {
    "duration": 317,
    "start_time": "2021-12-29T22:41:56.300Z"
   },
   {
    "duration": 3118,
    "start_time": "2021-12-29T22:41:56.619Z"
   },
   {
    "duration": 870,
    "start_time": "2021-12-29T22:41:59.740Z"
   },
   {
    "duration": 162,
    "start_time": "2021-12-29T22:42:00.612Z"
   },
   {
    "duration": 28,
    "start_time": "2021-12-29T22:42:00.776Z"
   },
   {
    "duration": 434,
    "start_time": "2021-12-29T22:42:00.806Z"
   },
   {
    "duration": 16,
    "start_time": "2021-12-29T22:42:01.243Z"
   },
   {
    "duration": 241,
    "start_time": "2021-12-29T22:42:01.261Z"
   },
   {
    "duration": 19,
    "start_time": "2021-12-29T22:42:01.509Z"
   },
   {
    "duration": 45,
    "start_time": "2021-12-29T22:42:14.296Z"
   },
   {
    "duration": 44,
    "start_time": "2021-12-29T22:42:27.647Z"
   },
   {
    "duration": 436,
    "start_time": "2021-12-29T22:44:12.036Z"
   },
   {
    "duration": 877,
    "start_time": "2021-12-29T22:45:20.468Z"
   },
   {
    "duration": 477,
    "start_time": "2021-12-29T22:50:10.363Z"
   },
   {
    "duration": 19982,
    "start_time": "2021-12-29T22:50:19.359Z"
   },
   {
    "duration": 12,
    "start_time": "2021-12-29T22:50:54.001Z"
   },
   {
    "duration": 385,
    "start_time": "2021-12-29T22:51:17.144Z"
   },
   {
    "duration": 5,
    "start_time": "2021-12-29T22:54:02.501Z"
   },
   {
    "duration": 676,
    "start_time": "2021-12-29T22:56:26.705Z"
   },
   {
    "duration": 1514,
    "start_time": "2021-12-29T22:57:20.644Z"
   },
   {
    "duration": 37,
    "start_time": "2021-12-29T22:57:22.161Z"
   },
   {
    "duration": 34,
    "start_time": "2021-12-29T22:57:22.200Z"
   },
   {
    "duration": 7864,
    "start_time": "2021-12-29T22:57:22.236Z"
   },
   {
    "duration": 22,
    "start_time": "2021-12-29T22:57:30.103Z"
   },
   {
    "duration": 413,
    "start_time": "2021-12-29T22:57:30.127Z"
   },
   {
    "duration": 331,
    "start_time": "2021-12-29T22:57:30.542Z"
   },
   {
    "duration": 25,
    "start_time": "2021-12-29T22:57:30.877Z"
   },
   {
    "duration": 237,
    "start_time": "2021-12-29T22:57:30.924Z"
   },
   {
    "duration": 229,
    "start_time": "2021-12-29T22:57:31.164Z"
   },
   {
    "duration": 400,
    "start_time": "2021-12-29T22:57:31.396Z"
   },
   {
    "duration": 410,
    "start_time": "2021-12-29T22:57:31.799Z"
   },
   {
    "duration": 7553,
    "start_time": "2021-12-29T22:57:32.212Z"
   },
   {
    "duration": 3204,
    "start_time": "2021-12-29T22:57:39.768Z"
   },
   {
    "duration": 386,
    "start_time": "2021-12-29T22:57:42.976Z"
   },
   {
    "duration": 3481,
    "start_time": "2021-12-29T22:57:43.365Z"
   },
   {
    "duration": 851,
    "start_time": "2021-12-29T22:57:46.849Z"
   },
   {
    "duration": 176,
    "start_time": "2021-12-29T22:57:47.703Z"
   },
   {
    "duration": 27,
    "start_time": "2021-12-29T22:57:47.882Z"
   },
   {
    "duration": 19301,
    "start_time": "2021-12-29T22:57:47.911Z"
   },
   {
    "duration": 862,
    "start_time": "2021-12-29T22:58:07.214Z"
   },
   {
    "duration": 2,
    "start_time": "2021-12-29T22:58:08.077Z"
   },
   {
    "duration": 0,
    "start_time": "2021-12-29T22:58:08.081Z"
   },
   {
    "duration": -2,
    "start_time": "2021-12-29T22:58:08.084Z"
   },
   {
    "duration": -14,
    "start_time": "2021-12-29T22:58:08.098Z"
   },
   {
    "duration": 692,
    "start_time": "2021-12-29T22:58:53.902Z"
   },
   {
    "duration": 666,
    "start_time": "2021-12-29T22:59:42.545Z"
   },
   {
    "duration": 645,
    "start_time": "2021-12-29T23:00:13.376Z"
   },
   {
    "duration": 1588,
    "start_time": "2021-12-29T23:00:50.446Z"
   },
   {
    "duration": 38,
    "start_time": "2021-12-29T23:00:52.037Z"
   },
   {
    "duration": 17,
    "start_time": "2021-12-29T23:00:52.078Z"
   },
   {
    "duration": 7697,
    "start_time": "2021-12-29T23:00:52.098Z"
   },
   {
    "duration": 7,
    "start_time": "2021-12-29T23:00:59.797Z"
   },
   {
    "duration": 405,
    "start_time": "2021-12-29T23:00:59.824Z"
   },
   {
    "duration": 334,
    "start_time": "2021-12-29T23:01:00.232Z"
   },
   {
    "duration": 25,
    "start_time": "2021-12-29T23:01:00.568Z"
   },
   {
    "duration": 241,
    "start_time": "2021-12-29T23:01:00.597Z"
   },
   {
    "duration": 234,
    "start_time": "2021-12-29T23:01:00.841Z"
   },
   {
    "duration": 392,
    "start_time": "2021-12-29T23:01:01.078Z"
   },
   {
    "duration": 395,
    "start_time": "2021-12-29T23:01:01.473Z"
   },
   {
    "duration": 7581,
    "start_time": "2021-12-29T23:01:01.871Z"
   },
   {
    "duration": 3099,
    "start_time": "2021-12-29T23:01:09.454Z"
   },
   {
    "duration": 318,
    "start_time": "2021-12-29T23:01:12.556Z"
   },
   {
    "duration": 3112,
    "start_time": "2021-12-29T23:01:12.876Z"
   },
   {
    "duration": 866,
    "start_time": "2021-12-29T23:01:15.990Z"
   },
   {
    "duration": 210,
    "start_time": "2021-12-29T23:01:16.858Z"
   },
   {
    "duration": 28,
    "start_time": "2021-12-29T23:01:17.070Z"
   },
   {
    "duration": 18762,
    "start_time": "2021-12-29T23:01:17.100Z"
   },
   {
    "duration": 834,
    "start_time": "2021-12-29T23:01:35.864Z"
   },
   {
    "duration": -2,
    "start_time": "2021-12-29T23:01:36.703Z"
   },
   {
    "duration": -9,
    "start_time": "2021-12-29T23:01:36.711Z"
   },
   {
    "duration": -11,
    "start_time": "2021-12-29T23:01:36.715Z"
   },
   {
    "duration": -13,
    "start_time": "2021-12-29T23:01:36.718Z"
   },
   {
    "duration": 684,
    "start_time": "2021-12-29T23:01:47.995Z"
   },
   {
    "duration": 357,
    "start_time": "2021-12-29T23:02:22.427Z"
   },
   {
    "duration": 665,
    "start_time": "2021-12-29T23:03:53.483Z"
   },
   {
    "duration": 463,
    "start_time": "2021-12-29T23:04:13.172Z"
   },
   {
    "duration": 386,
    "start_time": "2021-12-29T23:06:38.452Z"
   },
   {
    "duration": 689,
    "start_time": "2021-12-29T23:14:50.601Z"
   },
   {
    "duration": 512,
    "start_time": "2021-12-29T23:15:16.012Z"
   },
   {
    "duration": 646,
    "start_time": "2021-12-29T23:15:31.698Z"
   },
   {
    "duration": 20,
    "start_time": "2021-12-29T23:19:00.345Z"
   },
   {
    "duration": 231,
    "start_time": "2021-12-29T23:19:22.596Z"
   },
   {
    "duration": 13,
    "start_time": "2021-12-29T23:19:53.757Z"
   },
   {
    "duration": 247,
    "start_time": "2021-12-29T23:20:35.517Z"
   },
   {
    "duration": 235,
    "start_time": "2021-12-29T23:20:57.841Z"
   },
   {
    "duration": 416,
    "start_time": "2021-12-29T23:21:51.868Z"
   },
   {
    "duration": 1233,
    "start_time": "2021-12-30T15:02:38.548Z"
   },
   {
    "duration": 29,
    "start_time": "2021-12-30T15:02:39.784Z"
   },
   {
    "duration": 12,
    "start_time": "2021-12-30T15:02:39.815Z"
   },
   {
    "duration": 6,
    "start_time": "2021-12-30T15:02:39.829Z"
   },
   {
    "duration": 5377,
    "start_time": "2021-12-30T15:02:39.836Z"
   },
   {
    "duration": 5,
    "start_time": "2021-12-30T15:02:45.215Z"
   },
   {
    "duration": 269,
    "start_time": "2021-12-30T15:02:45.221Z"
   },
   {
    "duration": 214,
    "start_time": "2021-12-30T15:02:45.493Z"
   },
   {
    "duration": 18,
    "start_time": "2021-12-30T15:02:45.709Z"
   },
   {
    "duration": 166,
    "start_time": "2021-12-30T15:02:45.729Z"
   },
   {
    "duration": 145,
    "start_time": "2021-12-30T15:02:45.896Z"
   },
   {
    "duration": 266,
    "start_time": "2021-12-30T15:02:46.043Z"
   },
   {
    "duration": 258,
    "start_time": "2021-12-30T15:02:46.311Z"
   },
   {
    "duration": 4556,
    "start_time": "2021-12-30T15:02:46.571Z"
   },
   {
    "duration": 10669,
    "start_time": "2021-12-30T15:02:51.129Z"
   },
   {
    "duration": 335,
    "start_time": "2021-12-30T15:03:01.801Z"
   },
   {
    "duration": 5387,
    "start_time": "2021-12-30T15:03:02.138Z"
   },
   {
    "duration": 1164,
    "start_time": "2021-12-30T15:03:07.527Z"
   },
   {
    "duration": 110,
    "start_time": "2021-12-30T15:03:08.692Z"
   },
   {
    "duration": 439,
    "start_time": "2021-12-30T15:03:08.803Z"
   },
   {
    "duration": -271,
    "start_time": "2021-12-30T15:03:09.515Z"
   },
   {
    "duration": -274,
    "start_time": "2021-12-30T15:03:09.519Z"
   },
   {
    "duration": -276,
    "start_time": "2021-12-30T15:03:09.522Z"
   },
   {
    "duration": -282,
    "start_time": "2021-12-30T15:03:09.529Z"
   },
   {
    "duration": -283,
    "start_time": "2021-12-30T15:03:09.531Z"
   },
   {
    "duration": 8,
    "start_time": "2021-12-30T15:03:20.851Z"
   },
   {
    "duration": 7,
    "start_time": "2021-12-30T15:03:31.098Z"
   },
   {
    "duration": 253,
    "start_time": "2021-12-30T15:03:38.121Z"
   },
   {
    "duration": 8,
    "start_time": "2021-12-30T15:03:48.191Z"
   },
   {
    "duration": 15478,
    "start_time": "2021-12-30T15:17:08.896Z"
   },
   {
    "duration": 344,
    "start_time": "2021-12-30T15:18:09.873Z"
   },
   {
    "duration": 280,
    "start_time": "2021-12-30T15:18:10.219Z"
   },
   {
    "duration": 15,
    "start_time": "2021-12-30T15:18:10.501Z"
   },
   {
    "duration": 294,
    "start_time": "2021-12-30T15:18:10.518Z"
   },
   {
    "duration": 312,
    "start_time": "2021-12-30T15:27:00.687Z"
   },
   {
    "duration": 262,
    "start_time": "2021-12-30T15:27:59.047Z"
   },
   {
    "duration": 257,
    "start_time": "2021-12-30T15:28:08.665Z"
   },
   {
    "duration": 510,
    "start_time": "2021-12-30T15:28:10.965Z"
   },
   {
    "duration": 361,
    "start_time": "2021-12-30T15:28:17.339Z"
   },
   {
    "duration": 301,
    "start_time": "2021-12-30T15:28:33.453Z"
   },
   {
    "duration": 291,
    "start_time": "2021-12-30T15:28:42.402Z"
   },
   {
    "duration": 282,
    "start_time": "2021-12-30T15:28:45.881Z"
   },
   {
    "duration": 291,
    "start_time": "2021-12-30T15:28:52.003Z"
   },
   {
    "duration": 344,
    "start_time": "2021-12-30T15:29:03.810Z"
   },
   {
    "duration": 374,
    "start_time": "2021-12-30T15:32:10.584Z"
   },
   {
    "duration": 9842,
    "start_time": "2021-12-30T15:32:21.367Z"
   },
   {
    "duration": 368,
    "start_time": "2021-12-30T15:32:44.580Z"
   },
   {
    "duration": 741,
    "start_time": "2021-12-30T15:32:53.591Z"
   },
   {
    "duration": 504,
    "start_time": "2021-12-30T15:32:58.571Z"
   },
   {
    "duration": 267,
    "start_time": "2021-12-30T15:33:01.048Z"
   },
   {
    "duration": 325,
    "start_time": "2021-12-30T15:33:20.495Z"
   },
   {
    "duration": 310,
    "start_time": "2021-12-30T15:33:26.466Z"
   },
   {
    "duration": 256,
    "start_time": "2021-12-30T15:33:58.776Z"
   },
   {
    "duration": 199,
    "start_time": "2021-12-30T15:34:23.170Z"
   },
   {
    "duration": 321,
    "start_time": "2022-01-09T18:38:27.533Z"
   },
   {
    "duration": 291,
    "start_time": "2022-01-09T18:38:40.483Z"
   },
   {
    "duration": 3169,
    "start_time": "2022-01-09T18:39:26.444Z"
   },
   {
    "duration": 4600,
    "start_time": "2022-01-09T18:39:46.601Z"
   },
   {
    "duration": 503,
    "start_time": "2022-01-09T18:39:54.680Z"
   },
   {
    "duration": 4617,
    "start_time": "2022-01-09T18:40:03.093Z"
   },
   {
    "duration": 1630,
    "start_time": "2022-01-09T18:40:11.193Z"
   },
   {
    "duration": 791,
    "start_time": "2022-01-09T18:41:05.269Z"
   },
   {
    "duration": 39,
    "start_time": "2022-01-09T18:41:15.471Z"
   },
   {
    "duration": 18,
    "start_time": "2022-01-09T18:41:24.829Z"
   },
   {
    "duration": 8039,
    "start_time": "2022-01-09T18:41:36.713Z"
   },
   {
    "duration": 7,
    "start_time": "2022-01-09T18:42:12.349Z"
   },
   {
    "duration": 407,
    "start_time": "2022-01-09T18:42:14.070Z"
   },
   {
    "duration": 307,
    "start_time": "2022-01-09T18:42:21.295Z"
   },
   {
    "duration": 25,
    "start_time": "2022-01-09T18:42:27.503Z"
   },
   {
    "duration": 235,
    "start_time": "2022-01-09T18:42:30.201Z"
   },
   {
    "duration": 222,
    "start_time": "2022-01-09T18:42:33.715Z"
   },
   {
    "duration": 195,
    "start_time": "2022-01-09T18:42:35.982Z"
   },
   {
    "duration": 415,
    "start_time": "2022-01-09T18:42:38.408Z"
   },
   {
    "duration": 374,
    "start_time": "2022-01-09T18:42:47.207Z"
   },
   {
    "duration": 7828,
    "start_time": "2022-01-09T18:43:00.695Z"
   },
   {
    "duration": 320,
    "start_time": "2022-01-09T18:47:17.900Z"
   },
   {
    "duration": 323,
    "start_time": "2022-01-09T18:47:32.615Z"
   },
   {
    "duration": 319,
    "start_time": "2022-01-09T18:48:55.463Z"
   },
   {
    "duration": 319,
    "start_time": "2022-01-09T18:49:03.368Z"
   },
   {
    "duration": 315,
    "start_time": "2022-01-09T18:52:37.146Z"
   },
   {
    "duration": 19,
    "start_time": "2022-01-09T18:53:05.172Z"
   },
   {
    "duration": 107,
    "start_time": "2022-01-09T18:56:16.109Z"
   },
   {
    "duration": 602,
    "start_time": "2022-01-09T18:56:20.191Z"
   },
   {
    "duration": 19,
    "start_time": "2022-01-09T18:57:06.840Z"
   },
   {
    "duration": 509,
    "start_time": "2022-01-09T18:57:23.419Z"
   },
   {
    "duration": 542,
    "start_time": "2022-01-09T18:57:57.810Z"
   },
   {
    "duration": 527,
    "start_time": "2022-01-09T18:59:12.926Z"
   },
   {
    "duration": 109,
    "start_time": "2022-01-09T18:59:42.245Z"
   },
   {
    "duration": 1046,
    "start_time": "2022-01-09T18:59:47.748Z"
   },
   {
    "duration": 1013,
    "start_time": "2022-01-09T19:00:27.659Z"
   },
   {
    "duration": 468,
    "start_time": "2022-01-09T19:01:51.370Z"
   },
   {
    "duration": 1022,
    "start_time": "2022-01-09T19:02:54.277Z"
   },
   {
    "duration": 429,
    "start_time": "2022-01-09T19:09:21.552Z"
   },
   {
    "duration": 444,
    "start_time": "2022-01-09T19:09:25.614Z"
   },
   {
    "duration": 76,
    "start_time": "2022-01-09T19:09:36.906Z"
   },
   {
    "duration": 439,
    "start_time": "2022-01-09T19:09:40.514Z"
   },
   {
    "duration": 436,
    "start_time": "2022-01-09T19:11:37.321Z"
   },
   {
    "duration": 726,
    "start_time": "2022-01-09T19:11:45.567Z"
   },
   {
    "duration": 434,
    "start_time": "2022-01-09T19:11:52.628Z"
   },
   {
    "duration": 537,
    "start_time": "2022-01-09T19:12:32.362Z"
   },
   {
    "duration": 229,
    "start_time": "2022-01-09T19:13:00.328Z"
   },
   {
    "duration": 505,
    "start_time": "2022-01-09T19:13:05.304Z"
   },
   {
    "duration": 506,
    "start_time": "2022-01-09T19:13:22.541Z"
   },
   {
    "duration": 362,
    "start_time": "2022-01-09T19:18:48.072Z"
   },
   {
    "duration": 377,
    "start_time": "2022-01-09T19:18:57.216Z"
   },
   {
    "duration": 219,
    "start_time": "2022-01-09T19:20:41.212Z"
   },
   {
    "duration": 1208,
    "start_time": "2022-01-09T19:21:06.711Z"
   },
   {
    "duration": 203,
    "start_time": "2022-01-09T19:21:36.567Z"
   },
   {
    "duration": 503,
    "start_time": "2022-01-09T19:21:42.641Z"
   },
   {
    "duration": 256,
    "start_time": "2022-01-09T19:21:47.752Z"
   },
   {
    "duration": 216,
    "start_time": "2022-01-09T19:24:01.892Z"
   },
   {
    "duration": 1821,
    "start_time": "2022-01-09T19:24:10.225Z"
   },
   {
    "duration": 204112,
    "start_time": "2022-01-09T19:26:50.842Z"
   },
   {
    "duration": 177,
    "start_time": "2022-01-09T19:36:44.978Z"
   },
   {
    "duration": 389,
    "start_time": "2022-01-09T19:36:59.544Z"
   },
   {
    "duration": 323,
    "start_time": "2022-01-09T19:37:16.208Z"
   },
   {
    "duration": 506,
    "start_time": "2022-01-09T19:39:36.757Z"
   },
   {
    "duration": 71,
    "start_time": "2022-01-09T19:39:55.460Z"
   },
   {
    "duration": 40,
    "start_time": "2022-01-09T19:39:58.060Z"
   },
   {
    "duration": 19,
    "start_time": "2022-01-09T19:40:00.905Z"
   },
   {
    "duration": 8425,
    "start_time": "2022-01-09T19:40:04.221Z"
   },
   {
    "duration": 6,
    "start_time": "2022-01-09T19:40:16.676Z"
   },
   {
    "duration": 410,
    "start_time": "2022-01-09T19:40:19.498Z"
   },
   {
    "duration": 325,
    "start_time": "2022-01-09T19:40:23.495Z"
   },
   {
    "duration": 25,
    "start_time": "2022-01-09T19:40:26.370Z"
   },
   {
    "duration": 245,
    "start_time": "2022-01-09T19:40:28.877Z"
   },
   {
    "duration": 304,
    "start_time": "2022-01-09T19:40:31.291Z"
   },
   {
    "duration": 421,
    "start_time": "2022-01-09T19:40:33.691Z"
   },
   {
    "duration": 363,
    "start_time": "2022-01-09T19:40:39.676Z"
   },
   {
    "duration": 214,
    "start_time": "2022-01-09T19:40:44.837Z"
   },
   {
    "duration": 410,
    "start_time": "2022-01-09T19:40:47.453Z"
   },
   {
    "duration": 393,
    "start_time": "2022-01-09T19:40:51.856Z"
   },
   {
    "duration": 9760,
    "start_time": "2022-01-09T19:40:55.148Z"
   },
   {
    "duration": 7795,
    "start_time": "2022-01-09T19:41:16.500Z"
   },
   {
    "duration": 124,
    "start_time": "2022-01-09T19:41:58.811Z"
   },
   {
    "duration": 284,
    "start_time": "2022-01-09T19:42:19.251Z"
   },
   {
    "duration": 431,
    "start_time": "2022-01-09T19:42:28.341Z"
   },
   {
    "duration": 373,
    "start_time": "2022-01-09T19:42:40.859Z"
   },
   {
    "duration": 377,
    "start_time": "2022-01-09T19:43:02.408Z"
   },
   {
    "duration": 20272,
    "start_time": "2022-01-09T19:43:12.566Z"
   },
   {
    "duration": 5,
    "start_time": "2022-01-09T19:43:50.251Z"
   },
   {
    "duration": 295,
    "start_time": "2022-01-09T19:44:16.467Z"
   },
   {
    "duration": 25,
    "start_time": "2022-01-09T19:47:09.568Z"
   },
   {
    "duration": 5,
    "start_time": "2022-01-09T19:47:11.679Z"
   },
   {
    "duration": 8193,
    "start_time": "2022-01-09T19:47:28.254Z"
   },
   {
    "duration": 14,
    "start_time": "2022-01-09T19:50:31.384Z"
   },
   {
    "duration": 5,
    "start_time": "2022-01-09T19:50:33.025Z"
   },
   {
    "duration": 8200,
    "start_time": "2022-01-09T19:50:47.559Z"
   },
   {
    "duration": 17,
    "start_time": "2022-01-09T19:52:44.206Z"
   },
   {
    "duration": 5,
    "start_time": "2022-01-09T19:52:45.648Z"
   },
   {
    "duration": 16,
    "start_time": "2022-01-09T19:53:11.233Z"
   },
   {
    "duration": 75,
    "start_time": "2022-01-09T19:53:25.460Z"
   },
   {
    "duration": 308,
    "start_time": "2022-01-09T19:53:38.136Z"
   },
   {
    "duration": 1701,
    "start_time": "2022-01-09T19:53:47.367Z"
   },
   {
    "duration": 52,
    "start_time": "2022-01-09T19:53:49.071Z"
   },
   {
    "duration": 16,
    "start_time": "2022-01-09T19:53:49.126Z"
   },
   {
    "duration": 10,
    "start_time": "2022-01-09T19:53:49.145Z"
   },
   {
    "duration": 8251,
    "start_time": "2022-01-09T19:53:49.158Z"
   },
   {
    "duration": 16,
    "start_time": "2022-01-09T19:53:57.411Z"
   },
   {
    "duration": 482,
    "start_time": "2022-01-09T19:53:57.430Z"
   },
   {
    "duration": 362,
    "start_time": "2022-01-09T19:53:57.917Z"
   },
   {
    "duration": 43,
    "start_time": "2022-01-09T19:53:58.283Z"
   },
   {
    "duration": 292,
    "start_time": "2022-01-09T19:53:58.329Z"
   },
   {
    "duration": 226,
    "start_time": "2022-01-09T19:53:58.624Z"
   },
   {
    "duration": 457,
    "start_time": "2022-01-09T19:53:58.852Z"
   },
   {
    "duration": 431,
    "start_time": "2022-01-09T19:53:59.312Z"
   },
   {
    "duration": 8349,
    "start_time": "2022-01-09T19:53:59.746Z"
   },
   {
    "duration": 3059,
    "start_time": "2022-01-09T19:54:08.098Z"
   },
   {
    "duration": 4228,
    "start_time": "2022-01-09T19:54:11.160Z"
   },
   {
    "duration": -138,
    "start_time": "2022-01-09T19:54:15.529Z"
   },
   {
    "duration": -139,
    "start_time": "2022-01-09T19:54:15.532Z"
   },
   {
    "duration": -142,
    "start_time": "2022-01-09T19:54:15.536Z"
   },
   {
    "duration": -144,
    "start_time": "2022-01-09T19:54:15.539Z"
   },
   {
    "duration": -145,
    "start_time": "2022-01-09T19:54:15.542Z"
   },
   {
    "duration": -146,
    "start_time": "2022-01-09T19:54:15.545Z"
   },
   {
    "duration": -148,
    "start_time": "2022-01-09T19:54:15.548Z"
   },
   {
    "duration": -148,
    "start_time": "2022-01-09T19:54:15.550Z"
   },
   {
    "duration": -151,
    "start_time": "2022-01-09T19:54:15.554Z"
   },
   {
    "duration": -153,
    "start_time": "2022-01-09T19:54:15.557Z"
   },
   {
    "duration": -155,
    "start_time": "2022-01-09T19:54:15.561Z"
   },
   {
    "duration": 139,
    "start_time": "2022-01-09T19:54:20.636Z"
   },
   {
    "duration": 41,
    "start_time": "2022-01-09T19:54:25.548Z"
   },
   {
    "duration": 1534,
    "start_time": "2022-01-09T19:55:10.926Z"
   },
   {
    "duration": 60,
    "start_time": "2022-01-09T19:55:12.463Z"
   },
   {
    "duration": 18,
    "start_time": "2022-01-09T19:55:12.527Z"
   },
   {
    "duration": 10,
    "start_time": "2022-01-09T19:55:12.548Z"
   },
   {
    "duration": 8197,
    "start_time": "2022-01-09T19:55:12.560Z"
   },
   {
    "duration": 6,
    "start_time": "2022-01-09T19:55:20.759Z"
   },
   {
    "duration": 443,
    "start_time": "2022-01-09T19:55:20.768Z"
   },
   {
    "duration": 341,
    "start_time": "2022-01-09T19:55:21.215Z"
   },
   {
    "duration": 28,
    "start_time": "2022-01-09T19:55:21.560Z"
   },
   {
    "duration": 257,
    "start_time": "2022-01-09T19:55:21.591Z"
   },
   {
    "duration": 241,
    "start_time": "2022-01-09T19:55:21.851Z"
   },
   {
    "duration": 428,
    "start_time": "2022-01-09T19:55:22.095Z"
   },
   {
    "duration": 404,
    "start_time": "2022-01-09T19:55:22.525Z"
   },
   {
    "duration": 8162,
    "start_time": "2022-01-09T19:55:22.931Z"
   },
   {
    "duration": 3411,
    "start_time": "2022-01-09T19:55:31.096Z"
   },
   {
    "duration": 5615,
    "start_time": "2022-01-09T19:55:34.510Z"
   },
   {
    "duration": -91,
    "start_time": "2022-01-09T19:55:40.220Z"
   },
   {
    "duration": -96,
    "start_time": "2022-01-09T19:55:40.227Z"
   },
   {
    "duration": -99,
    "start_time": "2022-01-09T19:55:40.232Z"
   },
   {
    "duration": -101,
    "start_time": "2022-01-09T19:55:40.236Z"
   },
   {
    "duration": -103,
    "start_time": "2022-01-09T19:55:40.240Z"
   },
   {
    "duration": -105,
    "start_time": "2022-01-09T19:55:40.243Z"
   },
   {
    "duration": -107,
    "start_time": "2022-01-09T19:55:40.246Z"
   },
   {
    "duration": -108,
    "start_time": "2022-01-09T19:55:40.249Z"
   },
   {
    "duration": -110,
    "start_time": "2022-01-09T19:55:40.253Z"
   },
   {
    "duration": -112,
    "start_time": "2022-01-09T19:55:40.256Z"
   },
   {
    "duration": -114,
    "start_time": "2022-01-09T19:55:40.259Z"
   },
   {
    "duration": 155,
    "start_time": "2022-01-09T19:55:44.496Z"
   },
   {
    "duration": 48,
    "start_time": "2022-01-09T19:55:48.239Z"
   },
   {
    "duration": 39,
    "start_time": "2022-01-09T19:56:30.371Z"
   },
   {
    "duration": 275,
    "start_time": "2022-01-09T20:01:08.350Z"
   },
   {
    "duration": 277,
    "start_time": "2022-01-09T20:01:41.580Z"
   },
   {
    "duration": 7,
    "start_time": "2022-01-09T20:01:49.266Z"
   },
   {
    "duration": 11,
    "start_time": "2022-01-09T20:02:03.035Z"
   },
   {
    "duration": 5,
    "start_time": "2022-01-09T20:02:12.375Z"
   },
   {
    "duration": 5286,
    "start_time": "2022-01-09T20:03:56.199Z"
   },
   {
    "duration": 5469,
    "start_time": "2022-01-09T20:04:29.768Z"
   },
   {
    "duration": 143,
    "start_time": "2022-01-09T20:05:18.899Z"
   },
   {
    "duration": 234,
    "start_time": "2022-01-09T20:05:33.898Z"
   },
   {
    "duration": 5,
    "start_time": "2022-01-09T20:05:59.567Z"
   },
   {
    "duration": 6,
    "start_time": "2022-01-09T20:06:27.511Z"
   },
   {
    "duration": 6,
    "start_time": "2022-01-09T20:06:35.769Z"
   },
   {
    "duration": 6,
    "start_time": "2022-01-09T20:07:23.075Z"
   },
   {
    "duration": 6,
    "start_time": "2022-01-09T20:07:24.444Z"
   },
   {
    "duration": 6,
    "start_time": "2022-01-09T20:07:25.194Z"
   },
   {
    "duration": 6,
    "start_time": "2022-01-09T20:07:25.687Z"
   },
   {
    "duration": 5,
    "start_time": "2022-01-09T20:07:26.267Z"
   },
   {
    "duration": 811,
    "start_time": "2022-01-09T20:13:51.642Z"
   },
   {
    "duration": 427,
    "start_time": "2022-01-09T20:14:10.112Z"
   },
   {
    "duration": 5834,
    "start_time": "2022-01-09T20:16:04.700Z"
   },
   {
    "duration": 5566,
    "start_time": "2022-01-09T20:16:46.526Z"
   },
   {
    "duration": 876,
    "start_time": "2022-01-09T20:16:54.719Z"
   },
   {
    "duration": 437,
    "start_time": "2022-01-09T20:16:58.393Z"
   },
   {
    "duration": 21,
    "start_time": "2022-01-09T20:18:46.178Z"
   },
   {
    "duration": 436,
    "start_time": "2022-01-09T20:18:55.627Z"
   },
   {
    "duration": 302,
    "start_time": "2022-01-09T20:23:37.064Z"
   },
   {
    "duration": 8923,
    "start_time": "2022-01-09T20:25:03.289Z"
   },
   {
    "duration": 844,
    "start_time": "2022-01-09T20:25:16.876Z"
   },
   {
    "duration": 433,
    "start_time": "2022-01-09T20:25:20.044Z"
   },
   {
    "duration": 423,
    "start_time": "2022-01-09T20:26:39.561Z"
   },
   {
    "duration": 3002,
    "start_time": "2022-01-09T20:29:48.980Z"
   },
   {
    "duration": 7,
    "start_time": "2022-01-09T20:30:00.861Z"
   },
   {
    "duration": 6,
    "start_time": "2022-01-09T20:30:06.773Z"
   },
   {
    "duration": 14,
    "start_time": "2022-01-09T20:34:38.257Z"
   },
   {
    "duration": 412,
    "start_time": "2022-01-09T20:36:44.397Z"
   },
   {
    "duration": 414,
    "start_time": "2022-01-09T20:37:34.602Z"
   },
   {
    "duration": 1973,
    "start_time": "2022-01-09T20:37:49.294Z"
   },
   {
    "duration": 1153,
    "start_time": "2022-01-09T20:38:20.846Z"
   },
   {
    "duration": 10994,
    "start_time": "2022-01-09T20:38:42.279Z"
   },
   {
    "duration": 12871,
    "start_time": "2022-01-09T20:39:20.453Z"
   },
   {
    "duration": 695,
    "start_time": "2022-01-09T20:40:36.694Z"
   },
   {
    "duration": 633,
    "start_time": "2022-01-09T20:41:14.453Z"
   },
   {
    "duration": 655,
    "start_time": "2022-01-09T20:41:21.732Z"
   },
   {
    "duration": 13272,
    "start_time": "2022-01-09T20:42:28.557Z"
   },
   {
    "duration": 398054,
    "start_time": "2022-01-09T20:43:04.996Z"
   },
   {
    "duration": 541960,
    "start_time": "2022-01-09T20:58:49.644Z"
   },
   {
    "duration": 11,
    "start_time": "2022-01-09T21:08:14.869Z"
   },
   {
    "duration": 289,
    "start_time": "2022-01-09T21:08:47.375Z"
   },
   {
    "duration": 368,
    "start_time": "2022-01-09T21:09:23.978Z"
   },
   {
    "duration": 331,
    "start_time": "2022-01-09T21:09:49.908Z"
   },
   {
    "duration": 498,
    "start_time": "2022-01-09T21:09:55.681Z"
   },
   {
    "duration": 8,
    "start_time": "2022-01-09T21:10:04.947Z"
   },
   {
    "duration": 10,
    "start_time": "2022-01-09T21:11:07.552Z"
   },
   {
    "duration": 25,
    "start_time": "2022-01-09T21:11:13.155Z"
   },
   {
    "duration": 16,
    "start_time": "2022-01-09T21:11:29.315Z"
   },
   {
    "duration": 17,
    "start_time": "2022-01-09T21:12:49.780Z"
   },
   {
    "duration": 9,
    "start_time": "2022-01-09T21:15:12.899Z"
   },
   {
    "duration": 31,
    "start_time": "2022-01-09T21:21:24.641Z"
   },
   {
    "duration": 106,
    "start_time": "2022-01-09T21:21:48.459Z"
   },
   {
    "duration": 1938,
    "start_time": "2022-01-09T21:27:16.312Z"
   },
   {
    "duration": 1867,
    "start_time": "2022-01-09T21:27:33.850Z"
   },
   {
    "duration": 466,
    "start_time": "2022-01-09T21:29:43.712Z"
   },
   {
    "duration": 279,
    "start_time": "2022-01-09T21:29:58.990Z"
   },
   {
    "duration": 281,
    "start_time": "2022-01-09T21:30:51.642Z"
   },
   {
    "duration": 12,
    "start_time": "2022-01-09T21:31:18.818Z"
   },
   {
    "duration": 14,
    "start_time": "2022-01-09T22:00:24.502Z"
   },
   {
    "duration": 892,
    "start_time": "2022-01-09T22:03:32.743Z"
   },
   {
    "duration": 2327,
    "start_time": "2022-01-09T22:03:48.173Z"
   },
   {
    "duration": 1501,
    "start_time": "2022-01-09T22:07:45.552Z"
   },
   {
    "duration": 39,
    "start_time": "2022-01-09T22:07:47.055Z"
   },
   {
    "duration": 34,
    "start_time": "2022-01-09T22:07:47.097Z"
   },
   {
    "duration": 10,
    "start_time": "2022-01-09T22:07:47.134Z"
   },
   {
    "duration": 7860,
    "start_time": "2022-01-09T22:07:47.147Z"
   },
   {
    "duration": 18,
    "start_time": "2022-01-09T22:07:55.010Z"
   },
   {
    "duration": 433,
    "start_time": "2022-01-09T22:07:55.030Z"
   },
   {
    "duration": 329,
    "start_time": "2022-01-09T22:07:55.466Z"
   },
   {
    "duration": 37,
    "start_time": "2022-01-09T22:07:55.798Z"
   },
   {
    "duration": 250,
    "start_time": "2022-01-09T22:07:55.838Z"
   },
   {
    "duration": 221,
    "start_time": "2022-01-09T22:07:56.091Z"
   },
   {
    "duration": 424,
    "start_time": "2022-01-09T22:07:56.315Z"
   },
   {
    "duration": 406,
    "start_time": "2022-01-09T22:07:56.741Z"
   },
   {
    "duration": 7663,
    "start_time": "2022-01-09T22:07:57.150Z"
   },
   {
    "duration": 177,
    "start_time": "2022-01-09T22:08:04.816Z"
   },
   {
    "duration": 8924,
    "start_time": "2022-01-09T22:08:04.996Z"
   },
   {
    "duration": 863,
    "start_time": "2022-01-09T22:08:13.924Z"
   },
   {
    "duration": 465,
    "start_time": "2022-01-09T22:08:14.789Z"
   },
   {
    "duration": 3140,
    "start_time": "2022-01-09T22:08:15.256Z"
   },
   {
    "duration": 3134,
    "start_time": "2022-01-09T22:08:18.399Z"
   },
   {
    "duration": 1783,
    "start_time": "2022-01-09T22:08:21.536Z"
   },
   {
    "duration": 247,
    "start_time": "2022-01-09T22:08:23.324Z"
   },
   {
    "duration": 809,
    "start_time": "2022-01-09T22:08:23.578Z"
   },
   {
    "duration": 8,
    "start_time": "2022-01-09T22:08:24.390Z"
   },
   {
    "duration": 33,
    "start_time": "2022-01-09T22:08:24.400Z"
   },
   {
    "duration": 2377,
    "start_time": "2022-01-09T22:08:24.436Z"
   },
   {
    "duration": 1104,
    "start_time": "2022-01-10T08:21:37.365Z"
   },
   {
    "duration": 25,
    "start_time": "2022-01-10T08:21:38.470Z"
   },
   {
    "duration": 11,
    "start_time": "2022-01-10T08:21:38.497Z"
   },
   {
    "duration": 6,
    "start_time": "2022-01-10T08:21:38.510Z"
   },
   {
    "duration": 4998,
    "start_time": "2022-01-10T08:21:38.517Z"
   },
   {
    "duration": 4,
    "start_time": "2022-01-10T08:21:43.516Z"
   },
   {
    "duration": 250,
    "start_time": "2022-01-10T08:21:43.522Z"
   },
   {
    "duration": 192,
    "start_time": "2022-01-10T08:21:43.774Z"
   },
   {
    "duration": 17,
    "start_time": "2022-01-10T08:21:43.968Z"
   },
   {
    "duration": 148,
    "start_time": "2022-01-10T08:21:43.987Z"
   },
   {
    "duration": 128,
    "start_time": "2022-01-10T08:21:44.136Z"
   },
   {
    "duration": 239,
    "start_time": "2022-01-10T08:21:44.265Z"
   },
   {
    "duration": 228,
    "start_time": "2022-01-10T08:21:44.505Z"
   },
   {
    "duration": 4577,
    "start_time": "2022-01-10T08:21:44.735Z"
   },
   {
    "duration": 132,
    "start_time": "2022-01-10T08:21:49.313Z"
   },
   {
    "duration": 4999,
    "start_time": "2022-01-10T08:21:49.446Z"
   },
   {
    "duration": 411,
    "start_time": "2022-01-10T08:21:54.447Z"
   },
   {
    "duration": 261,
    "start_time": "2022-01-10T08:21:54.860Z"
   },
   {
    "duration": 11610,
    "start_time": "2022-01-10T08:21:55.122Z"
   },
   {
    "duration": 4087,
    "start_time": "2022-01-10T08:22:06.734Z"
   },
   {
    "duration": 908,
    "start_time": "2022-01-10T08:22:10.823Z"
   },
   {
    "duration": 178,
    "start_time": "2022-01-10T08:22:11.733Z"
   },
   {
    "duration": 1305,
    "start_time": "2022-01-10T08:22:11.913Z"
   },
   {
    "duration": 5,
    "start_time": "2022-01-10T08:22:13.219Z"
   },
   {
    "duration": 25,
    "start_time": "2022-01-10T08:22:13.226Z"
   },
   {
    "duration": 385,
    "start_time": "2022-01-10T08:22:13.252Z"
   },
   {
    "duration": 20,
    "start_time": "2022-01-10T08:31:06.479Z"
   },
   {
    "duration": 499,
    "start_time": "2022-01-10T08:31:52.702Z"
   },
   {
    "duration": 19,
    "start_time": "2022-01-10T08:32:33.497Z"
   },
   {
    "duration": 263,
    "start_time": "2022-01-10T08:35:01.169Z"
   },
   {
    "duration": 385,
    "start_time": "2022-01-10T08:35:08.688Z"
   },
   {
    "duration": 430,
    "start_time": "2022-01-10T08:35:19.525Z"
   },
   {
    "duration": 404,
    "start_time": "2022-01-10T08:35:36.513Z"
   },
   {
    "duration": 482,
    "start_time": "2022-01-10T08:35:43.854Z"
   },
   {
    "duration": 395,
    "start_time": "2022-01-10T08:35:52.084Z"
   },
   {
    "duration": 421,
    "start_time": "2022-01-10T08:35:59.012Z"
   },
   {
    "duration": 598,
    "start_time": "2022-01-10T08:36:04.677Z"
   },
   {
    "duration": 485,
    "start_time": "2022-01-10T08:36:11.457Z"
   },
   {
    "duration": 1555,
    "start_time": "2022-01-18T12:45:17.162Z"
   },
   {
    "duration": 39,
    "start_time": "2022-01-18T12:45:18.719Z"
   },
   {
    "duration": 22,
    "start_time": "2022-01-18T12:45:18.760Z"
   },
   {
    "duration": 8253,
    "start_time": "2022-01-18T12:45:18.785Z"
   },
   {
    "duration": 7,
    "start_time": "2022-01-18T12:45:27.040Z"
   },
   {
    "duration": 474,
    "start_time": "2022-01-18T12:45:27.049Z"
   },
   {
    "duration": 346,
    "start_time": "2022-01-18T12:45:27.526Z"
   },
   {
    "duration": 29,
    "start_time": "2022-01-18T12:45:27.875Z"
   },
   {
    "duration": 262,
    "start_time": "2022-01-18T12:45:27.907Z"
   },
   {
    "duration": 237,
    "start_time": "2022-01-18T12:45:28.171Z"
   },
   {
    "duration": 434,
    "start_time": "2022-01-18T12:45:28.410Z"
   },
   {
    "duration": 423,
    "start_time": "2022-01-18T12:45:28.846Z"
   },
   {
    "duration": 8240,
    "start_time": "2022-01-18T12:45:29.272Z"
   },
   {
    "duration": 150,
    "start_time": "2022-01-18T12:45:37.515Z"
   },
   {
    "duration": 9182,
    "start_time": "2022-01-18T12:45:37.668Z"
   },
   {
    "duration": 974,
    "start_time": "2022-01-18T12:45:46.853Z"
   },
   {
    "duration": 462,
    "start_time": "2022-01-18T12:45:47.830Z"
   },
   {
    "duration": 4948,
    "start_time": "2022-01-18T12:45:48.295Z"
   },
   {
    "duration": 5017,
    "start_time": "2022-01-18T12:45:53.246Z"
   },
   {
    "duration": 1948,
    "start_time": "2022-01-18T12:45:58.266Z"
   },
   {
    "duration": 262,
    "start_time": "2022-01-18T12:46:00.217Z"
   },
   {
    "duration": 864,
    "start_time": "2022-01-18T12:46:00.482Z"
   },
   {
    "duration": 8,
    "start_time": "2022-01-18T12:46:01.353Z"
   },
   {
    "duration": 20,
    "start_time": "2022-01-18T12:46:01.372Z"
   },
   {
    "duration": 2524,
    "start_time": "2022-01-18T12:46:01.394Z"
   },
   {
    "duration": 890,
    "start_time": "2022-01-18T12:46:03.920Z"
   },
   {
    "duration": 1092,
    "start_time": "2022-01-18T12:49:56.229Z"
   }
  ],
  "kernelspec": {
   "display_name": "Python 3",
   "language": "python",
   "name": "python3"
  },
  "language_info": {
   "codemirror_mode": {
    "name": "ipython",
    "version": 3
   },
   "file_extension": ".py",
   "mimetype": "text/x-python",
   "name": "python",
   "nbconvert_exporter": "python",
   "pygments_lexer": "ipython3",
   "version": "3.7.8"
  },
  "toc": {
   "base_numbering": 1,
   "nav_menu": {},
   "number_sections": true,
   "sideBar": true,
   "skip_h1_title": true,
   "title_cell": "Table of Contents",
   "title_sidebar": "Contents",
   "toc_cell": false,
   "toc_position": {},
   "toc_section_display": true,
   "toc_window_display": true
  }
 },
 "nbformat": 4,
 "nbformat_minor": 2
}
