{
 "cells": [ 
  {
   "cell_type": "markdown", 
   "metadata": {},
   "source": [
    "#  Определение перспективного тарифа для телеком-компании"
   ]
  },
  {
   "cell_type": "markdown",
   "metadata": {},
   "source": [
    "Клиентам предлагают два тарифных плана: «Смарт» и «Ультра». Чтобы скорректировать рекламный бюджет, коммерческий департамент хочет понять, какой тариф приносит больше денег.\n",
    "\n",
    "Предстоит сделать предварительный анализ тарифов на небольшой выборке клиентов. В распоряжении данные 500 пользователей «Мегалайна»: кто они, откуда, каким тарифом пользуются, сколько звонков и сообщений каждый отправил за 2018 год. Нужно проанализировать поведение клиентов и сделать вывод — какой тариф лучше. "
   ]
  },
  {
   "cell_type": "markdown",
   "metadata": {},
   "source": [
    "## Изучение данных из файла"
   ]
  },
  {
   "cell_type": "code",
   "execution_count": 1,
   "metadata": {
    "scrolled": true
   },
   "outputs": [
    {
     "name": "stdout",
     "output_type": "stream",
     "text": [
      "информация о звонках\n"
     ]
    },
    {
     "data": {
      "text/html": [
       "<div>\n",
       "<style scoped>\n",
       "    .dataframe tbody tr th:only-of-type {\n",
       "        vertical-align: middle;\n",
       "    }\n",
       "\n",
       "    .dataframe tbody tr th {\n",
       "        vertical-align: top;\n",
       "    }\n",
       "\n",
       "    .dataframe thead th {\n",
       "        text-align: right;\n",
       "    }\n",
       "</style>\n",
       "<table border=\"1\" class=\"dataframe\">\n",
       "  <thead>\n",
       "    <tr style=\"text-align: right;\">\n",
       "      <th></th>\n",
       "      <th>id</th>\n",
       "      <th>call_date</th>\n",
       "      <th>duration</th>\n",
       "      <th>user_id</th>\n",
       "    </tr>\n",
       "  </thead>\n",
       "  <tbody>\n",
       "    <tr>\n",
       "      <td>0</td>\n",
       "      <td>1000_0</td>\n",
       "      <td>2018-07-25</td>\n",
       "      <td>0.00</td>\n",
       "      <td>1000</td>\n",
       "    </tr>\n",
       "    <tr>\n",
       "      <td>1</td>\n",
       "      <td>1000_1</td>\n",
       "      <td>2018-08-17</td>\n",
       "      <td>0.00</td>\n",
       "      <td>1000</td>\n",
       "    </tr>\n",
       "    <tr>\n",
       "      <td>2</td>\n",
       "      <td>1000_2</td>\n",
       "      <td>2018-06-11</td>\n",
       "      <td>2.85</td>\n",
       "      <td>1000</td>\n",
       "    </tr>\n",
       "    <tr>\n",
       "      <td>3</td>\n",
       "      <td>1000_3</td>\n",
       "      <td>2018-09-21</td>\n",
       "      <td>13.80</td>\n",
       "      <td>1000</td>\n",
       "    </tr>\n",
       "    <tr>\n",
       "      <td>4</td>\n",
       "      <td>1000_4</td>\n",
       "      <td>2018-12-15</td>\n",
       "      <td>5.18</td>\n",
       "      <td>1000</td>\n",
       "    </tr>\n",
       "    <tr>\n",
       "      <td>5</td>\n",
       "      <td>1000_5</td>\n",
       "      <td>2018-11-02</td>\n",
       "      <td>0.00</td>\n",
       "      <td>1000</td>\n",
       "    </tr>\n",
       "    <tr>\n",
       "      <td>6</td>\n",
       "      <td>1000_6</td>\n",
       "      <td>2018-10-18</td>\n",
       "      <td>0.00</td>\n",
       "      <td>1000</td>\n",
       "    </tr>\n",
       "    <tr>\n",
       "      <td>7</td>\n",
       "      <td>1000_7</td>\n",
       "      <td>2018-08-22</td>\n",
       "      <td>18.31</td>\n",
       "      <td>1000</td>\n",
       "    </tr>\n",
       "    <tr>\n",
       "      <td>8</td>\n",
       "      <td>1000_8</td>\n",
       "      <td>2018-09-15</td>\n",
       "      <td>18.44</td>\n",
       "      <td>1000</td>\n",
       "    </tr>\n",
       "    <tr>\n",
       "      <td>9</td>\n",
       "      <td>1000_9</td>\n",
       "      <td>2018-08-15</td>\n",
       "      <td>0.00</td>\n",
       "      <td>1000</td>\n",
       "    </tr>\n",
       "  </tbody>\n",
       "</table>\n",
       "</div>"
      ],
      "text/plain": [
       "       id   call_date  duration  user_id\n",
       "0  1000_0  2018-07-25      0.00     1000\n",
       "1  1000_1  2018-08-17      0.00     1000\n",
       "2  1000_2  2018-06-11      2.85     1000\n",
       "3  1000_3  2018-09-21     13.80     1000\n",
       "4  1000_4  2018-12-15      5.18     1000\n",
       "5  1000_5  2018-11-02      0.00     1000\n",
       "6  1000_6  2018-10-18      0.00     1000\n",
       "7  1000_7  2018-08-22     18.31     1000\n",
       "8  1000_8  2018-09-15     18.44     1000\n",
       "9  1000_9  2018-08-15      0.00     1000"
      ]
     },
     "metadata": {},
     "output_type": "display_data"
    },
    {
     "name": "stdout",
     "output_type": "stream",
     "text": [
      "Содержание пропусков:\n",
      "id           0\n",
      "call_date    0\n",
      "duration     0\n",
      "user_id      0\n",
      "dtype: int64\n",
      "\n",
      "Количество дубликатов:  0\n",
      "\n",
      "<class 'pandas.core.frame.DataFrame'>\n",
      "RangeIndex: 202607 entries, 0 to 202606\n",
      "Data columns (total 4 columns):\n",
      "id           202607 non-null object\n",
      "call_date    202607 non-null object\n",
      "duration     202607 non-null float64\n",
      "user_id      202607 non-null int64\n",
      "dtypes: float64(1), int64(1), object(2)\n",
      "memory usage: 6.2+ MB\n",
      "None\n",
      "\n",
      "информация об интернет-сессиях\n"
     ]
    },
    {
     "data": {
      "text/html": [
       "<div>\n",
       "<style scoped>\n",
       "    .dataframe tbody tr th:only-of-type {\n",
       "        vertical-align: middle;\n",
       "    }\n",
       "\n",
       "    .dataframe tbody tr th {\n",
       "        vertical-align: top;\n",
       "    }\n",
       "\n",
       "    .dataframe thead th {\n",
       "        text-align: right;\n",
       "    }\n",
       "</style>\n",
       "<table border=\"1\" class=\"dataframe\">\n",
       "  <thead>\n",
       "    <tr style=\"text-align: right;\">\n",
       "      <th></th>\n",
       "      <th>Unnamed: 0</th>\n",
       "      <th>id</th>\n",
       "      <th>mb_used</th>\n",
       "      <th>session_date</th>\n",
       "      <th>user_id</th>\n",
       "    </tr>\n",
       "  </thead>\n",
       "  <tbody>\n",
       "    <tr>\n",
       "      <td>0</td>\n",
       "      <td>0</td>\n",
       "      <td>1000_0</td>\n",
       "      <td>112.95</td>\n",
       "      <td>2018-11-25</td>\n",
       "      <td>1000</td>\n",
       "    </tr>\n",
       "    <tr>\n",
       "      <td>1</td>\n",
       "      <td>1</td>\n",
       "      <td>1000_1</td>\n",
       "      <td>1052.81</td>\n",
       "      <td>2018-09-07</td>\n",
       "      <td>1000</td>\n",
       "    </tr>\n",
       "    <tr>\n",
       "      <td>2</td>\n",
       "      <td>2</td>\n",
       "      <td>1000_2</td>\n",
       "      <td>1197.26</td>\n",
       "      <td>2018-06-25</td>\n",
       "      <td>1000</td>\n",
       "    </tr>\n",
       "    <tr>\n",
       "      <td>3</td>\n",
       "      <td>3</td>\n",
       "      <td>1000_3</td>\n",
       "      <td>550.27</td>\n",
       "      <td>2018-08-22</td>\n",
       "      <td>1000</td>\n",
       "    </tr>\n",
       "    <tr>\n",
       "      <td>4</td>\n",
       "      <td>4</td>\n",
       "      <td>1000_4</td>\n",
       "      <td>302.56</td>\n",
       "      <td>2018-09-24</td>\n",
       "      <td>1000</td>\n",
       "    </tr>\n",
       "    <tr>\n",
       "      <td>5</td>\n",
       "      <td>5</td>\n",
       "      <td>1000_5</td>\n",
       "      <td>399.97</td>\n",
       "      <td>2018-10-02</td>\n",
       "      <td>1000</td>\n",
       "    </tr>\n",
       "    <tr>\n",
       "      <td>6</td>\n",
       "      <td>6</td>\n",
       "      <td>1000_6</td>\n",
       "      <td>540.08</td>\n",
       "      <td>2018-09-07</td>\n",
       "      <td>1000</td>\n",
       "    </tr>\n",
       "    <tr>\n",
       "      <td>7</td>\n",
       "      <td>7</td>\n",
       "      <td>1000_7</td>\n",
       "      <td>415.70</td>\n",
       "      <td>2018-07-11</td>\n",
       "      <td>1000</td>\n",
       "    </tr>\n",
       "    <tr>\n",
       "      <td>8</td>\n",
       "      <td>8</td>\n",
       "      <td>1000_8</td>\n",
       "      <td>505.40</td>\n",
       "      <td>2018-10-08</td>\n",
       "      <td>1000</td>\n",
       "    </tr>\n",
       "    <tr>\n",
       "      <td>9</td>\n",
       "      <td>9</td>\n",
       "      <td>1000_9</td>\n",
       "      <td>345.54</td>\n",
       "      <td>2018-09-03</td>\n",
       "      <td>1000</td>\n",
       "    </tr>\n",
       "  </tbody>\n",
       "</table>\n",
       "</div>"
      ],
      "text/plain": [
       "   Unnamed: 0      id  mb_used session_date  user_id\n",
       "0           0  1000_0   112.95   2018-11-25     1000\n",
       "1           1  1000_1  1052.81   2018-09-07     1000\n",
       "2           2  1000_2  1197.26   2018-06-25     1000\n",
       "3           3  1000_3   550.27   2018-08-22     1000\n",
       "4           4  1000_4   302.56   2018-09-24     1000\n",
       "5           5  1000_5   399.97   2018-10-02     1000\n",
       "6           6  1000_6   540.08   2018-09-07     1000\n",
       "7           7  1000_7   415.70   2018-07-11     1000\n",
       "8           8  1000_8   505.40   2018-10-08     1000\n",
       "9           9  1000_9   345.54   2018-09-03     1000"
      ]
     },
     "metadata": {},
     "output_type": "display_data"
    },
    {
     "name": "stdout",
     "output_type": "stream",
     "text": [
      "Содержание пропусков:\n",
      "Unnamed: 0      0\n",
      "id              0\n",
      "mb_used         0\n",
      "session_date    0\n",
      "user_id         0\n",
      "dtype: int64\n",
      "\n",
      "Количество дубликатов:  0\n",
      "\n",
      "<class 'pandas.core.frame.DataFrame'>\n",
      "RangeIndex: 149396 entries, 0 to 149395\n",
      "Data columns (total 5 columns):\n",
      "Unnamed: 0      149396 non-null int64\n",
      "id              149396 non-null object\n",
      "mb_used         149396 non-null float64\n",
      "session_date    149396 non-null object\n",
      "user_id         149396 non-null int64\n",
      "dtypes: float64(1), int64(2), object(2)\n",
      "memory usage: 5.7+ MB\n",
      "None\n",
      "\n",
      "информация о сообщениях\n"
     ]
    },
    {
     "data": {
      "text/html": [
       "<div>\n",
       "<style scoped>\n",
       "    .dataframe tbody tr th:only-of-type {\n",
       "        vertical-align: middle;\n",
       "    }\n",
       "\n",
       "    .dataframe tbody tr th {\n",
       "        vertical-align: top;\n",
       "    }\n",
       "\n",
       "    .dataframe thead th {\n",
       "        text-align: right;\n",
       "    }\n",
       "</style>\n",
       "<table border=\"1\" class=\"dataframe\">\n",
       "  <thead>\n",
       "    <tr style=\"text-align: right;\">\n",
       "      <th></th>\n",
       "      <th>id</th>\n",
       "      <th>message_date</th>\n",
       "      <th>user_id</th>\n",
       "    </tr>\n",
       "  </thead>\n",
       "  <tbody>\n",
       "    <tr>\n",
       "      <td>0</td>\n",
       "      <td>1000_0</td>\n",
       "      <td>2018-06-27</td>\n",
       "      <td>1000</td>\n",
       "    </tr>\n",
       "    <tr>\n",
       "      <td>1</td>\n",
       "      <td>1000_1</td>\n",
       "      <td>2018-10-08</td>\n",
       "      <td>1000</td>\n",
       "    </tr>\n",
       "    <tr>\n",
       "      <td>2</td>\n",
       "      <td>1000_2</td>\n",
       "      <td>2018-08-04</td>\n",
       "      <td>1000</td>\n",
       "    </tr>\n",
       "    <tr>\n",
       "      <td>3</td>\n",
       "      <td>1000_3</td>\n",
       "      <td>2018-06-16</td>\n",
       "      <td>1000</td>\n",
       "    </tr>\n",
       "    <tr>\n",
       "      <td>4</td>\n",
       "      <td>1000_4</td>\n",
       "      <td>2018-12-05</td>\n",
       "      <td>1000</td>\n",
       "    </tr>\n",
       "    <tr>\n",
       "      <td>5</td>\n",
       "      <td>1000_5</td>\n",
       "      <td>2018-06-20</td>\n",
       "      <td>1000</td>\n",
       "    </tr>\n",
       "    <tr>\n",
       "      <td>6</td>\n",
       "      <td>1000_6</td>\n",
       "      <td>2018-11-19</td>\n",
       "      <td>1000</td>\n",
       "    </tr>\n",
       "    <tr>\n",
       "      <td>7</td>\n",
       "      <td>1000_7</td>\n",
       "      <td>2018-10-29</td>\n",
       "      <td>1000</td>\n",
       "    </tr>\n",
       "    <tr>\n",
       "      <td>8</td>\n",
       "      <td>1000_8</td>\n",
       "      <td>2018-06-25</td>\n",
       "      <td>1000</td>\n",
       "    </tr>\n",
       "    <tr>\n",
       "      <td>9</td>\n",
       "      <td>1000_9</td>\n",
       "      <td>2018-12-18</td>\n",
       "      <td>1000</td>\n",
       "    </tr>\n",
       "  </tbody>\n",
       "</table>\n",
       "</div>"
      ],
      "text/plain": [
       "       id message_date  user_id\n",
       "0  1000_0   2018-06-27     1000\n",
       "1  1000_1   2018-10-08     1000\n",
       "2  1000_2   2018-08-04     1000\n",
       "3  1000_3   2018-06-16     1000\n",
       "4  1000_4   2018-12-05     1000\n",
       "5  1000_5   2018-06-20     1000\n",
       "6  1000_6   2018-11-19     1000\n",
       "7  1000_7   2018-10-29     1000\n",
       "8  1000_8   2018-06-25     1000\n",
       "9  1000_9   2018-12-18     1000"
      ]
     },
     "metadata": {},
     "output_type": "display_data"
    },
    {
     "name": "stdout",
     "output_type": "stream",
     "text": [
      "Содержание пропусков:\n",
      "id              0\n",
      "message_date    0\n",
      "user_id         0\n",
      "dtype: int64\n",
      "\n",
      "Количество дубликатов:  0\n",
      "\n",
      "<class 'pandas.core.frame.DataFrame'>\n",
      "RangeIndex: 123036 entries, 0 to 123035\n",
      "Data columns (total 3 columns):\n",
      "id              123036 non-null object\n",
      "message_date    123036 non-null object\n",
      "user_id         123036 non-null int64\n",
      "dtypes: int64(1), object(2)\n",
      "memory usage: 2.8+ MB\n",
      "None\n",
      "\n",
      "информация о тарифах\n"
     ]
    },
    {
     "data": {
      "text/html": [
       "<div>\n",
       "<style scoped>\n",
       "    .dataframe tbody tr th:only-of-type {\n",
       "        vertical-align: middle;\n",
       "    }\n",
       "\n",
       "    .dataframe tbody tr th {\n",
       "        vertical-align: top;\n",
       "    }\n",
       "\n",
       "    .dataframe thead th {\n",
       "        text-align: right;\n",
       "    }\n",
       "</style>\n",
       "<table border=\"1\" class=\"dataframe\">\n",
       "  <thead>\n",
       "    <tr style=\"text-align: right;\">\n",
       "      <th></th>\n",
       "      <th>messages_included</th>\n",
       "      <th>mb_per_month_included</th>\n",
       "      <th>minutes_included</th>\n",
       "      <th>rub_monthly_fee</th>\n",
       "      <th>rub_per_gb</th>\n",
       "      <th>rub_per_message</th>\n",
       "      <th>rub_per_minute</th>\n",
       "      <th>tariff_name</th>\n",
       "    </tr>\n",
       "  </thead>\n",
       "  <tbody>\n",
       "    <tr>\n",
       "      <td>0</td>\n",
       "      <td>50</td>\n",
       "      <td>15360</td>\n",
       "      <td>500</td>\n",
       "      <td>550</td>\n",
       "      <td>200</td>\n",
       "      <td>3</td>\n",
       "      <td>3</td>\n",
       "      <td>smart</td>\n",
       "    </tr>\n",
       "    <tr>\n",
       "      <td>1</td>\n",
       "      <td>1000</td>\n",
       "      <td>30720</td>\n",
       "      <td>3000</td>\n",
       "      <td>1950</td>\n",
       "      <td>150</td>\n",
       "      <td>1</td>\n",
       "      <td>1</td>\n",
       "      <td>ultra</td>\n",
       "    </tr>\n",
       "  </tbody>\n",
       "</table>\n",
       "</div>"
      ],
      "text/plain": [
       "   messages_included  mb_per_month_included  minutes_included  \\\n",
       "0                 50                  15360               500   \n",
       "1               1000                  30720              3000   \n",
       "\n",
       "   rub_monthly_fee  rub_per_gb  rub_per_message  rub_per_minute tariff_name  \n",
       "0              550         200                3               3       smart  \n",
       "1             1950         150                1               1       ultra  "
      ]
     },
     "metadata": {},
     "output_type": "display_data"
    },
    {
     "name": "stdout",
     "output_type": "stream",
     "text": [
      "Содержание пропусков:\n",
      "messages_included        0\n",
      "mb_per_month_included    0\n",
      "minutes_included         0\n",
      "rub_monthly_fee          0\n",
      "rub_per_gb               0\n",
      "rub_per_message          0\n",
      "rub_per_minute           0\n",
      "tariff_name              0\n",
      "dtype: int64\n",
      "\n",
      "Количество дубликатов:  0\n",
      "\n",
      "<class 'pandas.core.frame.DataFrame'>\n",
      "RangeIndex: 2 entries, 0 to 1\n",
      "Data columns (total 8 columns):\n",
      "messages_included        2 non-null int64\n",
      "mb_per_month_included    2 non-null int64\n",
      "minutes_included         2 non-null int64\n",
      "rub_monthly_fee          2 non-null int64\n",
      "rub_per_gb               2 non-null int64\n",
      "rub_per_message          2 non-null int64\n",
      "rub_per_minute           2 non-null int64\n",
      "tariff_name              2 non-null object\n",
      "dtypes: int64(7), object(1)\n",
      "memory usage: 256.0+ bytes\n",
      "None\n",
      "\n",
      "информация о пользователях\n"
     ]
    },
    {
     "data": {
      "text/html": [
       "<div>\n",
       "<style scoped>\n",
       "    .dataframe tbody tr th:only-of-type {\n",
       "        vertical-align: middle;\n",
       "    }\n",
       "\n",
       "    .dataframe tbody tr th {\n",
       "        vertical-align: top;\n",
       "    }\n",
       "\n",
       "    .dataframe thead th {\n",
       "        text-align: right;\n",
       "    }\n",
       "</style>\n",
       "<table border=\"1\" class=\"dataframe\">\n",
       "  <thead>\n",
       "    <tr style=\"text-align: right;\">\n",
       "      <th></th>\n",
       "      <th>user_id</th>\n",
       "      <th>age</th>\n",
       "      <th>churn_date</th>\n",
       "      <th>city</th>\n",
       "      <th>first_name</th>\n",
       "      <th>last_name</th>\n",
       "      <th>reg_date</th>\n",
       "      <th>tariff</th>\n",
       "    </tr>\n",
       "  </thead>\n",
       "  <tbody>\n",
       "    <tr>\n",
       "      <td>0</td>\n",
       "      <td>1000</td>\n",
       "      <td>52</td>\n",
       "      <td>NaN</td>\n",
       "      <td>Краснодар</td>\n",
       "      <td>Рафаил</td>\n",
       "      <td>Верещагин</td>\n",
       "      <td>2018-05-25</td>\n",
       "      <td>ultra</td>\n",
       "    </tr>\n",
       "    <tr>\n",
       "      <td>1</td>\n",
       "      <td>1001</td>\n",
       "      <td>41</td>\n",
       "      <td>NaN</td>\n",
       "      <td>Москва</td>\n",
       "      <td>Иван</td>\n",
       "      <td>Ежов</td>\n",
       "      <td>2018-11-01</td>\n",
       "      <td>smart</td>\n",
       "    </tr>\n",
       "    <tr>\n",
       "      <td>2</td>\n",
       "      <td>1002</td>\n",
       "      <td>59</td>\n",
       "      <td>NaN</td>\n",
       "      <td>Стерлитамак</td>\n",
       "      <td>Евгений</td>\n",
       "      <td>Абрамович</td>\n",
       "      <td>2018-06-17</td>\n",
       "      <td>smart</td>\n",
       "    </tr>\n",
       "    <tr>\n",
       "      <td>3</td>\n",
       "      <td>1003</td>\n",
       "      <td>23</td>\n",
       "      <td>NaN</td>\n",
       "      <td>Москва</td>\n",
       "      <td>Белла</td>\n",
       "      <td>Белякова</td>\n",
       "      <td>2018-08-17</td>\n",
       "      <td>ultra</td>\n",
       "    </tr>\n",
       "    <tr>\n",
       "      <td>4</td>\n",
       "      <td>1004</td>\n",
       "      <td>68</td>\n",
       "      <td>NaN</td>\n",
       "      <td>Новокузнецк</td>\n",
       "      <td>Татьяна</td>\n",
       "      <td>Авдеенко</td>\n",
       "      <td>2018-05-14</td>\n",
       "      <td>ultra</td>\n",
       "    </tr>\n",
       "    <tr>\n",
       "      <td>5</td>\n",
       "      <td>1005</td>\n",
       "      <td>67</td>\n",
       "      <td>NaN</td>\n",
       "      <td>Набережные Челны</td>\n",
       "      <td>Афанасий</td>\n",
       "      <td>Горлов</td>\n",
       "      <td>2018-01-25</td>\n",
       "      <td>smart</td>\n",
       "    </tr>\n",
       "    <tr>\n",
       "      <td>6</td>\n",
       "      <td>1006</td>\n",
       "      <td>21</td>\n",
       "      <td>NaN</td>\n",
       "      <td>Ульяновск</td>\n",
       "      <td>Леонид</td>\n",
       "      <td>Ермолаев</td>\n",
       "      <td>2018-02-26</td>\n",
       "      <td>smart</td>\n",
       "    </tr>\n",
       "    <tr>\n",
       "      <td>7</td>\n",
       "      <td>1007</td>\n",
       "      <td>65</td>\n",
       "      <td>NaN</td>\n",
       "      <td>Москва</td>\n",
       "      <td>Юна</td>\n",
       "      <td>Березина</td>\n",
       "      <td>2018-04-19</td>\n",
       "      <td>smart</td>\n",
       "    </tr>\n",
       "    <tr>\n",
       "      <td>8</td>\n",
       "      <td>1008</td>\n",
       "      <td>63</td>\n",
       "      <td>NaN</td>\n",
       "      <td>Челябинск</td>\n",
       "      <td>Рустэм</td>\n",
       "      <td>Пономарёв</td>\n",
       "      <td>2018-12-19</td>\n",
       "      <td>smart</td>\n",
       "    </tr>\n",
       "    <tr>\n",
       "      <td>9</td>\n",
       "      <td>1009</td>\n",
       "      <td>24</td>\n",
       "      <td>NaN</td>\n",
       "      <td>Пермь</td>\n",
       "      <td>Василиса</td>\n",
       "      <td>Блинова</td>\n",
       "      <td>2018-03-22</td>\n",
       "      <td>smart</td>\n",
       "    </tr>\n",
       "  </tbody>\n",
       "</table>\n",
       "</div>"
      ],
      "text/plain": [
       "   user_id  age churn_date              city first_name  last_name  \\\n",
       "0     1000   52        NaN         Краснодар     Рафаил  Верещагин   \n",
       "1     1001   41        NaN            Москва       Иван       Ежов   \n",
       "2     1002   59        NaN       Стерлитамак    Евгений  Абрамович   \n",
       "3     1003   23        NaN            Москва      Белла   Белякова   \n",
       "4     1004   68        NaN       Новокузнецк    Татьяна   Авдеенко   \n",
       "5     1005   67        NaN  Набережные Челны   Афанасий     Горлов   \n",
       "6     1006   21        NaN         Ульяновск     Леонид   Ермолаев   \n",
       "7     1007   65        NaN            Москва        Юна   Березина   \n",
       "8     1008   63        NaN         Челябинск     Рустэм  Пономарёв   \n",
       "9     1009   24        NaN             Пермь   Василиса    Блинова   \n",
       "\n",
       "     reg_date tariff  \n",
       "0  2018-05-25  ultra  \n",
       "1  2018-11-01  smart  \n",
       "2  2018-06-17  smart  \n",
       "3  2018-08-17  ultra  \n",
       "4  2018-05-14  ultra  \n",
       "5  2018-01-25  smart  \n",
       "6  2018-02-26  smart  \n",
       "7  2018-04-19  smart  \n",
       "8  2018-12-19  smart  \n",
       "9  2018-03-22  smart  "
      ]
     },
     "metadata": {},
     "output_type": "display_data"
    },
    {
     "name": "stdout",
     "output_type": "stream",
     "text": [
      "Содержание пропусков:\n",
      "user_id         0\n",
      "age             0\n",
      "churn_date    462\n",
      "city            0\n",
      "first_name      0\n",
      "last_name       0\n",
      "reg_date        0\n",
      "tariff          0\n",
      "dtype: int64\n",
      "\n",
      "Количество дубликатов:  0\n",
      "\n",
      "<class 'pandas.core.frame.DataFrame'>\n",
      "RangeIndex: 500 entries, 0 to 499\n",
      "Data columns (total 8 columns):\n",
      "user_id       500 non-null int64\n",
      "age           500 non-null int64\n",
      "churn_date    38 non-null object\n",
      "city          500 non-null object\n",
      "first_name    500 non-null object\n",
      "last_name     500 non-null object\n",
      "reg_date      500 non-null object\n",
      "tariff        500 non-null object\n",
      "dtypes: int64(2), object(6)\n",
      "memory usage: 31.4+ KB\n",
      "None\n",
      "\n"
     ]
    }
   ],
   "source": [
    "import pandas as pd \n",
    "import matplotlib.pyplot as plt\n",
    "from IPython.display import display\n",
    "import numpy as np\n",
    "import warnings \n",
    "from scipy import stats as st\n",
    "warnings.filterwarnings('ignore')\n",
    "\n",
    "def read(data):  #<функция вывода таблиц>\n",
    "    display(data.head(10))\n",
    "    print('Содержание пропусков:')\n",
    "    print(data.isnull().sum())\n",
    "    print('')\n",
    "    print('Количество дубликатов: ', data.duplicated().sum())\n",
    "    print('')\n",
    "    print(data.info())\n",
    "    \n",
    "df_calls = pd.read_csv('/datasets/calls.csv')\n",
    "df_internet = pd.read_csv('/datasets/internet.csv')\n",
    "df_messages = pd.read_csv('/datasets/messages.csv')\n",
    "df_tariffs = pd.read_csv('/datasets/tariffs.csv')\n",
    "df_users = pd.read_csv('/datasets/users.csv')\n",
    "\n",
    "datas = [df_calls, \n",
    "         df_internet, \n",
    "         df_messages, \n",
    "         df_tariffs, \n",
    "         df_users]\n",
    "\n",
    "datas_name = ['информация о звонках', \n",
    "              'информация об интернет-сессиях',\n",
    "              'информация о сообщениях',\n",
    "              'информация о тарифах',\n",
    "              'информация о пользователях']\n",
    "\n",
    "for i,j in zip(datas, datas_name) : \n",
    "    print(j)\n",
    "    read(i)\n",
    "    print('')"
   ]
  },
  {
   "cell_type": "markdown",
   "metadata": {},
   "source": [
    "Рассмотрим полученную информацию более подробно:\n",
    "\n",
    "У нас 5 таблиц с разными данными, а именно:\n",
    "* users\n",
    "* calls\n",
    "* messages\n",
    "* internet\n",
    "* tariffs\n",
    "\n",
    "Обратим внимание на каждую таблицу отдельно, рассмотрим какие столбцы и типы данных она содержит внутри себя: \n",
    "- Таблица users (информация о пользователях):\n",
    " * user_id — уникальный идентификатор пользователя\n",
    " * first_name — имя пользователя\n",
    " * last_name — фамилия пользователя\n",
    " * age — возраст пользователя (годы)\n",
    " * reg_date — дата подключения тарифа (день, месяц, год)\n",
    " * churn_date — дата прекращения пользования тарифом (если значение пропущено, то тариф ещё действовал на момент выгрузки данных)\n",
    " * city — город проживания пользователя\n",
    " * tarif — название тарифного плана\n",
    "8 столбцов, в которых встречаются данные типа int64(2), object(6)\n",
    "\n",
    "\n",
    "- Таблица calls (информация о звонках):\n",
    " * id — уникальный номер звонка\n",
    " * call_date — дата звонка\n",
    " * duration — длительность звонка в минутах\n",
    " * user_id — идентификатор пользователя, сделавшего звонок\n",
    "4 столбца, в которых встречаются данные типа float64(1), int64(1), object(2)\n",
    "\n",
    "\n",
    "- Таблица messages (информация о сообщениях):\n",
    " * id — уникальный номер сообщения\n",
    " * message_date — дата сообщения\n",
    " * user_id — идентификатор пользователя, отправившего сообщение\n",
    "3 столбца, в которых встречаются данные типа int64(1), object(2)\n",
    "\n",
    "\n",
    "- Таблица internet (информация об интернет-сессиях):\n",
    " * Unnamed: 0 - ?\n",
    " * id — уникальный номер сессии\n",
    " * mb_used — объём потраченного за сессию интернет-трафика (в мегабайтах)\n",
    " * session_date — дата интернет-сессии\n",
    " * user_id — идентификатор пользователя\n",
    "5 столбцов, в которых встречаются данные типа float64(1), int64(2), object(2); Однако в задании было указано 4 столбца, выявлен столбец *Unnamed: 0* неизвестного содержания, обработаем его в следующем шаге. \n",
    "\n",
    "\n",
    "- Таблица tariffs (информация о тарифах):\n",
    " * tariff_name — название тарифа\n",
    " * rub_monthly_fee — ежемесячная абонентская плата в рублях\n",
    " * minutes_included — количество минут разговора в месяц, включённых в абонентскую плату\n",
    " * messages_included — количество сообщений в месяц, включённых в абонентскую плату\n",
    " * mb_per_month_included — объём интернет-трафика, включённого в абонентскую плату (в мегабайтах)\n",
    " * rub_per_minute — стоимость минуты разговора сверх тарифного пакета (например, если в тарифе 100 минут разговора в месяц, то со 101 минуты будет взиматься плата)\n",
    " * rub_per_message — стоимость отправки сообщения сверх тарифного пакета\n",
    " * rub_per_gb — стоимость дополнительного гигабайта интернет-трафика сверх тарифного пакета (1 гигабайт = 1024 мегабайта)\n",
    "8 столбцов, в которых встречаются данные типа int64(7), object(1)\n",
    "\n",
    "\n",
    "**Вывод:**\n",
    "\n",
    "В данных не содежится дубликатов и пропусков, кроме столбца *churn_date*, но эти пропуски обусловлены тем, что тариф ещё действовал на момент выгрузки таблиц. Однако встречаются неправильные типы, которые будут заменены в следующем шаге. Более того надо будет также проверить данные на наличие ошибок. "
   ]
  },
  {
   "cell_type": "markdown",
   "metadata": {},
   "source": [
    "## Подготовка данных\n",
    "\n",
    "### Предобработка"
   ]
  },
  {
   "cell_type": "markdown",
   "metadata": {},
   "source": [
    "Так как таблиц довольно много будем обрабатывать их отдельно. \n",
    "\n",
    "Начнем с таблицы *users*: в двух столбцах *churn_date* и *reg_date* значения передаются в качестве строковых данных, для успешного анализа переведем значения в формат даты "
   ]
  },
  {
   "cell_type": "code",
   "execution_count": 2,
   "metadata": {},
   "outputs": [],
   "source": [
    "columns_users_time = ['churn_date', 'reg_date']\n",
    "\n",
    "for i in columns_users_time:\n",
    "    df_users[i] = pd.to_datetime(df_users[i], format='%Y-%m-%d')"
   ]
  },
  {
   "cell_type": "markdown",
   "metadata": {},
   "source": [
    "Проверим данные таблицы на наличие ошибок: выведем методом *unique()* содержимое столбцов *age*, *city* и *tariff*"
   ]
  },
  {
   "cell_type": "code",
   "execution_count": 3,
   "metadata": {},
   "outputs": [
    {
     "name": "stdout",
     "output_type": "stream",
     "text": [
      "[52 41 59 23 68 67 21 65 63 24 26 44 38 36 64 58 73 71 61 72 42 56 32 62\n",
      " 20 51 28 66 31 37 47 40 69 48 33 39 43 46 45 55 53 34 49 25 18 70 50 19\n",
      " 54 60 29 27 74 22 30 75 57 35]\n",
      "******************\n",
      "['Краснодар' 'Москва' 'Стерлитамак' 'Новокузнецк' 'Набережные Челны'\n",
      " 'Ульяновск' 'Челябинск' 'Пермь' 'Тюмень' 'Самара' 'Санкт-Петербург'\n",
      " 'Иваново' 'Чебоксары' 'Омск' 'Уфа' 'Томск' 'Чита' 'Мурманск'\n",
      " 'Петрозаводск' 'Тверь' 'Екатеринбург' 'Махачкала' 'Вологда' 'Череповец'\n",
      " 'Ярославль' 'Сочи' 'Хабаровск' 'Ставрополь' 'Рязань' 'Улан-Удэ' 'Тула'\n",
      " 'Саратов' 'Ростов-на-Дону' 'Казань' 'Иркутск' 'Курск' 'Калуга' 'Якутск'\n",
      " 'Астрахань' 'Химки' 'Владикавказ' 'Волгоград' 'Саранск' 'Ижевск'\n",
      " 'Новосибирск' 'Брянск' 'Тольятти' 'Нижний Тагил' 'Орёл' 'Белгород'\n",
      " 'Воронеж' 'Волжский' 'Курган' 'Барнаул' 'Красноярск' 'Архангельск'\n",
      " 'Липецк' 'Кемерово' 'Киров' 'Сургут' 'Пенза' 'Магнитогорск'\n",
      " 'Нижний Новгород' 'Кострома' 'Владивосток' 'Тамбов' 'Балашиха'\n",
      " 'Севастополь' 'Калининград' 'Оренбург' 'Смоленск' 'Нижневартовск'\n",
      " 'Владимир' 'Новороссийск' 'Грозный' 'Подольск']\n",
      "******************\n",
      "['ultra' 'smart']\n",
      "******************\n"
     ]
    }
   ],
   "source": [
    "columns_users_check = ['age', 'city', 'tariff']\n",
    "\n",
    "for i in columns_users_check:\n",
    "    print(df_users[i].unique())\n",
    "    print('******************')"
   ]
  },
  {
   "cell_type": "markdown",
   "metadata": {},
   "source": [
    "Ошибок в данных не наблюдается.\n",
    "\n",
    "Перейдем к таблице *calls*: так как все звонки, сколько бы секунд они не длились, округляются в большую сторону, проведем эту операцию и заменим тип на целочисленный. А так же переведем в формат даты значение столбца *call_date*"
   ]
  },
  {
   "cell_type": "code",
   "execution_count": 4,
   "metadata": {},
   "outputs": [],
   "source": [
    "df_calls['duration'] = np.ceil(df_calls['duration'])\n",
    "df_calls['duration'] = df_calls['duration'].astype('int')\n",
    "\n",
    "df_calls['call_date'] = pd.to_datetime(df_calls['call_date'], format='%Y-%m-%d')"
   ]
  },
  {
   "cell_type": "markdown",
   "metadata": {},
   "source": [
    "Проверим данные таблицы на наличие ошибок: посмотрим методами *min()* и *max()* проверим содержимое столбца *duration* на наличие выбросов:"
   ]
  },
  {
   "cell_type": "code",
   "execution_count": 5,
   "metadata": {},
   "outputs": [
    {
     "name": "stdout",
     "output_type": "stream",
     "text": [
      "0\n",
      "38\n"
     ]
    }
   ],
   "source": [
    "print(df_calls['duration'].min())\n",
    "print(df_calls['duration'].max())"
   ]
  },
  {
   "cell_type": "markdown",
   "metadata": {},
   "source": [
    "Заметных выбросов не наблюдается.  \n",
    "\n",
    "Перейдем к таблице *messages*: приведем только столбец *message_date* в формат даты:"
   ]
  },
  {
   "cell_type": "code",
   "execution_count": 6,
   "metadata": {},
   "outputs": [],
   "source": [
    "df_messages['message_date'] = pd.to_datetime(df_messages['message_date'], format='%Y-%m-%d')"
   ]
  },
  {
   "cell_type": "markdown",
   "metadata": {},
   "source": [
    "В таблице *internet* столбец *mb_used* вычисляется в мегабайтах, так как стоимость снимается за целое число гигабайт, переведем значения в гигабайты, но пока округлять не будем, потому что для каждого пользователя передана информация не о сумме использования гигабайт, а о каждой сессии отдельно, так же обработаем столбец *session_date* в формат даты."
   ]
  },
  {
   "cell_type": "code",
   "execution_count": 7,
   "metadata": {},
   "outputs": [],
   "source": [
    "df_internet['mb_used'] = df_internet['mb_used'] / 1000\n",
    "\n",
    "df_internet['session_date'] = pd.to_datetime(df_internet['session_date'], format='%Y-%m-%d')"
   ]
  },
  {
   "cell_type": "markdown",
   "metadata": {},
   "source": [
    "Однако в таблице встречается столбец, которого нет в описании данных, и у него непонятное название. Определим его методом *columns()* и проверим его содержимое методом *unique()*:"
   ]
  },
  {
   "cell_type": "code",
   "execution_count": 8,
   "metadata": {},
   "outputs": [
    {
     "name": "stdout",
     "output_type": "stream",
     "text": [
      "Index(['Unnamed: 0', 'id', 'mb_used', 'session_date', 'user_id'], dtype='object')\n",
      "[     0      1      2 ... 149393 149394 149395]\n"
     ]
    }
   ],
   "source": [
    "print(df_internet.columns)\n",
    "print(df_internet['Unnamed: 0'].unique())"
   ]
  },
  {
   "cell_type": "markdown",
   "metadata": {},
   "source": [
    "Предположительно столбец дублирует индексы, тогда можно протсо избавиться от него. "
   ]
  },
  {
   "cell_type": "code",
   "execution_count": 9,
   "metadata": {},
   "outputs": [],
   "source": [
    "df_internet.drop('Unnamed: 0', axis=1, inplace=True)"
   ]
  },
  {
   "cell_type": "markdown",
   "metadata": {},
   "source": [
    "Перейдем к таблице *tariffs*: в ней указаны неправильные значения в столбце *mb_per_month_included*, ведь у тарифа «Смарт» должно быть ровно 15 Гб, а у «Ультра» - 30 Гб, исправим это. "
   ]
  },
  {
   "cell_type": "code",
   "execution_count": 10,
   "metadata": {},
   "outputs": [],
   "source": [
    "df_tariffs['mb_per_month_included'][0] = 15000\n",
    "df_tariffs['mb_per_month_included'][1] = 30000"
   ]
  },
  {
   "cell_type": "markdown",
   "metadata": {},
   "source": [
    "Проверим данные после обработки:"
   ]
  },
  {
   "cell_type": "code",
   "execution_count": 11,
   "metadata": {
    "scrolled": true
   },
   "outputs": [
    {
     "name": "stdout",
     "output_type": "stream",
     "text": [
      "информация о звонках\n",
      "<class 'pandas.core.frame.DataFrame'>\n",
      "RangeIndex: 202607 entries, 0 to 202606\n",
      "Data columns (total 4 columns):\n",
      "id           202607 non-null object\n",
      "call_date    202607 non-null datetime64[ns]\n",
      "duration     202607 non-null int64\n",
      "user_id      202607 non-null int64\n",
      "dtypes: datetime64[ns](1), int64(2), object(1)\n",
      "memory usage: 6.2+ MB\n",
      "None\n",
      "\n",
      "информация об интернет-сессиях\n",
      "<class 'pandas.core.frame.DataFrame'>\n",
      "RangeIndex: 149396 entries, 0 to 149395\n",
      "Data columns (total 4 columns):\n",
      "id              149396 non-null object\n",
      "mb_used         149396 non-null float64\n",
      "session_date    149396 non-null datetime64[ns]\n",
      "user_id         149396 non-null int64\n",
      "dtypes: datetime64[ns](1), float64(1), int64(1), object(1)\n",
      "memory usage: 4.6+ MB\n",
      "None\n",
      "\n",
      "информация о сообщениях\n",
      "<class 'pandas.core.frame.DataFrame'>\n",
      "RangeIndex: 123036 entries, 0 to 123035\n",
      "Data columns (total 3 columns):\n",
      "id              123036 non-null object\n",
      "message_date    123036 non-null datetime64[ns]\n",
      "user_id         123036 non-null int64\n",
      "dtypes: datetime64[ns](1), int64(1), object(1)\n",
      "memory usage: 2.8+ MB\n",
      "None\n",
      "\n",
      "информация о тарифах\n",
      "<class 'pandas.core.frame.DataFrame'>\n",
      "RangeIndex: 2 entries, 0 to 1\n",
      "Data columns (total 8 columns):\n",
      "messages_included        2 non-null int64\n",
      "mb_per_month_included    2 non-null int64\n",
      "minutes_included         2 non-null int64\n",
      "rub_monthly_fee          2 non-null int64\n",
      "rub_per_gb               2 non-null int64\n",
      "rub_per_message          2 non-null int64\n",
      "rub_per_minute           2 non-null int64\n",
      "tariff_name              2 non-null object\n",
      "dtypes: int64(7), object(1)\n",
      "memory usage: 256.0+ bytes\n",
      "None\n",
      "\n",
      "информация о пользователях\n",
      "<class 'pandas.core.frame.DataFrame'>\n",
      "RangeIndex: 500 entries, 0 to 499\n",
      "Data columns (total 8 columns):\n",
      "user_id       500 non-null int64\n",
      "age           500 non-null int64\n",
      "churn_date    38 non-null datetime64[ns]\n",
      "city          500 non-null object\n",
      "first_name    500 non-null object\n",
      "last_name     500 non-null object\n",
      "reg_date      500 non-null datetime64[ns]\n",
      "tariff        500 non-null object\n",
      "dtypes: datetime64[ns](2), int64(2), object(4)\n",
      "memory usage: 31.4+ KB\n",
      "None\n",
      "\n"
     ]
    }
   ],
   "source": [
    "for i,j in zip(datas, datas_name) : \n",
    "    print(j)\n",
    "    print(i.info())\n",
    "    print('')"
   ]
  },
  {
   "cell_type": "markdown",
   "metadata": {},
   "source": [
    "**Вывод**:\n",
    "\n",
    "Большинство из представленных данных были неправильного типа, какие то таблицы имели ошибки: неверные значения, лишние столбцы, однако по итогу предобработки данные готовы к анализу. "
   ]
  },
  {
   "cell_type": "markdown",
   "metadata": {},
   "source": [
    "### Расчеты затрат для каждого пользователя"
   ]
  },
  {
   "cell_type": "markdown",
   "metadata": {},
   "source": [
    "#### Расчет количества совершенных звонков, смс и интернет сессий\n",
    "\n",
    "Посчитаем количество сделанных звонков и израсходованных минут разговора по месяцам для каждого пользователя:"
   ]
  },
  {
   "cell_type": "code",
   "execution_count": 12,
   "metadata": {
    "scrolled": true
   },
   "outputs": [
    {
     "data": {
      "text/html": [
       "<div>\n",
       "<style scoped>\n",
       "    .dataframe tbody tr th:only-of-type {\n",
       "        vertical-align: middle;\n",
       "    }\n",
       "\n",
       "    .dataframe tbody tr th {\n",
       "        vertical-align: top;\n",
       "    }\n",
       "\n",
       "    .dataframe thead th {\n",
       "        text-align: right;\n",
       "    }\n",
       "</style>\n",
       "<table border=\"1\" class=\"dataframe\">\n",
       "  <thead>\n",
       "    <tr style=\"text-align: right;\">\n",
       "      <th></th>\n",
       "      <th>1</th>\n",
       "      <th>2</th>\n",
       "      <th>3</th>\n",
       "      <th>4</th>\n",
       "      <th>5</th>\n",
       "      <th>6</th>\n",
       "      <th>7</th>\n",
       "      <th>8</th>\n",
       "      <th>9</th>\n",
       "      <th>10</th>\n",
       "      <th>11</th>\n",
       "      <th>12</th>\n",
       "    </tr>\n",
       "  </thead>\n",
       "  <tbody>\n",
       "    <tr>\n",
       "      <td>1000</td>\n",
       "      <td>0</td>\n",
       "      <td>0</td>\n",
       "      <td>0</td>\n",
       "      <td>0</td>\n",
       "      <td>22</td>\n",
       "      <td>43</td>\n",
       "      <td>47</td>\n",
       "      <td>52</td>\n",
       "      <td>58</td>\n",
       "      <td>57</td>\n",
       "      <td>43</td>\n",
       "      <td>46</td>\n",
       "    </tr>\n",
       "    <tr>\n",
       "      <td>1001</td>\n",
       "      <td>0</td>\n",
       "      <td>0</td>\n",
       "      <td>0</td>\n",
       "      <td>0</td>\n",
       "      <td>0</td>\n",
       "      <td>0</td>\n",
       "      <td>0</td>\n",
       "      <td>0</td>\n",
       "      <td>0</td>\n",
       "      <td>0</td>\n",
       "      <td>59</td>\n",
       "      <td>63</td>\n",
       "    </tr>\n",
       "    <tr>\n",
       "      <td>1002</td>\n",
       "      <td>0</td>\n",
       "      <td>0</td>\n",
       "      <td>0</td>\n",
       "      <td>0</td>\n",
       "      <td>0</td>\n",
       "      <td>15</td>\n",
       "      <td>26</td>\n",
       "      <td>42</td>\n",
       "      <td>36</td>\n",
       "      <td>33</td>\n",
       "      <td>32</td>\n",
       "      <td>33</td>\n",
       "    </tr>\n",
       "    <tr>\n",
       "      <td>1003</td>\n",
       "      <td>0</td>\n",
       "      <td>0</td>\n",
       "      <td>0</td>\n",
       "      <td>0</td>\n",
       "      <td>0</td>\n",
       "      <td>0</td>\n",
       "      <td>0</td>\n",
       "      <td>55</td>\n",
       "      <td>134</td>\n",
       "      <td>108</td>\n",
       "      <td>115</td>\n",
       "      <td>108</td>\n",
       "    </tr>\n",
       "    <tr>\n",
       "      <td>1004</td>\n",
       "      <td>0</td>\n",
       "      <td>0</td>\n",
       "      <td>0</td>\n",
       "      <td>0</td>\n",
       "      <td>9</td>\n",
       "      <td>31</td>\n",
       "      <td>22</td>\n",
       "      <td>19</td>\n",
       "      <td>26</td>\n",
       "      <td>29</td>\n",
       "      <td>19</td>\n",
       "      <td>21</td>\n",
       "    </tr>\n",
       "    <tr>\n",
       "      <td>1005</td>\n",
       "      <td>15</td>\n",
       "      <td>69</td>\n",
       "      <td>77</td>\n",
       "      <td>101</td>\n",
       "      <td>73</td>\n",
       "      <td>80</td>\n",
       "      <td>77</td>\n",
       "      <td>71</td>\n",
       "      <td>66</td>\n",
       "      <td>100</td>\n",
       "      <td>75</td>\n",
       "      <td>84</td>\n",
       "    </tr>\n",
       "    <tr>\n",
       "      <td>1006</td>\n",
       "      <td>0</td>\n",
       "      <td>3</td>\n",
       "      <td>46</td>\n",
       "      <td>47</td>\n",
       "      <td>56</td>\n",
       "      <td>53</td>\n",
       "      <td>49</td>\n",
       "      <td>42</td>\n",
       "      <td>54</td>\n",
       "      <td>44</td>\n",
       "      <td>62</td>\n",
       "      <td>50</td>\n",
       "    </tr>\n",
       "    <tr>\n",
       "      <td>1007</td>\n",
       "      <td>0</td>\n",
       "      <td>0</td>\n",
       "      <td>0</td>\n",
       "      <td>25</td>\n",
       "      <td>67</td>\n",
       "      <td>68</td>\n",
       "      <td>69</td>\n",
       "      <td>74</td>\n",
       "      <td>87</td>\n",
       "      <td>69</td>\n",
       "      <td>81</td>\n",
       "      <td>72</td>\n",
       "    </tr>\n",
       "    <tr>\n",
       "      <td>1008</td>\n",
       "      <td>0</td>\n",
       "      <td>0</td>\n",
       "      <td>0</td>\n",
       "      <td>0</td>\n",
       "      <td>0</td>\n",
       "      <td>0</td>\n",
       "      <td>0</td>\n",
       "      <td>0</td>\n",
       "      <td>0</td>\n",
       "      <td>0</td>\n",
       "      <td>0</td>\n",
       "      <td>52</td>\n",
       "    </tr>\n",
       "    <tr>\n",
       "      <td>1009</td>\n",
       "      <td>0</td>\n",
       "      <td>0</td>\n",
       "      <td>13</td>\n",
       "      <td>39</td>\n",
       "      <td>28</td>\n",
       "      <td>31</td>\n",
       "      <td>22</td>\n",
       "      <td>33</td>\n",
       "      <td>25</td>\n",
       "      <td>28</td>\n",
       "      <td>39</td>\n",
       "      <td>32</td>\n",
       "    </tr>\n",
       "  </tbody>\n",
       "</table>\n",
       "</div>"
      ],
      "text/plain": [
       "      1   2   3    4   5   6   7   8    9    10   11   12\n",
       "1000   0   0   0    0  22  43  47  52   58   57   43   46\n",
       "1001   0   0   0    0   0   0   0   0    0    0   59   63\n",
       "1002   0   0   0    0   0  15  26  42   36   33   32   33\n",
       "1003   0   0   0    0   0   0   0  55  134  108  115  108\n",
       "1004   0   0   0    0   9  31  22  19   26   29   19   21\n",
       "1005  15  69  77  101  73  80  77  71   66  100   75   84\n",
       "1006   0   3  46   47  56  53  49  42   54   44   62   50\n",
       "1007   0   0   0   25  67  68  69  74   87   69   81   72\n",
       "1008   0   0   0    0   0   0   0   0    0    0    0   52\n",
       "1009   0   0  13   39  28  31  22  33   25   28   39   32"
      ]
     },
     "metadata": {},
     "output_type": "display_data"
    },
    {
     "data": {
      "text/html": [
       "<div>\n",
       "<style scoped>\n",
       "    .dataframe tbody tr th:only-of-type {\n",
       "        vertical-align: middle;\n",
       "    }\n",
       "\n",
       "    .dataframe tbody tr th {\n",
       "        vertical-align: top;\n",
       "    }\n",
       "\n",
       "    .dataframe thead th {\n",
       "        text-align: right;\n",
       "    }\n",
       "</style>\n",
       "<table border=\"1\" class=\"dataframe\">\n",
       "  <thead>\n",
       "    <tr style=\"text-align: right;\">\n",
       "      <th></th>\n",
       "      <th>1</th>\n",
       "      <th>2</th>\n",
       "      <th>3</th>\n",
       "      <th>4</th>\n",
       "      <th>5</th>\n",
       "      <th>6</th>\n",
       "      <th>7</th>\n",
       "      <th>8</th>\n",
       "      <th>9</th>\n",
       "      <th>10</th>\n",
       "      <th>11</th>\n",
       "      <th>12</th>\n",
       "    </tr>\n",
       "  </thead>\n",
       "  <tbody>\n",
       "    <tr>\n",
       "      <td>1000</td>\n",
       "      <td>0</td>\n",
       "      <td>0</td>\n",
       "      <td>0</td>\n",
       "      <td>0</td>\n",
       "      <td>159</td>\n",
       "      <td>172</td>\n",
       "      <td>340</td>\n",
       "      <td>408</td>\n",
       "      <td>466</td>\n",
       "      <td>350</td>\n",
       "      <td>338</td>\n",
       "      <td>333</td>\n",
       "    </tr>\n",
       "    <tr>\n",
       "      <td>1001</td>\n",
       "      <td>0</td>\n",
       "      <td>0</td>\n",
       "      <td>0</td>\n",
       "      <td>0</td>\n",
       "      <td>0</td>\n",
       "      <td>0</td>\n",
       "      <td>0</td>\n",
       "      <td>0</td>\n",
       "      <td>0</td>\n",
       "      <td>0</td>\n",
       "      <td>430</td>\n",
       "      <td>414</td>\n",
       "    </tr>\n",
       "    <tr>\n",
       "      <td>1002</td>\n",
       "      <td>0</td>\n",
       "      <td>0</td>\n",
       "      <td>0</td>\n",
       "      <td>0</td>\n",
       "      <td>0</td>\n",
       "      <td>117</td>\n",
       "      <td>214</td>\n",
       "      <td>289</td>\n",
       "      <td>206</td>\n",
       "      <td>212</td>\n",
       "      <td>243</td>\n",
       "      <td>236</td>\n",
       "    </tr>\n",
       "    <tr>\n",
       "      <td>1003</td>\n",
       "      <td>0</td>\n",
       "      <td>0</td>\n",
       "      <td>0</td>\n",
       "      <td>0</td>\n",
       "      <td>0</td>\n",
       "      <td>0</td>\n",
       "      <td>0</td>\n",
       "      <td>380</td>\n",
       "      <td>961</td>\n",
       "      <td>855</td>\n",
       "      <td>824</td>\n",
       "      <td>802</td>\n",
       "    </tr>\n",
       "    <tr>\n",
       "      <td>1004</td>\n",
       "      <td>0</td>\n",
       "      <td>0</td>\n",
       "      <td>0</td>\n",
       "      <td>0</td>\n",
       "      <td>35</td>\n",
       "      <td>171</td>\n",
       "      <td>135</td>\n",
       "      <td>137</td>\n",
       "      <td>117</td>\n",
       "      <td>145</td>\n",
       "      <td>117</td>\n",
       "      <td>130</td>\n",
       "    </tr>\n",
       "    <tr>\n",
       "      <td>1005</td>\n",
       "      <td>95</td>\n",
       "      <td>456</td>\n",
       "      <td>606</td>\n",
       "      <td>712</td>\n",
       "      <td>595</td>\n",
       "      <td>612</td>\n",
       "      <td>569</td>\n",
       "      <td>619</td>\n",
       "      <td>479</td>\n",
       "      <td>723</td>\n",
       "      <td>547</td>\n",
       "      <td>592</td>\n",
       "    </tr>\n",
       "    <tr>\n",
       "      <td>1006</td>\n",
       "      <td>0</td>\n",
       "      <td>42</td>\n",
       "      <td>286</td>\n",
       "      <td>356</td>\n",
       "      <td>370</td>\n",
       "      <td>478</td>\n",
       "      <td>316</td>\n",
       "      <td>275</td>\n",
       "      <td>360</td>\n",
       "      <td>267</td>\n",
       "      <td>372</td>\n",
       "      <td>379</td>\n",
       "    </tr>\n",
       "    <tr>\n",
       "      <td>1007</td>\n",
       "      <td>0</td>\n",
       "      <td>0</td>\n",
       "      <td>0</td>\n",
       "      <td>198</td>\n",
       "      <td>480</td>\n",
       "      <td>545</td>\n",
       "      <td>577</td>\n",
       "      <td>458</td>\n",
       "      <td>655</td>\n",
       "      <td>465</td>\n",
       "      <td>580</td>\n",
       "      <td>421</td>\n",
       "    </tr>\n",
       "    <tr>\n",
       "      <td>1008</td>\n",
       "      <td>0</td>\n",
       "      <td>0</td>\n",
       "      <td>0</td>\n",
       "      <td>0</td>\n",
       "      <td>0</td>\n",
       "      <td>0</td>\n",
       "      <td>0</td>\n",
       "      <td>0</td>\n",
       "      <td>0</td>\n",
       "      <td>0</td>\n",
       "      <td>0</td>\n",
       "      <td>339</td>\n",
       "    </tr>\n",
       "    <tr>\n",
       "      <td>1009</td>\n",
       "      <td>0</td>\n",
       "      <td>0</td>\n",
       "      <td>109</td>\n",
       "      <td>324</td>\n",
       "      <td>170</td>\n",
       "      <td>289</td>\n",
       "      <td>183</td>\n",
       "      <td>249</td>\n",
       "      <td>133</td>\n",
       "      <td>213</td>\n",
       "      <td>290</td>\n",
       "      <td>229</td>\n",
       "    </tr>\n",
       "  </tbody>\n",
       "</table>\n",
       "</div>"
      ],
      "text/plain": [
       "      1    2    3    4    5    6    7    8    9    10   11   12\n",
       "1000   0    0    0    0  159  172  340  408  466  350  338  333\n",
       "1001   0    0    0    0    0    0    0    0    0    0  430  414\n",
       "1002   0    0    0    0    0  117  214  289  206  212  243  236\n",
       "1003   0    0    0    0    0    0    0  380  961  855  824  802\n",
       "1004   0    0    0    0   35  171  135  137  117  145  117  130\n",
       "1005  95  456  606  712  595  612  569  619  479  723  547  592\n",
       "1006   0   42  286  356  370  478  316  275  360  267  372  379\n",
       "1007   0    0    0  198  480  545  577  458  655  465  580  421\n",
       "1008   0    0    0    0    0    0    0    0    0    0    0  339\n",
       "1009   0    0  109  324  170  289  183  249  133  213  290  229"
      ]
     },
     "metadata": {},
     "output_type": "display_data"
    }
   ],
   "source": [
    "month =[]\n",
    "for i in range(1,13):\n",
    "    month.append(i)\n",
    "\n",
    "df_month_calls_num = pd.DataFrame(index=df_users['user_id'].unique(), columns = month)\n",
    "df_month_minutes_num = pd.DataFrame(index=df_users['user_id'].unique(), columns = month)\n",
    "\n",
    "for i in df_users['user_id'].unique() :\n",
    "    df_tmp = df_calls[df_calls['user_id'] == i]\n",
    "    for j in month:\n",
    "        df_tmp2 = df_tmp[df_tmp['call_date'].dt.month == j]\n",
    "        df_month_calls_num[j][i] = df_tmp2.shape[0]\n",
    "        df_month_minutes_num[j][i] = df_tmp2['duration'].sum()\n",
    "        df_tmp2 = 0\n",
    "    df_tmp = 0\n",
    "\n",
    "display(df_month_calls_num.head(10)) \n",
    "display(df_month_minutes_num.head(10))"
   ]
  },
  {
   "cell_type": "markdown",
   "metadata": {},
   "source": [
    "Для того, чтоб справиться с поставленной задачей, будем использовать 2 цикла, где первый будет создавать таблицу по каждому пользователю, а второй генерирует таблицы по ежемесячному использованию сотовой сввязи. Таким образом мы будем получать ежемесячные временные таблицы, состояющие из данных по каждому пользователю, размер которых есть число вызовов, а количество потраченных минут на разговоры - сумма столбца *duration*.\n",
    "\n",
    "Посчитаем количество отправленных сообщений и объем израсходованного интернет-трафика по месяцам по тому же принципу, что и считали ранее:"
   ]
  },
  {
   "cell_type": "code",
   "execution_count": 13,
   "metadata": {
    "scrolled": true
   },
   "outputs": [
    {
     "data": {
      "text/html": [
       "<div>\n",
       "<style scoped>\n",
       "    .dataframe tbody tr th:only-of-type {\n",
       "        vertical-align: middle;\n",
       "    }\n",
       "\n",
       "    .dataframe tbody tr th {\n",
       "        vertical-align: top;\n",
       "    }\n",
       "\n",
       "    .dataframe thead th {\n",
       "        text-align: right;\n",
       "    }\n",
       "</style>\n",
       "<table border=\"1\" class=\"dataframe\">\n",
       "  <thead>\n",
       "    <tr style=\"text-align: right;\">\n",
       "      <th></th>\n",
       "      <th>1</th>\n",
       "      <th>2</th>\n",
       "      <th>3</th>\n",
       "      <th>4</th>\n",
       "      <th>5</th>\n",
       "      <th>6</th>\n",
       "      <th>7</th>\n",
       "      <th>8</th>\n",
       "      <th>9</th>\n",
       "      <th>10</th>\n",
       "      <th>11</th>\n",
       "      <th>12</th>\n",
       "    </tr>\n",
       "  </thead>\n",
       "  <tbody>\n",
       "    <tr>\n",
       "      <td>1000</td>\n",
       "      <td>0</td>\n",
       "      <td>0</td>\n",
       "      <td>0</td>\n",
       "      <td>0</td>\n",
       "      <td>22</td>\n",
       "      <td>60</td>\n",
       "      <td>75</td>\n",
       "      <td>81</td>\n",
       "      <td>57</td>\n",
       "      <td>73</td>\n",
       "      <td>58</td>\n",
       "      <td>70</td>\n",
       "    </tr>\n",
       "    <tr>\n",
       "      <td>1001</td>\n",
       "      <td>0</td>\n",
       "      <td>0</td>\n",
       "      <td>0</td>\n",
       "      <td>0</td>\n",
       "      <td>0</td>\n",
       "      <td>0</td>\n",
       "      <td>0</td>\n",
       "      <td>0</td>\n",
       "      <td>0</td>\n",
       "      <td>0</td>\n",
       "      <td>0</td>\n",
       "      <td>0</td>\n",
       "    </tr>\n",
       "    <tr>\n",
       "      <td>1002</td>\n",
       "      <td>0</td>\n",
       "      <td>0</td>\n",
       "      <td>0</td>\n",
       "      <td>0</td>\n",
       "      <td>0</td>\n",
       "      <td>4</td>\n",
       "      <td>11</td>\n",
       "      <td>13</td>\n",
       "      <td>4</td>\n",
       "      <td>10</td>\n",
       "      <td>16</td>\n",
       "      <td>12</td>\n",
       "    </tr>\n",
       "    <tr>\n",
       "      <td>1003</td>\n",
       "      <td>0</td>\n",
       "      <td>0</td>\n",
       "      <td>0</td>\n",
       "      <td>0</td>\n",
       "      <td>0</td>\n",
       "      <td>0</td>\n",
       "      <td>0</td>\n",
       "      <td>37</td>\n",
       "      <td>91</td>\n",
       "      <td>83</td>\n",
       "      <td>94</td>\n",
       "      <td>75</td>\n",
       "    </tr>\n",
       "    <tr>\n",
       "      <td>1004</td>\n",
       "      <td>0</td>\n",
       "      <td>0</td>\n",
       "      <td>0</td>\n",
       "      <td>0</td>\n",
       "      <td>95</td>\n",
       "      <td>134</td>\n",
       "      <td>181</td>\n",
       "      <td>151</td>\n",
       "      <td>146</td>\n",
       "      <td>165</td>\n",
       "      <td>158</td>\n",
       "      <td>162</td>\n",
       "    </tr>\n",
       "    <tr>\n",
       "      <td>1005</td>\n",
       "      <td>7</td>\n",
       "      <td>38</td>\n",
       "      <td>56</td>\n",
       "      <td>41</td>\n",
       "      <td>42</td>\n",
       "      <td>47</td>\n",
       "      <td>56</td>\n",
       "      <td>64</td>\n",
       "      <td>52</td>\n",
       "      <td>44</td>\n",
       "      <td>51</td>\n",
       "      <td>54</td>\n",
       "    </tr>\n",
       "    <tr>\n",
       "      <td>1006</td>\n",
       "      <td>0</td>\n",
       "      <td>0</td>\n",
       "      <td>0</td>\n",
       "      <td>0</td>\n",
       "      <td>0</td>\n",
       "      <td>0</td>\n",
       "      <td>0</td>\n",
       "      <td>0</td>\n",
       "      <td>0</td>\n",
       "      <td>0</td>\n",
       "      <td>0</td>\n",
       "      <td>0</td>\n",
       "    </tr>\n",
       "    <tr>\n",
       "      <td>1007</td>\n",
       "      <td>0</td>\n",
       "      <td>0</td>\n",
       "      <td>0</td>\n",
       "      <td>11</td>\n",
       "      <td>39</td>\n",
       "      <td>26</td>\n",
       "      <td>26</td>\n",
       "      <td>27</td>\n",
       "      <td>31</td>\n",
       "      <td>18</td>\n",
       "      <td>21</td>\n",
       "      <td>26</td>\n",
       "    </tr>\n",
       "    <tr>\n",
       "      <td>1008</td>\n",
       "      <td>0</td>\n",
       "      <td>0</td>\n",
       "      <td>0</td>\n",
       "      <td>0</td>\n",
       "      <td>0</td>\n",
       "      <td>0</td>\n",
       "      <td>0</td>\n",
       "      <td>0</td>\n",
       "      <td>0</td>\n",
       "      <td>0</td>\n",
       "      <td>0</td>\n",
       "      <td>56</td>\n",
       "    </tr>\n",
       "    <tr>\n",
       "      <td>1009</td>\n",
       "      <td>0</td>\n",
       "      <td>0</td>\n",
       "      <td>2</td>\n",
       "      <td>14</td>\n",
       "      <td>7</td>\n",
       "      <td>14</td>\n",
       "      <td>14</td>\n",
       "      <td>9</td>\n",
       "      <td>12</td>\n",
       "      <td>15</td>\n",
       "      <td>11</td>\n",
       "      <td>12</td>\n",
       "    </tr>\n",
       "  </tbody>\n",
       "</table>\n",
       "</div>"
      ],
      "text/plain": [
       "     1   2   3   4   5    6    7    8    9    10   11   12\n",
       "1000  0   0   0   0  22   60   75   81   57   73   58   70\n",
       "1001  0   0   0   0   0    0    0    0    0    0    0    0\n",
       "1002  0   0   0   0   0    4   11   13    4   10   16   12\n",
       "1003  0   0   0   0   0    0    0   37   91   83   94   75\n",
       "1004  0   0   0   0  95  134  181  151  146  165  158  162\n",
       "1005  7  38  56  41  42   47   56   64   52   44   51   54\n",
       "1006  0   0   0   0   0    0    0    0    0    0    0    0\n",
       "1007  0   0   0  11  39   26   26   27   31   18   21   26\n",
       "1008  0   0   0   0   0    0    0    0    0    0    0   56\n",
       "1009  0   0   2  14   7   14   14    9   12   15   11   12"
      ]
     },
     "metadata": {},
     "output_type": "display_data"
    },
    {
     "data": {
      "text/html": [
       "<div>\n",
       "<style scoped>\n",
       "    .dataframe tbody tr th:only-of-type {\n",
       "        vertical-align: middle;\n",
       "    }\n",
       "\n",
       "    .dataframe tbody tr th {\n",
       "        vertical-align: top;\n",
       "    }\n",
       "\n",
       "    .dataframe thead th {\n",
       "        text-align: right;\n",
       "    }\n",
       "</style>\n",
       "<table border=\"1\" class=\"dataframe\">\n",
       "  <thead>\n",
       "    <tr style=\"text-align: right;\">\n",
       "      <th></th>\n",
       "      <th>1</th>\n",
       "      <th>2</th>\n",
       "      <th>3</th>\n",
       "      <th>4</th>\n",
       "      <th>5</th>\n",
       "      <th>6</th>\n",
       "      <th>7</th>\n",
       "      <th>8</th>\n",
       "      <th>9</th>\n",
       "      <th>10</th>\n",
       "      <th>11</th>\n",
       "      <th>12</th>\n",
       "    </tr>\n",
       "  </thead>\n",
       "  <tbody>\n",
       "    <tr>\n",
       "      <td>1000</td>\n",
       "      <td>0</td>\n",
       "      <td>0</td>\n",
       "      <td>0</td>\n",
       "      <td>0</td>\n",
       "      <td>2.25349</td>\n",
       "      <td>23.2338</td>\n",
       "      <td>14.0036</td>\n",
       "      <td>14.0559</td>\n",
       "      <td>14.5689</td>\n",
       "      <td>14.7025</td>\n",
       "      <td>14.7565</td>\n",
       "      <td>9.81761</td>\n",
       "    </tr>\n",
       "    <tr>\n",
       "      <td>1001</td>\n",
       "      <td>0</td>\n",
       "      <td>0</td>\n",
       "      <td>0</td>\n",
       "      <td>0</td>\n",
       "      <td>0</td>\n",
       "      <td>0</td>\n",
       "      <td>0</td>\n",
       "      <td>0</td>\n",
       "      <td>0</td>\n",
       "      <td>0</td>\n",
       "      <td>18.4293</td>\n",
       "      <td>14.0367</td>\n",
       "    </tr>\n",
       "    <tr>\n",
       "      <td>1002</td>\n",
       "      <td>0</td>\n",
       "      <td>0</td>\n",
       "      <td>0</td>\n",
       "      <td>0</td>\n",
       "      <td>0</td>\n",
       "      <td>10.8568</td>\n",
       "      <td>17.5801</td>\n",
       "      <td>20.3193</td>\n",
       "      <td>16.6911</td>\n",
       "      <td>13.8883</td>\n",
       "      <td>18.5873</td>\n",
       "      <td>18.1137</td>\n",
       "    </tr>\n",
       "    <tr>\n",
       "      <td>1003</td>\n",
       "      <td>0</td>\n",
       "      <td>0</td>\n",
       "      <td>0</td>\n",
       "      <td>0</td>\n",
       "      <td>0</td>\n",
       "      <td>0</td>\n",
       "      <td>0</td>\n",
       "      <td>8.56521</td>\n",
       "      <td>12.4689</td>\n",
       "      <td>14.7681</td>\n",
       "      <td>11.3569</td>\n",
       "      <td>10.1215</td>\n",
       "    </tr>\n",
       "    <tr>\n",
       "      <td>1004</td>\n",
       "      <td>0</td>\n",
       "      <td>0</td>\n",
       "      <td>0</td>\n",
       "      <td>0</td>\n",
       "      <td>13.404</td>\n",
       "      <td>17.6</td>\n",
       "      <td>22.2296</td>\n",
       "      <td>28.5844</td>\n",
       "      <td>15.109</td>\n",
       "      <td>18.4754</td>\n",
       "      <td>15.616</td>\n",
       "      <td>18.021</td>\n",
       "    </tr>\n",
       "    <tr>\n",
       "      <td>1005</td>\n",
       "      <td>2.72797</td>\n",
       "      <td>7.38393</td>\n",
       "      <td>11.1043</td>\n",
       "      <td>9.35172</td>\n",
       "      <td>7.86553</td>\n",
       "      <td>9.86319</td>\n",
       "      <td>7.69456</td>\n",
       "      <td>7.54363</td>\n",
       "      <td>7.01646</td>\n",
       "      <td>7.80093</td>\n",
       "      <td>12.6669</td>\n",
       "      <td>8.66819</td>\n",
       "    </tr>\n",
       "    <tr>\n",
       "      <td>1006</td>\n",
       "      <td>0</td>\n",
       "      <td>1.39215</td>\n",
       "      <td>17.2879</td>\n",
       "      <td>13.9367</td>\n",
       "      <td>12.9654</td>\n",
       "      <td>12.3717</td>\n",
       "      <td>19.9776</td>\n",
       "      <td>19.3037</td>\n",
       "      <td>15.5215</td>\n",
       "      <td>19.6966</td>\n",
       "      <td>13.2594</td>\n",
       "      <td>18.4761</td>\n",
       "    </tr>\n",
       "    <tr>\n",
       "      <td>1007</td>\n",
       "      <td>0</td>\n",
       "      <td>0</td>\n",
       "      <td>0</td>\n",
       "      <td>8.02276</td>\n",
       "      <td>17.6873</td>\n",
       "      <td>13.6545</td>\n",
       "      <td>15.6567</td>\n",
       "      <td>20.7004</td>\n",
       "      <td>12.6131</td>\n",
       "      <td>14.4273</td>\n",
       "      <td>16.3696</td>\n",
       "      <td>12.4941</td>\n",
       "    </tr>\n",
       "    <tr>\n",
       "      <td>1008</td>\n",
       "      <td>0</td>\n",
       "      <td>0</td>\n",
       "      <td>0</td>\n",
       "      <td>0</td>\n",
       "      <td>0</td>\n",
       "      <td>0</td>\n",
       "      <td>0</td>\n",
       "      <td>0</td>\n",
       "      <td>0</td>\n",
       "      <td>0</td>\n",
       "      <td>0</td>\n",
       "      <td>13.2171</td>\n",
       "    </tr>\n",
       "    <tr>\n",
       "      <td>1009</td>\n",
       "      <td>0</td>\n",
       "      <td>0</td>\n",
       "      <td>7.35015</td>\n",
       "      <td>14.7092</td>\n",
       "      <td>13.3719</td>\n",
       "      <td>16.0675</td>\n",
       "      <td>24.7258</td>\n",
       "      <td>23.7084</td>\n",
       "      <td>21.9326</td>\n",
       "      <td>20.0817</td>\n",
       "      <td>16.8458</td>\n",
       "      <td>18.618</td>\n",
       "    </tr>\n",
       "  </tbody>\n",
       "</table>\n",
       "</div>"
      ],
      "text/plain": [
       "           1        2        3        4        5        6        7        8   \\\n",
       "1000        0        0        0        0  2.25349  23.2338  14.0036  14.0559   \n",
       "1001        0        0        0        0        0        0        0        0   \n",
       "1002        0        0        0        0        0  10.8568  17.5801  20.3193   \n",
       "1003        0        0        0        0        0        0        0  8.56521   \n",
       "1004        0        0        0        0   13.404     17.6  22.2296  28.5844   \n",
       "1005  2.72797  7.38393  11.1043  9.35172  7.86553  9.86319  7.69456  7.54363   \n",
       "1006        0  1.39215  17.2879  13.9367  12.9654  12.3717  19.9776  19.3037   \n",
       "1007        0        0        0  8.02276  17.6873  13.6545  15.6567  20.7004   \n",
       "1008        0        0        0        0        0        0        0        0   \n",
       "1009        0        0  7.35015  14.7092  13.3719  16.0675  24.7258  23.7084   \n",
       "\n",
       "           9        10       11       12  \n",
       "1000  14.5689  14.7025  14.7565  9.81761  \n",
       "1001        0        0  18.4293  14.0367  \n",
       "1002  16.6911  13.8883  18.5873  18.1137  \n",
       "1003  12.4689  14.7681  11.3569  10.1215  \n",
       "1004   15.109  18.4754   15.616   18.021  \n",
       "1005  7.01646  7.80093  12.6669  8.66819  \n",
       "1006  15.5215  19.6966  13.2594  18.4761  \n",
       "1007  12.6131  14.4273  16.3696  12.4941  \n",
       "1008        0        0        0  13.2171  \n",
       "1009  21.9326  20.0817  16.8458   18.618  "
      ]
     },
     "metadata": {},
     "output_type": "display_data"
    }
   ],
   "source": [
    "df_month_messages_num = pd.DataFrame(index=df_users['user_id'].unique(), columns = month)\n",
    "df_month_internet_num = pd.DataFrame(index=df_users['user_id'].unique(), columns = month)\n",
    "\n",
    "for i in df_users['user_id'].unique() :\n",
    "    df_tmp = df_messages[df_messages['user_id'] == i]\n",
    "    for j in month:\n",
    "        df_tmp2 = df_tmp[df_tmp['message_date'].dt.month == j]\n",
    "        df_month_messages_num[j][i] = df_tmp2.shape[0]\n",
    "        df_tmp2 = 0\n",
    "    df_tmp = 0\n",
    "    \n",
    "for i in df_users['user_id'].unique() :\n",
    "    df_tmp = df_internet[df_internet['user_id'] == i]\n",
    "    for j in month:\n",
    "        df_tmp2 = df_tmp[df_tmp['session_date'].dt.month == j]\n",
    "        df_month_internet_num[j][i] = df_tmp2['mb_used'].sum()\n",
    "        df_tmp2 = 0\n",
    "    df_tmp = 0\n",
    "\n",
    "display(df_month_messages_num.head(10)) \n",
    "display(df_month_internet_num.head(10)) "
   ]
  },
  {
   "cell_type": "markdown",
   "metadata": {},
   "source": [
    "Прежде чем вычислять помесячную прибыль приведем таблицы в подобающий вид:"
   ]
  },
  {
   "cell_type": "code",
   "execution_count": 14,
   "metadata": {},
   "outputs": [],
   "source": [
    "options = [df_month_calls_num, \n",
    "           df_month_minutes_num, \n",
    "           df_month_messages_num,\n",
    "           df_month_internet_num]\n",
    "\n",
    "col = ['январь', 'февраль', 'март', \n",
    "       'апрель', 'май', 'июнь', \n",
    "       'июль', 'август', 'сентябрь', \n",
    "       'октябрь', 'ноябрь', 'декабрь']\n",
    "\n",
    "for i,j in zip(options, col):\n",
    "    i.rename(columns={1: 'январь', \n",
    "                      2: 'февраль', \n",
    "                      3: 'март', \n",
    "                      4: 'апрель', \n",
    "                      5: 'май', \n",
    "                      6: 'июнь', \n",
    "                      7: 'июль', \n",
    "                      8: 'август', \n",
    "                      9: 'сентябрь', \n",
    "                      10: 'октябрь', \n",
    "                      11: 'ноябрь', \n",
    "                      12: 'декабрь'}, inplace=True)\n",
    "    \n",
    "    i[j] = i[j].astype('int')"
   ]
  },
  {
   "cell_type": "markdown",
   "metadata": {},
   "source": [
    "Отдельно проработаем каждую таблицу на изменение индекса и введения нового столбца *user_id*:"
   ]
  },
  {
   "cell_type": "code",
   "execution_count": 15,
   "metadata": {},
   "outputs": [],
   "source": [
    "df_month_calls_num = df_month_calls_num.reset_index()\n",
    "df_month_minutes_num = df_month_minutes_num.reset_index()\n",
    "df_month_messages_num = df_month_messages_num.reset_index()\n",
    "df_month_internet_num = df_month_internet_num.reset_index()\n",
    "\n",
    "df_month_calls_num.rename(columns={'index': 'user_id'}, inplace=True)\n",
    "df_month_minutes_num.rename(columns={'index': 'user_id'}, inplace=True)\n",
    "df_month_messages_num.rename(columns={'index': 'user_id'}, inplace=True)\n",
    "df_month_internet_num.rename(columns={'index': 'user_id'}, inplace=True)"
   ]
  },
  {
   "cell_type": "markdown",
   "metadata": {},
   "source": [
    "Соединим таблицы с расходами и информацией о пользователях, чтоб получить доступ к тарифам, и удалим из полученной таблицы ненужные столбцы. "
   ]
  },
  {
   "cell_type": "code",
   "execution_count": 16,
   "metadata": {},
   "outputs": [],
   "source": [
    "df_calls_new = df_users.merge(df_month_minutes_num, on='user_id')\n",
    "df_messages_new = df_users.merge(df_month_messages_num, on='user_id')\n",
    "df_internet_new = df_users.merge(df_month_internet_num, on='user_id')\n",
    "\n",
    "drop_columns = ['age', 'churn_date',\n",
    "                'first_name', \n",
    "                'last_name', 'reg_date']\n",
    "\n",
    "for i in drop_columns:\n",
    "    df_calls_new = df_calls_new.drop(i, 1)\n",
    "    df_messages_new = df_messages_new.drop(i, 1)\n",
    "    df_internet_new = df_internet_new.drop(i, 1)"
   ]
  },
  {
   "cell_type": "markdown",
   "metadata": {},
   "source": [
    "В новых таблицах найдем перерасход по параметрам, где 1 - использованный тариф *smart* не был привышен, 2 - использованный тариф *ultra* не был привышен и пользователь заплатил просто абонентскую плату, 0 - не использовал тариф, больше 3 - сумма, которая потрачена на оплату дополнительных параметров сверх тарифа."
   ]
  },
  {
   "cell_type": "code",
   "execution_count": 17,
   "metadata": {
    "scrolled": true
   },
   "outputs": [
    {
     "data": {
      "text/html": [
       "<div>\n",
       "<style scoped>\n",
       "    .dataframe tbody tr th:only-of-type {\n",
       "        vertical-align: middle;\n",
       "    }\n",
       "\n",
       "    .dataframe tbody tr th {\n",
       "        vertical-align: top;\n",
       "    }\n",
       "\n",
       "    .dataframe thead th {\n",
       "        text-align: right;\n",
       "    }\n",
       "</style>\n",
       "<table border=\"1\" class=\"dataframe\">\n",
       "  <thead>\n",
       "    <tr style=\"text-align: right;\">\n",
       "      <th></th>\n",
       "      <th>user_id</th>\n",
       "      <th>city</th>\n",
       "      <th>tariff</th>\n",
       "      <th>январь</th>\n",
       "      <th>февраль</th>\n",
       "      <th>март</th>\n",
       "      <th>апрель</th>\n",
       "      <th>май</th>\n",
       "      <th>июнь</th>\n",
       "      <th>июль</th>\n",
       "      <th>август</th>\n",
       "      <th>сентябрь</th>\n",
       "      <th>октябрь</th>\n",
       "      <th>ноябрь</th>\n",
       "      <th>декабрь</th>\n",
       "    </tr>\n",
       "  </thead>\n",
       "  <tbody>\n",
       "    <tr>\n",
       "      <td>0</td>\n",
       "      <td>1000</td>\n",
       "      <td>Краснодар</td>\n",
       "      <td>ultra</td>\n",
       "      <td>0</td>\n",
       "      <td>0</td>\n",
       "      <td>0</td>\n",
       "      <td>0</td>\n",
       "      <td>2</td>\n",
       "      <td>2</td>\n",
       "      <td>2</td>\n",
       "      <td>2</td>\n",
       "      <td>2</td>\n",
       "      <td>2</td>\n",
       "      <td>2</td>\n",
       "      <td>2</td>\n",
       "    </tr>\n",
       "    <tr>\n",
       "      <td>1</td>\n",
       "      <td>1001</td>\n",
       "      <td>Москва</td>\n",
       "      <td>smart</td>\n",
       "      <td>0</td>\n",
       "      <td>0</td>\n",
       "      <td>0</td>\n",
       "      <td>0</td>\n",
       "      <td>0</td>\n",
       "      <td>0</td>\n",
       "      <td>0</td>\n",
       "      <td>0</td>\n",
       "      <td>0</td>\n",
       "      <td>0</td>\n",
       "      <td>1</td>\n",
       "      <td>1</td>\n",
       "    </tr>\n",
       "    <tr>\n",
       "      <td>2</td>\n",
       "      <td>1002</td>\n",
       "      <td>Стерлитамак</td>\n",
       "      <td>smart</td>\n",
       "      <td>0</td>\n",
       "      <td>0</td>\n",
       "      <td>0</td>\n",
       "      <td>0</td>\n",
       "      <td>0</td>\n",
       "      <td>1</td>\n",
       "      <td>1</td>\n",
       "      <td>1</td>\n",
       "      <td>1</td>\n",
       "      <td>1</td>\n",
       "      <td>1</td>\n",
       "      <td>1</td>\n",
       "    </tr>\n",
       "    <tr>\n",
       "      <td>3</td>\n",
       "      <td>1003</td>\n",
       "      <td>Москва</td>\n",
       "      <td>ultra</td>\n",
       "      <td>0</td>\n",
       "      <td>0</td>\n",
       "      <td>0</td>\n",
       "      <td>0</td>\n",
       "      <td>0</td>\n",
       "      <td>0</td>\n",
       "      <td>0</td>\n",
       "      <td>2</td>\n",
       "      <td>2</td>\n",
       "      <td>2</td>\n",
       "      <td>2</td>\n",
       "      <td>2</td>\n",
       "    </tr>\n",
       "    <tr>\n",
       "      <td>4</td>\n",
       "      <td>1004</td>\n",
       "      <td>Новокузнецк</td>\n",
       "      <td>ultra</td>\n",
       "      <td>0</td>\n",
       "      <td>0</td>\n",
       "      <td>0</td>\n",
       "      <td>0</td>\n",
       "      <td>2</td>\n",
       "      <td>2</td>\n",
       "      <td>2</td>\n",
       "      <td>2</td>\n",
       "      <td>2</td>\n",
       "      <td>2</td>\n",
       "      <td>2</td>\n",
       "      <td>2</td>\n",
       "    </tr>\n",
       "    <tr>\n",
       "      <td>5</td>\n",
       "      <td>1005</td>\n",
       "      <td>Набережные Челны</td>\n",
       "      <td>smart</td>\n",
       "      <td>1</td>\n",
       "      <td>1</td>\n",
       "      <td>318</td>\n",
       "      <td>636</td>\n",
       "      <td>285</td>\n",
       "      <td>336</td>\n",
       "      <td>207</td>\n",
       "      <td>357</td>\n",
       "      <td>1</td>\n",
       "      <td>669</td>\n",
       "      <td>141</td>\n",
       "      <td>276</td>\n",
       "    </tr>\n",
       "    <tr>\n",
       "      <td>6</td>\n",
       "      <td>1006</td>\n",
       "      <td>Ульяновск</td>\n",
       "      <td>smart</td>\n",
       "      <td>0</td>\n",
       "      <td>1</td>\n",
       "      <td>1</td>\n",
       "      <td>1</td>\n",
       "      <td>1</td>\n",
       "      <td>1</td>\n",
       "      <td>1</td>\n",
       "      <td>1</td>\n",
       "      <td>1</td>\n",
       "      <td>1</td>\n",
       "      <td>1</td>\n",
       "      <td>1</td>\n",
       "    </tr>\n",
       "    <tr>\n",
       "      <td>7</td>\n",
       "      <td>1007</td>\n",
       "      <td>Москва</td>\n",
       "      <td>smart</td>\n",
       "      <td>0</td>\n",
       "      <td>0</td>\n",
       "      <td>0</td>\n",
       "      <td>1</td>\n",
       "      <td>1</td>\n",
       "      <td>135</td>\n",
       "      <td>231</td>\n",
       "      <td>1</td>\n",
       "      <td>465</td>\n",
       "      <td>1</td>\n",
       "      <td>240</td>\n",
       "      <td>1</td>\n",
       "    </tr>\n",
       "    <tr>\n",
       "      <td>8</td>\n",
       "      <td>1008</td>\n",
       "      <td>Челябинск</td>\n",
       "      <td>smart</td>\n",
       "      <td>0</td>\n",
       "      <td>0</td>\n",
       "      <td>0</td>\n",
       "      <td>0</td>\n",
       "      <td>0</td>\n",
       "      <td>0</td>\n",
       "      <td>0</td>\n",
       "      <td>0</td>\n",
       "      <td>0</td>\n",
       "      <td>0</td>\n",
       "      <td>0</td>\n",
       "      <td>1</td>\n",
       "    </tr>\n",
       "    <tr>\n",
       "      <td>9</td>\n",
       "      <td>1009</td>\n",
       "      <td>Пермь</td>\n",
       "      <td>smart</td>\n",
       "      <td>0</td>\n",
       "      <td>0</td>\n",
       "      <td>1</td>\n",
       "      <td>1</td>\n",
       "      <td>1</td>\n",
       "      <td>1</td>\n",
       "      <td>1</td>\n",
       "      <td>1</td>\n",
       "      <td>1</td>\n",
       "      <td>1</td>\n",
       "      <td>1</td>\n",
       "      <td>1</td>\n",
       "    </tr>\n",
       "  </tbody>\n",
       "</table>\n",
       "</div>"
      ],
      "text/plain": [
       "   user_id              city tariff январь  февраль март апрель  май июнь  \\\n",
       "0     1000         Краснодар  ultra      0        0    0      0    2    2   \n",
       "1     1001            Москва  smart      0        0    0      0    0    0   \n",
       "2     1002       Стерлитамак  smart      0        0    0      0    0    1   \n",
       "3     1003            Москва  ultra      0        0    0      0    0    0   \n",
       "4     1004       Новокузнецк  ultra      0        0    0      0    2    2   \n",
       "5     1005  Набережные Челны  smart      1        1  318    636  285  336   \n",
       "6     1006         Ульяновск  smart      0        1    1      1    1    1   \n",
       "7     1007            Москва  smart      0        0    0      1    1  135   \n",
       "8     1008         Челябинск  smart      0        0    0      0    0    0   \n",
       "9     1009             Пермь  smart      0        0    1      1    1    1   \n",
       "\n",
       "  июль август сентябрь октябрь ноябрь декабрь  \n",
       "0    2      2        2       2      2       2  \n",
       "1    0      0        0       0      1       1  \n",
       "2    1      1        1       1      1       1  \n",
       "3    0      2        2       2      2       2  \n",
       "4    2      2        2       2      2       2  \n",
       "5  207    357        1     669    141     276  \n",
       "6    1      1        1       1      1       1  \n",
       "7  231      1      465       1    240       1  \n",
       "8    0      0        0       0      0       1  \n",
       "9    1      1        1       1      1       1  "
      ]
     },
     "metadata": {},
     "output_type": "display_data"
    },
    {
     "data": {
      "text/html": [
       "<div>\n",
       "<style scoped>\n",
       "    .dataframe tbody tr th:only-of-type {\n",
       "        vertical-align: middle;\n",
       "    }\n",
       "\n",
       "    .dataframe tbody tr th {\n",
       "        vertical-align: top;\n",
       "    }\n",
       "\n",
       "    .dataframe thead th {\n",
       "        text-align: right;\n",
       "    }\n",
       "</style>\n",
       "<table border=\"1\" class=\"dataframe\">\n",
       "  <thead>\n",
       "    <tr style=\"text-align: right;\">\n",
       "      <th></th>\n",
       "      <th>user_id</th>\n",
       "      <th>city</th>\n",
       "      <th>tariff</th>\n",
       "      <th>январь</th>\n",
       "      <th>февраль</th>\n",
       "      <th>март</th>\n",
       "      <th>апрель</th>\n",
       "      <th>май</th>\n",
       "      <th>июнь</th>\n",
       "      <th>июль</th>\n",
       "      <th>август</th>\n",
       "      <th>сентябрь</th>\n",
       "      <th>октябрь</th>\n",
       "      <th>ноябрь</th>\n",
       "      <th>декабрь</th>\n",
       "    </tr>\n",
       "  </thead>\n",
       "  <tbody>\n",
       "    <tr>\n",
       "      <td>0</td>\n",
       "      <td>1000</td>\n",
       "      <td>Краснодар</td>\n",
       "      <td>ultra</td>\n",
       "      <td>0</td>\n",
       "      <td>0</td>\n",
       "      <td>0</td>\n",
       "      <td>0</td>\n",
       "      <td>2</td>\n",
       "      <td>2</td>\n",
       "      <td>2</td>\n",
       "      <td>2</td>\n",
       "      <td>2</td>\n",
       "      <td>2</td>\n",
       "      <td>2</td>\n",
       "      <td>2</td>\n",
       "    </tr>\n",
       "    <tr>\n",
       "      <td>1</td>\n",
       "      <td>1001</td>\n",
       "      <td>Москва</td>\n",
       "      <td>smart</td>\n",
       "      <td>0</td>\n",
       "      <td>0</td>\n",
       "      <td>0</td>\n",
       "      <td>0</td>\n",
       "      <td>0</td>\n",
       "      <td>0</td>\n",
       "      <td>0</td>\n",
       "      <td>0</td>\n",
       "      <td>0</td>\n",
       "      <td>0</td>\n",
       "      <td>0</td>\n",
       "      <td>0</td>\n",
       "    </tr>\n",
       "    <tr>\n",
       "      <td>2</td>\n",
       "      <td>1002</td>\n",
       "      <td>Стерлитамак</td>\n",
       "      <td>smart</td>\n",
       "      <td>0</td>\n",
       "      <td>0</td>\n",
       "      <td>0</td>\n",
       "      <td>0</td>\n",
       "      <td>0</td>\n",
       "      <td>1</td>\n",
       "      <td>1</td>\n",
       "      <td>1</td>\n",
       "      <td>1</td>\n",
       "      <td>1</td>\n",
       "      <td>1</td>\n",
       "      <td>1</td>\n",
       "    </tr>\n",
       "    <tr>\n",
       "      <td>3</td>\n",
       "      <td>1003</td>\n",
       "      <td>Москва</td>\n",
       "      <td>ultra</td>\n",
       "      <td>0</td>\n",
       "      <td>0</td>\n",
       "      <td>0</td>\n",
       "      <td>0</td>\n",
       "      <td>0</td>\n",
       "      <td>0</td>\n",
       "      <td>0</td>\n",
       "      <td>2</td>\n",
       "      <td>2</td>\n",
       "      <td>2</td>\n",
       "      <td>2</td>\n",
       "      <td>2</td>\n",
       "    </tr>\n",
       "    <tr>\n",
       "      <td>4</td>\n",
       "      <td>1004</td>\n",
       "      <td>Новокузнецк</td>\n",
       "      <td>ultra</td>\n",
       "      <td>0</td>\n",
       "      <td>0</td>\n",
       "      <td>0</td>\n",
       "      <td>0</td>\n",
       "      <td>2</td>\n",
       "      <td>2</td>\n",
       "      <td>2</td>\n",
       "      <td>2</td>\n",
       "      <td>2</td>\n",
       "      <td>2</td>\n",
       "      <td>2</td>\n",
       "      <td>2</td>\n",
       "    </tr>\n",
       "    <tr>\n",
       "      <td>5</td>\n",
       "      <td>1005</td>\n",
       "      <td>Набережные Челны</td>\n",
       "      <td>smart</td>\n",
       "      <td>1</td>\n",
       "      <td>1</td>\n",
       "      <td>18</td>\n",
       "      <td>1</td>\n",
       "      <td>1</td>\n",
       "      <td>1</td>\n",
       "      <td>18</td>\n",
       "      <td>42</td>\n",
       "      <td>6</td>\n",
       "      <td>1</td>\n",
       "      <td>3</td>\n",
       "      <td>12</td>\n",
       "    </tr>\n",
       "    <tr>\n",
       "      <td>6</td>\n",
       "      <td>1006</td>\n",
       "      <td>Ульяновск</td>\n",
       "      <td>smart</td>\n",
       "      <td>0</td>\n",
       "      <td>0</td>\n",
       "      <td>0</td>\n",
       "      <td>0</td>\n",
       "      <td>0</td>\n",
       "      <td>0</td>\n",
       "      <td>0</td>\n",
       "      <td>0</td>\n",
       "      <td>0</td>\n",
       "      <td>0</td>\n",
       "      <td>0</td>\n",
       "      <td>0</td>\n",
       "    </tr>\n",
       "    <tr>\n",
       "      <td>7</td>\n",
       "      <td>1007</td>\n",
       "      <td>Москва</td>\n",
       "      <td>smart</td>\n",
       "      <td>0</td>\n",
       "      <td>0</td>\n",
       "      <td>0</td>\n",
       "      <td>1</td>\n",
       "      <td>1</td>\n",
       "      <td>1</td>\n",
       "      <td>1</td>\n",
       "      <td>1</td>\n",
       "      <td>1</td>\n",
       "      <td>1</td>\n",
       "      <td>1</td>\n",
       "      <td>1</td>\n",
       "    </tr>\n",
       "    <tr>\n",
       "      <td>8</td>\n",
       "      <td>1008</td>\n",
       "      <td>Челябинск</td>\n",
       "      <td>smart</td>\n",
       "      <td>0</td>\n",
       "      <td>0</td>\n",
       "      <td>0</td>\n",
       "      <td>0</td>\n",
       "      <td>0</td>\n",
       "      <td>0</td>\n",
       "      <td>0</td>\n",
       "      <td>0</td>\n",
       "      <td>0</td>\n",
       "      <td>0</td>\n",
       "      <td>0</td>\n",
       "      <td>18</td>\n",
       "    </tr>\n",
       "    <tr>\n",
       "      <td>9</td>\n",
       "      <td>1009</td>\n",
       "      <td>Пермь</td>\n",
       "      <td>smart</td>\n",
       "      <td>0</td>\n",
       "      <td>0</td>\n",
       "      <td>1</td>\n",
       "      <td>1</td>\n",
       "      <td>1</td>\n",
       "      <td>1</td>\n",
       "      <td>1</td>\n",
       "      <td>1</td>\n",
       "      <td>1</td>\n",
       "      <td>1</td>\n",
       "      <td>1</td>\n",
       "      <td>1</td>\n",
       "    </tr>\n",
       "  </tbody>\n",
       "</table>\n",
       "</div>"
      ],
      "text/plain": [
       "   user_id              city tariff январь февраль  март апрель май июнь июль  \\\n",
       "0     1000         Краснодар  ultra      0       0     0      0   2    2    2   \n",
       "1     1001            Москва  smart      0       0     0      0   0    0    0   \n",
       "2     1002       Стерлитамак  smart      0       0     0      0   0    1    1   \n",
       "3     1003            Москва  ultra      0       0     0      0   0    0    0   \n",
       "4     1004       Новокузнецк  ultra      0       0     0      0   2    2    2   \n",
       "5     1005  Набережные Челны  smart      1       1    18      1   1    1   18   \n",
       "6     1006         Ульяновск  smart      0       0     0      0   0    0    0   \n",
       "7     1007            Москва  smart      0       0     0      1   1    1    1   \n",
       "8     1008         Челябинск  smart      0       0     0      0   0    0    0   \n",
       "9     1009             Пермь  smart      0       0     1      1   1    1    1   \n",
       "\n",
       "  август сентябрь октябрь ноябрь декабрь  \n",
       "0      2        2       2      2       2  \n",
       "1      0        0       0      0       0  \n",
       "2      1        1       1      1       1  \n",
       "3      2        2       2      2       2  \n",
       "4      2        2       2      2       2  \n",
       "5     42        6       1      3      12  \n",
       "6      0        0       0      0       0  \n",
       "7      1        1       1      1       1  \n",
       "8      0        0       0      0      18  \n",
       "9      1        1       1      1       1  "
      ]
     },
     "metadata": {},
     "output_type": "display_data"
    },
    {
     "data": {
      "text/html": [
       "<div>\n",
       "<style scoped>\n",
       "    .dataframe tbody tr th:only-of-type {\n",
       "        vertical-align: middle;\n",
       "    }\n",
       "\n",
       "    .dataframe tbody tr th {\n",
       "        vertical-align: top;\n",
       "    }\n",
       "\n",
       "    .dataframe thead th {\n",
       "        text-align: right;\n",
       "    }\n",
       "</style>\n",
       "<table border=\"1\" class=\"dataframe\">\n",
       "  <thead>\n",
       "    <tr style=\"text-align: right;\">\n",
       "      <th></th>\n",
       "      <th>user_id</th>\n",
       "      <th>city</th>\n",
       "      <th>tariff</th>\n",
       "      <th>январь</th>\n",
       "      <th>февраль</th>\n",
       "      <th>март</th>\n",
       "      <th>апрель</th>\n",
       "      <th>май</th>\n",
       "      <th>июнь</th>\n",
       "      <th>июль</th>\n",
       "      <th>август</th>\n",
       "      <th>сентябрь</th>\n",
       "      <th>октябрь</th>\n",
       "      <th>ноябрь</th>\n",
       "      <th>декабрь</th>\n",
       "    </tr>\n",
       "  </thead>\n",
       "  <tbody>\n",
       "    <tr>\n",
       "      <td>0</td>\n",
       "      <td>1000</td>\n",
       "      <td>Краснодар</td>\n",
       "      <td>ultra</td>\n",
       "      <td>0</td>\n",
       "      <td>0</td>\n",
       "      <td>0</td>\n",
       "      <td>0</td>\n",
       "      <td>2</td>\n",
       "      <td>2</td>\n",
       "      <td>2</td>\n",
       "      <td>2</td>\n",
       "      <td>2</td>\n",
       "      <td>2</td>\n",
       "      <td>2</td>\n",
       "      <td>2</td>\n",
       "    </tr>\n",
       "    <tr>\n",
       "      <td>1</td>\n",
       "      <td>1001</td>\n",
       "      <td>Москва</td>\n",
       "      <td>smart</td>\n",
       "      <td>0</td>\n",
       "      <td>0</td>\n",
       "      <td>0</td>\n",
       "      <td>0</td>\n",
       "      <td>0</td>\n",
       "      <td>0</td>\n",
       "      <td>0</td>\n",
       "      <td>0</td>\n",
       "      <td>0</td>\n",
       "      <td>0</td>\n",
       "      <td>1</td>\n",
       "      <td>1</td>\n",
       "    </tr>\n",
       "    <tr>\n",
       "      <td>2</td>\n",
       "      <td>1002</td>\n",
       "      <td>Стерлитамак</td>\n",
       "      <td>smart</td>\n",
       "      <td>0</td>\n",
       "      <td>0</td>\n",
       "      <td>0</td>\n",
       "      <td>0</td>\n",
       "      <td>0</td>\n",
       "      <td>1</td>\n",
       "      <td>1</td>\n",
       "      <td>1</td>\n",
       "      <td>1</td>\n",
       "      <td>1</td>\n",
       "      <td>1</td>\n",
       "      <td>1</td>\n",
       "    </tr>\n",
       "    <tr>\n",
       "      <td>3</td>\n",
       "      <td>1003</td>\n",
       "      <td>Москва</td>\n",
       "      <td>ultra</td>\n",
       "      <td>0</td>\n",
       "      <td>0</td>\n",
       "      <td>0</td>\n",
       "      <td>0</td>\n",
       "      <td>0</td>\n",
       "      <td>0</td>\n",
       "      <td>0</td>\n",
       "      <td>2</td>\n",
       "      <td>2</td>\n",
       "      <td>2</td>\n",
       "      <td>2</td>\n",
       "      <td>2</td>\n",
       "    </tr>\n",
       "    <tr>\n",
       "      <td>4</td>\n",
       "      <td>1004</td>\n",
       "      <td>Новокузнецк</td>\n",
       "      <td>ultra</td>\n",
       "      <td>0</td>\n",
       "      <td>0</td>\n",
       "      <td>0</td>\n",
       "      <td>0</td>\n",
       "      <td>2</td>\n",
       "      <td>2</td>\n",
       "      <td>2</td>\n",
       "      <td>2</td>\n",
       "      <td>2</td>\n",
       "      <td>2</td>\n",
       "      <td>2</td>\n",
       "      <td>2</td>\n",
       "    </tr>\n",
       "    <tr>\n",
       "      <td>5</td>\n",
       "      <td>1005</td>\n",
       "      <td>Набережные Челны</td>\n",
       "      <td>smart</td>\n",
       "      <td>1</td>\n",
       "      <td>1</td>\n",
       "      <td>1</td>\n",
       "      <td>1</td>\n",
       "      <td>1</td>\n",
       "      <td>1</td>\n",
       "      <td>1</td>\n",
       "      <td>1</td>\n",
       "      <td>1</td>\n",
       "      <td>1</td>\n",
       "      <td>1</td>\n",
       "      <td>1</td>\n",
       "    </tr>\n",
       "    <tr>\n",
       "      <td>6</td>\n",
       "      <td>1006</td>\n",
       "      <td>Ульяновск</td>\n",
       "      <td>smart</td>\n",
       "      <td>0</td>\n",
       "      <td>1</td>\n",
       "      <td>1</td>\n",
       "      <td>1</td>\n",
       "      <td>1</td>\n",
       "      <td>1</td>\n",
       "      <td>1</td>\n",
       "      <td>1</td>\n",
       "      <td>1</td>\n",
       "      <td>1</td>\n",
       "      <td>1</td>\n",
       "      <td>1</td>\n",
       "    </tr>\n",
       "    <tr>\n",
       "      <td>7</td>\n",
       "      <td>1007</td>\n",
       "      <td>Москва</td>\n",
       "      <td>smart</td>\n",
       "      <td>0</td>\n",
       "      <td>0</td>\n",
       "      <td>0</td>\n",
       "      <td>1</td>\n",
       "      <td>1</td>\n",
       "      <td>1</td>\n",
       "      <td>1</td>\n",
       "      <td>1</td>\n",
       "      <td>1</td>\n",
       "      <td>1</td>\n",
       "      <td>1</td>\n",
       "      <td>1</td>\n",
       "    </tr>\n",
       "    <tr>\n",
       "      <td>8</td>\n",
       "      <td>1008</td>\n",
       "      <td>Челябинск</td>\n",
       "      <td>smart</td>\n",
       "      <td>0</td>\n",
       "      <td>0</td>\n",
       "      <td>0</td>\n",
       "      <td>0</td>\n",
       "      <td>0</td>\n",
       "      <td>0</td>\n",
       "      <td>0</td>\n",
       "      <td>0</td>\n",
       "      <td>0</td>\n",
       "      <td>0</td>\n",
       "      <td>0</td>\n",
       "      <td>1</td>\n",
       "    </tr>\n",
       "    <tr>\n",
       "      <td>9</td>\n",
       "      <td>1009</td>\n",
       "      <td>Пермь</td>\n",
       "      <td>smart</td>\n",
       "      <td>0</td>\n",
       "      <td>0</td>\n",
       "      <td>1</td>\n",
       "      <td>1</td>\n",
       "      <td>1</td>\n",
       "      <td>1</td>\n",
       "      <td>1</td>\n",
       "      <td>1</td>\n",
       "      <td>1</td>\n",
       "      <td>1</td>\n",
       "      <td>1</td>\n",
       "      <td>1</td>\n",
       "    </tr>\n",
       "  </tbody>\n",
       "</table>\n",
       "</div>"
      ],
      "text/plain": [
       "   user_id              city tariff январь февраль март  апрель май июнь июль  \\\n",
       "0     1000         Краснодар  ultra      0       0    0       0   2    2    2   \n",
       "1     1001            Москва  smart      0       0    0       0   0    0    0   \n",
       "2     1002       Стерлитамак  smart      0       0    0       0   0    1    1   \n",
       "3     1003            Москва  ultra      0       0    0       0   0    0    0   \n",
       "4     1004       Новокузнецк  ultra      0       0    0       0   2    2    2   \n",
       "5     1005  Набережные Челны  smart      1       1    1       1   1    1    1   \n",
       "6     1006         Ульяновск  smart      0       1    1       1   1    1    1   \n",
       "7     1007            Москва  smart      0       0    0       1   1    1    1   \n",
       "8     1008         Челябинск  smart      0       0    0       0   0    0    0   \n",
       "9     1009             Пермь  smart      0       0    1       1   1    1    1   \n",
       "\n",
       "  август сентябрь октябрь ноябрь декабрь  \n",
       "0      2        2       2      2       2  \n",
       "1      0        0       0      1       1  \n",
       "2      1        1       1      1       1  \n",
       "3      2        2       2      2       2  \n",
       "4      2        2       2      2       2  \n",
       "5      1        1       1      1       1  \n",
       "6      1        1       1      1       1  \n",
       "7      1        1       1      1       1  \n",
       "8      0        0       0      0       1  \n",
       "9      1        1       1      1       1  "
      ]
     },
     "metadata": {},
     "output_type": "display_data"
    }
   ],
   "source": [
    "def tariff_price(df, colum, smart_lim, ultra_lim, smart_price, ultra_price):\n",
    "    for i in colum:\n",
    "        for j in range(0, 500):\n",
    "            if df['tariff'][j] == 'smart':\n",
    "                if df[i][j] > smart_lim:\n",
    "                    df[i][j] = (df[i][j] - smart_lim) * smart_price\n",
    "                else: \n",
    "                    if (df[i][j] <= smart_lim and df[i][j] != 0):\n",
    "                        df[i][j] = 1\n",
    "                    if  df[i][j] == 0 :\n",
    "                        df[i][j] = 0\n",
    "            if df['tariff'][j] == 'ultra':\n",
    "                if df[i][j] > ultra_lim:\n",
    "                    df[i][j] = (df[i][j] - ultra_lim) * ultra_price\n",
    "                else: \n",
    "                    if (df[i][j] <= ultra_lim and df[i][j] != 0):\n",
    "                        df[i][j] = 2\n",
    "                    if  df[i][j] == 0 :\n",
    "                        df[i][j] = 0\n",
    "    return df\n",
    "\n",
    "df_calls_new = tariff_price(df_calls_new, \n",
    "                            col, \n",
    "                            df_tariffs['minutes_included'][0], \n",
    "                            df_tariffs['minutes_included'][1], \n",
    "                            df_tariffs['rub_per_minute'][0], \n",
    "                            df_tariffs['rub_per_minute'][1])\n",
    "\n",
    "df_messages_new = tariff_price(df_messages_new, \n",
    "                               col, \n",
    "                               df_tariffs['messages_included'][0], \n",
    "                               df_tariffs['messages_included'][1], \n",
    "                               df_tariffs['rub_per_message'][0], \n",
    "                               df_tariffs['rub_per_message'][1])\n",
    "\n",
    "df_internet_new = tariff_price(df_internet_new, \n",
    "                               col, \n",
    "                               df_tariffs['mb_per_month_included'][0], \n",
    "                               df_tariffs['mb_per_month_included'][1], \n",
    "                               df_tariffs['rub_per_gb'][0], \n",
    "                               df_tariffs['rub_per_gb'][1])\n",
    "\n",
    "display(df_calls_new.head(10))\n",
    "display(df_messages_new.head(10))\n",
    "display(df_internet_new.head(10))"
   ]
  },
  {
   "cell_type": "markdown",
   "metadata": {},
   "source": [
    "#### Содание общей таблицы расходов по каждому пользователю\n",
    "\n",
    "Создадим таблицу, содержащую полностью все траты на различные параметры в течение года:"
   ]
  },
  {
   "cell_type": "code",
   "execution_count": 18,
   "metadata": {},
   "outputs": [
    {
     "data": {
      "text/html": [
       "<div>\n",
       "<style scoped>\n",
       "    .dataframe tbody tr th:only-of-type {\n",
       "        vertical-align: middle;\n",
       "    }\n",
       "\n",
       "    .dataframe tbody tr th {\n",
       "        vertical-align: top;\n",
       "    }\n",
       "\n",
       "    .dataframe thead th {\n",
       "        text-align: right;\n",
       "    }\n",
       "</style>\n",
       "<table border=\"1\" class=\"dataframe\">\n",
       "  <thead>\n",
       "    <tr style=\"text-align: right;\">\n",
       "      <th></th>\n",
       "      <th>user_id</th>\n",
       "      <th>city</th>\n",
       "      <th>tariff</th>\n",
       "      <th>январь</th>\n",
       "      <th>февраль</th>\n",
       "      <th>март</th>\n",
       "      <th>апрель</th>\n",
       "      <th>май</th>\n",
       "      <th>июнь</th>\n",
       "      <th>июль</th>\n",
       "      <th>август</th>\n",
       "      <th>сентябрь</th>\n",
       "      <th>октябрь</th>\n",
       "      <th>ноябрь</th>\n",
       "      <th>декабрь</th>\n",
       "    </tr>\n",
       "  </thead>\n",
       "  <tbody>\n",
       "    <tr>\n",
       "      <td>0</td>\n",
       "      <td>1000</td>\n",
       "      <td>Краснодар</td>\n",
       "      <td>ultra</td>\n",
       "      <td>0</td>\n",
       "      <td>0</td>\n",
       "      <td>0</td>\n",
       "      <td>0</td>\n",
       "      <td>1950</td>\n",
       "      <td>1950</td>\n",
       "      <td>1950</td>\n",
       "      <td>1950</td>\n",
       "      <td>1950</td>\n",
       "      <td>1950</td>\n",
       "      <td>1950</td>\n",
       "      <td>1950</td>\n",
       "    </tr>\n",
       "    <tr>\n",
       "      <td>1</td>\n",
       "      <td>1001</td>\n",
       "      <td>Москва</td>\n",
       "      <td>smart</td>\n",
       "      <td>0</td>\n",
       "      <td>0</td>\n",
       "      <td>0</td>\n",
       "      <td>0</td>\n",
       "      <td>0</td>\n",
       "      <td>0</td>\n",
       "      <td>0</td>\n",
       "      <td>0</td>\n",
       "      <td>0</td>\n",
       "      <td>0</td>\n",
       "      <td>550</td>\n",
       "      <td>550</td>\n",
       "    </tr>\n",
       "    <tr>\n",
       "      <td>2</td>\n",
       "      <td>1002</td>\n",
       "      <td>Стерлитамак</td>\n",
       "      <td>smart</td>\n",
       "      <td>0</td>\n",
       "      <td>0</td>\n",
       "      <td>0</td>\n",
       "      <td>0</td>\n",
       "      <td>0</td>\n",
       "      <td>550</td>\n",
       "      <td>550</td>\n",
       "      <td>550</td>\n",
       "      <td>550</td>\n",
       "      <td>550</td>\n",
       "      <td>550</td>\n",
       "      <td>550</td>\n",
       "    </tr>\n",
       "    <tr>\n",
       "      <td>3</td>\n",
       "      <td>1003</td>\n",
       "      <td>Москва</td>\n",
       "      <td>ultra</td>\n",
       "      <td>0</td>\n",
       "      <td>0</td>\n",
       "      <td>0</td>\n",
       "      <td>0</td>\n",
       "      <td>0</td>\n",
       "      <td>0</td>\n",
       "      <td>0</td>\n",
       "      <td>1950</td>\n",
       "      <td>1950</td>\n",
       "      <td>1950</td>\n",
       "      <td>1950</td>\n",
       "      <td>1950</td>\n",
       "    </tr>\n",
       "    <tr>\n",
       "      <td>4</td>\n",
       "      <td>1004</td>\n",
       "      <td>Новокузнецк</td>\n",
       "      <td>ultra</td>\n",
       "      <td>0</td>\n",
       "      <td>0</td>\n",
       "      <td>0</td>\n",
       "      <td>0</td>\n",
       "      <td>1950</td>\n",
       "      <td>1950</td>\n",
       "      <td>1950</td>\n",
       "      <td>1950</td>\n",
       "      <td>1950</td>\n",
       "      <td>1950</td>\n",
       "      <td>1950</td>\n",
       "      <td>1950</td>\n",
       "    </tr>\n",
       "    <tr>\n",
       "      <td>5</td>\n",
       "      <td>1005</td>\n",
       "      <td>Набережные Челны</td>\n",
       "      <td>smart</td>\n",
       "      <td>550</td>\n",
       "      <td>550</td>\n",
       "      <td>886</td>\n",
       "      <td>1186</td>\n",
       "      <td>835</td>\n",
       "      <td>886</td>\n",
       "      <td>775</td>\n",
       "      <td>949</td>\n",
       "      <td>556</td>\n",
       "      <td>1219</td>\n",
       "      <td>694</td>\n",
       "      <td>838</td>\n",
       "    </tr>\n",
       "    <tr>\n",
       "      <td>6</td>\n",
       "      <td>1006</td>\n",
       "      <td>Ульяновск</td>\n",
       "      <td>smart</td>\n",
       "      <td>0</td>\n",
       "      <td>550</td>\n",
       "      <td>550</td>\n",
       "      <td>550</td>\n",
       "      <td>550</td>\n",
       "      <td>550</td>\n",
       "      <td>550</td>\n",
       "      <td>550</td>\n",
       "      <td>550</td>\n",
       "      <td>550</td>\n",
       "      <td>550</td>\n",
       "      <td>550</td>\n",
       "    </tr>\n",
       "    <tr>\n",
       "      <td>7</td>\n",
       "      <td>1007</td>\n",
       "      <td>Москва</td>\n",
       "      <td>smart</td>\n",
       "      <td>0</td>\n",
       "      <td>0</td>\n",
       "      <td>0</td>\n",
       "      <td>550</td>\n",
       "      <td>550</td>\n",
       "      <td>685</td>\n",
       "      <td>781</td>\n",
       "      <td>550</td>\n",
       "      <td>1015</td>\n",
       "      <td>550</td>\n",
       "      <td>790</td>\n",
       "      <td>550</td>\n",
       "    </tr>\n",
       "    <tr>\n",
       "      <td>8</td>\n",
       "      <td>1008</td>\n",
       "      <td>Челябинск</td>\n",
       "      <td>smart</td>\n",
       "      <td>0</td>\n",
       "      <td>0</td>\n",
       "      <td>0</td>\n",
       "      <td>0</td>\n",
       "      <td>0</td>\n",
       "      <td>0</td>\n",
       "      <td>0</td>\n",
       "      <td>0</td>\n",
       "      <td>0</td>\n",
       "      <td>0</td>\n",
       "      <td>0</td>\n",
       "      <td>568</td>\n",
       "    </tr>\n",
       "    <tr>\n",
       "      <td>9</td>\n",
       "      <td>1009</td>\n",
       "      <td>Пермь</td>\n",
       "      <td>smart</td>\n",
       "      <td>0</td>\n",
       "      <td>0</td>\n",
       "      <td>550</td>\n",
       "      <td>550</td>\n",
       "      <td>550</td>\n",
       "      <td>550</td>\n",
       "      <td>550</td>\n",
       "      <td>550</td>\n",
       "      <td>550</td>\n",
       "      <td>550</td>\n",
       "      <td>550</td>\n",
       "      <td>550</td>\n",
       "    </tr>\n",
       "  </tbody>\n",
       "</table>\n",
       "</div>"
      ],
      "text/plain": [
       "   user_id              city tariff январь февраль март апрель   май  июнь  \\\n",
       "0     1000         Краснодар  ultra      0       0    0      0  1950  1950   \n",
       "1     1001            Москва  smart      0       0    0      0     0     0   \n",
       "2     1002       Стерлитамак  smart      0       0    0      0     0   550   \n",
       "3     1003            Москва  ultra      0       0    0      0     0     0   \n",
       "4     1004       Новокузнецк  ultra      0       0    0      0  1950  1950   \n",
       "5     1005  Набережные Челны  smart    550     550  886   1186   835   886   \n",
       "6     1006         Ульяновск  smart      0     550  550    550   550   550   \n",
       "7     1007            Москва  smart      0       0    0    550   550   685   \n",
       "8     1008         Челябинск  smart      0       0    0      0     0     0   \n",
       "9     1009             Пермь  smart      0       0  550    550   550   550   \n",
       "\n",
       "   июль август сентябрь октябрь ноябрь декабрь  \n",
       "0  1950   1950     1950    1950   1950    1950  \n",
       "1     0      0        0       0    550     550  \n",
       "2   550    550      550     550    550     550  \n",
       "3     0   1950     1950    1950   1950    1950  \n",
       "4  1950   1950     1950    1950   1950    1950  \n",
       "5   775    949      556    1219    694     838  \n",
       "6   550    550      550     550    550     550  \n",
       "7   781    550     1015     550    790     550  \n",
       "8     0      0        0       0      0     568  \n",
       "9   550    550      550     550    550     550  "
      ]
     },
     "metadata": {},
     "output_type": "display_data"
    }
   ],
   "source": [
    "all_costs = pd.DataFrame(columns = col)\n",
    "all_costs = df_users.join(all_costs)\n",
    "\n",
    "drop_columns = ['age', 'churn_date', \n",
    "                'first_name', \n",
    "                'last_name', 'reg_date']\n",
    "\n",
    "for i in drop_columns:\n",
    "    all_costs = all_costs.drop(i, 1)\n",
    "    \n",
    "ultra_cost = df_tariffs['rub_monthly_fee'][1]\n",
    "smart_cost = df_tariffs['rub_monthly_fee'][0]\n",
    "\n",
    "for i in col:\n",
    "    for j in range(0,500) :\n",
    "        if (df_calls_new[i][j] == 0 and df_messages_new[i][j] == 0 and df_internet_new[i][j] ==0):\n",
    "            all_costs[i][j] = 0\n",
    "        else:        \n",
    "            penalty = 0\n",
    "            if (df_calls_new[i][j] > 2) :\n",
    "                penalty += df_calls_new[i][j]\n",
    "            if (df_messages_new[i][j] > 2) :\n",
    "                penalty += df_messages_new[i][j]\n",
    "            if (df_internet_new[i][j] > 2) :\n",
    "                penalty += df_internet_new[i][j]\n",
    "            if (all_costs['tariff'][j] ==  'smart') :\n",
    "                all_costs[i][j] = 550 + penalty\n",
    "            else :\n",
    "                all_costs[i][j] = 1950 + penalty\n",
    "display(all_costs.head(10))         \n",
    "            "
   ]
  },
  {
   "cell_type": "markdown",
   "metadata": {},
   "source": [
    "**Вывод:**\n",
    "\n",
    "После полной обработки данных, и произведенных необходимых вычислений, получили окончательную таблицу *all_costs*, которая содержит все расходы каждого пользователя сумарно по всем параметрам. Теперь ее можно использовать для произведения анализа в следующих шагах.   "
   ]
  },
  {
   "cell_type": "markdown",
   "metadata": {},
   "source": [
    "## Анализ данных"
   ]
  },
  {
   "cell_type": "markdown",
   "metadata": {},
   "source": [
    "Проанализируем отдельно каждый параметр на предмет необходимости пользователям каждого тарифа. Создадим отдельно каждому параметру таблицы по тарифам и найдем среднее значение использования тарифа:   "
   ]
  },
  {
   "cell_type": "code",
   "execution_count": 19,
   "metadata": {
    "scrolled": true
   },
   "outputs": [
    {
     "name": "stdout",
     "output_type": "stream",
     "text": [
      "информация о минутах\n"
     ]
    },
    {
     "data": {
      "image/png": "[encoded data removed]",
      "text/plain": [
       "<Figure size 432x288 with 1 Axes>"
      ]
     },
     "metadata": {
      "needs_background": "light"
     },
     "output_type": "display_data"
    },
    {
     "data": {
      "image/png": "[encoded data removed]",
      "text/plain": [
       "<Figure size 432x288 with 1 Axes>"
      ]
     },
     "metadata": {
      "needs_background": "light"
     },
     "output_type": "display_data"
    },
    {
     "data": {
      "text/html": [
       "<div>\n",
       "<style scoped>\n",
       "    .dataframe tbody tr th:only-of-type {\n",
       "        vertical-align: middle;\n",
       "    }\n",
       "\n",
       "    .dataframe tbody tr th {\n",
       "        vertical-align: top;\n",
       "    }\n",
       "\n",
       "    .dataframe thead th {\n",
       "        text-align: right;\n",
       "    }\n",
       "</style>\n",
       "<table border=\"1\" class=\"dataframe\">\n",
       "  <thead>\n",
       "    <tr style=\"text-align: right;\">\n",
       "      <th></th>\n",
       "      <th>smart</th>\n",
       "      <th>ultra</th>\n",
       "    </tr>\n",
       "  </thead>\n",
       "  <tbody>\n",
       "    <tr>\n",
       "      <td>январь</td>\n",
       "      <td>210.03</td>\n",
       "      <td>428.111</td>\n",
       "    </tr>\n",
       "    <tr>\n",
       "      <td>февраль</td>\n",
       "      <td>298.69</td>\n",
       "      <td>310.043</td>\n",
       "    </tr>\n",
       "    <tr>\n",
       "      <td>март</td>\n",
       "      <td>390.052</td>\n",
       "      <td>489.649</td>\n",
       "    </tr>\n",
       "    <tr>\n",
       "      <td>апрель</td>\n",
       "      <td>370.441</td>\n",
       "      <td>475.302</td>\n",
       "    </tr>\n",
       "    <tr>\n",
       "      <td>май</td>\n",
       "      <td>387.362</td>\n",
       "      <td>534.25</td>\n",
       "    </tr>\n",
       "    <tr>\n",
       "      <td>июнь</td>\n",
       "      <td>398.067</td>\n",
       "      <td>497.469</td>\n",
       "    </tr>\n",
       "    <tr>\n",
       "      <td>июль</td>\n",
       "      <td>408.353</td>\n",
       "      <td>570.885</td>\n",
       "    </tr>\n",
       "    <tr>\n",
       "      <td>август</td>\n",
       "      <td>423.269</td>\n",
       "      <td>535.814</td>\n",
       "    </tr>\n",
       "    <tr>\n",
       "      <td>сентябрь</td>\n",
       "      <td>430.266</td>\n",
       "      <td>563.964</td>\n",
       "    </tr>\n",
       "    <tr>\n",
       "      <td>октябрь</td>\n",
       "      <td>427.59</td>\n",
       "      <td>581.729</td>\n",
       "    </tr>\n",
       "    <tr>\n",
       "      <td>ноябрь</td>\n",
       "      <td>436.648</td>\n",
       "      <td>562.364</td>\n",
       "    </tr>\n",
       "    <tr>\n",
       "      <td>декабрь</td>\n",
       "      <td>479.985</td>\n",
       "      <td>614.925</td>\n",
       "    </tr>\n",
       "  </tbody>\n",
       "</table>\n",
       "</div>"
      ],
      "text/plain": [
       "            smart    ultra\n",
       "январь     210.03  428.111\n",
       "февраль    298.69  310.043\n",
       "март      390.052  489.649\n",
       "апрель    370.441  475.302\n",
       "май       387.362   534.25\n",
       "июнь      398.067  497.469\n",
       "июль      408.353  570.885\n",
       "август    423.269  535.814\n",
       "сентябрь  430.266  563.964\n",
       "октябрь    427.59  581.729\n",
       "ноябрь    436.648  562.364\n",
       "декабрь   479.985  614.925"
      ]
     },
     "metadata": {},
     "output_type": "display_data"
    },
    {
     "name": "stdout",
     "output_type": "stream",
     "text": [
      "информация о сообщениях\n"
     ]
    },
    {
     "data": {
      "image/png": "[encoded data removed]",
      "text/plain": [
       "<Figure size 432x288 with 1 Axes>"
      ]
     },
     "metadata": {
      "needs_background": "light"
     },
     "output_type": "display_data"
    },
    {
     "data": {
      "image/png": "[encoded data removed]",
      "text/plain": [
       "<Figure size 432x288 with 1 Axes>"
      ]
     },
     "metadata": {
      "needs_background": "light"
     },
     "output_type": "display_data"
    },
    {
     "data": {
      "text/html": [
       "<div>\n",
       "<style scoped>\n",
       "    .dataframe tbody tr th:only-of-type {\n",
       "        vertical-align: middle;\n",
       "    }\n",
       "\n",
       "    .dataframe tbody tr th {\n",
       "        vertical-align: top;\n",
       "    }\n",
       "\n",
       "    .dataframe thead th {\n",
       "        text-align: right;\n",
       "    }\n",
       "</style>\n",
       "<table border=\"1\" class=\"dataframe\">\n",
       "  <thead>\n",
       "    <tr style=\"text-align: right;\">\n",
       "      <th></th>\n",
       "      <th>smart</th>\n",
       "      <th>ultra</th>\n",
       "    </tr>\n",
       "  </thead>\n",
       "  <tbody>\n",
       "    <tr>\n",
       "      <td>январь</td>\n",
       "      <td>20</td>\n",
       "      <td>43.4286</td>\n",
       "    </tr>\n",
       "    <tr>\n",
       "      <td>февраль</td>\n",
       "      <td>27.94</td>\n",
       "      <td>32.9375</td>\n",
       "    </tr>\n",
       "    <tr>\n",
       "      <td>март</td>\n",
       "      <td>35.5507</td>\n",
       "      <td>47.8</td>\n",
       "    </tr>\n",
       "    <tr>\n",
       "      <td>апрель</td>\n",
       "      <td>35.8646</td>\n",
       "      <td>44.5128</td>\n",
       "    </tr>\n",
       "    <tr>\n",
       "      <td>май</td>\n",
       "      <td>39.0328</td>\n",
       "      <td>48.7692</td>\n",
       "    </tr>\n",
       "    <tr>\n",
       "      <td>июнь</td>\n",
       "      <td>38.5775</td>\n",
       "      <td>52.3134</td>\n",
       "    </tr>\n",
       "    <tr>\n",
       "      <td>июль</td>\n",
       "      <td>38.9885</td>\n",
       "      <td>62.137</td>\n",
       "    </tr>\n",
       "    <tr>\n",
       "      <td>август</td>\n",
       "      <td>38.75</td>\n",
       "      <td>58.8977</td>\n",
       "    </tr>\n",
       "    <tr>\n",
       "      <td>сентябрь</td>\n",
       "      <td>39.2197</td>\n",
       "      <td>63.2947</td>\n",
       "    </tr>\n",
       "    <tr>\n",
       "      <td>октябрь</td>\n",
       "      <td>39.0827</td>\n",
       "      <td>69.7767</td>\n",
       "    </tr>\n",
       "    <tr>\n",
       "      <td>ноябрь</td>\n",
       "      <td>39.8815</td>\n",
       "      <td>66.1593</td>\n",
       "    </tr>\n",
       "    <tr>\n",
       "      <td>декабрь</td>\n",
       "      <td>42.2648</td>\n",
       "      <td>72.0085</td>\n",
       "    </tr>\n",
       "  </tbody>\n",
       "</table>\n",
       "</div>"
      ],
      "text/plain": [
       "            smart    ultra\n",
       "январь         20  43.4286\n",
       "февраль     27.94  32.9375\n",
       "март      35.5507     47.8\n",
       "апрель    35.8646  44.5128\n",
       "май       39.0328  48.7692\n",
       "июнь      38.5775  52.3134\n",
       "июль      38.9885   62.137\n",
       "август      38.75  58.8977\n",
       "сентябрь  39.2197  63.2947\n",
       "октябрь   39.0827  69.7767\n",
       "ноябрь    39.8815  66.1593\n",
       "декабрь   42.2648  72.0085"
      ]
     },
     "metadata": {},
     "output_type": "display_data"
    },
    {
     "name": "stdout",
     "output_type": "stream",
     "text": [
      "информация об интернет сессиях\n"
     ]
    },
    {
     "data": {
      "image/png": "[encoded data removed]",
      "text/plain": [
       "<Figure size 432x288 with 1 Axes>"
      ]
     },
     "metadata": {
      "needs_background": "light"
     },
     "output_type": "display_data"
    },
    {
     "data": {
      "image/png": "[encoded data removed]",
      "text/plain": [
       "<Figure size 432x288 with 1 Axes>"
      ]
     },
     "metadata": {
      "needs_background": "light"
     },
     "output_type": "display_data"
    },
    {
     "data": {
      "text/html": [
       "<div>\n",
       "<style scoped>\n",
       "    .dataframe tbody tr th:only-of-type {\n",
       "        vertical-align: middle;\n",
       "    }\n",
       "\n",
       "    .dataframe tbody tr th {\n",
       "        vertical-align: top;\n",
       "    }\n",
       "\n",
       "    .dataframe thead th {\n",
       "        text-align: right;\n",
       "    }\n",
       "</style>\n",
       "<table border=\"1\" class=\"dataframe\">\n",
       "  <thead>\n",
       "    <tr style=\"text-align: right;\">\n",
       "      <th></th>\n",
       "      <th>smart</th>\n",
       "      <th>ultra</th>\n",
       "    </tr>\n",
       "  </thead>\n",
       "  <tbody>\n",
       "    <tr>\n",
       "      <td>январь</td>\n",
       "      <td>8.51372</td>\n",
       "      <td>13.1407</td>\n",
       "    </tr>\n",
       "    <tr>\n",
       "      <td>февраль</td>\n",
       "      <td>11.5971</td>\n",
       "      <td>12.8465</td>\n",
       "    </tr>\n",
       "    <tr>\n",
       "      <td>март</td>\n",
       "      <td>15.1042</td>\n",
       "      <td>17.5356</td>\n",
       "    </tr>\n",
       "    <tr>\n",
       "      <td>апрель</td>\n",
       "      <td>13.2752</td>\n",
       "      <td>16.6296</td>\n",
       "    </tr>\n",
       "    <tr>\n",
       "      <td>май</td>\n",
       "      <td>15.8052</td>\n",
       "      <td>19.9589</td>\n",
       "    </tr>\n",
       "    <tr>\n",
       "      <td>июнь</td>\n",
       "      <td>15.7946</td>\n",
       "      <td>19.153</td>\n",
       "    </tr>\n",
       "    <tr>\n",
       "      <td>июль</td>\n",
       "      <td>15.7432</td>\n",
       "      <td>20.7234</td>\n",
       "    </tr>\n",
       "    <tr>\n",
       "      <td>август</td>\n",
       "      <td>16.6817</td>\n",
       "      <td>19.7607</td>\n",
       "    </tr>\n",
       "    <tr>\n",
       "      <td>сентябрь</td>\n",
       "      <td>16.3036</td>\n",
       "      <td>19.3727</td>\n",
       "    </tr>\n",
       "    <tr>\n",
       "      <td>октябрь</td>\n",
       "      <td>16.8143</td>\n",
       "      <td>20.2096</td>\n",
       "    </tr>\n",
       "    <tr>\n",
       "      <td>ноябрь</td>\n",
       "      <td>16.8957</td>\n",
       "      <td>19.9356</td>\n",
       "    </tr>\n",
       "    <tr>\n",
       "      <td>декабрь</td>\n",
       "      <td>18.1137</td>\n",
       "      <td>21.9511</td>\n",
       "    </tr>\n",
       "  </tbody>\n",
       "</table>\n",
       "</div>"
      ],
      "text/plain": [
       "            smart    ultra\n",
       "январь    8.51372  13.1407\n",
       "февраль   11.5971  12.8465\n",
       "март      15.1042  17.5356\n",
       "апрель    13.2752  16.6296\n",
       "май       15.8052  19.9589\n",
       "июнь      15.7946   19.153\n",
       "июль      15.7432  20.7234\n",
       "август    16.6817  19.7607\n",
       "сентябрь  16.3036  19.3727\n",
       "октябрь   16.8143  20.2096\n",
       "ноябрь    16.8957  19.9356\n",
       "декабрь   18.1137  21.9511"
      ]
     },
     "metadata": {},
     "output_type": "display_data"
    }
   ],
   "source": [
    "df_calls_new2 = df_users.merge(df_month_minutes_num, on='user_id')\n",
    "df_messages_new2 = df_users.merge(df_month_messages_num, on='user_id')\n",
    "df_internet_new2 = df_users.merge(df_month_internet_num, on='user_id')\n",
    "\n",
    "for i in drop_columns:\n",
    "    df_calls_new2 = df_calls_new2.drop(i, 1)\n",
    "    df_messages_new2 = df_messages_new2.drop(i, 1)\n",
    "    df_internet_new2 = df_internet_new2.drop(i, 1)\n",
    "\n",
    "def mean_value(df, columns):\n",
    "    df_tariffs_parametrs = pd.DataFrame(columns=['smart', 'ultra'], index = col)\n",
    "    df_smart_parametr = df.query('tariff == \"smart\"')\n",
    "    df_ultra_parametr = df.query('tariff == \"ultra\"')\n",
    "    df_smart_parametr = df_smart_parametr.reset_index(drop=True)\n",
    "    df_ultra_parametr = df_ultra_parametr.reset_index(drop=True)\n",
    "    \n",
    "    tmp = 0\n",
    "    array_tmp = []\n",
    "    for i in columns:\n",
    "        for j in range(0, df_smart_parametr.shape[0]):\n",
    "            if df_smart_parametr[i][j] != 0:\n",
    "                tmp += df_smart_parametr[i][j]\n",
    "                array_tmp.append(df_smart_parametr[i][j])\n",
    "        df_tariffs_parametrs['smart'][i] = tmp / len(array_tmp)\n",
    "        tmp = 0\n",
    "        array_tmp = []\n",
    "    for i in columns:\n",
    "        for j in range(0, df_ultra_parametr.shape[0]):\n",
    "            if df_ultra_parametr[i][j] != 0:\n",
    "                tmp += df_ultra_parametr[i][j]\n",
    "                array_tmp.append(df_ultra_parametr[i][j])\n",
    "        df_tariffs_parametrs['ultra'][i] = tmp / len(array_tmp)\n",
    "        tmp = 0\n",
    "        array_tmp = []\n",
    "        \n",
    "    df_tariffs_parametrs.plot(y='smart', \n",
    "                         style='-', \n",
    "                         grid=True) \n",
    "    plt.title('График распределения средних значений в тарифе smart:')\n",
    "    plt.show()\n",
    "    df_tariffs_parametrs.plot(y='ultra', \n",
    "                         style='-', \n",
    "                         grid=True) \n",
    "    plt.title('График распределения средних значений в тарифе ultra:')\n",
    "    plt.show()\n",
    "    display(df_tariffs_parametrs)\n",
    "    \n",
    "dfs = [df_calls_new2,\n",
    "       df_messages_new2,\n",
    "       df_internet_new2]\n",
    "\n",
    "names = ['информация о минутах', \n",
    "         'информация о сообщениях', \n",
    "         'информация об интернет сессиях']\n",
    "\n",
    "for i, j in zip(dfs, names):\n",
    "    print(j)\n",
    "    mean_value(i, col)"
   ]
  },
  {
   "cell_type": "markdown",
   "metadata": {},
   "source": [
    "Плученные графики свидетельствуют о сильном увеличении использования связи к концу года, это скорее всего связанно с ростом числа пользователей в каждом месяце. Чтоб удостовериться в правоте суждений, проверим сколько приблизительно пользователей присоединилось в каждом месяце. Для этого посчитаем количество значений не равных 0 в таблице какого нибудь из тарифов:"
   ]
  },
  {
   "cell_type": "code",
   "execution_count": 20,
   "metadata": {},
   "outputs": [
    {
     "name": "stdout",
     "output_type": "stream",
     "text": [
      "В месяце \" январь \" количество активных ползователей составляет: 43\n",
      "В месяце \" февраль \" количество активных ползователей составляет: 82\n",
      "В месяце \" март \" количество активных ползователей составляет: 114\n",
      "В месяце \" апрель \" количество активных ползователей составляет: 165\n",
      "В месяце \" май \" количество активных ползователей составляет: 205\n",
      "В месяце \" июнь \" количество активных ползователей составляет: 244\n",
      "В месяце \" июль \" количество активных ползователей составляет: 289\n",
      "В месяце \" август \" количество активных ползователей составляет: 337\n",
      "В месяце \" сентябрь \" количество активных ползователей составляет: 370\n",
      "В месяце \" октябрь \" количество активных ползователей составляет: 411\n",
      "В месяце \" ноябрь \" количество активных ползователей составляет: 444\n",
      "В месяце \" декабрь \" количество активных ползователей составляет: 470\n"
     ]
    }
   ],
   "source": [
    "cnt = 0\n",
    "for i in col:\n",
    "    for j in range(0, 500) :\n",
    "        if df_month_calls_num[i][j] != 0:\n",
    "            cnt += 1\n",
    "    print('В месяце \"', i, '\" количество активных ползователей составляет:', cnt)\n",
    "    cnt = 0"
   ]
  },
  {
   "cell_type": "markdown",
   "metadata": {},
   "source": [
    "Действительно, в среднем количество пользователей в каждом месяце растет примерно в 1,5-2 раза по сравнению с предыдущем.\n",
    "\n",
    "Найдем ежемесячную дисперсию и среднеквадратическое отклонение:"
   ]
  },
  {
   "cell_type": "code",
   "execution_count": 21,
   "metadata": {},
   "outputs": [
    {
     "name": "stdout",
     "output_type": "stream",
     "text": [
      "информация о минутах\n",
      "\n",
      "Дисперсия\n"
     ]
    },
    {
     "data": {
      "text/html": [
       "<div>\n",
       "<style scoped>\n",
       "    .dataframe tbody tr th:only-of-type {\n",
       "        vertical-align: middle;\n",
       "    }\n",
       "\n",
       "    .dataframe tbody tr th {\n",
       "        vertical-align: top;\n",
       "    }\n",
       "\n",
       "    .dataframe thead th {\n",
       "        text-align: right;\n",
       "    }\n",
       "</style>\n",
       "<table border=\"1\" class=\"dataframe\">\n",
       "  <thead>\n",
       "    <tr style=\"text-align: right;\">\n",
       "      <th></th>\n",
       "      <th>smart</th>\n",
       "      <th>ultra</th>\n",
       "    </tr>\n",
       "  </thead>\n",
       "  <tbody>\n",
       "    <tr>\n",
       "      <td>январь</td>\n",
       "      <td>22489.9</td>\n",
       "      <td>64683.9</td>\n",
       "    </tr>\n",
       "    <tr>\n",
       "      <td>февраль</td>\n",
       "      <td>35784.5</td>\n",
       "      <td>83914.4</td>\n",
       "    </tr>\n",
       "    <tr>\n",
       "      <td>март</td>\n",
       "      <td>36344.9</td>\n",
       "      <td>108374</td>\n",
       "    </tr>\n",
       "    <tr>\n",
       "      <td>апрель</td>\n",
       "      <td>33553</td>\n",
       "      <td>64790.9</td>\n",
       "    </tr>\n",
       "    <tr>\n",
       "      <td>май</td>\n",
       "      <td>34573.1</td>\n",
       "      <td>73711</td>\n",
       "    </tr>\n",
       "    <tr>\n",
       "      <td>июнь</td>\n",
       "      <td>29776.7</td>\n",
       "      <td>84957.7</td>\n",
       "    </tr>\n",
       "    <tr>\n",
       "      <td>июль</td>\n",
       "      <td>32089.8</td>\n",
       "      <td>83249.1</td>\n",
       "    </tr>\n",
       "    <tr>\n",
       "      <td>август</td>\n",
       "      <td>34031.2</td>\n",
       "      <td>88382.2</td>\n",
       "    </tr>\n",
       "    <tr>\n",
       "      <td>сентябрь</td>\n",
       "      <td>32823.3</td>\n",
       "      <td>95732.5</td>\n",
       "    </tr>\n",
       "    <tr>\n",
       "      <td>октябрь</td>\n",
       "      <td>34770.5</td>\n",
       "      <td>96317.1</td>\n",
       "    </tr>\n",
       "    <tr>\n",
       "      <td>ноябрь</td>\n",
       "      <td>31001.9</td>\n",
       "      <td>87764</td>\n",
       "    </tr>\n",
       "    <tr>\n",
       "      <td>декабрь</td>\n",
       "      <td>39015</td>\n",
       "      <td>107175</td>\n",
       "    </tr>\n",
       "  </tbody>\n",
       "</table>\n",
       "</div>"
      ],
      "text/plain": [
       "            smart    ultra\n",
       "январь    22489.9  64683.9\n",
       "февраль   35784.5  83914.4\n",
       "март      36344.9   108374\n",
       "апрель      33553  64790.9\n",
       "май       34573.1    73711\n",
       "июнь      29776.7  84957.7\n",
       "июль      32089.8  83249.1\n",
       "август    34031.2  88382.2\n",
       "сентябрь  32823.3  95732.5\n",
       "октябрь   34770.5  96317.1\n",
       "ноябрь    31001.9    87764\n",
       "декабрь     39015   107175"
      ]
     },
     "metadata": {},
     "output_type": "display_data"
    },
    {
     "name": "stdout",
     "output_type": "stream",
     "text": [
      "Среднеквадратическое отклонение\n"
     ]
    },
    {
     "data": {
      "text/html": [
       "<div>\n",
       "<style scoped>\n",
       "    .dataframe tbody tr th:only-of-type {\n",
       "        vertical-align: middle;\n",
       "    }\n",
       "\n",
       "    .dataframe tbody tr th {\n",
       "        vertical-align: top;\n",
       "    }\n",
       "\n",
       "    .dataframe thead th {\n",
       "        text-align: right;\n",
       "    }\n",
       "</style>\n",
       "<table border=\"1\" class=\"dataframe\">\n",
       "  <thead>\n",
       "    <tr style=\"text-align: right;\">\n",
       "      <th></th>\n",
       "      <th>smart</th>\n",
       "      <th>ultra</th>\n",
       "    </tr>\n",
       "  </thead>\n",
       "  <tbody>\n",
       "    <tr>\n",
       "      <td>январь</td>\n",
       "      <td>149.966</td>\n",
       "      <td>254.33</td>\n",
       "    </tr>\n",
       "    <tr>\n",
       "      <td>февраль</td>\n",
       "      <td>189.168</td>\n",
       "      <td>289.68</td>\n",
       "    </tr>\n",
       "    <tr>\n",
       "      <td>март</td>\n",
       "      <td>190.643</td>\n",
       "      <td>329.203</td>\n",
       "    </tr>\n",
       "    <tr>\n",
       "      <td>апрель</td>\n",
       "      <td>183.175</td>\n",
       "      <td>254.54</td>\n",
       "    </tr>\n",
       "    <tr>\n",
       "      <td>май</td>\n",
       "      <td>185.938</td>\n",
       "      <td>271.498</td>\n",
       "    </tr>\n",
       "    <tr>\n",
       "      <td>июнь</td>\n",
       "      <td>172.559</td>\n",
       "      <td>291.475</td>\n",
       "    </tr>\n",
       "    <tr>\n",
       "      <td>июль</td>\n",
       "      <td>179.136</td>\n",
       "      <td>288.529</td>\n",
       "    </tr>\n",
       "    <tr>\n",
       "      <td>август</td>\n",
       "      <td>184.476</td>\n",
       "      <td>297.291</td>\n",
       "    </tr>\n",
       "    <tr>\n",
       "      <td>сентябрь</td>\n",
       "      <td>181.172</td>\n",
       "      <td>309.407</td>\n",
       "    </tr>\n",
       "    <tr>\n",
       "      <td>октябрь</td>\n",
       "      <td>186.468</td>\n",
       "      <td>310.35</td>\n",
       "    </tr>\n",
       "    <tr>\n",
       "      <td>ноябрь</td>\n",
       "      <td>176.074</td>\n",
       "      <td>296.25</td>\n",
       "    </tr>\n",
       "    <tr>\n",
       "      <td>декабрь</td>\n",
       "      <td>197.522</td>\n",
       "      <td>327.376</td>\n",
       "    </tr>\n",
       "  </tbody>\n",
       "</table>\n",
       "</div>"
      ],
      "text/plain": [
       "            smart    ultra\n",
       "январь    149.966   254.33\n",
       "февраль   189.168   289.68\n",
       "март      190.643  329.203\n",
       "апрель    183.175   254.54\n",
       "май       185.938  271.498\n",
       "июнь      172.559  291.475\n",
       "июль      179.136  288.529\n",
       "август    184.476  297.291\n",
       "сентябрь  181.172  309.407\n",
       "октябрь   186.468   310.35\n",
       "ноябрь    176.074   296.25\n",
       "декабрь   197.522  327.376"
      ]
     },
     "metadata": {},
     "output_type": "display_data"
    },
    {
     "data": {
      "image/png": "[encoded data removed]",
      "text/plain": [
       "<Figure size 432x288 with 1 Axes>"
      ]
     },
     "metadata": {
      "needs_background": "light"
     },
     "output_type": "display_data"
    },
    {
     "data": {
      "image/png": "[encoded data removed]",
      "text/plain": [
       "<Figure size 432x288 with 1 Axes>"
      ]
     },
     "metadata": {
      "needs_background": "light"
     },
     "output_type": "display_data"
    },
    {
     "name": "stdout",
     "output_type": "stream",
     "text": [
      "информация о сообщениях\n",
      "\n",
      "Дисперсия\n"
     ]
    },
    {
     "data": {
      "text/html": [
       "<div>\n",
       "<style scoped>\n",
       "    .dataframe tbody tr th:only-of-type {\n",
       "        vertical-align: middle;\n",
       "    }\n",
       "\n",
       "    .dataframe tbody tr th {\n",
       "        vertical-align: top;\n",
       "    }\n",
       "\n",
       "    .dataframe thead th {\n",
       "        text-align: right;\n",
       "    }\n",
       "</style>\n",
       "<table border=\"1\" class=\"dataframe\">\n",
       "  <thead>\n",
       "    <tr style=\"text-align: right;\">\n",
       "      <th></th>\n",
       "      <th>smart</th>\n",
       "      <th>ultra</th>\n",
       "    </tr>\n",
       "  </thead>\n",
       "  <tbody>\n",
       "    <tr>\n",
       "      <td>январь</td>\n",
       "      <td>244</td>\n",
       "      <td>655.959</td>\n",
       "    </tr>\n",
       "    <tr>\n",
       "      <td>февраль</td>\n",
       "      <td>431.656</td>\n",
       "      <td>668.809</td>\n",
       "    </tr>\n",
       "    <tr>\n",
       "      <td>март</td>\n",
       "      <td>660.074</td>\n",
       "      <td>1753.6</td>\n",
       "    </tr>\n",
       "    <tr>\n",
       "      <td>апрель</td>\n",
       "      <td>512.471</td>\n",
       "      <td>1372.15</td>\n",
       "    </tr>\n",
       "    <tr>\n",
       "      <td>май</td>\n",
       "      <td>633.54</td>\n",
       "      <td>1529.56</td>\n",
       "    </tr>\n",
       "    <tr>\n",
       "      <td>июнь</td>\n",
       "      <td>726.483</td>\n",
       "      <td>1906.78</td>\n",
       "    </tr>\n",
       "    <tr>\n",
       "      <td>июль</td>\n",
       "      <td>715.218</td>\n",
       "      <td>2160.72</td>\n",
       "    </tr>\n",
       "    <tr>\n",
       "      <td>август</td>\n",
       "      <td>763.452</td>\n",
       "      <td>1999.98</td>\n",
       "    </tr>\n",
       "    <tr>\n",
       "      <td>сентябрь</td>\n",
       "      <td>699.355</td>\n",
       "      <td>1886.69</td>\n",
       "    </tr>\n",
       "    <tr>\n",
       "      <td>октябрь</td>\n",
       "      <td>733.603</td>\n",
       "      <td>2403.05</td>\n",
       "    </tr>\n",
       "    <tr>\n",
       "      <td>ноябрь</td>\n",
       "      <td>708.727</td>\n",
       "      <td>2229.39</td>\n",
       "    </tr>\n",
       "    <tr>\n",
       "      <td>декабрь</td>\n",
       "      <td>829.547</td>\n",
       "      <td>2342.68</td>\n",
       "    </tr>\n",
       "  </tbody>\n",
       "</table>\n",
       "</div>"
      ],
      "text/plain": [
       "            smart    ultra\n",
       "январь        244  655.959\n",
       "февраль   431.656  668.809\n",
       "март      660.074   1753.6\n",
       "апрель    512.471  1372.15\n",
       "май        633.54  1529.56\n",
       "июнь      726.483  1906.78\n",
       "июль      715.218  2160.72\n",
       "август    763.452  1999.98\n",
       "сентябрь  699.355  1886.69\n",
       "октябрь   733.603  2403.05\n",
       "ноябрь    708.727  2229.39\n",
       "декабрь   829.547  2342.68"
      ]
     },
     "metadata": {},
     "output_type": "display_data"
    },
    {
     "name": "stdout",
     "output_type": "stream",
     "text": [
      "Среднеквадратическое отклонение\n"
     ]
    },
    {
     "data": {
      "text/html": [
       "<div>\n",
       "<style scoped>\n",
       "    .dataframe tbody tr th:only-of-type {\n",
       "        vertical-align: middle;\n",
       "    }\n",
       "\n",
       "    .dataframe tbody tr th {\n",
       "        vertical-align: top;\n",
       "    }\n",
       "\n",
       "    .dataframe thead th {\n",
       "        text-align: right;\n",
       "    }\n",
       "</style>\n",
       "<table border=\"1\" class=\"dataframe\">\n",
       "  <thead>\n",
       "    <tr style=\"text-align: right;\">\n",
       "      <th></th>\n",
       "      <th>smart</th>\n",
       "      <th>ultra</th>\n",
       "    </tr>\n",
       "  </thead>\n",
       "  <tbody>\n",
       "    <tr>\n",
       "      <td>январь</td>\n",
       "      <td>15.6205</td>\n",
       "      <td>25.6117</td>\n",
       "    </tr>\n",
       "    <tr>\n",
       "      <td>февраль</td>\n",
       "      <td>20.7763</td>\n",
       "      <td>25.8613</td>\n",
       "    </tr>\n",
       "    <tr>\n",
       "      <td>март</td>\n",
       "      <td>25.6919</td>\n",
       "      <td>41.876</td>\n",
       "    </tr>\n",
       "    <tr>\n",
       "      <td>апрель</td>\n",
       "      <td>22.6378</td>\n",
       "      <td>37.0425</td>\n",
       "    </tr>\n",
       "    <tr>\n",
       "      <td>май</td>\n",
       "      <td>25.1702</td>\n",
       "      <td>39.1096</td>\n",
       "    </tr>\n",
       "    <tr>\n",
       "      <td>июнь</td>\n",
       "      <td>26.9534</td>\n",
       "      <td>43.6667</td>\n",
       "    </tr>\n",
       "    <tr>\n",
       "      <td>июль</td>\n",
       "      <td>26.7436</td>\n",
       "      <td>46.4836</td>\n",
       "    </tr>\n",
       "    <tr>\n",
       "      <td>август</td>\n",
       "      <td>27.6306</td>\n",
       "      <td>44.7211</td>\n",
       "    </tr>\n",
       "    <tr>\n",
       "      <td>сентябрь</td>\n",
       "      <td>26.4453</td>\n",
       "      <td>43.4361</td>\n",
       "    </tr>\n",
       "    <tr>\n",
       "      <td>октябрь</td>\n",
       "      <td>27.0851</td>\n",
       "      <td>49.0209</td>\n",
       "    </tr>\n",
       "    <tr>\n",
       "      <td>ноябрь</td>\n",
       "      <td>26.6219</td>\n",
       "      <td>47.2164</td>\n",
       "    </tr>\n",
       "    <tr>\n",
       "      <td>декабрь</td>\n",
       "      <td>28.8019</td>\n",
       "      <td>48.4012</td>\n",
       "    </tr>\n",
       "  </tbody>\n",
       "</table>\n",
       "</div>"
      ],
      "text/plain": [
       "            smart    ultra\n",
       "январь    15.6205  25.6117\n",
       "февраль   20.7763  25.8613\n",
       "март      25.6919   41.876\n",
       "апрель    22.6378  37.0425\n",
       "май       25.1702  39.1096\n",
       "июнь      26.9534  43.6667\n",
       "июль      26.7436  46.4836\n",
       "август    27.6306  44.7211\n",
       "сентябрь  26.4453  43.4361\n",
       "октябрь   27.0851  49.0209\n",
       "ноябрь    26.6219  47.2164\n",
       "декабрь   28.8019  48.4012"
      ]
     },
     "metadata": {},
     "output_type": "display_data"
    },
    {
     "data": {
      "image/png": "[encoded data removed]",
      "text/plain": [
       "<Figure size 432x288 with 1 Axes>"
      ]
     },
     "metadata": {
      "needs_background": "light"
     },
     "output_type": "display_data"
    },
    {
     "data": {
      "image/png": "[encoded data removed]",
      "text/plain": [
       "<Figure size 432x288 with 1 Axes>"
      ]
     },
     "metadata": {
      "needs_background": "light"
     },
     "output_type": "display_data"
    },
    {
     "name": "stdout",
     "output_type": "stream",
     "text": [
      "информация об интернет сессиях\n",
      "\n",
      "Дисперсия\n"
     ]
    },
    {
     "data": {
      "text/html": [
       "<div>\n",
       "<style scoped>\n",
       "    .dataframe tbody tr th:only-of-type {\n",
       "        vertical-align: middle;\n",
       "    }\n",
       "\n",
       "    .dataframe tbody tr th {\n",
       "        vertical-align: top;\n",
       "    }\n",
       "\n",
       "    .dataframe thead th {\n",
       "        text-align: right;\n",
       "    }\n",
       "</style>\n",
       "<table border=\"1\" class=\"dataframe\">\n",
       "  <thead>\n",
       "    <tr style=\"text-align: right;\">\n",
       "      <th></th>\n",
       "      <th>smart</th>\n",
       "      <th>ultra</th>\n",
       "    </tr>\n",
       "  </thead>\n",
       "  <tbody>\n",
       "    <tr>\n",
       "      <td>январь</td>\n",
       "      <td>40.3123</td>\n",
       "      <td>41.896</td>\n",
       "    </tr>\n",
       "    <tr>\n",
       "      <td>февраль</td>\n",
       "      <td>38.3565</td>\n",
       "      <td>104.706</td>\n",
       "    </tr>\n",
       "    <tr>\n",
       "      <td>март</td>\n",
       "      <td>33.5272</td>\n",
       "      <td>116.7</td>\n",
       "    </tr>\n",
       "    <tr>\n",
       "      <td>апрель</td>\n",
       "      <td>28.4564</td>\n",
       "      <td>89.7888</td>\n",
       "    </tr>\n",
       "    <tr>\n",
       "      <td>май</td>\n",
       "      <td>35.4858</td>\n",
       "      <td>90.5857</td>\n",
       "    </tr>\n",
       "    <tr>\n",
       "      <td>июнь</td>\n",
       "      <td>33.333</td>\n",
       "      <td>81.9905</td>\n",
       "    </tr>\n",
       "    <tr>\n",
       "      <td>июль</td>\n",
       "      <td>34.6034</td>\n",
       "      <td>96.5889</td>\n",
       "    </tr>\n",
       "    <tr>\n",
       "      <td>август</td>\n",
       "      <td>30.1031</td>\n",
       "      <td>106.109</td>\n",
       "    </tr>\n",
       "    <tr>\n",
       "      <td>сентябрь</td>\n",
       "      <td>26.8958</td>\n",
       "      <td>86.7224</td>\n",
       "    </tr>\n",
       "    <tr>\n",
       "      <td>октябрь</td>\n",
       "      <td>33.3707</td>\n",
       "      <td>92.7804</td>\n",
       "    </tr>\n",
       "    <tr>\n",
       "      <td>ноябрь</td>\n",
       "      <td>28.4283</td>\n",
       "      <td>95.1931</td>\n",
       "    </tr>\n",
       "    <tr>\n",
       "      <td>декабрь</td>\n",
       "      <td>30.9738</td>\n",
       "      <td>104.244</td>\n",
       "    </tr>\n",
       "  </tbody>\n",
       "</table>\n",
       "</div>"
      ],
      "text/plain": [
       "            smart    ultra\n",
       "январь    40.3123   41.896\n",
       "февраль   38.3565  104.706\n",
       "март      33.5272    116.7\n",
       "апрель    28.4564  89.7888\n",
       "май       35.4858  90.5857\n",
       "июнь       33.333  81.9905\n",
       "июль      34.6034  96.5889\n",
       "август    30.1031  106.109\n",
       "сентябрь  26.8958  86.7224\n",
       "октябрь   33.3707  92.7804\n",
       "ноябрь    28.4283  95.1931\n",
       "декабрь   30.9738  104.244"
      ]
     },
     "metadata": {},
     "output_type": "display_data"
    },
    {
     "name": "stdout",
     "output_type": "stream",
     "text": [
      "Среднеквадратическое отклонение\n"
     ]
    },
    {
     "data": {
      "text/html": [
       "<div>\n",
       "<style scoped>\n",
       "    .dataframe tbody tr th:only-of-type {\n",
       "        vertical-align: middle;\n",
       "    }\n",
       "\n",
       "    .dataframe tbody tr th {\n",
       "        vertical-align: top;\n",
       "    }\n",
       "\n",
       "    .dataframe thead th {\n",
       "        text-align: right;\n",
       "    }\n",
       "</style>\n",
       "<table border=\"1\" class=\"dataframe\">\n",
       "  <thead>\n",
       "    <tr style=\"text-align: right;\">\n",
       "      <th></th>\n",
       "      <th>smart</th>\n",
       "      <th>ultra</th>\n",
       "    </tr>\n",
       "  </thead>\n",
       "  <tbody>\n",
       "    <tr>\n",
       "      <td>январь</td>\n",
       "      <td>6.3492</td>\n",
       "      <td>6.47271</td>\n",
       "    </tr>\n",
       "    <tr>\n",
       "      <td>февраль</td>\n",
       "      <td>6.19326</td>\n",
       "      <td>10.2326</td>\n",
       "    </tr>\n",
       "    <tr>\n",
       "      <td>март</td>\n",
       "      <td>5.79027</td>\n",
       "      <td>10.8028</td>\n",
       "    </tr>\n",
       "    <tr>\n",
       "      <td>апрель</td>\n",
       "      <td>5.33445</td>\n",
       "      <td>9.47569</td>\n",
       "    </tr>\n",
       "    <tr>\n",
       "      <td>май</td>\n",
       "      <td>5.95699</td>\n",
       "      <td>9.51765</td>\n",
       "    </tr>\n",
       "    <tr>\n",
       "      <td>июнь</td>\n",
       "      <td>5.77347</td>\n",
       "      <td>9.05486</td>\n",
       "    </tr>\n",
       "    <tr>\n",
       "      <td>июль</td>\n",
       "      <td>5.88247</td>\n",
       "      <td>9.82796</td>\n",
       "    </tr>\n",
       "    <tr>\n",
       "      <td>август</td>\n",
       "      <td>5.48663</td>\n",
       "      <td>10.3009</td>\n",
       "    </tr>\n",
       "    <tr>\n",
       "      <td>сентябрь</td>\n",
       "      <td>5.18611</td>\n",
       "      <td>9.31248</td>\n",
       "    </tr>\n",
       "    <tr>\n",
       "      <td>октябрь</td>\n",
       "      <td>5.77674</td>\n",
       "      <td>9.63226</td>\n",
       "    </tr>\n",
       "    <tr>\n",
       "      <td>ноябрь</td>\n",
       "      <td>5.33182</td>\n",
       "      <td>9.75669</td>\n",
       "    </tr>\n",
       "    <tr>\n",
       "      <td>декабрь</td>\n",
       "      <td>5.56541</td>\n",
       "      <td>10.21</td>\n",
       "    </tr>\n",
       "  </tbody>\n",
       "</table>\n",
       "</div>"
      ],
      "text/plain": [
       "            smart    ultra\n",
       "январь     6.3492  6.47271\n",
       "февраль   6.19326  10.2326\n",
       "март      5.79027  10.8028\n",
       "апрель    5.33445  9.47569\n",
       "май       5.95699  9.51765\n",
       "июнь      5.77347  9.05486\n",
       "июль      5.88247  9.82796\n",
       "август    5.48663  10.3009\n",
       "сентябрь  5.18611  9.31248\n",
       "октябрь   5.77674  9.63226\n",
       "ноябрь    5.33182  9.75669\n",
       "декабрь   5.56541    10.21"
      ]
     },
     "metadata": {},
     "output_type": "display_data"
    },
    {
     "data": {
      "image/png": "[encoded data removed]",
      "text/plain": [
       "<Figure size 432x288 with 1 Axes>"
      ]
     },
     "metadata": {
      "needs_background": "light"
     },
     "output_type": "display_data"
    },
    {
     "data": {
      "image/png": "[encoded data removed]",
      "text/plain": [
       "<Figure size 432x288 with 1 Axes>"
      ]
     },
     "metadata": {
      "needs_background": "light"
     },
     "output_type": "display_data"
    }
   ],
   "source": [
    "def var_value(df, columns):\n",
    "    df_tariffs_parametrs = pd.DataFrame(columns=['smart', 'ultra'], index = col)\n",
    "    df_smart_parametr = df.query('tariff == \"smart\"')\n",
    "    df_ultra_parametr = df.query('tariff == \"ultra\"')\n",
    "    df_smart_parametr = df_smart_parametr.reset_index(drop=True)\n",
    "    df_ultra_parametr = df_ultra_parametr.reset_index(drop=True)\n",
    "    \n",
    "    array_tmp = []\n",
    "    for i in columns:\n",
    "        for j in range(0, df_smart_parametr.shape[0]):\n",
    "            if df_smart_parametr[i][j] != 0:\n",
    "                array_tmp.append(df_smart_parametr[i][j])\n",
    "        df_tariffs_parametrs['smart'][i] = np.var(array_tmp, ddof=0)\n",
    "        array_tmp = []\n",
    "    for i in columns:\n",
    "        for j in range(0, df_ultra_parametr.shape[0]):\n",
    "            if df_ultra_parametr[i][j] != 0:\n",
    "                array_tmp.append(df_ultra_parametr[i][j])\n",
    "        df_tariffs_parametrs['ultra'][i] = np.var(array_tmp, ddof=0)\n",
    "        array_tmp = []\n",
    "\n",
    "    print('Дисперсия')\n",
    "    display(df_tariffs_parametrs)\n",
    "    for i in ['smart', 'ultra']:\n",
    "        for j in col :\n",
    "            df_tariffs_parametrs[i][j] = np.sqrt(df_tariffs_parametrs[i][j])\n",
    "    print('Среднеквадратическое отклонение')\n",
    "    display(df_tariffs_parametrs)\n",
    "    df_tariffs_parametrs.plot(y='smart', \n",
    "                         style='-', \n",
    "                         grid=True) \n",
    "    plt.title('График распределения среднеквадратического отклонения в тарифе smart:')\n",
    "    plt.show()\n",
    "    df_tariffs_parametrs.plot(y='ultra', \n",
    "                         style='-', \n",
    "                         grid=True) \n",
    "    plt.title('График распределения среднеквадратического отклонения в тарифе ultra:')\n",
    "    plt.show()\n",
    "\n",
    "for i, j in zip(dfs, names):\n",
    "    print(j)\n",
    "    print('')\n",
    "    var_value(i, col)"
   ]
  },
  {
   "cell_type": "markdown",
   "metadata": {},
   "source": [
    "**Вывод**\n",
    "\n",
    "Полученные данные предоставляют полную картину о распределении имеющихся данных, а именно: можно точно узнать в каком диапозоне находится 95% данных, какие значения являются средними для каждого месяца, и как количество пользователей в каждом месяце влияет на спрос и выручку. "
   ]
  },
  {
   "cell_type": "markdown",
   "metadata": {},
   "source": [
    "## Проверка гипотез\n",
    "\n",
    "### Сравнение средней выручки пользователей разных тарифов"
   ]
  },
  {
   "cell_type": "markdown",
   "metadata": {},
   "source": [
    "Будем использовать t-распределение Стъюдента для расчета гипотез. \n",
    "\n",
    "Сформулируем нулевую гипотезу: средняя выручка с тарифа ultra равна средней выручке тарифа smart;\n",
    "Тогда альтернативная гипотеза будет гласить: выручки с обоих тарифов отличаются. \n",
    "\n",
    "Для работы над гипотезой будем использоваать таблицу *all_costs*, полученную в 3 пункте, которая содержит в себе информацию о прибыли с каждого пользователя обоих тарифов. "
   ]
  },
  {
   "cell_type": "code",
   "execution_count": 22,
   "metadata": {},
   "outputs": [
    {
     "name": "stdout",
     "output_type": "stream",
     "text": [
      "использовать equal_val = False\n"
     ]
    }
   ],
   "source": [
    "smart_query = all_costs.query('tariff == \"smart\"')\n",
    "ultra_query = all_costs.query('tariff == \"ultra\"')\n",
    "\n",
    "def tariff_m(tariff_query):\n",
    "    tariff_query = tariff_query.reset_index(drop=True)\n",
    "    tariff_mean = []\n",
    "    for i in col:\n",
    "        for j in range(0, tariff_query.shape[0]):\n",
    "            if tariff_query[i][j] != 0:\n",
    "                tariff_mean.append(tariff_query[i][j])\n",
    "    return tariff_mean\n",
    "\n",
    "smart_mean = tariff_m(smart_query)\n",
    "ultra_mean = tariff_m(ultra_query)\n",
    "\n",
    "smart_var = np.var(smart_mean)\n",
    "ultra_var = np.var(ultra_mean)\n",
    "\n",
    "if (smart_var == ultra_var) :\n",
    "    print('использовать equal_val = True')\n",
    "else:\n",
    "    print('использовать equal_val = False')"
   ]
  },
  {
   "cell_type": "code",
   "execution_count": 23,
   "metadata": {},
   "outputs": [
    {
     "name": "stdout",
     "output_type": "stream",
     "text": [
      "p-значение:  0.0\n"
     ]
    }
   ],
   "source": [
    "results = st.ttest_ind(smart_mean, ultra_mean, equal_var = False)\n",
    "print('p-значение: ', results.pvalue)"
   ]
  },
  {
   "cell_type": "markdown",
   "metadata": {},
   "source": [
    "P-значение равно нулю, это связанно с тем что все значения тарифа *ultra* равны 1950, то есть никто не превысил заданных лимитов, в связи с чем дисперсия равна нулю. Следовательно можно с уверенностью отвергнуть нулевую гипотезу о том, что средняя выручка с клиентов разных тарифов равна, а именно, если быть точнее, средняя выручка с клиентов *ultra* больше. "
   ]
  },
  {
   "cell_type": "markdown",
   "metadata": {},
   "source": [
    "### Сравнение выручки пользователей из Москвы и других регионов\n",
    "\n",
    "Проверим следующую гипотезу: средняя выручка пользователей из Москвы отличается от выручки пользователей из других регионов. \n",
    "\n",
    "Нулевая гипотеза: средняя выручка с обоих регеонов одинаковая. \n",
    "Альтернативная гипотеза: средняя выручка отличается."
   ]
  },
  {
   "cell_type": "code",
   "execution_count": 24,
   "metadata": {},
   "outputs": [
    {
     "name": "stdout",
     "output_type": "stream",
     "text": [
      "использовать equal_val = False\n"
     ]
    }
   ],
   "source": [
    "Moscow_query = all_costs.query('city == \"Москва\"')\n",
    "another_city_query = all_costs.query('city != \"Москва\"')\n",
    "\n",
    "def city_m(city_query):\n",
    "    city_query = city_query.reset_index(drop=True)\n",
    "    city_mean = []\n",
    "    for i in col:\n",
    "        for j in range(0, city_query.shape[0]):\n",
    "            if city_query[i][j] != 0:\n",
    "                city_mean.append(city_query[i][j])\n",
    "    return city_mean\n",
    "\n",
    "Moscow_mean = city_m(Moscow_query)\n",
    "another_city_mean = city_m(another_city_query)\n",
    "\n",
    "Moscow_var = np.var(Moscow_mean)\n",
    "another_city_var = np.var(another_city_mean)\n",
    "\n",
    "if (Moscow_var == another_city_var) :\n",
    "    print('использовать equal_val = True')\n",
    "else:\n",
    "    print('использовать equal_val = False')"
   ]
  },
  {
   "cell_type": "code",
   "execution_count": 25,
   "metadata": {},
   "outputs": [
    {
     "name": "stdout",
     "output_type": "stream",
     "text": [
      "p-значение:  0.0029143603833040386\n"
     ]
    }
   ],
   "source": [
    "results = st.ttest_ind(Moscow_mean, another_city_mean, equal_var = False)\n",
    "print('p-значение: ', results.pvalue)"
   ]
  },
  {
   "cell_type": "markdown",
   "metadata": {},
   "source": [
    "Полученное p-значение позволяет отвергнуть нулевую гипотезу о равенстве прибыли с городов России и Москвы.\n",
    "\n",
    "Получение гистограммы распределения частот"
   ]
  },
  {
   "cell_type": "code",
   "execution_count": 26,
   "metadata": {},
   "outputs": [
    {
     "data": {
      "text/plain": [
       "array([[<matplotlib.axes._subplots.AxesSubplot object at 0x7f8cf2f3c350>]],\n",
       "      dtype=object)"
      ]
     },
     "execution_count": 26,
     "metadata": {},
     "output_type": "execute_result"
    },
    {
     "data": {
      "image/png": "[encoded data removed]",
      "text/plain": [
       "<Figure size 432x288 with 1 Axes>"
      ]
     },
     "metadata": {
      "needs_background": "light"
     },
     "output_type": "display_data"
    }
   ],
   "source": [
    "value_list = []\n",
    "frequency_list = []\n",
    "\n",
    "for i in range(0, len(another_city_mean)):\n",
    "    if another_city_mean[i] in value_list:\n",
    "        cnt = value_list.index(another_city_mean[i])\n",
    "        frequency_list[cnt] += 1\n",
    "    else :\n",
    "        value_list.append(another_city_mean[i])\n",
    "        frequency_list.append(1)\n",
    "\n",
    "df_smart_plot = pd.DataFrame(columns = ['value', 'frequency'])\n",
    "df_smart_plot['value'] = value_list\n",
    "df_smart_plot['frequency'] = frequency_list\n",
    "df_smart_plot= df_smart_plot.sort_values(by='frequency')\n",
    "df_smart_plot = df_smart_plot.set_index('value')\n",
    "df_smart_plot.hist('frequency', bins=100, range=(-50,50))"
   ]
  },
  {
   "cell_type": "markdown",
   "metadata": {},
   "source": [
    "## Общий вывод\n",
    "\n",
    "Проведенный анализ показал, что люди в основном не превышают лимиты по различным параметрам в тарифе *ultra*, чего не скажешь о тарифе *smart*. Однако даже перерасход тарифа *smart* и его значительно превышающее коичество пользователей не обеспечивает той прибыли, что дает *ultra*. Также немаловажным является тот факт, что выручка с пользователей города Москвы выше, чем во всех остальных городах. \n",
    "\n",
    "Таким образом можно сделать вывод, что в Москве и остальных крупных городах лучше всего привлекать больше пользователей к тарифу *ultra*, а вот в региональных городах наоборот рекламировать тариф *smart*, который своей дешевизной будет привлекать клиентов в разы больше чем *ultra*, а завышенные цены на дополнительные услуги будут компенсировать ту выручку, которую можно было бы получить, если бы пользователь использовал бы тариф *ultima*."
   ]
  }
 ],
 "metadata": {
  "ExecuteTimeLog": [
   {
    "duration": 1018,
    "start_time": "2021-10-08T16:19:43.862Z"
   },
   {
    "duration": 2689,
    "start_time": "2021-10-08T16:24:45.765Z"
   },
   {
    "duration": 2622,
    "start_time": "2021-10-08T16:25:30.402Z"
   },
   {
    "duration": 79,
    "start_time": "2021-10-08T16:36:41.612Z"
   },
   {
    "duration": 685,
    "start_time": "2021-10-08T16:36:47.661Z"
   },
   {
    "duration": 645,
    "start_time": "2021-10-08T16:37:18.348Z"
   },
   {
    "duration": 674,
    "start_time": "2021-10-08T16:37:46.555Z"
   },
   {
    "duration": 628,
    "start_time": "2021-10-08T16:38:37.932Z"
   },
   {
    "duration": 894,
    "start_time": "2021-10-08T16:41:19.711Z"
   },
   {
    "duration": 661,
    "start_time": "2021-10-08T16:44:30.646Z"
   },
   {
    "duration": 738,
    "start_time": "2021-10-08T16:44:52.337Z"
   },
   {
    "duration": 738,
    "start_time": "2021-10-08T16:46:39.352Z"
   },
   {
    "duration": 630,
    "start_time": "2021-10-08T16:47:40.036Z"
   },
   {
    "duration": 649,
    "start_time": "2021-10-08T16:48:04.707Z"
   },
   {
    "duration": 637,
    "start_time": "2021-10-08T16:48:25.129Z"
   },
   {
    "duration": 6,
    "start_time": "2021-10-08T17:25:14.340Z"
   },
   {
    "duration": 8,
    "start_time": "2021-10-08T17:29:08.901Z"
   },
   {
    "duration": 788,
    "start_time": "2021-10-08T17:32:31.380Z"
   },
   {
    "duration": 1119,
    "start_time": "2021-10-09T05:45:40.979Z"
   },
   {
    "duration": 6,
    "start_time": "2021-10-09T05:45:42.100Z"
   },
   {
    "duration": 7,
    "start_time": "2021-10-09T05:49:40.456Z"
   },
   {
    "duration": 5,
    "start_time": "2021-10-09T05:50:08.316Z"
   },
   {
    "duration": 261,
    "start_time": "2021-10-09T05:55:57.208Z"
   },
   {
    "duration": 514,
    "start_time": "2021-10-09T05:56:54.962Z"
   },
   {
    "duration": 1122,
    "start_time": "2021-10-09T05:57:04.496Z"
   },
   {
    "duration": 264,
    "start_time": "2021-10-09T05:57:05.620Z"
   },
   {
    "duration": -23602,
    "start_time": "2021-10-09T05:57:29.488Z"
   },
   {
    "duration": -23605,
    "start_time": "2021-10-09T05:57:29.492Z"
   },
   {
    "duration": 1157,
    "start_time": "2021-10-09T05:57:33.367Z"
   },
   {
    "duration": 5,
    "start_time": "2021-10-09T05:57:34.526Z"
   },
   {
    "duration": 21,
    "start_time": "2021-10-09T05:57:34.533Z"
   },
   {
    "duration": 255,
    "start_time": "2021-10-09T05:57:34.556Z"
   },
   {
    "duration": 210,
    "start_time": "2021-10-09T05:59:35.915Z"
   },
   {
    "duration": 206,
    "start_time": "2021-10-09T06:10:36.632Z"
   },
   {
    "duration": 215,
    "start_time": "2021-10-09T06:10:51.685Z"
   },
   {
    "duration": 523,
    "start_time": "2021-10-09T06:12:06.882Z"
   },
   {
    "duration": 6,
    "start_time": "2021-10-09T06:12:10.984Z"
   },
   {
    "duration": 6,
    "start_time": "2021-10-09T06:12:12.504Z"
   },
   {
    "duration": 4,
    "start_time": "2021-10-09T06:12:40.095Z"
   },
   {
    "duration": 23,
    "start_time": "2021-10-09T06:12:54.443Z"
   },
   {
    "duration": 7,
    "start_time": "2021-10-09T06:13:12.424Z"
   },
   {
    "duration": 6,
    "start_time": "2021-10-09T06:13:37.345Z"
   },
   {
    "duration": 27,
    "start_time": "2021-10-09T06:13:47.914Z"
   },
   {
    "duration": 34,
    "start_time": "2021-10-09T06:15:50.381Z"
   },
   {
    "duration": 26,
    "start_time": "2021-10-09T06:15:58.725Z"
   },
   {
    "duration": 13,
    "start_time": "2021-10-09T06:16:06.752Z"
   },
   {
    "duration": 6,
    "start_time": "2021-10-09T06:17:08.881Z"
   },
   {
    "duration": 4,
    "start_time": "2021-10-09T06:18:58.435Z"
   },
   {
    "duration": 9,
    "start_time": "2021-10-09T06:20:49.356Z"
   },
   {
    "duration": 6,
    "start_time": "2021-10-09T06:20:55.939Z"
   },
   {
    "duration": 604,
    "start_time": "2021-10-09T06:21:30.766Z"
   },
   {
    "duration": 556,
    "start_time": "2021-10-09T06:21:42.818Z"
   },
   {
    "duration": 540,
    "start_time": "2021-10-09T06:22:28.763Z"
   },
   {
    "duration": 738,
    "start_time": "2021-10-09T06:24:02.442Z"
   },
   {
    "duration": 20,
    "start_time": "2021-10-09T06:26:59.262Z"
   },
   {
    "duration": 19,
    "start_time": "2021-10-09T06:33:03.077Z"
   },
   {
    "duration": 1514,
    "start_time": "2021-10-09T07:02:44.640Z"
   },
   {
    "duration": 6,
    "start_time": "2021-10-09T07:02:46.156Z"
   },
   {
    "duration": 15,
    "start_time": "2021-10-09T07:02:46.164Z"
   },
   {
    "duration": 41,
    "start_time": "2021-10-09T07:02:46.181Z"
   },
   {
    "duration": 6,
    "start_time": "2021-10-09T07:02:46.224Z"
   },
   {
    "duration": 38,
    "start_time": "2021-10-09T07:02:46.232Z"
   },
   {
    "duration": 12,
    "start_time": "2021-10-09T07:02:46.272Z"
   },
   {
    "duration": 26,
    "start_time": "2021-10-09T07:06:02.668Z"
   },
   {
    "duration": 5,
    "start_time": "2021-10-09T07:08:06.474Z"
   },
   {
    "duration": 767,
    "start_time": "2021-10-09T07:10:40.090Z"
   },
   {
    "duration": 6,
    "start_time": "2021-10-09T07:10:48.138Z"
   },
   {
    "duration": 10,
    "start_time": "2021-10-09T07:11:09.628Z"
   },
   {
    "duration": 7,
    "start_time": "2021-10-09T07:11:38.996Z"
   },
   {
    "duration": 7,
    "start_time": "2021-10-09T07:12:24.768Z"
   },
   {
    "duration": 1464,
    "start_time": "2021-10-09T07:12:37.265Z"
   },
   {
    "duration": 23,
    "start_time": "2021-10-09T07:12:38.731Z"
   },
   {
    "duration": 10,
    "start_time": "2021-10-09T07:12:38.756Z"
   },
   {
    "duration": 34,
    "start_time": "2021-10-09T07:12:38.769Z"
   },
   {
    "duration": 4,
    "start_time": "2021-10-09T07:12:38.805Z"
   },
   {
    "duration": 40,
    "start_time": "2021-10-09T07:12:38.810Z"
   },
   {
    "duration": 10,
    "start_time": "2021-10-09T07:12:38.851Z"
   },
   {
    "duration": 25,
    "start_time": "2021-10-09T07:12:38.863Z"
   },
   {
    "duration": 3,
    "start_time": "2021-10-09T07:12:38.891Z"
   },
   {
    "duration": 1492,
    "start_time": "2021-10-09T07:13:03.090Z"
   },
   {
    "duration": 7,
    "start_time": "2021-10-09T07:13:04.584Z"
   },
   {
    "duration": 8,
    "start_time": "2021-10-09T07:13:04.593Z"
   },
   {
    "duration": 58,
    "start_time": "2021-10-09T07:13:04.603Z"
   },
   {
    "duration": 5,
    "start_time": "2021-10-09T07:13:04.663Z"
   },
   {
    "duration": 21,
    "start_time": "2021-10-09T07:13:04.670Z"
   },
   {
    "duration": 22,
    "start_time": "2021-10-09T07:13:04.693Z"
   },
   {
    "duration": 44,
    "start_time": "2021-10-09T07:13:04.717Z"
   },
   {
    "duration": 5,
    "start_time": "2021-10-09T07:13:04.763Z"
   },
   {
    "duration": 1460,
    "start_time": "2021-10-09T07:13:23.958Z"
   },
   {
    "duration": 6,
    "start_time": "2021-10-09T07:13:25.420Z"
   },
   {
    "duration": 24,
    "start_time": "2021-10-09T07:13:25.429Z"
   },
   {
    "duration": 37,
    "start_time": "2021-10-09T07:13:25.456Z"
   },
   {
    "duration": 5,
    "start_time": "2021-10-09T07:13:25.495Z"
   },
   {
    "duration": 21,
    "start_time": "2021-10-09T07:13:25.502Z"
   },
   {
    "duration": 28,
    "start_time": "2021-10-09T07:13:25.525Z"
   },
   {
    "duration": 26,
    "start_time": "2021-10-09T07:13:25.555Z"
   },
   {
    "duration": 5,
    "start_time": "2021-10-09T07:13:25.583Z"
   },
   {
    "duration": 9,
    "start_time": "2021-10-09T07:17:09.678Z"
   },
   {
    "duration": 1503,
    "start_time": "2021-10-09T07:17:16.516Z"
   },
   {
    "duration": 7,
    "start_time": "2021-10-09T07:17:18.021Z"
   },
   {
    "duration": 6,
    "start_time": "2021-10-09T07:17:18.050Z"
   },
   {
    "duration": 51,
    "start_time": "2021-10-09T07:17:18.058Z"
   },
   {
    "duration": 5,
    "start_time": "2021-10-09T07:17:18.111Z"
   },
   {
    "duration": 33,
    "start_time": "2021-10-09T07:17:18.118Z"
   },
   {
    "duration": 28,
    "start_time": "2021-10-09T07:17:18.153Z"
   },
   {
    "duration": 12,
    "start_time": "2021-10-09T07:22:26.816Z"
   },
   {
    "duration": 11,
    "start_time": "2021-10-09T07:24:46.245Z"
   },
   {
    "duration": 268,
    "start_time": "2021-10-09T07:25:03.549Z"
   },
   {
    "duration": 214,
    "start_time": "2021-10-09T07:25:21.209Z"
   },
   {
    "duration": 214,
    "start_time": "2021-10-09T07:25:59.116Z"
   },
   {
    "duration": 217,
    "start_time": "2021-10-09T07:26:12.789Z"
   },
   {
    "duration": 4,
    "start_time": "2021-10-09T07:26:15.194Z"
   },
   {
    "duration": 1449,
    "start_time": "2021-10-09T07:26:42.961Z"
   },
   {
    "duration": 6,
    "start_time": "2021-10-09T07:26:44.412Z"
   },
   {
    "duration": 30,
    "start_time": "2021-10-09T07:26:44.420Z"
   },
   {
    "duration": 34,
    "start_time": "2021-10-09T07:26:44.453Z"
   },
   {
    "duration": 4,
    "start_time": "2021-10-09T07:26:44.489Z"
   },
   {
    "duration": 21,
    "start_time": "2021-10-09T07:26:44.494Z"
   },
   {
    "duration": 45,
    "start_time": "2021-10-09T07:26:44.517Z"
   },
   {
    "duration": 11,
    "start_time": "2021-10-09T07:26:44.564Z"
   },
   {
    "duration": 3,
    "start_time": "2021-10-09T07:26:44.577Z"
   },
   {
    "duration": 306,
    "start_time": "2021-10-09T07:27:29.999Z"
   },
   {
    "duration": 329,
    "start_time": "2021-10-09T07:27:33.449Z"
   },
   {
    "duration": 10,
    "start_time": "2021-10-09T07:27:54.130Z"
   },
   {
    "duration": 5193,
    "start_time": "2021-10-09T07:28:52.443Z"
   },
   {
    "duration": 1470,
    "start_time": "2021-10-09T07:29:18.704Z"
   },
   {
    "duration": 6,
    "start_time": "2021-10-09T07:29:20.176Z"
   },
   {
    "duration": 8,
    "start_time": "2021-10-09T07:29:20.184Z"
   },
   {
    "duration": 59,
    "start_time": "2021-10-09T07:29:20.194Z"
   },
   {
    "duration": 4,
    "start_time": "2021-10-09T07:29:20.255Z"
   },
   {
    "duration": 21,
    "start_time": "2021-10-09T07:29:20.261Z"
   },
   {
    "duration": 28,
    "start_time": "2021-10-09T07:29:20.284Z"
   },
   {
    "duration": 12,
    "start_time": "2021-10-09T07:29:20.314Z"
   },
   {
    "duration": 10,
    "start_time": "2021-10-09T07:29:20.350Z"
   },
   {
    "duration": 6814,
    "start_time": "2021-10-09T07:33:29.254Z"
   },
   {
    "duration": 5369,
    "start_time": "2021-10-09T07:33:47.580Z"
   },
   {
    "duration": 4,
    "start_time": "2021-10-09T07:34:06.522Z"
   },
   {
    "duration": 4,
    "start_time": "2021-10-09T07:34:17.150Z"
   },
   {
    "duration": 4,
    "start_time": "2021-10-09T07:34:30.480Z"
   },
   {
    "duration": 9,
    "start_time": "2021-10-09T07:34:40.732Z"
   },
   {
    "duration": 3,
    "start_time": "2021-10-09T07:34:45.863Z"
   },
   {
    "duration": 1457,
    "start_time": "2021-10-09T07:35:46.394Z"
   },
   {
    "duration": 9,
    "start_time": "2021-10-09T07:35:47.854Z"
   },
   {
    "duration": 18,
    "start_time": "2021-10-09T07:35:47.865Z"
   },
   {
    "duration": 49,
    "start_time": "2021-10-09T07:35:47.885Z"
   },
   {
    "duration": 4,
    "start_time": "2021-10-09T07:35:47.936Z"
   },
   {
    "duration": 24,
    "start_time": "2021-10-09T07:35:47.942Z"
   },
   {
    "duration": 29,
    "start_time": "2021-10-09T07:35:47.968Z"
   },
   {
    "duration": 11,
    "start_time": "2021-10-09T07:35:47.999Z"
   },
   {
    "duration": 12,
    "start_time": "2021-10-09T07:35:48.012Z"
   },
   {
    "duration": 24,
    "start_time": "2021-10-09T07:35:48.025Z"
   },
   {
    "duration": 261,
    "start_time": "2021-10-09T07:37:09.080Z"
   },
   {
    "duration": 45,
    "start_time": "2021-10-09T07:37:19.309Z"
   },
   {
    "duration": 43,
    "start_time": "2021-10-09T07:37:51.791Z"
   },
   {
    "duration": 1504,
    "start_time": "2021-10-09T07:38:12.316Z"
   },
   {
    "duration": 6,
    "start_time": "2021-10-09T07:38:13.822Z"
   },
   {
    "duration": 24,
    "start_time": "2021-10-09T07:38:13.831Z"
   },
   {
    "duration": 42,
    "start_time": "2021-10-09T07:38:13.857Z"
   },
   {
    "duration": 4,
    "start_time": "2021-10-09T07:38:13.901Z"
   },
   {
    "duration": 21,
    "start_time": "2021-10-09T07:38:13.907Z"
   },
   {
    "duration": 44,
    "start_time": "2021-10-09T07:38:13.930Z"
   },
   {
    "duration": 10,
    "start_time": "2021-10-09T07:38:13.977Z"
   },
   {
    "duration": 10,
    "start_time": "2021-10-09T07:38:13.989Z"
   },
   {
    "duration": 8,
    "start_time": "2021-10-09T07:38:14.001Z"
   },
   {
    "duration": 70,
    "start_time": "2021-10-09T07:38:14.010Z"
   },
   {
    "duration": 269,
    "start_time": "2021-10-09T07:38:38.509Z"
   },
   {
    "duration": 212,
    "start_time": "2021-10-09T07:38:49.496Z"
   },
   {
    "duration": 1539,
    "start_time": "2021-10-09T07:39:13.148Z"
   },
   {
    "duration": 7,
    "start_time": "2021-10-09T07:39:14.689Z"
   },
   {
    "duration": 8,
    "start_time": "2021-10-09T07:39:14.698Z"
   },
   {
    "duration": 60,
    "start_time": "2021-10-09T07:39:14.709Z"
   },
   {
    "duration": 5,
    "start_time": "2021-10-09T07:39:14.770Z"
   },
   {
    "duration": 24,
    "start_time": "2021-10-09T07:39:14.776Z"
   },
   {
    "duration": 30,
    "start_time": "2021-10-09T07:39:14.802Z"
   },
   {
    "duration": 12,
    "start_time": "2021-10-09T07:39:14.849Z"
   },
   {
    "duration": 11,
    "start_time": "2021-10-09T07:39:14.863Z"
   },
   {
    "duration": 7,
    "start_time": "2021-10-09T07:39:14.876Z"
   },
   {
    "duration": 73,
    "start_time": "2021-10-09T07:39:14.885Z"
   },
   {
    "duration": 272,
    "start_time": "2021-10-09T07:40:32.712Z"
   },
   {
    "duration": 1515,
    "start_time": "2021-10-09T07:40:38.849Z"
   },
   {
    "duration": 8,
    "start_time": "2021-10-09T07:40:40.366Z"
   },
   {
    "duration": 31,
    "start_time": "2021-10-09T07:40:40.376Z"
   },
   {
    "duration": 58,
    "start_time": "2021-10-09T07:40:40.410Z"
   },
   {
    "duration": 5,
    "start_time": "2021-10-09T07:40:40.470Z"
   },
   {
    "duration": 36,
    "start_time": "2021-10-09T07:40:40.477Z"
   },
   {
    "duration": 34,
    "start_time": "2021-10-09T07:40:40.515Z"
   },
   {
    "duration": 10,
    "start_time": "2021-10-09T07:40:40.552Z"
   },
   {
    "duration": 27,
    "start_time": "2021-10-09T07:40:40.564Z"
   },
   {
    "duration": 19,
    "start_time": "2021-10-09T07:40:40.593Z"
   },
   {
    "duration": 69,
    "start_time": "2021-10-09T07:40:40.614Z"
   },
   {
    "duration": 1552,
    "start_time": "2021-10-09T07:41:16.220Z"
   },
   {
    "duration": 7,
    "start_time": "2021-10-09T07:41:17.774Z"
   },
   {
    "duration": 14,
    "start_time": "2021-10-09T07:41:17.783Z"
   },
   {
    "duration": 56,
    "start_time": "2021-10-09T07:41:17.799Z"
   },
   {
    "duration": 5,
    "start_time": "2021-10-09T07:41:17.857Z"
   },
   {
    "duration": 23,
    "start_time": "2021-10-09T07:41:17.863Z"
   },
   {
    "duration": 31,
    "start_time": "2021-10-09T07:41:17.888Z"
   },
   {
    "duration": 29,
    "start_time": "2021-10-09T07:41:17.921Z"
   },
   {
    "duration": 11,
    "start_time": "2021-10-09T07:41:17.953Z"
   },
   {
    "duration": 6,
    "start_time": "2021-10-09T07:41:17.966Z"
   },
   {
    "duration": 49,
    "start_time": "2021-10-09T07:41:17.974Z"
   },
   {
    "duration": -29,
    "start_time": "2021-10-09T07:41:39.068Z"
   },
   {
    "duration": -36,
    "start_time": "2021-10-09T07:41:39.076Z"
   },
   {
    "duration": -38,
    "start_time": "2021-10-09T07:41:39.079Z"
   },
   {
    "duration": -75,
    "start_time": "2021-10-09T07:41:39.116Z"
   },
   {
    "duration": -78,
    "start_time": "2021-10-09T07:41:39.120Z"
   },
   {
    "duration": -80,
    "start_time": "2021-10-09T07:41:39.123Z"
   },
   {
    "duration": -83,
    "start_time": "2021-10-09T07:41:39.127Z"
   },
   {
    "duration": -92,
    "start_time": "2021-10-09T07:41:39.137Z"
   },
   {
    "duration": -94,
    "start_time": "2021-10-09T07:41:39.140Z"
   },
   {
    "duration": -96,
    "start_time": "2021-10-09T07:41:39.143Z"
   },
   {
    "duration": -98,
    "start_time": "2021-10-09T07:41:39.145Z"
   },
   {
    "duration": 1490,
    "start_time": "2021-10-09T07:41:50.745Z"
   },
   {
    "duration": 16,
    "start_time": "2021-10-09T07:41:52.236Z"
   },
   {
    "duration": 12,
    "start_time": "2021-10-09T07:41:52.254Z"
   },
   {
    "duration": 37,
    "start_time": "2021-10-09T07:41:52.268Z"
   },
   {
    "duration": 5,
    "start_time": "2021-10-09T07:41:52.306Z"
   },
   {
    "duration": 42,
    "start_time": "2021-10-09T07:41:52.312Z"
   },
   {
    "duration": 30,
    "start_time": "2021-10-09T07:41:52.356Z"
   },
   {
    "duration": 10,
    "start_time": "2021-10-09T07:41:52.388Z"
   },
   {
    "duration": 64,
    "start_time": "2021-10-09T07:41:52.401Z"
   },
   {
    "duration": -70,
    "start_time": "2021-10-09T07:41:52.537Z"
   },
   {
    "duration": -73,
    "start_time": "2021-10-09T07:41:52.541Z"
   },
   {
    "duration": 1494,
    "start_time": "2021-10-09T07:42:01.202Z"
   },
   {
    "duration": 7,
    "start_time": "2021-10-09T07:42:02.698Z"
   },
   {
    "duration": 17,
    "start_time": "2021-10-09T07:42:02.707Z"
   },
   {
    "duration": 53,
    "start_time": "2021-10-09T07:42:02.727Z"
   },
   {
    "duration": 5,
    "start_time": "2021-10-09T07:42:02.782Z"
   },
   {
    "duration": 21,
    "start_time": "2021-10-09T07:42:02.788Z"
   },
   {
    "duration": 48,
    "start_time": "2021-10-09T07:42:02.811Z"
   },
   {
    "duration": 11,
    "start_time": "2021-10-09T07:42:02.862Z"
   },
   {
    "duration": 12,
    "start_time": "2021-10-09T07:42:02.876Z"
   },
   {
    "duration": 18,
    "start_time": "2021-10-09T07:42:02.890Z"
   },
   {
    "duration": 58,
    "start_time": "2021-10-09T07:42:02.910Z"
   },
   {
    "duration": 1495,
    "start_time": "2021-10-09T07:43:09.298Z"
   },
   {
    "duration": 6,
    "start_time": "2021-10-09T07:43:10.795Z"
   },
   {
    "duration": 9,
    "start_time": "2021-10-09T07:43:10.803Z"
   },
   {
    "duration": 59,
    "start_time": "2021-10-09T07:43:10.814Z"
   },
   {
    "duration": 5,
    "start_time": "2021-10-09T07:43:10.875Z"
   },
   {
    "duration": 24,
    "start_time": "2021-10-09T07:43:10.882Z"
   },
   {
    "duration": 47,
    "start_time": "2021-10-09T07:43:10.907Z"
   },
   {
    "duration": 12,
    "start_time": "2021-10-09T07:43:10.956Z"
   },
   {
    "duration": 339,
    "start_time": "2021-10-09T07:43:10.971Z"
   },
   {
    "duration": -174,
    "start_time": "2021-10-09T07:43:11.487Z"
   },
   {
    "duration": -175,
    "start_time": "2021-10-09T07:43:11.489Z"
   },
   {
    "duration": 1568,
    "start_time": "2021-10-09T07:43:27.815Z"
   },
   {
    "duration": 7,
    "start_time": "2021-10-09T07:43:29.384Z"
   },
   {
    "duration": 15,
    "start_time": "2021-10-09T07:43:29.393Z"
   },
   {
    "duration": 51,
    "start_time": "2021-10-09T07:43:29.411Z"
   },
   {
    "duration": 4,
    "start_time": "2021-10-09T07:43:29.464Z"
   },
   {
    "duration": 22,
    "start_time": "2021-10-09T07:43:29.470Z"
   },
   {
    "duration": 28,
    "start_time": "2021-10-09T07:43:29.494Z"
   },
   {
    "duration": 32,
    "start_time": "2021-10-09T07:43:29.524Z"
   },
   {
    "duration": 268,
    "start_time": "2021-10-09T07:43:29.558Z"
   },
   {
    "duration": -308,
    "start_time": "2021-10-09T07:43:30.137Z"
   },
   {
    "duration": -311,
    "start_time": "2021-10-09T07:43:30.141Z"
   },
   {
    "duration": 1461,
    "start_time": "2021-10-09T07:43:47.462Z"
   },
   {
    "duration": 24,
    "start_time": "2021-10-09T07:43:48.925Z"
   },
   {
    "duration": 8,
    "start_time": "2021-10-09T07:43:48.952Z"
   },
   {
    "duration": 34,
    "start_time": "2021-10-09T07:43:48.962Z"
   },
   {
    "duration": 5,
    "start_time": "2021-10-09T07:43:48.998Z"
   },
   {
    "duration": 45,
    "start_time": "2021-10-09T07:43:49.004Z"
   },
   {
    "duration": 30,
    "start_time": "2021-10-09T07:43:49.051Z"
   },
   {
    "duration": 12,
    "start_time": "2021-10-09T07:43:49.083Z"
   },
   {
    "duration": 10,
    "start_time": "2021-10-09T07:43:49.098Z"
   },
   {
    "duration": 7,
    "start_time": "2021-10-09T07:43:49.110Z"
   },
   {
    "duration": 70,
    "start_time": "2021-10-09T07:43:49.119Z"
   },
   {
    "duration": 1465,
    "start_time": "2021-10-09T07:44:02.242Z"
   },
   {
    "duration": 6,
    "start_time": "2021-10-09T07:44:03.709Z"
   },
   {
    "duration": 27,
    "start_time": "2021-10-09T07:44:03.717Z"
   },
   {
    "duration": 49,
    "start_time": "2021-10-09T07:44:03.749Z"
   },
   {
    "duration": 4,
    "start_time": "2021-10-09T07:44:03.800Z"
   },
   {
    "duration": 20,
    "start_time": "2021-10-09T07:44:03.806Z"
   },
   {
    "duration": 33,
    "start_time": "2021-10-09T07:44:03.828Z"
   },
   {
    "duration": 11,
    "start_time": "2021-10-09T07:44:03.862Z"
   },
   {
    "duration": 14,
    "start_time": "2021-10-09T07:44:03.875Z"
   },
   {
    "duration": 5,
    "start_time": "2021-10-09T07:44:03.891Z"
   },
   {
    "duration": 63,
    "start_time": "2021-10-09T07:44:03.898Z"
   },
   {
    "duration": 1451,
    "start_time": "2021-10-09T07:44:45.871Z"
   },
   {
    "duration": 6,
    "start_time": "2021-10-09T07:44:47.324Z"
   },
   {
    "duration": 7,
    "start_time": "2021-10-09T07:44:47.348Z"
   },
   {
    "duration": 37,
    "start_time": "2021-10-09T07:44:47.357Z"
   },
   {
    "duration": 5,
    "start_time": "2021-10-09T07:44:47.395Z"
   },
   {
    "duration": 23,
    "start_time": "2021-10-09T07:44:47.401Z"
   },
   {
    "duration": 51,
    "start_time": "2021-10-09T07:44:47.426Z"
   },
   {
    "duration": 10,
    "start_time": "2021-10-09T07:44:47.479Z"
   },
   {
    "duration": 27,
    "start_time": "2021-10-09T07:44:47.492Z"
   },
   {
    "duration": 7,
    "start_time": "2021-10-09T07:44:47.521Z"
   },
   {
    "duration": 51,
    "start_time": "2021-10-09T07:44:47.530Z"
   },
   {
    "duration": 5,
    "start_time": "2021-10-09T07:51:42.311Z"
   },
   {
    "duration": 291,
    "start_time": "2021-10-09T07:56:38.300Z"
   },
   {
    "duration": 213,
    "start_time": "2021-10-09T07:57:48.878Z"
   },
   {
    "duration": 252,
    "start_time": "2021-10-09T07:58:04.237Z"
   },
   {
    "duration": 227,
    "start_time": "2021-10-09T07:58:35.204Z"
   },
   {
    "duration": 206,
    "start_time": "2021-10-09T07:59:00.068Z"
   },
   {
    "duration": 198,
    "start_time": "2021-10-09T07:59:16.530Z"
   },
   {
    "duration": 1460,
    "start_time": "2021-10-09T07:59:27.463Z"
   },
   {
    "duration": 6,
    "start_time": "2021-10-09T07:59:28.925Z"
   },
   {
    "duration": 20,
    "start_time": "2021-10-09T07:59:28.933Z"
   },
   {
    "duration": 34,
    "start_time": "2021-10-09T07:59:28.955Z"
   },
   {
    "duration": 5,
    "start_time": "2021-10-09T07:59:28.991Z"
   },
   {
    "duration": 25,
    "start_time": "2021-10-09T07:59:28.997Z"
   },
   {
    "duration": 46,
    "start_time": "2021-10-09T07:59:29.024Z"
   },
   {
    "duration": 11,
    "start_time": "2021-10-09T07:59:29.073Z"
   },
   {
    "duration": 12,
    "start_time": "2021-10-09T07:59:29.086Z"
   },
   {
    "duration": 8,
    "start_time": "2021-10-09T07:59:29.100Z"
   },
   {
    "duration": 70,
    "start_time": "2021-10-09T07:59:29.110Z"
   },
   {
    "duration": 262,
    "start_time": "2021-10-09T07:59:29.182Z"
   },
   {
    "duration": 224,
    "start_time": "2021-10-09T07:59:59.680Z"
   },
   {
    "duration": 280,
    "start_time": "2021-10-09T08:00:30.323Z"
   },
   {
    "duration": 4602,
    "start_time": "2021-10-09T08:00:38.594Z"
   },
   {
    "duration": 463,
    "start_time": "2021-10-09T08:01:12.201Z"
   },
   {
    "duration": 460,
    "start_time": "2021-10-09T08:01:31.100Z"
   },
   {
    "duration": 90,
    "start_time": "2021-10-09T08:01:42.222Z"
   },
   {
    "duration": 456,
    "start_time": "2021-10-09T08:01:46.994Z"
   },
   {
    "duration": 466,
    "start_time": "2021-10-09T08:02:08.309Z"
   },
   {
    "duration": 5,
    "start_time": "2021-10-09T08:02:44.513Z"
   },
   {
    "duration": 3977,
    "start_time": "2021-10-11T18:31:06.193Z"
   },
   {
    "duration": 9,
    "start_time": "2021-10-11T18:31:10.173Z"
   },
   {
    "duration": 37,
    "start_time": "2021-10-11T18:31:10.184Z"
   },
   {
    "duration": 44,
    "start_time": "2021-10-11T18:31:10.224Z"
   },
   {
    "duration": 6,
    "start_time": "2021-10-11T18:31:10.270Z"
   },
   {
    "duration": 55,
    "start_time": "2021-10-11T18:31:10.278Z"
   },
   {
    "duration": 37,
    "start_time": "2021-10-11T18:31:10.335Z"
   },
   {
    "duration": 14,
    "start_time": "2021-10-11T18:31:10.376Z"
   },
   {
    "duration": 30,
    "start_time": "2021-10-11T18:31:10.393Z"
   },
   {
    "duration": 10,
    "start_time": "2021-10-11T18:31:10.425Z"
   },
   {
    "duration": 59,
    "start_time": "2021-10-11T18:31:10.437Z"
   },
   {
    "duration": 76,
    "start_time": "2021-10-11T18:31:10.498Z"
   },
   {
    "duration": 1930,
    "start_time": "2021-10-11T18:31:31.605Z"
   },
   {
    "duration": 9,
    "start_time": "2021-10-11T18:31:33.538Z"
   },
   {
    "duration": 22,
    "start_time": "2021-10-11T18:31:33.550Z"
   },
   {
    "duration": 58,
    "start_time": "2021-10-11T18:31:33.575Z"
   },
   {
    "duration": 6,
    "start_time": "2021-10-11T18:31:33.635Z"
   },
   {
    "duration": 29,
    "start_time": "2021-10-11T18:31:33.643Z"
   },
   {
    "duration": 58,
    "start_time": "2021-10-11T18:31:33.675Z"
   },
   {
    "duration": 18,
    "start_time": "2021-10-11T18:31:33.737Z"
   },
   {
    "duration": 14,
    "start_time": "2021-10-11T18:31:33.759Z"
   },
   {
    "duration": 9,
    "start_time": "2021-10-11T18:31:33.775Z"
   },
   {
    "duration": 87,
    "start_time": "2021-10-11T18:31:33.787Z"
   },
   {
    "duration": 80,
    "start_time": "2021-10-11T18:31:33.877Z"
   },
   {
    "duration": 691,
    "start_time": "2021-10-11T18:31:42.052Z"
   },
   {
    "duration": 10,
    "start_time": "2021-10-11T18:32:08.031Z"
   },
   {
    "duration": 6,
    "start_time": "2021-10-11T18:32:35.711Z"
   },
   {
    "duration": 7,
    "start_time": "2021-10-11T18:32:39.333Z"
   },
   {
    "duration": 8,
    "start_time": "2021-10-11T18:32:52.611Z"
   },
   {
    "duration": 9,
    "start_time": "2021-10-11T18:33:50.122Z"
   },
   {
    "duration": 7,
    "start_time": "2021-10-11T18:34:01.515Z"
   },
   {
    "duration": 6,
    "start_time": "2021-10-11T18:34:13.440Z"
   },
   {
    "duration": -108356,
    "start_time": "2021-10-11T18:37:34.291Z"
   },
   {
    "duration": 243,
    "start_time": "2021-10-11T18:35:55.812Z"
   },
   {
    "duration": 716,
    "start_time": "2021-10-11T18:36:10.882Z"
   },
   {
    "duration": 7,
    "start_time": "2021-10-11T18:36:21.416Z"
   },
   {
    "duration": 8,
    "start_time": "2021-10-11T18:36:47.620Z"
   },
   {
    "duration": 968,
    "start_time": "2021-10-11T18:42:47.484Z"
   },
   {
    "duration": 868,
    "start_time": "2021-10-11T18:43:09.269Z"
   },
   {
    "duration": 868,
    "start_time": "2021-10-11T18:43:52.265Z"
   },
   {
    "duration": 883,
    "start_time": "2021-10-11T18:44:27.839Z"
   },
   {
    "duration": 876,
    "start_time": "2021-10-11T18:45:30.998Z"
   },
   {
    "duration": 858,
    "start_time": "2021-10-11T18:45:50.402Z"
   },
   {
    "duration": 1816,
    "start_time": "2021-10-11T18:46:54.756Z"
   },
   {
    "duration": 9,
    "start_time": "2021-10-11T18:46:56.575Z"
   },
   {
    "duration": 40,
    "start_time": "2021-10-11T18:46:56.587Z"
   },
   {
    "duration": 44,
    "start_time": "2021-10-11T18:46:56.630Z"
   },
   {
    "duration": 5,
    "start_time": "2021-10-11T18:46:56.677Z"
   },
   {
    "duration": 51,
    "start_time": "2021-10-11T18:46:56.685Z"
   },
   {
    "duration": 38,
    "start_time": "2021-10-11T18:46:56.738Z"
   },
   {
    "duration": 14,
    "start_time": "2021-10-11T18:46:56.780Z"
   },
   {
    "duration": 36,
    "start_time": "2021-10-11T18:46:56.797Z"
   },
   {
    "duration": 5,
    "start_time": "2021-10-11T18:46:56.835Z"
   },
   {
    "duration": 82,
    "start_time": "2021-10-11T18:46:56.842Z"
   },
   {
    "duration": 866,
    "start_time": "2021-10-11T18:46:56.926Z"
   },
   {
    "duration": 880,
    "start_time": "2021-10-11T18:47:34.634Z"
   },
   {
    "duration": 840,
    "start_time": "2021-10-11T18:48:11.357Z"
   },
   {
    "duration": 888,
    "start_time": "2021-10-11T18:48:31.551Z"
   },
   {
    "duration": 958,
    "start_time": "2021-10-11T18:48:51.920Z"
   },
   {
    "duration": 877,
    "start_time": "2021-10-11T18:49:07.848Z"
   },
   {
    "duration": 3,
    "start_time": "2021-10-11T18:49:37.916Z"
   },
   {
    "duration": 14,
    "start_time": "2021-10-11T18:49:56.816Z"
   },
   {
    "duration": 6,
    "start_time": "2021-10-11T18:50:09.774Z"
   },
   {
    "duration": 1264,
    "start_time": "2021-10-11T18:50:39.264Z"
   },
   {
    "duration": 842,
    "start_time": "2021-10-11T18:51:14.461Z"
   },
   {
    "duration": 15,
    "start_time": "2021-10-11T18:56:36.889Z"
   },
   {
    "duration": 82,
    "start_time": "2021-10-11T19:06:23.644Z"
   },
   {
    "duration": 819,
    "start_time": "2021-10-11T19:07:00.355Z"
   },
   {
    "duration": 80,
    "start_time": "2021-10-11T19:07:13.564Z"
   },
   {
    "duration": 78,
    "start_time": "2021-10-11T19:10:12.040Z"
   },
   {
    "duration": 73,
    "start_time": "2021-10-11T19:10:17.945Z"
   },
   {
    "duration": 251,
    "start_time": "2021-10-11T19:10:46.688Z"
   },
   {
    "duration": 33,
    "start_time": "2021-10-11T19:11:16.875Z"
   },
   {
    "duration": 17,
    "start_time": "2021-10-11T19:16:31.976Z"
   },
   {
    "duration": 5477,
    "start_time": "2021-10-11T19:19:26.672Z"
   },
   {
    "duration": 5575,
    "start_time": "2021-10-11T19:19:43.376Z"
   },
   {
    "duration": 24,
    "start_time": "2021-10-11T19:20:02.005Z"
   },
   {
    "duration": 15,
    "start_time": "2021-10-11T19:20:12.937Z"
   },
   {
    "duration": 231,
    "start_time": "2021-10-11T19:23:07.100Z"
   },
   {
    "duration": 212,
    "start_time": "2021-10-11T19:23:13.721Z"
   },
   {
    "duration": 15,
    "start_time": "2021-10-11T19:23:30.814Z"
   },
   {
    "duration": 1890,
    "start_time": "2021-10-11T19:26:04.288Z"
   },
   {
    "duration": 9,
    "start_time": "2021-10-11T19:26:06.181Z"
   },
   {
    "duration": 38,
    "start_time": "2021-10-11T19:26:06.193Z"
   },
   {
    "duration": 45,
    "start_time": "2021-10-11T19:26:06.233Z"
   },
   {
    "duration": 6,
    "start_time": "2021-10-11T19:26:06.280Z"
   },
   {
    "duration": 55,
    "start_time": "2021-10-11T19:26:06.289Z"
   },
   {
    "duration": 38,
    "start_time": "2021-10-11T19:26:06.346Z"
   },
   {
    "duration": 40,
    "start_time": "2021-10-11T19:26:06.387Z"
   },
   {
    "duration": 14,
    "start_time": "2021-10-11T19:26:06.430Z"
   },
   {
    "duration": 10,
    "start_time": "2021-10-11T19:26:06.446Z"
   },
   {
    "duration": 87,
    "start_time": "2021-10-11T19:26:06.458Z"
   },
   {
    "duration": 17,
    "start_time": "2021-10-11T19:26:06.547Z"
   },
   {
    "duration": 79,
    "start_time": "2021-10-11T19:26:06.566Z"
   },
   {
    "duration": -41,
    "start_time": "2021-10-11T19:26:06.689Z"
   },
   {
    "duration": 327,
    "start_time": "2021-10-11T19:31:17.522Z"
   },
   {
    "duration": 14551,
    "start_time": "2021-10-11T19:31:28.461Z"
   },
   {
    "duration": 18,
    "start_time": "2021-10-11T19:32:48.016Z"
   },
   {
    "duration": 13,
    "start_time": "2021-10-11T19:33:44.363Z"
   },
   {
    "duration": 13,
    "start_time": "2021-10-11T19:33:48.516Z"
   },
   {
    "duration": 12,
    "start_time": "2021-10-11T19:33:52.626Z"
   },
   {
    "duration": 14,
    "start_time": "2021-10-11T19:34:11.183Z"
   },
   {
    "duration": 21,
    "start_time": "2021-10-11T19:35:57.703Z"
   },
   {
    "duration": 13,
    "start_time": "2021-10-11T19:36:10.969Z"
   },
   {
    "duration": 13,
    "start_time": "2021-10-11T19:36:14.173Z"
   },
   {
    "duration": 21,
    "start_time": "2021-10-11T19:36:19.326Z"
   },
   {
    "duration": 22,
    "start_time": "2021-10-11T19:36:23.619Z"
   },
   {
    "duration": 20,
    "start_time": "2021-10-11T19:36:34.291Z"
   },
   {
    "duration": 10,
    "start_time": "2021-10-11T19:37:47.817Z"
   },
   {
    "duration": 40805,
    "start_time": "2021-10-11T19:38:02.673Z"
   },
   {
    "duration": 12248,
    "start_time": "2021-10-11T19:38:47.874Z"
   },
   {
    "duration": 12292,
    "start_time": "2021-10-11T19:39:20.855Z"
   },
   {
    "duration": 12110,
    "start_time": "2021-10-11T19:47:16.583Z"
   },
   {
    "duration": 15,
    "start_time": "2021-10-11T19:48:35.527Z"
   },
   {
    "duration": 8605,
    "start_time": "2021-10-11T19:49:27.297Z"
   },
   {
    "duration": 16,
    "start_time": "2021-10-11T19:55:46.398Z"
   },
   {
    "duration": 20870,
    "start_time": "2021-10-11T19:58:27.554Z"
   },
   {
    "duration": 41,
    "start_time": "2021-10-11T20:18:12.008Z"
   },
   {
    "duration": 231,
    "start_time": "2021-10-11T20:24:32.440Z"
   },
   {
    "duration": 3386,
    "start_time": "2021-10-11T20:24:46.055Z"
   },
   {
    "duration": 272,
    "start_time": "2021-10-11T20:27:07.289Z"
   },
   {
    "duration": 271,
    "start_time": "2021-10-11T20:27:40.156Z"
   },
   {
    "duration": 68,
    "start_time": "2021-10-11T20:28:11.679Z"
   },
   {
    "duration": 63,
    "start_time": "2021-10-11T20:29:39.182Z"
   },
   {
    "duration": 1792,
    "start_time": "2021-10-11T20:29:58.070Z"
   },
   {
    "duration": 10,
    "start_time": "2021-10-11T20:29:59.865Z"
   },
   {
    "duration": 11,
    "start_time": "2021-10-11T20:29:59.878Z"
   },
   {
    "duration": 43,
    "start_time": "2021-10-11T20:29:59.924Z"
   },
   {
    "duration": 6,
    "start_time": "2021-10-11T20:29:59.970Z"
   },
   {
    "duration": 56,
    "start_time": "2021-10-11T20:29:59.979Z"
   },
   {
    "duration": 38,
    "start_time": "2021-10-11T20:30:00.038Z"
   },
   {
    "duration": 16,
    "start_time": "2021-10-11T20:30:00.078Z"
   },
   {
    "duration": 15,
    "start_time": "2021-10-11T20:30:00.122Z"
   },
   {
    "duration": 16,
    "start_time": "2021-10-11T20:30:00.139Z"
   },
   {
    "duration": 70,
    "start_time": "2021-10-11T20:30:00.158Z"
   },
   {
    "duration": 12055,
    "start_time": "2021-10-11T20:30:00.231Z"
   },
   {
    "duration": 20251,
    "start_time": "2021-10-11T20:30:12.289Z"
   },
   {
    "duration": 57,
    "start_time": "2021-10-11T20:30:32.543Z"
   },
   {
    "duration": 1822,
    "start_time": "2021-10-11T20:32:04.140Z"
   },
   {
    "duration": 9,
    "start_time": "2021-10-11T20:32:05.964Z"
   },
   {
    "duration": 30,
    "start_time": "2021-10-11T20:32:05.975Z"
   },
   {
    "duration": 44,
    "start_time": "2021-10-11T20:32:06.023Z"
   },
   {
    "duration": 5,
    "start_time": "2021-10-11T20:32:06.069Z"
   },
   {
    "duration": 50,
    "start_time": "2021-10-11T20:32:06.076Z"
   },
   {
    "duration": 38,
    "start_time": "2021-10-11T20:32:06.128Z"
   },
   {
    "duration": 15,
    "start_time": "2021-10-11T20:32:06.170Z"
   },
   {
    "duration": 35,
    "start_time": "2021-10-11T20:32:06.188Z"
   },
   {
    "duration": 27,
    "start_time": "2021-10-11T20:32:06.225Z"
   },
   {
    "duration": 60,
    "start_time": "2021-10-11T20:32:06.255Z"
   },
   {
    "duration": 12376,
    "start_time": "2021-10-11T20:32:06.318Z"
   },
   {
    "duration": 20710,
    "start_time": "2021-10-11T20:32:18.697Z"
   },
   {
    "duration": 131,
    "start_time": "2021-10-11T20:32:39.409Z"
   },
   {
    "duration": 1999,
    "start_time": "2021-10-11T20:34:44.073Z"
   },
   {
    "duration": 9,
    "start_time": "2021-10-11T20:34:46.075Z"
   },
   {
    "duration": 40,
    "start_time": "2021-10-11T20:34:46.089Z"
   },
   {
    "duration": 46,
    "start_time": "2021-10-11T20:34:46.133Z"
   },
   {
    "duration": 7,
    "start_time": "2021-10-11T20:34:46.182Z"
   },
   {
    "duration": 28,
    "start_time": "2021-10-11T20:34:46.223Z"
   },
   {
    "duration": 37,
    "start_time": "2021-10-11T20:34:46.253Z"
   },
   {
    "duration": 37,
    "start_time": "2021-10-11T20:34:46.293Z"
   },
   {
    "duration": 14,
    "start_time": "2021-10-11T20:34:46.332Z"
   },
   {
    "duration": 11,
    "start_time": "2021-10-11T20:34:46.349Z"
   },
   {
    "duration": 90,
    "start_time": "2021-10-11T20:34:46.362Z"
   },
   {
    "duration": 12492,
    "start_time": "2021-10-11T20:34:46.454Z"
   },
   {
    "duration": 20525,
    "start_time": "2021-10-11T20:34:58.949Z"
   },
   {
    "duration": 364,
    "start_time": "2021-10-11T20:35:19.477Z"
   },
   {
    "duration": 145,
    "start_time": "2021-10-11T20:35:47.019Z"
   },
   {
    "duration": 340,
    "start_time": "2021-10-11T20:37:11.159Z"
   },
   {
    "duration": 215,
    "start_time": "2021-10-11T20:37:16.767Z"
   },
   {
    "duration": 6,
    "start_time": "2021-10-11T20:37:26.352Z"
   },
   {
    "duration": 4,
    "start_time": "2021-10-11T20:38:21.174Z"
   },
   {
    "duration": 31,
    "start_time": "2021-10-11T20:40:53.106Z"
   },
   {
    "duration": 227,
    "start_time": "2021-10-11T20:42:29.128Z"
   },
   {
    "duration": 6,
    "start_time": "2021-10-11T20:42:39.494Z"
   },
   {
    "duration": 8683,
    "start_time": "2021-10-11T20:43:55.190Z"
   },
   {
    "duration": 12550,
    "start_time": "2021-10-11T20:44:51.923Z"
   },
   {
    "duration": 12380,
    "start_time": "2021-10-11T20:45:30.517Z"
   },
   {
    "duration": 22737,
    "start_time": "2021-10-11T20:45:42.899Z"
   },
   {
    "duration": 3975,
    "start_time": "2021-10-11T20:46:34.031Z"
   },
   {
    "duration": 6,
    "start_time": "2021-10-11T20:47:02.905Z"
   },
   {
    "duration": 5,
    "start_time": "2021-10-11T20:47:43.534Z"
   },
   {
    "duration": 5,
    "start_time": "2021-10-11T20:47:53.153Z"
   },
   {
    "duration": 127,
    "start_time": "2021-10-11T20:47:59.951Z"
   },
   {
    "duration": 138,
    "start_time": "2021-10-11T20:48:37.326Z"
   },
   {
    "duration": 154,
    "start_time": "2021-10-11T20:50:12.819Z"
   },
   {
    "duration": 1953,
    "start_time": "2021-10-11T20:50:21.985Z"
   },
   {
    "duration": 8,
    "start_time": "2021-10-11T20:50:23.940Z"
   },
   {
    "duration": 32,
    "start_time": "2021-10-11T20:50:23.952Z"
   },
   {
    "duration": 60,
    "start_time": "2021-10-11T20:50:23.986Z"
   },
   {
    "duration": 5,
    "start_time": "2021-10-11T20:50:24.048Z"
   },
   {
    "duration": 47,
    "start_time": "2021-10-11T20:50:24.056Z"
   },
   {
    "duration": 37,
    "start_time": "2021-10-11T20:50:24.106Z"
   },
   {
    "duration": 16,
    "start_time": "2021-10-11T20:50:24.146Z"
   },
   {
    "duration": 14,
    "start_time": "2021-10-11T20:50:24.165Z"
   },
   {
    "duration": 24,
    "start_time": "2021-10-11T20:50:24.182Z"
   },
   {
    "duration": 84,
    "start_time": "2021-10-11T20:50:24.208Z"
   },
   {
    "duration": 12514,
    "start_time": "2021-10-11T20:50:24.295Z"
   },
   {
    "duration": 22590,
    "start_time": "2021-10-11T20:50:36.823Z"
   },
   {
    "duration": 159,
    "start_time": "2021-10-11T20:50:59.423Z"
   },
   {
    "duration": 5,
    "start_time": "2021-10-11T20:52:01.402Z"
   },
   {
    "duration": 35,
    "start_time": "2021-10-11T20:52:12.749Z"
   },
   {
    "duration": 36,
    "start_time": "2021-10-11T20:54:22.678Z"
   },
   {
    "duration": 34,
    "start_time": "2021-10-11T20:55:54.140Z"
   },
   {
    "duration": 37,
    "start_time": "2021-10-11T21:01:07.543Z"
   },
   {
    "duration": 15,
    "start_time": "2021-10-11T21:03:47.832Z"
   },
   {
    "duration": 15,
    "start_time": "2021-10-11T21:04:05.926Z"
   },
   {
    "duration": 17,
    "start_time": "2021-10-11T21:04:14.019Z"
   },
   {
    "duration": 136,
    "start_time": "2021-10-11T21:04:50.067Z"
   },
   {
    "duration": 37,
    "start_time": "2021-10-11T21:04:57.792Z"
   },
   {
    "duration": 1874,
    "start_time": "2021-10-11T21:05:29.408Z"
   },
   {
    "duration": 9,
    "start_time": "2021-10-11T21:05:31.284Z"
   },
   {
    "duration": 33,
    "start_time": "2021-10-11T21:05:31.295Z"
   },
   {
    "duration": 55,
    "start_time": "2021-10-11T21:05:31.330Z"
   },
   {
    "duration": 5,
    "start_time": "2021-10-11T21:05:31.388Z"
   },
   {
    "duration": 45,
    "start_time": "2021-10-11T21:05:31.396Z"
   },
   {
    "duration": 45,
    "start_time": "2021-10-11T21:05:31.443Z"
   },
   {
    "duration": 15,
    "start_time": "2021-10-11T21:05:31.490Z"
   },
   {
    "duration": 29,
    "start_time": "2021-10-11T21:05:31.508Z"
   },
   {
    "duration": 26,
    "start_time": "2021-10-11T21:05:31.540Z"
   },
   {
    "duration": 80,
    "start_time": "2021-10-11T21:05:31.568Z"
   },
   {
    "duration": 12334,
    "start_time": "2021-10-11T21:05:31.651Z"
   },
   {
    "duration": 22353,
    "start_time": "2021-10-11T21:05:43.987Z"
   },
   {
    "duration": 149,
    "start_time": "2021-10-11T21:06:06.342Z"
   },
   {
    "duration": 63,
    "start_time": "2021-10-11T21:06:06.493Z"
   },
   {
    "duration": 59,
    "start_time": "2021-10-11T21:06:31.944Z"
   },
   {
    "duration": 29,
    "start_time": "2021-10-11T21:07:27.732Z"
   },
   {
    "duration": 57,
    "start_time": "2021-10-11T21:07:34.004Z"
   },
   {
    "duration": 58,
    "start_time": "2021-10-11T21:08:26.499Z"
   },
   {
    "duration": 1960,
    "start_time": "2021-10-11T21:08:32.596Z"
   },
   {
    "duration": 9,
    "start_time": "2021-10-11T21:08:34.560Z"
   },
   {
    "duration": 12,
    "start_time": "2021-10-11T21:08:34.573Z"
   },
   {
    "duration": 77,
    "start_time": "2021-10-11T21:08:34.587Z"
   },
   {
    "duration": 7,
    "start_time": "2021-10-11T21:08:34.667Z"
   },
   {
    "duration": 61,
    "start_time": "2021-10-11T21:08:34.676Z"
   },
   {
    "duration": 40,
    "start_time": "2021-10-11T21:08:34.739Z"
   },
   {
    "duration": 18,
    "start_time": "2021-10-11T21:08:34.784Z"
   },
   {
    "duration": 16,
    "start_time": "2021-10-11T21:08:34.823Z"
   },
   {
    "duration": 18,
    "start_time": "2021-10-11T21:08:34.842Z"
   },
   {
    "duration": 78,
    "start_time": "2021-10-11T21:08:34.863Z"
   },
   {
    "duration": 12385,
    "start_time": "2021-10-11T21:08:34.944Z"
   },
   {
    "duration": 22007,
    "start_time": "2021-10-11T21:08:47.332Z"
   },
   {
    "duration": 156,
    "start_time": "2021-10-11T21:09:09.341Z"
   },
   {
    "duration": 28,
    "start_time": "2021-10-11T21:09:09.523Z"
   },
   {
    "duration": 79,
    "start_time": "2021-10-11T21:09:09.553Z"
   },
   {
    "duration": 85,
    "start_time": "2021-10-11T21:10:14.838Z"
   },
   {
    "duration": 129,
    "start_time": "2021-10-11T21:10:31.544Z"
   },
   {
    "duration": 17,
    "start_time": "2021-10-11T21:10:40.671Z"
   },
   {
    "duration": 320,
    "start_time": "2021-10-11T21:10:44.556Z"
   },
   {
    "duration": 1958,
    "start_time": "2021-10-11T21:10:56.068Z"
   },
   {
    "duration": 9,
    "start_time": "2021-10-11T21:10:58.029Z"
   },
   {
    "duration": 27,
    "start_time": "2021-10-11T21:10:58.041Z"
   },
   {
    "duration": 61,
    "start_time": "2021-10-11T21:10:58.071Z"
   },
   {
    "duration": 6,
    "start_time": "2021-10-11T21:10:58.135Z"
   },
   {
    "duration": 39,
    "start_time": "2021-10-11T21:10:58.144Z"
   },
   {
    "duration": 47,
    "start_time": "2021-10-11T21:10:58.185Z"
   },
   {
    "duration": 17,
    "start_time": "2021-10-11T21:10:58.236Z"
   },
   {
    "duration": 16,
    "start_time": "2021-10-11T21:10:58.256Z"
   },
   {
    "duration": 11,
    "start_time": "2021-10-11T21:10:58.275Z"
   },
   {
    "duration": 87,
    "start_time": "2021-10-11T21:10:58.289Z"
   },
   {
    "duration": 12556,
    "start_time": "2021-10-11T21:10:58.379Z"
   },
   {
    "duration": 25339,
    "start_time": "2021-10-11T21:11:10.937Z"
   },
   {
    "duration": 19,
    "start_time": "2021-10-11T21:11:36.278Z"
   },
   {
    "duration": 75,
    "start_time": "2021-10-11T21:11:36.299Z"
   },
   {
    "duration": 54,
    "start_time": "2021-10-11T21:12:01.664Z"
   },
   {
    "duration": 1859,
    "start_time": "2021-10-11T21:15:23.225Z"
   },
   {
    "duration": 9,
    "start_time": "2021-10-11T21:15:25.087Z"
   },
   {
    "duration": 32,
    "start_time": "2021-10-11T21:15:25.099Z"
   },
   {
    "duration": 42,
    "start_time": "2021-10-11T21:15:25.134Z"
   },
   {
    "duration": 5,
    "start_time": "2021-10-11T21:15:25.179Z"
   },
   {
    "duration": 58,
    "start_time": "2021-10-11T21:15:25.187Z"
   },
   {
    "duration": 38,
    "start_time": "2021-10-11T21:15:25.248Z"
   },
   {
    "duration": 37,
    "start_time": "2021-10-11T21:15:25.291Z"
   },
   {
    "duration": 16,
    "start_time": "2021-10-11T21:15:25.331Z"
   },
   {
    "duration": 13,
    "start_time": "2021-10-11T21:15:25.350Z"
   },
   {
    "duration": 87,
    "start_time": "2021-10-11T21:15:25.365Z"
   },
   {
    "duration": 12451,
    "start_time": "2021-10-11T21:15:25.455Z"
   },
   {
    "duration": 22164,
    "start_time": "2021-10-11T21:15:37.909Z"
   },
   {
    "duration": 164,
    "start_time": "2021-10-11T21:16:00.076Z"
   },
   {
    "duration": 82,
    "start_time": "2021-10-11T21:16:00.243Z"
   },
   {
    "duration": 135,
    "start_time": "2021-10-11T21:16:21.272Z"
   },
   {
    "duration": 55,
    "start_time": "2021-10-11T21:16:47.183Z"
   },
   {
    "duration": 152,
    "start_time": "2021-10-11T21:17:31.472Z"
   },
   {
    "duration": 149,
    "start_time": "2021-10-11T21:18:45.780Z"
   },
   {
    "duration": 1887,
    "start_time": "2021-10-11T21:19:03.099Z"
   },
   {
    "duration": 35,
    "start_time": "2021-10-11T21:19:04.990Z"
   },
   {
    "duration": 15,
    "start_time": "2021-10-11T21:19:05.029Z"
   },
   {
    "duration": 58,
    "start_time": "2021-10-11T21:19:05.047Z"
   },
   {
    "duration": 20,
    "start_time": "2021-10-11T21:19:05.107Z"
   },
   {
    "duration": 30,
    "start_time": "2021-10-11T21:19:05.130Z"
   },
   {
    "duration": 63,
    "start_time": "2021-10-11T21:19:05.163Z"
   },
   {
    "duration": 18,
    "start_time": "2021-10-11T21:19:05.229Z"
   },
   {
    "duration": 15,
    "start_time": "2021-10-11T21:19:05.252Z"
   },
   {
    "duration": 7,
    "start_time": "2021-10-11T21:19:05.270Z"
   },
   {
    "duration": 100,
    "start_time": "2021-10-11T21:19:05.279Z"
   },
   {
    "duration": 12393,
    "start_time": "2021-10-11T21:19:05.382Z"
   },
   {
    "duration": 21724,
    "start_time": "2021-10-11T21:19:17.778Z"
   },
   {
    "duration": 163,
    "start_time": "2021-10-11T21:19:39.505Z"
   },
   {
    "duration": 82,
    "start_time": "2021-10-11T21:19:39.670Z"
   },
   {
    "duration": 1581,
    "start_time": "2021-10-12T06:17:38.132Z"
   },
   {
    "duration": 7,
    "start_time": "2021-10-12T06:17:39.715Z"
   },
   {
    "duration": 9,
    "start_time": "2021-10-12T06:17:39.724Z"
   },
   {
    "duration": 62,
    "start_time": "2021-10-12T06:17:39.735Z"
   },
   {
    "duration": 4,
    "start_time": "2021-10-12T06:17:39.799Z"
   },
   {
    "duration": 25,
    "start_time": "2021-10-12T06:17:39.804Z"
   },
   {
    "duration": 28,
    "start_time": "2021-10-12T06:17:39.831Z"
   },
   {
    "duration": 23,
    "start_time": "2021-10-12T06:17:39.862Z"
   },
   {
    "duration": 11,
    "start_time": "2021-10-12T06:17:39.887Z"
   },
   {
    "duration": 4,
    "start_time": "2021-10-12T06:17:39.899Z"
   },
   {
    "duration": 77,
    "start_time": "2021-10-12T06:17:39.904Z"
   },
   {
    "duration": 7526,
    "start_time": "2021-10-12T06:17:39.983Z"
   },
   {
    "duration": 13054,
    "start_time": "2021-10-12T06:17:47.511Z"
   },
   {
    "duration": 91,
    "start_time": "2021-10-12T06:18:00.566Z"
   },
   {
    "duration": 51,
    "start_time": "2021-10-12T06:18:00.659Z"
   },
   {
    "duration": 1468,
    "start_time": "2021-10-12T06:23:33.690Z"
   },
   {
    "duration": 19,
    "start_time": "2021-10-12T06:23:35.160Z"
   },
   {
    "duration": 7,
    "start_time": "2021-10-12T06:23:35.182Z"
   },
   {
    "duration": 34,
    "start_time": "2021-10-12T06:23:35.191Z"
   },
   {
    "duration": 4,
    "start_time": "2021-10-12T06:23:35.227Z"
   },
   {
    "duration": 51,
    "start_time": "2021-10-12T06:23:35.233Z"
   },
   {
    "duration": 30,
    "start_time": "2021-10-12T06:23:35.286Z"
   },
   {
    "duration": 11,
    "start_time": "2021-10-12T06:23:35.318Z"
   },
   {
    "duration": 18,
    "start_time": "2021-10-12T06:23:35.332Z"
   },
   {
    "duration": 6,
    "start_time": "2021-10-12T06:23:35.353Z"
   },
   {
    "duration": 52,
    "start_time": "2021-10-12T06:23:35.361Z"
   },
   {
    "duration": 7735,
    "start_time": "2021-10-12T06:23:35.415Z"
   },
   {
    "duration": 13285,
    "start_time": "2021-10-12T06:23:43.152Z"
   },
   {
    "duration": 78,
    "start_time": "2021-10-12T06:23:56.439Z"
   },
   {
    "duration": 5,
    "start_time": "2021-10-12T06:23:56.519Z"
   },
   {
    "duration": 6,
    "start_time": "2021-10-12T06:23:56.526Z"
   },
   {
    "duration": 25,
    "start_time": "2021-10-12T06:26:02.786Z"
   },
   {
    "duration": 1480,
    "start_time": "2021-10-12T06:37:07.612Z"
   },
   {
    "duration": 7,
    "start_time": "2021-10-12T06:37:09.094Z"
   },
   {
    "duration": 11,
    "start_time": "2021-10-12T06:37:09.103Z"
   },
   {
    "duration": 41,
    "start_time": "2021-10-12T06:37:09.116Z"
   },
   {
    "duration": 5,
    "start_time": "2021-10-12T06:37:09.176Z"
   },
   {
    "duration": 36,
    "start_time": "2021-10-12T06:37:09.183Z"
   },
   {
    "duration": 28,
    "start_time": "2021-10-12T06:37:09.221Z"
   },
   {
    "duration": 12,
    "start_time": "2021-10-12T06:37:09.252Z"
   },
   {
    "duration": 14,
    "start_time": "2021-10-12T06:37:09.276Z"
   },
   {
    "duration": 22,
    "start_time": "2021-10-12T06:37:09.292Z"
   },
   {
    "duration": 63,
    "start_time": "2021-10-12T06:37:09.316Z"
   },
   {
    "duration": 7693,
    "start_time": "2021-10-12T06:37:09.382Z"
   },
   {
    "duration": 13999,
    "start_time": "2021-10-12T06:37:17.077Z"
   },
   {
    "duration": 65,
    "start_time": "2021-10-12T06:37:31.078Z"
   },
   {
    "duration": 56,
    "start_time": "2021-10-12T06:37:31.145Z"
   },
   {
    "duration": 3,
    "start_time": "2021-10-12T06:37:31.202Z"
   },
   {
    "duration": 572,
    "start_time": "2021-10-12T06:39:32.963Z"
   },
   {
    "duration": 515,
    "start_time": "2021-10-12T06:42:07.349Z"
   },
   {
    "duration": 497,
    "start_time": "2021-10-12T06:42:36.660Z"
   },
   {
    "duration": 21,
    "start_time": "2021-10-12T06:44:01.159Z"
   },
   {
    "duration": 23,
    "start_time": "2021-10-12T06:44:08.129Z"
   },
   {
    "duration": 24,
    "start_time": "2021-10-12T06:44:35.012Z"
   },
   {
    "duration": 23,
    "start_time": "2021-10-12T06:44:41.250Z"
   },
   {
    "duration": 301,
    "start_time": "2021-10-12T06:44:54.519Z"
   },
   {
    "duration": 1520,
    "start_time": "2021-10-12T06:45:24.461Z"
   },
   {
    "duration": 6,
    "start_time": "2021-10-12T06:45:25.984Z"
   },
   {
    "duration": 17,
    "start_time": "2021-10-12T06:45:25.992Z"
   },
   {
    "duration": 50,
    "start_time": "2021-10-12T06:45:26.011Z"
   },
   {
    "duration": 4,
    "start_time": "2021-10-12T06:45:26.063Z"
   },
   {
    "duration": 26,
    "start_time": "2021-10-12T06:45:26.077Z"
   },
   {
    "duration": 48,
    "start_time": "2021-10-12T06:45:26.105Z"
   },
   {
    "duration": 12,
    "start_time": "2021-10-12T06:45:26.155Z"
   },
   {
    "duration": 20,
    "start_time": "2021-10-12T06:45:26.169Z"
   },
   {
    "duration": 17,
    "start_time": "2021-10-12T06:45:26.191Z"
   },
   {
    "duration": 63,
    "start_time": "2021-10-12T06:45:26.210Z"
   },
   {
    "duration": 11486,
    "start_time": "2021-10-12T06:45:26.275Z"
   },
   {
    "duration": 20266,
    "start_time": "2021-10-12T06:45:37.763Z"
   },
   {
    "duration": 84,
    "start_time": "2021-10-12T06:45:58.031Z"
   },
   {
    "duration": 20,
    "start_time": "2021-10-12T06:45:58.117Z"
   },
   {
    "duration": 42,
    "start_time": "2021-10-12T06:45:58.138Z"
   },
   {
    "duration": 2,
    "start_time": "2021-10-12T06:45:58.182Z"
   },
   {
    "duration": 1473,
    "start_time": "2021-10-12T06:46:13.682Z"
   },
   {
    "duration": 22,
    "start_time": "2021-10-12T06:46:15.157Z"
   },
   {
    "duration": 10,
    "start_time": "2021-10-12T06:46:15.181Z"
   },
   {
    "duration": 53,
    "start_time": "2021-10-12T06:46:15.194Z"
   },
   {
    "duration": 4,
    "start_time": "2021-10-12T06:46:15.249Z"
   },
   {
    "duration": 26,
    "start_time": "2021-10-12T06:46:15.255Z"
   },
   {
    "duration": 37,
    "start_time": "2021-10-12T06:46:15.283Z"
   },
   {
    "duration": 10,
    "start_time": "2021-10-12T06:46:15.322Z"
   },
   {
    "duration": 11,
    "start_time": "2021-10-12T06:46:15.335Z"
   },
   {
    "duration": 7,
    "start_time": "2021-10-12T06:46:15.347Z"
   },
   {
    "duration": 56,
    "start_time": "2021-10-12T06:46:15.355Z"
   },
   {
    "duration": 9056,
    "start_time": "2021-10-12T06:46:15.412Z"
   },
   {
    "duration": 14284,
    "start_time": "2021-10-12T06:46:24.476Z"
   },
   {
    "duration": 71,
    "start_time": "2021-10-12T06:46:38.762Z"
   },
   {
    "duration": 44,
    "start_time": "2021-10-12T06:46:38.835Z"
   },
   {
    "duration": 26,
    "start_time": "2021-10-12T06:46:38.881Z"
   },
   {
    "duration": 9,
    "start_time": "2021-10-12T06:46:38.909Z"
   },
   {
    "duration": 1980,
    "start_time": "2021-10-12T06:48:33.668Z"
   },
   {
    "duration": 8,
    "start_time": "2021-10-12T06:48:35.650Z"
   },
   {
    "duration": 6,
    "start_time": "2021-10-12T06:48:35.678Z"
   },
   {
    "duration": 55,
    "start_time": "2021-10-12T06:48:35.687Z"
   },
   {
    "duration": 5,
    "start_time": "2021-10-12T06:48:35.745Z"
   },
   {
    "duration": 48,
    "start_time": "2021-10-12T06:48:35.752Z"
   },
   {
    "duration": 42,
    "start_time": "2021-10-12T06:48:35.802Z"
   },
   {
    "duration": 13,
    "start_time": "2021-10-12T06:48:35.846Z"
   },
   {
    "duration": 27,
    "start_time": "2021-10-12T06:48:35.862Z"
   },
   {
    "duration": 14,
    "start_time": "2021-10-12T06:48:35.891Z"
   },
   {
    "duration": 75,
    "start_time": "2021-10-12T06:48:35.907Z"
   },
   {
    "duration": 11279,
    "start_time": "2021-10-12T06:48:35.985Z"
   },
   {
    "duration": 19989,
    "start_time": "2021-10-12T06:48:47.266Z"
   },
   {
    "duration": 30,
    "start_time": "2021-10-12T06:49:07.257Z"
   },
   {
    "duration": 43,
    "start_time": "2021-10-12T06:49:07.289Z"
   },
   {
    "duration": 1414,
    "start_time": "2021-10-12T06:51:36.334Z"
   },
   {
    "duration": 6,
    "start_time": "2021-10-12T06:51:37.750Z"
   },
   {
    "duration": 23,
    "start_time": "2021-10-12T06:51:37.757Z"
   },
   {
    "duration": 37,
    "start_time": "2021-10-12T06:51:37.781Z"
   },
   {
    "duration": 4,
    "start_time": "2021-10-12T06:51:37.820Z"
   },
   {
    "duration": 19,
    "start_time": "2021-10-12T06:51:37.826Z"
   },
   {
    "duration": 50,
    "start_time": "2021-10-12T06:51:37.847Z"
   },
   {
    "duration": 11,
    "start_time": "2021-10-12T06:51:37.898Z"
   },
   {
    "duration": 12,
    "start_time": "2021-10-12T06:51:37.911Z"
   },
   {
    "duration": 5,
    "start_time": "2021-10-12T06:51:37.924Z"
   },
   {
    "duration": 78,
    "start_time": "2021-10-12T06:51:37.930Z"
   },
   {
    "duration": 7586,
    "start_time": "2021-10-12T06:51:38.010Z"
   },
   {
    "duration": 13781,
    "start_time": "2021-10-12T06:51:45.597Z"
   },
   {
    "duration": 63,
    "start_time": "2021-10-12T06:51:59.379Z"
   },
   {
    "duration": 51,
    "start_time": "2021-10-12T06:51:59.444Z"
   },
   {
    "duration": 1464,
    "start_time": "2021-10-12T06:53:05.314Z"
   },
   {
    "duration": 7,
    "start_time": "2021-10-12T06:53:06.781Z"
   },
   {
    "duration": 10,
    "start_time": "2021-10-12T06:53:06.790Z"
   },
   {
    "duration": 34,
    "start_time": "2021-10-12T06:53:06.802Z"
   },
   {
    "duration": 5,
    "start_time": "2021-10-12T06:53:06.837Z"
   },
   {
    "duration": 50,
    "start_time": "2021-10-12T06:53:06.844Z"
   },
   {
    "duration": 30,
    "start_time": "2021-10-12T06:53:06.896Z"
   },
   {
    "duration": 12,
    "start_time": "2021-10-12T06:53:06.929Z"
   },
   {
    "duration": 37,
    "start_time": "2021-10-12T06:53:06.943Z"
   },
   {
    "duration": 4,
    "start_time": "2021-10-12T06:53:06.982Z"
   },
   {
    "duration": 48,
    "start_time": "2021-10-12T06:53:06.988Z"
   },
   {
    "duration": 8303,
    "start_time": "2021-10-12T06:53:07.038Z"
   },
   {
    "duration": 14523,
    "start_time": "2021-10-12T06:53:15.342Z"
   },
   {
    "duration": 22,
    "start_time": "2021-10-12T06:53:29.866Z"
   },
   {
    "duration": 36,
    "start_time": "2021-10-12T06:53:29.890Z"
   },
   {
    "duration": 8,
    "start_time": "2021-10-12T07:01:35.135Z"
   },
   {
    "duration": 8,
    "start_time": "2021-10-12T07:05:41.826Z"
   },
   {
    "duration": 11,
    "start_time": "2021-10-12T07:07:56.128Z"
   },
   {
    "duration": 5,
    "start_time": "2021-10-12T07:08:16.500Z"
   },
   {
    "duration": 7,
    "start_time": "2021-10-12T07:12:41.731Z"
   },
   {
    "duration": 1456,
    "start_time": "2021-10-12T07:12:49.080Z"
   },
   {
    "duration": 7,
    "start_time": "2021-10-12T07:12:50.537Z"
   },
   {
    "duration": 11,
    "start_time": "2021-10-12T07:12:50.545Z"
   },
   {
    "duration": 31,
    "start_time": "2021-10-12T07:12:50.576Z"
   },
   {
    "duration": 4,
    "start_time": "2021-10-12T07:12:50.609Z"
   },
   {
    "duration": 20,
    "start_time": "2021-10-12T07:12:50.614Z"
   },
   {
    "duration": 45,
    "start_time": "2021-10-12T07:12:50.636Z"
   },
   {
    "duration": 11,
    "start_time": "2021-10-12T07:12:50.683Z"
   },
   {
    "duration": 11,
    "start_time": "2021-10-12T07:12:50.696Z"
   },
   {
    "duration": 6,
    "start_time": "2021-10-12T07:12:50.708Z"
   },
   {
    "duration": 66,
    "start_time": "2021-10-12T07:12:50.715Z"
   },
   {
    "duration": 7506,
    "start_time": "2021-10-12T07:12:50.783Z"
   },
   {
    "duration": 13415,
    "start_time": "2021-10-12T07:12:58.291Z"
   },
   {
    "duration": 8,
    "start_time": "2021-10-12T07:13:11.708Z"
   },
   {
    "duration": 20,
    "start_time": "2021-10-12T07:16:56.157Z"
   },
   {
    "duration": 1463,
    "start_time": "2021-10-12T07:19:24.937Z"
   },
   {
    "duration": 7,
    "start_time": "2021-10-12T07:19:26.402Z"
   },
   {
    "duration": 6,
    "start_time": "2021-10-12T07:19:26.411Z"
   },
   {
    "duration": 64,
    "start_time": "2021-10-12T07:19:26.420Z"
   },
   {
    "duration": 5,
    "start_time": "2021-10-12T07:19:26.486Z"
   },
   {
    "duration": 21,
    "start_time": "2021-10-12T07:19:26.493Z"
   },
   {
    "duration": 30,
    "start_time": "2021-10-12T07:19:26.515Z"
   },
   {
    "duration": 32,
    "start_time": "2021-10-12T07:19:26.547Z"
   },
   {
    "duration": 12,
    "start_time": "2021-10-12T07:19:26.581Z"
   },
   {
    "duration": 6,
    "start_time": "2021-10-12T07:19:26.594Z"
   },
   {
    "duration": 44,
    "start_time": "2021-10-12T07:19:26.601Z"
   },
   {
    "duration": 8771,
    "start_time": "2021-10-12T07:19:26.677Z"
   },
   {
    "duration": 14449,
    "start_time": "2021-10-12T07:19:35.450Z"
   },
   {
    "duration": 7,
    "start_time": "2021-10-12T07:19:49.901Z"
   },
   {
    "duration": 365,
    "start_time": "2021-10-12T07:19:49.909Z"
   },
   {
    "duration": 67,
    "start_time": "2021-10-12T07:20:12.329Z"
   },
   {
    "duration": 21,
    "start_time": "2021-10-12T07:21:09.498Z"
   },
   {
    "duration": 7,
    "start_time": "2021-10-12T07:21:28.750Z"
   },
   {
    "duration": 63,
    "start_time": "2021-10-12T07:22:36.868Z"
   },
   {
    "duration": 12,
    "start_time": "2021-10-12T07:22:51.799Z"
   },
   {
    "duration": 96,
    "start_time": "2021-10-12T07:39:50.091Z"
   },
   {
    "duration": 6251,
    "start_time": "2021-10-12T07:39:56.490Z"
   },
   {
    "duration": 1488,
    "start_time": "2021-10-12T07:40:46.900Z"
   },
   {
    "duration": 6,
    "start_time": "2021-10-12T07:40:48.390Z"
   },
   {
    "duration": 8,
    "start_time": "2021-10-12T07:40:48.398Z"
   },
   {
    "duration": 37,
    "start_time": "2021-10-12T07:40:48.409Z"
   },
   {
    "duration": 31,
    "start_time": "2021-10-12T07:40:48.448Z"
   },
   {
    "duration": 21,
    "start_time": "2021-10-12T07:40:48.481Z"
   },
   {
    "duration": 26,
    "start_time": "2021-10-12T07:40:48.504Z"
   },
   {
    "duration": 11,
    "start_time": "2021-10-12T07:40:48.532Z"
   },
   {
    "duration": 36,
    "start_time": "2021-10-12T07:40:48.545Z"
   },
   {
    "duration": 11,
    "start_time": "2021-10-12T07:40:48.583Z"
   },
   {
    "duration": 45,
    "start_time": "2021-10-12T07:40:48.596Z"
   },
   {
    "duration": 7809,
    "start_time": "2021-10-12T07:40:48.643Z"
   },
   {
    "duration": 13934,
    "start_time": "2021-10-12T07:40:56.454Z"
   },
   {
    "duration": 8,
    "start_time": "2021-10-12T07:41:10.390Z"
   },
   {
    "duration": 13,
    "start_time": "2021-10-12T07:41:10.399Z"
   },
   {
    "duration": 7304,
    "start_time": "2021-10-12T07:41:10.413Z"
   },
   {
    "duration": 49,
    "start_time": "2021-10-12T07:42:19.948Z"
   },
   {
    "duration": 6588,
    "start_time": "2021-10-12T07:42:37.210Z"
   },
   {
    "duration": 6244,
    "start_time": "2021-10-12T07:43:43.436Z"
   },
   {
    "duration": 7116,
    "start_time": "2021-10-12T07:44:44.967Z"
   },
   {
    "duration": 9540,
    "start_time": "2021-10-12T07:44:56.124Z"
   },
   {
    "duration": 8665,
    "start_time": "2021-10-12T07:45:27.156Z"
   },
   {
    "duration": 6300,
    "start_time": "2021-10-12T07:45:46.848Z"
   },
   {
    "duration": 7022,
    "start_time": "2021-10-12T07:46:13.613Z"
   },
   {
    "duration": 4,
    "start_time": "2021-10-12T07:46:55.986Z"
   },
   {
    "duration": 1492,
    "start_time": "2021-10-12T07:47:14.268Z"
   },
   {
    "duration": 7,
    "start_time": "2021-10-12T07:47:15.776Z"
   },
   {
    "duration": 7,
    "start_time": "2021-10-12T07:47:15.785Z"
   },
   {
    "duration": 44,
    "start_time": "2021-10-12T07:47:15.794Z"
   },
   {
    "duration": 5,
    "start_time": "2021-10-12T07:47:15.840Z"
   },
   {
    "duration": 33,
    "start_time": "2021-10-12T07:47:15.847Z"
   },
   {
    "duration": 28,
    "start_time": "2021-10-12T07:47:15.882Z"
   },
   {
    "duration": 10,
    "start_time": "2021-10-12T07:47:15.913Z"
   },
   {
    "duration": 16,
    "start_time": "2021-10-12T07:47:15.926Z"
   },
   {
    "duration": 3,
    "start_time": "2021-10-12T07:47:15.945Z"
   },
   {
    "duration": 64,
    "start_time": "2021-10-12T07:47:15.949Z"
   },
   {
    "duration": 7542,
    "start_time": "2021-10-12T07:47:16.015Z"
   },
   {
    "duration": 13365,
    "start_time": "2021-10-12T07:47:23.558Z"
   },
   {
    "duration": 7,
    "start_time": "2021-10-12T07:47:36.924Z"
   },
   {
    "duration": 72,
    "start_time": "2021-10-12T07:47:36.933Z"
   },
   {
    "duration": 4,
    "start_time": "2021-10-12T07:47:37.006Z"
   },
   {
    "duration": 6309,
    "start_time": "2021-10-12T07:47:37.011Z"
   },
   {
    "duration": -57,
    "start_time": "2021-10-12T07:47:43.379Z"
   },
   {
    "duration": 6,
    "start_time": "2021-10-12T07:48:50.579Z"
   },
   {
    "duration": 4768,
    "start_time": "2021-10-12T07:48:55.633Z"
   },
   {
    "duration": 1476,
    "start_time": "2021-10-12T07:49:23.601Z"
   },
   {
    "duration": 7,
    "start_time": "2021-10-12T07:49:25.079Z"
   },
   {
    "duration": 8,
    "start_time": "2021-10-12T07:49:25.089Z"
   },
   {
    "duration": 36,
    "start_time": "2021-10-12T07:49:25.099Z"
   },
   {
    "duration": 4,
    "start_time": "2021-10-12T07:49:25.137Z"
   },
   {
    "duration": 44,
    "start_time": "2021-10-12T07:49:25.143Z"
   },
   {
    "duration": 28,
    "start_time": "2021-10-12T07:49:25.189Z"
   },
   {
    "duration": 10,
    "start_time": "2021-10-12T07:49:25.219Z"
   },
   {
    "duration": 11,
    "start_time": "2021-10-12T07:49:25.232Z"
   },
   {
    "duration": 12,
    "start_time": "2021-10-12T07:49:25.245Z"
   },
   {
    "duration": 62,
    "start_time": "2021-10-12T07:49:25.259Z"
   },
   {
    "duration": 7794,
    "start_time": "2021-10-12T07:49:25.323Z"
   },
   {
    "duration": 13527,
    "start_time": "2021-10-12T07:49:33.118Z"
   },
   {
    "duration": 7,
    "start_time": "2021-10-12T07:49:46.646Z"
   },
   {
    "duration": 66,
    "start_time": "2021-10-12T07:49:46.655Z"
   },
   {
    "duration": 5,
    "start_time": "2021-10-12T07:49:46.723Z"
   },
   {
    "duration": 4833,
    "start_time": "2021-10-12T07:49:46.730Z"
   },
   {
    "duration": -72,
    "start_time": "2021-10-12T07:49:51.637Z"
   },
   {
    "duration": 8372,
    "start_time": "2021-10-12T07:50:06.457Z"
   },
   {
    "duration": 9791,
    "start_time": "2021-10-12T07:50:45.749Z"
   },
   {
    "duration": 7209,
    "start_time": "2021-10-12T07:51:02.263Z"
   },
   {
    "duration": 4717,
    "start_time": "2021-10-12T07:51:21.070Z"
   },
   {
    "duration": 1481,
    "start_time": "2021-10-12T07:52:03.055Z"
   },
   {
    "duration": 6,
    "start_time": "2021-10-12T07:52:04.538Z"
   },
   {
    "duration": 22,
    "start_time": "2021-10-12T07:52:04.546Z"
   },
   {
    "duration": 35,
    "start_time": "2021-10-12T07:52:04.577Z"
   },
   {
    "duration": 4,
    "start_time": "2021-10-12T07:52:04.614Z"
   },
   {
    "duration": 24,
    "start_time": "2021-10-12T07:52:04.620Z"
   },
   {
    "duration": 58,
    "start_time": "2021-10-12T07:52:04.645Z"
   },
   {
    "duration": 11,
    "start_time": "2021-10-12T07:52:04.705Z"
   },
   {
    "duration": 11,
    "start_time": "2021-10-12T07:52:04.718Z"
   },
   {
    "duration": 5,
    "start_time": "2021-10-12T07:52:04.731Z"
   },
   {
    "duration": 63,
    "start_time": "2021-10-12T07:52:04.738Z"
   },
   {
    "duration": 7620,
    "start_time": "2021-10-12T07:52:04.803Z"
   },
   {
    "duration": 13471,
    "start_time": "2021-10-12T07:52:12.425Z"
   },
   {
    "duration": 9,
    "start_time": "2021-10-12T07:52:25.898Z"
   },
   {
    "duration": 78,
    "start_time": "2021-10-12T07:52:25.909Z"
   },
   {
    "duration": 5,
    "start_time": "2021-10-12T07:52:25.989Z"
   },
   {
    "duration": 6367,
    "start_time": "2021-10-12T07:52:25.996Z"
   },
   {
    "duration": -96,
    "start_time": "2021-10-12T07:52:32.461Z"
   },
   {
    "duration": 7731,
    "start_time": "2021-10-12T07:52:39.838Z"
   },
   {
    "duration": 6,
    "start_time": "2021-10-12T07:53:07.333Z"
   },
   {
    "duration": 4817,
    "start_time": "2021-10-12T07:53:18.267Z"
   },
   {
    "duration": 8,
    "start_time": "2021-10-12T07:57:25.829Z"
   },
   {
    "duration": 5499,
    "start_time": "2021-10-12T07:57:36.534Z"
   },
   {
    "duration": 4,
    "start_time": "2021-10-12T07:58:18.977Z"
   },
   {
    "duration": 8,
    "start_time": "2021-10-12T07:59:02.915Z"
   },
   {
    "duration": 14,
    "start_time": "2021-10-12T08:02:47.083Z"
   },
   {
    "duration": 8,
    "start_time": "2021-10-12T08:02:50.501Z"
   },
   {
    "duration": 4675,
    "start_time": "2021-10-12T08:03:20.041Z"
   },
   {
    "duration": 14,
    "start_time": "2021-10-12T08:03:49.159Z"
   },
   {
    "duration": 5,
    "start_time": "2021-10-12T08:04:32.384Z"
   },
   {
    "duration": 4,
    "start_time": "2021-10-12T08:04:40.787Z"
   },
   {
    "duration": 1505,
    "start_time": "2021-10-12T08:04:55.041Z"
   },
   {
    "duration": 6,
    "start_time": "2021-10-12T08:04:56.548Z"
   },
   {
    "duration": 24,
    "start_time": "2021-10-12T08:04:56.556Z"
   },
   {
    "duration": 40,
    "start_time": "2021-10-12T08:04:56.582Z"
   },
   {
    "duration": 4,
    "start_time": "2021-10-12T08:04:56.624Z"
   },
   {
    "duration": 32,
    "start_time": "2021-10-12T08:04:56.630Z"
   },
   {
    "duration": 33,
    "start_time": "2021-10-12T08:04:56.664Z"
   },
   {
    "duration": 10,
    "start_time": "2021-10-12T08:04:56.699Z"
   },
   {
    "duration": 21,
    "start_time": "2021-10-12T08:04:56.712Z"
   },
   {
    "duration": 17,
    "start_time": "2021-10-12T08:04:56.735Z"
   },
   {
    "duration": 54,
    "start_time": "2021-10-12T08:04:56.754Z"
   },
   {
    "duration": 7698,
    "start_time": "2021-10-12T08:04:56.810Z"
   },
   {
    "duration": 13527,
    "start_time": "2021-10-12T08:05:04.510Z"
   },
   {
    "duration": 8,
    "start_time": "2021-10-12T08:05:18.039Z"
   },
   {
    "duration": 72,
    "start_time": "2021-10-12T08:05:18.049Z"
   },
   {
    "duration": 14,
    "start_time": "2021-10-12T08:05:18.123Z"
   },
   {
    "duration": 5243,
    "start_time": "2021-10-12T08:05:18.139Z"
   },
   {
    "duration": 4878,
    "start_time": "2021-10-12T08:05:44.510Z"
   },
   {
    "duration": 6,
    "start_time": "2021-10-12T08:06:46.650Z"
   },
   {
    "duration": 6,
    "start_time": "2021-10-12T08:07:06.781Z"
   },
   {
    "duration": 293,
    "start_time": "2021-10-12T08:07:19.603Z"
   },
   {
    "duration": 1501,
    "start_time": "2021-10-12T08:07:30.801Z"
   },
   {
    "duration": 8,
    "start_time": "2021-10-12T08:07:32.304Z"
   },
   {
    "duration": 18,
    "start_time": "2021-10-12T08:07:32.315Z"
   },
   {
    "duration": 68,
    "start_time": "2021-10-12T08:07:32.336Z"
   },
   {
    "duration": 5,
    "start_time": "2021-10-12T08:07:32.407Z"
   },
   {
    "duration": 28,
    "start_time": "2021-10-12T08:07:32.414Z"
   },
   {
    "duration": 56,
    "start_time": "2021-10-12T08:07:32.444Z"
   },
   {
    "duration": 13,
    "start_time": "2021-10-12T08:07:32.502Z"
   },
   {
    "duration": 13,
    "start_time": "2021-10-12T08:07:32.519Z"
   },
   {
    "duration": 5,
    "start_time": "2021-10-12T08:07:32.534Z"
   },
   {
    "duration": 68,
    "start_time": "2021-10-12T08:07:32.541Z"
   },
   {
    "duration": 7443,
    "start_time": "2021-10-12T08:07:32.611Z"
   },
   {
    "duration": 13422,
    "start_time": "2021-10-12T08:07:40.056Z"
   },
   {
    "duration": 7,
    "start_time": "2021-10-12T08:07:53.479Z"
   },
   {
    "duration": 51,
    "start_time": "2021-10-12T08:07:53.487Z"
   },
   {
    "duration": 42,
    "start_time": "2021-10-12T08:07:53.540Z"
   },
   {
    "duration": 6,
    "start_time": "2021-10-12T08:07:53.584Z"
   },
   {
    "duration": 136,
    "start_time": "2021-10-12T08:07:53.592Z"
   },
   {
    "duration": 6,
    "start_time": "2021-10-12T08:08:38.574Z"
   },
   {
    "duration": 1940,
    "start_time": "2021-10-12T08:09:25.374Z"
   },
   {
    "duration": 7,
    "start_time": "2021-10-12T08:09:27.316Z"
   },
   {
    "duration": 8,
    "start_time": "2021-10-12T08:09:27.326Z"
   },
   {
    "duration": 68,
    "start_time": "2021-10-12T08:09:27.336Z"
   },
   {
    "duration": 5,
    "start_time": "2021-10-12T08:09:27.406Z"
   },
   {
    "duration": 20,
    "start_time": "2021-10-12T08:09:27.414Z"
   },
   {
    "duration": 55,
    "start_time": "2021-10-12T08:09:27.436Z"
   },
   {
    "duration": 13,
    "start_time": "2021-10-12T08:09:27.493Z"
   },
   {
    "duration": 12,
    "start_time": "2021-10-12T08:09:27.509Z"
   },
   {
    "duration": 12,
    "start_time": "2021-10-12T08:09:27.523Z"
   },
   {
    "duration": 68,
    "start_time": "2021-10-12T08:09:27.537Z"
   },
   {
    "duration": 7550,
    "start_time": "2021-10-12T08:09:27.607Z"
   },
   {
    "duration": 13534,
    "start_time": "2021-10-12T08:09:35.159Z"
   },
   {
    "duration": 7,
    "start_time": "2021-10-12T08:09:48.695Z"
   },
   {
    "duration": 74,
    "start_time": "2021-10-12T08:09:48.704Z"
   },
   {
    "duration": 11,
    "start_time": "2021-10-12T08:09:48.780Z"
   },
   {
    "duration": 136,
    "start_time": "2021-10-12T08:09:48.792Z"
   },
   {
    "duration": 1463,
    "start_time": "2021-10-12T08:10:11.536Z"
   },
   {
    "duration": 7,
    "start_time": "2021-10-12T08:10:13.001Z"
   },
   {
    "duration": 18,
    "start_time": "2021-10-12T08:10:13.011Z"
   },
   {
    "duration": 105,
    "start_time": "2021-10-12T08:10:13.032Z"
   },
   {
    "duration": 4,
    "start_time": "2021-10-12T08:10:13.139Z"
   },
   {
    "duration": 35,
    "start_time": "2021-10-12T08:10:13.145Z"
   },
   {
    "duration": 29,
    "start_time": "2021-10-12T08:10:13.182Z"
   },
   {
    "duration": 10,
    "start_time": "2021-10-12T08:10:13.214Z"
   },
   {
    "duration": 26,
    "start_time": "2021-10-12T08:10:13.226Z"
   },
   {
    "duration": 9,
    "start_time": "2021-10-12T08:10:13.254Z"
   },
   {
    "duration": 60,
    "start_time": "2021-10-12T08:10:13.265Z"
   },
   {
    "duration": 7749,
    "start_time": "2021-10-12T08:10:13.327Z"
   },
   {
    "duration": 13509,
    "start_time": "2021-10-12T08:10:21.078Z"
   },
   {
    "duration": 8,
    "start_time": "2021-10-12T08:10:34.589Z"
   },
   {
    "duration": 79,
    "start_time": "2021-10-12T08:10:34.599Z"
   },
   {
    "duration": 12,
    "start_time": "2021-10-12T08:10:34.680Z"
   },
   {
    "duration": 8384,
    "start_time": "2021-10-12T08:10:34.694Z"
   },
   {
    "duration": 8876,
    "start_time": "2021-10-12T08:12:38.338Z"
   },
   {
    "duration": 294,
    "start_time": "2021-10-12T08:13:13.978Z"
   },
   {
    "duration": 5,
    "start_time": "2021-10-12T08:13:21.169Z"
   },
   {
    "duration": 4,
    "start_time": "2021-10-12T08:13:27.026Z"
   },
   {
    "duration": 13,
    "start_time": "2021-10-12T08:13:52.150Z"
   },
   {
    "duration": 11,
    "start_time": "2021-10-12T08:17:39.633Z"
   },
   {
    "duration": 47,
    "start_time": "2021-10-12T08:18:01.965Z"
   },
   {
    "duration": 10,
    "start_time": "2021-10-12T08:18:16.205Z"
   },
   {
    "duration": 733,
    "start_time": "2021-10-12T08:21:58.858Z"
   },
   {
    "duration": 1583,
    "start_time": "2021-10-12T08:22:10.077Z"
   },
   {
    "duration": 20,
    "start_time": "2021-10-12T08:22:11.662Z"
   },
   {
    "duration": 8,
    "start_time": "2021-10-12T08:22:11.684Z"
   },
   {
    "duration": 32,
    "start_time": "2021-10-12T08:22:11.694Z"
   },
   {
    "duration": 4,
    "start_time": "2021-10-12T08:22:11.728Z"
   },
   {
    "duration": 46,
    "start_time": "2021-10-12T08:22:11.734Z"
   },
   {
    "duration": 29,
    "start_time": "2021-10-12T08:22:11.782Z"
   },
   {
    "duration": 12,
    "start_time": "2021-10-12T08:22:11.814Z"
   },
   {
    "duration": 15,
    "start_time": "2021-10-12T08:22:11.828Z"
   },
   {
    "duration": 16,
    "start_time": "2021-10-12T08:22:11.845Z"
   },
   {
    "duration": 54,
    "start_time": "2021-10-12T08:22:11.863Z"
   },
   {
    "duration": 8021,
    "start_time": "2021-10-12T08:22:11.920Z"
   },
   {
    "duration": 14585,
    "start_time": "2021-10-12T08:22:19.943Z"
   },
   {
    "duration": 16,
    "start_time": "2021-10-12T08:22:34.530Z"
   },
   {
    "duration": 41,
    "start_time": "2021-10-12T08:22:34.548Z"
   },
   {
    "duration": 13332,
    "start_time": "2021-10-12T08:22:34.591Z"
   },
   {
    "duration": 11,
    "start_time": "2021-10-12T08:22:52.171Z"
   },
   {
    "duration": 5,
    "start_time": "2021-10-12T08:23:06.768Z"
   },
   {
    "duration": 636,
    "start_time": "2021-10-12T08:23:13.571Z"
   },
   {
    "duration": 1643,
    "start_time": "2021-10-12T08:23:21.604Z"
   },
   {
    "duration": 6,
    "start_time": "2021-10-12T08:23:23.249Z"
   },
   {
    "duration": 5,
    "start_time": "2021-10-12T08:23:23.278Z"
   },
   {
    "duration": 36,
    "start_time": "2021-10-12T08:23:23.286Z"
   },
   {
    "duration": 4,
    "start_time": "2021-10-12T08:23:23.324Z"
   },
   {
    "duration": 21,
    "start_time": "2021-10-12T08:23:23.329Z"
   },
   {
    "duration": 115,
    "start_time": "2021-10-12T08:23:23.352Z"
   },
   {
    "duration": 10,
    "start_time": "2021-10-12T08:23:23.469Z"
   },
   {
    "duration": 11,
    "start_time": "2021-10-12T08:23:23.482Z"
   },
   {
    "duration": 4,
    "start_time": "2021-10-12T08:23:23.495Z"
   },
   {
    "duration": 54,
    "start_time": "2021-10-12T08:23:23.501Z"
   },
   {
    "duration": 7975,
    "start_time": "2021-10-12T08:23:23.576Z"
   },
   {
    "duration": 14192,
    "start_time": "2021-10-12T08:23:31.553Z"
   },
   {
    "duration": 10,
    "start_time": "2021-10-12T08:23:45.747Z"
   },
   {
    "duration": 42,
    "start_time": "2021-10-12T08:23:45.759Z"
   },
   {
    "duration": 11448,
    "start_time": "2021-10-12T08:23:45.802Z"
   },
   {
    "duration": 493,
    "start_time": "2021-10-12T08:25:13.083Z"
   },
   {
    "duration": 1500,
    "start_time": "2021-10-12T08:25:21.386Z"
   },
   {
    "duration": 5,
    "start_time": "2021-10-12T08:25:22.888Z"
   },
   {
    "duration": 7,
    "start_time": "2021-10-12T08:25:22.895Z"
   },
   {
    "duration": 35,
    "start_time": "2021-10-12T08:25:22.905Z"
   },
   {
    "duration": 35,
    "start_time": "2021-10-12T08:25:22.942Z"
   },
   {
    "duration": 19,
    "start_time": "2021-10-12T08:25:22.980Z"
   },
   {
    "duration": 25,
    "start_time": "2021-10-12T08:25:23.001Z"
   },
   {
    "duration": 11,
    "start_time": "2021-10-12T08:25:23.029Z"
   },
   {
    "duration": 37,
    "start_time": "2021-10-12T08:25:23.042Z"
   },
   {
    "duration": 4,
    "start_time": "2021-10-12T08:25:23.081Z"
   },
   {
    "duration": 46,
    "start_time": "2021-10-12T08:25:23.086Z"
   },
   {
    "duration": 8149,
    "start_time": "2021-10-12T08:25:23.134Z"
   },
   {
    "duration": 14195,
    "start_time": "2021-10-12T08:25:31.285Z"
   },
   {
    "duration": 10,
    "start_time": "2021-10-12T08:25:45.482Z"
   },
   {
    "duration": 505,
    "start_time": "2021-10-12T08:25:45.494Z"
   },
   {
    "duration": -242,
    "start_time": "2021-10-12T08:25:46.243Z"
   },
   {
    "duration": 163,
    "start_time": "2021-10-12T08:30:04.362Z"
   },
   {
    "duration": 10207,
    "start_time": "2021-10-12T08:30:18.616Z"
   },
   {
    "duration": 534,
    "start_time": "2021-10-12T08:31:28.763Z"
   },
   {
    "duration": 1636,
    "start_time": "2021-10-12T08:31:55.982Z"
   },
   {
    "duration": 7,
    "start_time": "2021-10-12T08:31:57.620Z"
   },
   {
    "duration": 9,
    "start_time": "2021-10-12T08:31:57.629Z"
   },
   {
    "duration": 62,
    "start_time": "2021-10-12T08:31:57.641Z"
   },
   {
    "duration": 4,
    "start_time": "2021-10-12T08:31:57.706Z"
   },
   {
    "duration": 26,
    "start_time": "2021-10-12T08:31:57.712Z"
   },
   {
    "duration": 40,
    "start_time": "2021-10-12T08:31:57.740Z"
   },
   {
    "duration": 11,
    "start_time": "2021-10-12T08:31:57.782Z"
   },
   {
    "duration": 11,
    "start_time": "2021-10-12T08:31:57.796Z"
   },
   {
    "duration": 4,
    "start_time": "2021-10-12T08:31:57.809Z"
   },
   {
    "duration": 74,
    "start_time": "2021-10-12T08:31:57.815Z"
   },
   {
    "duration": 8097,
    "start_time": "2021-10-12T08:31:57.891Z"
   },
   {
    "duration": 14577,
    "start_time": "2021-10-12T08:32:05.990Z"
   },
   {
    "duration": 12,
    "start_time": "2021-10-12T08:32:20.569Z"
   },
   {
    "duration": 13207,
    "start_time": "2021-10-12T08:32:20.583Z"
   },
   {
    "duration": -129,
    "start_time": "2021-10-12T08:32:33.921Z"
   },
   {
    "duration": -131,
    "start_time": "2021-10-12T08:32:33.924Z"
   },
   {
    "duration": -133,
    "start_time": "2021-10-12T08:32:33.927Z"
   },
   {
    "duration": 21,
    "start_time": "2021-10-12T08:32:55.092Z"
   },
   {
    "duration": 544,
    "start_time": "2021-10-12T08:33:18.727Z"
   },
   {
    "duration": 1640,
    "start_time": "2021-10-12T08:33:27.806Z"
   },
   {
    "duration": 6,
    "start_time": "2021-10-12T08:33:29.448Z"
   },
   {
    "duration": 25,
    "start_time": "2021-10-12T08:33:29.456Z"
   },
   {
    "duration": 34,
    "start_time": "2021-10-12T08:33:29.484Z"
   },
   {
    "duration": 4,
    "start_time": "2021-10-12T08:33:29.520Z"
   },
   {
    "duration": 22,
    "start_time": "2021-10-12T08:33:29.526Z"
   },
   {
    "duration": 63,
    "start_time": "2021-10-12T08:33:29.550Z"
   },
   {
    "duration": 10,
    "start_time": "2021-10-12T08:33:29.615Z"
   },
   {
    "duration": 12,
    "start_time": "2021-10-12T08:33:29.628Z"
   },
   {
    "duration": 4,
    "start_time": "2021-10-12T08:33:29.642Z"
   },
   {
    "duration": 62,
    "start_time": "2021-10-12T08:33:29.648Z"
   },
   {
    "duration": 7840,
    "start_time": "2021-10-12T08:33:29.712Z"
   },
   {
    "duration": 14509,
    "start_time": "2021-10-12T08:33:37.553Z"
   },
   {
    "duration": 18,
    "start_time": "2021-10-12T08:33:52.064Z"
   },
   {
    "duration": 12681,
    "start_time": "2021-10-12T08:33:52.084Z"
   },
   {
    "duration": -349,
    "start_time": "2021-10-12T08:34:05.116Z"
   },
   {
    "duration": -350,
    "start_time": "2021-10-12T08:34:05.119Z"
   },
   {
    "duration": -353,
    "start_time": "2021-10-12T08:34:05.123Z"
   },
   {
    "duration": -565,
    "start_time": "2021-10-12T08:34:37.832Z"
   },
   {
    "duration": 14,
    "start_time": "2021-10-12T08:34:39.881Z"
   },
   {
    "duration": 1489,
    "start_time": "2021-10-12T08:37:23.340Z"
   },
   {
    "duration": 5,
    "start_time": "2021-10-12T08:37:24.831Z"
   },
   {
    "duration": 14,
    "start_time": "2021-10-12T08:37:24.838Z"
   },
   {
    "duration": 56,
    "start_time": "2021-10-12T08:37:24.854Z"
   },
   {
    "duration": 4,
    "start_time": "2021-10-12T08:37:24.912Z"
   },
   {
    "duration": 32,
    "start_time": "2021-10-12T08:37:24.917Z"
   },
   {
    "duration": 30,
    "start_time": "2021-10-12T08:37:24.950Z"
   },
   {
    "duration": 10,
    "start_time": "2021-10-12T08:37:24.981Z"
   },
   {
    "duration": 11,
    "start_time": "2021-10-12T08:37:24.994Z"
   },
   {
    "duration": 9,
    "start_time": "2021-10-12T08:37:25.007Z"
   },
   {
    "duration": 67,
    "start_time": "2021-10-12T08:37:25.018Z"
   },
   {
    "duration": 8361,
    "start_time": "2021-10-12T08:37:25.087Z"
   },
   {
    "duration": 14128,
    "start_time": "2021-10-12T08:37:33.450Z"
   },
   {
    "duration": 10,
    "start_time": "2021-10-12T08:37:47.580Z"
   },
   {
    "duration": 41,
    "start_time": "2021-10-12T08:37:47.592Z"
   },
   {
    "duration": 387,
    "start_time": "2021-10-12T08:37:47.634Z"
   },
   {
    "duration": -115,
    "start_time": "2021-10-12T08:37:48.138Z"
   },
   {
    "duration": -119,
    "start_time": "2021-10-12T08:37:48.143Z"
   },
   {
    "duration": -121,
    "start_time": "2021-10-12T08:37:48.146Z"
   },
   {
    "duration": 18,
    "start_time": "2021-10-12T08:38:05.699Z"
   },
   {
    "duration": 16,
    "start_time": "2021-10-12T08:38:29.743Z"
   },
   {
    "duration": 19,
    "start_time": "2021-10-12T08:39:35.263Z"
   },
   {
    "duration": 17,
    "start_time": "2021-10-12T08:39:48.239Z"
   },
   {
    "duration": 1473,
    "start_time": "2021-10-12T08:40:15.116Z"
   },
   {
    "duration": 6,
    "start_time": "2021-10-12T08:40:16.591Z"
   },
   {
    "duration": 9,
    "start_time": "2021-10-12T08:40:16.599Z"
   },
   {
    "duration": 36,
    "start_time": "2021-10-12T08:40:16.610Z"
   },
   {
    "duration": 4,
    "start_time": "2021-10-12T08:40:16.648Z"
   },
   {
    "duration": 22,
    "start_time": "2021-10-12T08:40:16.677Z"
   },
   {
    "duration": 31,
    "start_time": "2021-10-12T08:40:16.701Z"
   },
   {
    "duration": 11,
    "start_time": "2021-10-12T08:40:16.734Z"
   },
   {
    "duration": 38,
    "start_time": "2021-10-12T08:40:16.749Z"
   },
   {
    "duration": 6,
    "start_time": "2021-10-12T08:40:16.789Z"
   },
   {
    "duration": 46,
    "start_time": "2021-10-12T08:40:16.797Z"
   },
   {
    "duration": 7540,
    "start_time": "2021-10-12T08:40:16.845Z"
   },
   {
    "duration": 13398,
    "start_time": "2021-10-12T08:40:24.387Z"
   },
   {
    "duration": 9,
    "start_time": "2021-10-12T08:40:37.787Z"
   },
   {
    "duration": 18,
    "start_time": "2021-10-12T08:40:37.797Z"
   },
   {
    "duration": 390,
    "start_time": "2021-10-12T08:40:37.816Z"
   },
   {
    "duration": -40,
    "start_time": "2021-10-12T08:40:38.247Z"
   },
   {
    "duration": -42,
    "start_time": "2021-10-12T08:40:38.250Z"
   },
   {
    "duration": 32,
    "start_time": "2021-10-12T08:43:04.241Z"
   },
   {
    "duration": 1495,
    "start_time": "2021-10-12T09:23:24.693Z"
   },
   {
    "duration": 6,
    "start_time": "2021-10-12T09:23:26.190Z"
   },
   {
    "duration": 20,
    "start_time": "2021-10-12T09:23:26.198Z"
   },
   {
    "duration": 52,
    "start_time": "2021-10-12T09:23:26.220Z"
   },
   {
    "duration": 5,
    "start_time": "2021-10-12T09:23:26.274Z"
   },
   {
    "duration": 35,
    "start_time": "2021-10-12T09:23:26.280Z"
   },
   {
    "duration": 42,
    "start_time": "2021-10-12T09:23:26.316Z"
   },
   {
    "duration": 13,
    "start_time": "2021-10-12T09:23:26.362Z"
   },
   {
    "duration": 31,
    "start_time": "2021-10-12T09:23:26.377Z"
   },
   {
    "duration": 29,
    "start_time": "2021-10-12T09:23:26.410Z"
   },
   {
    "duration": 84,
    "start_time": "2021-10-12T09:23:26.441Z"
   },
   {
    "duration": 7675,
    "start_time": "2021-10-12T09:23:26.527Z"
   },
   {
    "duration": 14133,
    "start_time": "2021-10-12T09:23:34.205Z"
   },
   {
    "duration": 10,
    "start_time": "2021-10-12T09:23:48.341Z"
   },
   {
    "duration": 30,
    "start_time": "2021-10-12T09:23:48.352Z"
   },
   {
    "duration": 47,
    "start_time": "2021-10-12T09:23:48.384Z"
   },
   {
    "duration": 416,
    "start_time": "2021-10-12T09:23:48.433Z"
   },
   {
    "duration": -23393,
    "start_time": "2021-10-12T09:24:12.244Z"
   },
   {
    "duration": -23394,
    "start_time": "2021-10-12T09:24:12.246Z"
   },
   {
    "duration": 9384,
    "start_time": "2021-10-12T09:25:50.571Z"
   },
   {
    "duration": 387,
    "start_time": "2021-10-12T09:33:02.448Z"
   },
   {
    "duration": 9,
    "start_time": "2021-10-12T09:33:08.921Z"
   },
   {
    "duration": 1148,
    "start_time": "2021-10-12T09:33:11.073Z"
   },
   {
    "duration": 1344,
    "start_time": "2021-10-12T09:33:30.630Z"
   },
   {
    "duration": 104,
    "start_time": "2021-10-12T09:34:35.177Z"
   },
   {
    "duration": 112,
    "start_time": "2021-10-12T09:34:43.267Z"
   },
   {
    "duration": 1459,
    "start_time": "2021-10-12T09:34:50.619Z"
   },
   {
    "duration": 1467,
    "start_time": "2021-10-12T09:35:37.386Z"
   },
   {
    "duration": 1497,
    "start_time": "2021-10-12T09:35:51.288Z"
   },
   {
    "duration": 6,
    "start_time": "2021-10-12T09:35:52.787Z"
   },
   {
    "duration": 20,
    "start_time": "2021-10-12T09:35:52.795Z"
   },
   {
    "duration": 39,
    "start_time": "2021-10-12T09:35:52.817Z"
   },
   {
    "duration": 5,
    "start_time": "2021-10-12T09:35:52.857Z"
   },
   {
    "duration": 19,
    "start_time": "2021-10-12T09:35:52.877Z"
   },
   {
    "duration": 29,
    "start_time": "2021-10-12T09:35:52.898Z"
   },
   {
    "duration": 17,
    "start_time": "2021-10-12T09:35:52.929Z"
   },
   {
    "duration": 26,
    "start_time": "2021-10-12T09:35:52.948Z"
   },
   {
    "duration": 22,
    "start_time": "2021-10-12T09:35:52.977Z"
   },
   {
    "duration": 72,
    "start_time": "2021-10-12T09:35:53.000Z"
   },
   {
    "duration": 8614,
    "start_time": "2021-10-12T09:35:53.074Z"
   },
   {
    "duration": 15509,
    "start_time": "2021-10-12T09:36:01.691Z"
   },
   {
    "duration": 11,
    "start_time": "2021-10-12T09:36:17.203Z"
   },
   {
    "duration": 16,
    "start_time": "2021-10-12T09:36:17.217Z"
   },
   {
    "duration": 10,
    "start_time": "2021-10-12T09:36:17.235Z"
   },
   {
    "duration": 1137,
    "start_time": "2021-10-12T09:36:17.247Z"
   },
   {
    "duration": 9,
    "start_time": "2021-10-12T09:37:43.023Z"
   },
   {
    "duration": 11,
    "start_time": "2021-10-12T09:38:27.060Z"
   },
   {
    "duration": 1428,
    "start_time": "2021-10-12T09:38:43.389Z"
   },
   {
    "duration": 377,
    "start_time": "2021-10-12T09:39:44.892Z"
   },
   {
    "duration": 17,
    "start_time": "2021-10-12T09:39:51.915Z"
   },
   {
    "duration": 28,
    "start_time": "2021-10-12T09:40:31.679Z"
   },
   {
    "duration": 1032,
    "start_time": "2021-10-12T09:42:18.294Z"
   },
   {
    "duration": 820,
    "start_time": "2021-10-12T09:49:24.011Z"
   },
   {
    "duration": 1525,
    "start_time": "2021-10-12T09:49:43.174Z"
   },
   {
    "duration": 7,
    "start_time": "2021-10-12T09:49:44.701Z"
   },
   {
    "duration": 8,
    "start_time": "2021-10-12T09:49:44.710Z"
   },
   {
    "duration": 57,
    "start_time": "2021-10-12T09:49:44.720Z"
   },
   {
    "duration": 5,
    "start_time": "2021-10-12T09:49:44.779Z"
   },
   {
    "duration": 21,
    "start_time": "2021-10-12T09:49:44.785Z"
   },
   {
    "duration": 29,
    "start_time": "2021-10-12T09:49:44.808Z"
   },
   {
    "duration": 10,
    "start_time": "2021-10-12T09:49:44.839Z"
   },
   {
    "duration": 11,
    "start_time": "2021-10-12T09:49:44.877Z"
   },
   {
    "duration": 5,
    "start_time": "2021-10-12T09:49:44.890Z"
   },
   {
    "duration": 47,
    "start_time": "2021-10-12T09:49:44.897Z"
   },
   {
    "duration": 7700,
    "start_time": "2021-10-12T09:49:44.946Z"
   },
   {
    "duration": 13257,
    "start_time": "2021-10-12T09:49:52.648Z"
   },
   {
    "duration": 10,
    "start_time": "2021-10-12T09:50:05.906Z"
   },
   {
    "duration": 36,
    "start_time": "2021-10-12T09:50:05.918Z"
   },
   {
    "duration": 11,
    "start_time": "2021-10-12T09:50:05.956Z"
   },
   {
    "duration": 55,
    "start_time": "2021-10-12T09:50:05.969Z"
   },
   {
    "duration": 915,
    "start_time": "2021-10-12T09:50:06.025Z"
   },
   {
    "duration": 616,
    "start_time": "2021-10-12T09:55:00.852Z"
   },
   {
    "duration": 14,
    "start_time": "2021-10-12T09:56:09.844Z"
   },
   {
    "duration": 29,
    "start_time": "2021-10-12T09:56:23.439Z"
   },
   {
    "duration": 890,
    "start_time": "2021-10-12T09:56:42.635Z"
   },
   {
    "duration": 1079,
    "start_time": "2021-10-12T09:57:14.882Z"
   },
   {
    "duration": 947,
    "start_time": "2021-10-12T09:57:37.528Z"
   },
   {
    "duration": 884,
    "start_time": "2021-10-12T09:58:00.825Z"
   },
   {
    "duration": 864,
    "start_time": "2021-10-12T09:58:45.484Z"
   },
   {
    "duration": 1684,
    "start_time": "2021-10-12T09:59:27.462Z"
   },
   {
    "duration": 30,
    "start_time": "2021-10-12T09:59:29.148Z"
   },
   {
    "duration": 11,
    "start_time": "2021-10-12T09:59:29.181Z"
   },
   {
    "duration": 47,
    "start_time": "2021-10-12T09:59:29.194Z"
   },
   {
    "duration": 5,
    "start_time": "2021-10-12T09:59:29.243Z"
   },
   {
    "duration": 46,
    "start_time": "2021-10-12T09:59:29.250Z"
   },
   {
    "duration": 30,
    "start_time": "2021-10-12T09:59:29.298Z"
   },
   {
    "duration": 11,
    "start_time": "2021-10-12T09:59:29.331Z"
   },
   {
    "duration": 33,
    "start_time": "2021-10-12T09:59:29.344Z"
   },
   {
    "duration": 4,
    "start_time": "2021-10-12T09:59:29.378Z"
   },
   {
    "duration": 50,
    "start_time": "2021-10-12T09:59:29.383Z"
   },
   {
    "duration": 8098,
    "start_time": "2021-10-12T09:59:29.435Z"
   },
   {
    "duration": 13845,
    "start_time": "2021-10-12T09:59:37.536Z"
   },
   {
    "duration": 9,
    "start_time": "2021-10-12T09:59:51.383Z"
   },
   {
    "duration": 17,
    "start_time": "2021-10-12T09:59:51.394Z"
   },
   {
    "duration": 29,
    "start_time": "2021-10-12T09:59:51.413Z"
   },
   {
    "duration": 55,
    "start_time": "2021-10-12T09:59:51.444Z"
   },
   {
    "duration": 1045,
    "start_time": "2021-10-12T09:59:51.501Z"
   },
   {
    "duration": 26,
    "start_time": "2021-10-12T10:02:27.334Z"
   },
   {
    "duration": 833,
    "start_time": "2021-10-12T10:04:57.100Z"
   },
   {
    "duration": 4,
    "start_time": "2021-10-12T10:06:06.264Z"
   },
   {
    "duration": 5,
    "start_time": "2021-10-12T10:06:21.342Z"
   },
   {
    "duration": 4,
    "start_time": "2021-10-12T10:06:26.481Z"
   },
   {
    "duration": 1544,
    "start_time": "2021-10-12T10:06:41.234Z"
   },
   {
    "duration": 6,
    "start_time": "2021-10-12T10:06:42.780Z"
   },
   {
    "duration": 11,
    "start_time": "2021-10-12T10:06:42.789Z"
   },
   {
    "duration": 33,
    "start_time": "2021-10-12T10:06:42.802Z"
   },
   {
    "duration": 5,
    "start_time": "2021-10-12T10:06:42.837Z"
   },
   {
    "duration": 47,
    "start_time": "2021-10-12T10:06:42.844Z"
   },
   {
    "duration": 29,
    "start_time": "2021-10-12T10:06:42.893Z"
   },
   {
    "duration": 11,
    "start_time": "2021-10-12T10:06:42.924Z"
   },
   {
    "duration": 11,
    "start_time": "2021-10-12T10:06:42.938Z"
   },
   {
    "duration": 26,
    "start_time": "2021-10-12T10:06:42.951Z"
   },
   {
    "duration": 45,
    "start_time": "2021-10-12T10:06:42.979Z"
   },
   {
    "duration": 7689,
    "start_time": "2021-10-12T10:06:43.026Z"
   },
   {
    "duration": 13732,
    "start_time": "2021-10-12T10:06:50.717Z"
   },
   {
    "duration": 10,
    "start_time": "2021-10-12T10:07:04.450Z"
   },
   {
    "duration": 32,
    "start_time": "2021-10-12T10:07:04.461Z"
   },
   {
    "duration": 37,
    "start_time": "2021-10-12T10:07:04.495Z"
   },
   {
    "duration": 967,
    "start_time": "2021-10-12T10:07:04.533Z"
   },
   {
    "duration": 1468,
    "start_time": "2021-10-12T10:07:56.813Z"
   },
   {
    "duration": 7,
    "start_time": "2021-10-12T10:07:58.283Z"
   },
   {
    "duration": 9,
    "start_time": "2021-10-12T10:07:58.292Z"
   },
   {
    "duration": 33,
    "start_time": "2021-10-12T10:07:58.303Z"
   },
   {
    "duration": 4,
    "start_time": "2021-10-12T10:07:58.338Z"
   },
   {
    "duration": 45,
    "start_time": "2021-10-12T10:07:58.344Z"
   },
   {
    "duration": 29,
    "start_time": "2021-10-12T10:07:58.391Z"
   },
   {
    "duration": 10,
    "start_time": "2021-10-12T10:07:58.422Z"
   },
   {
    "duration": 11,
    "start_time": "2021-10-12T10:07:58.435Z"
   },
   {
    "duration": 29,
    "start_time": "2021-10-12T10:07:58.448Z"
   },
   {
    "duration": 45,
    "start_time": "2021-10-12T10:07:58.479Z"
   },
   {
    "duration": 8358,
    "start_time": "2021-10-12T10:07:58.526Z"
   },
   {
    "duration": 14542,
    "start_time": "2021-10-12T10:08:06.886Z"
   },
   {
    "duration": 10,
    "start_time": "2021-10-12T10:08:21.430Z"
   },
   {
    "duration": 36,
    "start_time": "2021-10-12T10:08:21.442Z"
   },
   {
    "duration": 40,
    "start_time": "2021-10-12T10:08:21.479Z"
   },
   {
    "duration": 4,
    "start_time": "2021-10-12T10:08:47.665Z"
   },
   {
    "duration": 5,
    "start_time": "2021-10-12T10:08:53.738Z"
   },
   {
    "duration": 4,
    "start_time": "2021-10-12T10:08:59.465Z"
   },
   {
    "duration": 5,
    "start_time": "2021-10-12T10:10:03.097Z"
   },
   {
    "duration": 5,
    "start_time": "2021-10-12T10:10:08.486Z"
   },
   {
    "duration": 374,
    "start_time": "2021-10-12T10:11:16.317Z"
   },
   {
    "duration": 774,
    "start_time": "2021-10-12T10:12:21.428Z"
   },
   {
    "duration": 69,
    "start_time": "2021-10-12T10:25:40.840Z"
   },
   {
    "duration": 32,
    "start_time": "2021-10-12T10:26:15.132Z"
   },
   {
    "duration": 1326,
    "start_time": "2021-10-12T12:05:42.703Z"
   },
   {
    "duration": 6,
    "start_time": "2021-10-12T12:05:44.030Z"
   },
   {
    "duration": 23,
    "start_time": "2021-10-12T12:05:44.038Z"
   },
   {
    "duration": 42,
    "start_time": "2021-10-12T12:05:44.063Z"
   },
   {
    "duration": 4,
    "start_time": "2021-10-12T12:05:44.107Z"
   },
   {
    "duration": 21,
    "start_time": "2021-10-12T12:05:44.113Z"
   },
   {
    "duration": 24,
    "start_time": "2021-10-12T12:05:44.135Z"
   },
   {
    "duration": 9,
    "start_time": "2021-10-12T12:05:44.162Z"
   },
   {
    "duration": 31,
    "start_time": "2021-10-12T12:05:44.173Z"
   },
   {
    "duration": 5,
    "start_time": "2021-10-12T12:05:44.206Z"
   },
   {
    "duration": 49,
    "start_time": "2021-10-12T12:05:44.213Z"
   },
   {
    "duration": 7128,
    "start_time": "2021-10-12T12:05:44.264Z"
   },
   {
    "duration": 12407,
    "start_time": "2021-10-12T12:05:51.399Z"
   },
   {
    "duration": 9,
    "start_time": "2021-10-12T12:06:03.808Z"
   },
   {
    "duration": 15,
    "start_time": "2021-10-12T12:06:03.818Z"
   },
   {
    "duration": 27,
    "start_time": "2021-10-12T12:06:03.834Z"
   },
   {
    "duration": 740,
    "start_time": "2021-10-12T12:06:03.862Z"
   },
   {
    "duration": 742,
    "start_time": "2021-10-12T12:13:07.124Z"
   },
   {
    "duration": 1251,
    "start_time": "2021-10-12T12:13:20.453Z"
   },
   {
    "duration": 5,
    "start_time": "2021-10-12T12:13:21.706Z"
   },
   {
    "duration": 8,
    "start_time": "2021-10-12T12:13:21.714Z"
   },
   {
    "duration": 31,
    "start_time": "2021-10-12T12:13:21.723Z"
   },
   {
    "duration": 5,
    "start_time": "2021-10-12T12:13:21.755Z"
   },
   {
    "duration": 46,
    "start_time": "2021-10-12T12:13:21.761Z"
   },
   {
    "duration": 25,
    "start_time": "2021-10-12T12:13:21.809Z"
   },
   {
    "duration": 9,
    "start_time": "2021-10-12T12:13:21.836Z"
   },
   {
    "duration": 10,
    "start_time": "2021-10-12T12:13:21.847Z"
   },
   {
    "duration": 6,
    "start_time": "2021-10-12T12:13:21.858Z"
   },
   {
    "duration": 69,
    "start_time": "2021-10-12T12:13:21.865Z"
   },
   {
    "duration": 6983,
    "start_time": "2021-10-12T12:13:21.935Z"
   },
   {
    "duration": 12332,
    "start_time": "2021-10-12T12:13:28.919Z"
   },
   {
    "duration": 9,
    "start_time": "2021-10-12T12:13:41.252Z"
   },
   {
    "duration": 33,
    "start_time": "2021-10-12T12:13:41.263Z"
   },
   {
    "duration": 36,
    "start_time": "2021-10-12T12:13:41.298Z"
   },
   {
    "duration": 742,
    "start_time": "2021-10-12T12:13:41.335Z"
   },
   {
    "duration": 48,
    "start_time": "2021-10-12T12:21:43.433Z"
   },
   {
    "duration": 4016,
    "start_time": "2021-10-12T12:22:35.506Z"
   },
   {
    "duration": 815,
    "start_time": "2021-10-12T12:22:48.996Z"
   },
   {
    "duration": 1300,
    "start_time": "2021-10-12T12:23:04.003Z"
   },
   {
    "duration": 6,
    "start_time": "2021-10-12T12:23:05.305Z"
   },
   {
    "duration": 11,
    "start_time": "2021-10-12T12:23:05.313Z"
   },
   {
    "duration": 36,
    "start_time": "2021-10-12T12:23:05.326Z"
   },
   {
    "duration": 4,
    "start_time": "2021-10-12T12:23:05.364Z"
   },
   {
    "duration": 30,
    "start_time": "2021-10-12T12:23:05.369Z"
   },
   {
    "duration": 22,
    "start_time": "2021-10-12T12:23:05.401Z"
   },
   {
    "duration": 11,
    "start_time": "2021-10-12T12:23:05.425Z"
   },
   {
    "duration": 9,
    "start_time": "2021-10-12T12:23:05.438Z"
   },
   {
    "duration": 14,
    "start_time": "2021-10-12T12:23:05.449Z"
   },
   {
    "duration": 54,
    "start_time": "2021-10-12T12:23:05.464Z"
   },
   {
    "duration": 7039,
    "start_time": "2021-10-12T12:23:05.520Z"
   },
   {
    "duration": 12780,
    "start_time": "2021-10-12T12:23:12.561Z"
   },
   {
    "duration": 8,
    "start_time": "2021-10-12T12:23:25.343Z"
   },
   {
    "duration": 15,
    "start_time": "2021-10-12T12:23:25.353Z"
   },
   {
    "duration": 42,
    "start_time": "2021-10-12T12:23:25.369Z"
   },
   {
    "duration": 808,
    "start_time": "2021-10-12T12:23:25.412Z"
   },
   {
    "duration": 844,
    "start_time": "2021-10-12T12:23:26.222Z"
   },
   {
    "duration": 802,
    "start_time": "2021-10-12T12:23:58.707Z"
   },
   {
    "duration": 1275,
    "start_time": "2021-10-12T12:24:12.438Z"
   },
   {
    "duration": 5,
    "start_time": "2021-10-12T12:24:13.715Z"
   },
   {
    "duration": 7,
    "start_time": "2021-10-12T12:24:13.722Z"
   },
   {
    "duration": 31,
    "start_time": "2021-10-12T12:24:13.731Z"
   },
   {
    "duration": 3,
    "start_time": "2021-10-12T12:24:13.764Z"
   },
   {
    "duration": 44,
    "start_time": "2021-10-12T12:24:13.768Z"
   },
   {
    "duration": 25,
    "start_time": "2021-10-12T12:24:13.813Z"
   },
   {
    "duration": 10,
    "start_time": "2021-10-12T12:24:13.840Z"
   },
   {
    "duration": 10,
    "start_time": "2021-10-12T12:24:13.852Z"
   },
   {
    "duration": 6,
    "start_time": "2021-10-12T12:24:13.863Z"
   },
   {
    "duration": 63,
    "start_time": "2021-10-12T12:24:13.870Z"
   },
   {
    "duration": 7032,
    "start_time": "2021-10-12T12:24:13.934Z"
   },
   {
    "duration": 12654,
    "start_time": "2021-10-12T12:24:20.968Z"
   },
   {
    "duration": 8,
    "start_time": "2021-10-12T12:24:33.624Z"
   },
   {
    "duration": 14,
    "start_time": "2021-10-12T12:24:33.633Z"
   },
   {
    "duration": 27,
    "start_time": "2021-10-12T12:24:33.648Z"
   },
   {
    "duration": 695,
    "start_time": "2021-10-12T12:24:33.677Z"
   },
   {
    "duration": 822,
    "start_time": "2021-10-12T12:24:34.374Z"
   },
   {
    "duration": 1305,
    "start_time": "2021-10-12T12:29:13.060Z"
   },
   {
    "duration": 6,
    "start_time": "2021-10-12T12:29:14.366Z"
   },
   {
    "duration": 10,
    "start_time": "2021-10-12T12:29:14.374Z"
   },
   {
    "duration": 43,
    "start_time": "2021-10-12T12:29:14.386Z"
   },
   {
    "duration": 3,
    "start_time": "2021-10-12T12:29:14.431Z"
   },
   {
    "duration": 27,
    "start_time": "2021-10-12T12:29:14.436Z"
   },
   {
    "duration": 40,
    "start_time": "2021-10-12T12:29:14.465Z"
   },
   {
    "duration": 10,
    "start_time": "2021-10-12T12:29:14.506Z"
   },
   {
    "duration": 11,
    "start_time": "2021-10-12T12:29:14.518Z"
   },
   {
    "duration": 6,
    "start_time": "2021-10-12T12:29:14.530Z"
   },
   {
    "duration": 50,
    "start_time": "2021-10-12T12:29:14.537Z"
   },
   {
    "duration": 7069,
    "start_time": "2021-10-12T12:29:14.600Z"
   },
   {
    "duration": 12641,
    "start_time": "2021-10-12T12:29:21.671Z"
   },
   {
    "duration": 8,
    "start_time": "2021-10-12T12:29:34.314Z"
   },
   {
    "duration": 13,
    "start_time": "2021-10-12T12:29:34.324Z"
   },
   {
    "duration": 27,
    "start_time": "2021-10-12T12:29:34.339Z"
   },
   {
    "duration": 2319,
    "start_time": "2021-10-12T12:29:34.368Z"
   },
   {
    "duration": 1376,
    "start_time": "2021-10-12T12:30:19.129Z"
   },
   {
    "duration": 6,
    "start_time": "2021-10-12T12:30:20.507Z"
   },
   {
    "duration": 7,
    "start_time": "2021-10-12T12:30:20.515Z"
   },
   {
    "duration": 37,
    "start_time": "2021-10-12T12:30:20.524Z"
   },
   {
    "duration": 4,
    "start_time": "2021-10-12T12:30:20.562Z"
   },
   {
    "duration": 36,
    "start_time": "2021-10-12T12:30:20.568Z"
   },
   {
    "duration": 25,
    "start_time": "2021-10-12T12:30:20.605Z"
   },
   {
    "duration": 12,
    "start_time": "2021-10-12T12:30:20.633Z"
   },
   {
    "duration": 11,
    "start_time": "2021-10-12T12:30:20.647Z"
   },
   {
    "duration": 7,
    "start_time": "2021-10-12T12:30:20.659Z"
   },
   {
    "duration": 69,
    "start_time": "2021-10-12T12:30:20.667Z"
   },
   {
    "duration": 7122,
    "start_time": "2021-10-12T12:30:20.737Z"
   },
   {
    "duration": 12714,
    "start_time": "2021-10-12T12:30:27.860Z"
   },
   {
    "duration": 9,
    "start_time": "2021-10-12T12:30:40.576Z"
   },
   {
    "duration": 20,
    "start_time": "2021-10-12T12:30:40.586Z"
   },
   {
    "duration": 28,
    "start_time": "2021-10-12T12:30:40.607Z"
   },
   {
    "duration": 2101,
    "start_time": "2021-10-12T12:30:40.637Z"
   },
   {
    "duration": 1291,
    "start_time": "2021-10-12T12:31:19.127Z"
   },
   {
    "duration": 6,
    "start_time": "2021-10-12T12:31:20.420Z"
   },
   {
    "duration": 8,
    "start_time": "2021-10-12T12:31:20.428Z"
   },
   {
    "duration": 32,
    "start_time": "2021-10-12T12:31:20.438Z"
   },
   {
    "duration": 28,
    "start_time": "2021-10-12T12:31:20.472Z"
   },
   {
    "duration": 17,
    "start_time": "2021-10-12T12:31:20.502Z"
   },
   {
    "duration": 24,
    "start_time": "2021-10-12T12:31:20.520Z"
   },
   {
    "duration": 10,
    "start_time": "2021-10-12T12:31:20.545Z"
   },
   {
    "duration": 9,
    "start_time": "2021-10-12T12:31:20.558Z"
   },
   {
    "duration": 32,
    "start_time": "2021-10-12T12:31:20.569Z"
   },
   {
    "duration": 43,
    "start_time": "2021-10-12T12:31:20.602Z"
   },
   {
    "duration": 7120,
    "start_time": "2021-10-12T12:31:20.646Z"
   },
   {
    "duration": 12561,
    "start_time": "2021-10-12T12:31:27.767Z"
   },
   {
    "duration": 9,
    "start_time": "2021-10-12T12:31:40.329Z"
   },
   {
    "duration": 26,
    "start_time": "2021-10-12T12:31:40.339Z"
   },
   {
    "duration": 35,
    "start_time": "2021-10-12T12:31:40.367Z"
   },
   {
    "duration": 829,
    "start_time": "2021-10-12T12:31:40.403Z"
   },
   {
    "duration": 1324,
    "start_time": "2021-10-12T12:32:15.897Z"
   },
   {
    "duration": 6,
    "start_time": "2021-10-12T12:32:17.222Z"
   },
   {
    "duration": 7,
    "start_time": "2021-10-12T12:32:17.230Z"
   },
   {
    "duration": 32,
    "start_time": "2021-10-12T12:32:17.238Z"
   },
   {
    "duration": 28,
    "start_time": "2021-10-12T12:32:17.271Z"
   },
   {
    "duration": 18,
    "start_time": "2021-10-12T12:32:17.301Z"
   },
   {
    "duration": 24,
    "start_time": "2021-10-12T12:32:17.320Z"
   },
   {
    "duration": 9,
    "start_time": "2021-10-12T12:32:17.346Z"
   },
   {
    "duration": 10,
    "start_time": "2021-10-12T12:32:17.357Z"
   },
   {
    "duration": 32,
    "start_time": "2021-10-12T12:32:17.369Z"
   },
   {
    "duration": 46,
    "start_time": "2021-10-12T12:32:17.404Z"
   },
   {
    "duration": 7125,
    "start_time": "2021-10-12T12:32:17.452Z"
   },
   {
    "duration": 12949,
    "start_time": "2021-10-12T12:32:24.579Z"
   },
   {
    "duration": 8,
    "start_time": "2021-10-12T12:32:37.530Z"
   },
   {
    "duration": 14,
    "start_time": "2021-10-12T12:32:37.539Z"
   },
   {
    "duration": 45,
    "start_time": "2021-10-12T12:32:37.554Z"
   },
   {
    "duration": 2157,
    "start_time": "2021-10-12T12:32:37.601Z"
   },
   {
    "duration": 1300,
    "start_time": "2021-10-12T12:34:43.935Z"
   },
   {
    "duration": 5,
    "start_time": "2021-10-12T12:34:45.237Z"
   },
   {
    "duration": 8,
    "start_time": "2021-10-12T12:34:45.244Z"
   },
   {
    "duration": 55,
    "start_time": "2021-10-12T12:34:45.254Z"
   },
   {
    "duration": 4,
    "start_time": "2021-10-12T12:34:45.311Z"
   },
   {
    "duration": 19,
    "start_time": "2021-10-12T12:34:45.316Z"
   },
   {
    "duration": 24,
    "start_time": "2021-10-12T12:34:45.336Z"
   },
   {
    "duration": 9,
    "start_time": "2021-10-12T12:34:45.362Z"
   },
   {
    "duration": 10,
    "start_time": "2021-10-12T12:34:45.400Z"
   },
   {
    "duration": 7,
    "start_time": "2021-10-12T12:34:45.411Z"
   },
   {
    "duration": 43,
    "start_time": "2021-10-12T12:34:45.420Z"
   },
   {
    "duration": 7227,
    "start_time": "2021-10-12T12:34:45.464Z"
   },
   {
    "duration": 12606,
    "start_time": "2021-10-12T12:34:52.700Z"
   },
   {
    "duration": 10,
    "start_time": "2021-10-12T12:35:05.308Z"
   },
   {
    "duration": 30,
    "start_time": "2021-10-12T12:35:05.319Z"
   },
   {
    "duration": 31,
    "start_time": "2021-10-12T12:35:05.351Z"
   },
   {
    "duration": 22,
    "start_time": "2021-10-12T12:35:05.383Z"
   },
   {
    "duration": 2160,
    "start_time": "2021-10-12T12:35:05.407Z"
   },
   {
    "duration": 1305,
    "start_time": "2021-10-12T12:35:41.567Z"
   },
   {
    "duration": 5,
    "start_time": "2021-10-12T12:35:42.874Z"
   },
   {
    "duration": 21,
    "start_time": "2021-10-12T12:35:42.881Z"
   },
   {
    "duration": 31,
    "start_time": "2021-10-12T12:35:42.903Z"
   },
   {
    "duration": 3,
    "start_time": "2021-10-12T12:35:42.936Z"
   },
   {
    "duration": 19,
    "start_time": "2021-10-12T12:35:42.941Z"
   },
   {
    "duration": 44,
    "start_time": "2021-10-12T12:35:42.961Z"
   },
   {
    "duration": 10,
    "start_time": "2021-10-12T12:35:43.006Z"
   },
   {
    "duration": 9,
    "start_time": "2021-10-12T12:35:43.018Z"
   },
   {
    "duration": 4,
    "start_time": "2021-10-12T12:35:43.029Z"
   },
   {
    "duration": 68,
    "start_time": "2021-10-12T12:35:43.035Z"
   },
   {
    "duration": 7074,
    "start_time": "2021-10-12T12:35:43.104Z"
   },
   {
    "duration": 12593,
    "start_time": "2021-10-12T12:35:50.179Z"
   },
   {
    "duration": 10,
    "start_time": "2021-10-12T12:36:02.774Z"
   },
   {
    "duration": 26,
    "start_time": "2021-10-12T12:36:02.786Z"
   },
   {
    "duration": 30,
    "start_time": "2021-10-12T12:36:02.813Z"
   },
   {
    "duration": 15,
    "start_time": "2021-10-12T12:36:02.845Z"
   },
   {
    "duration": 2090,
    "start_time": "2021-10-12T12:36:02.862Z"
   },
   {
    "duration": 42,
    "start_time": "2021-10-12T12:37:59.905Z"
   },
   {
    "duration": 10,
    "start_time": "2021-10-12T12:39:56.627Z"
   },
   {
    "duration": 10,
    "start_time": "2021-10-12T12:40:09.880Z"
   },
   {
    "duration": 24,
    "start_time": "2021-10-12T12:42:15.085Z"
   },
   {
    "duration": 15,
    "start_time": "2021-10-12T12:43:11.715Z"
   },
   {
    "duration": 1349,
    "start_time": "2021-10-12T13:20:13.107Z"
   },
   {
    "duration": 1291,
    "start_time": "2021-10-12T13:20:52.728Z"
   },
   {
    "duration": 6,
    "start_time": "2021-10-12T13:20:54.020Z"
   },
   {
    "duration": 8,
    "start_time": "2021-10-12T13:20:54.028Z"
   },
   {
    "duration": 31,
    "start_time": "2021-10-12T13:20:54.038Z"
   },
   {
    "duration": 4,
    "start_time": "2021-10-12T13:20:54.070Z"
   },
   {
    "duration": 18,
    "start_time": "2021-10-12T13:20:54.100Z"
   },
   {
    "duration": 25,
    "start_time": "2021-10-12T13:20:54.119Z"
   },
   {
    "duration": 9,
    "start_time": "2021-10-12T13:20:54.145Z"
   },
   {
    "duration": 9,
    "start_time": "2021-10-12T13:20:54.157Z"
   },
   {
    "duration": 5,
    "start_time": "2021-10-12T13:20:54.168Z"
   },
   {
    "duration": 43,
    "start_time": "2021-10-12T13:20:54.200Z"
   },
   {
    "duration": 7055,
    "start_time": "2021-10-12T13:20:54.245Z"
   },
   {
    "duration": 12439,
    "start_time": "2021-10-12T13:21:01.302Z"
   },
   {
    "duration": 9,
    "start_time": "2021-10-12T13:21:13.742Z"
   },
   {
    "duration": 15,
    "start_time": "2021-10-12T13:21:13.752Z"
   },
   {
    "duration": 38,
    "start_time": "2021-10-12T13:21:13.768Z"
   },
   {
    "duration": 2104,
    "start_time": "2021-10-12T13:21:13.807Z"
   },
   {
    "duration": 1335,
    "start_time": "2021-10-12T13:21:15.912Z"
   },
   {
    "duration": 817,
    "start_time": "2021-10-12T13:24:02.610Z"
   },
   {
    "duration": 808,
    "start_time": "2021-10-12T13:25:42.846Z"
   },
   {
    "duration": 64,
    "start_time": "2021-10-12T13:27:38.740Z"
   },
   {
    "duration": 1305,
    "start_time": "2021-10-12T13:27:49.595Z"
   },
   {
    "duration": 1292,
    "start_time": "2021-10-12T13:28:10.654Z"
   },
   {
    "duration": 6,
    "start_time": "2021-10-12T13:28:11.947Z"
   },
   {
    "duration": 21,
    "start_time": "2021-10-12T13:28:11.954Z"
   },
   {
    "duration": 47,
    "start_time": "2021-10-12T13:28:11.977Z"
   },
   {
    "duration": 4,
    "start_time": "2021-10-12T13:28:12.026Z"
   },
   {
    "duration": 31,
    "start_time": "2021-10-12T13:28:12.032Z"
   },
   {
    "duration": 27,
    "start_time": "2021-10-12T13:28:12.064Z"
   },
   {
    "duration": 14,
    "start_time": "2021-10-12T13:28:12.094Z"
   },
   {
    "duration": 46,
    "start_time": "2021-10-12T13:28:12.110Z"
   },
   {
    "duration": 24,
    "start_time": "2021-10-12T13:28:12.157Z"
   },
   {
    "duration": 62,
    "start_time": "2021-10-12T13:28:12.182Z"
   },
   {
    "duration": 7097,
    "start_time": "2021-10-12T13:28:12.246Z"
   },
   {
    "duration": 12635,
    "start_time": "2021-10-12T13:28:19.344Z"
   },
   {
    "duration": 21,
    "start_time": "2021-10-12T13:28:31.980Z"
   },
   {
    "duration": 14,
    "start_time": "2021-10-12T13:28:32.003Z"
   },
   {
    "duration": 27,
    "start_time": "2021-10-12T13:28:32.018Z"
   },
   {
    "duration": 2175,
    "start_time": "2021-10-12T13:28:32.046Z"
   },
   {
    "duration": 1264,
    "start_time": "2021-10-12T13:28:34.223Z"
   },
   {
    "duration": 4,
    "start_time": "2021-10-12T13:30:30.154Z"
   },
   {
    "duration": 1223,
    "start_time": "2021-10-12T13:31:40.531Z"
   },
   {
    "duration": 1261,
    "start_time": "2021-10-12T13:32:46.232Z"
   },
   {
    "duration": 1273,
    "start_time": "2021-10-12T13:33:09.850Z"
   },
   {
    "duration": 6,
    "start_time": "2021-10-12T13:33:11.125Z"
   },
   {
    "duration": 10,
    "start_time": "2021-10-12T13:33:11.133Z"
   },
   {
    "duration": 32,
    "start_time": "2021-10-12T13:33:11.145Z"
   },
   {
    "duration": 4,
    "start_time": "2021-10-12T13:33:11.199Z"
   },
   {
    "duration": 22,
    "start_time": "2021-10-12T13:33:11.205Z"
   },
   {
    "duration": 23,
    "start_time": "2021-10-12T13:33:11.228Z"
   },
   {
    "duration": 10,
    "start_time": "2021-10-12T13:33:11.254Z"
   },
   {
    "duration": 35,
    "start_time": "2021-10-12T13:33:11.266Z"
   },
   {
    "duration": 3,
    "start_time": "2021-10-12T13:33:11.303Z"
   },
   {
    "duration": 47,
    "start_time": "2021-10-12T13:33:11.307Z"
   },
   {
    "duration": 7113,
    "start_time": "2021-10-12T13:33:11.356Z"
   },
   {
    "duration": 12847,
    "start_time": "2021-10-12T13:33:18.470Z"
   },
   {
    "duration": 9,
    "start_time": "2021-10-12T13:33:31.318Z"
   },
   {
    "duration": 35,
    "start_time": "2021-10-12T13:33:31.329Z"
   },
   {
    "duration": 32,
    "start_time": "2021-10-12T13:33:31.365Z"
   },
   {
    "duration": 2142,
    "start_time": "2021-10-12T13:33:31.398Z"
   },
   {
    "duration": 4,
    "start_time": "2021-10-12T13:33:33.542Z"
   },
   {
    "duration": 1253,
    "start_time": "2021-10-12T13:33:33.548Z"
   },
   {
    "duration": 1400,
    "start_time": "2021-10-12T13:39:58.934Z"
   },
   {
    "duration": 1469,
    "start_time": "2021-10-12T13:42:24.892Z"
   },
   {
    "duration": 1430,
    "start_time": "2021-10-12T13:42:47.601Z"
   },
   {
    "duration": 1265,
    "start_time": "2021-10-12T14:02:09.850Z"
   },
   {
    "duration": 6,
    "start_time": "2021-10-12T14:02:11.117Z"
   },
   {
    "duration": 13,
    "start_time": "2021-10-12T14:02:11.125Z"
   },
   {
    "duration": 32,
    "start_time": "2021-10-12T14:02:11.140Z"
   },
   {
    "duration": 26,
    "start_time": "2021-10-12T14:02:11.174Z"
   },
   {
    "duration": 18,
    "start_time": "2021-10-12T14:02:11.202Z"
   },
   {
    "duration": 23,
    "start_time": "2021-10-12T14:02:11.222Z"
   },
   {
    "duration": 11,
    "start_time": "2021-10-12T14:02:11.248Z"
   },
   {
    "duration": 11,
    "start_time": "2021-10-12T14:02:11.260Z"
   },
   {
    "duration": 27,
    "start_time": "2021-10-12T14:02:11.273Z"
   },
   {
    "duration": 44,
    "start_time": "2021-10-12T14:02:11.302Z"
   },
   {
    "duration": 7161,
    "start_time": "2021-10-12T14:02:11.348Z"
   },
   {
    "duration": 12590,
    "start_time": "2021-10-12T14:02:18.511Z"
   },
   {
    "duration": 12,
    "start_time": "2021-10-12T14:02:31.102Z"
   },
   {
    "duration": 28,
    "start_time": "2021-10-12T14:02:31.116Z"
   },
   {
    "duration": 34,
    "start_time": "2021-10-12T14:02:31.146Z"
   },
   {
    "duration": 2203,
    "start_time": "2021-10-12T14:02:31.182Z"
   },
   {
    "duration": 1470,
    "start_time": "2021-10-12T14:02:33.386Z"
   },
   {
    "duration": 19,
    "start_time": "2021-10-12T14:10:15.017Z"
   },
   {
    "duration": 1264,
    "start_time": "2021-10-12T14:19:12.018Z"
   },
   {
    "duration": 18,
    "start_time": "2021-10-12T14:19:13.283Z"
   },
   {
    "duration": 7,
    "start_time": "2021-10-12T14:19:13.303Z"
   },
   {
    "duration": 29,
    "start_time": "2021-10-12T14:19:13.312Z"
   },
   {
    "duration": 4,
    "start_time": "2021-10-12T14:19:13.343Z"
   },
   {
    "duration": 19,
    "start_time": "2021-10-12T14:19:13.348Z"
   },
   {
    "duration": 50,
    "start_time": "2021-10-12T14:19:13.368Z"
   },
   {
    "duration": 9,
    "start_time": "2021-10-12T14:19:13.420Z"
   },
   {
    "duration": 10,
    "start_time": "2021-10-12T14:19:13.431Z"
   },
   {
    "duration": 6,
    "start_time": "2021-10-12T14:19:13.442Z"
   },
   {
    "duration": 64,
    "start_time": "2021-10-12T14:19:13.449Z"
   },
   {
    "duration": 6978,
    "start_time": "2021-10-12T14:19:13.515Z"
   },
   {
    "duration": 12590,
    "start_time": "2021-10-12T14:19:20.495Z"
   },
   {
    "duration": 14,
    "start_time": "2021-10-12T14:19:33.087Z"
   },
   {
    "duration": 12,
    "start_time": "2021-10-12T14:19:33.102Z"
   },
   {
    "duration": 28,
    "start_time": "2021-10-12T14:19:33.115Z"
   },
   {
    "duration": 2156,
    "start_time": "2021-10-12T14:19:33.144Z"
   },
   {
    "duration": 1443,
    "start_time": "2021-10-12T14:19:35.302Z"
   },
   {
    "duration": 215,
    "start_time": "2021-10-12T14:21:02.011Z"
   },
   {
    "duration": 147,
    "start_time": "2021-10-12T14:23:33.343Z"
   },
   {
    "duration": 90,
    "start_time": "2021-10-12T14:24:02.633Z"
   },
   {
    "duration": 64,
    "start_time": "2021-10-12T14:24:29.920Z"
   },
   {
    "duration": 66,
    "start_time": "2021-10-12T14:24:45.891Z"
   },
   {
    "duration": 1381,
    "start_time": "2021-10-12T14:25:01.166Z"
   },
   {
    "duration": 6,
    "start_time": "2021-10-12T14:25:02.549Z"
   },
   {
    "duration": 17,
    "start_time": "2021-10-12T14:25:02.556Z"
   },
   {
    "duration": 44,
    "start_time": "2021-10-12T14:25:02.574Z"
   },
   {
    "duration": 4,
    "start_time": "2021-10-12T14:25:02.620Z"
   },
   {
    "duration": 22,
    "start_time": "2021-10-12T14:25:02.625Z"
   },
   {
    "duration": 23,
    "start_time": "2021-10-12T14:25:02.649Z"
   },
   {
    "duration": 29,
    "start_time": "2021-10-12T14:25:02.674Z"
   },
   {
    "duration": 10,
    "start_time": "2021-10-12T14:25:02.705Z"
   },
   {
    "duration": 20,
    "start_time": "2021-10-12T14:25:02.716Z"
   },
   {
    "duration": 49,
    "start_time": "2021-10-12T14:25:02.738Z"
   },
   {
    "duration": 7083,
    "start_time": "2021-10-12T14:25:02.789Z"
   },
   {
    "duration": 12492,
    "start_time": "2021-10-12T14:25:09.874Z"
   },
   {
    "duration": 9,
    "start_time": "2021-10-12T14:25:22.368Z"
   },
   {
    "duration": 28,
    "start_time": "2021-10-12T14:25:22.379Z"
   },
   {
    "duration": 28,
    "start_time": "2021-10-12T14:25:22.409Z"
   },
   {
    "duration": 2163,
    "start_time": "2021-10-12T14:25:22.439Z"
   },
   {
    "duration": 1489,
    "start_time": "2021-10-12T14:25:24.604Z"
   },
   {
    "duration": 242,
    "start_time": "2021-10-12T14:25:26.095Z"
   },
   {
    "duration": 41,
    "start_time": "2021-10-12T14:26:02.712Z"
   },
   {
    "duration": 90,
    "start_time": "2021-10-12T14:26:44.875Z"
   },
   {
    "duration": 86,
    "start_time": "2021-10-12T14:27:14.126Z"
   },
   {
    "duration": 38,
    "start_time": "2021-10-12T14:28:33.793Z"
   },
   {
    "duration": 37,
    "start_time": "2021-10-12T14:29:44.581Z"
   },
   {
    "duration": 40,
    "start_time": "2021-10-12T14:31:03.237Z"
   },
   {
    "duration": 88,
    "start_time": "2021-10-12T14:31:12.630Z"
   },
   {
    "duration": 45,
    "start_time": "2021-10-12T14:31:36.612Z"
   },
   {
    "duration": 45,
    "start_time": "2021-10-12T14:32:00.326Z"
   },
   {
    "duration": 1913,
    "start_time": "2021-10-13T09:39:11.504Z"
   },
   {
    "duration": 8,
    "start_time": "2021-10-13T09:39:13.420Z"
   },
   {
    "duration": 40,
    "start_time": "2021-10-13T09:39:13.431Z"
   },
   {
    "duration": 49,
    "start_time": "2021-10-13T09:39:13.474Z"
   },
   {
    "duration": 5,
    "start_time": "2021-10-13T09:39:13.526Z"
   },
   {
    "duration": 52,
    "start_time": "2021-10-13T09:39:13.533Z"
   },
   {
    "duration": 38,
    "start_time": "2021-10-13T09:39:13.588Z"
   },
   {
    "duration": 15,
    "start_time": "2021-10-13T09:39:13.629Z"
   },
   {
    "duration": 30,
    "start_time": "2021-10-13T09:39:13.648Z"
   },
   {
    "duration": 9,
    "start_time": "2021-10-13T09:39:13.681Z"
   },
   {
    "duration": 87,
    "start_time": "2021-10-13T09:39:13.692Z"
   },
   {
    "duration": 12738,
    "start_time": "2021-10-13T09:39:13.781Z"
   },
   {
    "duration": 22885,
    "start_time": "2021-10-13T09:39:26.521Z"
   },
   {
    "duration": 14,
    "start_time": "2021-10-13T09:39:49.408Z"
   },
   {
    "duration": 43,
    "start_time": "2021-10-13T09:39:49.426Z"
   },
   {
    "duration": 51,
    "start_time": "2021-10-13T09:39:49.471Z"
   },
   {
    "duration": 4317,
    "start_time": "2021-10-13T09:39:49.524Z"
   },
   {
    "duration": 2825,
    "start_time": "2021-10-13T09:39:53.844Z"
   },
   {
    "duration": 75,
    "start_time": "2021-10-13T09:39:56.671Z"
   },
   {
    "duration": 64,
    "start_time": "2021-10-13T09:46:38.667Z"
   },
   {
    "duration": 457,
    "start_time": "2021-10-13T09:47:31.293Z"
   },
   {
    "duration": 714,
    "start_time": "2021-10-13T09:48:32.220Z"
   },
   {
    "duration": 62,
    "start_time": "2021-10-13T09:49:22.575Z"
   },
   {
    "duration": 1888,
    "start_time": "2021-10-13T11:23:20.681Z"
   },
   {
    "duration": 9,
    "start_time": "2021-10-13T11:23:22.572Z"
   },
   {
    "duration": 9,
    "start_time": "2021-10-13T11:23:22.584Z"
   },
   {
    "duration": 71,
    "start_time": "2021-10-13T11:23:22.596Z"
   },
   {
    "duration": 5,
    "start_time": "2021-10-13T11:23:22.670Z"
   },
   {
    "duration": 28,
    "start_time": "2021-10-13T11:23:22.677Z"
   },
   {
    "duration": 64,
    "start_time": "2021-10-13T11:23:22.707Z"
   },
   {
    "duration": 14,
    "start_time": "2021-10-13T11:23:22.774Z"
   },
   {
    "duration": 13,
    "start_time": "2021-10-13T11:23:22.792Z"
   },
   {
    "duration": 9,
    "start_time": "2021-10-13T11:23:22.808Z"
   },
   {
    "duration": 87,
    "start_time": "2021-10-13T11:23:22.819Z"
   },
   {
    "duration": 12737,
    "start_time": "2021-10-13T11:23:22.908Z"
   },
   {
    "duration": 22486,
    "start_time": "2021-10-13T11:23:35.647Z"
   },
   {
    "duration": 31,
    "start_time": "2021-10-13T11:23:58.136Z"
   },
   {
    "duration": 16,
    "start_time": "2021-10-13T11:23:58.170Z"
   },
   {
    "duration": 47,
    "start_time": "2021-10-13T11:23:58.188Z"
   },
   {
    "duration": 4353,
    "start_time": "2021-10-13T11:23:58.237Z"
   },
   {
    "duration": 2800,
    "start_time": "2021-10-13T11:24:02.593Z"
   },
   {
    "duration": 45,
    "start_time": "2021-10-13T11:24:05.396Z"
   },
   {
    "duration": 54,
    "start_time": "2021-10-13T11:33:05.339Z"
   },
   {
    "duration": 54,
    "start_time": "2021-10-13T11:33:18.318Z"
   },
   {
    "duration": 91,
    "start_time": "2021-10-13T11:34:06.600Z"
   },
   {
    "duration": 150,
    "start_time": "2021-10-13T11:34:19.219Z"
   },
   {
    "duration": 122,
    "start_time": "2021-10-13T11:35:11.139Z"
   },
   {
    "duration": 122,
    "start_time": "2021-10-13T11:35:33.092Z"
   },
   {
    "duration": 150,
    "start_time": "2021-10-13T11:36:22.154Z"
   },
   {
    "duration": 442,
    "start_time": "2021-10-13T11:36:38.744Z"
   },
   {
    "duration": 102,
    "start_time": "2021-10-13T11:36:47.454Z"
   },
   {
    "duration": 62,
    "start_time": "2021-10-13T11:37:13.992Z"
   },
   {
    "duration": 64,
    "start_time": "2021-10-13T11:37:20.020Z"
   },
   {
    "duration": 7752,
    "start_time": "2021-10-13T11:43:49.290Z"
   },
   {
    "duration": 315,
    "start_time": "2021-10-13T11:44:51.774Z"
   },
   {
    "duration": 84,
    "start_time": "2021-10-13T11:45:10.644Z"
   },
   {
    "duration": 84,
    "start_time": "2021-10-13T11:45:58.184Z"
   },
   {
    "duration": 102,
    "start_time": "2021-10-13T11:52:40.720Z"
   },
   {
    "duration": 158,
    "start_time": "2021-10-13T11:52:46.160Z"
   },
   {
    "duration": 341,
    "start_time": "2021-10-13T11:56:03.280Z"
   },
   {
    "duration": 163,
    "start_time": "2021-10-13T11:56:31.658Z"
   },
   {
    "duration": 160,
    "start_time": "2021-10-13T12:00:21.214Z"
   },
   {
    "duration": 163,
    "start_time": "2021-10-13T12:05:21.548Z"
   },
   {
    "duration": 163,
    "start_time": "2021-10-13T12:05:56.463Z"
   },
   {
    "duration": 1890,
    "start_time": "2021-10-13T12:06:04.301Z"
   },
   {
    "duration": 9,
    "start_time": "2021-10-13T12:06:06.195Z"
   },
   {
    "duration": 11,
    "start_time": "2021-10-13T12:06:06.208Z"
   },
   {
    "duration": 87,
    "start_time": "2021-10-13T12:06:06.222Z"
   },
   {
    "duration": 7,
    "start_time": "2021-10-13T12:06:06.312Z"
   },
   {
    "duration": 57,
    "start_time": "2021-10-13T12:06:06.322Z"
   },
   {
    "duration": 39,
    "start_time": "2021-10-13T12:06:06.381Z"
   },
   {
    "duration": 16,
    "start_time": "2021-10-13T12:06:06.422Z"
   },
   {
    "duration": 14,
    "start_time": "2021-10-13T12:06:06.466Z"
   },
   {
    "duration": 7,
    "start_time": "2021-10-13T12:06:06.482Z"
   },
   {
    "duration": 79,
    "start_time": "2021-10-13T12:06:06.492Z"
   },
   {
    "duration": 12909,
    "start_time": "2021-10-13T12:06:06.574Z"
   },
   {
    "duration": 23237,
    "start_time": "2021-10-13T12:06:19.485Z"
   },
   {
    "duration": 13,
    "start_time": "2021-10-13T12:06:42.725Z"
   },
   {
    "duration": 35,
    "start_time": "2021-10-13T12:06:42.741Z"
   },
   {
    "duration": 46,
    "start_time": "2021-10-13T12:06:42.779Z"
   },
   {
    "duration": 4645,
    "start_time": "2021-10-13T12:06:42.828Z"
   },
   {
    "duration": 3109,
    "start_time": "2021-10-13T12:06:47.477Z"
   },
   {
    "duration": 203,
    "start_time": "2021-10-13T12:06:50.588Z"
   },
   {
    "duration": 231,
    "start_time": "2021-10-13T12:06:50.793Z"
   },
   {
    "duration": 181,
    "start_time": "2021-10-13T12:06:51.027Z"
   },
   {
    "duration": 166,
    "start_time": "2021-10-13T12:09:12.108Z"
   },
   {
    "duration": 170,
    "start_time": "2021-10-13T12:09:48.628Z"
   },
   {
    "duration": 1867,
    "start_time": "2021-10-13T12:10:43.412Z"
   },
   {
    "duration": 9,
    "start_time": "2021-10-13T12:10:45.282Z"
   },
   {
    "duration": 9,
    "start_time": "2021-10-13T12:10:45.294Z"
   },
   {
    "duration": 78,
    "start_time": "2021-10-13T12:10:45.306Z"
   },
   {
    "duration": 6,
    "start_time": "2021-10-13T12:10:45.386Z"
   },
   {
    "duration": 32,
    "start_time": "2021-10-13T12:10:45.394Z"
   },
   {
    "duration": 59,
    "start_time": "2021-10-13T12:10:45.428Z"
   },
   {
    "duration": 15,
    "start_time": "2021-10-13T12:10:45.489Z"
   },
   {
    "duration": 14,
    "start_time": "2021-10-13T12:10:45.508Z"
   },
   {
    "duration": 4,
    "start_time": "2021-10-13T12:10:45.525Z"
   },
   {
    "duration": 89,
    "start_time": "2021-10-13T12:10:45.532Z"
   },
   {
    "duration": 12881,
    "start_time": "2021-10-13T12:10:45.624Z"
   },
   {
    "duration": 22592,
    "start_time": "2021-10-13T12:10:58.508Z"
   },
   {
    "duration": 14,
    "start_time": "2021-10-13T12:11:21.102Z"
   },
   {
    "duration": 21,
    "start_time": "2021-10-13T12:11:21.119Z"
   },
   {
    "duration": 67,
    "start_time": "2021-10-13T12:11:21.142Z"
   },
   {
    "duration": 4370,
    "start_time": "2021-10-13T12:11:21.212Z"
   },
   {
    "duration": 2925,
    "start_time": "2021-10-13T12:11:25.584Z"
   },
   {
    "duration": 181,
    "start_time": "2021-10-13T12:11:28.513Z"
   },
   {
    "duration": 178,
    "start_time": "2021-10-13T12:11:28.697Z"
   },
   {
    "duration": 192,
    "start_time": "2021-10-13T12:11:28.877Z"
   },
   {
    "duration": 165,
    "start_time": "2021-10-13T12:12:09.041Z"
   },
   {
    "duration": 650,
    "start_time": "2021-10-13T12:12:36.415Z"
   },
   {
    "duration": 1860,
    "start_time": "2021-10-13T12:13:28.212Z"
   },
   {
    "duration": 9,
    "start_time": "2021-10-13T12:13:30.075Z"
   },
   {
    "duration": 11,
    "start_time": "2021-10-13T12:13:30.087Z"
   },
   {
    "duration": 74,
    "start_time": "2021-10-13T12:13:30.101Z"
   },
   {
    "duration": 5,
    "start_time": "2021-10-13T12:13:30.178Z"
   },
   {
    "duration": 34,
    "start_time": "2021-10-13T12:13:30.185Z"
   },
   {
    "duration": 54,
    "start_time": "2021-10-13T12:13:30.221Z"
   },
   {
    "duration": 15,
    "start_time": "2021-10-13T12:13:30.278Z"
   },
   {
    "duration": 15,
    "start_time": "2021-10-13T12:13:30.297Z"
   },
   {
    "duration": 15,
    "start_time": "2021-10-13T12:13:30.315Z"
   },
   {
    "duration": 87,
    "start_time": "2021-10-13T12:13:30.333Z"
   },
   {
    "duration": 12775,
    "start_time": "2021-10-13T12:13:30.423Z"
   },
   {
    "duration": 23132,
    "start_time": "2021-10-13T12:13:43.201Z"
   },
   {
    "duration": 14,
    "start_time": "2021-10-13T12:14:06.336Z"
   },
   {
    "duration": 19,
    "start_time": "2021-10-13T12:14:06.368Z"
   },
   {
    "duration": 47,
    "start_time": "2021-10-13T12:14:06.389Z"
   },
   {
    "duration": 4456,
    "start_time": "2021-10-13T12:14:06.439Z"
   },
   {
    "duration": 2856,
    "start_time": "2021-10-13T12:14:10.897Z"
   },
   {
    "duration": 164,
    "start_time": "2021-10-13T12:14:13.755Z"
   },
   {
    "duration": 639,
    "start_time": "2021-10-13T12:14:13.922Z"
   },
   {
    "duration": 100,
    "start_time": "2021-10-13T12:16:32.891Z"
   },
   {
    "duration": 216,
    "start_time": "2021-10-13T12:16:37.932Z"
   },
   {
    "duration": 244,
    "start_time": "2021-10-13T12:18:09.966Z"
   },
   {
    "duration": 257,
    "start_time": "2021-10-13T12:20:38.252Z"
   },
   {
    "duration": 244,
    "start_time": "2021-10-13T12:20:50.033Z"
   },
   {
    "duration": 175,
    "start_time": "2021-10-13T12:22:03.060Z"
   },
   {
    "duration": 160,
    "start_time": "2021-10-13T12:22:11.084Z"
   },
   {
    "duration": 175,
    "start_time": "2021-10-13T12:22:26.012Z"
   },
   {
    "duration": 553,
    "start_time": "2021-10-13T12:26:49.798Z"
   },
   {
    "duration": 7557,
    "start_time": "2021-10-13T12:30:07.244Z"
   },
   {
    "duration": 6945,
    "start_time": "2021-10-13T12:32:32.042Z"
   },
   {
    "duration": 971,
    "start_time": "2021-10-13T12:39:04.456Z"
   },
   {
    "duration": 1736,
    "start_time": "2021-10-13T12:40:53.910Z"
   },
   {
    "duration": 25,
    "start_time": "2021-10-13T12:51:53.303Z"
   },
   {
    "duration": 103,
    "start_time": "2021-10-13T12:54:09.519Z"
   },
   {
    "duration": 106,
    "start_time": "2021-10-13T12:54:37.037Z"
   },
   {
    "duration": 110,
    "start_time": "2021-10-13T12:55:22.701Z"
   },
   {
    "duration": 108,
    "start_time": "2021-10-13T12:57:09.094Z"
   },
   {
    "duration": 105,
    "start_time": "2021-10-13T12:57:35.194Z"
   },
   {
    "duration": 2013,
    "start_time": "2021-10-13T13:06:13.495Z"
   },
   {
    "duration": 8,
    "start_time": "2021-10-13T13:06:15.511Z"
   },
   {
    "duration": 48,
    "start_time": "2021-10-13T13:06:15.523Z"
   },
   {
    "duration": 46,
    "start_time": "2021-10-13T13:06:15.574Z"
   },
   {
    "duration": 6,
    "start_time": "2021-10-13T13:06:15.622Z"
   },
   {
    "duration": 61,
    "start_time": "2021-10-13T13:06:15.630Z"
   },
   {
    "duration": 39,
    "start_time": "2021-10-13T13:06:15.693Z"
   },
   {
    "duration": 46,
    "start_time": "2021-10-13T13:06:15.735Z"
   },
   {
    "duration": 15,
    "start_time": "2021-10-13T13:06:15.785Z"
   },
   {
    "duration": 8,
    "start_time": "2021-10-13T13:06:15.803Z"
   },
   {
    "duration": 127,
    "start_time": "2021-10-13T13:06:15.813Z"
   },
   {
    "duration": 13406,
    "start_time": "2021-10-13T13:06:15.943Z"
   },
   {
    "duration": 23805,
    "start_time": "2021-10-13T13:06:29.351Z"
   },
   {
    "duration": 18,
    "start_time": "2021-10-13T13:06:53.159Z"
   },
   {
    "duration": 22,
    "start_time": "2021-10-13T13:06:53.180Z"
   },
   {
    "duration": 85,
    "start_time": "2021-10-13T13:06:53.205Z"
   },
   {
    "duration": 5180,
    "start_time": "2021-10-13T13:06:53.293Z"
   },
   {
    "duration": 3020,
    "start_time": "2021-10-13T13:06:58.475Z"
   },
   {
    "duration": 2104,
    "start_time": "2021-10-13T13:07:01.498Z"
   },
   {
    "duration": 119,
    "start_time": "2021-10-13T13:07:03.604Z"
   },
   {
    "duration": 305,
    "start_time": "2021-10-13T13:07:03.726Z"
   },
   {
    "duration": 8718,
    "start_time": "2021-10-13T13:12:14.681Z"
   },
   {
    "duration": 13269,
    "start_time": "2021-10-13T13:13:21.236Z"
   },
   {
    "duration": 8511,
    "start_time": "2021-10-13T13:13:55.071Z"
   },
   {
    "duration": 1943,
    "start_time": "2021-10-13T13:14:23.701Z"
   },
   {
    "duration": 1822,
    "start_time": "2021-10-13T13:14:56.548Z"
   },
   {
    "duration": 2006,
    "start_time": "2021-10-13T13:16:13.880Z"
   },
   {
    "duration": 1879,
    "start_time": "2021-10-13T13:49:46.112Z"
   },
   {
    "duration": 9,
    "start_time": "2021-10-13T13:49:47.995Z"
   },
   {
    "duration": 9,
    "start_time": "2021-10-13T13:49:48.009Z"
   },
   {
    "duration": 89,
    "start_time": "2021-10-13T13:49:48.022Z"
   },
   {
    "duration": 7,
    "start_time": "2021-10-13T13:49:48.113Z"
   },
   {
    "duration": 58,
    "start_time": "2021-10-13T13:49:48.123Z"
   },
   {
    "duration": 38,
    "start_time": "2021-10-13T13:49:48.184Z"
   },
   {
    "duration": 17,
    "start_time": "2021-10-13T13:49:48.225Z"
   },
   {
    "duration": 15,
    "start_time": "2021-10-13T13:49:48.270Z"
   },
   {
    "duration": 6,
    "start_time": "2021-10-13T13:49:48.288Z"
   },
   {
    "duration": 88,
    "start_time": "2021-10-13T13:49:48.297Z"
   },
   {
    "duration": 13109,
    "start_time": "2021-10-13T13:49:48.389Z"
   },
   {
    "duration": 23451,
    "start_time": "2021-10-13T13:50:01.500Z"
   },
   {
    "duration": 24,
    "start_time": "2021-10-13T13:50:24.954Z"
   },
   {
    "duration": 25,
    "start_time": "2021-10-13T13:50:24.981Z"
   },
   {
    "duration": 82,
    "start_time": "2021-10-13T13:50:25.008Z"
   },
   {
    "duration": 4583,
    "start_time": "2021-10-13T13:50:25.094Z"
   },
   {
    "duration": 2890,
    "start_time": "2021-10-13T13:50:29.679Z"
   },
   {
    "duration": 1800,
    "start_time": "2021-10-13T13:50:32.571Z"
   },
   {
    "duration": 118,
    "start_time": "2021-10-13T13:50:34.373Z"
   },
   {
    "duration": 2015,
    "start_time": "2021-10-13T13:50:34.494Z"
   },
   {
    "duration": 458,
    "start_time": "2021-10-13T14:13:51.638Z"
   },
   {
    "duration": 357,
    "start_time": "2021-10-13T14:14:12.665Z"
   },
   {
    "duration": 305,
    "start_time": "2021-10-13T14:20:03.975Z"
   },
   {
    "duration": 352,
    "start_time": "2021-10-13T14:20:35.525Z"
   },
   {
    "duration": 283,
    "start_time": "2021-10-13T14:21:01.181Z"
   },
   {
    "duration": 325,
    "start_time": "2021-10-13T14:21:42.646Z"
   },
   {
    "duration": 2194,
    "start_time": "2021-10-13T14:22:23.774Z"
   },
   {
    "duration": 9,
    "start_time": "2021-10-13T14:22:25.973Z"
   },
   {
    "duration": 10,
    "start_time": "2021-10-13T14:22:25.986Z"
   },
   {
    "duration": 97,
    "start_time": "2021-10-13T14:22:25.999Z"
   },
   {
    "duration": 7,
    "start_time": "2021-10-13T14:22:26.099Z"
   },
   {
    "duration": 81,
    "start_time": "2021-10-13T14:22:26.109Z"
   },
   {
    "duration": 73,
    "start_time": "2021-10-13T14:22:26.194Z"
   },
   {
    "duration": 16,
    "start_time": "2021-10-13T14:22:26.271Z"
   },
   {
    "duration": 15,
    "start_time": "2021-10-13T14:22:26.292Z"
   },
   {
    "duration": 10,
    "start_time": "2021-10-13T14:22:26.310Z"
   },
   {
    "duration": 108,
    "start_time": "2021-10-13T14:22:26.323Z"
   },
   {
    "duration": 16482,
    "start_time": "2021-10-13T14:22:26.433Z"
   },
   {
    "duration": 23432,
    "start_time": "2021-10-13T14:22:42.917Z"
   },
   {
    "duration": 25,
    "start_time": "2021-10-13T14:23:06.351Z"
   },
   {
    "duration": 22,
    "start_time": "2021-10-13T14:23:06.379Z"
   },
   {
    "duration": 80,
    "start_time": "2021-10-13T14:23:06.403Z"
   },
   {
    "duration": 4698,
    "start_time": "2021-10-13T14:23:06.485Z"
   },
   {
    "duration": 3082,
    "start_time": "2021-10-13T14:23:11.185Z"
   },
   {
    "duration": 1791,
    "start_time": "2021-10-13T14:23:14.269Z"
   },
   {
    "duration": 127,
    "start_time": "2021-10-13T14:23:16.063Z"
   },
   {
    "duration": 1951,
    "start_time": "2021-10-13T14:23:16.192Z"
   },
   {
    "duration": 420,
    "start_time": "2021-10-13T14:23:18.146Z"
   },
   {
    "duration": 393,
    "start_time": "2021-10-13T14:25:26.852Z"
   },
   {
    "duration": 270,
    "start_time": "2021-10-13T14:26:08.600Z"
   },
   {
    "duration": 282,
    "start_time": "2021-10-13T14:26:15.659Z"
   },
   {
    "duration": 12,
    "start_time": "2021-10-13T14:26:44.820Z"
   },
   {
    "duration": 400,
    "start_time": "2021-10-13T14:27:31.013Z"
   },
   {
    "duration": 342,
    "start_time": "2021-10-13T14:27:49.487Z"
   },
   {
    "duration": 7,
    "start_time": "2021-10-13T14:28:43.836Z"
   },
   {
    "duration": 13,
    "start_time": "2021-10-13T14:28:51.912Z"
   },
   {
    "duration": 336,
    "start_time": "2021-10-13T14:29:01.690Z"
   },
   {
    "duration": 14,
    "start_time": "2021-10-13T14:29:09.464Z"
   },
   {
    "duration": 349,
    "start_time": "2021-10-13T14:29:48.316Z"
   },
   {
    "duration": 29,
    "start_time": "2021-10-13T14:30:02.280Z"
   },
   {
    "duration": 42,
    "start_time": "2021-10-13T14:30:48.494Z"
   },
   {
    "duration": 235,
    "start_time": "2021-10-13T14:35:05.292Z"
   },
   {
    "duration": 2067,
    "start_time": "2021-10-13T14:35:17.265Z"
   },
   {
    "duration": 34,
    "start_time": "2021-10-13T14:35:19.335Z"
   },
   {
    "duration": 11,
    "start_time": "2021-10-13T14:35:19.372Z"
   },
   {
    "duration": 45,
    "start_time": "2021-10-13T14:35:19.386Z"
   },
   {
    "duration": 6,
    "start_time": "2021-10-13T14:35:19.466Z"
   },
   {
    "duration": 26,
    "start_time": "2021-10-13T14:35:19.475Z"
   },
   {
    "duration": 71,
    "start_time": "2021-10-13T14:35:19.505Z"
   },
   {
    "duration": 17,
    "start_time": "2021-10-13T14:35:19.580Z"
   },
   {
    "duration": 15,
    "start_time": "2021-10-13T14:35:19.600Z"
   },
   {
    "duration": 10,
    "start_time": "2021-10-13T14:35:19.618Z"
   },
   {
    "duration": 96,
    "start_time": "2021-10-13T14:35:19.630Z"
   },
   {
    "duration": 17941,
    "start_time": "2021-10-13T14:35:19.728Z"
   },
   {
    "duration": 22703,
    "start_time": "2021-10-13T14:35:37.672Z"
   },
   {
    "duration": 16,
    "start_time": "2021-10-13T14:36:00.378Z"
   },
   {
    "duration": 43,
    "start_time": "2021-10-13T14:36:00.397Z"
   },
   {
    "duration": 69,
    "start_time": "2021-10-13T14:36:00.443Z"
   },
   {
    "duration": 4622,
    "start_time": "2021-10-13T14:36:00.515Z"
   },
   {
    "duration": 3064,
    "start_time": "2021-10-13T14:36:05.141Z"
   },
   {
    "duration": 1788,
    "start_time": "2021-10-13T14:36:08.208Z"
   },
   {
    "duration": 129,
    "start_time": "2021-10-13T14:36:09.998Z"
   },
   {
    "duration": 1918,
    "start_time": "2021-10-13T14:36:10.129Z"
   },
   {
    "duration": 316,
    "start_time": "2021-10-13T14:36:12.052Z"
   },
   {
    "duration": 26,
    "start_time": "2021-10-13T14:36:29.132Z"
   },
   {
    "duration": 7,
    "start_time": "2021-10-13T14:38:29.492Z"
   },
   {
    "duration": 9,
    "start_time": "2021-10-13T14:38:37.938Z"
   },
   {
    "duration": 11,
    "start_time": "2021-10-13T14:38:51.322Z"
   },
   {
    "duration": 10,
    "start_time": "2021-10-13T14:39:24.352Z"
   },
   {
    "duration": 4552,
    "start_time": "2021-10-13T14:46:13.627Z"
   },
   {
    "duration": 30,
    "start_time": "2021-10-13T14:47:09.286Z"
   },
   {
    "duration": 4557,
    "start_time": "2021-10-13T14:47:47.402Z"
   },
   {
    "duration": 3655,
    "start_time": "2021-10-13T14:48:17.790Z"
   },
   {
    "duration": 9,
    "start_time": "2021-10-13T14:49:17.832Z"
   },
   {
    "duration": 11,
    "start_time": "2021-10-13T14:49:37.500Z"
   },
   {
    "duration": 10,
    "start_time": "2021-10-13T14:49:48.022Z"
   },
   {
    "duration": 10,
    "start_time": "2021-10-13T14:50:02.852Z"
   },
   {
    "duration": 259,
    "start_time": "2021-10-13T14:50:07.368Z"
   },
   {
    "duration": 176,
    "start_time": "2021-10-13T14:50:39.823Z"
   },
   {
    "duration": 9,
    "start_time": "2021-10-13T14:51:35.155Z"
   },
   {
    "duration": 8,
    "start_time": "2021-10-13T14:51:57.654Z"
   },
   {
    "duration": 238,
    "start_time": "2021-10-13T14:55:21.162Z"
   },
   {
    "duration": 232,
    "start_time": "2021-10-13T14:55:28.334Z"
   },
   {
    "duration": 551,
    "start_time": "2021-10-13T14:56:50.314Z"
   },
   {
    "duration": 1499,
    "start_time": "2021-10-13T14:57:13.999Z"
   },
   {
    "duration": 2382,
    "start_time": "2021-10-13T14:57:22.685Z"
   },
   {
    "duration": 10,
    "start_time": "2021-10-13T14:57:25.070Z"
   },
   {
    "duration": 11,
    "start_time": "2021-10-13T14:57:25.083Z"
   },
   {
    "duration": 90,
    "start_time": "2021-10-13T14:57:25.097Z"
   },
   {
    "duration": 5,
    "start_time": "2021-10-13T14:57:25.189Z"
   },
   {
    "duration": 30,
    "start_time": "2021-10-13T14:57:25.197Z"
   },
   {
    "duration": 63,
    "start_time": "2021-10-13T14:57:25.230Z"
   },
   {
    "duration": 14,
    "start_time": "2021-10-13T14:57:25.296Z"
   },
   {
    "duration": 12,
    "start_time": "2021-10-13T14:57:25.314Z"
   },
   {
    "duration": 38,
    "start_time": "2021-10-13T14:57:25.329Z"
   },
   {
    "duration": 60,
    "start_time": "2021-10-13T14:57:25.370Z"
   },
   {
    "duration": 12910,
    "start_time": "2021-10-13T14:57:25.432Z"
   },
   {
    "duration": 23185,
    "start_time": "2021-10-13T14:57:38.345Z"
   },
   {
    "duration": 15,
    "start_time": "2021-10-13T14:58:01.532Z"
   },
   {
    "duration": 43,
    "start_time": "2021-10-13T14:58:01.549Z"
   },
   {
    "duration": 72,
    "start_time": "2021-10-13T14:58:01.595Z"
   },
   {
    "duration": 4456,
    "start_time": "2021-10-13T14:58:01.670Z"
   },
   {
    "duration": 2741,
    "start_time": "2021-10-13T14:58:06.128Z"
   },
   {
    "duration": 1895,
    "start_time": "2021-10-13T14:58:08.872Z"
   },
   {
    "duration": 135,
    "start_time": "2021-10-13T14:58:10.770Z"
   },
   {
    "duration": 1899,
    "start_time": "2021-10-13T14:58:10.907Z"
   },
   {
    "duration": 645,
    "start_time": "2021-10-13T14:58:12.809Z"
   },
   {
    "duration": 234,
    "start_time": "2021-10-13T15:01:30.216Z"
   },
   {
    "duration": 233,
    "start_time": "2021-10-13T15:02:52.817Z"
   },
   {
    "duration": 241,
    "start_time": "2021-10-13T15:03:47.342Z"
   },
   {
    "duration": 2309,
    "start_time": "2021-10-13T19:34:59.710Z"
   },
   {
    "duration": 10,
    "start_time": "2021-10-13T19:35:02.022Z"
   },
   {
    "duration": 47,
    "start_time": "2021-10-13T19:35:02.036Z"
   },
   {
    "duration": 45,
    "start_time": "2021-10-13T19:35:02.086Z"
   },
   {
    "duration": 7,
    "start_time": "2021-10-13T19:35:02.134Z"
   },
   {
    "duration": 61,
    "start_time": "2021-10-13T19:35:02.144Z"
   },
   {
    "duration": 41,
    "start_time": "2021-10-13T19:35:02.207Z"
   },
   {
    "duration": 42,
    "start_time": "2021-10-13T19:35:02.252Z"
   },
   {
    "duration": 29,
    "start_time": "2021-10-13T19:35:02.298Z"
   },
   {
    "duration": 35,
    "start_time": "2021-10-13T19:35:02.330Z"
   },
   {
    "duration": 56,
    "start_time": "2021-10-13T19:35:02.368Z"
   },
   {
    "duration": 12146,
    "start_time": "2021-10-13T19:35:02.427Z"
   },
   {
    "duration": 21479,
    "start_time": "2021-10-13T19:35:14.582Z"
   },
   {
    "duration": 25,
    "start_time": "2021-10-13T19:35:36.064Z"
   },
   {
    "duration": 37,
    "start_time": "2021-10-13T19:35:36.091Z"
   },
   {
    "duration": 47,
    "start_time": "2021-10-13T19:35:36.131Z"
   },
   {
    "duration": 4362,
    "start_time": "2021-10-13T19:35:36.180Z"
   },
   {
    "duration": 2655,
    "start_time": "2021-10-13T19:35:40.544Z"
   },
   {
    "duration": 1784,
    "start_time": "2021-10-13T19:35:43.201Z"
   },
   {
    "duration": 120,
    "start_time": "2021-10-13T19:35:44.987Z"
   },
   {
    "duration": 1743,
    "start_time": "2021-10-13T19:35:45.109Z"
   },
   {
    "duration": 229,
    "start_time": "2021-10-13T19:35:46.854Z"
   },
   {
    "duration": 26,
    "start_time": "2021-10-13T19:51:33.419Z"
   },
   {
    "duration": 561,
    "start_time": "2021-10-13T19:53:29.856Z"
   },
   {
    "duration": 287,
    "start_time": "2021-10-13T19:53:58.384Z"
   },
   {
    "duration": 67,
    "start_time": "2021-10-13T19:54:24.744Z"
   },
   {
    "duration": 264,
    "start_time": "2021-10-13T19:54:58.014Z"
   },
   {
    "duration": 1408,
    "start_time": "2021-10-13T19:59:54.588Z"
   },
   {
    "duration": 2360,
    "start_time": "2021-10-13T20:07:02.972Z"
   },
   {
    "duration": 17,
    "start_time": "2021-10-13T20:07:05.336Z"
   },
   {
    "duration": 16,
    "start_time": "2021-10-13T20:07:05.373Z"
   },
   {
    "duration": 136,
    "start_time": "2021-10-13T20:07:05.393Z"
   },
   {
    "duration": 44,
    "start_time": "2021-10-13T20:07:05.533Z"
   },
   {
    "duration": 74,
    "start_time": "2021-10-13T20:07:05.591Z"
   },
   {
    "duration": 77,
    "start_time": "2021-10-13T20:07:05.679Z"
   },
   {
    "duration": 17,
    "start_time": "2021-10-13T20:07:05.760Z"
   },
   {
    "duration": 12,
    "start_time": "2021-10-13T20:07:05.780Z"
   },
   {
    "duration": 7,
    "start_time": "2021-10-13T20:07:05.795Z"
   },
   {
    "duration": 78,
    "start_time": "2021-10-13T20:07:05.805Z"
   },
   {
    "duration": 14813,
    "start_time": "2021-10-13T20:07:05.885Z"
   },
   {
    "duration": 21472,
    "start_time": "2021-10-13T20:07:20.700Z"
   },
   {
    "duration": 17,
    "start_time": "2021-10-13T20:07:42.174Z"
   },
   {
    "duration": 26,
    "start_time": "2021-10-13T20:07:42.193Z"
   },
   {
    "duration": 39,
    "start_time": "2021-10-13T20:07:42.222Z"
   },
   {
    "duration": 4055,
    "start_time": "2021-10-13T20:07:42.282Z"
   },
   {
    "duration": 2748,
    "start_time": "2021-10-13T20:07:46.340Z"
   },
   {
    "duration": 1758,
    "start_time": "2021-10-13T20:07:49.090Z"
   },
   {
    "duration": 118,
    "start_time": "2021-10-13T20:07:50.851Z"
   },
   {
    "duration": 1670,
    "start_time": "2021-10-13T20:07:50.983Z"
   },
   {
    "duration": 237,
    "start_time": "2021-10-13T20:07:52.656Z"
   },
   {
    "duration": 26,
    "start_time": "2021-10-13T20:07:52.895Z"
   },
   {
    "duration": 247,
    "start_time": "2021-10-13T20:07:52.923Z"
   },
   {
    "duration": 389,
    "start_time": "2021-10-13T20:13:24.378Z"
   },
   {
    "duration": 20,
    "start_time": "2021-10-13T20:14:27.690Z"
   },
   {
    "duration": 21,
    "start_time": "2021-10-13T20:14:47.747Z"
   },
   {
    "duration": 6582,
    "start_time": "2021-10-13T20:15:17.452Z"
   },
   {
    "duration": 236,
    "start_time": "2021-10-13T20:15:48.578Z"
   },
   {
    "duration": 237,
    "start_time": "2021-10-13T20:22:23.776Z"
   },
   {
    "duration": 1857,
    "start_time": "2021-10-13T20:25:19.131Z"
   },
   {
    "duration": 96,
    "start_time": "2021-10-13T20:31:52.832Z"
   },
   {
    "duration": 7742,
    "start_time": "2021-10-13T20:32:12.537Z"
   },
   {
    "duration": 2282,
    "start_time": "2021-10-13T20:32:51.845Z"
   },
   {
    "duration": 10,
    "start_time": "2021-10-13T20:32:54.129Z"
   },
   {
    "duration": 43,
    "start_time": "2021-10-13T20:32:54.142Z"
   },
   {
    "duration": 43,
    "start_time": "2021-10-13T20:32:54.188Z"
   },
   {
    "duration": 7,
    "start_time": "2021-10-13T20:32:54.233Z"
   },
   {
    "duration": 61,
    "start_time": "2021-10-13T20:32:54.242Z"
   },
   {
    "duration": 39,
    "start_time": "2021-10-13T20:32:54.306Z"
   },
   {
    "duration": 15,
    "start_time": "2021-10-13T20:32:54.347Z"
   },
   {
    "duration": 11,
    "start_time": "2021-10-13T20:32:54.384Z"
   },
   {
    "duration": 11,
    "start_time": "2021-10-13T20:32:54.398Z"
   },
   {
    "duration": 73,
    "start_time": "2021-10-13T20:32:54.412Z"
   },
   {
    "duration": 12062,
    "start_time": "2021-10-13T20:32:54.488Z"
   },
   {
    "duration": 21659,
    "start_time": "2021-10-13T20:33:06.553Z"
   },
   {
    "duration": 14,
    "start_time": "2021-10-13T20:33:28.214Z"
   },
   {
    "duration": 25,
    "start_time": "2021-10-13T20:33:28.231Z"
   },
   {
    "duration": 62,
    "start_time": "2021-10-13T20:33:28.258Z"
   },
   {
    "duration": 4262,
    "start_time": "2021-10-13T20:33:28.322Z"
   },
   {
    "duration": 2768,
    "start_time": "2021-10-13T20:33:32.586Z"
   },
   {
    "duration": 4456,
    "start_time": "2021-10-13T20:33:35.357Z"
   },
   {
    "duration": -173,
    "start_time": "2021-10-13T20:33:39.988Z"
   },
   {
    "duration": -175,
    "start_time": "2021-10-13T20:33:39.992Z"
   },
   {
    "duration": -177,
    "start_time": "2021-10-13T20:33:39.995Z"
   },
   {
    "duration": -178,
    "start_time": "2021-10-13T20:33:39.998Z"
   },
   {
    "duration": 4769,
    "start_time": "2021-10-13T20:34:28.767Z"
   },
   {
    "duration": 4400,
    "start_time": "2021-10-13T20:35:24.344Z"
   },
   {
    "duration": 2181,
    "start_time": "2021-10-13T20:35:58.489Z"
   },
   {
    "duration": 869,
    "start_time": "2021-10-13T20:39:54.364Z"
   },
   {
    "duration": 432,
    "start_time": "2021-10-13T20:40:17.419Z"
   },
   {
    "duration": 23,
    "start_time": "2021-10-13T20:41:17.330Z"
   },
   {
    "duration": 29,
    "start_time": "2021-10-13T20:41:22.128Z"
   },
   {
    "duration": 35,
    "start_time": "2021-10-13T20:45:27.435Z"
   },
   {
    "duration": 118,
    "start_time": "2021-10-13T20:48:53.674Z"
   },
   {
    "duration": 2195,
    "start_time": "2021-10-13T20:53:53.843Z"
   },
   {
    "duration": 2164,
    "start_time": "2021-10-13T20:56:01.664Z"
   },
   {
    "duration": 2251,
    "start_time": "2021-10-13T21:02:39.074Z"
   },
   {
    "duration": 8,
    "start_time": "2021-10-13T21:02:41.327Z"
   },
   {
    "duration": 12,
    "start_time": "2021-10-13T21:02:41.338Z"
   },
   {
    "duration": 43,
    "start_time": "2021-10-13T21:02:41.382Z"
   },
   {
    "duration": 6,
    "start_time": "2021-10-13T21:02:41.428Z"
   },
   {
    "duration": 51,
    "start_time": "2021-10-13T21:02:41.437Z"
   },
   {
    "duration": 39,
    "start_time": "2021-10-13T21:02:41.490Z"
   },
   {
    "duration": 15,
    "start_time": "2021-10-13T21:02:41.535Z"
   },
   {
    "duration": 38,
    "start_time": "2021-10-13T21:02:41.553Z"
   },
   {
    "duration": 29,
    "start_time": "2021-10-13T21:02:41.593Z"
   },
   {
    "duration": 66,
    "start_time": "2021-10-13T21:02:41.625Z"
   },
   {
    "duration": 12020,
    "start_time": "2021-10-13T21:02:41.693Z"
   },
   {
    "duration": 21650,
    "start_time": "2021-10-13T21:02:53.716Z"
   },
   {
    "duration": 22,
    "start_time": "2021-10-13T21:03:15.369Z"
   },
   {
    "duration": 34,
    "start_time": "2021-10-13T21:03:15.394Z"
   },
   {
    "duration": 60,
    "start_time": "2021-10-13T21:03:15.430Z"
   },
   {
    "duration": 4523,
    "start_time": "2021-10-13T21:03:15.493Z"
   },
   {
    "duration": 2593,
    "start_time": "2021-10-13T21:03:20.018Z"
   },
   {
    "duration": 2171,
    "start_time": "2021-10-13T21:03:22.613Z"
   },
   {
    "duration": 115,
    "start_time": "2021-10-13T21:03:24.787Z"
   },
   {
    "duration": 2160,
    "start_time": "2021-10-13T21:03:24.905Z"
   },
   {
    "duration": 231,
    "start_time": "2021-10-13T21:03:27.067Z"
   },
   {
    "duration": 243,
    "start_time": "2021-10-13T21:03:27.303Z"
   },
   {
    "duration": 2270,
    "start_time": "2021-10-13T21:03:47.015Z"
   },
   {
    "duration": 2101,
    "start_time": "2021-10-13T21:04:10.026Z"
   },
   {
    "duration": 2150,
    "start_time": "2021-10-13T21:04:24.373Z"
   },
   {
    "duration": 3137,
    "start_time": "2021-10-13T21:05:27.558Z"
   },
   {
    "duration": 2271,
    "start_time": "2021-10-13T21:34:11.939Z"
   },
   {
    "duration": 8,
    "start_time": "2021-10-13T21:34:14.213Z"
   },
   {
    "duration": 10,
    "start_time": "2021-10-13T21:34:14.224Z"
   },
   {
    "duration": 70,
    "start_time": "2021-10-13T21:34:14.237Z"
   },
   {
    "duration": 5,
    "start_time": "2021-10-13T21:34:14.310Z"
   },
   {
    "duration": 30,
    "start_time": "2021-10-13T21:34:14.318Z"
   },
   {
    "duration": 56,
    "start_time": "2021-10-13T21:34:14.350Z"
   },
   {
    "duration": 14,
    "start_time": "2021-10-13T21:34:14.411Z"
   },
   {
    "duration": 10,
    "start_time": "2021-10-13T21:34:14.429Z"
   },
   {
    "duration": 9,
    "start_time": "2021-10-13T21:34:14.442Z"
   },
   {
    "duration": 50,
    "start_time": "2021-10-13T21:34:14.482Z"
   },
   {
    "duration": 11848,
    "start_time": "2021-10-13T21:34:14.534Z"
   },
   {
    "duration": 20933,
    "start_time": "2021-10-13T21:34:26.384Z"
   },
   {
    "duration": 13,
    "start_time": "2021-10-13T21:34:47.319Z"
   },
   {
    "duration": 24,
    "start_time": "2021-10-13T21:34:47.334Z"
   },
   {
    "duration": 58,
    "start_time": "2021-10-13T21:34:47.361Z"
   },
   {
    "duration": 4214,
    "start_time": "2021-10-13T21:34:47.421Z"
   },
   {
    "duration": 2604,
    "start_time": "2021-10-13T21:34:51.637Z"
   },
   {
    "duration": 2163,
    "start_time": "2021-10-13T21:34:54.243Z"
   },
   {
    "duration": 119,
    "start_time": "2021-10-13T21:34:56.410Z"
   },
   {
    "duration": 2130,
    "start_time": "2021-10-13T21:34:56.532Z"
   },
   {
    "duration": 227,
    "start_time": "2021-10-13T21:34:58.665Z"
   },
   {
    "duration": 235,
    "start_time": "2021-10-13T21:34:58.896Z"
   },
   {
    "duration": 2473,
    "start_time": "2021-10-14T06:26:59.947Z"
   },
   {
    "duration": 10,
    "start_time": "2021-10-14T06:27:02.422Z"
   },
   {
    "duration": 40,
    "start_time": "2021-10-14T06:27:02.437Z"
   },
   {
    "duration": 56,
    "start_time": "2021-10-14T06:27:02.480Z"
   },
   {
    "duration": 6,
    "start_time": "2021-10-14T06:27:02.539Z"
   },
   {
    "duration": 31,
    "start_time": "2021-10-14T06:27:02.568Z"
   },
   {
    "duration": 38,
    "start_time": "2021-10-14T06:27:02.602Z"
   },
   {
    "duration": 31,
    "start_time": "2021-10-14T06:27:02.643Z"
   },
   {
    "duration": 12,
    "start_time": "2021-10-14T06:27:02.678Z"
   },
   {
    "duration": 12,
    "start_time": "2021-10-14T06:27:02.693Z"
   },
   {
    "duration": 89,
    "start_time": "2021-10-14T06:27:02.708Z"
   },
   {
    "duration": 13324,
    "start_time": "2021-10-14T06:27:02.800Z"
   },
   {
    "duration": 25104,
    "start_time": "2021-10-14T06:27:16.128Z"
   },
   {
    "duration": 32,
    "start_time": "2021-10-14T06:27:41.235Z"
   },
   {
    "duration": 18,
    "start_time": "2021-10-14T06:27:41.269Z"
   },
   {
    "duration": 45,
    "start_time": "2021-10-14T06:27:41.290Z"
   },
   {
    "duration": 4710,
    "start_time": "2021-10-14T06:27:41.338Z"
   },
   {
    "duration": 3134,
    "start_time": "2021-10-14T06:27:46.050Z"
   },
   {
    "duration": 2389,
    "start_time": "2021-10-14T06:27:49.187Z"
   },
   {
    "duration": 131,
    "start_time": "2021-10-14T06:27:51.579Z"
   },
   {
    "duration": 2235,
    "start_time": "2021-10-14T06:27:51.713Z"
   },
   {
    "duration": 261,
    "start_time": "2021-10-14T06:27:53.951Z"
   },
   {
    "duration": 253,
    "start_time": "2021-10-14T06:27:54.215Z"
   },
   {
    "duration": 29,
    "start_time": "2021-10-14T06:33:51.806Z"
   },
   {
    "duration": 8,
    "start_time": "2021-10-14T06:33:58.327Z"
   },
   {
    "duration": 5,
    "start_time": "2021-10-14T06:36:33.128Z"
   },
   {
    "duration": 1755,
    "start_time": "2021-10-14T07:30:32.461Z"
   },
   {
    "duration": 6,
    "start_time": "2021-10-14T07:30:34.218Z"
   },
   {
    "duration": 22,
    "start_time": "2021-10-14T07:30:34.226Z"
   },
   {
    "duration": 42,
    "start_time": "2021-10-14T07:30:34.250Z"
   },
   {
    "duration": 4,
    "start_time": "2021-10-14T07:30:34.294Z"
   },
   {
    "duration": 26,
    "start_time": "2021-10-14T07:30:34.300Z"
   },
   {
    "duration": 28,
    "start_time": "2021-10-14T07:30:34.328Z"
   },
   {
    "duration": 7,
    "start_time": "2021-10-14T07:30:34.359Z"
   },
   {
    "duration": 8,
    "start_time": "2021-10-14T07:30:34.368Z"
   },
   {
    "duration": 20,
    "start_time": "2021-10-14T07:30:34.377Z"
   },
   {
    "duration": 47,
    "start_time": "2021-10-14T07:30:34.399Z"
   },
   {
    "duration": 7103,
    "start_time": "2021-10-14T07:30:34.447Z"
   },
   {
    "duration": 12649,
    "start_time": "2021-10-14T07:30:41.552Z"
   },
   {
    "duration": 10,
    "start_time": "2021-10-14T07:30:54.203Z"
   },
   {
    "duration": 13,
    "start_time": "2021-10-14T07:30:54.215Z"
   },
   {
    "duration": 38,
    "start_time": "2021-10-14T07:30:54.245Z"
   },
   {
    "duration": 2272,
    "start_time": "2021-10-14T07:30:54.285Z"
   },
   {
    "duration": 1655,
    "start_time": "2021-10-14T07:30:56.558Z"
   },
   {
    "duration": 1481,
    "start_time": "2021-10-14T07:30:58.214Z"
   },
   {
    "duration": 66,
    "start_time": "2021-10-14T07:30:59.697Z"
   },
   {
    "duration": 1465,
    "start_time": "2021-10-14T07:30:59.766Z"
   },
   {
    "duration": 151,
    "start_time": "2021-10-14T07:31:01.233Z"
   },
   {
    "duration": 150,
    "start_time": "2021-10-14T07:31:01.387Z"
   },
   {
    "duration": 2048,
    "start_time": "2021-10-14T07:34:01.849Z"
   },
   {
    "duration": 47,
    "start_time": "2021-10-14T07:34:03.899Z"
   },
   {
    "duration": 12,
    "start_time": "2021-10-14T07:34:03.949Z"
   },
   {
    "duration": 34,
    "start_time": "2021-10-14T07:34:03.963Z"
   },
   {
    "duration": 4,
    "start_time": "2021-10-14T07:34:03.999Z"
   },
   {
    "duration": 52,
    "start_time": "2021-10-14T07:34:04.005Z"
   },
   {
    "duration": 25,
    "start_time": "2021-10-14T07:34:04.059Z"
   },
   {
    "duration": 10,
    "start_time": "2021-10-14T07:34:04.087Z"
   },
   {
    "duration": 11,
    "start_time": "2021-10-14T07:34:04.100Z"
   },
   {
    "duration": 11,
    "start_time": "2021-10-14T07:34:04.113Z"
   },
   {
    "duration": 55,
    "start_time": "2021-10-14T07:34:04.125Z"
   },
   {
    "duration": 7248,
    "start_time": "2021-10-14T07:34:04.181Z"
   },
   {
    "duration": 12677,
    "start_time": "2021-10-14T07:34:11.430Z"
   },
   {
    "duration": 10,
    "start_time": "2021-10-14T07:34:24.109Z"
   },
   {
    "duration": 24,
    "start_time": "2021-10-14T07:34:24.120Z"
   },
   {
    "duration": 26,
    "start_time": "2021-10-14T07:34:24.146Z"
   },
   {
    "duration": 7233,
    "start_time": "2021-10-14T07:34:24.174Z"
   },
   {
    "duration": -126,
    "start_time": "2021-10-14T07:34:31.535Z"
   },
   {
    "duration": -130,
    "start_time": "2021-10-14T07:34:31.540Z"
   },
   {
    "duration": -135,
    "start_time": "2021-10-14T07:34:31.546Z"
   },
   {
    "duration": -140,
    "start_time": "2021-10-14T07:34:31.551Z"
   },
   {
    "duration": -145,
    "start_time": "2021-10-14T07:34:31.557Z"
   },
   {
    "duration": -155,
    "start_time": "2021-10-14T07:34:31.568Z"
   },
   {
    "duration": 15,
    "start_time": "2021-10-14T07:36:33.206Z"
   },
   {
    "duration": 81,
    "start_time": "2021-10-14T07:37:59.662Z"
   },
   {
    "duration": 10056,
    "start_time": "2021-10-14T07:38:05.840Z"
   },
   {
    "duration": 11,
    "start_time": "2021-10-14T07:39:23.007Z"
   },
   {
    "duration": 15,
    "start_time": "2021-10-14T07:39:27.238Z"
   },
   {
    "duration": 82,
    "start_time": "2021-10-14T07:40:21.255Z"
   },
   {
    "duration": 11,
    "start_time": "2021-10-14T07:40:27.904Z"
   },
   {
    "duration": 16,
    "start_time": "2021-10-14T07:40:31.735Z"
   },
   {
    "duration": 16,
    "start_time": "2021-10-14T07:40:56.542Z"
   },
   {
    "duration": 320,
    "start_time": "2021-10-14T07:42:06.159Z"
   },
   {
    "duration": 257,
    "start_time": "2021-10-14T07:42:15.436Z"
   },
   {
    "duration": 12,
    "start_time": "2021-10-14T07:42:19.978Z"
   },
   {
    "duration": 11,
    "start_time": "2021-10-14T07:42:24.954Z"
   },
   {
    "duration": 22,
    "start_time": "2021-10-14T07:42:33.747Z"
   },
   {
    "duration": 87,
    "start_time": "2021-10-14T07:43:59.888Z"
   },
   {
    "duration": 27,
    "start_time": "2021-10-14T07:44:23.622Z"
   },
   {
    "duration": 10,
    "start_time": "2021-10-14T07:44:29.642Z"
   },
   {
    "duration": 2657,
    "start_time": "2021-10-14T07:44:39.795Z"
   },
   {
    "duration": 5,
    "start_time": "2021-10-14T07:44:42.454Z"
   },
   {
    "duration": 19,
    "start_time": "2021-10-14T07:44:42.461Z"
   },
   {
    "duration": 38,
    "start_time": "2021-10-14T07:44:42.482Z"
   },
   {
    "duration": 4,
    "start_time": "2021-10-14T07:44:42.521Z"
   },
   {
    "duration": 32,
    "start_time": "2021-10-14T07:44:42.526Z"
   },
   {
    "duration": 26,
    "start_time": "2021-10-14T07:44:42.560Z"
   },
   {
    "duration": 8,
    "start_time": "2021-10-14T07:44:42.589Z"
   },
   {
    "duration": 8,
    "start_time": "2021-10-14T07:44:42.599Z"
   },
   {
    "duration": 5,
    "start_time": "2021-10-14T07:44:42.608Z"
   },
   {
    "duration": 61,
    "start_time": "2021-10-14T07:44:42.615Z"
   },
   {
    "duration": 7073,
    "start_time": "2021-10-14T07:44:42.678Z"
   },
   {
    "duration": 12960,
    "start_time": "2021-10-14T07:44:49.753Z"
   },
   {
    "duration": 6915,
    "start_time": "2021-10-14T07:45:02.715Z"
   },
   {
    "duration": -55,
    "start_time": "2021-10-14T07:45:09.687Z"
   },
   {
    "duration": -59,
    "start_time": "2021-10-14T07:45:09.692Z"
   },
   {
    "duration": -70,
    "start_time": "2021-10-14T07:45:09.703Z"
   },
   {
    "duration": -74,
    "start_time": "2021-10-14T07:45:09.709Z"
   },
   {
    "duration": -81,
    "start_time": "2021-10-14T07:45:09.717Z"
   },
   {
    "duration": -85,
    "start_time": "2021-10-14T07:45:09.722Z"
   },
   {
    "duration": -90,
    "start_time": "2021-10-14T07:45:09.728Z"
   },
   {
    "duration": -93,
    "start_time": "2021-10-14T07:45:09.732Z"
   },
   {
    "duration": -99,
    "start_time": "2021-10-14T07:45:09.738Z"
   },
   {
    "duration": 2952,
    "start_time": "2021-10-14T08:40:59.652Z"
   },
   {
    "duration": 6,
    "start_time": "2021-10-14T08:41:02.605Z"
   },
   {
    "duration": 8,
    "start_time": "2021-10-14T08:41:02.613Z"
   },
   {
    "duration": 52,
    "start_time": "2021-10-14T08:41:02.623Z"
   },
   {
    "duration": 4,
    "start_time": "2021-10-14T08:41:02.677Z"
   },
   {
    "duration": 20,
    "start_time": "2021-10-14T08:41:02.683Z"
   },
   {
    "duration": 53,
    "start_time": "2021-10-14T08:41:02.704Z"
   },
   {
    "duration": 9,
    "start_time": "2021-10-14T08:41:02.760Z"
   },
   {
    "duration": 8,
    "start_time": "2021-10-14T08:41:02.772Z"
   },
   {
    "duration": 6,
    "start_time": "2021-10-14T08:41:02.782Z"
   },
   {
    "duration": 66,
    "start_time": "2021-10-14T08:41:02.790Z"
   },
   {
    "duration": 7432,
    "start_time": "2021-10-14T08:41:02.858Z"
   },
   {
    "duration": 13006,
    "start_time": "2021-10-14T08:41:10.291Z"
   },
   {
    "duration": 6648,
    "start_time": "2021-10-14T08:41:23.299Z"
   },
   {
    "duration": -25280,
    "start_time": "2021-10-14T08:41:55.229Z"
   },
   {
    "duration": -25283,
    "start_time": "2021-10-14T08:41:55.233Z"
   },
   {
    "duration": -25286,
    "start_time": "2021-10-14T08:41:55.237Z"
   },
   {
    "duration": -25291,
    "start_time": "2021-10-14T08:41:55.243Z"
   },
   {
    "duration": -25294,
    "start_time": "2021-10-14T08:41:55.247Z"
   },
   {
    "duration": -25298,
    "start_time": "2021-10-14T08:41:55.252Z"
   },
   {
    "duration": -25301,
    "start_time": "2021-10-14T08:41:55.256Z"
   },
   {
    "duration": -25303,
    "start_time": "2021-10-14T08:41:55.259Z"
   },
   {
    "duration": -25306,
    "start_time": "2021-10-14T08:41:55.263Z"
   },
   {
    "duration": 11,
    "start_time": "2021-10-14T08:42:39.586Z"
   },
   {
    "duration": 1809,
    "start_time": "2021-10-14T08:42:45.942Z"
   },
   {
    "duration": 5,
    "start_time": "2021-10-14T08:42:47.753Z"
   },
   {
    "duration": 15,
    "start_time": "2021-10-14T08:42:47.761Z"
   },
   {
    "duration": 36,
    "start_time": "2021-10-14T08:42:47.778Z"
   },
   {
    "duration": 4,
    "start_time": "2021-10-14T08:42:47.816Z"
   },
   {
    "duration": 43,
    "start_time": "2021-10-14T08:42:47.822Z"
   },
   {
    "duration": 30,
    "start_time": "2021-10-14T08:42:47.867Z"
   },
   {
    "duration": 9,
    "start_time": "2021-10-14T08:42:47.898Z"
   },
   {
    "duration": 8,
    "start_time": "2021-10-14T08:42:47.909Z"
   },
   {
    "duration": 8,
    "start_time": "2021-10-14T08:42:47.919Z"
   },
   {
    "duration": 47,
    "start_time": "2021-10-14T08:42:47.929Z"
   },
   {
    "duration": 7503,
    "start_time": "2021-10-14T08:42:47.978Z"
   },
   {
    "duration": 13909,
    "start_time": "2021-10-14T08:42:55.483Z"
   },
   {
    "duration": 9,
    "start_time": "2021-10-14T08:43:09.393Z"
   },
   {
    "duration": 18,
    "start_time": "2021-10-14T08:43:09.404Z"
   },
   {
    "duration": 56,
    "start_time": "2021-10-14T08:43:09.424Z"
   },
   {
    "duration": 2246,
    "start_time": "2021-10-14T08:43:09.483Z"
   },
   {
    "duration": 1440,
    "start_time": "2021-10-14T08:43:11.731Z"
   },
   {
    "duration": 1334,
    "start_time": "2021-10-14T08:43:13.173Z"
   },
   {
    "duration": 69,
    "start_time": "2021-10-14T08:43:14.509Z"
   },
   {
    "duration": 1258,
    "start_time": "2021-10-14T08:43:14.579Z"
   },
   {
    "duration": 143,
    "start_time": "2021-10-14T08:43:15.839Z"
   },
   {
    "duration": 144,
    "start_time": "2021-10-14T08:43:15.984Z"
   },
   {
    "duration": 82,
    "start_time": "2021-10-14T08:51:53.696Z"
   },
   {
    "duration": 336,
    "start_time": "2021-10-14T08:51:58.948Z"
   },
   {
    "duration": 277,
    "start_time": "2021-10-14T08:52:34.746Z"
   },
   {
    "duration": 264,
    "start_time": "2021-10-14T08:53:15.428Z"
   },
   {
    "duration": 26,
    "start_time": "2021-10-14T08:53:24.968Z"
   },
   {
    "duration": 8493,
    "start_time": "2021-10-14T08:53:39.813Z"
   },
   {
    "duration": 6432,
    "start_time": "2021-10-14T08:54:20.389Z"
   },
   {
    "duration": 1478,
    "start_time": "2021-10-14T08:54:43.398Z"
   },
   {
    "duration": 1894,
    "start_time": "2021-10-14T08:55:04.853Z"
   },
   {
    "duration": 6,
    "start_time": "2021-10-14T08:55:06.749Z"
   },
   {
    "duration": 33,
    "start_time": "2021-10-14T08:55:06.757Z"
   },
   {
    "duration": 49,
    "start_time": "2021-10-14T08:55:06.792Z"
   },
   {
    "duration": 4,
    "start_time": "2021-10-14T08:55:06.843Z"
   },
   {
    "duration": 52,
    "start_time": "2021-10-14T08:55:06.848Z"
   },
   {
    "duration": 61,
    "start_time": "2021-10-14T08:55:06.902Z"
   },
   {
    "duration": 9,
    "start_time": "2021-10-14T08:55:06.966Z"
   },
   {
    "duration": 23,
    "start_time": "2021-10-14T08:55:06.977Z"
   },
   {
    "duration": 15,
    "start_time": "2021-10-14T08:55:07.002Z"
   },
   {
    "duration": 62,
    "start_time": "2021-10-14T08:55:07.019Z"
   },
   {
    "duration": 8255,
    "start_time": "2021-10-14T08:55:07.083Z"
   },
   {
    "duration": 14329,
    "start_time": "2021-10-14T08:55:15.340Z"
   },
   {
    "duration": 9,
    "start_time": "2021-10-14T08:55:29.671Z"
   },
   {
    "duration": 28,
    "start_time": "2021-10-14T08:55:29.682Z"
   },
   {
    "duration": 130,
    "start_time": "2021-10-14T08:55:29.711Z"
   },
   {
    "duration": 2440,
    "start_time": "2021-10-14T08:55:29.843Z"
   },
   {
    "duration": 6587,
    "start_time": "2021-10-14T08:55:32.285Z"
   },
   {
    "duration": -308,
    "start_time": "2021-10-14T08:55:39.181Z"
   },
   {
    "duration": -312,
    "start_time": "2021-10-14T08:55:39.186Z"
   },
   {
    "duration": -315,
    "start_time": "2021-10-14T08:55:39.190Z"
   },
   {
    "duration": -317,
    "start_time": "2021-10-14T08:55:39.193Z"
   },
   {
    "duration": -320,
    "start_time": "2021-10-14T08:55:39.197Z"
   },
   {
    "duration": -324,
    "start_time": "2021-10-14T08:55:39.201Z"
   },
   {
    "duration": 7127,
    "start_time": "2021-10-14T08:56:56.729Z"
   },
   {
    "duration": 6743,
    "start_time": "2021-10-14T08:57:26.798Z"
   },
   {
    "duration": 3433,
    "start_time": "2021-10-14T08:58:08.636Z"
   },
   {
    "duration": 7802,
    "start_time": "2021-10-14T08:58:20.675Z"
   },
   {
    "duration": -110,
    "start_time": "2021-10-14T08:58:28.589Z"
   },
   {
    "duration": 1644,
    "start_time": "2021-10-14T08:58:57.691Z"
   },
   {
    "duration": 6277,
    "start_time": "2021-10-14T09:03:22.952Z"
   },
   {
    "duration": 388,
    "start_time": "2021-10-14T09:04:30.351Z"
   },
   {
    "duration": 1019,
    "start_time": "2021-10-14T09:04:52.831Z"
   },
   {
    "duration": 1099,
    "start_time": "2021-10-14T09:05:27.165Z"
   },
   {
    "duration": 1243,
    "start_time": "2021-10-14T09:06:10.109Z"
   },
   {
    "duration": 539,
    "start_time": "2021-10-14T09:06:54.377Z"
   },
   {
    "duration": 567,
    "start_time": "2021-10-14T09:07:51.266Z"
   },
   {
    "duration": 1769,
    "start_time": "2021-10-14T09:10:11.300Z"
   },
   {
    "duration": 6,
    "start_time": "2021-10-14T09:10:13.071Z"
   },
   {
    "duration": 19,
    "start_time": "2021-10-14T09:10:13.078Z"
   },
   {
    "duration": 54,
    "start_time": "2021-10-14T09:10:13.098Z"
   },
   {
    "duration": 5,
    "start_time": "2021-10-14T09:10:13.154Z"
   },
   {
    "duration": 46,
    "start_time": "2021-10-14T09:10:13.160Z"
   },
   {
    "duration": 27,
    "start_time": "2021-10-14T09:10:13.208Z"
   },
   {
    "duration": 10,
    "start_time": "2021-10-14T09:10:13.239Z"
   },
   {
    "duration": 10,
    "start_time": "2021-10-14T09:10:13.251Z"
   },
   {
    "duration": 4,
    "start_time": "2021-10-14T09:10:13.263Z"
   },
   {
    "duration": 44,
    "start_time": "2021-10-14T09:10:13.269Z"
   },
   {
    "duration": 7188,
    "start_time": "2021-10-14T09:10:13.315Z"
   },
   {
    "duration": 12991,
    "start_time": "2021-10-14T09:10:20.505Z"
   },
   {
    "duration": 9,
    "start_time": "2021-10-14T09:10:33.497Z"
   },
   {
    "duration": 35,
    "start_time": "2021-10-14T09:10:33.508Z"
   },
   {
    "duration": 32,
    "start_time": "2021-10-14T09:10:33.545Z"
   },
   {
    "duration": 2310,
    "start_time": "2021-10-14T09:10:33.579Z"
   },
   {
    "duration": 579,
    "start_time": "2021-10-14T09:10:35.890Z"
   },
   {
    "duration": 1439,
    "start_time": "2021-10-14T09:10:36.470Z"
   },
   {
    "duration": 1333,
    "start_time": "2021-10-14T09:10:37.911Z"
   },
   {
    "duration": 62,
    "start_time": "2021-10-14T09:10:39.246Z"
   },
   {
    "duration": 1357,
    "start_time": "2021-10-14T09:10:39.310Z"
   },
   {
    "duration": 140,
    "start_time": "2021-10-14T09:10:40.670Z"
   },
   {
    "duration": 157,
    "start_time": "2021-10-14T09:10:40.812Z"
   },
   {
    "duration": 3430,
    "start_time": "2021-10-14T09:14:09.608Z"
   },
   {
    "duration": 3189,
    "start_time": "2021-10-14T09:15:07.695Z"
   },
   {
    "duration": 1147,
    "start_time": "2021-10-14T09:15:43.791Z"
   },
   {
    "duration": 659,
    "start_time": "2021-10-14T09:16:13.510Z"
   },
   {
    "duration": 1778,
    "start_time": "2021-10-14T09:16:50.087Z"
   },
   {
    "duration": 6,
    "start_time": "2021-10-14T09:16:51.867Z"
   },
   {
    "duration": 31,
    "start_time": "2021-10-14T09:16:51.874Z"
   },
   {
    "duration": 46,
    "start_time": "2021-10-14T09:16:51.906Z"
   },
   {
    "duration": 4,
    "start_time": "2021-10-14T09:16:51.953Z"
   },
   {
    "duration": 34,
    "start_time": "2021-10-14T09:16:51.959Z"
   },
   {
    "duration": 33,
    "start_time": "2021-10-14T09:16:51.995Z"
   },
   {
    "duration": 17,
    "start_time": "2021-10-14T09:16:52.030Z"
   },
   {
    "duration": 9,
    "start_time": "2021-10-14T09:16:52.050Z"
   },
   {
    "duration": 14,
    "start_time": "2021-10-14T09:16:52.061Z"
   },
   {
    "duration": 56,
    "start_time": "2021-10-14T09:16:52.077Z"
   },
   {
    "duration": 7328,
    "start_time": "2021-10-14T09:16:52.135Z"
   },
   {
    "duration": 13181,
    "start_time": "2021-10-14T09:16:59.465Z"
   },
   {
    "duration": 9,
    "start_time": "2021-10-14T09:17:12.648Z"
   },
   {
    "duration": 15,
    "start_time": "2021-10-14T09:17:12.658Z"
   },
   {
    "duration": 26,
    "start_time": "2021-10-14T09:17:12.675Z"
   },
   {
    "duration": 2378,
    "start_time": "2021-10-14T09:17:12.703Z"
   },
   {
    "duration": 747,
    "start_time": "2021-10-14T09:17:15.083Z"
   },
   {
    "duration": 1337,
    "start_time": "2021-10-14T09:17:15.832Z"
   },
   {
    "duration": 83,
    "start_time": "2021-10-14T09:17:17.171Z"
   },
   {
    "duration": 1331,
    "start_time": "2021-10-14T09:17:17.256Z"
   },
   {
    "duration": 139,
    "start_time": "2021-10-14T09:17:18.589Z"
   },
   {
    "duration": 139,
    "start_time": "2021-10-14T09:17:18.744Z"
   },
   {
    "duration": 2400,
    "start_time": "2021-10-14T12:29:16.001Z"
   },
   {
    "duration": 10,
    "start_time": "2021-10-14T12:29:18.423Z"
   },
   {
    "duration": 12,
    "start_time": "2021-10-14T12:29:18.436Z"
   },
   {
    "duration": 49,
    "start_time": "2021-10-14T12:29:18.451Z"
   },
   {
    "duration": 23,
    "start_time": "2021-10-14T12:29:18.502Z"
   },
   {
    "duration": 33,
    "start_time": "2021-10-14T12:29:18.528Z"
   },
   {
    "duration": 61,
    "start_time": "2021-10-14T12:29:18.564Z"
   },
   {
    "duration": 15,
    "start_time": "2021-10-14T12:29:18.627Z"
   },
   {
    "duration": 11,
    "start_time": "2021-10-14T12:29:18.646Z"
   },
   {
    "duration": 11,
    "start_time": "2021-10-14T12:29:18.661Z"
   },
   {
    "duration": 83,
    "start_time": "2021-10-14T12:29:18.674Z"
   },
   {
    "duration": 12449,
    "start_time": "2021-10-14T12:29:18.759Z"
   },
   {
    "duration": 22450,
    "start_time": "2021-10-14T12:29:31.222Z"
   },
   {
    "duration": 19,
    "start_time": "2021-10-14T12:29:53.676Z"
   },
   {
    "duration": 24,
    "start_time": "2021-10-14T12:29:53.722Z"
   },
   {
    "duration": 81,
    "start_time": "2021-10-14T12:29:53.749Z"
   },
   {
    "duration": 4546,
    "start_time": "2021-10-14T12:29:53.833Z"
   },
   {
    "duration": 1358,
    "start_time": "2021-10-14T12:29:58.382Z"
   },
   {
    "duration": 2299,
    "start_time": "2021-10-14T12:29:59.743Z"
   },
   {
    "duration": 127,
    "start_time": "2021-10-14T12:30:02.045Z"
   },
   {
    "duration": 2383,
    "start_time": "2021-10-14T12:30:02.175Z"
   },
   {
    "duration": 241,
    "start_time": "2021-10-14T12:30:04.560Z"
   },
   {
    "duration": 256,
    "start_time": "2021-10-14T12:30:04.803Z"
   },
   {
    "duration": 2331,
    "start_time": "2021-10-14T12:35:24.047Z"
   },
   {
    "duration": 8,
    "start_time": "2021-10-14T12:35:26.381Z"
   },
   {
    "duration": 7,
    "start_time": "2021-10-14T12:35:26.423Z"
   },
   {
    "duration": 53,
    "start_time": "2021-10-14T12:35:26.432Z"
   },
   {
    "duration": 6,
    "start_time": "2021-10-14T12:35:26.487Z"
   },
   {
    "duration": 49,
    "start_time": "2021-10-14T12:35:26.495Z"
   },
   {
    "duration": 37,
    "start_time": "2021-10-14T12:35:26.547Z"
   },
   {
    "duration": 14,
    "start_time": "2021-10-14T12:35:26.587Z"
   },
   {
    "duration": 11,
    "start_time": "2021-10-14T12:35:26.623Z"
   },
   {
    "duration": 9,
    "start_time": "2021-10-14T12:35:26.637Z"
   },
   {
    "duration": 77,
    "start_time": "2021-10-14T12:35:26.648Z"
   },
   {
    "duration": 12242,
    "start_time": "2021-10-14T12:35:26.728Z"
   },
   {
    "duration": 22578,
    "start_time": "2021-10-14T12:35:38.972Z"
   },
   {
    "duration": 14,
    "start_time": "2021-10-14T12:36:01.552Z"
   },
   {
    "duration": 32,
    "start_time": "2021-10-14T12:36:01.568Z"
   },
   {
    "duration": 60,
    "start_time": "2021-10-14T12:36:01.603Z"
   },
   {
    "duration": 4456,
    "start_time": "2021-10-14T12:36:01.666Z"
   },
   {
    "duration": 1363,
    "start_time": "2021-10-14T12:36:06.125Z"
   },
   {
    "duration": 2331,
    "start_time": "2021-10-14T12:36:07.491Z"
   },
   {
    "duration": 121,
    "start_time": "2021-10-14T12:36:09.825Z"
   },
   {
    "duration": 2541,
    "start_time": "2021-10-14T12:36:09.949Z"
   },
   {
    "duration": 252,
    "start_time": "2021-10-14T12:36:12.493Z"
   },
   {
    "duration": 275,
    "start_time": "2021-10-14T12:36:12.749Z"
   },
   {
    "duration": 1577,
    "start_time": "2021-10-14T12:47:08.082Z"
   },
   {
    "duration": 264,
    "start_time": "2021-10-14T12:49:52.528Z"
   },
   {
    "duration": 483,
    "start_time": "2021-10-14T12:50:43.614Z"
   },
   {
    "duration": 518,
    "start_time": "2021-10-14T12:51:10.172Z"
   },
   {
    "duration": 32,
    "start_time": "2021-10-14T12:51:38.896Z"
   },
   {
    "duration": 1595,
    "start_time": "2021-10-14T12:52:14.502Z"
   },
   {
    "duration": 12,
    "start_time": "2021-10-14T13:01:05.053Z"
   },
   {
    "duration": 10853,
    "start_time": "2021-10-14T13:04:38.143Z"
   },
   {
    "duration": 10993,
    "start_time": "2021-10-14T13:05:09.681Z"
   },
   {
    "duration": 149,
    "start_time": "2021-10-14T13:06:44.854Z"
   },
   {
    "duration": 272,
    "start_time": "2021-10-14T13:07:49.373Z"
   },
   {
    "duration": 141,
    "start_time": "2021-10-14T13:07:57.841Z"
   },
   {
    "duration": 450,
    "start_time": "2021-10-14T13:08:22.998Z"
   },
   {
    "duration": 151,
    "start_time": "2021-10-14T13:08:28.146Z"
   },
   {
    "duration": 187,
    "start_time": "2021-10-14T13:08:43.964Z"
   },
   {
    "duration": 275,
    "start_time": "2021-10-14T13:09:12.912Z"
   },
   {
    "duration": 306,
    "start_time": "2021-10-14T13:10:19.459Z"
   },
   {
    "duration": 85,
    "start_time": "2021-10-14T13:11:09.690Z"
   },
   {
    "duration": 66,
    "start_time": "2021-10-14T13:11:37.255Z"
   },
   {
    "duration": 7679,
    "start_time": "2021-10-14T13:14:00.712Z"
   },
   {
    "duration": 165,
    "start_time": "2021-10-14T13:14:19.070Z"
   },
   {
    "duration": 404,
    "start_time": "2021-10-14T13:16:17.735Z"
   },
   {
    "duration": 602,
    "start_time": "2021-10-14T13:16:25.948Z"
   },
   {
    "duration": 518,
    "start_time": "2021-10-14T13:17:16.715Z"
   },
   {
    "duration": 138,
    "start_time": "2021-10-14T13:33:57.304Z"
   },
   {
    "duration": 270,
    "start_time": "2021-10-14T13:34:02.872Z"
   },
   {
    "duration": 161,
    "start_time": "2021-10-14T14:15:51.708Z"
   },
   {
    "duration": 164,
    "start_time": "2021-10-14T14:29:09.177Z"
   },
   {
    "duration": 5,
    "start_time": "2021-10-14T14:30:58.642Z"
   },
   {
    "duration": 7,
    "start_time": "2021-10-14T14:32:14.155Z"
   },
   {
    "duration": 279,
    "start_time": "2021-10-14T14:33:30.342Z"
   },
   {
    "duration": 7,
    "start_time": "2021-10-14T14:36:03.481Z"
   },
   {
    "duration": 164,
    "start_time": "2021-10-14T15:02:21.792Z"
   },
   {
    "duration": 7,
    "start_time": "2021-10-14T15:03:47.676Z"
   },
   {
    "duration": 431,
    "start_time": "2021-10-14T15:06:16.586Z"
   },
   {
    "duration": 153,
    "start_time": "2021-10-14T15:09:25.574Z"
   },
   {
    "duration": 7,
    "start_time": "2021-10-14T15:09:28.861Z"
   },
   {
    "duration": 2652,
    "start_time": "2021-10-14T15:11:44.698Z"
   },
   {
    "duration": 8,
    "start_time": "2021-10-14T15:11:47.353Z"
   },
   {
    "duration": 13,
    "start_time": "2021-10-14T15:11:47.364Z"
   },
   {
    "duration": 76,
    "start_time": "2021-10-14T15:11:47.380Z"
   },
   {
    "duration": 6,
    "start_time": "2021-10-14T15:11:47.458Z"
   },
   {
    "duration": 28,
    "start_time": "2021-10-14T15:11:47.466Z"
   },
   {
    "duration": 61,
    "start_time": "2021-10-14T15:11:47.497Z"
   },
   {
    "duration": 14,
    "start_time": "2021-10-14T15:11:47.561Z"
   },
   {
    "duration": 11,
    "start_time": "2021-10-14T15:11:47.578Z"
   },
   {
    "duration": 31,
    "start_time": "2021-10-14T15:11:47.591Z"
   },
   {
    "duration": 59,
    "start_time": "2021-10-14T15:11:47.625Z"
   },
   {
    "duration": 12245,
    "start_time": "2021-10-14T15:11:47.687Z"
   },
   {
    "duration": 22166,
    "start_time": "2021-10-14T15:11:59.934Z"
   },
   {
    "duration": 27,
    "start_time": "2021-10-14T15:12:22.102Z"
   },
   {
    "duration": 25,
    "start_time": "2021-10-14T15:12:22.131Z"
   },
   {
    "duration": 63,
    "start_time": "2021-10-14T15:12:22.159Z"
   },
   {
    "duration": 4242,
    "start_time": "2021-10-14T15:12:22.225Z"
   },
   {
    "duration": 1399,
    "start_time": "2021-10-14T15:12:26.470Z"
   },
   {
    "duration": 2265,
    "start_time": "2021-10-14T15:12:27.872Z"
   },
   {
    "duration": 131,
    "start_time": "2021-10-14T15:12:30.141Z"
   },
   {
    "duration": 2294,
    "start_time": "2021-10-14T15:12:30.275Z"
   },
   {
    "duration": 175,
    "start_time": "2021-10-14T15:12:32.571Z"
   },
   {
    "duration": 7,
    "start_time": "2021-10-14T15:12:32.750Z"
   },
   {
    "duration": 262,
    "start_time": "2021-10-14T15:12:32.760Z"
   },
   {
    "duration": 206,
    "start_time": "2021-10-14T15:12:33.025Z"
   },
   {
    "duration": 6,
    "start_time": "2021-10-14T15:12:33.233Z"
   },
   {
    "duration": 173,
    "start_time": "2021-10-14T15:13:21.849Z"
   },
   {
    "duration": 164,
    "start_time": "2021-10-14T15:14:35.493Z"
   },
   {
    "duration": 179,
    "start_time": "2021-10-14T15:14:59.629Z"
   },
   {
    "duration": 7,
    "start_time": "2021-10-14T15:16:26.061Z"
   },
   {
    "duration": 157,
    "start_time": "2021-10-14T15:23:02.994Z"
   },
   {
    "duration": 157,
    "start_time": "2021-10-14T15:25:01.272Z"
   },
   {
    "duration": 173,
    "start_time": "2021-10-14T15:25:19.273Z"
   },
   {
    "duration": 159,
    "start_time": "2021-10-14T15:26:49.963Z"
   },
   {
    "duration": 6,
    "start_time": "2021-10-14T15:26:55.547Z"
   },
   {
    "duration": 1863,
    "start_time": "2021-10-14T21:58:40.931Z"
   },
   {
    "duration": 6,
    "start_time": "2021-10-14T21:58:42.796Z"
   },
   {
    "duration": 10,
    "start_time": "2021-10-14T21:58:42.804Z"
   },
   {
    "duration": 59,
    "start_time": "2021-10-14T21:58:42.816Z"
   },
   {
    "duration": 5,
    "start_time": "2021-10-14T21:58:42.877Z"
   },
   {
    "duration": 22,
    "start_time": "2021-10-14T21:58:42.884Z"
   },
   {
    "duration": 44,
    "start_time": "2021-10-14T21:58:42.908Z"
   },
   {
    "duration": 8,
    "start_time": "2021-10-14T21:58:42.955Z"
   },
   {
    "duration": 8,
    "start_time": "2021-10-14T21:58:42.966Z"
   },
   {
    "duration": 7,
    "start_time": "2021-10-14T21:58:42.976Z"
   },
   {
    "duration": 41,
    "start_time": "2021-10-14T21:58:42.985Z"
   },
   {
    "duration": 7514,
    "start_time": "2021-10-14T21:58:43.049Z"
   },
   {
    "duration": 12610,
    "start_time": "2021-10-14T21:58:50.564Z"
   },
   {
    "duration": 9,
    "start_time": "2021-10-14T21:59:03.175Z"
   },
   {
    "duration": 15,
    "start_time": "2021-10-14T21:59:03.185Z"
   },
   {
    "duration": 25,
    "start_time": "2021-10-14T21:59:03.201Z"
   },
   {
    "duration": 2168,
    "start_time": "2021-10-14T21:59:03.228Z"
   },
   {
    "duration": 662,
    "start_time": "2021-10-14T21:59:05.398Z"
   },
   {
    "duration": 1276,
    "start_time": "2021-10-14T21:59:06.062Z"
   },
   {
    "duration": 67,
    "start_time": "2021-10-14T21:59:07.340Z"
   },
   {
    "duration": 1318,
    "start_time": "2021-10-14T21:59:07.409Z"
   },
   {
    "duration": 95,
    "start_time": "2021-10-14T21:59:08.729Z"
   },
   {
    "duration": 4,
    "start_time": "2021-10-14T21:59:08.828Z"
   },
   {
    "duration": 116,
    "start_time": "2021-10-14T21:59:08.834Z"
   },
   {
    "duration": 5,
    "start_time": "2021-10-14T21:59:08.953Z"
   },
   {
    "duration": 1781,
    "start_time": "2021-10-14T22:10:44.191Z"
   },
   {
    "duration": 6,
    "start_time": "2021-10-14T22:10:45.974Z"
   },
   {
    "duration": 8,
    "start_time": "2021-10-14T22:10:45.982Z"
   },
   {
    "duration": 34,
    "start_time": "2021-10-14T22:10:45.991Z"
   },
   {
    "duration": 5,
    "start_time": "2021-10-14T22:10:46.049Z"
   },
   {
    "duration": 20,
    "start_time": "2021-10-14T22:10:46.056Z"
   },
   {
    "duration": 27,
    "start_time": "2021-10-14T22:10:46.078Z"
   },
   {
    "duration": 8,
    "start_time": "2021-10-14T22:10:46.108Z"
   },
   {
    "duration": 34,
    "start_time": "2021-10-14T22:10:46.118Z"
   },
   {
    "duration": 6,
    "start_time": "2021-10-14T22:10:46.153Z"
   },
   {
    "duration": 41,
    "start_time": "2021-10-14T22:10:46.160Z"
   },
   {
    "duration": 7373,
    "start_time": "2021-10-14T22:10:46.203Z"
   },
   {
    "duration": 12555,
    "start_time": "2021-10-14T22:10:53.578Z"
   },
   {
    "duration": 15,
    "start_time": "2021-10-14T22:11:06.135Z"
   },
   {
    "duration": 13,
    "start_time": "2021-10-14T22:11:06.152Z"
   },
   {
    "duration": 26,
    "start_time": "2021-10-14T22:11:06.167Z"
   },
   {
    "duration": 2116,
    "start_time": "2021-10-14T22:11:06.194Z"
   },
   {
    "duration": 628,
    "start_time": "2021-10-14T22:11:08.311Z"
   },
   {
    "duration": 1262,
    "start_time": "2021-10-14T22:11:08.941Z"
   },
   {
    "duration": 65,
    "start_time": "2021-10-14T22:11:10.204Z"
   },
   {
    "duration": 1358,
    "start_time": "2021-10-14T22:11:10.271Z"
   },
   {
    "duration": 92,
    "start_time": "2021-10-14T22:11:11.630Z"
   },
   {
    "duration": 4,
    "start_time": "2021-10-14T22:11:11.725Z"
   },
   {
    "duration": 117,
    "start_time": "2021-10-14T22:11:11.731Z"
   },
   {
    "duration": 5,
    "start_time": "2021-10-14T22:11:11.849Z"
   },
   {
    "duration": 2443,
    "start_time": "2021-10-15T07:58:29.981Z"
   },
   {
    "duration": 10,
    "start_time": "2021-10-15T07:58:34.522Z"
   },
   {
    "duration": 8,
    "start_time": "2021-10-15T07:58:35.929Z"
   },
   {
    "duration": 43,
    "start_time": "2021-10-15T07:58:36.328Z"
   },
   {
    "duration": 6,
    "start_time": "2021-10-15T07:58:37.504Z"
   },
   {
    "duration": 26,
    "start_time": "2021-10-15T07:58:38.268Z"
   },
   {
    "duration": 36,
    "start_time": "2021-10-15T07:58:38.748Z"
   },
   {
    "duration": 14,
    "start_time": "2021-10-15T07:58:39.374Z"
   },
   {
    "duration": 11,
    "start_time": "2021-10-15T07:58:39.793Z"
   },
   {
    "duration": 4,
    "start_time": "2021-10-15T07:58:40.561Z"
   },
   {
    "duration": 55,
    "start_time": "2021-10-15T07:58:40.958Z"
   },
   {
    "duration": 12683,
    "start_time": "2021-10-15T07:58:43.664Z"
   },
   {
    "duration": 22323,
    "start_time": "2021-10-15T07:58:56.350Z"
   },
   {
    "duration": 3,
    "start_time": "2021-10-15T07:59:18.676Z"
   },
   {
    "duration": 24,
    "start_time": "2021-10-15T08:00:53.226Z"
   },
   {
    "duration": 432,
    "start_time": "2021-10-15T08:00:57.747Z"
   },
   {
    "duration": 13,
    "start_time": "2021-10-15T08:08:35.368Z"
   },
   {
    "duration": 15,
    "start_time": "2021-10-15T08:08:35.384Z"
   },
   {
    "duration": 43,
    "start_time": "2021-10-15T08:08:35.402Z"
   },
   {
    "duration": 4379,
    "start_time": "2021-10-15T08:08:35.448Z"
   },
   {
    "duration": 1410,
    "start_time": "2021-10-15T08:08:39.829Z"
   },
   {
    "duration": 2395,
    "start_time": "2021-10-15T08:08:41.242Z"
   },
   {
    "duration": 120,
    "start_time": "2021-10-15T08:08:43.640Z"
   },
   {
    "duration": 2191,
    "start_time": "2021-10-15T08:08:43.763Z"
   },
   {
    "duration": 171,
    "start_time": "2021-10-15T08:08:45.956Z"
   },
   {
    "duration": 6,
    "start_time": "2021-10-15T08:08:46.129Z"
   },
   {
    "duration": 182,
    "start_time": "2021-10-15T08:08:46.138Z"
   },
   {
    "duration": 6,
    "start_time": "2021-10-15T08:08:46.322Z"
   },
   {
    "duration": 29,
    "start_time": "2021-10-15T08:08:55.637Z"
   },
   {
    "duration": 23,
    "start_time": "2021-10-15T08:09:24.754Z"
   },
   {
    "duration": 5,
    "start_time": "2021-10-15T08:09:30.666Z"
   },
   {
    "duration": 1917,
    "start_time": "2021-10-15T08:49:27.124Z"
   },
   {
    "duration": 6,
    "start_time": "2021-10-15T08:49:29.042Z"
   },
   {
    "duration": 6,
    "start_time": "2021-10-15T08:49:29.064Z"
   },
   {
    "duration": 38,
    "start_time": "2021-10-15T08:49:29.072Z"
   },
   {
    "duration": 4,
    "start_time": "2021-10-15T08:49:29.112Z"
   },
   {
    "duration": 26,
    "start_time": "2021-10-15T08:49:29.117Z"
   },
   {
    "duration": 29,
    "start_time": "2021-10-15T08:49:29.164Z"
   },
   {
    "duration": 9,
    "start_time": "2021-10-15T08:49:29.196Z"
   },
   {
    "duration": 9,
    "start_time": "2021-10-15T08:49:29.207Z"
   },
   {
    "duration": 9,
    "start_time": "2021-10-15T08:49:29.217Z"
   },
   {
    "duration": 64,
    "start_time": "2021-10-15T08:49:29.228Z"
   },
   {
    "duration": 7364,
    "start_time": "2021-10-15T08:49:29.294Z"
   },
   {
    "duration": 13441,
    "start_time": "2021-10-15T08:49:36.660Z"
   },
   {
    "duration": 10,
    "start_time": "2021-10-15T08:49:50.103Z"
   },
   {
    "duration": 27,
    "start_time": "2021-10-15T08:49:50.115Z"
   },
   {
    "duration": 34,
    "start_time": "2021-10-15T08:49:50.144Z"
   },
   {
    "duration": 2285,
    "start_time": "2021-10-15T08:49:50.179Z"
   },
   {
    "duration": 898,
    "start_time": "2021-10-15T08:49:52.466Z"
   },
   {
    "duration": 1334,
    "start_time": "2021-10-15T08:49:53.366Z"
   },
   {
    "duration": 76,
    "start_time": "2021-10-15T08:49:54.702Z"
   },
   {
    "duration": 1367,
    "start_time": "2021-10-15T08:49:54.780Z"
   },
   {
    "duration": 93,
    "start_time": "2021-10-15T08:49:56.149Z"
   },
   {
    "duration": 19,
    "start_time": "2021-10-15T08:49:56.245Z"
   },
   {
    "duration": 99,
    "start_time": "2021-10-15T08:49:56.266Z"
   },
   {
    "duration": 5,
    "start_time": "2021-10-15T08:49:56.367Z"
   },
   {
    "duration": 338,
    "start_time": "2021-10-15T08:58:11.260Z"
   },
   {
    "duration": 9,
    "start_time": "2021-10-15T08:58:26.770Z"
   },
   {
    "duration": 644,
    "start_time": "2021-10-15T09:03:02.239Z"
   },
   {
    "duration": 345,
    "start_time": "2021-10-15T09:03:27.320Z"
   },
   {
    "duration": 462,
    "start_time": "2021-10-15T09:03:39.919Z"
   },
   {
    "duration": 3,
    "start_time": "2021-10-15T09:05:13.577Z"
   },
   {
    "duration": 2,
    "start_time": "2021-10-15T09:06:32.142Z"
   },
   {
    "duration": 3,
    "start_time": "2021-10-15T09:06:35.394Z"
   },
   {
    "duration": 3,
    "start_time": "2021-10-15T09:06:54.354Z"
   },
   {
    "duration": 257,
    "start_time": "2021-10-15T09:09:33.604Z"
   },
   {
    "duration": 4,
    "start_time": "2021-10-15T09:10:07.439Z"
   },
   {
    "duration": 5,
    "start_time": "2021-10-15T09:10:31.973Z"
   },
   {
    "duration": 4,
    "start_time": "2021-10-15T09:10:58.349Z"
   },
   {
    "duration": 315,
    "start_time": "2021-10-15T09:17:11.806Z"
   },
   {
    "duration": 3,
    "start_time": "2021-10-15T09:17:21.290Z"
   },
   {
    "duration": 16,
    "start_time": "2021-10-15T09:17:34.414Z"
   },
   {
    "duration": 27,
    "start_time": "2021-10-15T09:17:48.434Z"
   },
   {
    "duration": 283,
    "start_time": "2021-10-15T09:18:39.304Z"
   },
   {
    "duration": 275,
    "start_time": "2021-10-15T09:18:57.006Z"
   },
   {
    "duration": 10,
    "start_time": "2021-10-15T09:19:05.520Z"
   },
   {
    "duration": 5,
    "start_time": "2021-10-15T09:19:43.042Z"
   },
   {
    "duration": 9,
    "start_time": "2021-10-15T09:20:28.986Z"
   },
   {
    "duration": 369,
    "start_time": "2021-10-15T09:22:09.865Z"
   },
   {
    "duration": 20,
    "start_time": "2021-10-15T09:22:15.852Z"
   },
   {
    "duration": 181,
    "start_time": "2021-10-15T09:24:38.948Z"
   },
   {
    "duration": 168,
    "start_time": "2021-10-15T09:25:47.584Z"
   },
   {
    "duration": 187,
    "start_time": "2021-10-15T09:26:45.142Z"
   },
   {
    "duration": 269,
    "start_time": "2021-10-15T09:29:40.230Z"
   },
   {
    "duration": 180,
    "start_time": "2021-10-15T09:29:50.004Z"
   },
   {
    "duration": 180,
    "start_time": "2021-10-15T09:30:11.090Z"
   },
   {
    "duration": 409,
    "start_time": "2021-10-15T09:30:24.132Z"
   },
   {
    "duration": 2147,
    "start_time": "2021-10-15T09:30:45.795Z"
   },
   {
    "duration": 1697,
    "start_time": "2021-10-15T09:31:09.557Z"
   },
   {
    "duration": 864,
    "start_time": "2021-10-15T09:31:17.662Z"
   },
   {
    "duration": 320,
    "start_time": "2021-10-15T09:34:07.043Z"
   },
   {
    "duration": 1622,
    "start_time": "2021-10-15T09:34:34.983Z"
   },
   {
    "duration": 199,
    "start_time": "2021-10-15T09:34:43.134Z"
   },
   {
    "duration": 317,
    "start_time": "2021-10-15T09:34:47.293Z"
   },
   {
    "duration": 330,
    "start_time": "2021-10-15T09:40:39.096Z"
   },
   {
    "duration": 2604,
    "start_time": "2022-01-18T11:36:43.978Z"
   },
   {
    "duration": 10,
    "start_time": "2022-01-18T11:36:46.585Z"
   },
   {
    "duration": 22,
    "start_time": "2022-01-18T11:36:46.599Z"
   },
   {
    "duration": 87,
    "start_time": "2022-01-18T11:36:46.624Z"
   },
   {
    "duration": 7,
    "start_time": "2022-01-18T11:36:46.713Z"
   },
   {
    "duration": 28,
    "start_time": "2022-01-18T11:36:46.723Z"
   },
   {
    "duration": 45,
    "start_time": "2022-01-18T11:36:46.770Z"
   },
   {
    "duration": 14,
    "start_time": "2022-01-18T11:36:46.820Z"
   },
   {
    "duration": 10,
    "start_time": "2022-01-18T11:36:46.837Z"
   },
   {
    "duration": 6,
    "start_time": "2022-01-18T11:36:46.871Z"
   },
   {
    "duration": 66,
    "start_time": "2022-01-18T11:36:46.880Z"
   },
   {
    "duration": 13702,
    "start_time": "2022-01-18T11:36:46.969Z"
   },
   {
    "duration": 24385,
    "start_time": "2022-01-18T11:37:00.674Z"
   },
   {
    "duration": 19,
    "start_time": "2022-01-18T11:37:25.071Z"
   },
   {
    "duration": 15,
    "start_time": "2022-01-18T11:37:25.093Z"
   },
   {
    "duration": 73,
    "start_time": "2022-01-18T11:37:25.111Z"
   },
   {
    "duration": 4618,
    "start_time": "2022-01-18T11:37:25.188Z"
   },
   {
    "duration": 1534,
    "start_time": "2022-01-18T11:37:29.810Z"
   },
   {
    "duration": 2404,
    "start_time": "2022-01-18T11:37:31.347Z"
   },
   {
    "duration": 139,
    "start_time": "2022-01-18T11:37:33.754Z"
   },
   {
    "duration": 2561,
    "start_time": "2022-01-18T11:37:33.898Z"
   },
   {
    "duration": 196,
    "start_time": "2022-01-18T11:37:36.470Z"
   },
   {
    "duration": 8,
    "start_time": "2022-01-18T11:37:36.673Z"
   },
   {
    "duration": 198,
    "start_time": "2022-01-18T11:37:36.684Z"
   },
   {
    "duration": 7,
    "start_time": "2022-01-18T11:37:36.884Z"
   },
   {
    "duration": 623,
    "start_time": "2022-01-18T11:37:36.893Z"
   }
  ],
  "kernelspec": {
   "display_name": "Python 3",
   "language": "python",
   "name": "python3"
  },
  "language_info": {
   "codemirror_mode": {
    "name": "ipython",
    "version": 3
   },
   "file_extension": ".py",
   "mimetype": "text/x-python",
   "name": "python",
   "nbconvert_exporter": "python",
   "pygments_lexer": "ipython3",
   "version": "3.7.8"
  },
  "toc": {
   "base_numbering": 1,
   "nav_menu": {},
   "number_sections": true,
   "sideBar": true,
   "skip_h1_title": true,
   "title_cell": "Table of Contents",
   "title_sidebar": "Contents",
   "toc_cell": false,
   "toc_position": {},
   "toc_section_display": true,
   "toc_window_display": false
  }
 },
 "nbformat": 4,
 "nbformat_minor": 2
}
