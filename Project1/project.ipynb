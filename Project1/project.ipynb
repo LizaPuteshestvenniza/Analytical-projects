{
 "cells": [
  {
   "cell_type": "markdown",
   "metadata": {
    "toc": true
   },
   "source": [
    "<h1>Содержание<span class=\"tocSkip\"></span></h1>\n",
    "<div class=\"toc\"><ul class=\"toc-item\"><li><span><a href=\"#Изучение-данных-из-файла\" data-toc-modified-id=\"Изучение-данных-из-файла-1\"><span class=\"toc-item-num\">1&nbsp;&nbsp;</span>Изучение данных из файла</a></span></li><li><span><a href=\"#Предобработка-данных\" data-toc-modified-id=\"Предобработка-данных-2\"><span class=\"toc-item-num\">2&nbsp;&nbsp;</span>Предобработка данных</a></span></li><li><span><a href=\"#Расчёты-и-добавление-результатов-в-таблицу\" data-toc-modified-id=\"Расчёты-и-добавление-результатов-в-таблицу-3\"><span class=\"toc-item-num\">3&nbsp;&nbsp;</span>Расчёты и добавление результатов в таблицу</a></span></li><li><span><a href=\"#Исследовательский-анализ-данных\" data-toc-modified-id=\"Исследовательский-анализ-данных-4\"><span class=\"toc-item-num\">4&nbsp;&nbsp;</span>Исследовательский анализ данных</a></span><ul class=\"toc-item\"><li><span><a href=\"#Расчет-параметров\" data-toc-modified-id=\"Расчет-параметров-4.1\"><span class=\"toc-item-num\">4.1&nbsp;&nbsp;</span>Расчет параметров</a></span></li><li><span><a href=\"#Расчет-времени\" data-toc-modified-id=\"Расчет-времени-4.2\"><span class=\"toc-item-num\">4.2&nbsp;&nbsp;</span>Расчет времени</a></span></li><li><span><a href=\"#Обработка-редких-значений\" data-toc-modified-id=\"Обработка-редких-значений-4.3\"><span class=\"toc-item-num\">4.3&nbsp;&nbsp;</span>Обработка редких значений</a></span></li><li><span><a href=\"#Факторы-стоимости-квартир\" data-toc-modified-id=\"Факторы-стоимости-квартир-4.4\"><span class=\"toc-item-num\">4.4&nbsp;&nbsp;</span>Факторы стоимости квартир</a></span></li><li><span><a href=\"#Обработка-населенных-пунктов\" data-toc-modified-id=\"Обработка-населенных-пунктов-4.5\"><span class=\"toc-item-num\">4.5&nbsp;&nbsp;</span>Обработка населенных пунктов</a></span></li><li><span><a href=\"#Обработка-цнтра-Питера\" data-toc-modified-id=\"Обработка-цнтра-Питера-4.6\"><span class=\"toc-item-num\">4.6&nbsp;&nbsp;</span>Обработка цнтра Питера</a></span></li><li><span><a href=\"#Ценообразование-в-центре-Питера\" data-toc-modified-id=\"Ценообразование-в-центре-Питера-4.7\"><span class=\"toc-item-num\">4.7&nbsp;&nbsp;</span>Ценообразование в центре Питера</a></span></li></ul></li><li><span><a href=\"#Общий-вывод\" data-toc-modified-id=\"Общий-вывод-5\"><span class=\"toc-item-num\">5&nbsp;&nbsp;</span>Общий вывод</a></span></li><li><span><a href=\"#Чек-лист-готовности-проекта\" data-toc-modified-id=\"Чек-лист-готовности-проекта-6\"><span class=\"toc-item-num\">6&nbsp;&nbsp;</span>Чек-лист готовности проекта</a></span></li></ul></div>"
   ]
  },
  {
   "cell_type": "markdown",
   "metadata": {},
   "source": [
    "# Исследование объявлений о продаже квартир\n",
    "\n",
    "Нужно определить рыночную стоимость объектов недвижимости. Задача — установить параметры, которые позволят построить автоматизированную систему: она отследит аномалии и мошенническую деятельность. По каждой квартире на продажу доступны два вида данных. Первые вписаны пользователем, вторые — получены автоматически на основе картографических данных. Например, расстояние до центра, аэропорта, ближайшего парка и водоёма."
   ]
  },
  {
   "cell_type": "markdown",
   "metadata": {},
   "source": [
    "## Изучение данных из файла"
   ]
  },
  {
   "cell_type": "code",
   "execution_count": 1,
   "metadata": {},
   "outputs": [
    {
     "data": {
      "text/html": [
       "<div>\n",
       "<style scoped>\n",
       "    .dataframe tbody tr th:only-of-type {\n",
       "        vertical-align: middle;\n",
       "    }\n",
       "\n",
       "    .dataframe tbody tr th {\n",
       "        vertical-align: top;\n",
       "    }\n",
       "\n",
       "    .dataframe thead th {\n",
       "        text-align: right;\n",
       "    }\n",
       "</style>\n",
       "<table border=\"1\" class=\"dataframe\">\n",
       "  <thead>\n",
       "    <tr style=\"text-align: right;\">\n",
       "      <th></th>\n",
       "      <th>total_images</th>\n",
       "      <th>last_price</th>\n",
       "      <th>total_area</th>\n",
       "      <th>first_day_exposition</th>\n",
       "      <th>rooms</th>\n",
       "      <th>ceiling_height</th>\n",
       "      <th>floors_total</th>\n",
       "      <th>living_area</th>\n",
       "      <th>floor</th>\n",
       "      <th>is_apartment</th>\n",
       "      <th>...</th>\n",
       "      <th>kitchen_area</th>\n",
       "      <th>balcony</th>\n",
       "      <th>locality_name</th>\n",
       "      <th>airports_nearest</th>\n",
       "      <th>cityCenters_nearest</th>\n",
       "      <th>parks_around3000</th>\n",
       "      <th>parks_nearest</th>\n",
       "      <th>ponds_around3000</th>\n",
       "      <th>ponds_nearest</th>\n",
       "      <th>days_exposition</th>\n",
       "    </tr>\n",
       "  </thead>\n",
       "  <tbody>\n",
       "    <tr>\n",
       "      <td>0</td>\n",
       "      <td>20</td>\n",
       "      <td>13000000.0</td>\n",
       "      <td>108.00</td>\n",
       "      <td>2019-03-07T00:00:00</td>\n",
       "      <td>3</td>\n",
       "      <td>2.70</td>\n",
       "      <td>16.0</td>\n",
       "      <td>51.00</td>\n",
       "      <td>8</td>\n",
       "      <td>NaN</td>\n",
       "      <td>...</td>\n",
       "      <td>25.00</td>\n",
       "      <td>NaN</td>\n",
       "      <td>Санкт-Петербург</td>\n",
       "      <td>18863.0</td>\n",
       "      <td>16028.0</td>\n",
       "      <td>1.0</td>\n",
       "      <td>482.0</td>\n",
       "      <td>2.0</td>\n",
       "      <td>755.0</td>\n",
       "      <td>NaN</td>\n",
       "    </tr>\n",
       "    <tr>\n",
       "      <td>1</td>\n",
       "      <td>7</td>\n",
       "      <td>3350000.0</td>\n",
       "      <td>40.40</td>\n",
       "      <td>2018-12-04T00:00:00</td>\n",
       "      <td>1</td>\n",
       "      <td>NaN</td>\n",
       "      <td>11.0</td>\n",
       "      <td>18.60</td>\n",
       "      <td>1</td>\n",
       "      <td>NaN</td>\n",
       "      <td>...</td>\n",
       "      <td>11.00</td>\n",
       "      <td>2.0</td>\n",
       "      <td>посёлок Шушары</td>\n",
       "      <td>12817.0</td>\n",
       "      <td>18603.0</td>\n",
       "      <td>0.0</td>\n",
       "      <td>NaN</td>\n",
       "      <td>0.0</td>\n",
       "      <td>NaN</td>\n",
       "      <td>81.0</td>\n",
       "    </tr>\n",
       "    <tr>\n",
       "      <td>2</td>\n",
       "      <td>10</td>\n",
       "      <td>5196000.0</td>\n",
       "      <td>56.00</td>\n",
       "      <td>2015-08-20T00:00:00</td>\n",
       "      <td>2</td>\n",
       "      <td>NaN</td>\n",
       "      <td>5.0</td>\n",
       "      <td>34.30</td>\n",
       "      <td>4</td>\n",
       "      <td>NaN</td>\n",
       "      <td>...</td>\n",
       "      <td>8.30</td>\n",
       "      <td>0.0</td>\n",
       "      <td>Санкт-Петербург</td>\n",
       "      <td>21741.0</td>\n",
       "      <td>13933.0</td>\n",
       "      <td>1.0</td>\n",
       "      <td>90.0</td>\n",
       "      <td>2.0</td>\n",
       "      <td>574.0</td>\n",
       "      <td>558.0</td>\n",
       "    </tr>\n",
       "    <tr>\n",
       "      <td>3</td>\n",
       "      <td>0</td>\n",
       "      <td>64900000.0</td>\n",
       "      <td>159.00</td>\n",
       "      <td>2015-07-24T00:00:00</td>\n",
       "      <td>3</td>\n",
       "      <td>NaN</td>\n",
       "      <td>14.0</td>\n",
       "      <td>NaN</td>\n",
       "      <td>9</td>\n",
       "      <td>NaN</td>\n",
       "      <td>...</td>\n",
       "      <td>NaN</td>\n",
       "      <td>0.0</td>\n",
       "      <td>Санкт-Петербург</td>\n",
       "      <td>28098.0</td>\n",
       "      <td>6800.0</td>\n",
       "      <td>2.0</td>\n",
       "      <td>84.0</td>\n",
       "      <td>3.0</td>\n",
       "      <td>234.0</td>\n",
       "      <td>424.0</td>\n",
       "    </tr>\n",
       "    <tr>\n",
       "      <td>4</td>\n",
       "      <td>2</td>\n",
       "      <td>10000000.0</td>\n",
       "      <td>100.00</td>\n",
       "      <td>2018-06-19T00:00:00</td>\n",
       "      <td>2</td>\n",
       "      <td>3.03</td>\n",
       "      <td>14.0</td>\n",
       "      <td>32.00</td>\n",
       "      <td>13</td>\n",
       "      <td>NaN</td>\n",
       "      <td>...</td>\n",
       "      <td>41.00</td>\n",
       "      <td>NaN</td>\n",
       "      <td>Санкт-Петербург</td>\n",
       "      <td>31856.0</td>\n",
       "      <td>8098.0</td>\n",
       "      <td>2.0</td>\n",
       "      <td>112.0</td>\n",
       "      <td>1.0</td>\n",
       "      <td>48.0</td>\n",
       "      <td>121.0</td>\n",
       "    </tr>\n",
       "    <tr>\n",
       "      <td>5</td>\n",
       "      <td>10</td>\n",
       "      <td>2890000.0</td>\n",
       "      <td>30.40</td>\n",
       "      <td>2018-09-10T00:00:00</td>\n",
       "      <td>1</td>\n",
       "      <td>NaN</td>\n",
       "      <td>12.0</td>\n",
       "      <td>14.40</td>\n",
       "      <td>5</td>\n",
       "      <td>NaN</td>\n",
       "      <td>...</td>\n",
       "      <td>9.10</td>\n",
       "      <td>NaN</td>\n",
       "      <td>городской посёлок Янино-1</td>\n",
       "      <td>NaN</td>\n",
       "      <td>NaN</td>\n",
       "      <td>NaN</td>\n",
       "      <td>NaN</td>\n",
       "      <td>NaN</td>\n",
       "      <td>NaN</td>\n",
       "      <td>55.0</td>\n",
       "    </tr>\n",
       "    <tr>\n",
       "      <td>6</td>\n",
       "      <td>6</td>\n",
       "      <td>3700000.0</td>\n",
       "      <td>37.30</td>\n",
       "      <td>2017-11-02T00:00:00</td>\n",
       "      <td>1</td>\n",
       "      <td>NaN</td>\n",
       "      <td>26.0</td>\n",
       "      <td>10.60</td>\n",
       "      <td>6</td>\n",
       "      <td>NaN</td>\n",
       "      <td>...</td>\n",
       "      <td>14.40</td>\n",
       "      <td>1.0</td>\n",
       "      <td>посёлок Парголово</td>\n",
       "      <td>52996.0</td>\n",
       "      <td>19143.0</td>\n",
       "      <td>0.0</td>\n",
       "      <td>NaN</td>\n",
       "      <td>0.0</td>\n",
       "      <td>NaN</td>\n",
       "      <td>155.0</td>\n",
       "    </tr>\n",
       "    <tr>\n",
       "      <td>7</td>\n",
       "      <td>5</td>\n",
       "      <td>7915000.0</td>\n",
       "      <td>71.60</td>\n",
       "      <td>2019-04-18T00:00:00</td>\n",
       "      <td>2</td>\n",
       "      <td>NaN</td>\n",
       "      <td>24.0</td>\n",
       "      <td>NaN</td>\n",
       "      <td>22</td>\n",
       "      <td>NaN</td>\n",
       "      <td>...</td>\n",
       "      <td>18.90</td>\n",
       "      <td>2.0</td>\n",
       "      <td>Санкт-Петербург</td>\n",
       "      <td>23982.0</td>\n",
       "      <td>11634.0</td>\n",
       "      <td>0.0</td>\n",
       "      <td>NaN</td>\n",
       "      <td>0.0</td>\n",
       "      <td>NaN</td>\n",
       "      <td>NaN</td>\n",
       "    </tr>\n",
       "    <tr>\n",
       "      <td>8</td>\n",
       "      <td>20</td>\n",
       "      <td>2900000.0</td>\n",
       "      <td>33.16</td>\n",
       "      <td>2018-05-23T00:00:00</td>\n",
       "      <td>1</td>\n",
       "      <td>NaN</td>\n",
       "      <td>27.0</td>\n",
       "      <td>15.43</td>\n",
       "      <td>26</td>\n",
       "      <td>NaN</td>\n",
       "      <td>...</td>\n",
       "      <td>8.81</td>\n",
       "      <td>NaN</td>\n",
       "      <td>посёлок Мурино</td>\n",
       "      <td>NaN</td>\n",
       "      <td>NaN</td>\n",
       "      <td>NaN</td>\n",
       "      <td>NaN</td>\n",
       "      <td>NaN</td>\n",
       "      <td>NaN</td>\n",
       "      <td>189.0</td>\n",
       "    </tr>\n",
       "    <tr>\n",
       "      <td>9</td>\n",
       "      <td>18</td>\n",
       "      <td>5400000.0</td>\n",
       "      <td>61.00</td>\n",
       "      <td>2017-02-26T00:00:00</td>\n",
       "      <td>3</td>\n",
       "      <td>2.50</td>\n",
       "      <td>9.0</td>\n",
       "      <td>43.60</td>\n",
       "      <td>7</td>\n",
       "      <td>NaN</td>\n",
       "      <td>...</td>\n",
       "      <td>6.50</td>\n",
       "      <td>2.0</td>\n",
       "      <td>Санкт-Петербург</td>\n",
       "      <td>50898.0</td>\n",
       "      <td>15008.0</td>\n",
       "      <td>0.0</td>\n",
       "      <td>NaN</td>\n",
       "      <td>0.0</td>\n",
       "      <td>NaN</td>\n",
       "      <td>289.0</td>\n",
       "    </tr>\n",
       "  </tbody>\n",
       "</table>\n",
       "<p>10 rows × 22 columns</p>\n",
       "</div>"
      ],
      "text/plain": [
       "   total_images  last_price  total_area first_day_exposition  rooms  \\\n",
       "0            20  13000000.0      108.00  2019-03-07T00:00:00      3   \n",
       "1             7   3350000.0       40.40  2018-12-04T00:00:00      1   \n",
       "2            10   5196000.0       56.00  2015-08-20T00:00:00      2   \n",
       "3             0  64900000.0      159.00  2015-07-24T00:00:00      3   \n",
       "4             2  10000000.0      100.00  2018-06-19T00:00:00      2   \n",
       "5            10   2890000.0       30.40  2018-09-10T00:00:00      1   \n",
       "6             6   3700000.0       37.30  2017-11-02T00:00:00      1   \n",
       "7             5   7915000.0       71.60  2019-04-18T00:00:00      2   \n",
       "8            20   2900000.0       33.16  2018-05-23T00:00:00      1   \n",
       "9            18   5400000.0       61.00  2017-02-26T00:00:00      3   \n",
       "\n",
       "   ceiling_height  floors_total  living_area  floor is_apartment  ...  \\\n",
       "0            2.70          16.0        51.00      8          NaN  ...   \n",
       "1             NaN          11.0        18.60      1          NaN  ...   \n",
       "2             NaN           5.0        34.30      4          NaN  ...   \n",
       "3             NaN          14.0          NaN      9          NaN  ...   \n",
       "4            3.03          14.0        32.00     13          NaN  ...   \n",
       "5             NaN          12.0        14.40      5          NaN  ...   \n",
       "6             NaN          26.0        10.60      6          NaN  ...   \n",
       "7             NaN          24.0          NaN     22          NaN  ...   \n",
       "8             NaN          27.0        15.43     26          NaN  ...   \n",
       "9            2.50           9.0        43.60      7          NaN  ...   \n",
       "\n",
       "   kitchen_area  balcony              locality_name  airports_nearest  \\\n",
       "0         25.00      NaN            Санкт-Петербург           18863.0   \n",
       "1         11.00      2.0             посёлок Шушары           12817.0   \n",
       "2          8.30      0.0            Санкт-Петербург           21741.0   \n",
       "3           NaN      0.0            Санкт-Петербург           28098.0   \n",
       "4         41.00      NaN            Санкт-Петербург           31856.0   \n",
       "5          9.10      NaN  городской посёлок Янино-1               NaN   \n",
       "6         14.40      1.0          посёлок Парголово           52996.0   \n",
       "7         18.90      2.0            Санкт-Петербург           23982.0   \n",
       "8          8.81      NaN             посёлок Мурино               NaN   \n",
       "9          6.50      2.0            Санкт-Петербург           50898.0   \n",
       "\n",
       "  cityCenters_nearest  parks_around3000  parks_nearest  ponds_around3000  \\\n",
       "0             16028.0               1.0          482.0               2.0   \n",
       "1             18603.0               0.0            NaN               0.0   \n",
       "2             13933.0               1.0           90.0               2.0   \n",
       "3              6800.0               2.0           84.0               3.0   \n",
       "4              8098.0               2.0          112.0               1.0   \n",
       "5                 NaN               NaN            NaN               NaN   \n",
       "6             19143.0               0.0            NaN               0.0   \n",
       "7             11634.0               0.0            NaN               0.0   \n",
       "8                 NaN               NaN            NaN               NaN   \n",
       "9             15008.0               0.0            NaN               0.0   \n",
       "\n",
       "   ponds_nearest  days_exposition  \n",
       "0          755.0              NaN  \n",
       "1            NaN             81.0  \n",
       "2          574.0            558.0  \n",
       "3          234.0            424.0  \n",
       "4           48.0            121.0  \n",
       "5            NaN             55.0  \n",
       "6            NaN            155.0  \n",
       "7            NaN              NaN  \n",
       "8            NaN            189.0  \n",
       "9            NaN            289.0  \n",
       "\n",
       "[10 rows x 22 columns]"
      ]
     },
     "metadata": {},
     "output_type": "display_data"
    },
    {
     "name": "stdout",
     "output_type": "stream",
     "text": [
      "<class 'pandas.core.frame.DataFrame'>\n",
      "RangeIndex: 23699 entries, 0 to 23698\n",
      "Data columns (total 22 columns):\n",
      "total_images            23699 non-null int64\n",
      "last_price              23699 non-null float64\n",
      "total_area              23699 non-null float64\n",
      "first_day_exposition    23699 non-null object\n",
      "rooms                   23699 non-null int64\n",
      "ceiling_height          14504 non-null float64\n",
      "floors_total            23613 non-null float64\n",
      "living_area             21796 non-null float64\n",
      "floor                   23699 non-null int64\n",
      "is_apartment            2775 non-null object\n",
      "studio                  23699 non-null bool\n",
      "open_plan               23699 non-null bool\n",
      "kitchen_area            21421 non-null float64\n",
      "balcony                 12180 non-null float64\n",
      "locality_name           23650 non-null object\n",
      "airports_nearest        18157 non-null float64\n",
      "cityCenters_nearest     18180 non-null float64\n",
      "parks_around3000        18181 non-null float64\n",
      "parks_nearest           8079 non-null float64\n",
      "ponds_around3000        18181 non-null float64\n",
      "ponds_nearest           9110 non-null float64\n",
      "days_exposition         20518 non-null float64\n",
      "dtypes: bool(2), float64(14), int64(3), object(3)\n",
      "memory usage: 3.7+ MB\n"
     ]
    }
   ],
   "source": [
    "import pandas as pd \n",
    "import matplotlib.pyplot as plt\n",
    "from IPython.display import display\n",
    "import warnings  \n",
    "warnings.filterwarnings('ignore')\n",
    "\n",
    "df = pd.read_csv('/datasets/real_estate_data.csv', sep='\\t') \n",
    "display(df.head(10))  \n",
    "df.info() "
   ]
  },
  {
   "cell_type": "markdown",
   "metadata": {},
   "source": [
    "Рассмотрим полученную информацию более подробно:\n",
    "\n",
    "Разделителем столбцов файла был символ табуляции, для приведения таблицы в более читаемый вид используем замену разделителя. \n",
    "\n",
    "Таблица содержит 22 столбца, в которых встречаются данные типа int64, float64 и object:\n",
    "\n",
    "* airports_nearest — расстояние до ближайшего аэропорта в метрах (м)\n",
    "* balcony — число балконов\n",
    "* ceiling_height — высота потолков (м)\n",
    "* cityCenters_nearest — расстояние до центра города (м)\n",
    "* days_exposition — сколько дней было размещено объявление (от публикации до снятия)\n",
    "* first_day_exposition — дата публикации\n",
    "* floor — этаж\n",
    "* floors_total — всего этажей в доме\n",
    "* is_apartment — апартаменты (булев тип)\n",
    "* kitchen_area — площадь кухни в квадратных метрах (м²)\n",
    "* last_price — цена на момент снятия с публикации\n",
    "* living_area — жилая площадь в квадратных метрах(м²)\n",
    "* locality_name — название населённого пункта\n",
    "* open_plan — свободная планировка (булев тип)\n",
    "* parks_around3000 — число парков в радиусе 3 км\n",
    "* parks_nearest — расстояние до ближайшего парка (м)\n",
    "* ponds_around3000 — число водоёмов в радиусе 3 км\n",
    "* ponds_nearest — расстояние до ближайшего водоёма (м)\n",
    "* rooms — число комнат\n",
    "* studio — квартира-студия (булев тип)\n",
    "* total_area — площадь квартиры в квадратных метрах (м²)\n",
    "* total_images — число фотографий квартиры в объявлении\n",
    "\n",
    "Количество значений в столбцах различается. Это говорит о том, что в данных есть пропущенные значения."
   ]
  },
  {
   "cell_type": "markdown",
   "metadata": {},
   "source": [
    "**Вывод:**\n",
    "\n",
    "В таблице много пропусков, природа которых пока не совсем ясна: пропуск может означать, что информация отсутствует, или что просто этого значения нет на объекте, например, балкона и информация о нем обозначена как NaN. Для установления зависимости между ценой и остальными параметрами ключевую роль играют данные о конечной цене недвижимости на момент снятия публикации, именно эту информацию и будем брать за основу. "
   ]
  },
  {
   "cell_type": "markdown",
   "metadata": {},
   "source": [
    "## Предобработка данных"
   ]
  },
  {
   "cell_type": "markdown",
   "metadata": {},
   "source": [
    "Так как столбцов очень много и почти каждый требует предобработки, будем рассматривать их отдельно. \n",
    "\n",
    "*total_images*, *floor* и *total_area* - одни из немногих, кому не требуется правка, так как содержат данные правильного типа без пропусков. А вот в *last_price* цены указаны в рублях, переведем значения в миллионы для наглядной визуализации на графиках в дальнейшем, но перед этим избавимся от копеек, которые не несут в себе никакой смысловой нагрузки. "
   ]
  },
  {
   "cell_type": "code",
   "execution_count": 2,
   "metadata": {},
   "outputs": [],
   "source": [
    "df['last_price'] = df['last_price'].astype('int')\n",
    "df['last_price'] = df['last_price'] / 1000000"
   ]
  },
  {
   "cell_type": "markdown",
   "metadata": {},
   "source": [
    "*first_day_exposition* передается в качестве строковых данных, для успешного анализа переведем значения в столбце в формат даты."
   ]
  },
  {
   "cell_type": "code",
   "execution_count": 3,
   "metadata": {},
   "outputs": [],
   "source": [
    "df['first_day_exposition'] = pd.to_datetime(df['first_day_exposition'], format='%Y-%m-%d')"
   ]
  },
  {
   "cell_type": "markdown",
   "metadata": {},
   "source": [
    "*ceiling_height* содержит довольно много пропусков, быть может продавец квартиры просто не знает высоту потолка на объекте. Высокие потолки - большое приемущество, скорее всего информация о них присутствует, а какие то типичные значения пропущенны, заполним пропуски медианным значением, потому что, в основном, в современных домах высота потолков одинаковая. Но сначала проверим нет ли выбросов: посмотрим минимальное и максимальное значение высоты:"
   ]
  },
  {
   "cell_type": "code",
   "execution_count": 4,
   "metadata": {},
   "outputs": [
    {
     "name": "stdout",
     "output_type": "stream",
     "text": [
      "1.0\n",
      "100.0\n"
     ]
    },
    {
     "data": {
      "text/plain": [
       "2.65"
      ]
     },
     "execution_count": 4,
     "metadata": {},
     "output_type": "execute_result"
    }
   ],
   "source": [
    "print(df['ceiling_height'].min())\n",
    "print(df['ceiling_height'].max())\n",
    "df['ceiling_height'].median()"
   ]
  },
  {
   "cell_type": "markdown",
   "metadata": {},
   "source": [
    "Так как в задаче рассматриваются не только жилые квартиры, но и вся недвижимость в целом, то высота потолка 1 метр допустима: например, чердачное помещение; 100 метров, в целом тоже: например, склад или заводское помещение. Медианное значение равно 2,65 м - самое что ни на есть идеальное значение для заполнения пропусков, потому что в основном именно такая высота потолков в среднестатистическом доме."
   ]
  },
  {
   "cell_type": "code",
   "execution_count": 5,
   "metadata": {},
   "outputs": [],
   "source": [
    "df['ceiling_height'] = df['ceiling_height'].fillna(df['ceiling_height'].median())"
   ]
  },
  {
   "cell_type": "markdown",
   "metadata": {},
   "source": [
    "*living_area* и *kitchen_area*: можно примерно расчитать сколько будут занимать процентов от общей площади, допустим, что в среднем кухня занимает 20% от общей площади, а жилое протранство 70%, остальное - сан. узлы, балконы, хоз. пространства. "
   ]
  },
  {
   "cell_type": "code",
   "execution_count": 6,
   "metadata": {},
   "outputs": [],
   "source": [
    "df['living_area'] = df['living_area'].fillna(df['total_area'] * 0.7)\n",
    "df['kitchen_area'] = df['kitchen_area'].fillna(df['total_area'] * 0.2)"
   ]
  },
  {
   "cell_type": "markdown",
   "metadata": {},
   "source": [
    "*studio*, *open_plan*, *is_apartment* предполагают собой булевы массивы, в случае *is_apartment* False - не апартаменты, а True - апартаменты, пока не очень ясно, что вообще находится в этом столбце, ведь тип данных object. Проверим содержимое стобца методом unique()"
   ]
  },
  {
   "cell_type": "code",
   "execution_count": 7,
   "metadata": {},
   "outputs": [
    {
     "data": {
      "text/plain": [
       "array([nan, False, True], dtype=object)"
      ]
     },
     "execution_count": 7,
     "metadata": {},
     "output_type": "execute_result"
    }
   ],
   "source": [
    "df['is_apartment'].unique()"
   ]
  },
  {
   "cell_type": "markdown",
   "metadata": {},
   "source": [
    "Скорее всего в данном случае NaN представляет собой False, то есть то, что данная недвижимость не является апартаментами, исправим это. "
   ]
  },
  {
   "cell_type": "code",
   "execution_count": 8,
   "metadata": {},
   "outputs": [],
   "source": [
    "df['is_apartment'] = df['is_apartment'].fillna(False)"
   ]
  },
  {
   "cell_type": "markdown",
   "metadata": {},
   "source": [
    "*locality_name* - один из ключевых факторов ценообразования квартир. Ведь жить в области или в ее центральном городе - разница большая, а так как тут всего 0,2% пропущенных значений, просто избавимся от этих пропусков."
   ]
  },
  {
   "cell_type": "code",
   "execution_count": 9,
   "metadata": {},
   "outputs": [],
   "source": [
    "df = df.dropna(subset = ['locality_name'])"
   ]
  },
  {
   "cell_type": "markdown",
   "metadata": {},
   "source": [
    "Для заполнения пропусков столбцов *cityCenters_nearest*, *airports_nearest*, *parks_nearest* и *ponds_nearest* сделаем лемматизацию: заполним пропуски среднем отдельно для каждой категории: деревня, поселок, товарищество, село, маленький город и Санкт-Петербург. А также включим сюда еще и столбец *floors_total*"
   ]
  },
  {
   "cell_type": "code",
   "execution_count": 10,
   "metadata": {},
   "outputs": [
    {
     "data": {
      "text/html": [
       "<div>\n",
       "<style scoped>\n",
       "    .dataframe tbody tr th:only-of-type {\n",
       "        vertical-align: middle;\n",
       "    }\n",
       "\n",
       "    .dataframe tbody tr th {\n",
       "        vertical-align: top;\n",
       "    }\n",
       "\n",
       "    .dataframe thead th {\n",
       "        text-align: right;\n",
       "    }\n",
       "</style>\n",
       "<table border=\"1\" class=\"dataframe\">\n",
       "  <thead>\n",
       "    <tr style=\"text-align: right;\">\n",
       "      <th></th>\n",
       "      <th>total_images</th>\n",
       "      <th>last_price</th>\n",
       "      <th>total_area</th>\n",
       "      <th>first_day_exposition</th>\n",
       "      <th>rooms</th>\n",
       "      <th>ceiling_height</th>\n",
       "      <th>floors_total</th>\n",
       "      <th>living_area</th>\n",
       "      <th>floor</th>\n",
       "      <th>is_apartment</th>\n",
       "      <th>...</th>\n",
       "      <th>balcony</th>\n",
       "      <th>locality_name</th>\n",
       "      <th>airports_nearest</th>\n",
       "      <th>cityCenters_nearest</th>\n",
       "      <th>parks_around3000</th>\n",
       "      <th>parks_nearest</th>\n",
       "      <th>ponds_around3000</th>\n",
       "      <th>ponds_nearest</th>\n",
       "      <th>days_exposition</th>\n",
       "      <th>locality_group</th>\n",
       "    </tr>\n",
       "  </thead>\n",
       "  <tbody>\n",
       "    <tr>\n",
       "      <td>0</td>\n",
       "      <td>20</td>\n",
       "      <td>13.000</td>\n",
       "      <td>108.00</td>\n",
       "      <td>2019-03-07</td>\n",
       "      <td>3</td>\n",
       "      <td>2.70</td>\n",
       "      <td>16.0</td>\n",
       "      <td>51.00</td>\n",
       "      <td>8</td>\n",
       "      <td>False</td>\n",
       "      <td>...</td>\n",
       "      <td>NaN</td>\n",
       "      <td>Санкт-Петербург</td>\n",
       "      <td>18863.0</td>\n",
       "      <td>16028.0</td>\n",
       "      <td>1.0</td>\n",
       "      <td>482.0</td>\n",
       "      <td>2.0</td>\n",
       "      <td>755.0</td>\n",
       "      <td>NaN</td>\n",
       "      <td>санкт-петербург</td>\n",
       "    </tr>\n",
       "    <tr>\n",
       "      <td>1</td>\n",
       "      <td>7</td>\n",
       "      <td>3.350</td>\n",
       "      <td>40.40</td>\n",
       "      <td>2018-12-04</td>\n",
       "      <td>1</td>\n",
       "      <td>2.65</td>\n",
       "      <td>11.0</td>\n",
       "      <td>18.60</td>\n",
       "      <td>1</td>\n",
       "      <td>False</td>\n",
       "      <td>...</td>\n",
       "      <td>2.0</td>\n",
       "      <td>посёлок Шушары</td>\n",
       "      <td>12817.0</td>\n",
       "      <td>18603.0</td>\n",
       "      <td>0.0</td>\n",
       "      <td>NaN</td>\n",
       "      <td>0.0</td>\n",
       "      <td>NaN</td>\n",
       "      <td>81.0</td>\n",
       "      <td>посёлок</td>\n",
       "    </tr>\n",
       "    <tr>\n",
       "      <td>2</td>\n",
       "      <td>10</td>\n",
       "      <td>5.196</td>\n",
       "      <td>56.00</td>\n",
       "      <td>2015-08-20</td>\n",
       "      <td>2</td>\n",
       "      <td>2.65</td>\n",
       "      <td>5.0</td>\n",
       "      <td>34.30</td>\n",
       "      <td>4</td>\n",
       "      <td>False</td>\n",
       "      <td>...</td>\n",
       "      <td>0.0</td>\n",
       "      <td>Санкт-Петербург</td>\n",
       "      <td>21741.0</td>\n",
       "      <td>13933.0</td>\n",
       "      <td>1.0</td>\n",
       "      <td>90.0</td>\n",
       "      <td>2.0</td>\n",
       "      <td>574.0</td>\n",
       "      <td>558.0</td>\n",
       "      <td>санкт-петербург</td>\n",
       "    </tr>\n",
       "    <tr>\n",
       "      <td>3</td>\n",
       "      <td>0</td>\n",
       "      <td>64.900</td>\n",
       "      <td>159.00</td>\n",
       "      <td>2015-07-24</td>\n",
       "      <td>3</td>\n",
       "      <td>2.65</td>\n",
       "      <td>14.0</td>\n",
       "      <td>111.30</td>\n",
       "      <td>9</td>\n",
       "      <td>False</td>\n",
       "      <td>...</td>\n",
       "      <td>0.0</td>\n",
       "      <td>Санкт-Петербург</td>\n",
       "      <td>28098.0</td>\n",
       "      <td>6800.0</td>\n",
       "      <td>2.0</td>\n",
       "      <td>84.0</td>\n",
       "      <td>3.0</td>\n",
       "      <td>234.0</td>\n",
       "      <td>424.0</td>\n",
       "      <td>санкт-петербург</td>\n",
       "    </tr>\n",
       "    <tr>\n",
       "      <td>4</td>\n",
       "      <td>2</td>\n",
       "      <td>10.000</td>\n",
       "      <td>100.00</td>\n",
       "      <td>2018-06-19</td>\n",
       "      <td>2</td>\n",
       "      <td>3.03</td>\n",
       "      <td>14.0</td>\n",
       "      <td>32.00</td>\n",
       "      <td>13</td>\n",
       "      <td>False</td>\n",
       "      <td>...</td>\n",
       "      <td>NaN</td>\n",
       "      <td>Санкт-Петербург</td>\n",
       "      <td>31856.0</td>\n",
       "      <td>8098.0</td>\n",
       "      <td>2.0</td>\n",
       "      <td>112.0</td>\n",
       "      <td>1.0</td>\n",
       "      <td>48.0</td>\n",
       "      <td>121.0</td>\n",
       "      <td>санкт-петербург</td>\n",
       "    </tr>\n",
       "    <tr>\n",
       "      <td>5</td>\n",
       "      <td>10</td>\n",
       "      <td>2.890</td>\n",
       "      <td>30.40</td>\n",
       "      <td>2018-09-10</td>\n",
       "      <td>1</td>\n",
       "      <td>2.65</td>\n",
       "      <td>12.0</td>\n",
       "      <td>14.40</td>\n",
       "      <td>5</td>\n",
       "      <td>False</td>\n",
       "      <td>...</td>\n",
       "      <td>NaN</td>\n",
       "      <td>городской посёлок Янино-1</td>\n",
       "      <td>NaN</td>\n",
       "      <td>NaN</td>\n",
       "      <td>NaN</td>\n",
       "      <td>NaN</td>\n",
       "      <td>NaN</td>\n",
       "      <td>NaN</td>\n",
       "      <td>55.0</td>\n",
       "      <td>посёлок</td>\n",
       "    </tr>\n",
       "    <tr>\n",
       "      <td>6</td>\n",
       "      <td>6</td>\n",
       "      <td>3.700</td>\n",
       "      <td>37.30</td>\n",
       "      <td>2017-11-02</td>\n",
       "      <td>1</td>\n",
       "      <td>2.65</td>\n",
       "      <td>26.0</td>\n",
       "      <td>10.60</td>\n",
       "      <td>6</td>\n",
       "      <td>False</td>\n",
       "      <td>...</td>\n",
       "      <td>1.0</td>\n",
       "      <td>посёлок Парголово</td>\n",
       "      <td>52996.0</td>\n",
       "      <td>19143.0</td>\n",
       "      <td>0.0</td>\n",
       "      <td>NaN</td>\n",
       "      <td>0.0</td>\n",
       "      <td>NaN</td>\n",
       "      <td>155.0</td>\n",
       "      <td>посёлок</td>\n",
       "    </tr>\n",
       "    <tr>\n",
       "      <td>7</td>\n",
       "      <td>5</td>\n",
       "      <td>7.915</td>\n",
       "      <td>71.60</td>\n",
       "      <td>2019-04-18</td>\n",
       "      <td>2</td>\n",
       "      <td>2.65</td>\n",
       "      <td>24.0</td>\n",
       "      <td>50.12</td>\n",
       "      <td>22</td>\n",
       "      <td>False</td>\n",
       "      <td>...</td>\n",
       "      <td>2.0</td>\n",
       "      <td>Санкт-Петербург</td>\n",
       "      <td>23982.0</td>\n",
       "      <td>11634.0</td>\n",
       "      <td>0.0</td>\n",
       "      <td>NaN</td>\n",
       "      <td>0.0</td>\n",
       "      <td>NaN</td>\n",
       "      <td>NaN</td>\n",
       "      <td>санкт-петербург</td>\n",
       "    </tr>\n",
       "    <tr>\n",
       "      <td>8</td>\n",
       "      <td>20</td>\n",
       "      <td>2.900</td>\n",
       "      <td>33.16</td>\n",
       "      <td>2018-05-23</td>\n",
       "      <td>1</td>\n",
       "      <td>2.65</td>\n",
       "      <td>27.0</td>\n",
       "      <td>15.43</td>\n",
       "      <td>26</td>\n",
       "      <td>False</td>\n",
       "      <td>...</td>\n",
       "      <td>NaN</td>\n",
       "      <td>посёлок Мурино</td>\n",
       "      <td>NaN</td>\n",
       "      <td>NaN</td>\n",
       "      <td>NaN</td>\n",
       "      <td>NaN</td>\n",
       "      <td>NaN</td>\n",
       "      <td>NaN</td>\n",
       "      <td>189.0</td>\n",
       "      <td>посёлок</td>\n",
       "    </tr>\n",
       "    <tr>\n",
       "      <td>9</td>\n",
       "      <td>18</td>\n",
       "      <td>5.400</td>\n",
       "      <td>61.00</td>\n",
       "      <td>2017-02-26</td>\n",
       "      <td>3</td>\n",
       "      <td>2.50</td>\n",
       "      <td>9.0</td>\n",
       "      <td>43.60</td>\n",
       "      <td>7</td>\n",
       "      <td>False</td>\n",
       "      <td>...</td>\n",
       "      <td>2.0</td>\n",
       "      <td>Санкт-Петербург</td>\n",
       "      <td>50898.0</td>\n",
       "      <td>15008.0</td>\n",
       "      <td>0.0</td>\n",
       "      <td>NaN</td>\n",
       "      <td>0.0</td>\n",
       "      <td>NaN</td>\n",
       "      <td>289.0</td>\n",
       "      <td>санкт-петербург</td>\n",
       "    </tr>\n",
       "  </tbody>\n",
       "</table>\n",
       "<p>10 rows × 23 columns</p>\n",
       "</div>"
      ],
      "text/plain": [
       "   total_images  last_price  total_area first_day_exposition  rooms  \\\n",
       "0            20      13.000      108.00           2019-03-07      3   \n",
       "1             7       3.350       40.40           2018-12-04      1   \n",
       "2            10       5.196       56.00           2015-08-20      2   \n",
       "3             0      64.900      159.00           2015-07-24      3   \n",
       "4             2      10.000      100.00           2018-06-19      2   \n",
       "5            10       2.890       30.40           2018-09-10      1   \n",
       "6             6       3.700       37.30           2017-11-02      1   \n",
       "7             5       7.915       71.60           2019-04-18      2   \n",
       "8            20       2.900       33.16           2018-05-23      1   \n",
       "9            18       5.400       61.00           2017-02-26      3   \n",
       "\n",
       "   ceiling_height  floors_total  living_area  floor  is_apartment  ...  \\\n",
       "0            2.70          16.0        51.00      8         False  ...   \n",
       "1            2.65          11.0        18.60      1         False  ...   \n",
       "2            2.65           5.0        34.30      4         False  ...   \n",
       "3            2.65          14.0       111.30      9         False  ...   \n",
       "4            3.03          14.0        32.00     13         False  ...   \n",
       "5            2.65          12.0        14.40      5         False  ...   \n",
       "6            2.65          26.0        10.60      6         False  ...   \n",
       "7            2.65          24.0        50.12     22         False  ...   \n",
       "8            2.65          27.0        15.43     26         False  ...   \n",
       "9            2.50           9.0        43.60      7         False  ...   \n",
       "\n",
       "   balcony              locality_name  airports_nearest  cityCenters_nearest  \\\n",
       "0      NaN            Санкт-Петербург           18863.0              16028.0   \n",
       "1      2.0             посёлок Шушары           12817.0              18603.0   \n",
       "2      0.0            Санкт-Петербург           21741.0              13933.0   \n",
       "3      0.0            Санкт-Петербург           28098.0               6800.0   \n",
       "4      NaN            Санкт-Петербург           31856.0               8098.0   \n",
       "5      NaN  городской посёлок Янино-1               NaN                  NaN   \n",
       "6      1.0          посёлок Парголово           52996.0              19143.0   \n",
       "7      2.0            Санкт-Петербург           23982.0              11634.0   \n",
       "8      NaN             посёлок Мурино               NaN                  NaN   \n",
       "9      2.0            Санкт-Петербург           50898.0              15008.0   \n",
       "\n",
       "  parks_around3000  parks_nearest  ponds_around3000  ponds_nearest  \\\n",
       "0              1.0          482.0               2.0          755.0   \n",
       "1              0.0            NaN               0.0            NaN   \n",
       "2              1.0           90.0               2.0          574.0   \n",
       "3              2.0           84.0               3.0          234.0   \n",
       "4              2.0          112.0               1.0           48.0   \n",
       "5              NaN            NaN               NaN            NaN   \n",
       "6              0.0            NaN               0.0            NaN   \n",
       "7              0.0            NaN               0.0            NaN   \n",
       "8              NaN            NaN               NaN            NaN   \n",
       "9              0.0            NaN               0.0            NaN   \n",
       "\n",
       "   days_exposition   locality_group  \n",
       "0              NaN  санкт-петербург  \n",
       "1             81.0          посёлок  \n",
       "2            558.0  санкт-петербург  \n",
       "3            424.0  санкт-петербург  \n",
       "4            121.0  санкт-петербург  \n",
       "5             55.0          посёлок  \n",
       "6            155.0          посёлок  \n",
       "7              NaN  санкт-петербург  \n",
       "8            189.0          посёлок  \n",
       "9            289.0  санкт-петербург  \n",
       "\n",
       "[10 rows x 23 columns]"
      ]
     },
     "metadata": {},
     "output_type": "display_data"
    }
   ],
   "source": [
    "df = df.reset_index(drop = True)\n",
    "df['locality_group'] = 'маленький город'\n",
    "\n",
    "from pymystem3 import Mystem \n",
    "m = Mystem()\n",
    "lemmas = []  \n",
    "for i in range(len(df['locality_name'])) :  \n",
    "    lemmas = m.lemmatize(df['locality_name'][i])  \n",
    "    for j in range(len(lemmas)):  \n",
    "        if lemmas[j] == 'поселок' :\n",
    "            df['locality_group'][i] = df['locality_group'][i].replace(df['locality_group'][i], 'посёлок')\n",
    "        if lemmas[j] == 'деревня' :\n",
    "            df['locality_group'][i] = df['locality_group'][i].replace(df['locality_group'][i], 'деревня')\n",
    "        if lemmas[j] == 'санкт-петербург' :\n",
    "            df['locality_group'][i] = df['locality_group'][i].replace(df['locality_group'][i], 'санкт-петербург')\n",
    "        if lemmas[j] == 'село' :\n",
    "            df['locality_group'][i] = df['locality_group'][i].replace(df['locality_group'][i], 'село')\n",
    "        if lemmas[j] == 'товарищество' :\n",
    "            df['locality_group'][i] = df['locality_group'][i].replace(df['locality_group'][i], 'товарищество')\n",
    "            \n",
    "display(df.head(10))"
   ]
  },
  {
   "cell_type": "code",
   "execution_count": 11,
   "metadata": {},
   "outputs": [],
   "source": [
    "columns = ['parks_nearest', 'ponds_nearest', 'cityCenters_nearest', 'airports_nearest', 'floors_total']\n",
    "\n",
    "for i in columns:\n",
    "    df[i] = df[i].fillna(df.groupby(['locality_group'])[i].transform('mean'))"
   ]
  },
  {
   "cell_type": "markdown",
   "metadata": {},
   "source": [
    "Проще воспринимать расстояние в киллометрах, поэтому переведем значения столбцов *cityCenters_nearest*, *airports_nearest*, *parks_nearest* и *ponds_nearest* "
   ]
  },
  {
   "cell_type": "code",
   "execution_count": 12,
   "metadata": {},
   "outputs": [],
   "source": [
    "columns2 = ['parks_nearest', 'ponds_nearest', 'cityCenters_nearest', 'airports_nearest']\n",
    "for i in columns2:\n",
    "    df[i] = df[i] / 1000"
   ]
  },
  {
   "cell_type": "markdown",
   "metadata": {},
   "source": [
    "balcony - количество балконов, здесь скорее всего NaN просто демонстрирует его отсутствие, внесем это в таблицу. \n",
    "\n",
    "Пропуски в *parks_around3000* и *ponds_around3000* так же могут свидетельствовать о том, что ни парков, ни прудов нет, заменим эти данные нулем."
   ]
  },
  {
   "cell_type": "code",
   "execution_count": 13,
   "metadata": {},
   "outputs": [],
   "source": [
    "columns2 = ['balcony', 'parks_around3000', 'ponds_around3000']\n",
    "\n",
    "for i in columns2:\n",
    "    df[i] = df[i].fillna(0)"
   ]
  },
  {
   "cell_type": "markdown",
   "metadata": {},
   "source": [
    "*days_exposition* можно заменить на медианное значение"
   ]
  },
  {
   "cell_type": "code",
   "execution_count": 14,
   "metadata": {},
   "outputs": [
    {
     "name": "stdout",
     "output_type": "stream",
     "text": [
      "1580.0\n",
      "1.0\n"
     ]
    }
   ],
   "source": [
    "print(df['days_exposition'].max())\n",
    "print(df['days_exposition'].min())"
   ]
  },
  {
   "cell_type": "markdown",
   "metadata": {},
   "source": [
    "от 1 дня до 4 лет: в целом вполне себе возможная ситуация. Можно приступать к замене:"
   ]
  },
  {
   "cell_type": "code",
   "execution_count": 15,
   "metadata": {},
   "outputs": [],
   "source": [
    "df['days_exposition'] = df['days_exposition'].fillna(df['days_exposition'].median())"
   ]
  },
  {
   "cell_type": "markdown",
   "metadata": {},
   "source": [
    "А теперь приведем все оставшиеся значения к должному виду:"
   ]
  },
  {
   "cell_type": "code",
   "execution_count": 16,
   "metadata": {},
   "outputs": [],
   "source": [
    "df = df.astype({\"balcony\": \"int64\",\n",
    "                \"floors_total\": \"int64\", \n",
    "                \"days_exposition\": \"int64\", \n",
    "                \"parks_around3000\": \"int64\", \n",
    "                \"ponds_around3000\": \"int64\"})"
   ]
  },
  {
   "cell_type": "markdown",
   "metadata": {},
   "source": [
    "Проверим выполненную работу:"
   ]
  },
  {
   "cell_type": "code",
   "execution_count": 17,
   "metadata": {},
   "outputs": [
    {
     "name": "stdout",
     "output_type": "stream",
     "text": [
      "total_images              0\n",
      "last_price                0\n",
      "total_area                0\n",
      "first_day_exposition      0\n",
      "rooms                     0\n",
      "ceiling_height            0\n",
      "floors_total              0\n",
      "living_area               0\n",
      "floor                     0\n",
      "is_apartment              0\n",
      "studio                    0\n",
      "open_plan                 0\n",
      "kitchen_area              0\n",
      "balcony                   0\n",
      "locality_name             0\n",
      "airports_nearest        950\n",
      "cityCenters_nearest     950\n",
      "parks_around3000          0\n",
      "parks_nearest           950\n",
      "ponds_around3000          0\n",
      "ponds_nearest           950\n",
      "days_exposition           0\n",
      "locality_group            0\n",
      "dtype: int64\n",
      "******************\n",
      "<class 'pandas.core.frame.DataFrame'>\n",
      "RangeIndex: 23650 entries, 0 to 23649\n",
      "Data columns (total 23 columns):\n",
      "total_images            23650 non-null int64\n",
      "last_price              23650 non-null float64\n",
      "total_area              23650 non-null float64\n",
      "first_day_exposition    23650 non-null datetime64[ns]\n",
      "rooms                   23650 non-null int64\n",
      "ceiling_height          23650 non-null float64\n",
      "floors_total            23650 non-null int64\n",
      "living_area             23650 non-null float64\n",
      "floor                   23650 non-null int64\n",
      "is_apartment            23650 non-null bool\n",
      "studio                  23650 non-null bool\n",
      "open_plan               23650 non-null bool\n",
      "kitchen_area            23650 non-null float64\n",
      "balcony                 23650 non-null int64\n",
      "locality_name           23650 non-null object\n",
      "airports_nearest        22700 non-null float64\n",
      "cityCenters_nearest     22700 non-null float64\n",
      "parks_around3000        23650 non-null int64\n",
      "parks_nearest           22700 non-null float64\n",
      "ponds_around3000        23650 non-null int64\n",
      "ponds_nearest           22700 non-null float64\n",
      "days_exposition         23650 non-null int64\n",
      "locality_group          23650 non-null object\n",
      "dtypes: bool(3), datetime64[ns](1), float64(9), int64(8), object(2)\n",
      "memory usage: 3.7+ MB\n"
     ]
    }
   ],
   "source": [
    "print(df.isnull().sum())\n",
    "print('******************')\n",
    "df.info()"
   ]
  },
  {
   "cell_type": "markdown",
   "metadata": {},
   "source": [
    "Так как по прежнему остались пропуски в столбцах, попробуем другой метод для их заполнения:"
   ]
  },
  {
   "cell_type": "code",
   "execution_count": 18,
   "metadata": {},
   "outputs": [],
   "source": [
    "def mean(row) :  \n",
    "    location = row['locality_group']\n",
    "     \n",
    "    if location == 'санкт-петербург' :\n",
    "        return 0\n",
    "    if location == 'маленький город' :\n",
    "        return 1\n",
    "    if location == 'посёлок' :\n",
    "        return 2\n",
    "    if location == 'деревня' :\n",
    "        return 3\n",
    "    if location == 'село' :\n",
    "        return 4\n",
    "    if location == 'товарищество' :\n",
    "        return 5\n",
    "\n",
    "df['mean_groups'] = df.apply(mean, axis=1)  \n",
    "\n",
    "for i in range (6) :  \n",
    "    total_len = df[df['mean_groups'] == i]['airports_nearest'].mean()\n",
    "    df['airports_nearest'] = df['airports_nearest'].fillna(total_len) \n",
    "    \n",
    "for i in range (6) :  \n",
    "    total_len = df[df['mean_groups'] == i]['cityCenters_nearest'].mean()\n",
    "    df['cityCenters_nearest'] = df['cityCenters_nearest'].fillna(total_len) \n",
    "    \n",
    "for i in range (6) :  \n",
    "    total_len = df[df['mean_groups'] == i]['parks_nearest'].mean()\n",
    "    df['parks_nearest'] = df['parks_nearest'].fillna(total_len) \n",
    "    \n",
    "for i in range (6) :  \n",
    "    total_len = df[df['mean_groups'] == i]['ponds_nearest'].mean()\n",
    "    df['ponds_nearest'] = df['ponds_nearest'].fillna(total_len) "
   ]
  },
  {
   "cell_type": "markdown",
   "metadata": {},
   "source": [
    "Повторим проверку:"
   ]
  },
  {
   "cell_type": "code",
   "execution_count": 19,
   "metadata": {},
   "outputs": [
    {
     "name": "stdout",
     "output_type": "stream",
     "text": [
      "total_images            0\n",
      "last_price              0\n",
      "total_area              0\n",
      "first_day_exposition    0\n",
      "rooms                   0\n",
      "ceiling_height          0\n",
      "floors_total            0\n",
      "living_area             0\n",
      "floor                   0\n",
      "is_apartment            0\n",
      "studio                  0\n",
      "open_plan               0\n",
      "kitchen_area            0\n",
      "balcony                 0\n",
      "locality_name           0\n",
      "airports_nearest        0\n",
      "cityCenters_nearest     0\n",
      "parks_around3000        0\n",
      "parks_nearest           0\n",
      "ponds_around3000        0\n",
      "ponds_nearest           0\n",
      "days_exposition         0\n",
      "locality_group          0\n",
      "mean_groups             0\n",
      "dtype: int64\n",
      "******************\n",
      "<class 'pandas.core.frame.DataFrame'>\n",
      "RangeIndex: 23650 entries, 0 to 23649\n",
      "Data columns (total 24 columns):\n",
      "total_images            23650 non-null int64\n",
      "last_price              23650 non-null float64\n",
      "total_area              23650 non-null float64\n",
      "first_day_exposition    23650 non-null datetime64[ns]\n",
      "rooms                   23650 non-null int64\n",
      "ceiling_height          23650 non-null float64\n",
      "floors_total            23650 non-null int64\n",
      "living_area             23650 non-null float64\n",
      "floor                   23650 non-null int64\n",
      "is_apartment            23650 non-null bool\n",
      "studio                  23650 non-null bool\n",
      "open_plan               23650 non-null bool\n",
      "kitchen_area            23650 non-null float64\n",
      "balcony                 23650 non-null int64\n",
      "locality_name           23650 non-null object\n",
      "airports_nearest        23650 non-null float64\n",
      "cityCenters_nearest     23650 non-null float64\n",
      "parks_around3000        23650 non-null int64\n",
      "parks_nearest           23650 non-null float64\n",
      "ponds_around3000        23650 non-null int64\n",
      "ponds_nearest           23650 non-null float64\n",
      "days_exposition         23650 non-null int64\n",
      "locality_group          23650 non-null object\n",
      "mean_groups             23650 non-null int64\n",
      "dtypes: bool(3), datetime64[ns](1), float64(9), int64(9), object(2)\n",
      "memory usage: 3.9+ MB\n"
     ]
    }
   ],
   "source": [
    "print(df.isnull().sum())\n",
    "print('******************')\n",
    "df.info()"
   ]
  },
  {
   "cell_type": "markdown",
   "metadata": {},
   "source": [
    "Все работает верно: теперь каждый столбец правильного типа, пропуски отсутствуют.\n",
    "\n",
    "Проверим таблицу на наличие дубоикатов:"
   ]
  },
  {
   "cell_type": "code",
   "execution_count": 20,
   "metadata": {},
   "outputs": [
    {
     "data": {
      "text/plain": [
       "0"
      ]
     },
     "execution_count": 20,
     "metadata": {},
     "output_type": "execute_result"
    }
   ],
   "source": [
    "df.duplicated().sum()"
   ]
  },
  {
   "cell_type": "markdown",
   "metadata": {},
   "source": [
    " Дубликаты отсутствуют.\n",
    " \n",
    " **Вывод:**\n",
    " \n",
    " Таблица содержала большое количество пропусков: какие то из них были критичны, какие то нет, в любом случае по итогу предобработки данные готовы к анализу."
   ]
  },
  {
   "cell_type": "markdown",
   "metadata": {},
   "source": [
    "## Расчёты и добавление результатов в таблицу"
   ]
  },
  {
   "cell_type": "markdown",
   "metadata": {},
   "source": [
    "Рассчитаем цену за квадратный метр: для этого создадим столбец *price_per_meter*, куда будем помещать данные"
   ]
  },
  {
   "cell_type": "code",
   "execution_count": 21,
   "metadata": {},
   "outputs": [],
   "source": [
    "df['price_per_meter'] = df['last_price'] / df['total_area']"
   ]
  },
  {
   "cell_type": "markdown",
   "metadata": {},
   "source": [
    "Рассчитаем день недели, месяц и год публикации объявления: создадим три соответствующих столбца *publication_weekday*, *publication_month* и *publication_year*."
   ]
  },
  {
   "cell_type": "code",
   "execution_count": 22,
   "metadata": {},
   "outputs": [],
   "source": [
    "df['publication_weekday'] = df['first_day_exposition'].dt.weekday\n",
    "df['publication_year'] = df['first_day_exposition'].dt.year\n",
    "df['publication_month'] = df['first_day_exposition'].dt.month"
   ]
  },
  {
   "cell_type": "markdown",
   "metadata": {},
   "source": [
    "Категоризируем этаж квартиры. Варианты: 1 - первый, 2 - последний или 0 - другой. Создадим столбец *floor_type*"
   ]
  },
  {
   "cell_type": "code",
   "execution_count": 23,
   "metadata": {},
   "outputs": [],
   "source": [
    "def floor_t(row) :  \n",
    "    floor = row['floor']\n",
    "    floor_max = row['floors_total']\n",
    "    \n",
    "    if floor == 1 :\n",
    "        return 1\n",
    "    if (floor != 1) and (floor != floor_max) :\n",
    "        return 0\n",
    "    if floor == floor_max:\n",
    "        return 2\n",
    "\n",
    "df['floor_type'] = df.apply(floor_t, axis=1)"
   ]
  },
  {
   "cell_type": "markdown",
   "metadata": {},
   "source": [
    "Посчитаем соотношение жилой площади к общей, а также кухонной к общей. Создадим столбцы *living_to_total* и *kitchen_to_total* для этих данных."
   ]
  },
  {
   "cell_type": "code",
   "execution_count": 24,
   "metadata": {},
   "outputs": [],
   "source": [
    "df['living_to_total'] = df['living_area'] / df['total_area']\n",
    "df['kitchen_to_total'] = df['kitchen_area'] / df['total_area']"
   ]
  },
  {
   "cell_type": "markdown",
   "metadata": {},
   "source": [
    "## Исследовательский анализ данных"
   ]
  },
  {
   "cell_type": "markdown",
   "metadata": {},
   "source": [
    "### Расчет параметров"
   ]
  },
  {
   "cell_type": "markdown",
   "metadata": {},
   "source": [
    "Рассмотрим каждый параметр отдельно: для площади, цены, числа комнат и высоты потолков построим гистограммы для детальной визуализации данных."
   ]
  },
  {
   "cell_type": "code",
   "execution_count": 25,
   "metadata": {},
   "outputs": [
    {
     "data": {
      "image/png": "[encoded data removed]",
      "text/plain": [
       "<Figure size 720x504 with 1 Axes>"
      ]
     },
     "metadata": {
      "needs_background": "light"
     },
     "output_type": "display_data"
    }
   ],
   "source": [
    "df['total_area'].hist(bins = 100, range=(0,400), figsize=(10,7))\n",
    "plt.title('area')\n",
    "plt.show()"
   ]
  },
  {
   "cell_type": "markdown",
   "metadata": {},
   "source": [
    "В целом ожидаемый график: резкий пик у 50 метров квадратных и плавный спуск далее, это свидетельствует о том, что больше всего объявлений о продаже однокомнатной - двухкомнатной квартир. "
   ]
  },
  {
   "cell_type": "code",
   "execution_count": 26,
   "metadata": {},
   "outputs": [
    {
     "data": {
      "image/png": "[encoded data removed]",
      "text/plain": [
       "<Figure size 720x504 with 1 Axes>"
      ]
     },
     "metadata": {
      "needs_background": "light"
     },
     "output_type": "display_data"
    }
   ],
   "source": [
    "df['rooms'].hist(bins=50, range=(0,12), figsize=(10,7))\n",
    "plt.title('rooms')\n",
    "plt.show()"
   ]
  },
  {
   "cell_type": "markdown",
   "metadata": {},
   "source": [
    "Как и график о распределении частот площади, количество комнат также свидетельствует о том, что в оснавном продаются однокомнатные - двухкомнатные квартиры, однако трешки также встречаются довольно часто. "
   ]
  },
  {
   "cell_type": "code",
   "execution_count": 27,
   "metadata": {},
   "outputs": [
    {
     "data": {
      "image/png": "[encoded data removed]",
      "text/plain": [
       "<Figure size 720x504 with 1 Axes>"
      ]
     },
     "metadata": {
      "needs_background": "light"
     },
     "output_type": "display_data"
    }
   ],
   "source": [
    "df['ceiling_height'].hist(bins=50, range=(0,10), figsize=(10,7))\n",
    "plt.title('ceiling height')\n",
    "plt.show()"
   ]
  },
  {
   "cell_type": "markdown",
   "metadata": {},
   "source": [
    "Сегодня минимальной нормой в России считается высота потока равная 2,4 метра, о чем и свидетельствует график: в основном мы и имеем это значение.  "
   ]
  },
  {
   "cell_type": "code",
   "execution_count": 28,
   "metadata": {},
   "outputs": [
    {
     "data": {
      "image/png": "[encoded data removed]",
      "text/plain": [
       "<Figure size 720x504 with 1 Axes>"
      ]
     },
     "metadata": {
      "needs_background": "light"
     },
     "output_type": "display_data"
    }
   ],
   "source": [
    "df['last_price'].hist(bins=100, range=(0,100), figsize=(10,7))\n",
    "plt.title('price')\n",
    "plt.show()"
   ]
  },
  {
   "cell_type": "markdown",
   "metadata": {},
   "source": [
    "Наблюдается резкий пик на 5-7 миллионах, а дальше - плавный спуск. В полне реалистичная картина ценообразования в Санкт-Петербурге, потому что средняя стоимость однушки в Санкт-Петербурге как раз и составляет примерно такую цену, а так как у нас не только Петербург, но и Лен. область, легко оюъясняется, почему на графике комнат всплеск еще и на отметке \"2\", потому что это как раз и будет средней ценой за двушку.  "
   ]
  },
  {
   "cell_type": "markdown",
   "metadata": {},
   "source": [
    "### Расчет времени"
   ]
  },
  {
   "cell_type": "markdown",
   "metadata": {},
   "source": [
    "Рассмотрим время прдажи квартирты:  "
   ]
  },
  {
   "cell_type": "code",
   "execution_count": 29,
   "metadata": {},
   "outputs": [
    {
     "data": {
      "image/png": "[encoded data removed]",
      "text/plain": [
       "<Figure size 720x504 with 1 Axes>"
      ]
     },
     "metadata": {
      "needs_background": "light"
     },
     "output_type": "display_data"
    }
   ],
   "source": [
    "df['days_exposition'].hist(bins=100, range=(0,2000), figsize=(10,7))\n",
    "plt.title('days exposition')\n",
    "plt.show()"
   ]
  },
  {
   "cell_type": "markdown",
   "metadata": {},
   "source": [
    "Наблюдается резкий пик в значении 100 дней: вполне возможная ситуация. Для достоверности результата найдем еще среднее и медиану. "
   ]
  },
  {
   "cell_type": "code",
   "execution_count": 30,
   "metadata": {},
   "outputs": [
    {
     "name": "stdout",
     "output_type": "stream",
     "text": [
      "95.0\n",
      "169.22274841437633\n"
     ]
    }
   ],
   "source": [
    "print(df['days_exposition'].median())\n",
    "print(df['days_exposition'].mean())"
   ]
  },
  {
   "cell_type": "markdown",
   "metadata": {},
   "source": [
    "Обращаясь к гистограмме, можно заметить, что на отметке 750 дней уже почти нет данных, а на 1000 они вообще едва заметны, тогда можно работать только со срезом данных, где дней будет не больше 850, остольное можно считать необычайно долгими продажами. "
   ]
  },
  {
   "cell_type": "code",
   "execution_count": 31,
   "metadata": {},
   "outputs": [],
   "source": [
    "df_not_too_slow = df.query('days_exposition < 850')"
   ]
  },
  {
   "cell_type": "markdown",
   "metadata": {},
   "source": [
    "Подозрительно быстрых продаж гораздо больше, чем долгих, посчитаем от какого процента от общих данных мы избавимся, если удалим эти значения (примим за сверхбыструю продажу месяц):"
   ]
  },
  {
   "cell_type": "code",
   "execution_count": 32,
   "metadata": {},
   "outputs": [
    {
     "data": {
      "text/plain": [
       "0.14904862579281183"
      ]
     },
     "execution_count": 32,
     "metadata": {},
     "output_type": "execute_result"
    }
   ],
   "source": [
    "len(df.query('days_exposition < 30')) / len(df)"
   ]
  },
  {
   "cell_type": "markdown",
   "metadata": {},
   "source": [
    "В целом 15% не так уж и много, поэтому можно отбросить эти данные. "
   ]
  },
  {
   "cell_type": "code",
   "execution_count": 33,
   "metadata": {},
   "outputs": [],
   "source": [
    "df_not_too_fast = df.query('days_exposition > 30')"
   ]
  },
  {
   "cell_type": "markdown",
   "metadata": {},
   "source": [
    "Сравним полученные данные с исходными. Построим два графика ящик с усами: для новых значений и старых."
   ]
  },
  {
   "cell_type": "code",
   "execution_count": 34,
   "metadata": {},
   "outputs": [
    {
     "data": {
      "image/png": "[encoded data removed]",
      "text/plain": [
       "<Figure size 720x504 with 1 Axes>"
      ]
     },
     "metadata": {
      "needs_background": "light"
     },
     "output_type": "display_data"
    },
    {
     "data": {
      "image/png": "[encoded data removed]",
      "text/plain": [
       "<Figure size 720x504 with 1 Axes>"
      ]
     },
     "metadata": {
      "needs_background": "light"
     },
     "output_type": "display_data"
    }
   ],
   "source": [
    "df.boxplot(column='days_exposition', figsize=(10,7))\n",
    "plt.title('days exposition before cleaning')\n",
    "plt.show()\n",
    "\n",
    "df_good = df.query('30 < days_exposition < 850')\n",
    "df_good.boxplot(column='days_exposition', figsize=(10,7))\n",
    "plt.title('days exposition after cleaning')\n",
    "plt.show()"
   ]
  },
  {
   "cell_type": "markdown",
   "metadata": {},
   "source": [
    "На графике видно, что доля нормальных значений выросла, минимум, как и максимум увеличился, т.е. данные приняли более реалистичный вид. "
   ]
  },
  {
   "cell_type": "markdown",
   "metadata": {},
   "source": [
    "### Обработка редких значений"
   ]
  },
  {
   "cell_type": "markdown",
   "metadata": {},
   "source": [
    "Мы уже рассматривали столбцы с наиболее важными значениями для анализа: *last_price*, *total_area*, *rooms* и *ceiling_height*. Полученнные гистограммы свидетельствовали о наличии выбросов. Для цен: что то выше 40 млн считается редкостью, площадь больше 300 метров квадратных тоже, у комнат больше восьми значения дальше почти не встречаются, потолки выше 4 метров - редкость. Посмотрим конкретное число этих данныз:"
   ]
  },
  {
   "cell_type": "code",
   "execution_count": 35,
   "metadata": {},
   "outputs": [
    {
     "name": "stdout",
     "output_type": "stream",
     "text": [
      "182\n",
      "61\n",
      "19\n",
      "75\n"
     ]
    }
   ],
   "source": [
    "df1 = df.query('last_price > 40')\n",
    "df2 = df.query('total_area > 300')\n",
    "df3 = df.query('rooms > 8')\n",
    "df4 = df.query('ceiling_height > 4')\n",
    "print(df1.shape[0])\n",
    "print(df2.shape[0])\n",
    "print(df3.shape[0])\n",
    "print(df4.shape[0])"
   ]
  },
  {
   "cell_type": "markdown",
   "metadata": {},
   "source": [
    "Этих данных ничтожно мало, смело от них избавляемся. "
   ]
  },
  {
   "cell_type": "code",
   "execution_count": 36,
   "metadata": {},
   "outputs": [],
   "source": [
    "df_clean = df.query('last_price < 40 and total_area < 300 and rooms < 8 and ceiling_height < 4')"
   ]
  },
  {
   "cell_type": "markdown",
   "metadata": {},
   "source": [
    "В итоге получена таблица без выбросов и выбивающихся значений, они могли появиться в результате продажи не квартиры, а какого то другого помещения, так как нас интересуют только квартиры, эти данные нам не нужны. "
   ]
  },
  {
   "cell_type": "markdown",
   "metadata": {},
   "source": [
    "### Факторы стоимости квартир"
   ]
  },
  {
   "cell_type": "markdown",
   "metadata": {},
   "source": [
    "Самое время узнать: что влияет на цену квартиры, для этого построим матрицы корреляции для отдельных параметров: площади, числа комнат и удаленности от центра. "
   ]
  },
  {
   "cell_type": "code",
   "execution_count": 37,
   "metadata": {},
   "outputs": [
    {
     "name": "stdout",
     "output_type": "stream",
     "text": [
      "                     cityCenters_nearest  last_price     rooms  total_area\n",
      "cityCenters_nearest             1.000000   -0.422544 -0.147997   -0.238440\n",
      "last_price                     -0.422544    1.000000  0.503333    0.785360\n",
      "rooms                          -0.147997    0.503333  1.000000    0.789583\n",
      "total_area                     -0.238440    0.785360  0.789583    1.000000\n"
     ]
    },
    {
     "data": {
      "image/png": "[encoded data removed]",
      "text/plain": [
       "<Figure size 648x648 with 16 Axes>"
      ]
     },
     "metadata": {
      "needs_background": "light"
     },
     "output_type": "display_data"
    }
   ],
   "source": [
    "stat_multi = df_clean.pivot_table(\n",
    "    index = df_clean.index, values=['cityCenters_nearest', 'last_price', 'total_area', 'rooms']\n",
    ")\n",
    "print(stat_multi.corr())\n",
    "pd.plotting.scatter_matrix(stat_multi, figsize=(9, 9))\n",
    "plt.show()"
   ]
  },
  {
   "cell_type": "markdown",
   "metadata": {},
   "source": [
    "Получается, что наибольшая зависимость наблюдается между столбцами: *last_price* и *total_area*, *total_area* и *rooms*, тогда по свойству транзетивности связь наблюдается и между *last_price* и *rooms*, также наблюдается отрицательная зависимость между *last_price* и *cityCenters_nearest*, которая гласит: чем меньше расстояние до центра, тем дороже квартиры. Полученные графики и коэффициенты корреляции вполне ожидаемые. \n",
    "\n",
    "Изучим влияет ли этаж на цену квартиры: "
   ]
  },
  {
   "cell_type": "code",
   "execution_count": 38,
   "metadata": {},
   "outputs": [
    {
     "name": "stdout",
     "output_type": "stream",
     "text": [
      "            floor_type  last_price\n",
      "floor_type    1.000000   -0.067034\n",
      "last_price   -0.067034    1.000000\n"
     ]
    },
    {
     "data": {
      "image/png": "[encoded data removed]",
      "text/plain": [
       "<Figure size 648x648 with 4 Axes>"
      ]
     },
     "metadata": {
      "needs_background": "light"
     },
     "output_type": "display_data"
    }
   ],
   "source": [
    "stat_floor = df_clean.pivot_table(\n",
    "    index = df_clean.index, values=['last_price', 'floor_type']\n",
    ")\n",
    "print(stat_floor.corr())\n",
    "pd.plotting.scatter_matrix(stat_floor, figsize=(9, 9))\n",
    "plt.show()"
   ]
  },
  {
   "cell_type": "markdown",
   "metadata": {},
   "source": [
    "Как показал коэффициент корреляции, значения не зависят друг от друга.\n",
    "\n",
    "Посмотрим: влияет ли как нибудь на цену дата размещения объявления."
   ]
  },
  {
   "cell_type": "code",
   "execution_count": 39,
   "metadata": {},
   "outputs": [
    {
     "name": "stdout",
     "output_type": "stream",
     "text": [
      "                     last_price  publication_month  publication_weekday  \\\n",
      "last_price             1.000000           0.004766            -0.011213   \n",
      "publication_month      0.004766           1.000000             0.011522   \n",
      "publication_weekday   -0.011213           0.011522             1.000000   \n",
      "publication_year      -0.036329          -0.271480            -0.003196   \n",
      "\n",
      "                     publication_year  \n",
      "last_price                  -0.036329  \n",
      "publication_month           -0.271480  \n",
      "publication_weekday         -0.003196  \n",
      "publication_year             1.000000  \n"
     ]
    },
    {
     "data": {
      "image/png": "[encoded data removed]",
      "text/plain": [
       "<Figure size 648x648 with 16 Axes>"
      ]
     },
     "metadata": {
      "needs_background": "light"
     },
     "output_type": "display_data"
    }
   ],
   "source": [
    "stat_post = df_clean.pivot_table(\n",
    "    index = df_clean.index, values=['last_price', 'publication_weekday', 'publication_year', 'publication_month']\n",
    ")\n",
    "print(stat_post.corr())\n",
    "pd.plotting.scatter_matrix(stat_post, figsize=(9, 9))\n",
    "plt.show()"
   ]
  },
  {
   "cell_type": "markdown",
   "metadata": {},
   "source": [
    "Дата публикации не влияет на цену объекта. "
   ]
  },
  {
   "cell_type": "markdown",
   "metadata": {},
   "source": [
    "### Обработка населенных пунктов"
   ]
  },
  {
   "cell_type": "markdown",
   "metadata": {},
   "source": [
    "Выделим топ 10 самых частовстречающихся населенных пункта:"
   ]
  },
  {
   "cell_type": "code",
   "execution_count": 40,
   "metadata": {},
   "outputs": [
    {
     "data": {
      "text/plain": [
       "Санкт-Петербург      15422\n",
       "посёлок Мурино         520\n",
       "посёлок Шушары         440\n",
       "Всеволожск             396\n",
       "Пушкин                 365\n",
       "Колпино                337\n",
       "посёлок Парголово      327\n",
       "Гатчина                305\n",
       "деревня Кудрово        299\n",
       "Выборг                 235\n",
       "Name: locality_name, dtype: int64"
      ]
     },
     "execution_count": 40,
     "metadata": {},
     "output_type": "execute_result"
    }
   ],
   "source": [
    "df_clean['locality_name'].value_counts().head(10)"
   ]
  },
  {
   "cell_type": "markdown",
   "metadata": {},
   "source": [
    "Найдем среднее значение цены за квадратный метр для каждого города отдельно:"
   ]
  },
  {
   "cell_type": "code",
   "execution_count": 41,
   "metadata": {},
   "outputs": [
    {
     "name": "stdout",
     "output_type": "stream",
     "text": [
      "Средняя цена(тыс) квадратного метра в Санкт-Петербурге: 113658.36\n",
      "Средняя цена(тыс) квадратного метра в посёлоке Мурино: 83207.93\n",
      "Средняя цена(тыс) квадратного метра в посёлоке Шушары: 76328.22\n",
      "Средняя цена(тыс) квадратного метра во Всеволожске: 67539.43\n",
      "Средняя цена(тыс) квадратного метра в Пушкине: 104532.10\n",
      "Средняя цена(тыс) квадратного метра в Колпино: 73842.93\n",
      "Средняя цена(тыс) квадратного метра в посёлоке Парголово: 87110.87\n",
      "Средняя цена(тыс) квадратного метра в Гатчине: 68596.17\n",
      "Средняя цена(тыс) квадратного метра в деревне Кудрово: 90916.90\n",
      "Средняя цена(тыс) квадратного метра в Выборге: 57912.23\n"
     ]
    }
   ],
   "source": [
    "df_clean = df_clean.reset_index()\n",
    "def locality_mean(local) :\n",
    "    \n",
    "    total_area = 0\n",
    "    total_price = 0\n",
    "    \n",
    "    for i in range(len(df_clean)) :\n",
    "        if df_clean['locality_name'][i] == local:\n",
    "            total_area += df_clean['total_area'][i]\n",
    "            total_price += df_clean['last_price'][i]\n",
    "    return total_price / total_area * 1000000\n",
    "\n",
    "print('Средняя цена(тыс) квадратного метра в Санкт-Петербурге: {:.2f}'.format(locality_mean('Санкт-Петербург'))) \n",
    "print('Средняя цена(тыс) квадратного метра в посёлоке Мурино: {:.2f}'.format(locality_mean('посёлок Мурино'))) \n",
    "print('Средняя цена(тыс) квадратного метра в посёлоке Шушары: {:.2f}'.format(locality_mean('посёлок Шушары'))) \n",
    "print('Средняя цена(тыс) квадратного метра во Всеволожске: {:.2f}'.format(locality_mean('Всеволожск'))) \n",
    "print('Средняя цена(тыс) квадратного метра в Пушкине: {:.2f}'.format(locality_mean('Пушкин'))) \n",
    "print('Средняя цена(тыс) квадратного метра в Колпино: {:.2f}'.format(locality_mean('Колпино'))) \n",
    "print('Средняя цена(тыс) квадратного метра в посёлоке Парголово: {:.2f}'.format(locality_mean('посёлок Парголово'))) \n",
    "print('Средняя цена(тыс) квадратного метра в Гатчине: {:.2f}'.format(locality_mean('Гатчина'))) \n",
    "print('Средняя цена(тыс) квадратного метра в деревне Кудрово: {:.2f}'.format(locality_mean('деревня Кудрово'))) \n",
    "print('Средняя цена(тыс) квадратного метра в Выборге: {:.2f}'.format(locality_mean('Выборг'))) "
   ]
  },
  {
   "cell_type": "markdown",
   "metadata": {},
   "source": [
    "А теперь найдем среди них населённые пункты с самой высокой и низкой стоимостью жилья:"
   ]
  },
  {
   "cell_type": "code",
   "execution_count": 42,
   "metadata": {},
   "outputs": [
    {
     "data": {
      "image/png": "[encoded data removed]",
      "text/plain": [
       "<Figure size 720x504 with 1 Axes>"
      ]
     },
     "metadata": {
      "needs_background": "light"
     },
     "output_type": "display_data"
    }
   ],
   "source": [
    "df_top10_locality = pd.DataFrame({'name': ['Санкт-Петербург', \n",
    "                                           'посёлок Мурино', \n",
    "                                           'посёлок Шушары', \n",
    "                                           'Всеволожск', \n",
    "                                           'Пушкин', \n",
    "                                           'Колпино', \n",
    "                                           'посёлок Парголово', \n",
    "                                           'Гатчина', \n",
    "                                           'деревня Кудрово', \n",
    "                                           'Выборг'], \n",
    "                                  'mean_price_per_meter': [locality_mean('Санкт-Петербург'),\n",
    "                                                           locality_mean('посёлок Мурино'),\n",
    "                                                           locality_mean('посёлок Шушары'),\n",
    "                                                           locality_mean('Всеволожск'),\n",
    "                                                           locality_mean('Пушкин'),\n",
    "                                                           locality_mean('Колпино'),\n",
    "                                                           locality_mean('посёлок Парголово'),\n",
    "                                                           locality_mean('Гатчина'),\n",
    "                                                           locality_mean('деревня Кудрово'),\n",
    "                                                           locality_mean('Выборг')]})\n",
    "\n",
    "df_top10_locality = df_top10_locality.sort_values(by='mean_price_per_meter')\n",
    "df_top10_locality1 = df_top10_locality.set_index('name')\n",
    "df_top10_locality1.plot(y='mean_price_per_meter', kind='bar', figsize=(10,7))\n",
    "plt.title('prices in the cities')\n",
    "plt.show()"
   ]
  },
  {
   "cell_type": "markdown",
   "metadata": {},
   "source": [
    "Получается, что дешевле всего жилье в Выборге, Всеволожске и Гатчине, а вот дороже всего в Кудрово, Пушкине и Санкт-Петербурге."
   ]
  },
  {
   "cell_type": "markdown",
   "metadata": {},
   "source": [
    "### Обработка цнтра Питера"
   ]
  },
  {
   "cell_type": "markdown",
   "metadata": {},
   "source": [
    "Выделим квартиры в Питере и обработаем их в зависимости от удаленности от центра:"
   ]
  },
  {
   "cell_type": "code",
   "execution_count": 43,
   "metadata": {},
   "outputs": [
    {
     "data": {
      "image/png": "[encoded data removed]",
      "text/plain": [
       "<Figure size 720x504 with 1 Axes>"
      ]
     },
     "metadata": {
      "needs_background": "light"
     },
     "output_type": "display_data"
    }
   ],
   "source": [
    "df_clean['cityCenters_nearest'] = df_clean['cityCenters_nearest'].round()\n",
    "df_clean_SaintP = df_clean.query('locality_name == \"Санкт-Петербург\"')\n",
    "SaintP_center_price = df_clean_SaintP.pivot_table(index = 'cityCenters_nearest', \n",
    "                                                  values = 'last_price')\n",
    "SaintP_center_price.plot(y='last_price', \n",
    "                         style='-', \n",
    "                         grid=True, \n",
    "                         figsize=(10,7)) \n",
    "plt.title('prices is Saint-Petersburg')\n",
    "plt.show()"
   ]
  },
  {
   "cell_type": "markdown",
   "metadata": {},
   "source": [
    "Резкое снижение идет до отметки 3км, дальше идет небольшой рост, а после 5 км плавное снижение, скорее всего ориентировочно на 8–10 км заканчиваются квартиры в центральной зоне, потому что дальше идёт в том числе спад и длительная стагнация стоимости."
   ]
  },
  {
   "cell_type": "markdown",
   "metadata": {},
   "source": [
    "### Ценообразование в центре Питера"
   ]
  },
  {
   "cell_type": "markdown",
   "metadata": {},
   "source": [
    "Для выделенной зоны 9 км изучим следующие параметры: площадь, цену, число комнат, высота потолков. Но сначала сделаем новый срез, который будет удовлетворять условию того, что квартиры находятся в центре."
   ]
  },
  {
   "cell_type": "code",
   "execution_count": 44,
   "metadata": {},
   "outputs": [],
   "source": [
    "SaintP_center = df_clean_SaintP.query('cityCenters_nearest < 9')"
   ]
  },
  {
   "cell_type": "markdown",
   "metadata": {},
   "source": [
    "Построим по следующим параметрам графики сначала для центральной зоны, потом для всего города и сравним полученные результаты\n",
    "\n",
    "Графики центральной зоны и для всего города:"
   ]
  },
  {
   "cell_type": "code",
   "execution_count": 45,
   "metadata": {},
   "outputs": [
    {
     "name": "stdout",
     "output_type": "stream",
     "text": [
      "parametr:  total_area\n"
     ]
    },
    {
     "data": {
      "image/png": "[encoded data removed]",
      "text/plain": [
       "<Figure size 432x288 with 1 Axes>"
      ]
     },
     "metadata": {
      "needs_background": "light"
     },
     "output_type": "display_data"
    },
    {
     "data": {
      "image/png": "[encoded data removed]",
      "text/plain": [
       "<Figure size 432x288 with 1 Axes>"
      ]
     },
     "metadata": {
      "needs_background": "light"
     },
     "output_type": "display_data"
    },
    {
     "name": "stdout",
     "output_type": "stream",
     "text": [
      "parametr:  last_price\n"
     ]
    },
    {
     "data": {
      "image/png": "[encoded data removed]",
      "text/plain": [
       "<Figure size 432x288 with 1 Axes>"
      ]
     },
     "metadata": {
      "needs_background": "light"
     },
     "output_type": "display_data"
    },
    {
     "data": {
      "image/png": "[encoded data removed]",
      "text/plain": [
       "<Figure size 432x288 with 1 Axes>"
      ]
     },
     "metadata": {
      "needs_background": "light"
     },
     "output_type": "display_data"
    },
    {
     "name": "stdout",
     "output_type": "stream",
     "text": [
      "parametr:  rooms\n"
     ]
    },
    {
     "data": {
      "image/png": "[encoded data removed]",
      "text/plain": [
       "<Figure size 432x288 with 1 Axes>"
      ]
     },
     "metadata": {
      "needs_background": "light"
     },
     "output_type": "display_data"
    },
    {
     "data": {
      "image/png": "[encoded data removed]",
      "text/plain": [
       "<Figure size 432x288 with 1 Axes>"
      ]
     },
     "metadata": {
      "needs_background": "light"
     },
     "output_type": "display_data"
    },
    {
     "name": "stdout",
     "output_type": "stream",
     "text": [
      "parametr:  ceiling_height\n"
     ]
    },
    {
     "data": {
      "image/png": "[encoded data removed]",
      "text/plain": [
       "<Figure size 432x288 with 1 Axes>"
      ]
     },
     "metadata": {
      "needs_background": "light"
     },
     "output_type": "display_data"
    },
    {
     "data": {
      "image/png": "[encoded data removed]",
      "text/plain": [
       "<Figure size 432x288 with 1 Axes>"
      ]
     },
     "metadata": {
      "needs_background": "light"
     },
     "output_type": "display_data"
    }
   ],
   "source": [
    "columns3 = ['total_area', 'last_price', 'rooms', 'ceiling_height']\n",
    "\n",
    "for i in columns3:\n",
    "    print('parametr: ', i)\n",
    "    SaintP_center[i].hist(bins=100)\n",
    "    plt.title('real estate in the center')\n",
    "    plt.show()\n",
    "    df_clean_SaintP[i].hist(bins=100)\n",
    "    plt.title('real estate all over the city')\n",
    "    plt.show()"
   ]
  },
  {
   "cell_type": "markdown",
   "metadata": {},
   "source": [
    "Выводы относительно полученных данных:\n",
    "\n",
    "Однозначно можно сделать вывод, что в центре в основном продаются квартиры с большей площадью, нежеле в остальных районах города. \n",
    "\n",
    "Сильно бросается в глаза тот факт, что квартиры в центре на порядок дороже, также можно отметить, что в остальных районах города идет гладкий, но тем неменее резкий спуск, а в центральном районе все же много дорогих квартир, и хоть спуск и наблюдается, но он совсем не резкий, а ближе к пологому.\n",
    "\n",
    "В центре в основном продают двух-трехкомнатные квартриры, а вот в остальных районах наоборот более распространена продажа однушек.\n",
    "\n",
    "А вот высота потолков в целом схожа, однако в центре гораздо чаще можно встретить квартиры с более высокими потолками, это связанно с тем, что в центре много исторических зданий, где очень высокие потолки, а в остальных районах чаще всего продаются квартиры в новостройках, где пытабтся уложиться в ГОСТы и не заморачиваются насчёт комфортабельности.\n",
    "\n",
    "Проверим как влияют число комнат, этаж, удалённость от центра, дата размещения объявления на ценообразование в центре."
   ]
  },
  {
   "cell_type": "code",
   "execution_count": 47,
   "metadata": {},
   "outputs": [
    {
     "name": "stdout",
     "output_type": "stream",
     "text": [
      "                     cityCenters_nearest     floor  last_price     rooms\n",
      "cityCenters_nearest             1.000000  0.278444   -0.094608 -0.215713\n",
      "floor                           0.278444  1.000000    0.161547 -0.076297\n",
      "last_price                     -0.094608  0.161547    1.000000  0.467838\n",
      "rooms                          -0.215713 -0.076297    0.467838  1.000000\n"
     ]
    },
    {
     "data": {
      "image/png": "[encoded data removed]",
      "text/plain": [
       "<Figure size 648x648 with 16 Axes>"
      ]
     },
     "metadata": {
      "needs_background": "light"
     },
     "output_type": "display_data"
    }
   ],
   "source": [
    "stat_center = SaintP_center.pivot_table(\n",
    "    index = SaintP_center.index, values=['last_price', \n",
    "                                         'first_day_exposition', \n",
    "                                         'floor', 'rooms', \n",
    "                                         'cityCenters_nearest']\n",
    ")\n",
    "print(stat_center.corr())\n",
    "pd.plotting.scatter_matrix(stat_center, figsize=(9, 9))\n",
    "plt.show()"
   ]
  },
  {
   "cell_type": "markdown",
   "metadata": {},
   "source": [
    "В целом влияние оказывается примерно такое же, как и по области. "
   ]
  },
  {
   "cell_type": "markdown",
   "metadata": {},
   "source": [
    "## Общий вывод"
   ]
  },
  {
   "cell_type": "markdown",
   "metadata": {},
   "source": [
    "Проведенный анализ помог найти основные факторы влияние на ценообразование. Также были выделенны районы, где четко указывалось сколько в среднем стоит квадратный метр, где цены минимальны, где максимальны. Для Санкт-Петербурга был проведен отдельный анализ для выявления квартир в цнтре и их основных отличий от недвижимоти в других районах. "
   ]
  }
 ],
 "metadata": {
  "ExecuteTimeLog": [
   {
    "duration": 898,
    "start_time": "2021-09-24T12:50:18.842Z"
   },
   {
    "duration": 81,
    "start_time": "2021-09-24T12:50:36.669Z"
   },
   {
    "duration": 114,
    "start_time": "2021-09-24T12:50:50.774Z"
   },
   {
    "duration": 221,
    "start_time": "2021-09-24T13:13:21.082Z"
   },
   {
    "duration": 6,
    "start_time": "2021-09-24T13:40:46.494Z"
   },
   {
    "duration": 3001,
    "start_time": "2021-09-24T13:50:14.550Z"
   },
   {
    "duration": 4297,
    "start_time": "2021-09-24T13:50:32.984Z"
   },
   {
    "duration": 2559,
    "start_time": "2021-09-24T13:52:35.554Z"
   },
   {
    "duration": 115,
    "start_time": "2021-09-24T13:52:53.976Z"
   },
   {
    "duration": 6,
    "start_time": "2021-09-24T13:52:58.509Z"
   },
   {
    "duration": 2865,
    "start_time": "2021-09-24T13:53:00.498Z"
   },
   {
    "duration": 2697,
    "start_time": "2021-09-24T13:53:33.719Z"
   },
   {
    "duration": 11,
    "start_time": "2021-09-24T13:54:08.608Z"
   },
   {
    "duration": 5,
    "start_time": "2021-09-24T13:54:15.251Z"
   },
   {
    "duration": 23,
    "start_time": "2021-09-24T13:54:28.004Z"
   },
   {
    "duration": 6,
    "start_time": "2021-09-24T13:54:51.938Z"
   },
   {
    "duration": 17,
    "start_time": "2021-09-24T13:56:03.818Z"
   },
   {
    "duration": 6,
    "start_time": "2021-09-24T13:56:11.603Z"
   },
   {
    "duration": 395,
    "start_time": "2021-09-24T14:02:36.553Z"
   },
   {
    "duration": 16,
    "start_time": "2021-09-24T14:11:56.628Z"
   },
   {
    "duration": 9,
    "start_time": "2021-09-24T14:23:11.787Z"
   },
   {
    "duration": 7,
    "start_time": "2021-09-24T14:25:24.126Z"
   },
   {
    "duration": 6,
    "start_time": "2021-09-24T14:25:26.032Z"
   },
   {
    "duration": 7,
    "start_time": "2021-09-24T14:25:32.731Z"
   },
   {
    "duration": 5,
    "start_time": "2021-09-24T14:25:41.067Z"
   },
   {
    "duration": 6,
    "start_time": "2021-09-24T14:30:31.368Z"
   },
   {
    "duration": 5,
    "start_time": "2021-09-24T14:32:02.420Z"
   },
   {
    "duration": 6,
    "start_time": "2021-09-24T14:32:14.426Z"
   },
   {
    "duration": 15,
    "start_time": "2021-09-24T14:35:33.248Z"
   },
   {
    "duration": 12,
    "start_time": "2021-09-24T14:35:42.583Z"
   },
   {
    "duration": 17,
    "start_time": "2021-09-24T14:46:34.581Z"
   },
   {
    "duration": 11,
    "start_time": "2021-09-24T14:47:11.882Z"
   },
   {
    "duration": 5,
    "start_time": "2021-09-24T14:56:14.100Z"
   },
   {
    "duration": 7,
    "start_time": "2021-09-24T14:58:24.055Z"
   },
   {
    "duration": 12,
    "start_time": "2021-09-24T15:02:31.475Z"
   },
   {
    "duration": 1054,
    "start_time": "2021-09-24T15:03:09.611Z"
   },
   {
    "duration": 359,
    "start_time": "2021-09-24T15:05:15.664Z"
   },
   {
    "duration": 10,
    "start_time": "2021-09-24T15:05:41.094Z"
   },
   {
    "duration": 18,
    "start_time": "2021-09-24T15:06:10.783Z"
   },
   {
    "duration": 18,
    "start_time": "2021-09-24T15:06:28.999Z"
   },
   {
    "duration": 41,
    "start_time": "2021-09-24T15:09:10.720Z"
   },
   {
    "duration": 239,
    "start_time": "2021-09-26T08:49:56.458Z"
   },
   {
    "duration": 731,
    "start_time": "2021-09-26T08:50:01.059Z"
   },
   {
    "duration": 5,
    "start_time": "2021-09-26T08:50:05.936Z"
   },
   {
    "duration": 8,
    "start_time": "2021-09-26T08:50:07.624Z"
   },
   {
    "duration": 12,
    "start_time": "2021-09-26T08:50:09.667Z"
   },
   {
    "duration": 6,
    "start_time": "2021-09-26T08:50:11.438Z"
   },
   {
    "duration": 8,
    "start_time": "2021-09-26T08:50:34.208Z"
   },
   {
    "duration": 11,
    "start_time": "2021-09-26T08:58:11.017Z"
   },
   {
    "duration": 16,
    "start_time": "2021-09-26T08:58:19.518Z"
   },
   {
    "duration": 13,
    "start_time": "2021-09-26T09:05:59.651Z"
   },
   {
    "duration": 21,
    "start_time": "2021-09-26T09:06:44.490Z"
   },
   {
    "duration": 253,
    "start_time": "2021-09-26T09:07:05.294Z"
   },
   {
    "duration": 18,
    "start_time": "2021-09-26T09:07:24.487Z"
   },
   {
    "duration": 6,
    "start_time": "2021-09-26T09:07:57.369Z"
   },
   {
    "duration": 15,
    "start_time": "2021-09-26T09:08:14.188Z"
   },
   {
    "duration": 5,
    "start_time": "2021-09-26T09:08:30.648Z"
   },
   {
    "duration": 5,
    "start_time": "2021-09-26T09:08:32.536Z"
   },
   {
    "duration": 5,
    "start_time": "2021-09-26T09:08:35.840Z"
   },
   {
    "duration": 9,
    "start_time": "2021-09-26T09:08:38.381Z"
   },
   {
    "duration": 5,
    "start_time": "2021-09-26T09:08:40.579Z"
   },
   {
    "duration": 6,
    "start_time": "2021-09-26T09:08:42.443Z"
   },
   {
    "duration": 14,
    "start_time": "2021-09-26T09:08:44.585Z"
   },
   {
    "duration": 452,
    "start_time": "2021-09-26T12:21:38.621Z"
   },
   {
    "duration": 946,
    "start_time": "2021-09-26T12:21:43.686Z"
   },
   {
    "duration": 6,
    "start_time": "2021-09-26T12:21:49.547Z"
   },
   {
    "duration": 12,
    "start_time": "2021-09-26T12:21:51.532Z"
   },
   {
    "duration": 11,
    "start_time": "2021-09-26T12:21:53.170Z"
   },
   {
    "duration": 6,
    "start_time": "2021-09-26T12:22:03.447Z"
   },
   {
    "duration": 8,
    "start_time": "2021-09-26T12:22:15.169Z"
   },
   {
    "duration": 6,
    "start_time": "2021-09-26T12:22:43.893Z"
   },
   {
    "duration": 9,
    "start_time": "2021-09-26T12:23:00.797Z"
   },
   {
    "duration": 7,
    "start_time": "2021-09-26T12:23:43.602Z"
   },
   {
    "duration": 22,
    "start_time": "2021-09-26T12:23:51.648Z"
   },
   {
    "duration": 2672,
    "start_time": "2021-09-26T12:24:25.277Z"
   },
   {
    "duration": 2484,
    "start_time": "2021-09-26T12:24:29.485Z"
   },
   {
    "duration": 25,
    "start_time": "2021-09-26T12:24:48.304Z"
   },
   {
    "duration": 9,
    "start_time": "2021-09-26T12:25:05.427Z"
   },
   {
    "duration": 6,
    "start_time": "2021-09-26T12:27:40.182Z"
   },
   {
    "duration": 7,
    "start_time": "2021-09-26T12:31:02.245Z"
   },
   {
    "duration": 19,
    "start_time": "2021-09-26T12:31:12.822Z"
   },
   {
    "duration": 115,
    "start_time": "2021-09-26T12:31:25.914Z"
   },
   {
    "duration": 8,
    "start_time": "2021-09-26T12:31:30.242Z"
   },
   {
    "duration": 12,
    "start_time": "2021-09-26T12:31:31.970Z"
   },
   {
    "duration": 6,
    "start_time": "2021-09-26T12:31:33.574Z"
   },
   {
    "duration": 6,
    "start_time": "2021-09-26T12:31:36.114Z"
   },
   {
    "duration": 14,
    "start_time": "2021-09-26T12:31:37.975Z"
   },
   {
    "duration": 23,
    "start_time": "2021-09-26T12:31:39.650Z"
   },
   {
    "duration": 8,
    "start_time": "2021-09-26T12:31:42.215Z"
   },
   {
    "duration": 7,
    "start_time": "2021-09-26T12:31:44.120Z"
   },
   {
    "duration": 7,
    "start_time": "2021-09-26T12:31:46.224Z"
   },
   {
    "duration": 14,
    "start_time": "2021-09-26T12:31:48.545Z"
   },
   {
    "duration": 8,
    "start_time": "2021-09-26T12:31:52.010Z"
   },
   {
    "duration": 6,
    "start_time": "2021-09-26T12:31:54.183Z"
   },
   {
    "duration": 19,
    "start_time": "2021-09-26T12:31:56.041Z"
   },
   {
    "duration": 7,
    "start_time": "2021-09-26T12:34:25.642Z"
   },
   {
    "duration": 361,
    "start_time": "2021-09-26T12:35:39.428Z"
   },
   {
    "duration": 6,
    "start_time": "2021-09-26T12:36:22.154Z"
   },
   {
    "duration": 6,
    "start_time": "2021-09-26T12:36:26.310Z"
   },
   {
    "duration": 6,
    "start_time": "2021-09-26T12:36:56.237Z"
   },
   {
    "duration": 5,
    "start_time": "2021-09-26T12:39:04.469Z"
   },
   {
    "duration": 7,
    "start_time": "2021-09-26T12:39:11.720Z"
   },
   {
    "duration": 18,
    "start_time": "2021-09-26T12:39:13.561Z"
   },
   {
    "duration": 19,
    "start_time": "2021-09-26T12:42:45.964Z"
   },
   {
    "duration": 10615,
    "start_time": "2021-09-26T12:58:00.080Z"
   },
   {
    "duration": 8509,
    "start_time": "2021-09-26T12:58:54.975Z"
   },
   {
    "duration": 1360,
    "start_time": "2021-09-26T13:01:46.850Z"
   },
   {
    "duration": 7726,
    "start_time": "2021-09-26T13:02:09.995Z"
   },
   {
    "duration": 24,
    "start_time": "2021-09-26T13:02:41.364Z"
   },
   {
    "duration": 9404,
    "start_time": "2021-09-26T13:03:13.738Z"
   },
   {
    "duration": 27,
    "start_time": "2021-09-26T13:04:44.790Z"
   },
   {
    "duration": 7403,
    "start_time": "2021-09-26T13:04:49.230Z"
   },
   {
    "duration": 7466,
    "start_time": "2021-09-26T13:06:07.071Z"
   },
   {
    "duration": 21988,
    "start_time": "2021-09-26T13:07:01.324Z"
   },
   {
    "duration": 9416,
    "start_time": "2021-09-26T13:07:52.030Z"
   },
   {
    "duration": 7326,
    "start_time": "2021-09-26T13:08:28.755Z"
   },
   {
    "duration": 366,
    "start_time": "2021-09-26T13:10:16.264Z"
   },
   {
    "duration": 475,
    "start_time": "2021-09-26T13:10:33.551Z"
   },
   {
    "duration": 420,
    "start_time": "2021-09-26T13:11:00.912Z"
   },
   {
    "duration": 419,
    "start_time": "2021-09-26T13:11:09.515Z"
   },
   {
    "duration": 113,
    "start_time": "2021-09-26T13:11:14.831Z"
   },
   {
    "duration": 8,
    "start_time": "2021-09-26T13:11:19.207Z"
   },
   {
    "duration": 12,
    "start_time": "2021-09-26T13:11:20.804Z"
   },
   {
    "duration": 7,
    "start_time": "2021-09-26T13:11:22.652Z"
   },
   {
    "duration": 6,
    "start_time": "2021-09-26T13:11:25.379Z"
   },
   {
    "duration": 357,
    "start_time": "2021-09-26T13:11:26.933Z"
   },
   {
    "duration": 14,
    "start_time": "2021-09-26T13:12:30.331Z"
   },
   {
    "duration": 8,
    "start_time": "2021-09-26T13:12:35.625Z"
   },
   {
    "duration": 7,
    "start_time": "2021-09-26T13:12:39.848Z"
   },
   {
    "duration": 9,
    "start_time": "2021-09-26T13:12:42.728Z"
   },
   {
    "duration": 7,
    "start_time": "2021-09-26T13:12:45.617Z"
   },
   {
    "duration": 5,
    "start_time": "2021-09-26T13:13:03.920Z"
   },
   {
    "duration": 9,
    "start_time": "2021-09-26T13:13:13.448Z"
   },
   {
    "duration": 8482,
    "start_time": "2021-09-26T13:13:20.120Z"
   },
   {
    "duration": 123,
    "start_time": "2021-09-26T13:14:05.438Z"
   },
   {
    "duration": 5,
    "start_time": "2021-09-26T13:14:11.910Z"
   },
   {
    "duration": 12,
    "start_time": "2021-09-26T13:14:13.919Z"
   },
   {
    "duration": 7,
    "start_time": "2021-09-26T13:14:16.527Z"
   },
   {
    "duration": 2670,
    "start_time": "2021-09-26T13:14:26.172Z"
   },
   {
    "duration": 22,
    "start_time": "2021-09-26T13:14:46.748Z"
   },
   {
    "duration": 9343,
    "start_time": "2021-09-26T13:14:49.592Z"
   },
   {
    "duration": 8969,
    "start_time": "2021-09-26T13:17:28.258Z"
   },
   {
    "duration": 27346,
    "start_time": "2021-09-26T13:17:40.495Z"
   },
   {
    "duration": 122,
    "start_time": "2021-09-26T13:18:50.662Z"
   },
   {
    "duration": 7,
    "start_time": "2021-09-26T13:18:55.935Z"
   },
   {
    "duration": 12,
    "start_time": "2021-09-26T13:18:57.941Z"
   },
   {
    "duration": 6,
    "start_time": "2021-09-26T13:18:59.590Z"
   },
   {
    "duration": 7,
    "start_time": "2021-09-26T13:19:02.045Z"
   },
   {
    "duration": 407,
    "start_time": "2021-09-26T13:19:03.946Z"
   },
   {
    "duration": 16,
    "start_time": "2021-09-26T13:19:08.568Z"
   },
   {
    "duration": 7,
    "start_time": "2021-09-26T13:19:11.314Z"
   },
   {
    "duration": 8,
    "start_time": "2021-09-26T13:19:13.270Z"
   },
   {
    "duration": 8,
    "start_time": "2021-09-26T13:19:18.207Z"
   },
   {
    "duration": 6,
    "start_time": "2021-09-26T13:19:20.331Z"
   },
   {
    "duration": 19,
    "start_time": "2021-09-26T13:19:23.228Z"
   },
   {
    "duration": 27067,
    "start_time": "2021-09-26T13:19:31.483Z"
   },
   {
    "duration": 27557,
    "start_time": "2021-09-26T13:29:43.167Z"
   },
   {
    "duration": 27489,
    "start_time": "2021-09-26T13:30:27.185Z"
   },
   {
    "duration": 397,
    "start_time": "2021-09-26T13:31:18.693Z"
   },
   {
    "duration": 28,
    "start_time": "2021-09-26T13:31:34.779Z"
   },
   {
    "duration": 34,
    "start_time": "2021-09-26T13:32:50.926Z"
   },
   {
    "duration": 37,
    "start_time": "2021-09-26T13:33:26.941Z"
   },
   {
    "duration": 38,
    "start_time": "2021-09-26T13:33:53.024Z"
   },
   {
    "duration": 27285,
    "start_time": "2021-09-26T13:36:41.774Z"
   },
   {
    "duration": 6693,
    "start_time": "2021-09-26T13:37:39.518Z"
   },
   {
    "duration": 6858,
    "start_time": "2021-09-26T13:38:53.677Z"
   },
   {
    "duration": 6651,
    "start_time": "2021-09-26T13:39:34.508Z"
   },
   {
    "duration": 7044,
    "start_time": "2021-09-26T13:39:53.027Z"
   },
   {
    "duration": 6614,
    "start_time": "2021-09-26T13:40:58.271Z"
   },
   {
    "duration": 6821,
    "start_time": "2021-09-26T13:41:25.617Z"
   },
   {
    "duration": 79,
    "start_time": "2021-09-26T13:43:47.404Z"
   },
   {
    "duration": 35,
    "start_time": "2021-09-26T13:44:07.267Z"
   },
   {
    "duration": 36,
    "start_time": "2021-09-26T13:44:14.128Z"
   },
   {
    "duration": 14,
    "start_time": "2021-09-26T13:44:26.165Z"
   },
   {
    "duration": 2944,
    "start_time": "2021-09-26T13:44:32.146Z"
   },
   {
    "duration": 114,
    "start_time": "2021-09-26T13:44:54.121Z"
   },
   {
    "duration": 5,
    "start_time": "2021-09-26T13:45:01.427Z"
   },
   {
    "duration": 12,
    "start_time": "2021-09-26T13:45:02.971Z"
   },
   {
    "duration": 6,
    "start_time": "2021-09-26T13:45:05.036Z"
   },
   {
    "duration": 6,
    "start_time": "2021-09-26T13:45:07.811Z"
   },
   {
    "duration": 13,
    "start_time": "2021-09-26T13:45:09.279Z"
   },
   {
    "duration": 8,
    "start_time": "2021-09-26T13:45:11.019Z"
   },
   {
    "duration": 7,
    "start_time": "2021-09-26T13:45:12.815Z"
   },
   {
    "duration": 8,
    "start_time": "2021-09-26T13:45:14.569Z"
   },
   {
    "duration": 7,
    "start_time": "2021-09-26T13:45:15.956Z"
   },
   {
    "duration": 19,
    "start_time": "2021-09-26T13:45:18.001Z"
   },
   {
    "duration": 6644,
    "start_time": "2021-09-26T13:45:20.281Z"
   },
   {
    "duration": 26912,
    "start_time": "2021-09-26T13:47:19.666Z"
   },
   {
    "duration": 6618,
    "start_time": "2021-09-26T13:48:26.829Z"
   },
   {
    "duration": 6665,
    "start_time": "2021-09-26T13:49:11.219Z"
   },
   {
    "duration": 365,
    "start_time": "2021-09-26T13:51:32.197Z"
   },
   {
    "duration": 27099,
    "start_time": "2021-09-26T13:54:26.125Z"
   },
   {
    "duration": 6387,
    "start_time": "2021-09-26T13:58:41.456Z"
   },
   {
    "duration": 6929,
    "start_time": "2021-09-26T14:00:09.906Z"
   },
   {
    "duration": 6600,
    "start_time": "2021-09-26T14:01:52.417Z"
   },
   {
    "duration": 6739,
    "start_time": "2021-09-26T14:03:26.744Z"
   },
   {
    "duration": 6598,
    "start_time": "2021-09-26T14:03:58.936Z"
   },
   {
    "duration": 6566,
    "start_time": "2021-09-26T14:04:24.518Z"
   },
   {
    "duration": 118,
    "start_time": "2021-09-26T14:04:55.093Z"
   },
   {
    "duration": 8,
    "start_time": "2021-09-26T14:04:59.484Z"
   },
   {
    "duration": 12,
    "start_time": "2021-09-26T14:05:01.188Z"
   },
   {
    "duration": 7,
    "start_time": "2021-09-26T14:05:02.753Z"
   },
   {
    "duration": 6,
    "start_time": "2021-09-26T14:05:05.177Z"
   },
   {
    "duration": 15,
    "start_time": "2021-09-26T14:05:07.183Z"
   },
   {
    "duration": 9,
    "start_time": "2021-09-26T14:05:08.714Z"
   },
   {
    "duration": 8,
    "start_time": "2021-09-26T14:05:10.342Z"
   },
   {
    "duration": 8,
    "start_time": "2021-09-26T14:05:12.448Z"
   },
   {
    "duration": 7,
    "start_time": "2021-09-26T14:05:14.563Z"
   },
   {
    "duration": 20,
    "start_time": "2021-09-26T14:05:16.060Z"
   },
   {
    "duration": 6653,
    "start_time": "2021-09-26T14:05:18.536Z"
   },
   {
    "duration": 5392,
    "start_time": "2021-09-26T14:06:00.479Z"
   },
   {
    "duration": 5604,
    "start_time": "2021-09-26T14:06:44.792Z"
   },
   {
    "duration": 119,
    "start_time": "2021-09-26T14:07:52.034Z"
   },
   {
    "duration": 6,
    "start_time": "2021-09-26T14:07:57.949Z"
   },
   {
    "duration": 12,
    "start_time": "2021-09-26T14:07:59.747Z"
   },
   {
    "duration": 6,
    "start_time": "2021-09-26T14:08:01.836Z"
   },
   {
    "duration": 6,
    "start_time": "2021-09-26T14:08:03.855Z"
   },
   {
    "duration": 14,
    "start_time": "2021-09-26T14:08:05.985Z"
   },
   {
    "duration": 8,
    "start_time": "2021-09-26T14:08:07.785Z"
   },
   {
    "duration": 8,
    "start_time": "2021-09-26T14:08:10.128Z"
   },
   {
    "duration": 9,
    "start_time": "2021-09-26T14:08:13.683Z"
   },
   {
    "duration": 6,
    "start_time": "2021-09-26T14:08:15.583Z"
   },
   {
    "duration": 21,
    "start_time": "2021-09-26T14:08:18.429Z"
   },
   {
    "duration": 5738,
    "start_time": "2021-09-26T14:08:20.929Z"
   },
   {
    "duration": 5576,
    "start_time": "2021-09-26T14:09:44.853Z"
   },
   {
    "duration": 951,
    "start_time": "2021-09-26T14:10:57.405Z"
   },
   {
    "duration": 5599,
    "start_time": "2021-09-26T14:11:08.828Z"
   },
   {
    "duration": 6677,
    "start_time": "2021-09-26T14:11:38.946Z"
   },
   {
    "duration": 940,
    "start_time": "2021-09-26T14:11:56.587Z"
   },
   {
    "duration": 14276,
    "start_time": "2021-09-26T14:12:32.891Z"
   },
   {
    "duration": 27649,
    "start_time": "2021-09-26T14:14:13.990Z"
   },
   {
    "duration": 5654,
    "start_time": "2021-09-26T14:15:40.752Z"
   },
   {
    "duration": 14033,
    "start_time": "2021-09-26T14:16:05.975Z"
   },
   {
    "duration": 14523,
    "start_time": "2021-09-26T14:16:47.795Z"
   },
   {
    "duration": 13850,
    "start_time": "2021-09-26T14:21:53.185Z"
   },
   {
    "duration": 13924,
    "start_time": "2021-09-26T14:22:23.294Z"
   },
   {
    "duration": 21,
    "start_time": "2021-09-26T14:23:01.124Z"
   },
   {
    "duration": 18,
    "start_time": "2021-09-26T14:25:47.774Z"
   },
   {
    "duration": 34,
    "start_time": "2021-09-26T14:26:00.652Z"
   },
   {
    "duration": 17,
    "start_time": "2021-09-26T14:28:51.166Z"
   },
   {
    "duration": 8,
    "start_time": "2021-09-26T14:28:54.056Z"
   },
   {
    "duration": 7,
    "start_time": "2021-09-26T14:28:56.921Z"
   },
   {
    "duration": 9,
    "start_time": "2021-09-26T14:29:10.890Z"
   },
   {
    "duration": 6,
    "start_time": "2021-09-26T14:29:13.760Z"
   },
   {
    "duration": 6,
    "start_time": "2021-09-26T14:29:16.820Z"
   },
   {
    "duration": 25,
    "start_time": "2021-09-26T14:29:18.649Z"
   },
   {
    "duration": 19,
    "start_time": "2021-09-26T14:29:47.422Z"
   },
   {
    "duration": 20,
    "start_time": "2021-09-26T14:30:23.760Z"
   },
   {
    "duration": 123,
    "start_time": "2021-09-26T14:30:40.647Z"
   },
   {
    "duration": 6,
    "start_time": "2021-09-26T14:30:47.246Z"
   },
   {
    "duration": 12,
    "start_time": "2021-09-26T14:30:49.053Z"
   },
   {
    "duration": 7,
    "start_time": "2021-09-26T14:30:51.394Z"
   },
   {
    "duration": 6,
    "start_time": "2021-09-26T14:30:54.261Z"
   },
   {
    "duration": 13,
    "start_time": "2021-09-26T14:30:56.436Z"
   },
   {
    "duration": 9,
    "start_time": "2021-09-26T14:30:58.598Z"
   },
   {
    "duration": 8,
    "start_time": "2021-09-26T14:31:00.566Z"
   },
   {
    "duration": 7,
    "start_time": "2021-09-26T14:31:02.417Z"
   },
   {
    "duration": 6,
    "start_time": "2021-09-26T14:31:04.493Z"
   },
   {
    "duration": 21,
    "start_time": "2021-09-26T14:31:06.650Z"
   },
   {
    "duration": 14190,
    "start_time": "2021-09-26T14:31:08.918Z"
   },
   {
    "duration": 20,
    "start_time": "2021-09-26T14:31:28.300Z"
   },
   {
    "duration": 19,
    "start_time": "2021-09-26T14:31:29.945Z"
   },
   {
    "duration": 8,
    "start_time": "2021-09-26T14:31:32.313Z"
   },
   {
    "duration": 6,
    "start_time": "2021-09-26T14:31:34.133Z"
   },
   {
    "duration": 6,
    "start_time": "2021-09-26T14:31:41.162Z"
   },
   {
    "duration": 10,
    "start_time": "2021-09-26T14:31:44.160Z"
   },
   {
    "duration": 24,
    "start_time": "2021-09-26T14:31:46.235Z"
   },
   {
    "duration": 39,
    "start_time": "2021-09-26T14:31:54.151Z"
   },
   {
    "duration": 6,
    "start_time": "2021-09-26T14:32:58.774Z"
   },
   {
    "duration": 8,
    "start_time": "2021-09-26T14:33:43.070Z"
   },
   {
    "duration": 8,
    "start_time": "2021-09-26T14:34:14.857Z"
   },
   {
    "duration": 17,
    "start_time": "2021-09-26T14:35:06.266Z"
   },
   {
    "duration": 21,
    "start_time": "2021-09-26T14:35:24.106Z"
   },
   {
    "duration": 372,
    "start_time": "2021-09-26T14:35:53.462Z"
   },
   {
    "duration": 8,
    "start_time": "2021-09-26T14:36:06.616Z"
   },
   {
    "duration": 367,
    "start_time": "2021-09-26T14:36:12.862Z"
   },
   {
    "duration": 9,
    "start_time": "2021-09-26T14:36:16.762Z"
   },
   {
    "duration": 13,
    "start_time": "2021-09-26T14:37:31.979Z"
   },
   {
    "duration": 10,
    "start_time": "2021-09-26T14:38:21.465Z"
   },
   {
    "duration": 380,
    "start_time": "2021-09-26T14:39:54.967Z"
   },
   {
    "duration": 8,
    "start_time": "2021-09-26T14:41:10.919Z"
   },
   {
    "duration": 405,
    "start_time": "2021-09-26T14:42:06.250Z"
   },
   {
    "duration": 23,
    "start_time": "2021-09-26T14:42:10.911Z"
   },
   {
    "duration": 21,
    "start_time": "2021-09-26T14:42:34.957Z"
   },
   {
    "duration": 22,
    "start_time": "2021-09-26T14:42:40.321Z"
   },
   {
    "duration": 19,
    "start_time": "2021-09-26T14:42:41.781Z"
   },
   {
    "duration": 11,
    "start_time": "2021-09-26T14:45:41.538Z"
   },
   {
    "duration": 623,
    "start_time": "2021-09-26T14:48:26.609Z"
   },
   {
    "duration": 21,
    "start_time": "2021-09-26T14:48:34.011Z"
   },
   {
    "duration": 28,
    "start_time": "2021-09-26T14:49:11.336Z"
   },
   {
    "duration": 21,
    "start_time": "2021-09-26T14:49:13.663Z"
   },
   {
    "duration": 635,
    "start_time": "2021-09-26T14:53:04.036Z"
   },
   {
    "duration": 21,
    "start_time": "2021-09-26T14:53:07.996Z"
   },
   {
    "duration": 34,
    "start_time": "2021-09-26T14:53:38.591Z"
   },
   {
    "duration": 120,
    "start_time": "2021-09-26T14:53:59.706Z"
   },
   {
    "duration": 12,
    "start_time": "2021-09-26T14:55:30.954Z"
   },
   {
    "duration": 10,
    "start_time": "2021-09-26T14:55:45.343Z"
   },
   {
    "duration": 7,
    "start_time": "2021-09-26T14:56:03.907Z"
   },
   {
    "duration": 10,
    "start_time": "2021-09-26T14:56:07.657Z"
   },
   {
    "duration": 7,
    "start_time": "2021-09-26T14:56:20.867Z"
   },
   {
    "duration": 7,
    "start_time": "2021-09-26T14:56:37.051Z"
   },
   {
    "duration": 4,
    "start_time": "2021-09-26T14:56:42.696Z"
   },
   {
    "duration": 12,
    "start_time": "2021-09-26T14:56:48.289Z"
   },
   {
    "duration": 6,
    "start_time": "2021-09-26T14:57:27.219Z"
   },
   {
    "duration": 8,
    "start_time": "2021-09-26T14:57:46.455Z"
   },
   {
    "duration": 10,
    "start_time": "2021-09-26T14:57:53.147Z"
   },
   {
    "duration": 5,
    "start_time": "2021-09-26T14:57:58.351Z"
   },
   {
    "duration": 12,
    "start_time": "2021-09-26T14:58:28.881Z"
   },
   {
    "duration": 7,
    "start_time": "2021-09-26T15:01:08.623Z"
   },
   {
    "duration": 14,
    "start_time": "2021-09-26T15:01:50.847Z"
   },
   {
    "duration": 8,
    "start_time": "2021-09-26T15:02:04.208Z"
   },
   {
    "duration": 7,
    "start_time": "2021-09-26T15:02:17.601Z"
   },
   {
    "duration": 7,
    "start_time": "2021-09-26T15:02:32.613Z"
   },
   {
    "duration": 8,
    "start_time": "2021-09-26T15:02:38.802Z"
   },
   {
    "duration": 7,
    "start_time": "2021-09-26T15:02:50.244Z"
   },
   {
    "duration": 20,
    "start_time": "2021-09-26T15:03:06.637Z"
   },
   {
    "duration": 12,
    "start_time": "2021-09-26T15:03:18.898Z"
   },
   {
    "duration": 13,
    "start_time": "2021-09-26T15:03:54.153Z"
   },
   {
    "duration": 13,
    "start_time": "2021-09-26T15:03:59.241Z"
   },
   {
    "duration": 686,
    "start_time": "2021-09-26T15:04:14.605Z"
   },
   {
    "duration": 16,
    "start_time": "2021-09-26T15:04:28.513Z"
   },
   {
    "duration": 12,
    "start_time": "2021-09-26T15:05:18.298Z"
   },
   {
    "duration": 10,
    "start_time": "2021-09-26T15:06:13.002Z"
   },
   {
    "duration": 10,
    "start_time": "2021-09-26T15:06:20.699Z"
   },
   {
    "duration": 11,
    "start_time": "2021-09-26T15:06:31.047Z"
   },
   {
    "duration": 10,
    "start_time": "2021-09-26T15:06:36.009Z"
   },
   {
    "duration": 13,
    "start_time": "2021-09-26T15:06:50.316Z"
   },
   {
    "duration": 15,
    "start_time": "2021-09-26T15:07:09.562Z"
   },
   {
    "duration": 18,
    "start_time": "2021-09-26T15:07:34.970Z"
   },
   {
    "duration": 15,
    "start_time": "2021-09-26T15:07:48.451Z"
   },
   {
    "duration": 19,
    "start_time": "2021-09-26T15:08:12.138Z"
   },
   {
    "duration": 7,
    "start_time": "2021-09-26T15:08:20.867Z"
   },
   {
    "duration": 11,
    "start_time": "2021-09-26T15:08:44.885Z"
   },
   {
    "duration": 5,
    "start_time": "2021-09-26T15:08:50.815Z"
   },
   {
    "duration": 11323,
    "start_time": "2021-09-26T15:13:40.495Z"
   },
   {
    "duration": 10472,
    "start_time": "2021-09-26T15:14:01.613Z"
   },
   {
    "duration": 392,
    "start_time": "2021-09-26T15:14:49.298Z"
   },
   {
    "duration": 14251,
    "start_time": "2021-09-26T15:14:58.757Z"
   },
   {
    "duration": 13,
    "start_time": "2021-09-26T15:15:19.255Z"
   },
   {
    "duration": 22,
    "start_time": "2021-09-26T15:15:24.992Z"
   },
   {
    "duration": 17,
    "start_time": "2021-09-26T15:15:32.703Z"
   },
   {
    "duration": 22,
    "start_time": "2021-09-26T15:15:34.302Z"
   },
   {
    "duration": 22,
    "start_time": "2021-09-26T15:15:39.564Z"
   },
   {
    "duration": 13,
    "start_time": "2021-09-26T15:18:11.083Z"
   },
   {
    "duration": 120,
    "start_time": "2021-09-26T15:18:22.672Z"
   },
   {
    "duration": 8,
    "start_time": "2021-09-26T15:18:30.786Z"
   },
   {
    "duration": 12,
    "start_time": "2021-09-26T15:18:32.543Z"
   },
   {
    "duration": 10,
    "start_time": "2021-09-26T15:18:34.792Z"
   },
   {
    "duration": 6,
    "start_time": "2021-09-26T15:18:37.377Z"
   },
   {
    "duration": 8,
    "start_time": "2021-09-26T15:18:39.677Z"
   },
   {
    "duration": 8,
    "start_time": "2021-09-26T15:18:41.690Z"
   },
   {
    "duration": 8,
    "start_time": "2021-09-26T15:18:43.379Z"
   },
   {
    "duration": 8,
    "start_time": "2021-09-26T15:18:47.128Z"
   },
   {
    "duration": 14,
    "start_time": "2021-09-26T15:18:49.500Z"
   },
   {
    "duration": 13914,
    "start_time": "2021-09-26T15:18:51.272Z"
   },
   {
    "duration": 20,
    "start_time": "2021-09-26T15:19:09.663Z"
   },
   {
    "duration": 23,
    "start_time": "2021-09-26T15:19:11.606Z"
   },
   {
    "duration": 8,
    "start_time": "2021-09-26T15:19:13.477Z"
   },
   {
    "duration": 6,
    "start_time": "2021-09-26T15:19:16.161Z"
   },
   {
    "duration": 6,
    "start_time": "2021-09-26T15:19:18.106Z"
   },
   {
    "duration": 9,
    "start_time": "2021-09-26T15:19:21.133Z"
   },
   {
    "duration": 14,
    "start_time": "2021-09-26T15:19:26.919Z"
   },
   {
    "duration": 22,
    "start_time": "2021-09-26T15:19:38.861Z"
   },
   {
    "duration": 608,
    "start_time": "2021-09-26T15:19:54.435Z"
   },
   {
    "duration": 21,
    "start_time": "2021-09-26T15:19:57.891Z"
   },
   {
    "duration": 36,
    "start_time": "2021-09-26T15:20:02.763Z"
   },
   {
    "duration": 380,
    "start_time": "2021-09-26T15:27:24.380Z"
   },
   {
    "duration": 6,
    "start_time": "2021-09-26T15:27:42.661Z"
   },
   {
    "duration": 8,
    "start_time": "2021-09-26T15:32:29.512Z"
   },
   {
    "duration": 17,
    "start_time": "2021-09-26T15:33:11.672Z"
   },
   {
    "duration": 784,
    "start_time": "2021-09-26T15:39:12.426Z"
   },
   {
    "duration": 837,
    "start_time": "2021-09-26T15:39:23.408Z"
   },
   {
    "duration": 788,
    "start_time": "2021-09-26T15:39:39.213Z"
   },
   {
    "duration": 779,
    "start_time": "2021-09-26T15:40:02.517Z"
   },
   {
    "duration": 911,
    "start_time": "2021-09-26T15:40:11.529Z"
   },
   {
    "duration": 854,
    "start_time": "2021-09-26T15:41:10.394Z"
   },
   {
    "duration": 8,
    "start_time": "2021-09-26T15:45:29.180Z"
   },
   {
    "duration": 23,
    "start_time": "2021-09-26T15:45:39.160Z"
   },
   {
    "duration": 6,
    "start_time": "2021-09-26T15:46:09.238Z"
   },
   {
    "duration": 112,
    "start_time": "2021-09-26T16:13:55.515Z"
   },
   {
    "duration": 6,
    "start_time": "2021-09-26T16:14:00.018Z"
   },
   {
    "duration": 19,
    "start_time": "2021-09-26T16:14:01.554Z"
   },
   {
    "duration": 12,
    "start_time": "2021-09-26T16:14:02.945Z"
   },
   {
    "duration": 8,
    "start_time": "2021-09-26T16:14:05.352Z"
   },
   {
    "duration": 11,
    "start_time": "2021-09-26T16:14:06.797Z"
   },
   {
    "duration": 9,
    "start_time": "2021-09-26T16:14:09.169Z"
   },
   {
    "duration": 8,
    "start_time": "2021-09-26T16:14:12.119Z"
   },
   {
    "duration": 7,
    "start_time": "2021-09-26T16:14:13.598Z"
   },
   {
    "duration": 14,
    "start_time": "2021-09-26T16:14:15.161Z"
   },
   {
    "duration": 13983,
    "start_time": "2021-09-26T16:14:16.705Z"
   },
   {
    "duration": 20,
    "start_time": "2021-09-26T16:14:34.674Z"
   },
   {
    "duration": 25,
    "start_time": "2021-09-26T16:14:38.333Z"
   },
   {
    "duration": 8,
    "start_time": "2021-09-26T16:14:42.449Z"
   },
   {
    "duration": 6,
    "start_time": "2021-09-26T16:14:44.703Z"
   },
   {
    "duration": 7,
    "start_time": "2021-09-26T16:14:46.177Z"
   },
   {
    "duration": 9,
    "start_time": "2021-09-26T16:14:48.310Z"
   },
   {
    "duration": 15,
    "start_time": "2021-09-26T16:14:50.380Z"
   },
   {
    "duration": 23,
    "start_time": "2021-09-26T16:14:59.601Z"
   },
   {
    "duration": 616,
    "start_time": "2021-09-26T16:15:05.245Z"
   },
   {
    "duration": 21,
    "start_time": "2021-09-26T16:15:08.634Z"
   },
   {
    "duration": 34,
    "start_time": "2021-09-26T16:15:12.033Z"
   },
   {
    "duration": 5,
    "start_time": "2021-09-26T16:15:14.962Z"
   },
   {
    "duration": 17,
    "start_time": "2021-09-26T16:15:16.633Z"
   },
   {
    "duration": 786,
    "start_time": "2021-09-26T16:15:18.340Z"
   },
   {
    "duration": 7,
    "start_time": "2021-09-26T16:15:21.078Z"
   },
   {
    "duration": 267,
    "start_time": "2021-09-26T16:20:36.917Z"
   },
   {
    "duration": 521,
    "start_time": "2021-09-26T16:20:56.360Z"
   },
   {
    "duration": 616,
    "start_time": "2021-09-26T16:21:15.625Z"
   },
   {
    "duration": 308,
    "start_time": "2021-09-26T16:23:59.706Z"
   },
   {
    "duration": 570,
    "start_time": "2021-09-26T16:24:19.530Z"
   },
   {
    "duration": 981,
    "start_time": "2021-09-26T16:24:48.016Z"
   },
   {
    "duration": 599,
    "start_time": "2021-09-26T16:25:45.920Z"
   },
   {
    "duration": 304,
    "start_time": "2021-09-26T16:27:18.405Z"
   },
   {
    "duration": 390,
    "start_time": "2021-09-26T16:27:42.011Z"
   },
   {
    "duration": 680,
    "start_time": "2021-09-26T16:27:48.504Z"
   },
   {
    "duration": 424,
    "start_time": "2021-09-26T16:28:10.767Z"
   },
   {
    "duration": 410,
    "start_time": "2021-09-26T16:31:05.701Z"
   },
   {
    "duration": 409,
    "start_time": "2021-09-26T16:31:24.183Z"
   },
   {
    "duration": 409,
    "start_time": "2021-09-26T16:31:45.384Z"
   },
   {
    "duration": 414,
    "start_time": "2021-09-26T16:31:53.155Z"
   },
   {
    "duration": 390,
    "start_time": "2021-09-26T16:34:59.893Z"
   },
   {
    "duration": 1071,
    "start_time": "2021-09-26T16:40:31.735Z"
   },
   {
    "duration": 8,
    "start_time": "2021-09-26T16:40:40.162Z"
   },
   {
    "duration": 12,
    "start_time": "2021-09-26T16:40:41.916Z"
   },
   {
    "duration": 13,
    "start_time": "2021-09-26T16:40:43.722Z"
   },
   {
    "duration": 8,
    "start_time": "2021-09-26T16:40:45.856Z"
   },
   {
    "duration": 12,
    "start_time": "2021-09-26T16:40:48.250Z"
   },
   {
    "duration": 7,
    "start_time": "2021-09-26T16:40:50.309Z"
   },
   {
    "duration": 8,
    "start_time": "2021-09-26T16:40:52.406Z"
   },
   {
    "duration": 9,
    "start_time": "2021-09-26T16:40:54.294Z"
   },
   {
    "duration": 16,
    "start_time": "2021-09-26T16:40:57.975Z"
   },
   {
    "duration": 13927,
    "start_time": "2021-09-26T16:40:59.354Z"
   },
   {
    "duration": 20,
    "start_time": "2021-09-26T16:41:17.006Z"
   },
   {
    "duration": 24,
    "start_time": "2021-09-26T16:41:19.401Z"
   },
   {
    "duration": 7,
    "start_time": "2021-09-26T16:41:20.756Z"
   },
   {
    "duration": 6,
    "start_time": "2021-09-26T16:41:22.228Z"
   },
   {
    "duration": 7,
    "start_time": "2021-09-26T16:41:23.700Z"
   },
   {
    "duration": 10,
    "start_time": "2021-09-26T16:41:26.095Z"
   },
   {
    "duration": 15,
    "start_time": "2021-09-26T16:41:29.170Z"
   },
   {
    "duration": 26,
    "start_time": "2021-09-26T16:41:31.139Z"
   },
   {
    "duration": 609,
    "start_time": "2021-09-26T16:41:36.099Z"
   },
   {
    "duration": 21,
    "start_time": "2021-09-26T16:41:39.253Z"
   },
   {
    "duration": 35,
    "start_time": "2021-09-26T16:41:43.666Z"
   },
   {
    "duration": 6,
    "start_time": "2021-09-26T16:41:46.131Z"
   },
   {
    "duration": 23,
    "start_time": "2021-09-26T16:41:48.323Z"
   },
   {
    "duration": 898,
    "start_time": "2021-09-26T16:41:49.966Z"
   },
   {
    "duration": 7,
    "start_time": "2021-09-26T16:41:53.225Z"
   },
   {
    "duration": 560,
    "start_time": "2021-09-26T16:41:55.395Z"
   },
   {
    "duration": 416,
    "start_time": "2021-09-26T16:41:58.876Z"
   },
   {
    "duration": 411,
    "start_time": "2021-09-26T16:42:01.848Z"
   },
   {
    "duration": 2978,
    "start_time": "2021-09-26T16:42:04.554Z"
   },
   {
    "duration": 135,
    "start_time": "2021-09-26T16:42:44.587Z"
   },
   {
    "duration": 3095,
    "start_time": "2021-09-26T16:42:54.799Z"
   },
   {
    "duration": 9,
    "start_time": "2021-09-26T16:45:15.238Z"
   },
   {
    "duration": 3295,
    "start_time": "2021-09-26T16:45:30.452Z"
   },
   {
    "duration": 3126,
    "start_time": "2021-09-26T16:45:51.820Z"
   },
   {
    "duration": 525,
    "start_time": "2021-09-26T16:46:07.961Z"
   },
   {
    "duration": 1641,
    "start_time": "2021-09-27T05:38:16.083Z"
   },
   {
    "duration": 16,
    "start_time": "2021-09-27T05:38:25.853Z"
   },
   {
    "duration": 12,
    "start_time": "2021-09-27T05:38:49.209Z"
   },
   {
    "duration": 12,
    "start_time": "2021-09-27T05:38:51.077Z"
   },
   {
    "duration": 6,
    "start_time": "2021-09-27T05:38:53.840Z"
   },
   {
    "duration": 8,
    "start_time": "2021-09-27T05:38:55.639Z"
   },
   {
    "duration": 7,
    "start_time": "2021-09-27T05:38:58.140Z"
   },
   {
    "duration": 8,
    "start_time": "2021-09-27T05:39:00.312Z"
   },
   {
    "duration": 8,
    "start_time": "2021-09-27T05:39:02.575Z"
   },
   {
    "duration": 18,
    "start_time": "2021-09-27T05:39:04.485Z"
   },
   {
    "duration": 13834,
    "start_time": "2021-09-27T05:39:08.219Z"
   },
   {
    "duration": 19,
    "start_time": "2021-09-27T05:39:26.640Z"
   },
   {
    "duration": 21,
    "start_time": "2021-09-27T05:39:28.519Z"
   },
   {
    "duration": 8,
    "start_time": "2021-09-27T05:39:30.461Z"
   },
   {
    "duration": 5,
    "start_time": "2021-09-27T05:39:32.585Z"
   },
   {
    "duration": 6,
    "start_time": "2021-09-27T05:39:34.343Z"
   },
   {
    "duration": 9,
    "start_time": "2021-09-27T05:39:36.849Z"
   },
   {
    "duration": 15,
    "start_time": "2021-09-27T05:39:38.802Z"
   },
   {
    "duration": 23,
    "start_time": "2021-09-27T05:39:40.676Z"
   },
   {
    "duration": 786,
    "start_time": "2021-09-27T05:39:44.321Z"
   },
   {
    "duration": 23,
    "start_time": "2021-09-27T05:39:48.199Z"
   },
   {
    "duration": 35,
    "start_time": "2021-09-27T05:39:52.399Z"
   },
   {
    "duration": 6,
    "start_time": "2021-09-27T05:39:54.779Z"
   },
   {
    "duration": 18,
    "start_time": "2021-09-27T05:39:56.519Z"
   },
   {
    "duration": 798,
    "start_time": "2021-09-27T05:39:58.264Z"
   },
   {
    "duration": 7,
    "start_time": "2021-09-27T05:40:02.104Z"
   },
   {
    "duration": 523,
    "start_time": "2021-09-27T05:40:04.774Z"
   },
   {
    "duration": 428,
    "start_time": "2021-09-27T05:40:08.398Z"
   },
   {
    "duration": 410,
    "start_time": "2021-09-27T05:40:12.135Z"
   },
   {
    "duration": 529,
    "start_time": "2021-09-27T05:40:16.571Z"
   },
   {
    "duration": 518,
    "start_time": "2021-09-27T05:43:05.159Z"
   },
   {
    "duration": 594,
    "start_time": "2021-09-27T05:43:14.880Z"
   },
   {
    "duration": 8,
    "start_time": "2021-09-27T05:45:26.647Z"
   },
   {
    "duration": 8,
    "start_time": "2021-09-27T05:45:48.878Z"
   },
   {
    "duration": 143,
    "start_time": "2021-09-27T05:48:09.903Z"
   },
   {
    "duration": 7,
    "start_time": "2021-09-27T05:48:14.708Z"
   },
   {
    "duration": 13,
    "start_time": "2021-09-27T05:48:16.418Z"
   },
   {
    "duration": 10,
    "start_time": "2021-09-27T05:48:18.094Z"
   },
   {
    "duration": 6,
    "start_time": "2021-09-27T05:48:20.184Z"
   },
   {
    "duration": 8,
    "start_time": "2021-09-27T05:48:21.663Z"
   },
   {
    "duration": 9,
    "start_time": "2021-09-27T05:48:23.523Z"
   },
   {
    "duration": 8,
    "start_time": "2021-09-27T05:48:25.440Z"
   },
   {
    "duration": 6,
    "start_time": "2021-09-27T05:48:26.932Z"
   },
   {
    "duration": 15,
    "start_time": "2021-09-27T05:48:29.160Z"
   },
   {
    "duration": 14085,
    "start_time": "2021-09-27T05:48:30.538Z"
   },
   {
    "duration": 20,
    "start_time": "2021-09-27T05:48:50.012Z"
   },
   {
    "duration": 23,
    "start_time": "2021-09-27T05:48:51.573Z"
   },
   {
    "duration": 8,
    "start_time": "2021-09-27T05:48:53.512Z"
   },
   {
    "duration": 6,
    "start_time": "2021-09-27T05:48:56.860Z"
   },
   {
    "duration": 6,
    "start_time": "2021-09-27T05:48:58.262Z"
   },
   {
    "duration": 9,
    "start_time": "2021-09-27T05:49:00.353Z"
   },
   {
    "duration": 14,
    "start_time": "2021-09-27T05:49:01.846Z"
   },
   {
    "duration": 23,
    "start_time": "2021-09-27T05:49:03.631Z"
   },
   {
    "duration": 720,
    "start_time": "2021-09-27T05:49:06.175Z"
   },
   {
    "duration": 24,
    "start_time": "2021-09-27T05:49:10.031Z"
   },
   {
    "duration": 36,
    "start_time": "2021-09-27T05:49:13.361Z"
   },
   {
    "duration": 7,
    "start_time": "2021-09-27T05:49:15.714Z"
   },
   {
    "duration": 19,
    "start_time": "2021-09-27T05:49:17.333Z"
   },
   {
    "duration": 738,
    "start_time": "2021-09-27T05:49:18.801Z"
   },
   {
    "duration": 8,
    "start_time": "2021-09-27T05:49:22.540Z"
   },
   {
    "duration": 521,
    "start_time": "2021-09-27T05:49:25.103Z"
   },
   {
    "duration": 408,
    "start_time": "2021-09-27T05:49:28.046Z"
   },
   {
    "duration": 516,
    "start_time": "2021-09-27T05:49:30.582Z"
   },
   {
    "duration": 507,
    "start_time": "2021-09-27T05:49:33.349Z"
   },
   {
    "duration": 531,
    "start_time": "2021-09-27T05:49:35.925Z"
   },
   {
    "duration": 8,
    "start_time": "2021-09-27T05:49:50.247Z"
   },
   {
    "duration": 15,
    "start_time": "2021-09-27T05:55:03.423Z"
   },
   {
    "duration": 118,
    "start_time": "2021-09-27T06:02:34.839Z"
   },
   {
    "duration": 9,
    "start_time": "2021-09-27T06:02:39.134Z"
   },
   {
    "duration": 11,
    "start_time": "2021-09-27T06:02:41.015Z"
   },
   {
    "duration": 10,
    "start_time": "2021-09-27T06:02:42.811Z"
   },
   {
    "duration": 7,
    "start_time": "2021-09-27T06:02:44.555Z"
   },
   {
    "duration": 8,
    "start_time": "2021-09-27T06:02:46.427Z"
   },
   {
    "duration": 7,
    "start_time": "2021-09-27T06:02:48.167Z"
   },
   {
    "duration": 8,
    "start_time": "2021-09-27T06:02:49.937Z"
   },
   {
    "duration": 7,
    "start_time": "2021-09-27T06:02:52.023Z"
   },
   {
    "duration": 15,
    "start_time": "2021-09-27T06:02:53.663Z"
   },
   {
    "duration": 14392,
    "start_time": "2021-09-27T06:02:55.472Z"
   },
   {
    "duration": 22,
    "start_time": "2021-09-27T06:03:15.174Z"
   },
   {
    "duration": 24,
    "start_time": "2021-09-27T06:03:16.839Z"
   },
   {
    "duration": 8,
    "start_time": "2021-09-27T06:03:18.105Z"
   },
   {
    "duration": 7,
    "start_time": "2021-09-27T06:03:20.271Z"
   },
   {
    "duration": 8,
    "start_time": "2021-09-27T06:03:21.589Z"
   },
   {
    "duration": 9,
    "start_time": "2021-09-27T06:03:22.967Z"
   },
   {
    "duration": 16,
    "start_time": "2021-09-27T06:03:24.357Z"
   },
   {
    "duration": 23,
    "start_time": "2021-09-27T06:03:26.023Z"
   },
   {
    "duration": 620,
    "start_time": "2021-09-27T06:03:28.612Z"
   },
   {
    "duration": 21,
    "start_time": "2021-09-27T06:03:31.651Z"
   },
   {
    "duration": 35,
    "start_time": "2021-09-27T06:03:34.475Z"
   },
   {
    "duration": 6,
    "start_time": "2021-09-27T06:03:36.483Z"
   },
   {
    "duration": 18,
    "start_time": "2021-09-27T06:03:37.759Z"
   },
   {
    "duration": 829,
    "start_time": "2021-09-27T06:03:39.392Z"
   },
   {
    "duration": 7,
    "start_time": "2021-09-27T06:03:42.373Z"
   },
   {
    "duration": 649,
    "start_time": "2021-09-27T06:03:44.011Z"
   },
   {
    "duration": 404,
    "start_time": "2021-09-27T06:03:47.061Z"
   },
   {
    "duration": 395,
    "start_time": "2021-09-27T06:03:50.237Z"
   },
   {
    "duration": 510,
    "start_time": "2021-09-27T06:03:52.867Z"
   },
   {
    "duration": 518,
    "start_time": "2021-09-27T06:03:56.301Z"
   },
   {
    "duration": 7,
    "start_time": "2021-09-27T06:03:59.369Z"
   },
   {
    "duration": 19,
    "start_time": "2021-09-27T06:04:01.239Z"
   },
   {
    "duration": 622,
    "start_time": "2021-09-27T06:07:00.866Z"
   },
   {
    "duration": 13,
    "start_time": "2021-09-27T06:07:07.371Z"
   },
   {
    "duration": 11,
    "start_time": "2021-09-27T06:07:59.204Z"
   },
   {
    "duration": 9,
    "start_time": "2021-09-27T06:10:37.423Z"
   },
   {
    "duration": 10,
    "start_time": "2021-09-27T06:10:56.164Z"
   },
   {
    "duration": 231,
    "start_time": "2021-09-27T06:15:27.244Z"
   },
   {
    "duration": 121,
    "start_time": "2021-09-27T06:18:44.938Z"
   },
   {
    "duration": 8,
    "start_time": "2021-09-27T06:18:49.582Z"
   },
   {
    "duration": 12,
    "start_time": "2021-09-27T06:18:51.592Z"
   },
   {
    "duration": 10,
    "start_time": "2021-09-27T06:18:53.373Z"
   },
   {
    "duration": 6,
    "start_time": "2021-09-27T06:18:54.792Z"
   },
   {
    "duration": 8,
    "start_time": "2021-09-27T06:18:56.600Z"
   },
   {
    "duration": 8,
    "start_time": "2021-09-27T06:18:58.640Z"
   },
   {
    "duration": 8,
    "start_time": "2021-09-27T06:19:00.093Z"
   },
   {
    "duration": 7,
    "start_time": "2021-09-27T06:19:01.592Z"
   },
   {
    "duration": 16,
    "start_time": "2021-09-27T06:19:04.365Z"
   },
   {
    "duration": 14960,
    "start_time": "2021-09-27T06:19:06.269Z"
   },
   {
    "duration": 31,
    "start_time": "2021-09-27T06:19:24.958Z"
   },
   {
    "duration": 25,
    "start_time": "2021-09-27T06:19:26.342Z"
   },
   {
    "duration": 8,
    "start_time": "2021-09-27T06:19:30.193Z"
   },
   {
    "duration": 6,
    "start_time": "2021-09-27T06:19:32.228Z"
   },
   {
    "duration": 6,
    "start_time": "2021-09-27T06:19:34.042Z"
   },
   {
    "duration": 9,
    "start_time": "2021-09-27T06:19:36.354Z"
   },
   {
    "duration": 16,
    "start_time": "2021-09-27T06:19:37.860Z"
   },
   {
    "duration": 22,
    "start_time": "2021-09-27T06:19:39.222Z"
   },
   {
    "duration": 712,
    "start_time": "2021-09-27T06:19:41.855Z"
   },
   {
    "duration": 22,
    "start_time": "2021-09-27T06:19:45.070Z"
   },
   {
    "duration": 35,
    "start_time": "2021-09-27T06:19:48.074Z"
   },
   {
    "duration": 5,
    "start_time": "2021-09-27T06:19:49.902Z"
   },
   {
    "duration": 17,
    "start_time": "2021-09-27T06:19:51.135Z"
   },
   {
    "duration": 764,
    "start_time": "2021-09-27T06:19:52.620Z"
   },
   {
    "duration": 7,
    "start_time": "2021-09-27T06:19:55.460Z"
   },
   {
    "duration": 634,
    "start_time": "2021-09-27T06:19:57.856Z"
   },
   {
    "duration": 427,
    "start_time": "2021-09-27T06:20:00.876Z"
   },
   {
    "duration": 415,
    "start_time": "2021-09-27T06:20:03.901Z"
   },
   {
    "duration": 521,
    "start_time": "2021-09-27T06:20:06.362Z"
   },
   {
    "duration": 650,
    "start_time": "2021-09-27T06:20:10.873Z"
   },
   {
    "duration": 6,
    "start_time": "2021-09-27T06:20:13.267Z"
   },
   {
    "duration": 20,
    "start_time": "2021-09-27T06:20:16.118Z"
   },
   {
    "duration": 11,
    "start_time": "2021-09-27T06:20:17.710Z"
   },
   {
    "duration": 14,
    "start_time": "2021-09-27T06:20:20.228Z"
   },
   {
    "duration": 238,
    "start_time": "2021-09-27T06:20:21.981Z"
   },
   {
    "duration": 16,
    "start_time": "2021-09-27T06:21:20.025Z"
   },
   {
    "duration": 505,
    "start_time": "2021-09-27T06:21:43.563Z"
   },
   {
    "duration": 807,
    "start_time": "2021-09-27T06:31:56.957Z"
   },
   {
    "duration": 19,
    "start_time": "2021-09-27T06:33:01.127Z"
   },
   {
    "duration": 13,
    "start_time": "2021-09-27T06:33:49.983Z"
   },
   {
    "duration": 16,
    "start_time": "2021-09-27T06:36:58.166Z"
   },
   {
    "duration": 16,
    "start_time": "2021-09-27T06:37:08.311Z"
   },
   {
    "duration": 16,
    "start_time": "2021-09-27T06:38:09.279Z"
   },
   {
    "duration": 53,
    "start_time": "2021-09-27T06:38:17.843Z"
   },
   {
    "duration": 14,
    "start_time": "2021-09-27T06:38:36.385Z"
   },
   {
    "duration": 22,
    "start_time": "2021-09-27T06:40:15.928Z"
   },
   {
    "duration": 15,
    "start_time": "2021-09-27T06:40:29.721Z"
   },
   {
    "duration": 113,
    "start_time": "2021-09-27T06:56:15.704Z"
   },
   {
    "duration": 7,
    "start_time": "2021-09-27T06:56:21.454Z"
   },
   {
    "duration": 12,
    "start_time": "2021-09-27T06:56:22.894Z"
   },
   {
    "duration": 9,
    "start_time": "2021-09-27T06:56:24.294Z"
   },
   {
    "duration": 6,
    "start_time": "2021-09-27T06:56:27.126Z"
   },
   {
    "duration": 7,
    "start_time": "2021-09-27T06:56:28.661Z"
   },
   {
    "duration": 7,
    "start_time": "2021-09-27T06:56:31.972Z"
   },
   {
    "duration": 8,
    "start_time": "2021-09-27T06:56:33.594Z"
   },
   {
    "duration": 6,
    "start_time": "2021-09-27T06:57:27.396Z"
   },
   {
    "duration": 16,
    "start_time": "2021-09-27T06:57:30.885Z"
   },
   {
    "duration": 12,
    "start_time": "2021-09-27T06:57:32.049Z"
   },
   {
    "duration": 14153,
    "start_time": "2021-09-27T06:57:34.320Z"
   },
   {
    "duration": 20,
    "start_time": "2021-09-27T06:57:52.220Z"
   },
   {
    "duration": 24,
    "start_time": "2021-09-27T06:57:53.996Z"
   },
   {
    "duration": 9,
    "start_time": "2021-09-27T06:57:55.241Z"
   },
   {
    "duration": 6,
    "start_time": "2021-09-27T06:57:56.999Z"
   },
   {
    "duration": 7,
    "start_time": "2021-09-27T06:57:59.360Z"
   },
   {
    "duration": 9,
    "start_time": "2021-09-27T06:58:43.277Z"
   },
   {
    "duration": 15,
    "start_time": "2021-09-27T06:58:44.646Z"
   },
   {
    "duration": 22,
    "start_time": "2021-09-27T06:58:46.452Z"
   },
   {
    "duration": 603,
    "start_time": "2021-09-27T06:58:49.713Z"
   },
   {
    "duration": 21,
    "start_time": "2021-09-27T06:58:53.414Z"
   },
   {
    "duration": 36,
    "start_time": "2021-09-27T06:58:59.553Z"
   },
   {
    "duration": 6,
    "start_time": "2021-09-27T06:59:02.055Z"
   },
   {
    "duration": 18,
    "start_time": "2021-09-27T06:59:03.930Z"
   },
   {
    "duration": 773,
    "start_time": "2021-09-27T06:59:05.395Z"
   },
   {
    "duration": 7,
    "start_time": "2021-09-27T06:59:08.335Z"
   },
   {
    "duration": 669,
    "start_time": "2021-09-27T06:59:11.150Z"
   },
   {
    "duration": 405,
    "start_time": "2021-09-27T06:59:14.014Z"
   },
   {
    "duration": 406,
    "start_time": "2021-09-27T06:59:16.994Z"
   },
   {
    "duration": 508,
    "start_time": "2021-09-27T06:59:19.822Z"
   },
   {
    "duration": 539,
    "start_time": "2021-09-27T06:59:22.715Z"
   },
   {
    "duration": 7,
    "start_time": "2021-09-27T06:59:25.502Z"
   },
   {
    "duration": 18,
    "start_time": "2021-09-27T06:59:27.374Z"
   },
   {
    "duration": 12,
    "start_time": "2021-09-27T06:59:29.222Z"
   },
   {
    "duration": 13,
    "start_time": "2021-09-27T06:59:30.757Z"
   },
   {
    "duration": 456,
    "start_time": "2021-09-27T06:59:33.221Z"
   },
   {
    "duration": 20,
    "start_time": "2021-09-27T06:59:36.597Z"
   },
   {
    "duration": 20,
    "start_time": "2021-09-27T06:59:38.995Z"
   },
   {
    "duration": 390,
    "start_time": "2021-09-27T07:03:53.506Z"
   },
   {
    "duration": 523,
    "start_time": "2021-09-27T07:04:00.565Z"
   },
   {
    "duration": 408,
    "start_time": "2021-09-27T07:11:38.595Z"
   },
   {
    "duration": 1838,
    "start_time": "2021-09-27T07:11:52.064Z"
   },
   {
    "duration": 420,
    "start_time": "2021-09-27T07:12:52.123Z"
   },
   {
    "duration": 428,
    "start_time": "2021-09-27T07:15:03.849Z"
   },
   {
    "duration": 2472,
    "start_time": "2021-09-27T07:15:15.486Z"
   },
   {
    "duration": 146,
    "start_time": "2021-09-27T07:16:06.685Z"
   },
   {
    "duration": 132,
    "start_time": "2021-09-27T07:16:16.816Z"
   },
   {
    "duration": 2327,
    "start_time": "2021-09-27T07:17:11.206Z"
   },
   {
    "duration": 413,
    "start_time": "2021-09-27T07:17:47.530Z"
   },
   {
    "duration": 8586,
    "start_time": "2021-09-27T07:18:15.082Z"
   },
   {
    "duration": 8581,
    "start_time": "2021-09-27T07:18:52.479Z"
   },
   {
    "duration": 117,
    "start_time": "2021-09-27T07:19:58.629Z"
   },
   {
    "duration": 7,
    "start_time": "2021-09-27T07:20:02.632Z"
   },
   {
    "duration": 12,
    "start_time": "2021-09-27T07:20:04.159Z"
   },
   {
    "duration": 9,
    "start_time": "2021-09-27T07:20:05.740Z"
   },
   {
    "duration": 6,
    "start_time": "2021-09-27T07:20:07.819Z"
   },
   {
    "duration": 7,
    "start_time": "2021-09-27T07:20:09.128Z"
   },
   {
    "duration": 8,
    "start_time": "2021-09-27T07:20:10.859Z"
   },
   {
    "duration": 8,
    "start_time": "2021-09-27T07:20:12.860Z"
   },
   {
    "duration": 8,
    "start_time": "2021-09-27T07:20:14.280Z"
   },
   {
    "duration": 15,
    "start_time": "2021-09-27T07:20:15.680Z"
   },
   {
    "duration": 14338,
    "start_time": "2021-09-27T07:20:17.250Z"
   },
   {
    "duration": 20,
    "start_time": "2021-09-27T07:20:35.744Z"
   },
   {
    "duration": 24,
    "start_time": "2021-09-27T07:20:39.976Z"
   },
   {
    "duration": 8,
    "start_time": "2021-09-27T07:20:41.395Z"
   },
   {
    "duration": 7,
    "start_time": "2021-09-27T07:20:42.847Z"
   },
   {
    "duration": 7,
    "start_time": "2021-09-27T07:20:44.365Z"
   },
   {
    "duration": 9,
    "start_time": "2021-09-27T07:20:45.850Z"
   },
   {
    "duration": 15,
    "start_time": "2021-09-27T07:20:48.022Z"
   },
   {
    "duration": 23,
    "start_time": "2021-09-27T07:20:49.522Z"
   },
   {
    "duration": 594,
    "start_time": "2021-09-27T07:20:52.573Z"
   },
   {
    "duration": 22,
    "start_time": "2021-09-27T07:20:55.420Z"
   },
   {
    "duration": 35,
    "start_time": "2021-09-27T07:20:58.239Z"
   },
   {
    "duration": 6,
    "start_time": "2021-09-27T07:21:00.528Z"
   },
   {
    "duration": 18,
    "start_time": "2021-09-27T07:21:01.814Z"
   },
   {
    "duration": 760,
    "start_time": "2021-09-27T07:21:03.992Z"
   },
   {
    "duration": 7,
    "start_time": "2021-09-27T07:21:05.680Z"
   },
   {
    "duration": 537,
    "start_time": "2021-09-27T07:21:07.944Z"
   },
   {
    "duration": 420,
    "start_time": "2021-09-27T07:21:10.222Z"
   },
   {
    "duration": 405,
    "start_time": "2021-09-27T07:21:12.764Z"
   },
   {
    "duration": 511,
    "start_time": "2021-09-27T07:21:15.908Z"
   },
   {
    "duration": 544,
    "start_time": "2021-09-27T07:21:18.877Z"
   },
   {
    "duration": 6,
    "start_time": "2021-09-27T07:21:21.604Z"
   },
   {
    "duration": 18,
    "start_time": "2021-09-27T07:21:24.224Z"
   },
   {
    "duration": 11,
    "start_time": "2021-09-27T07:21:25.620Z"
   },
   {
    "duration": 12,
    "start_time": "2021-09-27T07:21:27.400Z"
   },
   {
    "duration": 708,
    "start_time": "2021-09-27T07:21:28.832Z"
   },
   {
    "duration": 21,
    "start_time": "2021-09-27T07:21:31.900Z"
   },
   {
    "duration": 17,
    "start_time": "2021-09-27T07:21:35.080Z"
   },
   {
    "duration": 8679,
    "start_time": "2021-09-27T07:21:37.048Z"
   },
   {
    "duration": 412,
    "start_time": "2021-09-27T07:30:42.088Z"
   },
   {
    "duration": 6,
    "start_time": "2021-09-27T07:30:57.476Z"
   },
   {
    "duration": 388,
    "start_time": "2021-09-27T07:31:16.096Z"
   },
   {
    "duration": 409,
    "start_time": "2021-09-27T07:31:22.897Z"
   },
   {
    "duration": 433,
    "start_time": "2021-09-27T07:34:07.194Z"
   },
   {
    "duration": 440,
    "start_time": "2021-09-27T07:39:20.856Z"
   },
   {
    "duration": 418,
    "start_time": "2021-09-27T07:39:39.556Z"
   },
   {
    "duration": 418,
    "start_time": "2021-09-27T07:39:58.438Z"
   },
   {
    "duration": 415,
    "start_time": "2021-09-27T07:40:23.816Z"
   },
   {
    "duration": 1901,
    "start_time": "2021-09-27T07:41:35.846Z"
   },
   {
    "duration": 6,
    "start_time": "2021-09-27T07:42:25.137Z"
   },
   {
    "duration": 7,
    "start_time": "2021-09-27T07:43:57.064Z"
   },
   {
    "duration": 802,
    "start_time": "2021-09-27T07:45:54.768Z"
   },
   {
    "duration": 1569,
    "start_time": "2021-09-27T07:46:05.541Z"
   },
   {
    "duration": 783,
    "start_time": "2021-09-27T07:46:21.133Z"
   },
   {
    "duration": 791,
    "start_time": "2021-09-27T07:46:25.619Z"
   },
   {
    "duration": 1551,
    "start_time": "2021-09-27T07:46:36.339Z"
   },
   {
    "duration": 115,
    "start_time": "2021-09-27T07:46:53.425Z"
   },
   {
    "duration": 7,
    "start_time": "2021-09-27T07:46:57.906Z"
   },
   {
    "duration": 11,
    "start_time": "2021-09-27T07:46:59.457Z"
   },
   {
    "duration": 10,
    "start_time": "2021-09-27T07:47:01.558Z"
   },
   {
    "duration": 6,
    "start_time": "2021-09-27T07:47:03.931Z"
   },
   {
    "duration": 8,
    "start_time": "2021-09-27T07:47:05.290Z"
   },
   {
    "duration": 8,
    "start_time": "2021-09-27T07:47:06.971Z"
   },
   {
    "duration": 8,
    "start_time": "2021-09-27T07:47:09.271Z"
   },
   {
    "duration": 8,
    "start_time": "2021-09-27T07:47:11.078Z"
   },
   {
    "duration": 16,
    "start_time": "2021-09-27T07:47:12.485Z"
   },
   {
    "duration": 14350,
    "start_time": "2021-09-27T07:47:13.659Z"
   },
   {
    "duration": 21,
    "start_time": "2021-09-27T07:47:42.321Z"
   },
   {
    "duration": 22,
    "start_time": "2021-09-27T07:47:43.729Z"
   },
   {
    "duration": 8,
    "start_time": "2021-09-27T07:47:46.673Z"
   },
   {
    "duration": 7,
    "start_time": "2021-09-27T07:47:48.357Z"
   },
   {
    "duration": 7,
    "start_time": "2021-09-27T07:47:50.601Z"
   },
   {
    "duration": 10,
    "start_time": "2021-09-27T07:47:51.942Z"
   },
   {
    "duration": 17,
    "start_time": "2021-09-27T07:47:55.622Z"
   },
   {
    "duration": 21,
    "start_time": "2021-09-27T07:47:55.642Z"
   },
   {
    "duration": 901,
    "start_time": "2021-09-27T07:48:00.497Z"
   },
   {
    "duration": 22,
    "start_time": "2021-09-27T07:48:03.691Z"
   },
   {
    "duration": 37,
    "start_time": "2021-09-27T07:48:06.395Z"
   },
   {
    "duration": 5,
    "start_time": "2021-09-27T07:48:09.273Z"
   },
   {
    "duration": 18,
    "start_time": "2021-09-27T07:48:10.581Z"
   },
   {
    "duration": 873,
    "start_time": "2021-09-27T07:48:12.017Z"
   },
   {
    "duration": 8,
    "start_time": "2021-09-27T07:48:14.681Z"
   },
   {
    "duration": 534,
    "start_time": "2021-09-27T07:48:16.769Z"
   },
   {
    "duration": 407,
    "start_time": "2021-09-27T07:48:19.744Z"
   },
   {
    "duration": 408,
    "start_time": "2021-09-27T07:48:22.321Z"
   },
   {
    "duration": 580,
    "start_time": "2021-09-27T07:48:24.653Z"
   },
   {
    "duration": 554,
    "start_time": "2021-09-27T07:48:27.711Z"
   },
   {
    "duration": 8,
    "start_time": "2021-09-27T07:48:29.779Z"
   },
   {
    "duration": 15,
    "start_time": "2021-09-27T07:48:34.225Z"
   },
   {
    "duration": 12,
    "start_time": "2021-09-27T07:48:36.011Z"
   },
   {
    "duration": 10,
    "start_time": "2021-09-27T07:48:37.956Z"
   },
   {
    "duration": 472,
    "start_time": "2021-09-27T07:48:39.520Z"
   },
   {
    "duration": 21,
    "start_time": "2021-09-27T07:48:42.585Z"
   },
   {
    "duration": 15,
    "start_time": "2021-09-27T07:48:45.150Z"
   },
   {
    "duration": 8367,
    "start_time": "2021-09-27T07:48:48.073Z"
   },
   {
    "duration": 7,
    "start_time": "2021-09-27T07:48:56.442Z"
   },
   {
    "duration": 5,
    "start_time": "2021-09-27T07:48:59.790Z"
   },
   {
    "duration": 1831,
    "start_time": "2021-09-27T07:49:48.149Z"
   },
   {
    "duration": 8759,
    "start_time": "2021-09-27T07:53:42.251Z"
   },
   {
    "duration": 11,
    "start_time": "2021-09-27T07:58:10.753Z"
   },
   {
    "duration": 140,
    "start_time": "2021-09-27T08:37:41.608Z"
   },
   {
    "duration": 9,
    "start_time": "2021-09-27T08:37:46.068Z"
   },
   {
    "duration": 13,
    "start_time": "2021-09-27T08:37:47.640Z"
   },
   {
    "duration": 11,
    "start_time": "2021-09-27T08:37:49.240Z"
   },
   {
    "duration": 848,
    "start_time": "2021-09-27T12:10:40.133Z"
   },
   {
    "duration": 20,
    "start_time": "2021-09-27T12:10:46.229Z"
   },
   {
    "duration": 12,
    "start_time": "2021-09-27T12:10:49.501Z"
   },
   {
    "duration": 12,
    "start_time": "2021-09-27T12:10:50.849Z"
   },
   {
    "duration": 6,
    "start_time": "2021-09-27T12:10:53.329Z"
   },
   {
    "duration": 7,
    "start_time": "2021-09-27T12:10:55.641Z"
   },
   {
    "duration": 7,
    "start_time": "2021-09-27T12:11:00.997Z"
   },
   {
    "duration": 8,
    "start_time": "2021-09-27T12:11:02.628Z"
   },
   {
    "duration": 8,
    "start_time": "2021-09-27T12:11:06.225Z"
   },
   {
    "duration": 15,
    "start_time": "2021-09-27T12:11:08.151Z"
   },
   {
    "duration": 14333,
    "start_time": "2021-09-27T12:11:10.132Z"
   },
   {
    "duration": 19,
    "start_time": "2021-09-27T12:11:41.153Z"
   },
   {
    "duration": 21,
    "start_time": "2021-09-27T12:11:43.549Z"
   },
   {
    "duration": 7,
    "start_time": "2021-09-27T12:11:45.171Z"
   },
   {
    "duration": 8,
    "start_time": "2021-09-27T12:11:47.590Z"
   },
   {
    "duration": 7,
    "start_time": "2021-09-27T12:11:49.373Z"
   },
   {
    "duration": 9,
    "start_time": "2021-09-27T12:11:50.944Z"
   },
   {
    "duration": 14,
    "start_time": "2021-09-27T12:11:52.450Z"
   },
   {
    "duration": 23,
    "start_time": "2021-09-27T12:11:53.980Z"
   },
   {
    "duration": 564,
    "start_time": "2021-09-27T12:11:56.635Z"
   },
   {
    "duration": 23,
    "start_time": "2021-09-27T12:12:00.952Z"
   },
   {
    "duration": 37,
    "start_time": "2021-09-27T12:12:04.373Z"
   },
   {
    "duration": 6,
    "start_time": "2021-09-27T12:12:07.245Z"
   },
   {
    "duration": 22,
    "start_time": "2021-09-27T12:12:08.789Z"
   },
   {
    "duration": 893,
    "start_time": "2021-09-27T12:12:10.449Z"
   },
   {
    "duration": 7,
    "start_time": "2021-09-27T12:12:14.941Z"
   },
   {
    "duration": 519,
    "start_time": "2021-09-27T12:12:17.340Z"
   },
   {
    "duration": 415,
    "start_time": "2021-09-27T12:12:21.149Z"
   },
   {
    "duration": 382,
    "start_time": "2021-09-27T12:12:23.829Z"
   },
   {
    "duration": 522,
    "start_time": "2021-09-27T12:12:26.642Z"
   },
   {
    "duration": 521,
    "start_time": "2021-09-27T12:12:32.162Z"
   },
   {
    "duration": 6,
    "start_time": "2021-09-27T12:12:35.489Z"
   },
   {
    "duration": 16,
    "start_time": "2021-09-27T12:12:37.489Z"
   },
   {
    "duration": 12,
    "start_time": "2021-09-27T12:12:39.454Z"
   },
   {
    "duration": 61,
    "start_time": "2021-09-27T12:12:41.417Z"
   },
   {
    "duration": 443,
    "start_time": "2021-09-27T12:12:43.205Z"
   },
   {
    "duration": 20,
    "start_time": "2021-09-27T12:12:48.251Z"
   },
   {
    "duration": 19,
    "start_time": "2021-09-27T12:12:51.138Z"
   },
   {
    "duration": 8491,
    "start_time": "2021-09-27T12:12:53.409Z"
   },
   {
    "duration": 1889,
    "start_time": "2021-09-27T12:13:06.185Z"
   },
   {
    "duration": 8193,
    "start_time": "2021-09-27T12:13:11.721Z"
   },
   {
    "duration": 80,
    "start_time": "2021-09-27T12:30:40.755Z"
   },
   {
    "duration": 498,
    "start_time": "2021-09-27T12:30:50.051Z"
   },
   {
    "duration": 389,
    "start_time": "2021-09-27T12:31:18.654Z"
   },
   {
    "duration": 455,
    "start_time": "2021-09-27T12:31:27.604Z"
   },
   {
    "duration": 94,
    "start_time": "2021-09-27T12:32:24.615Z"
   },
   {
    "duration": 6247,
    "start_time": "2021-09-27T12:32:37.785Z"
   },
   {
    "duration": 794,
    "start_time": "2021-09-27T12:33:08.767Z"
   },
   {
    "duration": 856,
    "start_time": "2021-09-27T12:33:27.046Z"
   },
   {
    "duration": 322,
    "start_time": "2021-09-27T12:34:43.856Z"
   },
   {
    "duration": 274,
    "start_time": "2021-09-27T12:36:36.915Z"
   },
   {
    "duration": 269,
    "start_time": "2021-09-27T12:37:44.183Z"
   },
   {
    "duration": 285,
    "start_time": "2021-09-27T12:38:08.261Z"
   },
   {
    "duration": 413,
    "start_time": "2021-09-27T12:38:18.923Z"
   },
   {
    "duration": 276,
    "start_time": "2021-09-27T12:38:28.573Z"
   },
   {
    "duration": 258,
    "start_time": "2021-09-27T12:38:44.081Z"
   },
   {
    "duration": 247,
    "start_time": "2021-09-27T12:38:56.505Z"
   },
   {
    "duration": 115,
    "start_time": "2021-09-27T12:39:37.824Z"
   },
   {
    "duration": 6,
    "start_time": "2021-09-27T12:39:42.021Z"
   },
   {
    "duration": 11,
    "start_time": "2021-09-27T12:39:44.145Z"
   },
   {
    "duration": 6,
    "start_time": "2021-09-27T12:39:45.582Z"
   },
   {
    "duration": 10,
    "start_time": "2021-09-27T12:39:47.262Z"
   },
   {
    "duration": 6,
    "start_time": "2021-09-27T12:39:49.683Z"
   },
   {
    "duration": 8,
    "start_time": "2021-09-27T12:39:51.435Z"
   },
   {
    "duration": 7,
    "start_time": "2021-09-27T12:39:53.363Z"
   },
   {
    "duration": 8,
    "start_time": "2021-09-27T12:39:55.165Z"
   },
   {
    "duration": 6,
    "start_time": "2021-09-27T12:39:56.896Z"
   },
   {
    "duration": 13,
    "start_time": "2021-09-27T12:39:59.219Z"
   },
   {
    "duration": 13683,
    "start_time": "2021-09-27T12:40:00.687Z"
   },
   {
    "duration": 19,
    "start_time": "2021-09-27T12:40:21.281Z"
   },
   {
    "duration": 24,
    "start_time": "2021-09-27T12:40:22.596Z"
   },
   {
    "duration": 7,
    "start_time": "2021-09-27T12:40:24.093Z"
   },
   {
    "duration": 6,
    "start_time": "2021-09-27T12:40:25.866Z"
   },
   {
    "duration": 6,
    "start_time": "2021-09-27T12:40:27.453Z"
   },
   {
    "duration": 9,
    "start_time": "2021-09-27T12:40:29.065Z"
   },
   {
    "duration": 14,
    "start_time": "2021-09-27T12:40:31.182Z"
   },
   {
    "duration": 23,
    "start_time": "2021-09-27T12:40:32.783Z"
   },
   {
    "duration": 574,
    "start_time": "2021-09-27T12:40:35.983Z"
   },
   {
    "duration": 20,
    "start_time": "2021-09-27T12:40:39.249Z"
   },
   {
    "duration": 34,
    "start_time": "2021-09-27T12:40:42.083Z"
   },
   {
    "duration": 5,
    "start_time": "2021-09-27T12:40:44.277Z"
   },
   {
    "duration": 18,
    "start_time": "2021-09-27T12:40:45.803Z"
   },
   {
    "duration": 839,
    "start_time": "2021-09-27T12:40:48.205Z"
   },
   {
    "duration": 7,
    "start_time": "2021-09-27T12:40:51.471Z"
   },
   {
    "duration": 566,
    "start_time": "2021-09-27T12:40:53.690Z"
   },
   {
    "duration": 412,
    "start_time": "2021-09-27T12:40:56.545Z"
   },
   {
    "duration": 382,
    "start_time": "2021-09-27T12:40:59.090Z"
   },
   {
    "duration": 540,
    "start_time": "2021-09-27T12:41:02.103Z"
   },
   {
    "duration": 538,
    "start_time": "2021-09-27T12:41:05.253Z"
   },
   {
    "duration": 7,
    "start_time": "2021-09-27T12:41:07.591Z"
   },
   {
    "duration": 15,
    "start_time": "2021-09-27T12:41:09.599Z"
   },
   {
    "duration": 12,
    "start_time": "2021-09-27T12:41:11.392Z"
   },
   {
    "duration": 12,
    "start_time": "2021-09-27T12:41:13.139Z"
   },
   {
    "duration": 459,
    "start_time": "2021-09-27T12:41:14.603Z"
   },
   {
    "duration": 20,
    "start_time": "2021-09-27T12:41:20.043Z"
   },
   {
    "duration": 17,
    "start_time": "2021-09-27T12:41:24.199Z"
   },
   {
    "duration": 9176,
    "start_time": "2021-09-27T12:41:26.694Z"
   },
   {
    "duration": 1853,
    "start_time": "2021-09-27T12:41:35.873Z"
   },
   {
    "duration": 8299,
    "start_time": "2021-09-27T12:41:50.087Z"
   },
   {
    "duration": 10,
    "start_time": "2021-09-27T12:42:02.479Z"
   },
   {
    "duration": 824,
    "start_time": "2021-09-27T12:42:04.539Z"
   },
   {
    "duration": 4014,
    "start_time": "2021-09-27T12:44:31.003Z"
   },
   {
    "duration": 256,
    "start_time": "2021-09-27T12:47:03.103Z"
   },
   {
    "duration": 243,
    "start_time": "2021-09-27T12:47:10.724Z"
   },
   {
    "duration": 305,
    "start_time": "2021-09-27T12:47:53.113Z"
   },
   {
    "duration": 112,
    "start_time": "2021-09-27T12:48:21.020Z"
   },
   {
    "duration": 8,
    "start_time": "2021-09-27T12:48:25.890Z"
   },
   {
    "duration": 12,
    "start_time": "2021-09-27T12:48:27.739Z"
   },
   {
    "duration": 10,
    "start_time": "2021-09-27T12:48:29.091Z"
   },
   {
    "duration": 6,
    "start_time": "2021-09-27T12:48:31.459Z"
   },
   {
    "duration": 7,
    "start_time": "2021-09-27T12:48:33.171Z"
   },
   {
    "duration": 8,
    "start_time": "2021-09-27T12:48:35.771Z"
   },
   {
    "duration": 8,
    "start_time": "2021-09-27T12:48:37.933Z"
   },
   {
    "duration": 9,
    "start_time": "2021-09-27T12:48:39.595Z"
   },
   {
    "duration": 16,
    "start_time": "2021-09-27T12:48:41.277Z"
   },
   {
    "duration": 14807,
    "start_time": "2021-09-27T12:48:42.798Z"
   },
   {
    "duration": 20,
    "start_time": "2021-09-27T12:48:57.608Z"
   },
   {
    "duration": 22,
    "start_time": "2021-09-27T12:48:57.631Z"
   },
   {
    "duration": 33,
    "start_time": "2021-09-27T12:48:57.656Z"
   },
   {
    "duration": 21,
    "start_time": "2021-09-27T12:48:57.692Z"
   },
   {
    "duration": 9,
    "start_time": "2021-09-27T12:48:57.716Z"
   },
   {
    "duration": 10,
    "start_time": "2021-09-27T12:49:02.649Z"
   },
   {
    "duration": 14,
    "start_time": "2021-09-27T12:49:04.665Z"
   },
   {
    "duration": 23,
    "start_time": "2021-09-27T12:49:06.199Z"
   },
   {
    "duration": 594,
    "start_time": "2021-09-27T12:49:08.741Z"
   },
   {
    "duration": 21,
    "start_time": "2021-09-27T12:49:12.089Z"
   },
   {
    "duration": 36,
    "start_time": "2021-09-27T12:49:15.191Z"
   },
   {
    "duration": 6,
    "start_time": "2021-09-27T12:49:18.003Z"
   },
   {
    "duration": 17,
    "start_time": "2021-09-27T12:49:19.315Z"
   },
   {
    "duration": 840,
    "start_time": "2021-09-27T12:49:20.848Z"
   },
   {
    "duration": 7,
    "start_time": "2021-09-27T12:49:24.139Z"
   },
   {
    "duration": 555,
    "start_time": "2021-09-27T12:49:26.199Z"
   },
   {
    "duration": 424,
    "start_time": "2021-09-27T12:49:29.058Z"
   },
   {
    "duration": 415,
    "start_time": "2021-09-27T12:49:32.378Z"
   },
   {
    "duration": 828,
    "start_time": "2021-09-27T12:49:36.131Z"
   },
   {
    "duration": 541,
    "start_time": "2021-09-27T12:49:39.341Z"
   },
   {
    "duration": 7,
    "start_time": "2021-09-27T12:49:42.181Z"
   },
   {
    "duration": 18,
    "start_time": "2021-09-27T12:49:44.263Z"
   },
   {
    "duration": 12,
    "start_time": "2021-09-27T12:49:46.236Z"
   },
   {
    "duration": 16,
    "start_time": "2021-09-27T12:49:47.851Z"
   },
   {
    "duration": 485,
    "start_time": "2021-09-27T12:49:49.839Z"
   },
   {
    "duration": 20,
    "start_time": "2021-09-27T12:49:54.451Z"
   },
   {
    "duration": 14,
    "start_time": "2021-09-27T12:49:57.087Z"
   },
   {
    "duration": 8163,
    "start_time": "2021-09-27T12:49:59.674Z"
   },
   {
    "duration": 1936,
    "start_time": "2021-09-27T12:50:07.840Z"
   },
   {
    "duration": 8417,
    "start_time": "2021-09-27T12:50:09.779Z"
   },
   {
    "duration": 11,
    "start_time": "2021-09-27T12:50:21.996Z"
   },
   {
    "duration": 4458,
    "start_time": "2021-09-27T12:50:24.311Z"
   },
   {
    "duration": 96,
    "start_time": "2021-09-27T12:58:17.493Z"
   },
   {
    "duration": 1180,
    "start_time": "2021-09-27T12:59:01.625Z"
   },
   {
    "duration": 1232,
    "start_time": "2021-09-27T12:59:18.427Z"
   },
   {
    "duration": 4014,
    "start_time": "2021-09-27T13:04:38.922Z"
   },
   {
    "duration": 4333,
    "start_time": "2021-09-27T13:07:37.601Z"
   },
   {
    "duration": 4362,
    "start_time": "2021-09-27T13:07:59.374Z"
   },
   {
    "duration": 4186,
    "start_time": "2021-09-27T13:09:36.229Z"
   },
   {
    "duration": 4509,
    "start_time": "2021-09-27T13:09:49.677Z"
   },
   {
    "duration": 4303,
    "start_time": "2021-09-27T13:10:22.427Z"
   },
   {
    "duration": 4569,
    "start_time": "2021-09-27T13:11:28.677Z"
   },
   {
    "duration": 15,
    "start_time": "2021-09-27T13:18:02.596Z"
   },
   {
    "duration": 30,
    "start_time": "2021-09-27T13:20:09.175Z"
   },
   {
    "duration": 28,
    "start_time": "2021-09-27T13:21:08.931Z"
   },
   {
    "duration": 25,
    "start_time": "2021-09-27T13:21:11.747Z"
   },
   {
    "duration": 24,
    "start_time": "2021-09-27T13:21:39.067Z"
   },
   {
    "duration": 7178,
    "start_time": "2021-09-27T13:24:17.470Z"
   },
   {
    "duration": 309,
    "start_time": "2021-09-27T13:25:01.128Z"
   },
   {
    "duration": 375,
    "start_time": "2021-09-27T13:25:13.801Z"
   },
   {
    "duration": 291,
    "start_time": "2021-09-27T13:25:18.194Z"
   },
   {
    "duration": 286,
    "start_time": "2021-09-27T13:25:43.349Z"
   },
   {
    "duration": 9,
    "start_time": "2021-09-27T13:33:54.233Z"
   },
   {
    "duration": 10,
    "start_time": "2021-09-27T13:40:56.005Z"
   },
   {
    "duration": 773,
    "start_time": "2021-09-27T13:43:24.694Z"
   },
   {
    "duration": 1057,
    "start_time": "2021-09-27T13:43:41.517Z"
   },
   {
    "duration": 1075,
    "start_time": "2021-09-27T13:45:34.994Z"
   },
   {
    "duration": 1080,
    "start_time": "2021-09-27T13:48:29.275Z"
   },
   {
    "duration": 1364,
    "start_time": "2021-09-27T13:50:43.321Z"
   },
   {
    "duration": 2339,
    "start_time": "2021-09-27T13:56:46.582Z"
   },
   {
    "duration": 1456,
    "start_time": "2021-09-27T18:53:24.102Z"
   },
   {
    "duration": 13,
    "start_time": "2021-09-27T18:54:28.676Z"
   },
   {
    "duration": 14,
    "start_time": "2021-09-27T18:54:53.823Z"
   },
   {
    "duration": 18,
    "start_time": "2021-09-27T18:55:17.256Z"
   },
   {
    "duration": 7,
    "start_time": "2021-09-27T18:55:41.451Z"
   },
   {
    "duration": 8,
    "start_time": "2021-09-27T18:56:08.609Z"
   },
   {
    "duration": 8,
    "start_time": "2021-09-27T18:56:20.719Z"
   },
   {
    "duration": 8,
    "start_time": "2021-09-27T18:56:27.579Z"
   },
   {
    "duration": 8,
    "start_time": "2021-09-27T18:56:41.644Z"
   },
   {
    "duration": 21,
    "start_time": "2021-09-27T18:56:53.658Z"
   },
   {
    "duration": 15199,
    "start_time": "2021-09-27T18:57:02.638Z"
   },
   {
    "duration": 30,
    "start_time": "2021-09-27T18:57:17.841Z"
   },
   {
    "duration": 32,
    "start_time": "2021-09-27T18:57:23.646Z"
   },
   {
    "duration": 8,
    "start_time": "2021-09-27T18:57:33.172Z"
   },
   {
    "duration": 6,
    "start_time": "2021-09-27T18:57:37.536Z"
   },
   {
    "duration": 6,
    "start_time": "2021-09-27T18:57:45.355Z"
   },
   {
    "duration": 12,
    "start_time": "2021-09-27T18:57:49.838Z"
   },
   {
    "duration": 17,
    "start_time": "2021-09-27T18:58:10.751Z"
   },
   {
    "duration": 22,
    "start_time": "2021-09-27T18:58:13.487Z"
   },
   {
    "duration": 618,
    "start_time": "2021-09-27T18:58:18.226Z"
   },
   {
    "duration": 24,
    "start_time": "2021-09-27T18:58:21.725Z"
   },
   {
    "duration": 37,
    "start_time": "2021-09-27T18:58:26.459Z"
   },
   {
    "duration": 6,
    "start_time": "2021-09-27T18:58:45.826Z"
   },
   {
    "duration": 17,
    "start_time": "2021-09-27T18:58:50.739Z"
   },
   {
    "duration": 999,
    "start_time": "2021-09-27T18:58:53.332Z"
   },
   {
    "duration": 8,
    "start_time": "2021-09-27T18:59:06.380Z"
   },
   {
    "duration": 592,
    "start_time": "2021-09-27T18:59:16.000Z"
   },
   {
    "duration": 618,
    "start_time": "2021-09-27T18:59:51.230Z"
   },
   {
    "duration": 418,
    "start_time": "2021-09-27T18:59:59.512Z"
   },
   {
    "duration": 417,
    "start_time": "2021-09-27T19:00:11.692Z"
   },
   {
    "duration": 834,
    "start_time": "2021-09-27T19:00:19.240Z"
   },
   {
    "duration": 638,
    "start_time": "2021-09-27T19:00:47.215Z"
   },
   {
    "duration": 7,
    "start_time": "2021-09-27T19:00:57.223Z"
   },
   {
    "duration": 17,
    "start_time": "2021-09-27T19:01:12.357Z"
   },
   {
    "duration": 12,
    "start_time": "2021-09-27T19:01:20.130Z"
   },
   {
    "duration": 12,
    "start_time": "2021-09-27T19:01:25.069Z"
   },
   {
    "duration": 602,
    "start_time": "2021-09-27T19:01:32.336Z"
   },
   {
    "duration": 20,
    "start_time": "2021-09-27T19:03:00.152Z"
   },
   {
    "duration": 17,
    "start_time": "2021-09-27T19:03:02.314Z"
   },
   {
    "duration": 9466,
    "start_time": "2021-09-27T19:03:22.336Z"
   },
   {
    "duration": 2074,
    "start_time": "2021-09-27T19:03:45.982Z"
   },
   {
    "duration": 8548,
    "start_time": "2021-09-27T19:04:08.931Z"
   },
   {
    "duration": 11,
    "start_time": "2021-09-27T19:04:25.459Z"
   },
   {
    "duration": 4006,
    "start_time": "2021-09-27T19:04:34.213Z"
   },
   {
    "duration": 4357,
    "start_time": "2021-09-27T19:04:46.321Z"
   },
   {
    "duration": 319,
    "start_time": "2021-09-27T19:05:04.214Z"
   },
   {
    "duration": 9,
    "start_time": "2021-09-27T19:05:34.985Z"
   },
   {
    "duration": 1271,
    "start_time": "2021-09-27T19:05:39.045Z"
   },
   {
    "duration": 1224,
    "start_time": "2021-09-27T19:05:49.876Z"
   },
   {
    "duration": 1215,
    "start_time": "2021-09-27T19:06:19.549Z"
   },
   {
    "duration": 1339,
    "start_time": "2021-09-27T19:06:30.624Z"
   },
   {
    "duration": 2145,
    "start_time": "2021-09-27T19:06:52.252Z"
   },
   {
    "duration": 749,
    "start_time": "2021-09-28T04:55:57.636Z"
   },
   {
    "duration": 7,
    "start_time": "2021-09-28T04:55:58.387Z"
   },
   {
    "duration": 9,
    "start_time": "2021-09-28T04:55:58.397Z"
   },
   {
    "duration": 10,
    "start_time": "2021-09-28T04:55:58.408Z"
   },
   {
    "duration": 4,
    "start_time": "2021-09-28T04:55:58.420Z"
   },
   {
    "duration": 5,
    "start_time": "2021-09-28T04:55:58.425Z"
   },
   {
    "duration": 8,
    "start_time": "2021-09-28T04:55:58.432Z"
   },
   {
    "duration": 36,
    "start_time": "2021-09-28T04:55:58.441Z"
   },
   {
    "duration": 13,
    "start_time": "2021-09-28T04:55:58.479Z"
   },
   {
    "duration": 12,
    "start_time": "2021-09-28T04:55:58.494Z"
   },
   {
    "duration": 9686,
    "start_time": "2021-09-28T04:55:58.508Z"
   },
   {
    "duration": 16,
    "start_time": "2021-09-28T04:56:08.196Z"
   },
   {
    "duration": 16,
    "start_time": "2021-09-28T04:56:08.214Z"
   },
   {
    "duration": 6,
    "start_time": "2021-09-28T04:56:08.232Z"
   },
   {
    "duration": 11,
    "start_time": "2021-09-28T04:56:08.240Z"
   },
   {
    "duration": 28,
    "start_time": "2021-09-28T04:56:08.253Z"
   },
   {
    "duration": 11,
    "start_time": "2021-09-28T04:56:08.283Z"
   },
   {
    "duration": 11,
    "start_time": "2021-09-28T04:56:08.296Z"
   },
   {
    "duration": 17,
    "start_time": "2021-09-28T04:56:08.309Z"
   },
   {
    "duration": 417,
    "start_time": "2021-09-28T04:56:08.327Z"
   },
   {
    "duration": 15,
    "start_time": "2021-09-28T04:56:08.746Z"
   },
   {
    "duration": 34,
    "start_time": "2021-09-28T04:56:08.763Z"
   },
   {
    "duration": 15,
    "start_time": "2021-09-28T04:56:08.798Z"
   },
   {
    "duration": 32,
    "start_time": "2021-09-28T04:56:08.815Z"
   },
   {
    "duration": 536,
    "start_time": "2021-09-28T04:56:08.848Z"
   },
   {
    "duration": 5,
    "start_time": "2021-09-28T04:56:09.386Z"
   },
   {
    "duration": 332,
    "start_time": "2021-09-28T04:56:09.394Z"
   },
   {
    "duration": 252,
    "start_time": "2021-09-28T04:56:09.728Z"
   },
   {
    "duration": 260,
    "start_time": "2021-09-28T04:56:09.982Z"
   },
   {
    "duration": 321,
    "start_time": "2021-09-28T04:56:10.244Z"
   },
   {
    "duration": 329,
    "start_time": "2021-09-28T04:56:10.566Z"
   },
   {
    "duration": 5,
    "start_time": "2021-09-28T04:56:10.897Z"
   },
   {
    "duration": 13,
    "start_time": "2021-09-28T04:56:10.903Z"
   },
   {
    "duration": 9,
    "start_time": "2021-09-28T04:56:10.917Z"
   },
   {
    "duration": 9,
    "start_time": "2021-09-28T04:56:10.927Z"
   },
   {
    "duration": 379,
    "start_time": "2021-09-28T04:56:10.938Z"
   },
   {
    "duration": 13,
    "start_time": "2021-09-28T04:56:11.319Z"
   },
   {
    "duration": 12,
    "start_time": "2021-09-28T04:56:11.334Z"
   },
   {
    "duration": 5913,
    "start_time": "2021-09-28T04:56:11.348Z"
   },
   {
    "duration": 1241,
    "start_time": "2021-09-28T04:56:17.263Z"
   },
   {
    "duration": 5618,
    "start_time": "2021-09-28T04:56:18.505Z"
   },
   {
    "duration": 8,
    "start_time": "2021-09-28T04:56:24.125Z"
   },
   {
    "duration": 2684,
    "start_time": "2021-09-28T04:56:24.135Z"
   },
   {
    "duration": 2490,
    "start_time": "2021-09-28T04:56:26.821Z"
   },
   {
    "duration": 198,
    "start_time": "2021-09-28T04:56:29.313Z"
   },
   {
    "duration": 7,
    "start_time": "2021-09-28T04:56:29.513Z"
   },
   {
    "duration": 636,
    "start_time": "2021-09-28T04:56:29.521Z"
   },
   {
    "duration": 792,
    "start_time": "2021-09-28T04:56:30.159Z"
   },
   {
    "duration": 640,
    "start_time": "2021-09-28T04:56:30.953Z"
   },
   {
    "duration": 764,
    "start_time": "2021-09-28T04:56:31.595Z"
   },
   {
    "duration": 1594,
    "start_time": "2021-09-28T04:56:32.361Z"
   },
   {
    "duration": 796,
    "start_time": "2021-09-28T06:15:25.042Z"
   },
   {
    "duration": 96,
    "start_time": "2021-09-28T06:15:43.932Z"
   },
   {
    "duration": 10,
    "start_time": "2021-09-28T06:18:41.008Z"
   },
   {
    "duration": 9,
    "start_time": "2021-09-28T06:18:43.223Z"
   },
   {
    "duration": 8,
    "start_time": "2021-09-28T06:18:45.371Z"
   },
   {
    "duration": 5,
    "start_time": "2021-09-28T06:18:48.312Z"
   },
   {
    "duration": 6,
    "start_time": "2021-09-28T06:18:51.824Z"
   },
   {
    "duration": 5,
    "start_time": "2021-09-28T06:19:02.691Z"
   },
   {
    "duration": 6,
    "start_time": "2021-09-28T06:19:04.679Z"
   },
   {
    "duration": 6,
    "start_time": "2021-09-28T06:19:06.584Z"
   },
   {
    "duration": 46,
    "start_time": "2021-09-28T06:19:09.316Z"
   },
   {
    "duration": 10,
    "start_time": "2021-09-28T06:19:28.704Z"
   },
   {
    "duration": 18,
    "start_time": "2021-09-28T06:20:00.277Z"
   },
   {
    "duration": 444,
    "start_time": "2021-09-28T06:20:52.090Z"
   },
   {
    "duration": 273,
    "start_time": "2021-09-28T06:21:10.707Z"
   },
   {
    "duration": 279,
    "start_time": "2021-09-28T06:21:21.058Z"
   },
   {
    "duration": 12,
    "start_time": "2021-09-28T06:21:50.007Z"
   },
   {
    "duration": 9,
    "start_time": "2021-09-28T06:21:58.577Z"
   },
   {
    "duration": 99,
    "start_time": "2021-09-28T06:22:42.452Z"
   },
   {
    "duration": 5,
    "start_time": "2021-09-28T06:22:47.711Z"
   },
   {
    "duration": 8,
    "start_time": "2021-09-28T06:22:49.408Z"
   },
   {
    "duration": 8,
    "start_time": "2021-09-28T06:22:51.083Z"
   },
   {
    "duration": 5,
    "start_time": "2021-09-28T06:22:53.692Z"
   },
   {
    "duration": 6,
    "start_time": "2021-09-28T06:22:55.376Z"
   },
   {
    "duration": 5,
    "start_time": "2021-09-28T06:22:57.325Z"
   },
   {
    "duration": 6,
    "start_time": "2021-09-28T06:22:59.922Z"
   },
   {
    "duration": 6,
    "start_time": "2021-09-28T06:23:01.940Z"
   },
   {
    "duration": 11,
    "start_time": "2021-09-28T06:23:04.440Z"
   },
   {
    "duration": 40,
    "start_time": "2021-09-28T06:24:28.398Z"
   },
   {
    "duration": 9454,
    "start_time": "2021-09-28T06:24:45.095Z"
   },
   {
    "duration": 9407,
    "start_time": "2021-09-28T06:25:05.682Z"
   },
   {
    "duration": 13,
    "start_time": "2021-09-28T06:25:42.491Z"
   },
   {
    "duration": 9548,
    "start_time": "2021-09-28T06:25:45.403Z"
   },
   {
    "duration": 16,
    "start_time": "2021-09-28T06:26:03.267Z"
   },
   {
    "duration": 16,
    "start_time": "2021-09-28T06:26:05.185Z"
   },
   {
    "duration": 6,
    "start_time": "2021-09-28T06:26:06.874Z"
   },
   {
    "duration": 5,
    "start_time": "2021-09-28T06:26:08.857Z"
   },
   {
    "duration": 5,
    "start_time": "2021-09-28T06:27:41.699Z"
   },
   {
    "duration": 7,
    "start_time": "2021-09-28T06:28:00.168Z"
   },
   {
    "duration": 11,
    "start_time": "2021-09-28T06:28:02.723Z"
   },
   {
    "duration": 17,
    "start_time": "2021-09-28T06:28:04.271Z"
   },
   {
    "duration": 418,
    "start_time": "2021-09-28T06:28:07.301Z"
   },
   {
    "duration": 15,
    "start_time": "2021-09-28T06:28:16.371Z"
   },
   {
    "duration": 23,
    "start_time": "2021-09-28T06:28:20.387Z"
   },
   {
    "duration": 4,
    "start_time": "2021-09-28T06:28:22.805Z"
   },
   {
    "duration": 12,
    "start_time": "2021-09-28T06:28:24.812Z"
   },
   {
    "duration": 459,
    "start_time": "2021-09-28T06:28:26.573Z"
   },
   {
    "duration": 6,
    "start_time": "2021-09-28T06:28:29.665Z"
   },
   {
    "duration": 350,
    "start_time": "2021-09-28T06:28:33.709Z"
   },
   {
    "duration": 150,
    "start_time": "2021-09-28T06:28:51.644Z"
   },
   {
    "duration": 651,
    "start_time": "2021-09-28T06:28:59.232Z"
   },
   {
    "duration": 294,
    "start_time": "2021-09-28T06:29:13.194Z"
   },
   {
    "duration": 639,
    "start_time": "2021-09-28T06:29:32.328Z"
   },
   {
    "duration": 323,
    "start_time": "2021-09-28T06:29:39.282Z"
   },
   {
    "duration": 308,
    "start_time": "2021-09-28T06:29:56.990Z"
   },
   {
    "duration": 245,
    "start_time": "2021-09-28T06:30:15.642Z"
   },
   {
    "duration": 247,
    "start_time": "2021-09-28T06:30:32.746Z"
   },
   {
    "duration": 305,
    "start_time": "2021-09-28T06:30:55.434Z"
   },
   {
    "duration": 421,
    "start_time": "2021-09-28T06:31:30.178Z"
   },
   {
    "duration": 4,
    "start_time": "2021-09-28T06:31:39.167Z"
   },
   {
    "duration": 13,
    "start_time": "2021-09-28T06:31:41.607Z"
   },
   {
    "duration": 9,
    "start_time": "2021-09-28T06:31:43.535Z"
   },
   {
    "duration": 9,
    "start_time": "2021-09-28T06:31:45.906Z"
   },
   {
    "duration": 265,
    "start_time": "2021-09-28T06:31:48.009Z"
   },
   {
    "duration": 296,
    "start_time": "2021-09-28T06:33:15.263Z"
   },
   {
    "duration": 13,
    "start_time": "2021-09-28T06:33:26.147Z"
   },
   {
    "duration": 11,
    "start_time": "2021-09-28T06:33:28.624Z"
   },
   {
    "duration": 5592,
    "start_time": "2021-09-28T06:33:31.442Z"
   },
   {
    "duration": 1394,
    "start_time": "2021-09-28T06:33:48.630Z"
   },
   {
    "duration": 5652,
    "start_time": "2021-09-28T06:33:53.498Z"
   },
   {
    "duration": 8,
    "start_time": "2021-09-28T06:34:08.244Z"
   },
   {
    "duration": 2396,
    "start_time": "2021-09-28T06:34:10.419Z"
   },
   {
    "duration": 2387,
    "start_time": "2021-09-28T06:34:17.536Z"
   },
   {
    "duration": 2387,
    "start_time": "2021-09-28T06:35:36.072Z"
   },
   {
    "duration": 178,
    "start_time": "2021-09-28T06:36:06.636Z"
   },
   {
    "duration": 8,
    "start_time": "2021-09-28T06:37:53.692Z"
   },
   {
    "duration": 7,
    "start_time": "2021-09-28T06:38:40.340Z"
   },
   {
    "duration": 748,
    "start_time": "2021-09-28T06:40:20.522Z"
   },
   {
    "duration": 663,
    "start_time": "2021-09-28T06:40:47.840Z"
   },
   {
    "duration": 765,
    "start_time": "2021-09-28T06:41:11.170Z"
   },
   {
    "duration": 658,
    "start_time": "2021-09-28T06:41:17.639Z"
   },
   {
    "duration": 640,
    "start_time": "2021-09-28T06:41:23.530Z"
   },
   {
    "duration": 2022,
    "start_time": "2021-09-28T06:43:19.653Z"
   },
   {
    "duration": 307,
    "start_time": "2021-09-28T06:44:14.820Z"
   },
   {
    "duration": 356,
    "start_time": "2021-09-28T06:44:41.219Z"
   },
   {
    "duration": 272,
    "start_time": "2021-09-28T06:44:58.861Z"
   },
   {
    "duration": 461,
    "start_time": "2021-09-28T06:45:04.936Z"
   },
   {
    "duration": 358,
    "start_time": "2021-09-28T06:47:18.680Z"
   },
   {
    "duration": 326,
    "start_time": "2021-09-28T06:47:29.643Z"
   },
   {
    "duration": 369,
    "start_time": "2021-09-28T06:47:34.978Z"
   },
   {
    "duration": 2509,
    "start_time": "2021-09-28T06:48:00.208Z"
   },
   {
    "duration": 239,
    "start_time": "2021-09-28T06:48:21.698Z"
   },
   {
    "duration": 659,
    "start_time": "2021-09-28T06:48:48.416Z"
   },
   {
    "duration": 917,
    "start_time": "2021-09-28T06:49:02.629Z"
   },
   {
    "duration": 742,
    "start_time": "2021-09-28T06:49:12.111Z"
   },
   {
    "duration": 737,
    "start_time": "2021-09-28T06:49:19.995Z"
   },
   {
    "duration": 868,
    "start_time": "2021-09-28T06:49:26.936Z"
   },
   {
    "duration": 262,
    "start_time": "2021-09-28T06:51:32.420Z"
   },
   {
    "duration": 6,
    "start_time": "2021-09-28T06:51:54.923Z"
   },
   {
    "duration": 18,
    "start_time": "2021-09-28T06:54:16.100Z"
   },
   {
    "duration": 19,
    "start_time": "2021-09-28T06:54:28.054Z"
   },
   {
    "duration": 6,
    "start_time": "2021-09-28T06:54:30.042Z"
   },
   {
    "duration": 18,
    "start_time": "2021-09-28T06:55:03.615Z"
   },
   {
    "duration": 3,
    "start_time": "2021-09-28T06:56:10.663Z"
   },
   {
    "duration": 5,
    "start_time": "2021-09-28T06:56:20.861Z"
   },
   {
    "duration": 6,
    "start_time": "2021-09-28T06:56:23.814Z"
   },
   {
    "duration": 3,
    "start_time": "2021-09-28T06:56:28.627Z"
   },
   {
    "duration": 5,
    "start_time": "2021-09-28T06:59:02.620Z"
   },
   {
    "duration": 4,
    "start_time": "2021-09-28T06:59:35.109Z"
   },
   {
    "duration": 23,
    "start_time": "2021-09-28T07:00:04.274Z"
   },
   {
    "duration": 19,
    "start_time": "2021-09-28T07:06:14.842Z"
   },
   {
    "duration": 46,
    "start_time": "2021-09-28T07:09:39.800Z"
   },
   {
    "duration": 18,
    "start_time": "2021-09-28T07:11:21.555Z"
   },
   {
    "duration": 15,
    "start_time": "2021-09-28T07:11:26.461Z"
   },
   {
    "duration": 44,
    "start_time": "2021-09-28T07:11:36.169Z"
   },
   {
    "duration": 99,
    "start_time": "2021-09-28T07:12:42.934Z"
   },
   {
    "duration": 6,
    "start_time": "2021-09-28T07:13:16.517Z"
   },
   {
    "duration": 8,
    "start_time": "2021-09-28T07:13:45.509Z"
   },
   {
    "duration": 8,
    "start_time": "2021-09-28T07:14:02.465Z"
   },
   {
    "duration": 5,
    "start_time": "2021-09-28T07:14:19.675Z"
   },
   {
    "duration": 6,
    "start_time": "2021-09-28T07:14:29.761Z"
   },
   {
    "duration": 5,
    "start_time": "2021-09-28T07:14:42.172Z"
   },
   {
    "duration": 6,
    "start_time": "2021-09-28T07:14:48.231Z"
   },
   {
    "duration": 15,
    "start_time": "2021-09-28T07:14:55.485Z"
   },
   {
    "duration": 1499,
    "start_time": "2021-09-28T07:14:59.121Z"
   },
   {
    "duration": 1264,
    "start_time": "2021-09-28T07:16:05.760Z"
   },
   {
    "duration": 100,
    "start_time": "2021-09-28T07:16:31.499Z"
   },
   {
    "duration": 6,
    "start_time": "2021-09-28T07:16:36.480Z"
   },
   {
    "duration": 9,
    "start_time": "2021-09-28T07:16:38.324Z"
   },
   {
    "duration": 7,
    "start_time": "2021-09-28T07:16:40.252Z"
   },
   {
    "duration": 5,
    "start_time": "2021-09-28T07:16:42.583Z"
   },
   {
    "duration": 6,
    "start_time": "2021-09-28T07:16:44.289Z"
   },
   {
    "duration": 6,
    "start_time": "2021-09-28T07:16:46.742Z"
   },
   {
    "duration": 6,
    "start_time": "2021-09-28T07:16:48.829Z"
   },
   {
    "duration": 13,
    "start_time": "2021-09-28T07:16:50.662Z"
   },
   {
    "duration": 1314,
    "start_time": "2021-09-28T07:16:52.669Z"
   },
   {
    "duration": 14,
    "start_time": "2021-09-28T07:17:21.393Z"
   },
   {
    "duration": 49,
    "start_time": "2021-09-28T07:17:26.859Z"
   },
   {
    "duration": 1264,
    "start_time": "2021-09-28T07:17:32.939Z"
   },
   {
    "duration": 25,
    "start_time": "2021-09-28T07:18:09.962Z"
   },
   {
    "duration": 392,
    "start_time": "2021-09-28T07:18:12.668Z"
   },
   {
    "duration": 2663,
    "start_time": "2021-09-28T07:18:31.029Z"
   },
   {
    "duration": 102,
    "start_time": "2021-09-28T07:19:00.001Z"
   },
   {
    "duration": 7,
    "start_time": "2021-09-28T07:19:05.509Z"
   },
   {
    "duration": 9,
    "start_time": "2021-09-28T07:19:07.184Z"
   },
   {
    "duration": 7,
    "start_time": "2021-09-28T07:19:08.837Z"
   },
   {
    "duration": 5,
    "start_time": "2021-09-28T07:19:11.590Z"
   },
   {
    "duration": 6,
    "start_time": "2021-09-28T07:19:13.263Z"
   },
   {
    "duration": 6,
    "start_time": "2021-09-28T07:19:15.430Z"
   },
   {
    "duration": 5,
    "start_time": "2021-09-28T07:19:17.129Z"
   },
   {
    "duration": 45,
    "start_time": "2021-09-28T07:19:20.521Z"
   },
   {
    "duration": 1403,
    "start_time": "2021-09-28T07:19:25.277Z"
   },
   {
    "duration": 10,
    "start_time": "2021-09-28T07:19:42.784Z"
   },
   {
    "duration": 9643,
    "start_time": "2021-09-28T07:19:46.071Z"
   },
   {
    "duration": 29,
    "start_time": "2021-09-28T07:25:40.974Z"
   },
   {
    "duration": 302,
    "start_time": "2021-09-28T07:25:42.808Z"
   },
   {
    "duration": 9497,
    "start_time": "2021-09-28T07:25:50.551Z"
   },
   {
    "duration": 26,
    "start_time": "2021-09-28T07:26:11.685Z"
   },
   {
    "duration": 279,
    "start_time": "2021-09-28T07:26:31.578Z"
   },
   {
    "duration": 24,
    "start_time": "2021-09-28T07:26:35.026Z"
   },
   {
    "duration": 6,
    "start_time": "2021-09-28T07:26:53.836Z"
   },
   {
    "duration": 6,
    "start_time": "2021-09-28T07:26:56.912Z"
   },
   {
    "duration": 5,
    "start_time": "2021-09-28T07:27:24.360Z"
   },
   {
    "duration": 5,
    "start_time": "2021-09-28T07:27:29.816Z"
   },
   {
    "duration": 5,
    "start_time": "2021-09-28T07:27:35.243Z"
   },
   {
    "duration": 56,
    "start_time": "2021-09-28T07:27:37.387Z"
   },
   {
    "duration": 14,
    "start_time": "2021-09-28T07:27:40.958Z"
   },
   {
    "duration": 449,
    "start_time": "2021-09-28T07:28:14.672Z"
   },
   {
    "duration": 16,
    "start_time": "2021-09-28T07:28:27.276Z"
   },
   {
    "duration": 45,
    "start_time": "2021-09-28T07:28:34.394Z"
   },
   {
    "duration": 43,
    "start_time": "2021-09-28T07:28:59.688Z"
   },
   {
    "duration": 15,
    "start_time": "2021-09-28T07:29:05.293Z"
   },
   {
    "duration": 47,
    "start_time": "2021-09-28T07:31:17.323Z"
   },
   {
    "duration": 97,
    "start_time": "2021-09-28T07:33:02.583Z"
   },
   {
    "duration": 5,
    "start_time": "2021-09-28T07:33:09.016Z"
   },
   {
    "duration": 9,
    "start_time": "2021-09-28T07:33:11.197Z"
   },
   {
    "duration": 7,
    "start_time": "2021-09-28T07:33:13.142Z"
   },
   {
    "duration": 5,
    "start_time": "2021-09-28T07:33:15.538Z"
   },
   {
    "duration": 5,
    "start_time": "2021-09-28T07:33:17.229Z"
   },
   {
    "duration": 6,
    "start_time": "2021-09-28T07:33:19.689Z"
   },
   {
    "duration": 5,
    "start_time": "2021-09-28T07:33:22.025Z"
   },
   {
    "duration": 11,
    "start_time": "2021-09-28T07:33:24.019Z"
   },
   {
    "duration": 9657,
    "start_time": "2021-09-28T07:33:27.145Z"
   },
   {
    "duration": 30,
    "start_time": "2021-09-28T07:33:47.445Z"
   },
   {
    "duration": 7451,
    "start_time": "2021-09-28T07:34:21.425Z"
   },
   {
    "duration": 264,
    "start_time": "2021-09-28T07:35:12.165Z"
   },
   {
    "duration": 5,
    "start_time": "2021-09-28T07:35:19.871Z"
   },
   {
    "duration": 5,
    "start_time": "2021-09-28T07:35:23.129Z"
   },
   {
    "duration": 7,
    "start_time": "2021-09-28T07:35:27.302Z"
   },
   {
    "duration": 6,
    "start_time": "2021-09-28T07:35:30.009Z"
   },
   {
    "duration": 58,
    "start_time": "2021-09-28T07:35:31.887Z"
   },
   {
    "duration": 15,
    "start_time": "2021-09-28T07:35:57.681Z"
   },
   {
    "duration": 391,
    "start_time": "2021-09-28T07:36:21.188Z"
   },
   {
    "duration": 15,
    "start_time": "2021-09-28T07:36:24.721Z"
   },
   {
    "duration": 246,
    "start_time": "2021-09-28T07:36:58.756Z"
   },
   {
    "duration": 47,
    "start_time": "2021-09-28T07:37:02.883Z"
   },
   {
    "duration": 9,
    "start_time": "2021-09-28T07:40:16.918Z"
   },
   {
    "duration": 18,
    "start_time": "2021-09-28T07:40:20.114Z"
   },
   {
    "duration": 368,
    "start_time": "2021-09-28T07:40:42.281Z"
   },
   {
    "duration": 16,
    "start_time": "2021-09-28T07:40:45.119Z"
   },
   {
    "duration": 155,
    "start_time": "2021-09-28T07:41:15.481Z"
   },
   {
    "duration": 8,
    "start_time": "2021-09-28T07:41:22.335Z"
   },
   {
    "duration": 14,
    "start_time": "2021-09-28T07:41:24.121Z"
   },
   {
    "duration": 11,
    "start_time": "2021-09-28T07:41:25.810Z"
   },
   {
    "duration": 7,
    "start_time": "2021-09-28T07:41:28.156Z"
   },
   {
    "duration": 8,
    "start_time": "2021-09-28T07:41:29.697Z"
   },
   {
    "duration": 6,
    "start_time": "2021-09-28T07:41:31.874Z"
   },
   {
    "duration": 5,
    "start_time": "2021-09-28T07:41:34.390Z"
   },
   {
    "duration": 13,
    "start_time": "2021-09-28T07:41:36.803Z"
   },
   {
    "duration": 10772,
    "start_time": "2021-09-28T07:41:48.717Z"
   },
   {
    "duration": 30,
    "start_time": "2021-09-28T07:42:03.044Z"
   },
   {
    "duration": 6,
    "start_time": "2021-09-28T07:42:05.031Z"
   },
   {
    "duration": 5,
    "start_time": "2021-09-28T07:42:07.575Z"
   },
   {
    "duration": 4,
    "start_time": "2021-09-28T07:42:13.427Z"
   },
   {
    "duration": 5,
    "start_time": "2021-09-28T07:42:15.761Z"
   },
   {
    "duration": 9,
    "start_time": "2021-09-28T07:42:17.629Z"
   },
   {
    "duration": 17,
    "start_time": "2021-09-28T07:42:19.493Z"
   },
   {
    "duration": 520,
    "start_time": "2021-09-28T07:42:26.624Z"
   },
   {
    "duration": 16,
    "start_time": "2021-09-28T07:42:29.680Z"
   },
   {
    "duration": 24,
    "start_time": "2021-09-28T07:42:35.759Z"
   },
   {
    "duration": 4,
    "start_time": "2021-09-28T07:42:38.936Z"
   },
   {
    "duration": 12,
    "start_time": "2021-09-28T07:42:40.452Z"
   },
   {
    "duration": 461,
    "start_time": "2021-09-28T07:42:42.206Z"
   },
   {
    "duration": 5,
    "start_time": "2021-09-28T07:42:45.207Z"
   },
   {
    "duration": 362,
    "start_time": "2021-09-28T07:42:50.348Z"
   },
   {
    "duration": 289,
    "start_time": "2021-09-28T07:42:54.502Z"
   },
   {
    "duration": 288,
    "start_time": "2021-09-28T07:42:57.970Z"
   },
   {
    "duration": 354,
    "start_time": "2021-09-28T07:43:02.413Z"
   },
   {
    "duration": 481,
    "start_time": "2021-09-28T07:43:06.223Z"
   },
   {
    "duration": 5,
    "start_time": "2021-09-28T07:43:09.364Z"
   },
   {
    "duration": 14,
    "start_time": "2021-09-28T07:43:12.055Z"
   },
   {
    "duration": 10,
    "start_time": "2021-09-28T07:43:13.644Z"
   },
   {
    "duration": 9,
    "start_time": "2021-09-28T07:43:15.507Z"
   },
   {
    "duration": 380,
    "start_time": "2021-09-28T07:43:17.774Z"
   },
   {
    "duration": 15,
    "start_time": "2021-09-28T07:43:25.324Z"
   },
   {
    "duration": 12,
    "start_time": "2021-09-28T07:43:28.135Z"
   },
   {
    "duration": 6422,
    "start_time": "2021-09-28T07:43:30.729Z"
   },
   {
    "duration": 1226,
    "start_time": "2021-09-28T07:43:40.236Z"
   },
   {
    "duration": 5679,
    "start_time": "2021-09-28T07:43:45.358Z"
   },
   {
    "duration": 8,
    "start_time": "2021-09-28T07:43:54.821Z"
   },
   {
    "duration": 2305,
    "start_time": "2021-09-28T07:43:57.754Z"
   },
   {
    "duration": 2501,
    "start_time": "2021-09-28T07:44:02.317Z"
   },
   {
    "duration": 227,
    "start_time": "2021-09-28T07:44:08.907Z"
   },
   {
    "duration": 8,
    "start_time": "2021-09-28T07:44:14.353Z"
   },
   {
    "duration": 735,
    "start_time": "2021-09-28T07:44:16.094Z"
   },
   {
    "duration": 932,
    "start_time": "2021-09-28T07:44:20.326Z"
   },
   {
    "duration": 743,
    "start_time": "2021-09-28T07:44:23.944Z"
   },
   {
    "duration": 790,
    "start_time": "2021-09-28T07:44:27.134Z"
   },
   {
    "duration": 2068,
    "start_time": "2021-09-28T07:44:31.751Z"
   },
   {
    "duration": 102,
    "start_time": "2021-09-28T07:49:50.995Z"
   },
   {
    "duration": 8,
    "start_time": "2021-09-28T07:49:57.456Z"
   },
   {
    "duration": 12,
    "start_time": "2021-09-28T07:49:59.045Z"
   },
   {
    "duration": 7,
    "start_time": "2021-09-28T07:50:00.461Z"
   },
   {
    "duration": 5,
    "start_time": "2021-09-28T07:50:02.984Z"
   },
   {
    "duration": 7,
    "start_time": "2021-09-28T07:50:04.751Z"
   },
   {
    "duration": 6,
    "start_time": "2021-09-28T07:50:06.432Z"
   },
   {
    "duration": 6,
    "start_time": "2021-09-28T07:50:09.392Z"
   },
   {
    "duration": 13,
    "start_time": "2021-09-28T07:50:10.987Z"
   },
   {
    "duration": 9988,
    "start_time": "2021-09-28T07:50:13.423Z"
   },
   {
    "duration": 31,
    "start_time": "2021-09-28T07:50:27.419Z"
   },
   {
    "duration": 5,
    "start_time": "2021-09-28T07:50:29.813Z"
   },
   {
    "duration": 5,
    "start_time": "2021-09-28T07:50:32.569Z"
   },
   {
    "duration": 4,
    "start_time": "2021-09-28T07:50:36.258Z"
   },
   {
    "duration": 6,
    "start_time": "2021-09-28T07:50:38.827Z"
   },
   {
    "duration": 13,
    "start_time": "2021-09-28T07:51:29.897Z"
   },
   {
    "duration": 17,
    "start_time": "2021-09-28T07:51:32.625Z"
   },
   {
    "duration": 11,
    "start_time": "2021-09-28T07:53:00.894Z"
   },
   {
    "duration": 17,
    "start_time": "2021-09-28T07:53:03.411Z"
   },
   {
    "duration": 361,
    "start_time": "2021-09-28T07:53:17.565Z"
   },
   {
    "duration": 17,
    "start_time": "2021-09-28T07:53:20.391Z"
   },
   {
    "duration": 1341,
    "start_time": "2021-09-28T10:16:43.880Z"
   },
   {
    "duration": 14,
    "start_time": "2021-09-28T10:17:07.302Z"
   },
   {
    "duration": 13,
    "start_time": "2021-09-28T10:17:12.158Z"
   },
   {
    "duration": 10,
    "start_time": "2021-09-28T10:17:15.740Z"
   },
   {
    "duration": 6,
    "start_time": "2021-09-28T10:17:45.643Z"
   },
   {
    "duration": 9,
    "start_time": "2021-09-28T10:17:46.102Z"
   },
   {
    "duration": 8,
    "start_time": "2021-09-28T10:17:54.936Z"
   },
   {
    "duration": 8,
    "start_time": "2021-09-28T10:18:00.315Z"
   },
   {
    "duration": 16,
    "start_time": "2021-09-28T10:18:01.310Z"
   },
   {
    "duration": 15190,
    "start_time": "2021-09-28T10:18:04.531Z"
   },
   {
    "duration": 40,
    "start_time": "2021-09-28T10:18:23.487Z"
   },
   {
    "duration": 8,
    "start_time": "2021-09-28T10:18:26.103Z"
   },
   {
    "duration": 8,
    "start_time": "2021-09-28T10:18:28.540Z"
   },
   {
    "duration": 7,
    "start_time": "2021-09-28T10:18:33.537Z"
   },
   {
    "duration": 6,
    "start_time": "2021-09-28T10:18:35.699Z"
   },
   {
    "duration": 24,
    "start_time": "2021-09-28T10:18:39.830Z"
   },
   {
    "duration": 38,
    "start_time": "2021-09-28T10:18:41.947Z"
   },
   {
    "duration": 714,
    "start_time": "2021-09-28T10:18:46.552Z"
   },
   {
    "duration": 34,
    "start_time": "2021-09-28T10:18:51.061Z"
   },
   {
    "duration": 36,
    "start_time": "2021-09-28T10:18:58.371Z"
   },
   {
    "duration": 6,
    "start_time": "2021-09-28T10:19:06.788Z"
   },
   {
    "duration": 17,
    "start_time": "2021-09-28T10:19:08.345Z"
   },
   {
    "duration": 804,
    "start_time": "2021-09-28T10:19:10.645Z"
   },
   {
    "duration": 7,
    "start_time": "2021-09-28T10:19:13.827Z"
   },
   {
    "duration": 619,
    "start_time": "2021-09-28T10:19:16.777Z"
   },
   {
    "duration": 745,
    "start_time": "2021-09-28T10:19:20.697Z"
   },
   {
    "duration": 481,
    "start_time": "2021-09-28T10:19:24.883Z"
   },
   {
    "duration": 609,
    "start_time": "2021-09-28T10:19:28.023Z"
   },
   {
    "duration": 717,
    "start_time": "2021-09-28T10:19:32.288Z"
   },
   {
    "duration": 7,
    "start_time": "2021-09-28T10:19:42.297Z"
   },
   {
    "duration": 18,
    "start_time": "2021-09-28T10:19:44.470Z"
   },
   {
    "duration": 12,
    "start_time": "2021-09-28T10:19:46.140Z"
   },
   {
    "duration": 76,
    "start_time": "2021-09-28T10:20:02.283Z"
   },
   {
    "duration": 620,
    "start_time": "2021-09-28T10:20:02.714Z"
   },
   {
    "duration": 24,
    "start_time": "2021-09-28T10:20:09.497Z"
   },
   {
    "duration": 21,
    "start_time": "2021-09-28T10:20:11.676Z"
   },
   {
    "duration": 8419,
    "start_time": "2021-09-28T10:20:14.273Z"
   },
   {
    "duration": 1969,
    "start_time": "2021-09-28T10:20:32.708Z"
   },
   {
    "duration": 8679,
    "start_time": "2021-09-28T10:20:40.241Z"
   },
   {
    "duration": 11,
    "start_time": "2021-09-28T10:20:55.358Z"
   },
   {
    "duration": 4009,
    "start_time": "2021-09-28T10:20:58.060Z"
   },
   {
    "duration": 4332,
    "start_time": "2021-09-28T10:21:05.978Z"
   },
   {
    "duration": 378,
    "start_time": "2021-09-28T10:21:14.156Z"
   },
   {
    "duration": 9,
    "start_time": "2021-09-28T10:21:27.968Z"
   },
   {
    "duration": 1905,
    "start_time": "2021-09-28T10:21:28.641Z"
   },
   {
    "duration": 1280,
    "start_time": "2021-09-28T10:26:31.368Z"
   },
   {
    "duration": 2643,
    "start_time": "2021-09-28T10:27:21.219Z"
   },
   {
    "duration": 4220,
    "start_time": "2021-09-28T10:28:36.867Z"
   },
   {
    "duration": 3939,
    "start_time": "2021-09-28T10:28:51.098Z"
   },
   {
    "duration": 3715,
    "start_time": "2021-09-28T10:29:08.002Z"
   },
   {
    "duration": 1193,
    "start_time": "2021-09-28T12:06:23.152Z"
   },
   {
    "duration": 15,
    "start_time": "2021-09-28T12:06:31.190Z"
   },
   {
    "duration": 12,
    "start_time": "2021-09-28T12:06:33.820Z"
   },
   {
    "duration": 11,
    "start_time": "2021-09-28T12:06:36.299Z"
   },
   {
    "duration": 6,
    "start_time": "2021-09-28T12:06:38.003Z"
   },
   {
    "duration": 7,
    "start_time": "2021-09-28T12:06:40.272Z"
   },
   {
    "duration": 8,
    "start_time": "2021-09-28T12:06:42.165Z"
   },
   {
    "duration": 8,
    "start_time": "2021-09-28T12:06:45.275Z"
   },
   {
    "duration": 18,
    "start_time": "2021-09-28T12:06:47.340Z"
   },
   {
    "duration": 14121,
    "start_time": "2021-09-28T12:06:49.792Z"
   },
   {
    "duration": 35,
    "start_time": "2021-09-28T12:07:06.925Z"
   },
   {
    "duration": 8,
    "start_time": "2021-09-28T12:07:08.255Z"
   },
   {
    "duration": 7,
    "start_time": "2021-09-28T12:07:10.514Z"
   },
   {
    "duration": 7,
    "start_time": "2021-09-28T12:07:13.192Z"
   },
   {
    "duration": 6,
    "start_time": "2021-09-28T12:07:15.641Z"
   },
   {
    "duration": 19,
    "start_time": "2021-09-28T12:07:17.002Z"
   },
   {
    "duration": 23,
    "start_time": "2021-09-28T12:07:19.550Z"
   },
   {
    "duration": 620,
    "start_time": "2021-09-28T12:07:22.430Z"
   },
   {
    "duration": 20,
    "start_time": "2021-09-28T12:07:25.452Z"
   },
   {
    "duration": 40,
    "start_time": "2021-09-28T12:07:28.370Z"
   },
   {
    "duration": 6,
    "start_time": "2021-09-28T12:07:31.115Z"
   },
   {
    "duration": 23,
    "start_time": "2021-09-28T12:07:32.789Z"
   },
   {
    "duration": 830,
    "start_time": "2021-09-28T12:07:34.303Z"
   },
   {
    "duration": 8,
    "start_time": "2021-09-28T12:07:37.135Z"
   },
   {
    "duration": 856,
    "start_time": "2021-09-28T12:07:39.322Z"
   },
   {
    "duration": 631,
    "start_time": "2021-09-28T12:07:42.666Z"
   },
   {
    "duration": 475,
    "start_time": "2021-09-28T12:07:52.187Z"
   },
   {
    "duration": 602,
    "start_time": "2021-09-28T12:07:55.275Z"
   },
   {
    "duration": 7,
    "start_time": "2021-09-28T12:08:06.491Z"
   },
   {
    "duration": 20,
    "start_time": "2021-09-28T12:08:09.834Z"
   },
   {
    "duration": 12,
    "start_time": "2021-09-28T12:08:12.354Z"
   },
   {
    "duration": 11,
    "start_time": "2021-09-28T12:08:14.286Z"
   },
   {
    "duration": 622,
    "start_time": "2021-09-28T12:08:15.703Z"
   },
   {
    "duration": 19,
    "start_time": "2021-09-28T12:08:21.059Z"
   },
   {
    "duration": 18,
    "start_time": "2021-09-28T12:08:22.622Z"
   },
   {
    "duration": 9125,
    "start_time": "2021-09-28T12:08:24.464Z"
   },
   {
    "duration": 1802,
    "start_time": "2021-09-28T12:08:46.629Z"
   },
   {
    "duration": 8619,
    "start_time": "2021-09-28T12:08:50.908Z"
   },
   {
    "duration": 11,
    "start_time": "2021-09-28T12:09:04.843Z"
   },
   {
    "duration": 4888,
    "start_time": "2021-09-28T12:09:06.973Z"
   },
   {
    "duration": 4446,
    "start_time": "2021-09-28T12:09:14.518Z"
   },
   {
    "duration": 372,
    "start_time": "2021-09-28T12:09:22.230Z"
   },
   {
    "duration": 11,
    "start_time": "2021-09-28T12:09:26.303Z"
   },
   {
    "duration": 2328,
    "start_time": "2021-09-28T12:09:28.267Z"
   },
   {
    "duration": 2333,
    "start_time": "2021-09-28T12:10:58.425Z"
   },
   {
    "duration": 4763,
    "start_time": "2021-09-28T12:15:47.290Z"
   },
   {
    "duration": 330,
    "start_time": "2021-09-29T06:18:51.324Z"
   },
   {
    "duration": 1014,
    "start_time": "2021-09-29T06:18:57.292Z"
   },
   {
    "duration": 14,
    "start_time": "2021-09-29T06:19:03.573Z"
   },
   {
    "duration": 11,
    "start_time": "2021-09-29T06:19:05.525Z"
   },
   {
    "duration": 9,
    "start_time": "2021-09-29T06:19:07.393Z"
   },
   {
    "duration": 6,
    "start_time": "2021-09-29T06:19:09.854Z"
   },
   {
    "duration": 7,
    "start_time": "2021-09-29T06:19:11.609Z"
   },
   {
    "duration": 7,
    "start_time": "2021-09-29T06:19:13.787Z"
   },
   {
    "duration": 7,
    "start_time": "2021-09-29T06:19:16.698Z"
   },
   {
    "duration": 15,
    "start_time": "2021-09-29T06:19:18.499Z"
   },
   {
    "duration": 14134,
    "start_time": "2021-09-29T06:19:24.073Z"
   },
   {
    "duration": 1038,
    "start_time": "2022-01-18T11:21:57.139Z"
   },
   {
    "duration": 13,
    "start_time": "2022-01-18T11:21:58.180Z"
   },
   {
    "duration": 14,
    "start_time": "2022-01-18T11:21:58.196Z"
   },
   {
    "duration": 14,
    "start_time": "2022-01-18T11:21:58.212Z"
   },
   {
    "duration": 5,
    "start_time": "2022-01-18T11:21:58.228Z"
   },
   {
    "duration": 40,
    "start_time": "2022-01-18T11:21:58.235Z"
   },
   {
    "duration": 12,
    "start_time": "2022-01-18T11:21:58.278Z"
   },
   {
    "duration": 14,
    "start_time": "2022-01-18T11:21:58.293Z"
   },
   {
    "duration": 17,
    "start_time": "2022-01-18T11:21:58.310Z"
   },
   {
    "duration": 15392,
    "start_time": "2022-01-18T11:21:58.329Z"
   },
   {
    "duration": 9,
    "start_time": "2022-01-18T11:22:13.725Z"
   },
   {
    "duration": 11,
    "start_time": "2022-01-18T11:22:13.737Z"
   },
   {
    "duration": 8,
    "start_time": "2022-01-18T11:22:13.770Z"
   },
   {
    "duration": 8,
    "start_time": "2022-01-18T11:22:13.781Z"
   },
   {
    "duration": 394,
    "start_time": "2022-01-18T11:22:13.792Z"
   },
   {
    "duration": 5,
    "start_time": "2022-01-18T11:22:14.186Z"
   },
   {
    "duration": 4,
    "start_time": "2022-01-18T11:22:14.189Z"
   },
   {
    "duration": 3,
    "start_time": "2022-01-18T11:22:14.192Z"
   },
   {
    "duration": 2,
    "start_time": "2022-01-18T11:22:14.195Z"
   },
   {
    "duration": 1,
    "start_time": "2022-01-18T11:22:14.198Z"
   },
   {
    "duration": 1,
    "start_time": "2022-01-18T11:22:14.200Z"
   },
   {
    "duration": -1,
    "start_time": "2022-01-18T11:22:14.204Z"
   },
   {
    "duration": -2,
    "start_time": "2022-01-18T11:22:14.207Z"
   },
   {
    "duration": -3,
    "start_time": "2022-01-18T11:22:14.210Z"
   },
   {
    "duration": -4,
    "start_time": "2022-01-18T11:22:14.213Z"
   },
   {
    "duration": -5,
    "start_time": "2022-01-18T11:22:14.216Z"
   },
   {
    "duration": -8,
    "start_time": "2022-01-18T11:22:14.220Z"
   },
   {
    "duration": -15,
    "start_time": "2022-01-18T11:22:14.229Z"
   },
   {
    "duration": -21,
    "start_time": "2022-01-18T11:22:14.237Z"
   },
   {
    "duration": -24,
    "start_time": "2022-01-18T11:22:14.242Z"
   },
   {
    "duration": -26,
    "start_time": "2022-01-18T11:22:14.246Z"
   },
   {
    "duration": -26,
    "start_time": "2022-01-18T11:22:14.248Z"
   },
   {
    "duration": 20,
    "start_time": "2022-01-18T11:22:14.251Z"
   },
   {
    "duration": 19,
    "start_time": "2022-01-18T11:22:14.254Z"
   },
   {
    "duration": 17,
    "start_time": "2022-01-18T11:22:14.258Z"
   },
   {
    "duration": 15,
    "start_time": "2022-01-18T11:22:14.262Z"
   },
   {
    "duration": 14,
    "start_time": "2022-01-18T11:22:14.265Z"
   },
   {
    "duration": 13,
    "start_time": "2022-01-18T11:22:14.268Z"
   },
   {
    "duration": 5,
    "start_time": "2022-01-18T11:22:14.278Z"
   },
   {
    "duration": 5,
    "start_time": "2022-01-18T11:22:14.281Z"
   },
   {
    "duration": 5,
    "start_time": "2022-01-18T11:22:14.283Z"
   },
   {
    "duration": 4,
    "start_time": "2022-01-18T11:22:14.286Z"
   },
   {
    "duration": 3,
    "start_time": "2022-01-18T11:22:14.289Z"
   },
   {
    "duration": 3,
    "start_time": "2022-01-18T11:22:14.292Z"
   },
   {
    "duration": 1,
    "start_time": "2022-01-18T11:22:14.296Z"
   },
   {
    "duration": 985,
    "start_time": "2022-01-18T11:25:37.722Z"
   },
   {
    "duration": 10,
    "start_time": "2022-01-18T11:25:38.709Z"
   },
   {
    "duration": 20,
    "start_time": "2022-01-18T11:25:38.722Z"
   },
   {
    "duration": 29,
    "start_time": "2022-01-18T11:25:38.744Z"
   },
   {
    "duration": 6,
    "start_time": "2022-01-18T11:25:38.775Z"
   },
   {
    "duration": 7,
    "start_time": "2022-01-18T11:25:38.784Z"
   },
   {
    "duration": 6,
    "start_time": "2022-01-18T11:25:38.793Z"
   },
   {
    "duration": 8,
    "start_time": "2022-01-18T11:25:38.803Z"
   },
   {
    "duration": 67,
    "start_time": "2022-01-18T11:25:38.814Z"
   },
   {
    "duration": 14713,
    "start_time": "2022-01-18T11:25:38.884Z"
   },
   {
    "duration": 38,
    "start_time": "2022-01-18T11:25:53.601Z"
   },
   {
    "duration": 51,
    "start_time": "2022-01-18T11:25:53.642Z"
   },
   {
    "duration": 21,
    "start_time": "2022-01-18T11:25:53.695Z"
   },
   {
    "duration": 11,
    "start_time": "2022-01-18T11:25:53.719Z"
   },
   {
    "duration": 11,
    "start_time": "2022-01-18T11:25:53.733Z"
   },
   {
    "duration": 22,
    "start_time": "2022-01-18T11:25:53.747Z"
   },
   {
    "duration": 22,
    "start_time": "2022-01-18T11:25:53.771Z"
   },
   {
    "duration": 655,
    "start_time": "2022-01-18T11:25:53.796Z"
   },
   {
    "duration": 34,
    "start_time": "2022-01-18T11:25:54.453Z"
   },
   {
    "duration": 38,
    "start_time": "2022-01-18T11:25:54.490Z"
   },
   {
    "duration": 10,
    "start_time": "2022-01-18T11:25:54.530Z"
   },
   {
    "duration": 20,
    "start_time": "2022-01-18T11:25:54.571Z"
   },
   {
    "duration": 1129,
    "start_time": "2022-01-18T11:25:54.598Z"
   },
   {
    "duration": 8,
    "start_time": "2022-01-18T11:25:55.731Z"
   },
   {
    "duration": 732,
    "start_time": "2022-01-18T11:25:55.741Z"
   },
   {
    "duration": 503,
    "start_time": "2022-01-18T11:25:56.475Z"
   },
   {
    "duration": 502,
    "start_time": "2022-01-18T11:25:56.981Z"
   },
   {
    "duration": 612,
    "start_time": "2022-01-18T11:25:57.486Z"
   },
   {
    "duration": 655,
    "start_time": "2022-01-18T11:25:58.101Z"
   },
   {
    "duration": 11,
    "start_time": "2022-01-18T11:25:58.759Z"
   },
   {
    "duration": 22,
    "start_time": "2022-01-18T11:25:58.772Z"
   },
   {
    "duration": 94,
    "start_time": "2022-01-18T11:25:58.796Z"
   },
   {
    "duration": 9,
    "start_time": "2022-01-18T11:25:58.893Z"
   },
   {
    "duration": 687,
    "start_time": "2022-01-18T11:25:58.905Z"
   },
   {
    "duration": 19,
    "start_time": "2022-01-18T11:25:59.595Z"
   },
   {
    "duration": 25,
    "start_time": "2022-01-18T11:25:59.617Z"
   },
   {
    "duration": 12268,
    "start_time": "2022-01-18T11:25:59.671Z"
   },
   {
    "duration": 2049,
    "start_time": "2022-01-18T11:26:11.941Z"
   },
   {
    "duration": 10651,
    "start_time": "2022-01-18T11:26:13.993Z"
   },
   {
    "duration": 24,
    "start_time": "2022-01-18T11:26:24.647Z"
   },
   {
    "duration": 4045,
    "start_time": "2022-01-18T11:26:24.673Z"
   },
   {
    "duration": 4585,
    "start_time": "2022-01-18T11:26:28.720Z"
   },
   {
    "duration": 396,
    "start_time": "2022-01-18T11:26:33.307Z"
   },
   {
    "duration": 9,
    "start_time": "2022-01-18T11:26:33.706Z"
   },
   {
    "duration": 4882,
    "start_time": "2022-01-18T11:26:33.717Z"
   },
   {
    "duration": 4274,
    "start_time": "2022-01-18T11:26:38.601Z"
   },
   {
    "duration": 3508,
    "start_time": "2022-01-18T11:27:01.337Z"
   }
  ],
  "kernelspec": {
   "display_name": "Python 3",
   "language": "python",
   "name": "python3"
  },
  "language_info": {
   "codemirror_mode": {
    "name": "ipython",
    "version": 3
   },
   "file_extension": ".py",
   "mimetype": "text/x-python",
   "name": "python",
   "nbconvert_exporter": "python",
   "pygments_lexer": "ipython3",
   "version": "3.7.8"
  },
  "toc": {
   "base_numbering": 1,
   "nav_menu": {},
   "number_sections": true,
   "sideBar": true,
   "skip_h1_title": true,
   "title_cell": "Содержание",
   "title_sidebar": "Contents",
   "toc_cell": true,
   "toc_position": {
    "height": "calc(100% - 180px)",
    "left": "10px",
    "top": "150px",
    "width": "165px"
   },
   "toc_section_display": true,
   "toc_window_display": true
  }
 },
 "nbformat": 4,
 "nbformat_minor": 2
}
